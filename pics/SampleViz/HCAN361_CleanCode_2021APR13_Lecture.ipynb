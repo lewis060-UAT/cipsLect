{
    "metadata": {
        "kernelspec": {
            "name": "SQL",
            "display_name": "SQL",
            "language": "sql"
        },
        "language_info": {
            "name": "sql",
            "version": ""
        }
    },
    "nbformat_minor": 2,
    "nbformat": 4,
    "cells": [
        {
            "cell_type": "markdown",
            "source": [
                "# Ecological Correlates of Physical Access to Skilled Nursing Facilities in the United States: Findings From the 2020 Release of The American Hospital Association Database\n",
                "\n",
                "## Introduction\n",
                "\n",
                "- Evidence suggests that aged patients that receive care from medical professionals at nursing home report better health outcomes relative to those receiving care from other providers.\n",
                "    - [https://aspe.hhs.gov/basic-report/physician-practices-nursing-homes-final-report](https://aspe.hhs.gov/basic-report/physician-practices-nursing-homes-final-report)\n",
                "- Moreover, aged patients that receive care in skilled nursing facilities are less likely to receive fragmented care, as they typically receive care in a single facility, which decreases the odds of forms of treatment with contraindications.\n",
                "    - [https://jamanetwork.com/journals/jamainternalmedicine/article-abstract/2643345](https://jamanetwork.com/journals/jamainternalmedicine/article-abstract/2643345)\n",
                "- It is well-documented that family involvement in long-term care, and visitations are positively correlated with improved mental health among aged-patients at skilled nursing facilities.\n",
                "    - [https://www.ncbi.nlm.nih.gov/pmc/articles/PMC2247412/](https://www.ncbi.nlm.nih.gov/pmc/articles/PMC2247412/)\n",
                "- Given these considerations, having skilled nursing facilities in proximity of prospective patients' existing communities has promise in promoting the physical and mental health of aged citizens in the US.\n",
                "- To date, there is limited literature on the spatial distribution of skilled nursing facilities in the US.\n",
                "- The objective of this study is examine physical access to skilled nursing facilities in th US among individuals aged 65 years and older."
            ],
            "metadata": {
                "azdata_cell_guid": "8d7ddab5-04a4-4b2c-bcea-a7958e9a474a"
            }
        },
        {
            "cell_type": "markdown",
            "source": [
                "## Methods\n",
                "\n",
                "- Data on the location and attributes of hospitals in the US comes from the American Hospital Association Database.\n",
                "    - https://www.ahadata.com/ \n",
                "    - Identification of skilled nursing facilities occurs through the column \\[SNHOS\\], which comes from the table \\[dbo\\].\\[as19scv1\\]\n",
                "- Census Tract aggregated population level data comes from the 2014-2018 American Community Survey 5-Year Estimates\n",
                "    - https://www.census.gov/geographies/mapping-files/time-series/geo/tiger-data.html\n",
                "    - Population counts among individuals aged 65 years and older were derived from this data source\n",
                "- The socioeconomic status of the population's census tracts were operationalized using the Area Deprivation Index (ADI)\n",
                "    - https://www.neighborhoodatlas.medicine.wisc.edu/\n",
                "    - In this data source higher scores reflect higher odds of deprivation\n",
                "    - The ADI was categorized into three groups, which go as follows:\n",
                "        - 0-25 high SES\n",
                "        - 25-75 middle SES\n",
                "        - 76+ low SES\n",
                "\n",
                "- Rurality was operationalized using HRSA's Rural Health Area\n",
                "    - https://data.hrsa.gov/topics/rural-health\n",
                "    - This data source categorizes a census tract as rural and non-rural.\n",
                "- ESRI's StreetMap Premium was used to estimate morning weekday travel time between the geometric centroid of each census tract in the US and the skilled nursing facility.\n",
                "- In this analysis, we examined 1) the number of skilled nursing facilities within an hour travel time, and 2) the travel time to the closest skilled nursing facility for each census tract, respectively.\n",
                "- Comparisons were made by SES and rurality within each state in the US."
            ],
            "metadata": {
                "azdata_cell_guid": "ee417161-e28b-4f2a-8da6-30bec6222dd0"
            }
        },
        {
            "cell_type": "code",
            "source": [
                "Use HCAN361_FinalProj\r\n",
                "\r\n",
                "--Step 1: Select the ID's of skilled nursing hospitals\r\n",
                "select ID\r\n",
                "into #key_ID\r\n",
                "from dbo.as19svc1\r\n",
                "where SNHOS=1;\r\n",
                "--744 of these hospitals\r\n",
                "\r\n",
                "--Step 2: Find target population of interest for these services\r\n",
                "--men 65+ --> B01001e20-->B01001e25\r\n",
                "--women 65+ --> B01001e44-->B01001e49\r\n",
                "select GEOID_Data,\r\n",
                "       B01001e20+B01001e21+B01001e22+B01001e23+B01001e24+B01001e25+B01001e44+B01001e45+B01001e46+B01001e47+B01001e48+B01001e49 as pop65plus\r\n",
                "into #pop\r\n",
                "from [dbo].[Census_ACS5Yr_2018]\r\n",
                "order by GEOID_Data;\r\n",
                "\r\n",
                "--Step 3: Rurality and SES Characteristics\r\n",
                "select [GEOID_Data], [State_Name],[HRSA_RURAL],\r\n",
                "case when [Median_ADI_NatRank]<=25 then 2\r\n",
                "     when ([Median_ADI_NatRank]>25 and [Median_ADI_NatRank]<=75) then 1\r\n",
                "\t when [Median_ADI_NatRank]>75 then 0\r\n",
                "\t else 99 end as [ADI]\r\n",
                "into #charac\r\n",
                "from [dbo].[US_Census_Tract_Charac]\r\n",
                "\r\n",
                "--step 4: build matrix\r\n",
                "--Added subquery to reduce tables in code\r\n",
                "select GEOID_Data, count(distinct Provider_ID) as hospitals_win_60min, min([Total_TravelTime]) as closest_skilled_nursing\r\n",
                "into #key_table\r\n",
                "from\r\n",
                "(\r\n",
                "select A.*, B.pop65plus\r\n",
                "FROM [HCAN361_FinalProj].[dbo].[Travel_Matrix] as A\r\n",
                "left join #pop as B on A.GEOID_Data=B.GEOID_Data\r\n",
                "where Provider_ID in (select ID from #key_ID)\r\n",
                "and Total_TravelTime<=60\r\n",
                ") as A\r\n",
                "group by GEOID_Data\r\n",
                "order by GEOID_Data;\r\n",
                "--(57581 rows affected)\r\n",
                "--some census tracts do not have nursing facilities within our criteria\r\n",
                "\r\n",
                "--Final Table For Map\r\n",
                "select  a.GEOID_Data\r\n",
                "      , c.State_Name\r\n",
                "\t  , c.ADI\r\n",
                "\t  , c.HRSA_RURAL\r\n",
                "\t  , a.pop65plus\r\n",
                "      , isnull(b.hospitals_win_60min,0) as  hospitals_win_60min\r\n",
                "\t  , isnull(b.closest_skilled_nursing,361) as closest_skilled_nursing\r\n",
                "into [HCAN361_25].[dbo].[finalMap]\r\n",
                "from #pop as a\r\n",
                "left join #key_table as b on A.GEOID_Data=B.GEOID_Data\r\n",
                "left join #charac as c on A.GEOID_Data=C.GEOID_Data;"
            ],
            "metadata": {
                "azdata_cell_guid": "7c33a96f-cf7f-4bfe-9894-3ea529a18e23"
            },
            "outputs": [
                {
                    "output_type": "display_data",
                    "data": {
                        "text/html": "(744 rows affected)"
                    },
                    "metadata": {}
                },
                {
                    "output_type": "display_data",
                    "data": {
                        "text/html": "(74001 rows affected)"
                    },
                    "metadata": {}
                },
                {
                    "output_type": "display_data",
                    "data": {
                        "text/html": "(74001 rows affected)"
                    },
                    "metadata": {}
                },
                {
                    "output_type": "display_data",
                    "data": {
                        "text/html": "(57581 rows affected)"
                    },
                    "metadata": {}
                },
                {
                    "output_type": "display_data",
                    "data": {
                        "text/html": "(74001 rows affected)"
                    },
                    "metadata": {}
                },
                {
                    "output_type": "display_data",
                    "data": {
                        "text/html": "Total execution time: 00:00:04.329"
                    },
                    "metadata": {}
                }
            ],
            "execution_count": 1
        },
        {
            "cell_type": "code",
            "source": [
                "--Table 1: Median Number of Facilites by Attributes\r\n",
                "select *\r\n",
                "from\r\n",
                "(\r\n",
                "select distinct \r\n",
                "'United States' as State_Name\r\n",
                ",PERCENTILE_CONT(0.5) WITHIN GROUP (ORDER BY hospitals_win_60min)OVER () AS Statewide   \r\n",
                ",PERCENTILE_CONT(0.5) WITHIN GROUP (ORDER BY case when HRSA_RURAL=0 then hospitals_win_60min end) OVER () AS Urban\r\n",
                ",PERCENTILE_CONT(0.5) WITHIN GROUP (ORDER BY case when HRSA_RURAL=1 then hospitals_win_60min end) OVER () AS Rural\r\n",
                ",PERCENTILE_CONT(0.5) WITHIN GROUP (ORDER BY case when ADI=2 then hospitals_win_60min end) OVER () AS [High SES]\r\n",
                ",PERCENTILE_CONT(0.5) WITHIN GROUP (ORDER BY case when ADI=1 then hospitals_win_60min end) OVER () AS [Middle SES]\r\n",
                ",PERCENTILE_CONT(0.5) WITHIN GROUP (ORDER BY case when ADI=0 then hospitals_win_60min end) OVER () AS [Low SES]\r\n",
                "from [HCAN361_25].[dbo].[finalMap]\r\n",
                "\r\n",
                "--below code concatenates (or stacks tables on top of each other)\r\n",
                "union all\r\n",
                "\r\n",
                "select distinct\r\n",
                " State_Name\r\n",
                ",PERCENTILE_CONT(0.5) WITHIN GROUP (ORDER BY hospitals_win_60min)OVER (PARTITION BY State_Name) AS Statewide   \r\n",
                ",PERCENTILE_CONT(0.5) WITHIN GROUP (ORDER BY case when HRSA_RURAL=0 then hospitals_win_60min end) OVER (PARTITION BY State_Name) AS Urban\r\n",
                ",PERCENTILE_CONT(0.5) WITHIN GROUP (ORDER BY case when HRSA_RURAL=1 then hospitals_win_60min end) OVER (PARTITION BY State_Name) AS Rural\r\n",
                ",PERCENTILE_CONT(0.5) WITHIN GROUP (ORDER BY case when ADI=2 then hospitals_win_60min end) OVER (PARTITION BY State_Name) AS [High SES]\r\n",
                ",PERCENTILE_CONT(0.5) WITHIN GROUP (ORDER BY case when ADI=1 then hospitals_win_60min end) OVER (PARTITION BY State_Name) AS [Middle SES]\r\n",
                ",PERCENTILE_CONT(0.5) WITHIN GROUP (ORDER BY case when ADI=0 then hospitals_win_60min end) OVER (PARTITION BY State_Name) AS [Low SES]\r\n",
                "from [HCAN361_25].[dbo].[finalMap]\r\n",
                "\r\n",
                ") as A\r\n",
                "order by State_Name;\r\n",
                ""
            ],
            "metadata": {
                "azdata_cell_guid": "25462a8b-0e34-4d54-a00f-185f7afacd22",
                "tags": []
            },
            "outputs": [
                {
                    "output_type": "display_data",
                    "data": {
                        "text/html": "(53 rows affected)"
                    },
                    "metadata": {}
                },
                {
                    "output_type": "display_data",
                    "data": {
                        "text/html": "Total execution time: 00:00:05.046"
                    },
                    "metadata": {}
                },
                {
                    "output_type": "execute_result",
                    "metadata": {},
                    "execution_count": 2,
                    "data": {
                        "application/vnd.dataresource+json": {
                            "schema": {
                                "fields": [
                                    {
                                        "name": "State_Name"
                                    },
                                    {
                                        "name": "Statewide"
                                    },
                                    {
                                        "name": "Urban"
                                    },
                                    {
                                        "name": "Rural"
                                    },
                                    {
                                        "name": "High SES"
                                    },
                                    {
                                        "name": "Middle SES"
                                    },
                                    {
                                        "name": "Low SES"
                                    }
                                ]
                            },
                            "data": [
                                {
                                    "0": "Alabama",
                                    "1": "1",
                                    "2": "1",
                                    "3": "0",
                                    "4": "1",
                                    "5": "1",
                                    "6": "1"
                                },
                                {
                                    "0": "Alaska",
                                    "1": "0",
                                    "2": "0",
                                    "3": "0",
                                    "4": "0",
                                    "5": "0",
                                    "6": "0"
                                },
                                {
                                    "0": "Arizona",
                                    "1": "1",
                                    "2": "1",
                                    "3": "0",
                                    "4": "1",
                                    "5": "1",
                                    "6": "1"
                                },
                                {
                                    "0": "Arkansas",
                                    "1": "1",
                                    "2": "2",
                                    "3": "1",
                                    "4": "2",
                                    "5": "2",
                                    "6": "1"
                                },
                                {
                                    "0": "California",
                                    "1": "5",
                                    "2": "6",
                                    "3": "0",
                                    "4": "6",
                                    "5": "3",
                                    "6": "2"
                                },
                                {
                                    "0": "Colorado",
                                    "1": "0",
                                    "2": "0",
                                    "3": "0",
                                    "4": "0",
                                    "5": "0",
                                    "6": "0"
                                },
                                {
                                    "0": "Connecticut",
                                    "1": "2",
                                    "2": "2",
                                    "3": "1",
                                    "4": "2",
                                    "5": "2",
                                    "6": "2"
                                },
                                {
                                    "0": "Delaware",
                                    "1": "3",
                                    "2": "5",
                                    "3": "1",
                                    "4": "2",
                                    "5": "4",
                                    "6": "7"
                                },
                                {
                                    "0": "District of Columbia",
                                    "1": "4",
                                    "2": "4",
                                    "3": "NULL",
                                    "4": "4",
                                    "5": "4",
                                    "6": "4"
                                },
                                {
                                    "0": "Florida",
                                    "1": "3",
                                    "2": "3",
                                    "3": "0",
                                    "4": "3",
                                    "5": "3",
                                    "6": "3"
                                },
                                {
                                    "0": "Georgia",
                                    "1": "2",
                                    "2": "3",
                                    "3": "1",
                                    "4": "3",
                                    "5": "2",
                                    "6": "2"
                                },
                                {
                                    "0": "Hawaii",
                                    "1": "1",
                                    "2": "1",
                                    "3": "0",
                                    "4": "1",
                                    "5": "1",
                                    "6": "1"
                                },
                                {
                                    "0": "Idaho",
                                    "1": "0",
                                    "2": "2",
                                    "3": "0",
                                    "4": "1",
                                    "5": "0",
                                    "6": "1"
                                },
                                {
                                    "0": "Illinois",
                                    "1": "5",
                                    "2": "6",
                                    "3": "1",
                                    "4": "7",
                                    "5": "5",
                                    "6": "3"
                                },
                                {
                                    "0": "Indiana",
                                    "1": "2",
                                    "2": "2",
                                    "3": "2",
                                    "4": "3",
                                    "5": "2",
                                    "6": "2"
                                },
                                {
                                    "0": "Iowa",
                                    "1": "5",
                                    "2": "5",
                                    "3": "4",
                                    "4": "5",
                                    "5": "5",
                                    "6": "5"
                                },
                                {
                                    "0": "Kansas",
                                    "1": "4",
                                    "2": "4",
                                    "3": "4",
                                    "4": "4",
                                    "5": "4",
                                    "6": "4"
                                },
                                {
                                    "0": "Kentucky",
                                    "1": "1",
                                    "2": "2",
                                    "3": "1",
                                    "4": "1",
                                    "5": "2",
                                    "6": "1"
                                },
                                {
                                    "0": "Louisiana",
                                    "1": "2",
                                    "2": "3",
                                    "3": "1",
                                    "4": "4",
                                    "5": "3",
                                    "6": "1"
                                },
                                {
                                    "0": "Maine",
                                    "1": "1",
                                    "2": "2",
                                    "3": "1",
                                    "4": "2",
                                    "5": "1",
                                    "6": "1"
                                },
                                {
                                    "0": "Maryland",
                                    "1": "3",
                                    "2": "3",
                                    "3": "1",
                                    "4": "3",
                                    "5": "2",
                                    "6": "3"
                                },
                                {
                                    "0": "Massachusetts",
                                    "1": "3",
                                    "2": "3",
                                    "3": "0",
                                    "4": "3",
                                    "5": "1",
                                    "6": "3"
                                },
                                {
                                    "0": "Michigan",
                                    "1": "3",
                                    "2": "4",
                                    "3": "2",
                                    "4": "4",
                                    "5": "3",
                                    "6": "3"
                                },
                                {
                                    "0": "Minnesota",
                                    "1": "4",
                                    "2": "4",
                                    "3": "2",
                                    "4": "5",
                                    "5": "3",
                                    "6": "4"
                                },
                                {
                                    "0": "Mississippi",
                                    "1": "2",
                                    "2": "2",
                                    "3": "3",
                                    "4": "2",
                                    "5": "2",
                                    "6": "2"
                                },
                                {
                                    "0": "Missouri",
                                    "1": "4",
                                    "2": "4",
                                    "3": "2",
                                    "4": "5",
                                    "5": "4",
                                    "6": "3"
                                },
                                {
                                    "0": "Montana",
                                    "1": "1",
                                    "2": "1",
                                    "3": "1",
                                    "4": "1",
                                    "5": "1",
                                    "6": "1"
                                },
                                {
                                    "0": "Nebraska",
                                    "1": "2",
                                    "2": "2",
                                    "3": "2",
                                    "4": "2",
                                    "5": "2",
                                    "6": "3"
                                },
                                {
                                    "0": "Nevada",
                                    "1": "0",
                                    "2": "0",
                                    "3": "0",
                                    "4": "0",
                                    "5": "0",
                                    "6": "0"
                                },
                                {
                                    "0": "New Hampshire",
                                    "1": "2",
                                    "2": "2",
                                    "3": "2",
                                    "4": "2",
                                    "5": "2",
                                    "6": "1.5"
                                },
                                {
                                    "0": "New Jersey",
                                    "1": "6",
                                    "2": "6",
                                    "3": "3.5",
                                    "4": "5",
                                    "5": "7",
                                    "6": "7"
                                },
                                {
                                    "0": "New Mexico",
                                    "1": "0",
                                    "2": "0",
                                    "3": "0",
                                    "4": "0",
                                    "5": "0",
                                    "6": "0"
                                },
                                {
                                    "0": "New York",
                                    "1": "7",
                                    "2": "8",
                                    "3": "2",
                                    "4": "9",
                                    "5": "4",
                                    "6": "7"
                                },
                                {
                                    "0": "North Carolina",
                                    "1": "2",
                                    "2": "2",
                                    "3": "1",
                                    "4": "2",
                                    "5": "2",
                                    "6": "1"
                                },
                                {
                                    "0": "North Dakota",
                                    "1": "1",
                                    "2": "2",
                                    "3": "1",
                                    "4": "1",
                                    "5": "1",
                                    "6": "1"
                                },
                                {
                                    "0": "Ohio",
                                    "1": "2",
                                    "2": "3",
                                    "3": "2",
                                    "4": "3",
                                    "5": "2",
                                    "6": "3"
                                },
                                {
                                    "0": "Oklahoma",
                                    "1": "1",
                                    "2": "1",
                                    "3": "1",
                                    "4": "1",
                                    "5": "1",
                                    "6": "1"
                                },
                                {
                                    "0": "Oregon",
                                    "1": "0",
                                    "2": "0",
                                    "3": "0",
                                    "4": "0",
                                    "5": "0",
                                    "6": "0"
                                },
                                {
                                    "0": "Pennsylvania",
                                    "1": "3",
                                    "2": "4",
                                    "3": "2",
                                    "4": "6",
                                    "5": "3",
                                    "6": "3"
                                },
                                {
                                    "0": "Puerto Rico",
                                    "1": "0",
                                    "2": "0",
                                    "3": "0",
                                    "4": "0",
                                    "5": "0",
                                    "6": "0"
                                },
                                {
                                    "0": "Rhode Island",
                                    "1": "0",
                                    "2": "0",
                                    "3": "0",
                                    "4": "0",
                                    "5": "0",
                                    "6": "0"
                                },
                                {
                                    "0": "South Carolina",
                                    "1": "2",
                                    "2": "2",
                                    "3": "2",
                                    "4": "1",
                                    "5": "2",
                                    "6": "2"
                                },
                                {
                                    "0": "South Dakota",
                                    "1": "3",
                                    "2": "9",
                                    "3": "2",
                                    "4": "9",
                                    "5": "4",
                                    "6": "1"
                                },
                                {
                                    "0": "Tennessee",
                                    "1": "1",
                                    "2": "2",
                                    "3": "0",
                                    "4": "1",
                                    "5": "1",
                                    "6": "1"
                                },
                                {
                                    "0": "Texas",
                                    "1": "0",
                                    "2": "1",
                                    "3": "0",
                                    "4": "0",
                                    "5": "0",
                                    "6": "0"
                                },
                                {
                                    "0": "United States",
                                    "1": "2",
                                    "2": "3",
                                    "3": "1",
                                    "4": "4",
                                    "5": "2",
                                    "6": "2"
                                },
                                {
                                    "0": "Utah",
                                    "1": "1",
                                    "2": "1",
                                    "3": "0",
                                    "4": "1",
                                    "5": "1",
                                    "6": "1"
                                },
                                {
                                    "0": "Vermont",
                                    "1": "1",
                                    "2": "1",
                                    "3": "0",
                                    "4": "1",
                                    "5": "1",
                                    "6": "NULL"
                                },
                                {
                                    "0": "Virginia",
                                    "1": "1",
                                    "2": "1",
                                    "3": "1",
                                    "4": "2",
                                    "5": "0",
                                    "6": "1"
                                },
                                {
                                    "0": "Washington",
                                    "1": "1",
                                    "2": "1",
                                    "3": "0",
                                    "4": "1",
                                    "5": "0",
                                    "6": "1"
                                },
                                {
                                    "0": "West Virginia",
                                    "1": "2",
                                    "2": "2",
                                    "3": "2",
                                    "4": "2",
                                    "5": "2",
                                    "6": "2"
                                },
                                {
                                    "0": "Wisconsin",
                                    "1": "1",
                                    "2": "1",
                                    "3": "1",
                                    "4": "1",
                                    "5": "1",
                                    "6": "0"
                                },
                                {
                                    "0": "Wyoming",
                                    "1": "0",
                                    "2": "0",
                                    "3": "0",
                                    "4": "0",
                                    "5": "0",
                                    "6": "0"
                                }
                            ]
                        },
                        "text/html": [
                            "<table>",
                            "<tr><th>State_Name</th><th>Statewide</th><th>Urban</th><th>Rural</th><th>High SES</th><th>Middle SES</th><th>Low SES</th></tr>",
                            "<tr><td>Alabama</td><td>1</td><td>1</td><td>0</td><td>1</td><td>1</td><td>1</td></tr>",
                            "<tr><td>Alaska</td><td>0</td><td>0</td><td>0</td><td>0</td><td>0</td><td>0</td></tr>",
                            "<tr><td>Arizona</td><td>1</td><td>1</td><td>0</td><td>1</td><td>1</td><td>1</td></tr>",
                            "<tr><td>Arkansas</td><td>1</td><td>2</td><td>1</td><td>2</td><td>2</td><td>1</td></tr>",
                            "<tr><td>California</td><td>5</td><td>6</td><td>0</td><td>6</td><td>3</td><td>2</td></tr>",
                            "<tr><td>Colorado</td><td>0</td><td>0</td><td>0</td><td>0</td><td>0</td><td>0</td></tr>",
                            "<tr><td>Connecticut</td><td>2</td><td>2</td><td>1</td><td>2</td><td>2</td><td>2</td></tr>",
                            "<tr><td>Delaware</td><td>3</td><td>5</td><td>1</td><td>2</td><td>4</td><td>7</td></tr>",
                            "<tr><td>District of Columbia</td><td>4</td><td>4</td><td>NULL</td><td>4</td><td>4</td><td>4</td></tr>",
                            "<tr><td>Florida</td><td>3</td><td>3</td><td>0</td><td>3</td><td>3</td><td>3</td></tr>",
                            "<tr><td>Georgia</td><td>2</td><td>3</td><td>1</td><td>3</td><td>2</td><td>2</td></tr>",
                            "<tr><td>Hawaii</td><td>1</td><td>1</td><td>0</td><td>1</td><td>1</td><td>1</td></tr>",
                            "<tr><td>Idaho</td><td>0</td><td>2</td><td>0</td><td>1</td><td>0</td><td>1</td></tr>",
                            "<tr><td>Illinois</td><td>5</td><td>6</td><td>1</td><td>7</td><td>5</td><td>3</td></tr>",
                            "<tr><td>Indiana</td><td>2</td><td>2</td><td>2</td><td>3</td><td>2</td><td>2</td></tr>",
                            "<tr><td>Iowa</td><td>5</td><td>5</td><td>4</td><td>5</td><td>5</td><td>5</td></tr>",
                            "<tr><td>Kansas</td><td>4</td><td>4</td><td>4</td><td>4</td><td>4</td><td>4</td></tr>",
                            "<tr><td>Kentucky</td><td>1</td><td>2</td><td>1</td><td>1</td><td>2</td><td>1</td></tr>",
                            "<tr><td>Louisiana</td><td>2</td><td>3</td><td>1</td><td>4</td><td>3</td><td>1</td></tr>",
                            "<tr><td>Maine</td><td>1</td><td>2</td><td>1</td><td>2</td><td>1</td><td>1</td></tr>",
                            "<tr><td>Maryland</td><td>3</td><td>3</td><td>1</td><td>3</td><td>2</td><td>3</td></tr>",
                            "<tr><td>Massachusetts</td><td>3</td><td>3</td><td>0</td><td>3</td><td>1</td><td>3</td></tr>",
                            "<tr><td>Michigan</td><td>3</td><td>4</td><td>2</td><td>4</td><td>3</td><td>3</td></tr>",
                            "<tr><td>Minnesota</td><td>4</td><td>4</td><td>2</td><td>5</td><td>3</td><td>4</td></tr>",
                            "<tr><td>Mississippi</td><td>2</td><td>2</td><td>3</td><td>2</td><td>2</td><td>2</td></tr>",
                            "<tr><td>Missouri</td><td>4</td><td>4</td><td>2</td><td>5</td><td>4</td><td>3</td></tr>",
                            "<tr><td>Montana</td><td>1</td><td>1</td><td>1</td><td>1</td><td>1</td><td>1</td></tr>",
                            "<tr><td>Nebraska</td><td>2</td><td>2</td><td>2</td><td>2</td><td>2</td><td>3</td></tr>",
                            "<tr><td>Nevada</td><td>0</td><td>0</td><td>0</td><td>0</td><td>0</td><td>0</td></tr>",
                            "<tr><td>New Hampshire</td><td>2</td><td>2</td><td>2</td><td>2</td><td>2</td><td>1.5</td></tr>",
                            "<tr><td>New Jersey</td><td>6</td><td>6</td><td>3.5</td><td>5</td><td>7</td><td>7</td></tr>",
                            "<tr><td>New Mexico</td><td>0</td><td>0</td><td>0</td><td>0</td><td>0</td><td>0</td></tr>",
                            "<tr><td>New York</td><td>7</td><td>8</td><td>2</td><td>9</td><td>4</td><td>7</td></tr>",
                            "<tr><td>North Carolina</td><td>2</td><td>2</td><td>1</td><td>2</td><td>2</td><td>1</td></tr>",
                            "<tr><td>North Dakota</td><td>1</td><td>2</td><td>1</td><td>1</td><td>1</td><td>1</td></tr>",
                            "<tr><td>Ohio</td><td>2</td><td>3</td><td>2</td><td>3</td><td>2</td><td>3</td></tr>",
                            "<tr><td>Oklahoma</td><td>1</td><td>1</td><td>1</td><td>1</td><td>1</td><td>1</td></tr>",
                            "<tr><td>Oregon</td><td>0</td><td>0</td><td>0</td><td>0</td><td>0</td><td>0</td></tr>",
                            "<tr><td>Pennsylvania</td><td>3</td><td>4</td><td>2</td><td>6</td><td>3</td><td>3</td></tr>",
                            "<tr><td>Puerto Rico</td><td>0</td><td>0</td><td>0</td><td>0</td><td>0</td><td>0</td></tr>",
                            "<tr><td>Rhode Island</td><td>0</td><td>0</td><td>0</td><td>0</td><td>0</td><td>0</td></tr>",
                            "<tr><td>South Carolina</td><td>2</td><td>2</td><td>2</td><td>1</td><td>2</td><td>2</td></tr>",
                            "<tr><td>South Dakota</td><td>3</td><td>9</td><td>2</td><td>9</td><td>4</td><td>1</td></tr>",
                            "<tr><td>Tennessee</td><td>1</td><td>2</td><td>0</td><td>1</td><td>1</td><td>1</td></tr>",
                            "<tr><td>Texas</td><td>0</td><td>1</td><td>0</td><td>0</td><td>0</td><td>0</td></tr>",
                            "<tr><td>United States</td><td>2</td><td>3</td><td>1</td><td>4</td><td>2</td><td>2</td></tr>",
                            "<tr><td>Utah</td><td>1</td><td>1</td><td>0</td><td>1</td><td>1</td><td>1</td></tr>",
                            "<tr><td>Vermont</td><td>1</td><td>1</td><td>0</td><td>1</td><td>1</td><td>NULL</td></tr>",
                            "<tr><td>Virginia</td><td>1</td><td>1</td><td>1</td><td>2</td><td>0</td><td>1</td></tr>",
                            "<tr><td>Washington</td><td>1</td><td>1</td><td>0</td><td>1</td><td>0</td><td>1</td></tr>",
                            "<tr><td>West Virginia</td><td>2</td><td>2</td><td>2</td><td>2</td><td>2</td><td>2</td></tr>",
                            "<tr><td>Wisconsin</td><td>1</td><td>1</td><td>1</td><td>1</td><td>1</td><td>0</td></tr>",
                            "<tr><td>Wyoming</td><td>0</td><td>0</td><td>0</td><td>0</td><td>0</td><td>0</td></tr>",
                            "</table>"
                        ]
                    }
                }
            ],
            "execution_count": 2
        },
        {
            "cell_type": "code",
            "source": [
                "--Table 2: Median Closest Facility\r\n",
                "\r\n",
                "select *\r\n",
                "from\r\n",
                "(\r\n",
                "select distinct \r\n",
                "'United States' as State_Name\r\n",
                ",PERCENTILE_CONT(0.5) WITHIN GROUP (ORDER BY closest_skilled_nursing)OVER () AS Statewide   \r\n",
                ",PERCENTILE_CONT(0.5) WITHIN GROUP (ORDER BY case when HRSA_RURAL=0 then closest_skilled_nursing end) OVER () AS Urban\r\n",
                ",PERCENTILE_CONT(0.5) WITHIN GROUP (ORDER BY case when HRSA_RURAL=1 then closest_skilled_nursing end) OVER () AS Rural\r\n",
                ",PERCENTILE_CONT(0.5) WITHIN GROUP (ORDER BY case when ADI=2 then closest_skilled_nursing end) OVER () AS [High SES]\r\n",
                ",PERCENTILE_CONT(0.5) WITHIN GROUP (ORDER BY case when ADI=1 then closest_skilled_nursing end) OVER () AS [Middle SES]\r\n",
                ",PERCENTILE_CONT(0.5) WITHIN GROUP (ORDER BY case when ADI=0 then closest_skilled_nursing end) OVER () AS [Low SES]\r\n",
                "from [HCAN361_25].[dbo].[finalMap]\r\n",
                "\r\n",
                "--below code concatenates (or stacks tables on top of each other)\r\n",
                "union all\r\n",
                "\r\n",
                "select distinct\r\n",
                " State_Name\r\n",
                ",PERCENTILE_CONT(0.5) WITHIN GROUP (ORDER BY closest_skilled_nursing)OVER (PARTITION BY State_Name) AS Statewide   \r\n",
                ",PERCENTILE_CONT(0.5) WITHIN GROUP (ORDER BY case when HRSA_RURAL=0 then closest_skilled_nursing end) OVER (PARTITION BY State_Name) AS Urban\r\n",
                ",PERCENTILE_CONT(0.5) WITHIN GROUP (ORDER BY case when HRSA_RURAL=1 then closest_skilled_nursing end) OVER (PARTITION BY State_Name) AS Rural\r\n",
                ",PERCENTILE_CONT(0.5) WITHIN GROUP (ORDER BY case when ADI=2 then closest_skilled_nursing end) OVER (PARTITION BY State_Name) AS [High SES]\r\n",
                ",PERCENTILE_CONT(0.5) WITHIN GROUP (ORDER BY case when ADI=1 then closest_skilled_nursing end) OVER (PARTITION BY State_Name) AS [Middle SES]\r\n",
                ",PERCENTILE_CONT(0.5) WITHIN GROUP (ORDER BY case when ADI=0 then closest_skilled_nursing end) OVER (PARTITION BY State_Name) AS [Low SES]\r\n",
                "from [HCAN361_25].[dbo].[finalMap]\r\n",
                "\r\n",
                ") as A\r\n",
                "order by State_Name;"
            ],
            "metadata": {
                "azdata_cell_guid": "73d3be75-135f-4e10-bb9a-06ae901fd52a"
            },
            "outputs": [
                {
                    "output_type": "display_data",
                    "data": {
                        "text/html": "(53 rows affected)"
                    },
                    "metadata": {}
                },
                {
                    "output_type": "display_data",
                    "data": {
                        "text/html": "Total execution time: 00:00:05.354"
                    },
                    "metadata": {}
                },
                {
                    "output_type": "execute_result",
                    "metadata": {},
                    "execution_count": 3,
                    "data": {
                        "application/vnd.dataresource+json": {
                            "schema": {
                                "fields": [
                                    {
                                        "name": "State_Name"
                                    },
                                    {
                                        "name": "Statewide"
                                    },
                                    {
                                        "name": "Urban"
                                    },
                                    {
                                        "name": "Rural"
                                    },
                                    {
                                        "name": "High SES"
                                    },
                                    {
                                        "name": "Middle SES"
                                    },
                                    {
                                        "name": "Low SES"
                                    }
                                ]
                            },
                            "data": [
                                {
                                    "0": "Alabama",
                                    "1": "56.75472981203249",
                                    "2": "54.142080230631095",
                                    "3": "361",
                                    "4": "58.53533380215538",
                                    "5": "59.770983896769806",
                                    "6": "53.29834920072502"
                                },
                                {
                                    "0": "Alaska",
                                    "1": "361",
                                    "2": "361",
                                    "3": "361",
                                    "4": "361",
                                    "5": "361",
                                    "6": "361"
                                },
                                {
                                    "0": "Arizona",
                                    "1": "40.24586400275311",
                                    "2": "34.62100912402852",
                                    "3": "361",
                                    "4": "41.27605772417975",
                                    "5": "39.14376047916538",
                                    "6": "39.91381767616523"
                                },
                                {
                                    "0": "Arkansas",
                                    "1": "40.2189221090837",
                                    "2": "34.20212898629481",
                                    "3": "47.77488905887026",
                                    "4": "25.283817748033304",
                                    "5": "38.23987121693436",
                                    "6": "46.065423435573"
                                },
                                {
                                    "0": "California",
                                    "1": "21.10911668696388",
                                    "2": "20.05567993530164",
                                    "3": "361",
                                    "4": "18.411530559203655",
                                    "5": "25.32438407844165",
                                    "6": "26.05516258829263"
                                },
                                {
                                    "0": "Colorado",
                                    "1": "361",
                                    "2": "361",
                                    "3": "361",
                                    "4": "361",
                                    "5": "361",
                                    "6": "361"
                                },
                                {
                                    "0": "Connecticut",
                                    "1": "27.31857245727037",
                                    "2": "25.962780427764727",
                                    "3": "56.48181691198509",
                                    "4": "31.113855970896793",
                                    "5": "23.0582457988058",
                                    "6": "22.04705622660032"
                                },
                                {
                                    "0": "Delaware",
                                    "1": "31.9163096992091",
                                    "2": "29.50865028141478",
                                    "3": "55.4527890390397",
                                    "4": "34.20579200556283",
                                    "5": "30.87383592871153",
                                    "6": "25.50039411950322"
                                },
                                {
                                    "0": "District of Columbia",
                                    "1": "11.84302619342396",
                                    "2": "11.84302619342396",
                                    "3": "NULL",
                                    "4": "11.996196366925455",
                                    "5": "12.020910414459902",
                                    "6": "6.972884240655505"
                                },
                                {
                                    "0": "Florida",
                                    "1": "30.879953128067974",
                                    "2": "29.225122228564842",
                                    "3": "361",
                                    "4": "30.260985860685583",
                                    "5": "30.63659469200887",
                                    "6": "30.72512786542106"
                                },
                                {
                                    "0": "Georgia",
                                    "1": "32.22134971499402",
                                    "2": "29.468634180272552",
                                    "3": "44.20477958700672",
                                    "4": "30.027692271976324",
                                    "5": "31.952136371864633",
                                    "6": "35.535956509174916"
                                },
                                {
                                    "0": "Hawaii",
                                    "1": "25.572124454649924",
                                    "2": "21.017552868515985",
                                    "3": "361",
                                    "4": "23.764098683958153",
                                    "5": "54.78896352985652",
                                    "6": "24.96420662249553"
                                },
                                {
                                    "0": "Idaho",
                                    "1": "361",
                                    "2": "41.73332245363352",
                                    "3": "361",
                                    "4": "46.984979876602424",
                                    "5": "361",
                                    "6": "53.25591769282769"
                                },
                                {
                                    "0": "Illinois",
                                    "1": "26.596967124866204",
                                    "2": "24.6739801087851",
                                    "3": "43.22989155551758",
                                    "4": "20.913511068915323",
                                    "5": "27.245897608128132",
                                    "6": "33.43626400880253"
                                },
                                {
                                    "0": "Indiana",
                                    "1": "38.996263578973256",
                                    "2": "40.097220052650464",
                                    "3": "34.42632562873899",
                                    "4": "36.937739712541614",
                                    "5": "39.140295641631425",
                                    "6": "38.76417978494885"
                                },
                                {
                                    "0": "Iowa",
                                    "1": "23.45940233248396",
                                    "2": "23.110347886155523",
                                    "3": "23.487781340905485",
                                    "4": "20.940448001812296",
                                    "5": "23.31203489301877",
                                    "6": "26.85002738368079"
                                },
                                {
                                    "0": "Kansas",
                                    "1": "26.612808389787723",
                                    "2": "28.312723798959773",
                                    "3": "25.1702568121514",
                                    "4": "25.53257599902976",
                                    "5": "26.498228920499045",
                                    "6": "28.650846495984194"
                                },
                                {
                                    "0": "Kentucky",
                                    "1": "44.200388542512805",
                                    "2": "37.68841747349986",
                                    "3": "58.00250945894228",
                                    "4": "48.992629146145305",
                                    "5": "40.695614379253136",
                                    "6": "53.91008331261996"
                                },
                                {
                                    "0": "Louisiana",
                                    "1": "23.678824309180936",
                                    "2": "19.301485732987878",
                                    "3": "47.899747185949025",
                                    "4": "14.533307099364002",
                                    "5": "23.84205334337546",
                                    "6": "28.188277564407276"
                                },
                                {
                                    "0": "Maine",
                                    "1": "43.514218457956545",
                                    "2": "34.28577725283574",
                                    "3": "50.528050596932076",
                                    "4": "19.51517580401189",
                                    "5": "44.47305131679718",
                                    "6": "46.79845803912602"
                                },
                                {
                                    "0": "Maryland",
                                    "1": "25.540085600160243",
                                    "2": "24.99779800223005",
                                    "3": "53.38478066944525",
                                    "4": "30.453081585118404",
                                    "5": "19.813200943356613",
                                    "6": "9.768902564056857"
                                },
                                {
                                    "0": "Massachusetts",
                                    "1": "37.72166971765279",
                                    "2": "36.933526853389424",
                                    "3": "361",
                                    "4": "32.60766111588106",
                                    "5": "44.356662351811714",
                                    "6": "33.27824811353685"
                                },
                                {
                                    "0": "Michigan",
                                    "1": "23.02788873526029",
                                    "2": "20.71560918456614",
                                    "3": "39.43110637308587",
                                    "4": "20.956908335897083",
                                    "5": "25.63537865149094",
                                    "6": "17.504212023353173"
                                },
                                {
                                    "0": "Minnesota",
                                    "1": "25.036310679632948",
                                    "2": "22.78396221696324",
                                    "3": "33.6550716318352",
                                    "4": "24.92207767551856",
                                    "5": "24.945996259030846",
                                    "6": "26.335294277274752"
                                },
                                {
                                    "0": "Mississippi",
                                    "1": "29.050165318428537",
                                    "2": "26.499922324904773",
                                    "3": "30.05853842062669",
                                    "4": "27.086138143005137",
                                    "5": "27.261925169731448",
                                    "6": "30.7341914423638"
                                },
                                {
                                    "0": "Missouri",
                                    "1": "20.206616953146558",
                                    "2": "17.458223730959208",
                                    "3": "32.20785615432063",
                                    "4": "16.39390517236734",
                                    "5": "22.47785471736084",
                                    "6": "17.87187305565336"
                                },
                                {
                                    "0": "Montana",
                                    "1": "55.28893738252283",
                                    "2": "52.42582002014773",
                                    "3": "57.743360683405406",
                                    "4": "58.11931014346534",
                                    "5": "55.36937117469995",
                                    "6": "34.39828952483677"
                                },
                                {
                                    "0": "Nebraska",
                                    "1": "38.176768689477896",
                                    "2": "38.88777962822104",
                                    "3": "35.83101065445866",
                                    "4": "33.36613748791669",
                                    "5": "38.38121774196262",
                                    "6": "41.17511765375798"
                                },
                                {
                                    "0": "Nevada",
                                    "1": "361",
                                    "2": "361",
                                    "3": "361",
                                    "4": "361",
                                    "5": "361",
                                    "6": "361"
                                },
                                {
                                    "0": "New Hampshire",
                                    "1": "46.231677586176026",
                                    "2": "47.98726297050021",
                                    "3": "42.61709236363349",
                                    "4": "46.14930704838501",
                                    "5": "46.27088408107979",
                                    "6": "12.583969376910343"
                                },
                                {
                                    "0": "New Jersey",
                                    "1": "23.78809520360956",
                                    "2": "23.571093724445163",
                                    "3": "32.36340471861257",
                                    "4": "26.455450675970386",
                                    "5": "20.725717678782647",
                                    "6": "17.399801936217493"
                                },
                                {
                                    "0": "New Mexico",
                                    "1": "361",
                                    "2": "361",
                                    "3": "361",
                                    "4": "361",
                                    "5": "361",
                                    "6": "361"
                                },
                                {
                                    "0": "New York",
                                    "1": "17.771378101853482",
                                    "2": "17.089451956206233",
                                    "3": "31.423022863823817",
                                    "4": "17.280652830914445",
                                    "5": "22.07245313066025",
                                    "6": "13.028586849808212"
                                },
                                {
                                    "0": "North Carolina",
                                    "1": "37.44593472809312",
                                    "2": "33.30166880645344",
                                    "3": "55.130478816224425",
                                    "4": "31.163991999158807",
                                    "5": "37.33610878498144",
                                    "6": "43.26580475836102"
                                },
                                {
                                    "0": "North Dakota",
                                    "1": "44.08207122582244",
                                    "2": "38.58783925567293",
                                    "3": "58.67397739513983",
                                    "4": "41.36508460288448",
                                    "5": "44.69291056541151",
                                    "6": "41.83428781860482"
                                },
                                {
                                    "0": "Ohio",
                                    "1": "34.107231023233545",
                                    "2": "33.17824689052544",
                                    "3": "37.08495623882109",
                                    "4": "32.359453433880375",
                                    "5": "34.567698004189985",
                                    "6": "33.70624403535729"
                                },
                                {
                                    "0": "Oklahoma",
                                    "1": "47.160344711203734",
                                    "2": "53.46416971537162",
                                    "3": "41.87264897072639",
                                    "4": "57.937478352343796",
                                    "5": "44.045233223420894",
                                    "6": "48.752162186437786"
                                },
                                {
                                    "0": "Oregon",
                                    "1": "361",
                                    "2": "361",
                                    "3": "361",
                                    "4": "361",
                                    "5": "361",
                                    "6": "361"
                                },
                                {
                                    "0": "Pennsylvania",
                                    "1": "26.622384385585356",
                                    "2": "24.279714245697825",
                                    "3": "37.3430278489242",
                                    "4": "24.76495947516401",
                                    "5": "29.378915083257365",
                                    "6": "16.554199127434043"
                                },
                                {
                                    "0": "Puerto Rico",
                                    "1": "361",
                                    "2": "361",
                                    "3": "361",
                                    "4": "361",
                                    "5": "361",
                                    "6": "361"
                                },
                                {
                                    "0": "Rhode Island",
                                    "1": "361",
                                    "2": "361",
                                    "3": "361",
                                    "4": "361",
                                    "5": "361",
                                    "6": "361"
                                },
                                {
                                    "0": "South Carolina",
                                    "1": "39.73250274341648",
                                    "2": "41.896285383899645",
                                    "3": "35.24012068732551",
                                    "4": "53.67059741595274",
                                    "5": "38.678247268325805",
                                    "6": "36.34780462880538"
                                },
                                {
                                    "0": "South Dakota",
                                    "1": "29.077352697982114",
                                    "2": "15.405212336190814",
                                    "3": "36.80322063710961",
                                    "4": "15.999131015800064",
                                    "5": "25.62231744545424",
                                    "6": "41.20946941030281"
                                },
                                {
                                    "0": "Tennessee",
                                    "1": "40.65906687930496",
                                    "2": "34.073629927623564",
                                    "3": "361",
                                    "4": "39.208765775786986",
                                    "5": "42.47125402000039",
                                    "6": "33.44727604964345"
                                },
                                {
                                    "0": "Texas",
                                    "1": "361",
                                    "2": "59.309043459291104",
                                    "3": "361",
                                    "4": "361",
                                    "5": "361",
                                    "6": "361"
                                },
                                {
                                    "0": "United States",
                                    "1": "32.844455281642105",
                                    "2": "29.554791921100225",
                                    "3": "46.618145180069206",
                                    "4": "25.956025461109146",
                                    "5": "35.98161174051",
                                    "6": "37.712313846343335"
                                },
                                {
                                    "0": "Utah",
                                    "1": "52.84014697062101",
                                    "2": "52.157973062900396",
                                    "3": "361",
                                    "4": "52.9463505081883",
                                    "5": "52.811083986694264",
                                    "6": "53.211090611572956"
                                },
                                {
                                    "0": "Vermont",
                                    "1": "51.76087318858373",
                                    "2": "46.0753475516686",
                                    "3": "361",
                                    "4": "42.206171161091",
                                    "5": "58.51161101005071",
                                    "6": "NULL"
                                },
                                {
                                    "0": "Virginia",
                                    "1": "48.557679015635856",
                                    "2": "51.79712564219141",
                                    "3": "42.19257685366208",
                                    "4": "35.31724833168903",
                                    "5": "361",
                                    "6": "39.03199289710466"
                                },
                                {
                                    "0": "Washington",
                                    "1": "55.00715714390389",
                                    "2": "53.04854592774736",
                                    "3": "361",
                                    "4": "38.79797866215804",
                                    "5": "361",
                                    "6": "56.85386116360011"
                                },
                                {
                                    "0": "West Virginia",
                                    "1": "35.60476552172763",
                                    "2": "35.429235321241904",
                                    "3": "36.379693519337565",
                                    "4": "43.426278354478065",
                                    "5": "34.43825824701569",
                                    "6": "37.126789112021626"
                                },
                                {
                                    "0": "Wisconsin",
                                    "1": "53.903143230165725",
                                    "2": "56.935978064740176",
                                    "3": "42.133142100233584",
                                    "4": "55.95682447087849",
                                    "5": "51.40744302618154",
                                    "6": "361"
                                },
                                {
                                    "0": "Wyoming",
                                    "1": "361",
                                    "2": "361",
                                    "3": "361",
                                    "4": "361",
                                    "5": "361",
                                    "6": "361"
                                }
                            ]
                        },
                        "text/html": [
                            "<table>",
                            "<tr><th>State_Name</th><th>Statewide</th><th>Urban</th><th>Rural</th><th>High SES</th><th>Middle SES</th><th>Low SES</th></tr>",
                            "<tr><td>Alabama</td><td>56.75472981203249</td><td>54.142080230631095</td><td>361</td><td>58.53533380215538</td><td>59.770983896769806</td><td>53.29834920072502</td></tr>",
                            "<tr><td>Alaska</td><td>361</td><td>361</td><td>361</td><td>361</td><td>361</td><td>361</td></tr>",
                            "<tr><td>Arizona</td><td>40.24586400275311</td><td>34.62100912402852</td><td>361</td><td>41.27605772417975</td><td>39.14376047916538</td><td>39.91381767616523</td></tr>",
                            "<tr><td>Arkansas</td><td>40.2189221090837</td><td>34.20212898629481</td><td>47.77488905887026</td><td>25.283817748033304</td><td>38.23987121693436</td><td>46.065423435573</td></tr>",
                            "<tr><td>California</td><td>21.10911668696388</td><td>20.05567993530164</td><td>361</td><td>18.411530559203655</td><td>25.32438407844165</td><td>26.05516258829263</td></tr>",
                            "<tr><td>Colorado</td><td>361</td><td>361</td><td>361</td><td>361</td><td>361</td><td>361</td></tr>",
                            "<tr><td>Connecticut</td><td>27.31857245727037</td><td>25.962780427764727</td><td>56.48181691198509</td><td>31.113855970896793</td><td>23.0582457988058</td><td>22.04705622660032</td></tr>",
                            "<tr><td>Delaware</td><td>31.9163096992091</td><td>29.50865028141478</td><td>55.4527890390397</td><td>34.20579200556283</td><td>30.87383592871153</td><td>25.50039411950322</td></tr>",
                            "<tr><td>District of Columbia</td><td>11.84302619342396</td><td>11.84302619342396</td><td>NULL</td><td>11.996196366925455</td><td>12.020910414459902</td><td>6.972884240655505</td></tr>",
                            "<tr><td>Florida</td><td>30.879953128067974</td><td>29.225122228564842</td><td>361</td><td>30.260985860685583</td><td>30.63659469200887</td><td>30.72512786542106</td></tr>",
                            "<tr><td>Georgia</td><td>32.22134971499402</td><td>29.468634180272552</td><td>44.20477958700672</td><td>30.027692271976324</td><td>31.952136371864633</td><td>35.535956509174916</td></tr>",
                            "<tr><td>Hawaii</td><td>25.572124454649924</td><td>21.017552868515985</td><td>361</td><td>23.764098683958153</td><td>54.78896352985652</td><td>24.96420662249553</td></tr>",
                            "<tr><td>Idaho</td><td>361</td><td>41.73332245363352</td><td>361</td><td>46.984979876602424</td><td>361</td><td>53.25591769282769</td></tr>",
                            "<tr><td>Illinois</td><td>26.596967124866204</td><td>24.6739801087851</td><td>43.22989155551758</td><td>20.913511068915323</td><td>27.245897608128132</td><td>33.43626400880253</td></tr>",
                            "<tr><td>Indiana</td><td>38.996263578973256</td><td>40.097220052650464</td><td>34.42632562873899</td><td>36.937739712541614</td><td>39.140295641631425</td><td>38.76417978494885</td></tr>",
                            "<tr><td>Iowa</td><td>23.45940233248396</td><td>23.110347886155523</td><td>23.487781340905485</td><td>20.940448001812296</td><td>23.31203489301877</td><td>26.85002738368079</td></tr>",
                            "<tr><td>Kansas</td><td>26.612808389787723</td><td>28.312723798959773</td><td>25.1702568121514</td><td>25.53257599902976</td><td>26.498228920499045</td><td>28.650846495984194</td></tr>",
                            "<tr><td>Kentucky</td><td>44.200388542512805</td><td>37.68841747349986</td><td>58.00250945894228</td><td>48.992629146145305</td><td>40.695614379253136</td><td>53.91008331261996</td></tr>",
                            "<tr><td>Louisiana</td><td>23.678824309180936</td><td>19.301485732987878</td><td>47.899747185949025</td><td>14.533307099364002</td><td>23.84205334337546</td><td>28.188277564407276</td></tr>",
                            "<tr><td>Maine</td><td>43.514218457956545</td><td>34.28577725283574</td><td>50.528050596932076</td><td>19.51517580401189</td><td>44.47305131679718</td><td>46.79845803912602</td></tr>",
                            "<tr><td>Maryland</td><td>25.540085600160243</td><td>24.99779800223005</td><td>53.38478066944525</td><td>30.453081585118404</td><td>19.813200943356613</td><td>9.768902564056857</td></tr>",
                            "<tr><td>Massachusetts</td><td>37.72166971765279</td><td>36.933526853389424</td><td>361</td><td>32.60766111588106</td><td>44.356662351811714</td><td>33.27824811353685</td></tr>",
                            "<tr><td>Michigan</td><td>23.02788873526029</td><td>20.71560918456614</td><td>39.43110637308587</td><td>20.956908335897083</td><td>25.63537865149094</td><td>17.504212023353173</td></tr>",
                            "<tr><td>Minnesota</td><td>25.036310679632948</td><td>22.78396221696324</td><td>33.6550716318352</td><td>24.92207767551856</td><td>24.945996259030846</td><td>26.335294277274752</td></tr>",
                            "<tr><td>Mississippi</td><td>29.050165318428537</td><td>26.499922324904773</td><td>30.05853842062669</td><td>27.086138143005137</td><td>27.261925169731448</td><td>30.7341914423638</td></tr>",
                            "<tr><td>Missouri</td><td>20.206616953146558</td><td>17.458223730959208</td><td>32.20785615432063</td><td>16.39390517236734</td><td>22.47785471736084</td><td>17.87187305565336</td></tr>",
                            "<tr><td>Montana</td><td>55.28893738252283</td><td>52.42582002014773</td><td>57.743360683405406</td><td>58.11931014346534</td><td>55.36937117469995</td><td>34.39828952483677</td></tr>",
                            "<tr><td>Nebraska</td><td>38.176768689477896</td><td>38.88777962822104</td><td>35.83101065445866</td><td>33.36613748791669</td><td>38.38121774196262</td><td>41.17511765375798</td></tr>",
                            "<tr><td>Nevada</td><td>361</td><td>361</td><td>361</td><td>361</td><td>361</td><td>361</td></tr>",
                            "<tr><td>New Hampshire</td><td>46.231677586176026</td><td>47.98726297050021</td><td>42.61709236363349</td><td>46.14930704838501</td><td>46.27088408107979</td><td>12.583969376910343</td></tr>",
                            "<tr><td>New Jersey</td><td>23.78809520360956</td><td>23.571093724445163</td><td>32.36340471861257</td><td>26.455450675970386</td><td>20.725717678782647</td><td>17.399801936217493</td></tr>",
                            "<tr><td>New Mexico</td><td>361</td><td>361</td><td>361</td><td>361</td><td>361</td><td>361</td></tr>",
                            "<tr><td>New York</td><td>17.771378101853482</td><td>17.089451956206233</td><td>31.423022863823817</td><td>17.280652830914445</td><td>22.07245313066025</td><td>13.028586849808212</td></tr>",
                            "<tr><td>North Carolina</td><td>37.44593472809312</td><td>33.30166880645344</td><td>55.130478816224425</td><td>31.163991999158807</td><td>37.33610878498144</td><td>43.26580475836102</td></tr>",
                            "<tr><td>North Dakota</td><td>44.08207122582244</td><td>38.58783925567293</td><td>58.67397739513983</td><td>41.36508460288448</td><td>44.69291056541151</td><td>41.83428781860482</td></tr>",
                            "<tr><td>Ohio</td><td>34.107231023233545</td><td>33.17824689052544</td><td>37.08495623882109</td><td>32.359453433880375</td><td>34.567698004189985</td><td>33.70624403535729</td></tr>",
                            "<tr><td>Oklahoma</td><td>47.160344711203734</td><td>53.46416971537162</td><td>41.87264897072639</td><td>57.937478352343796</td><td>44.045233223420894</td><td>48.752162186437786</td></tr>",
                            "<tr><td>Oregon</td><td>361</td><td>361</td><td>361</td><td>361</td><td>361</td><td>361</td></tr>",
                            "<tr><td>Pennsylvania</td><td>26.622384385585356</td><td>24.279714245697825</td><td>37.3430278489242</td><td>24.76495947516401</td><td>29.378915083257365</td><td>16.554199127434043</td></tr>",
                            "<tr><td>Puerto Rico</td><td>361</td><td>361</td><td>361</td><td>361</td><td>361</td><td>361</td></tr>",
                            "<tr><td>Rhode Island</td><td>361</td><td>361</td><td>361</td><td>361</td><td>361</td><td>361</td></tr>",
                            "<tr><td>South Carolina</td><td>39.73250274341648</td><td>41.896285383899645</td><td>35.24012068732551</td><td>53.67059741595274</td><td>38.678247268325805</td><td>36.34780462880538</td></tr>",
                            "<tr><td>South Dakota</td><td>29.077352697982114</td><td>15.405212336190814</td><td>36.80322063710961</td><td>15.999131015800064</td><td>25.62231744545424</td><td>41.20946941030281</td></tr>",
                            "<tr><td>Tennessee</td><td>40.65906687930496</td><td>34.073629927623564</td><td>361</td><td>39.208765775786986</td><td>42.47125402000039</td><td>33.44727604964345</td></tr>",
                            "<tr><td>Texas</td><td>361</td><td>59.309043459291104</td><td>361</td><td>361</td><td>361</td><td>361</td></tr>",
                            "<tr><td>United States</td><td>32.844455281642105</td><td>29.554791921100225</td><td>46.618145180069206</td><td>25.956025461109146</td><td>35.98161174051</td><td>37.712313846343335</td></tr>",
                            "<tr><td>Utah</td><td>52.84014697062101</td><td>52.157973062900396</td><td>361</td><td>52.9463505081883</td><td>52.811083986694264</td><td>53.211090611572956</td></tr>",
                            "<tr><td>Vermont</td><td>51.76087318858373</td><td>46.0753475516686</td><td>361</td><td>42.206171161091</td><td>58.51161101005071</td><td>NULL</td></tr>",
                            "<tr><td>Virginia</td><td>48.557679015635856</td><td>51.79712564219141</td><td>42.19257685366208</td><td>35.31724833168903</td><td>361</td><td>39.03199289710466</td></tr>",
                            "<tr><td>Washington</td><td>55.00715714390389</td><td>53.04854592774736</td><td>361</td><td>38.79797866215804</td><td>361</td><td>56.85386116360011</td></tr>",
                            "<tr><td>West Virginia</td><td>35.60476552172763</td><td>35.429235321241904</td><td>36.379693519337565</td><td>43.426278354478065</td><td>34.43825824701569</td><td>37.126789112021626</td></tr>",
                            "<tr><td>Wisconsin</td><td>53.903143230165725</td><td>56.935978064740176</td><td>42.133142100233584</td><td>55.95682447087849</td><td>51.40744302618154</td><td>361</td></tr>",
                            "<tr><td>Wyoming</td><td>361</td><td>361</td><td>361</td><td>361</td><td>361</td><td>361</td></tr>",
                            "</table>"
                        ]
                    }
                }
            ],
            "execution_count": 3
        }
    ]
}