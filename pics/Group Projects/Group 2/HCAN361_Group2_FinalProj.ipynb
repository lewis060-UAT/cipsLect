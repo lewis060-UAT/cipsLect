{
    "metadata": {
        "kernelspec": {
            "name": "SQL",
            "display_name": "SQL",
            "language": "sql"
        },
        "language_info": {
            "name": "sql",
            "version": ""
        }
    },
    "nbformat_minor": 2,
    "nbformat": 4,
    "cells": [
        {
            "cell_type": "markdown",
            "source": [
                "# HCAN 361 Final Project: Spring 2021\r\n",
                "\r\n",
                "## The Nursing Workforce in US Hospitals: An Exploratory Analysis"
            ],
            "metadata": {
                "azdata_cell_guid": "13c00894-7bab-4a4f-8b12-c85330350e73"
            }
        },
        {
            "cell_type": "markdown",
            "source": [
                "- Focus on the Nursing workforce --\\> Beds per nurse with logic that higher rates may have lower quality of service\n",
                "- Though findings among nurse to patient rates effect on patient outcomes are inconclusive (journals.lww.com/jonajournal/Fulltext/2004/07000/Nurse\\_Patient\\_Ratios\\_\\_A\\_Systematic\\_Review\\_on\\_the.5.aspx), there is evidence suggesting that increased nurse-to-patient ratios is associated with nurse burnout and job satisfaction (sciencedirect.com/science/article/pii/S0029655417302658)\n",
                "- Part of analysis is an informal sensitivty analysis of access given varying nurse to bed rates \n",
                "\n",
                "            - With this being exploratory, no definitive claims are made on what a good nurse to bed rate is. the point is to understand areas adversly impacted if thresholds are selected or increased"
            ],
            "metadata": {
                "azdata_cell_guid": "b9c39098-7a82-4f86-9b4e-aa610c5b603e"
            }
        },
        {
            "cell_type": "code",
            "source": [
                "use [HCAN361_FinalProj]\r\n",
                "\r\n",
                "\r\n",
                "--Identifying hospitals, staffed beds, and supply of nurses\r\n",
                "--drop table #Nurse\r\n",
                "SELECT A.ID\r\n",
                "      ,cast(A.LAT as float) as LAT\r\n",
                "\t  ,cast(A.LONG as float) as LONG\r\n",
                "\t  ,A.MNAME\r\n",
                "      ,C.County_Name,C.State_Name,C.HRSA_RURAL_DESC,('Z'+C.STATEFP+C.COUNTYFP) as [County_GEOID_Z]\r\n",
                "\t  ,case when C.[Median_ADI_NatRank]<=25 then '02: Upper Class'\r\n",
                "\t   when (C.[Median_ADI_NatRank]>25 and C.[Median_ADI_NatRank]<=75) then '01: Middle Class'\r\n",
                "\t   when C.[Median_ADI_NatRank]>75 then '00: Lower Class'\r\n",
                "\t   else '99: Not Ranked' end as [ADI]\r\n",
                "\t  ,(isnull(D.HOSPBD,0)-isnull(D.SNBD88,0)) as BEDS_Non_Nursing\r\n",
                "\t  ,D.HOSPBD as BEDS\r\n",
                "\t  ,(isnull(E.[FTRNTF],0)+(isnull(E.[PTRNTF],0)*0.50))as [Est_FTE_Nurses]\r\n",
                "\t  ,E.FTEN as [AHA Reported Nurse FTE]\r\n",
                "INTO #Nurse\r\n",
                "FROM \r\n",
                "dbo.AS19DEM as A\r\n",
                "left join\r\n",
                "[dbo].[Provider_Census_Tract] as B\r\n",
                "\ton A.ID=B.Provider_ID\r\n",
                "left join \r\n",
                "[dbo].[US_Census_Tract_Charac] as C\r\n",
                "\ton B.GEOID_Data=C.GEOID_Data\r\n",
                "left join\r\n",
                "dbo.as19svc1 as D\r\n",
                "\ton D.ID=A.ID \r\n",
                "left join\r\n",
                "dbo.as19util1 as E\r\n",
                "\ton A.ID=E.ID\r\n",
                "where C.County_Name is not null --and (D.GENHOS='1' or D.PEDHOS='1')\r\n",
                "order by C.State_Name;\r\n",
                "\r\n",
                "--[HOSPBD] -->Total hospital beds (calculated)-->as19svc1\r\n",
                "--[SNBD88] -->Skilled nursing care beds -->as19svc1\r\n",
                "--[FTRNTF] -->Full-time registered nurses-->as19util1-->Full-time registered nurses\r\n",
                "--[PTRNTF] -->Part-time registered nurses-->as19util1-->Part-time registered nurses\r\n",
                "--[FTEN] -->Registered nurses FTE-->as19util1-->Registered nurses FTE (Reported)-->Problem with this measure is the number of nulls\r\n",
                "--One limitation that may be worth mentioning is that secured hospitals like Taylor Hardin (i.e., court appointed mental facilities) are hard to filter out. Cannot find the column to remove facilities like that.\r\n",
                "\r\n",
                "select top 10 * from #Nurse;\r\n",
                "\r\n",
                "select distinct *\r\n",
                "into HCAN361_25.dbo.Locs_Group2\r\n",
                "from #Nurse;\r\n",
                "\r\n",
                "alter table HCAN361_25.dbo.Locs_Group2\r\n",
                "alter column ID varchar(30) not null;\r\n",
                "\r\n",
                "alter table HCAN361_25.dbo.Locs_Group2\r\n",
                "add constraint pk_nurs_Grp2 primary key(ID);"
            ],
            "metadata": {
                "azdata_cell_guid": "13693639-d76e-40dc-88a2-77dda00e7eca"
            },
            "outputs": [
                {
                    "output_type": "display_data",
                    "data": {
                        "text/html": "(6152 rows affected)"
                    },
                    "metadata": {}
                },
                {
                    "output_type": "display_data",
                    "data": {
                        "text/html": "(10 rows affected)"
                    },
                    "metadata": {}
                },
                {
                    "output_type": "display_data",
                    "data": {
                        "text/html": "(6152 rows affected)"
                    },
                    "metadata": {}
                },
                {
                    "output_type": "display_data",
                    "data": {
                        "text/html": "Total execution time: 00:00:00.488"
                    },
                    "metadata": {}
                },
                {
                    "output_type": "execute_result",
                    "metadata": {},
                    "execution_count": 1,
                    "data": {
                        "application/vnd.dataresource+json": {
                            "schema": {
                                "fields": [
                                    {
                                        "name": "ID"
                                    },
                                    {
                                        "name": "LAT"
                                    },
                                    {
                                        "name": "LONG"
                                    },
                                    {
                                        "name": "MNAME"
                                    },
                                    {
                                        "name": "County_Name"
                                    },
                                    {
                                        "name": "State_Name"
                                    },
                                    {
                                        "name": "HRSA_RURAL_DESC"
                                    },
                                    {
                                        "name": "County_GEOID_Z"
                                    },
                                    {
                                        "name": "ADI"
                                    },
                                    {
                                        "name": "BEDS_Non_Nursing"
                                    },
                                    {
                                        "name": "BEDS"
                                    },
                                    {
                                        "name": "Est_FTE_Nurses"
                                    },
                                    {
                                        "name": "AHA Reported Nurse FTE"
                                    }
                                ]
                            },
                            "data": [
                                {
                                    "0": "6660009",
                                    "1": "40.7949",
                                    "2": "-96.6237",
                                    "3": "Lincoln Surgical Hospital",
                                    "4": "Lancaster",
                                    "5": "Nebraska",
                                    "6": "00: Urban",
                                    "7": "Z31109",
                                    "8": "01: Middle Class",
                                    "9": "7",
                                    "10": "7",
                                    "11": "18.5",
                                    "12": "NULL"
                                },
                                {
                                    "0": "6660028",
                                    "1": "42.529",
                                    "2": "-98.9826",
                                    "3": "West Holt Medical Services",
                                    "4": "Holt",
                                    "5": "Nebraska",
                                    "6": "01: Rural",
                                    "7": "Z31089",
                                    "8": "01: Middle Class",
                                    "9": "17",
                                    "10": "17",
                                    "11": "30",
                                    "12": "NULL"
                                },
                                {
                                    "0": "6660135",
                                    "1": "41.1067",
                                    "2": "-98.0021",
                                    "3": "Merrick Medical Center",
                                    "4": "Merrick",
                                    "5": "Nebraska",
                                    "6": "01: Rural",
                                    "7": "Z31121",
                                    "8": "00: Lower Class",
                                    "9": "20",
                                    "10": "20",
                                    "11": "36.5",
                                    "12": "NULL"
                                },
                                {
                                    "0": "6660192",
                                    "1": "40.1558",
                                    "2": "-97.1749",
                                    "3": "Jefferson Community Health and Life",
                                    "4": "Jefferson",
                                    "5": "Nebraska",
                                    "6": "01: Rural",
                                    "7": "Z31095",
                                    "8": "01: Middle Class",
                                    "9": "17",
                                    "10": "57",
                                    "11": "37",
                                    "12": "38"
                                },
                                {
                                    "0": "6660298",
                                    "1": "40.8488",
                                    "2": "-101.727",
                                    "3": "Perkins County Health Services",
                                    "4": "Perkins",
                                    "5": "Nebraska",
                                    "6": "01: Rural",
                                    "7": "Z31135",
                                    "8": "01: Middle Class",
                                    "9": "20",
                                    "10": "20",
                                    "11": "25.5",
                                    "12": "NULL"
                                },
                                {
                                    "0": "6660340",
                                    "1": "40.5233",
                                    "2": "-101.65",
                                    "3": "Chase County Community Hospital",
                                    "4": "Chase",
                                    "5": "Nebraska",
                                    "6": "01: Rural",
                                    "7": "Z31029",
                                    "8": "01: Middle Class",
                                    "9": "20",
                                    "10": "20",
                                    "11": "19",
                                    "12": "NULL"
                                },
                                {
                                    "0": "6660395",
                                    "1": "40.7854",
                                    "2": "-99.7574",
                                    "3": "Lexington Regional Health Center",
                                    "4": "Dawson",
                                    "5": "Nebraska",
                                    "6": "01: Rural",
                                    "7": "Z31047",
                                    "8": "00: Lower Class",
                                    "9": "25",
                                    "10": "25",
                                    "11": "41",
                                    "12": "NULL"
                                },
                                {
                                    "0": "6660414",
                                    "1": "40.6825",
                                    "2": "-99.1126",
                                    "3": "Kearney Regional Medical Center",
                                    "4": "Buffalo",
                                    "5": "Nebraska",
                                    "6": "01: Rural",
                                    "7": "Z31019",
                                    "8": "01: Middle Class",
                                    "9": "92",
                                    "10": "92",
                                    "11": "89.5",
                                    "12": "NULL"
                                },
                                {
                                    "0": "6660435",
                                    "1": "40.7902",
                                    "2": "-96.6473",
                                    "3": "Madonna Rehabilitation Hospital",
                                    "4": "Lancaster",
                                    "5": "Nebraska",
                                    "6": "00: Urban",
                                    "7": "Z31109",
                                    "8": "01: Middle Class",
                                    "9": "308",
                                    "10": "308",
                                    "11": "399",
                                    "12": "NULL"
                                },
                                {
                                    "0": "6660560",
                                    "1": "41.1217",
                                    "2": "-100.77",
                                    "3": "Great Plains Health",
                                    "4": "Lincoln",
                                    "5": "Nebraska",
                                    "6": "01: Rural",
                                    "7": "Z31111",
                                    "8": "01: Middle Class",
                                    "9": "116",
                                    "10": "116",
                                    "11": "252",
                                    "12": "227"
                                }
                            ]
                        },
                        "text/html": [
                            "<table>",
                            "<tr><th>ID</th><th>LAT</th><th>LONG</th><th>MNAME</th><th>County_Name</th><th>State_Name</th><th>HRSA_RURAL_DESC</th><th>County_GEOID_Z</th><th>ADI</th><th>BEDS_Non_Nursing</th><th>BEDS</th><th>Est_FTE_Nurses</th><th>AHA Reported Nurse FTE</th></tr>",
                            "<tr><td>6660009</td><td>40.7949</td><td>-96.6237</td><td>Lincoln Surgical Hospital</td><td>Lancaster</td><td>Nebraska</td><td>00: Urban</td><td>Z31109</td><td>01: Middle Class</td><td>7</td><td>7</td><td>18.5</td><td>NULL</td></tr>",
                            "<tr><td>6660028</td><td>42.529</td><td>-98.9826</td><td>West Holt Medical Services</td><td>Holt</td><td>Nebraska</td><td>01: Rural</td><td>Z31089</td><td>01: Middle Class</td><td>17</td><td>17</td><td>30</td><td>NULL</td></tr>",
                            "<tr><td>6660135</td><td>41.1067</td><td>-98.0021</td><td>Merrick Medical Center</td><td>Merrick</td><td>Nebraska</td><td>01: Rural</td><td>Z31121</td><td>00: Lower Class</td><td>20</td><td>20</td><td>36.5</td><td>NULL</td></tr>",
                            "<tr><td>6660192</td><td>40.1558</td><td>-97.1749</td><td>Jefferson Community Health and Life</td><td>Jefferson</td><td>Nebraska</td><td>01: Rural</td><td>Z31095</td><td>01: Middle Class</td><td>17</td><td>57</td><td>37</td><td>38</td></tr>",
                            "<tr><td>6660298</td><td>40.8488</td><td>-101.727</td><td>Perkins County Health Services</td><td>Perkins</td><td>Nebraska</td><td>01: Rural</td><td>Z31135</td><td>01: Middle Class</td><td>20</td><td>20</td><td>25.5</td><td>NULL</td></tr>",
                            "<tr><td>6660340</td><td>40.5233</td><td>-101.65</td><td>Chase County Community Hospital</td><td>Chase</td><td>Nebraska</td><td>01: Rural</td><td>Z31029</td><td>01: Middle Class</td><td>20</td><td>20</td><td>19</td><td>NULL</td></tr>",
                            "<tr><td>6660395</td><td>40.7854</td><td>-99.7574</td><td>Lexington Regional Health Center</td><td>Dawson</td><td>Nebraska</td><td>01: Rural</td><td>Z31047</td><td>00: Lower Class</td><td>25</td><td>25</td><td>41</td><td>NULL</td></tr>",
                            "<tr><td>6660414</td><td>40.6825</td><td>-99.1126</td><td>Kearney Regional Medical Center</td><td>Buffalo</td><td>Nebraska</td><td>01: Rural</td><td>Z31019</td><td>01: Middle Class</td><td>92</td><td>92</td><td>89.5</td><td>NULL</td></tr>",
                            "<tr><td>6660435</td><td>40.7902</td><td>-96.6473</td><td>Madonna Rehabilitation Hospital</td><td>Lancaster</td><td>Nebraska</td><td>00: Urban</td><td>Z31109</td><td>01: Middle Class</td><td>308</td><td>308</td><td>399</td><td>NULL</td></tr>",
                            "<tr><td>6660560</td><td>41.1217</td><td>-100.77</td><td>Great Plains Health</td><td>Lincoln</td><td>Nebraska</td><td>01: Rural</td><td>Z31111</td><td>01: Middle Class</td><td>116</td><td>116</td><td>252</td><td>227</td></tr>",
                            "</table>"
                        ]
                    }
                }
            ],
            "execution_count": 1
        },
        {
            "cell_type": "code",
            "source": [
                "--Build Pop Tables for analyses\r\n",
                "select A.[GEOID_Data], ('Z'+A.STATEFP+A.COUNTYFP) as GEOID_County_Z,\r\n",
                "[State_Name],[County_Name], [HRSA_RURAL_DESC],\r\n",
                "case when [Median_ADI_NatRank]<=25 then '02: Upper Class'\r\n",
                "when ([Median_ADI_NatRank]>25 and [Median_ADI_NatRank]<=75) then '01: Middle Class'\r\n",
                "when [Median_ADI_NatRank]>75 then '00: Lower Class'\r\n",
                "else '99: Not Ranked' end as [ADI],B.B01001e1 as [Total_Pop]\r\n",
                "into #Population\r\n",
                "from [dbo].[US_Census_Tract_Charac] A\r\n",
                "left join\r\n",
                "[dbo].[Census_ACS5Yr_2018] B\r\n",
                "\ton A.GEOID_Data=B.GEOID_Data;\r\n",
                "\r\n",
                "select top 10 *\r\n",
                "from #Population"
            ],
            "metadata": {
                "azdata_cell_guid": "5ddfa3c8-2ed4-4acb-a046-c5b7fe939a1d"
            },
            "outputs": [
                {
                    "output_type": "display_data",
                    "data": {
                        "text/html": "(74001 rows affected)"
                    },
                    "metadata": {}
                },
                {
                    "output_type": "display_data",
                    "data": {
                        "text/html": "(10 rows affected)"
                    },
                    "metadata": {}
                },
                {
                    "output_type": "display_data",
                    "data": {
                        "text/html": "Total execution time: 00:00:00.303"
                    },
                    "metadata": {}
                },
                {
                    "output_type": "execute_result",
                    "metadata": {},
                    "execution_count": 2,
                    "data": {
                        "application/vnd.dataresource+json": {
                            "schema": {
                                "fields": [
                                    {
                                        "name": "GEOID_Data"
                                    },
                                    {
                                        "name": "GEOID_County_Z"
                                    },
                                    {
                                        "name": "State_Name"
                                    },
                                    {
                                        "name": "County_Name"
                                    },
                                    {
                                        "name": "HRSA_RURAL_DESC"
                                    },
                                    {
                                        "name": "ADI"
                                    },
                                    {
                                        "name": "Total_Pop"
                                    }
                                ]
                            },
                            "data": [
                                {
                                    "0": "14000US06037430801",
                                    "1": "Z06037",
                                    "2": "California",
                                    "3": "Los Angeles",
                                    "4": "00: Urban",
                                    "5": "02: Upper Class",
                                    "6": "6792.00000000"
                                },
                                {
                                    "0": "14000US06037430802",
                                    "1": "Z06037",
                                    "2": "California",
                                    "3": "Los Angeles",
                                    "4": "00: Urban",
                                    "5": "02: Upper Class",
                                    "6": "4534.00000000"
                                },
                                {
                                    "0": "14000US06037431001",
                                    "1": "Z06037",
                                    "2": "California",
                                    "3": "Los Angeles",
                                    "4": "00: Urban",
                                    "5": "02: Upper Class",
                                    "6": "7412.00000000"
                                },
                                {
                                    "0": "14000US06037431002",
                                    "1": "Z06037",
                                    "2": "California",
                                    "3": "Los Angeles",
                                    "4": "00: Urban",
                                    "5": "02: Upper Class",
                                    "6": "3120.00000000"
                                },
                                {
                                    "0": "14000US06037431100",
                                    "1": "Z06037",
                                    "2": "California",
                                    "3": "Los Angeles",
                                    "4": "00: Urban",
                                    "5": "02: Upper Class",
                                    "6": "7087.00000000"
                                },
                                {
                                    "0": "14000US06037431300",
                                    "1": "Z06037",
                                    "2": "California",
                                    "3": "Los Angeles",
                                    "4": "00: Urban",
                                    "5": "02: Upper Class",
                                    "6": "2722.00000000"
                                },
                                {
                                    "0": "14000US06037432602",
                                    "1": "Z06037",
                                    "2": "California",
                                    "3": "Los Angeles",
                                    "4": "00: Urban",
                                    "5": "02: Upper Class",
                                    "6": "4940.00000000"
                                },
                                {
                                    "0": "14000US06037432902",
                                    "1": "Z06037",
                                    "2": "California",
                                    "3": "Los Angeles",
                                    "4": "00: Urban",
                                    "5": "02: Upper Class",
                                    "6": "3380.00000000"
                                },
                                {
                                    "0": "14000US06037433200",
                                    "1": "Z06037",
                                    "2": "California",
                                    "3": "Los Angeles",
                                    "4": "00: Urban",
                                    "5": "02: Upper Class",
                                    "6": "6270.00000000"
                                },
                                {
                                    "0": "14000US06037433501",
                                    "1": "Z06037",
                                    "2": "California",
                                    "3": "Los Angeles",
                                    "4": "00: Urban",
                                    "5": "00: Lower Class",
                                    "6": "1870.00000000"
                                }
                            ]
                        },
                        "text/html": [
                            "<table>",
                            "<tr><th>GEOID_Data</th><th>GEOID_County_Z</th><th>State_Name</th><th>County_Name</th><th>HRSA_RURAL_DESC</th><th>ADI</th><th>Total_Pop</th></tr>",
                            "<tr><td>14000US06037430801</td><td>Z06037</td><td>California</td><td>Los Angeles</td><td>00: Urban</td><td>02: Upper Class</td><td>6792.00000000</td></tr>",
                            "<tr><td>14000US06037430802</td><td>Z06037</td><td>California</td><td>Los Angeles</td><td>00: Urban</td><td>02: Upper Class</td><td>4534.00000000</td></tr>",
                            "<tr><td>14000US06037431001</td><td>Z06037</td><td>California</td><td>Los Angeles</td><td>00: Urban</td><td>02: Upper Class</td><td>7412.00000000</td></tr>",
                            "<tr><td>14000US06037431002</td><td>Z06037</td><td>California</td><td>Los Angeles</td><td>00: Urban</td><td>02: Upper Class</td><td>3120.00000000</td></tr>",
                            "<tr><td>14000US06037431100</td><td>Z06037</td><td>California</td><td>Los Angeles</td><td>00: Urban</td><td>02: Upper Class</td><td>7087.00000000</td></tr>",
                            "<tr><td>14000US06037431300</td><td>Z06037</td><td>California</td><td>Los Angeles</td><td>00: Urban</td><td>02: Upper Class</td><td>2722.00000000</td></tr>",
                            "<tr><td>14000US06037432602</td><td>Z06037</td><td>California</td><td>Los Angeles</td><td>00: Urban</td><td>02: Upper Class</td><td>4940.00000000</td></tr>",
                            "<tr><td>14000US06037432902</td><td>Z06037</td><td>California</td><td>Los Angeles</td><td>00: Urban</td><td>02: Upper Class</td><td>3380.00000000</td></tr>",
                            "<tr><td>14000US06037433200</td><td>Z06037</td><td>California</td><td>Los Angeles</td><td>00: Urban</td><td>02: Upper Class</td><td>6270.00000000</td></tr>",
                            "<tr><td>14000US06037433501</td><td>Z06037</td><td>California</td><td>Los Angeles</td><td>00: Urban</td><td>00: Lower Class</td><td>1870.00000000</td></tr>",
                            "</table>"
                        ]
                    }
                }
            ],
            "execution_count": 2
        },
        {
            "cell_type": "code",
            "source": [
                " -- Minimum Travel Time to All Hospitals, Available Nurse FTE within 30 minutes, and Minimum Travel Time from a sensitivity analysis of Nurse to Beds Thresholds\r\n",
                "\r\n",
                "--drop table #TravelMap\r\n",
                "Select Distinct A.*\r\n",
                "                ,ISNULL(B.Closest_Hospital,361) AS Closest_Hospital_As_Is\r\n",
                "\t\t\t\t,ISNULL(C.NurseFTE_30Min,0) AS NurseFTE_30Min\r\n",
                "\t\t\t\t,ISNULL(D.Closest_Hospital,361) AS Closest_Hospital_Above_PTile_10\r\n",
                "\t\t\t\t,ISNULL(E.Closest_Hospital,361) AS Closest_Hospital_Above_PTile_15\r\n",
                "\t\t\t\t,ISNULL(F.Closest_Hospital,361) AS Closest_Hospital_Above_PTile_20\r\n",
                "into #TravelMap\r\n",
                "from\r\n",
                "--Population of interest\r\n",
                "#Population A\r\n",
                "left join\r\n",
                "--Find closest hospital when all are open\r\n",
                "(\r\n",
                "select GEOID_Data, MIN(TOTAL_TRAVELTIME) AS Closest_Hospital\r\n",
                "from \r\n",
                "[dbo].[Travel_Matrix]\r\n",
                "where Provider_ID in\r\n",
                "(select ID from #Nurse)\r\n",
                "Group by GEOID_Data\r\n",
                ") B\r\n",
                "\ton A.GEOID_Data=B.GEOID_Data\r\n",
                "left join\r\n",
                "--Find available Nurse FTE within 30 minutes\r\n",
                "(\r\n",
                "select A.GEOID_Data, SUM(B.Est_FTE_Nurses) AS NurseFTE_30Min\r\n",
                "from \r\n",
                "[dbo].[Travel_Matrix] as A\r\n",
                "left join\r\n",
                "#Nurse B\r\n",
                "\ton A.Provider_ID=B.ID\r\n",
                "where A.Provider_ID in\r\n",
                "(select ID from #Nurse)\r\n",
                "and A.TOTAL_TRAVELTIME<=30\r\n",
                "Group by GEOID_Data\r\n",
                ") C\r\n",
                "\ton A.GEOID_Data=C.GEOID_Data\r\n",
                "--Find closest hospital when FTE/Beds<1 is not available\r\n",
                "left join\r\n",
                "(\r\n",
                "select GEOID_Data, MIN(TOTAL_TRAVELTIME) AS Closest_Hospital\r\n",
                "from \r\n",
                "[dbo].[Travel_Matrix]\r\n",
                "where \r\n",
                "Provider_ID in\r\n",
                "(select ID from #Nurse)\r\n",
                "and\r\n",
                "Provider_ID in\r\n",
                "(select ID from #Nurse where (Est_FTE_Nurses/(BEDS_Non_Nursing*1.00))>=1)\r\n",
                "Group by GEOID_Data\r\n",
                ") D\r\n",
                "\ton A.GEOID_Data=D.GEOID_Data\r\n",
                "--Find closest hospital when FTE/Beds<1.5 is not available\r\n",
                "left join\r\n",
                "(\r\n",
                "select GEOID_Data, MIN(TOTAL_TRAVELTIME) AS Closest_Hospital\r\n",
                "from \r\n",
                "[dbo].[Travel_Matrix]\r\n",
                "where \r\n",
                "Provider_ID in\r\n",
                "(select ID from #Nurse)\r\n",
                "and\r\n",
                "Provider_ID in\r\n",
                "(select ID from #Nurse where (Est_FTE_Nurses/(BEDS_Non_Nursing*1.00))>=1.50)\r\n",
                "Group by GEOID_Data\r\n",
                ") E\r\n",
                "\ton A.GEOID_Data=E.GEOID_Data\r\n",
                "--Find closest hospital when FTE/Beds<2 is not available\r\n",
                "left join\r\n",
                "(\r\n",
                "select GEOID_Data, MIN(TOTAL_TRAVELTIME) AS Closest_Hospital\r\n",
                "from \r\n",
                "[dbo].[Travel_Matrix]\r\n",
                "where \r\n",
                "Provider_ID in\r\n",
                "(select ID from #Nurse)\r\n",
                "and\r\n",
                "Provider_ID in\r\n",
                "(select ID from #Nurse where (Est_FTE_Nurses/(BEDS_Non_Nursing*1.00))>=2)\r\n",
                "Group by GEOID_Data\r\n",
                ") F\r\n",
                "\ton A.GEOID_Data=F.GEOID_Data\r\n",
                "order by A.GEOID_Data;\r\n",
                "\r\n",
                "select top 10 * from #TravelMap;\r\n",
                "\r\n",
                "select distinct *\r\n",
                "into HCAN361_25.dbo.TravelMap_Group2\r\n",
                "from #TravelMap;\r\n",
                "\r\n",
                "alter table HCAN361_25.dbo.TravelMap_Group2\r\n",
                "alter column GEOID_Data varchar(30) not null;\r\n",
                "\r\n",
                "alter table HCAN361_25.dbo.TravelMap_Group2\r\n",
                "add constraint pk_trvl_Grp2 primary key(GEOID_Data);\r\n",
                ""
            ],
            "metadata": {
                "azdata_cell_guid": "8b3ea061-0855-422d-9059-cd748298f7d8"
            },
            "outputs": [
{
    "output_type": "display_data",
    "data": {
        "text/html": "(74001 rows affected)"
    },
    "metadata": {}
}, {
    "output_type": "display_data",
    "data": {
        "text/html": "(10 rows affected)"
    },
    "metadata": {}
}, {
    "output_type": "display_data",
    "data": {
        "text/html": "(74001 rows affected)"
    },
    "metadata": {}
}, {
    "output_type": "display_data",
    "data": {
        "text/html": "Total execution time: 00:00:51.476"
    },
    "metadata": {}
}, {
    "output_type": "execute_result",
    "metadata": {},
    "execution_count": 4,
    "data": {
        "application/vnd.dataresource+json": {
            "schema": {
                "fields": [
                    {
                        "name": "GEOID_Data"
                    },
                    {
                        "name": "GEOID_County_Z"
                    },
                    {
                        "name": "State_Name"
                    },
                    {
                        "name": "County_Name"
                    },
                    {
                        "name": "HRSA_RURAL_DESC"
                    },
                    {
                        "name": "ADI"
                    },
                    {
                        "name": "Total_Pop"
                    },
                    {
                        "name": "Closest_Hospital_As_Is"
                    },
                    {
                        "name": "NurseFTE_30Min"
                    },
                    {
                        "name": "Closest_Hospital_Above_PTile_10"
                    },
                    {
                        "name": "Closest_Hospital_Above_PTile_15"
                    },
                    {
                        "name": "Closest_Hospital_Above_PTile_20"
                    }
                ]
            },
            "data": [
                {
                    "0": "14000US19049050600",
                    "1": "Z19049",
                    "2": "Iowa",
                    "3": "Dallas",
                    "4": "00: Urban",
                    "5": "01: Middle Class",
                    "6": "2705.00000000",
                    "7": "28.927683180458512",
                    "8": "72.5",
                    "9": "28.927683180458512",
                    "10": "28.927683180458512",
                    "11": "28.927683180458512"
                },
                {
                    "0": "14000US19049050809",
                    "1": "Z19049",
                    "2": "Iowa",
                    "3": "Dallas",
                    "4": "00: Urban",
                    "5": "01: Middle Class",
                    "6": "9978.00000000",
                    "7": "8.624315557187298",
                    "8": "3548.5",
                    "9": "17.956831870887456",
                    "10": "17.956831870887456",
                    "11": "17.977617142372207"
                },
                {
                    "0": "14000US19049050811",
                    "1": "Z19049",
                    "2": "Iowa",
                    "3": "Dallas",
                    "4": "00: Urban",
                    "5": "02: Upper Class",
                    "6": "12508.00000000",
                    "7": "8.827041612001112",
                    "8": "3509",
                    "9": "15.93671916898836",
                    "10": "15.93671916898836",
                    "11": "15.95750444047311"
                },
                {
                    "0": "14000US19049050901",
                    "1": "Z19049",
                    "2": "Iowa",
                    "3": "Dallas",
                    "4": "00: Urban",
                    "5": "01: Middle Class",
                    "6": "3687.00000000",
                    "7": "9.80090537495819",
                    "8": "3509",
                    "9": "21.923446201672007",
                    "10": "21.923446201672007",
                    "11": "21.944231473156755"
                },
                {
                    "0": "14000US19049050902",
                    "1": "Z19049",
                    "2": "Iowa",
                    "3": "Dallas",
                    "4": "00: Urban",
                    "5": "01: Middle Class",
                    "6": "4013.00000000",
                    "7": "16.869637287714426",
                    "8": "3548.5",
                    "9": "23.33448629982246",
                    "10": "23.33448629982246",
                    "11": "23.355271571307206"
                },
                {
                    "0": "14000US19051080200",
                    "1": "Z19051",
                    "2": "Iowa",
                    "3": "Davis",
                    "4": "01: Rural",
                    "5": "01: Middle Class",
                    "6": "4684.00000000",
                    "7": "14.037810298124409",
                    "8": "41",
                    "9": "14.037810298124409",
                    "10": "14.037810298124409",
                    "11": "14.037810298124409"
                },
                {
                    "0": "14000US19053960300",
                    "1": "Z19053",
                    "2": "Iowa",
                    "3": "Decatur",
                    "4": "01: Rural",
                    "5": "01: Middle Class",
                    "6": "2172.00000000",
                    "7": "0.044978472585642",
                    "8": "131",
                    "9": "0.044978472585642",
                    "10": "0.044978472585642",
                    "11": "0.044978472585642"
                },
                {
                    "0": "14000US19059451000",
                    "1": "Z19059",
                    "2": "Iowa",
                    "3": "Dickinson",
                    "4": "01: Rural",
                    "5": "01: Middle Class",
                    "6": "2708.00000000",
                    "7": "9.514285637844731",
                    "8": "150.5",
                    "9": "9.514285637844731",
                    "10": "9.514285637844731",
                    "11": "9.514285637844731"
                },
                {
                    "0": "14000US19061000100",
                    "1": "Z19061",
                    "2": "Iowa",
                    "3": "Dubuque",
                    "4": "00: Urban",
                    "5": "00: Lower Class",
                    "6": "3146.00000000",
                    "7": "5.900115477341917",
                    "8": "700.5",
                    "9": "5.900115477341917",
                    "10": "6.252752725318453",
                    "11": "6.252752725318453"
                },
                {
                    "0": "14000US19061000600",
                    "1": "Z19061",
                    "2": "Iowa",
                    "3": "Dubuque",
                    "4": "00: Urban",
                    "5": "01: Middle Class",
                    "6": "3279.00000000",
                    "7": "5.637410049230497",
                    "8": "700.5",
                    "9": "5.637410049230497",
                    "10": "5.637410049230497",
                    "11": "5.637410049230497"
                }
            ]
        },
        "text/html": [
            "<table>",
            "<tr><th>GEOID_Data</th><th>GEOID_County_Z</th><th>State_Name</th><th>County_Name</th><th>HRSA_RURAL_DESC</th><th>ADI</th><th>Total_Pop</th><th>Closest_Hospital_As_Is</th><th>NurseFTE_30Min</th><th>Closest_Hospital_Above_PTile_10</th><th>Closest_Hospital_Above_PTile_15</th><th>Closest_Hospital_Above_PTile_20</th></tr>",
            "<tr><td>14000US19049050600</td><td>Z19049</td><td>Iowa</td><td>Dallas</td><td>00: Urban</td><td>01: Middle Class</td><td>2705.00000000</td><td>28.927683180458512</td><td>72.5</td><td>28.927683180458512</td><td>28.927683180458512</td><td>28.927683180458512</td></tr>",
            "<tr><td>14000US19049050809</td><td>Z19049</td><td>Iowa</td><td>Dallas</td><td>00: Urban</td><td>01: Middle Class</td><td>9978.00000000</td><td>8.624315557187298</td><td>3548.5</td><td>17.956831870887456</td><td>17.956831870887456</td><td>17.977617142372207</td></tr>",
            "<tr><td>14000US19049050811</td><td>Z19049</td><td>Iowa</td><td>Dallas</td><td>00: Urban</td><td>02: Upper Class</td><td>12508.00000000</td><td>8.827041612001112</td><td>3509</td><td>15.93671916898836</td><td>15.93671916898836</td><td>15.95750444047311</td></tr>",
            "<tr><td>14000US19049050901</td><td>Z19049</td><td>Iowa</td><td>Dallas</td><td>00: Urban</td><td>01: Middle Class</td><td>3687.00000000</td><td>9.80090537495819</td><td>3509</td><td>21.923446201672007</td><td>21.923446201672007</td><td>21.944231473156755</td></tr>",
            "<tr><td>14000US19049050902</td><td>Z19049</td><td>Iowa</td><td>Dallas</td><td>00: Urban</td><td>01: Middle Class</td><td>4013.00000000</td><td>16.869637287714426</td><td>3548.5</td><td>23.33448629982246</td><td>23.33448629982246</td><td>23.355271571307206</td></tr>",
            "<tr><td>14000US19051080200</td><td>Z19051</td><td>Iowa</td><td>Davis</td><td>01: Rural</td><td>01: Middle Class</td><td>4684.00000000</td><td>14.037810298124409</td><td>41</td><td>14.037810298124409</td><td>14.037810298124409</td><td>14.037810298124409</td></tr>",
            "<tr><td>14000US19053960300</td><td>Z19053</td><td>Iowa</td><td>Decatur</td><td>01: Rural</td><td>01: Middle Class</td><td>2172.00000000</td><td>0.044978472585642</td><td>131</td><td>0.044978472585642</td><td>0.044978472585642</td><td>0.044978472585642</td></tr>",
            "<tr><td>14000US19059451000</td><td>Z19059</td><td>Iowa</td><td>Dickinson</td><td>01: Rural</td><td>01: Middle Class</td><td>2708.00000000</td><td>9.514285637844731</td><td>150.5</td><td>9.514285637844731</td><td>9.514285637844731</td><td>9.514285637844731</td></tr>",
            "<tr><td>14000US19061000100</td><td>Z19061</td><td>Iowa</td><td>Dubuque</td><td>00: Urban</td><td>00: Lower Class</td><td>3146.00000000</td><td>5.900115477341917</td><td>700.5</td><td>5.900115477341917</td><td>6.252752725318453</td><td>6.252752725318453</td></tr>",
            "<tr><td>14000US19061000600</td><td>Z19061</td><td>Iowa</td><td>Dubuque</td><td>00: Urban</td><td>01: Middle Class</td><td>3279.00000000</td><td>5.637410049230497</td><td>700.5</td><td>5.637410049230497</td><td>5.637410049230497</td><td>5.637410049230497</td></tr>",
            "</table>"
        ]
    }
}
],
            "execution_count": 3
        },
        {
            "cell_type": "code",
            "source": [
                " -- Standardized rate of population per bed at County Level\r\n",
                "SELECT DISTINCT \r\n",
                " *\r\n",
                ",(BEDS_Non_Nursing/Total_Pop)*1000 as Beds_per_1K_People\r\n",
                ",case when BEDS_Non_Nursing>0 then\r\n",
                " (Est_FTE_Nurses/BEDS_Non_Nursing) \r\n",
                " else 0 end as Nurse_FTE_per_Bed\r\n",
                "into #county_level\r\n",
                "FROM\r\n",
                "(\r\n",
                "select A.State_Name\r\n",
                "      ,A.County_Name\r\n",
                "\t  ,A.GEOID_County_Z\r\n",
                "\t  ,isnull(sum(B.BEDS_Non_Nursing),0) as BEDS_Non_Nursing \r\n",
                "\t  ,isnull(sum(A.Total_Pop),0) as Total_Pop\r\n",
                "\t  ,isnull(sum(B.Est_FTE_Nurses),0) as Est_FTE_Nurses\r\n",
                "from \r\n",
                "#Population as A\r\n",
                "left join\r\n",
                "#Nurse as B\r\n",
                "\ton A.State_Name=B.State_Name and \r\n",
                "\t   A.County_Name=B.County_Name\r\n",
                "group by A.State_Name, A.County_Name, A.GEOID_County_Z\r\n",
                ")A\r\n",
                "order by State_Name, County_Name, GEOID_County_Z;\r\n",
                "\r\n",
                "\r\n",
                "select top 10 *\r\n",
                "from #county_level;\r\n",
                "\r\n",
                "select distinct *\r\n",
                "into HCAN361_25.dbo.county_level_Grp2\r\n",
                "from #county_level;\r\n",
                "\r\n",
                "alter table HCAN361_25.dbo.county_level_Grp2\r\n",
                "alter column GEOID_County_Z varchar(30) not null;\r\n",
                "\r\n",
                "alter table HCAN361_25.dbo.county_level_Grp2\r\n",
                "add constraint pk_cnty_Grp2 primary key(GEOID_County_Z);\r\n",
                ""
            ],
            "metadata": {
                "azdata_cell_guid": "d76d46ce-469a-40a8-91fd-5f905ef2fbd2"
            },
            "outputs": [
{
    "output_type": "display_data",
    "data": {
        "text/html": "Warning: Null value is eliminated by an aggregate or other SET operation."
    },
    "metadata": {}
}, {
    "output_type": "display_data",
    "data": {
        "text/html": "(3220 rows affected)"
    },
    "metadata": {}
}, {
    "output_type": "display_data",
    "data": {
        "text/html": "(10 rows affected)"
    },
    "metadata": {}
}, {
    "output_type": "display_data",
    "data": {
        "text/html": "(3220 rows affected)"
    },
    "metadata": {}
}, {
    "output_type": "display_data",
    "data": {
        "text/html": "Total execution time: 00:00:05.301"
    },
    "metadata": {}
}, {
    "output_type": "execute_result",
    "metadata": {},
    "execution_count": 5,
    "data": {
        "application/vnd.dataresource+json": {
            "schema": {
                "fields": [
                    {
                        "name": "State_Name"
                    },
                    {
                        "name": "County_Name"
                    },
                    {
                        "name": "GEOID_County_Z"
                    },
                    {
                        "name": "BEDS_Non_Nursing"
                    },
                    {
                        "name": "Total_Pop"
                    },
                    {
                        "name": "Est_FTE_Nurses"
                    },
                    {
                        "name": "Beds_per_1K_People"
                    },
                    {
                        "name": "Nurse_FTE_per_Bed"
                    }
                ]
            },
            "data": [
                {
                    "0": "Alabama",
                    "1": "Barbour",
                    "2": "Z01005",
                    "3": "423",
                    "4": "25782.00000000",
                    "5": "432",
                    "6": "16.40679543867815",
                    "7": "1.0212765957446808"
                },
                {
                    "0": "Alabama",
                    "1": "Bibb",
                    "2": "Z01007",
                    "3": "140",
                    "4": "22527.00000000",
                    "5": "132",
                    "6": "6.214764504816443",
                    "7": "0.9428571428571428"
                },
                {
                    "0": "Alabama",
                    "1": "Cherokee",
                    "2": "Z01019",
                    "3": "270",
                    "4": "25853.00000000",
                    "5": "177",
                    "6": "10.443662244226974",
                    "7": "0.6555555555555556"
                },
                {
                    "0": "Alabama",
                    "1": "Choctaw",
                    "2": "Z01023",
                    "3": "100",
                    "4": "13075.00000000",
                    "5": "120",
                    "6": "7.648183556405353",
                    "7": "1.2"
                },
                {
                    "0": "Alabama",
                    "1": "Conecuh",
                    "2": "Z01035",
                    "3": "220",
                    "4": "12514.00000000",
                    "5": "155",
                    "6": "17.58031005274093",
                    "7": "0.7045454545454546"
                },
                {
                    "0": "Alabama",
                    "1": "Dale",
                    "2": "Z01045",
                    "3": "966",
                    "4": "49255.00000000",
                    "5": "1554",
                    "6": "19.612222109430515",
                    "7": "1.608695652173913"
                },
                {
                    "0": "Alabama",
                    "1": "Henry",
                    "2": "Z01067",
                    "3": "0",
                    "4": "17124.00000000",
                    "5": "0",
                    "6": "0",
                    "7": "0"
                },
                {
                    "0": "Alabama",
                    "1": "Jefferson",
                    "2": "Z01073",
                    "3": "712147",
                    "4": "9238488.00000000",
                    "5": "1669120",
                    "6": "77.08480002355364",
                    "7": "2.3437857633325705"
                },
                {
                    "0": "Alabama",
                    "1": "Lamar",
                    "2": "Z01075",
                    "3": "0",
                    "4": "13933.00000000",
                    "5": "0",
                    "6": "0",
                    "7": "0"
                },
                {
                    "0": "Alabama",
                    "1": "Lawrence",
                    "2": "Z01079",
                    "3": "387",
                    "4": "33171.00000000",
                    "5": "499.5",
                    "6": "11.66681740074161",
                    "7": "1.2906976744186047"
                }
            ]
        },
        "text/html": [
            "<table>",
            "<tr><th>State_Name</th><th>County_Name</th><th>GEOID_County_Z</th><th>BEDS_Non_Nursing</th><th>Total_Pop</th><th>Est_FTE_Nurses</th><th>Beds_per_1K_People</th><th>Nurse_FTE_per_Bed</th></tr>",
            "<tr><td>Alabama</td><td>Barbour</td><td>Z01005</td><td>423</td><td>25782.00000000</td><td>432</td><td>16.40679543867815</td><td>1.0212765957446808</td></tr>",
            "<tr><td>Alabama</td><td>Bibb</td><td>Z01007</td><td>140</td><td>22527.00000000</td><td>132</td><td>6.214764504816443</td><td>0.9428571428571428</td></tr>",
            "<tr><td>Alabama</td><td>Cherokee</td><td>Z01019</td><td>270</td><td>25853.00000000</td><td>177</td><td>10.443662244226974</td><td>0.6555555555555556</td></tr>",
            "<tr><td>Alabama</td><td>Choctaw</td><td>Z01023</td><td>100</td><td>13075.00000000</td><td>120</td><td>7.648183556405353</td><td>1.2</td></tr>",
            "<tr><td>Alabama</td><td>Conecuh</td><td>Z01035</td><td>220</td><td>12514.00000000</td><td>155</td><td>17.58031005274093</td><td>0.7045454545454546</td></tr>",
            "<tr><td>Alabama</td><td>Dale</td><td>Z01045</td><td>966</td><td>49255.00000000</td><td>1554</td><td>19.612222109430515</td><td>1.608695652173913</td></tr>",
            "<tr><td>Alabama</td><td>Henry</td><td>Z01067</td><td>0</td><td>17124.00000000</td><td>0</td><td>0</td><td>0</td></tr>",
            "<tr><td>Alabama</td><td>Jefferson</td><td>Z01073</td><td>712147</td><td>9238488.00000000</td><td>1669120</td><td>77.08480002355364</td><td>2.3437857633325705</td></tr>",
            "<tr><td>Alabama</td><td>Lamar</td><td>Z01075</td><td>0</td><td>13933.00000000</td><td>0</td><td>0</td><td>0</td></tr>",
            "<tr><td>Alabama</td><td>Lawrence</td><td>Z01079</td><td>387</td><td>33171.00000000</td><td>499.5</td><td>11.66681740074161</td><td>1.2906976744186047</td></tr>",
            "</table>"
        ]
    }
}
],
            "execution_count": null
        },
        {
            "cell_type": "code",
            "source": [
                "--Table 1: Nationwide Access to Nurse FTEs and Implications of Access if Definition of Appropriate Nurse FTE to Bed Ratio is Defined \r\n",
                "SELECT DISTINCT *\r\n",
                "FROM\r\n",
                "(\r\n",
                "Select Distinct\r\n",
                " State_Name\r\n",
                " ,PERCENTILE_CONT(0.5) WITHIN GROUP (ORDER BY NurseFTE_30Min) OVER (PARTITION BY State_Name) AS [Median Nurse FTE W_in 30 Min Statewide]\r\n",
                ",PERCENTILE_CONT(0.5) WITHIN GROUP (ORDER BY Closest_Hospital_As_Is) OVER (PARTITION BY State_Name) AS [Median Closest Travel Time As Is Statewide]\r\n",
                ",PERCENTILE_CONT(0.5) WITHIN GROUP (ORDER BY Closest_Hospital_Above_PTile_10) OVER (PARTITION BY State_Name) AS [Median Closest Travel Time Above 1 FTE Statewide]\r\n",
                ",PERCENTILE_CONT(0.5) WITHIN GROUP (ORDER BY Closest_Hospital_Above_PTile_15) OVER (PARTITION BY State_Name) AS [Median Closest Travel Time Above 1.5 FTE Statewide]\r\n",
                ",PERCENTILE_CONT(0.5) WITHIN GROUP (ORDER BY Closest_Hospital_Above_PTile_20) OVER (PARTITION BY State_Name) AS [Median Closest Travel Time Above 2 FTE Statewide]\r\n",
                "\r\n",
                ",PERCENTILE_CONT(0.5) WITHIN GROUP (ORDER BY case when HRSA_RURAL_DESC='00: Urban' then NurseFTE_30Min End) OVER (PARTITION BY State_Name) AS [Median Nurse FTE W_in 30 Min Urban]\r\n",
                ",PERCENTILE_CONT(0.5) WITHIN GROUP (ORDER BY case when HRSA_RURAL_DESC='00: Urban' then Closest_Hospital_As_Is End) OVER (PARTITION BY State_Name) AS [Median Closest Travel Time As Is Urban]\r\n",
                ",PERCENTILE_CONT(0.5) WITHIN GROUP (ORDER BY case when HRSA_RURAL_DESC='00: Urban' then Closest_Hospital_Above_PTile_10 End) OVER (PARTITION BY State_Name) AS [Median Closest Travel Time Above 1 FTE Urban]\r\n",
                ",PERCENTILE_CONT(0.5) WITHIN GROUP (ORDER BY case when HRSA_RURAL_DESC='00: Urban' then Closest_Hospital_Above_PTile_15 End) OVER (PARTITION BY State_Name) AS [Median Closest Travel Time Above 1.5 FTE Urban]\r\n",
                ",PERCENTILE_CONT(0.5) WITHIN GROUP (ORDER BY case when HRSA_RURAL_DESC='00: Urban' then Closest_Hospital_Above_PTile_20 End) OVER (PARTITION BY State_Name) AS [Median Closest Travel Time Above 2 FTE Urban]\r\n",
                "\r\n",
                "\r\n",
                ",PERCENTILE_CONT(0.5) WITHIN GROUP (ORDER BY case when HRSA_RURAL_DESC<>'00: Urban' then NurseFTE_30Min End) OVER (PARTITION BY State_Name) AS [Median Nurse FTE W_in 30 Min Rural]\r\n",
                ",PERCENTILE_CONT(0.5) WITHIN GROUP (ORDER BY case when HRSA_RURAL_DESC<>'00: Urban' then Closest_Hospital_As_Is End) OVER (PARTITION BY State_Name) AS [Median Closest Travel Time As Is Rural]\r\n",
                ",PERCENTILE_CONT(0.5) WITHIN GROUP (ORDER BY case when HRSA_RURAL_DESC<>'00: Urban' then Closest_Hospital_Above_PTile_10 End) OVER (PARTITION BY State_Name) AS [Median Closest Travel Time Above 1 FTE Rural]\r\n",
                ",PERCENTILE_CONT(0.5) WITHIN GROUP (ORDER BY case when HRSA_RURAL_DESC<>'00: Urban' then Closest_Hospital_Above_PTile_15 End) OVER (PARTITION BY State_Name) AS [Median Closest Travel Time Above 1.5 FTE Rural]\r\n",
                ",PERCENTILE_CONT(0.5) WITHIN GROUP (ORDER BY case when HRSA_RURAL_DESC<>'00: Urban' then Closest_Hospital_Above_PTile_20 End) OVER (PARTITION BY State_Name) AS [Median Closest Travel Time Above 2 FTE Rural]\r\n",
                "from\r\n",
                "HCAN361_25.dbo.TravelMap_Group2\r\n",
                "\r\n",
                "union all\r\n",
                "\r\n",
                "Select Distinct\r\n",
                " 'United States' as State_Name\r\n",
                " ,PERCENTILE_CONT(0.5) WITHIN GROUP (ORDER BY NurseFTE_30Min) OVER () AS [Median Nurse FTE W_in 30 Min Statewide]\r\n",
                ",PERCENTILE_CONT(0.5) WITHIN GROUP (ORDER BY Closest_Hospital_As_Is) OVER () AS [Median Closest Travel Time As Is Statewide]\r\n",
                ",PERCENTILE_CONT(0.5) WITHIN GROUP (ORDER BY Closest_Hospital_Above_PTile_10) OVER () AS [Median Closest Travel Time Above 1 FTE Statewide]\r\n",
                ",PERCENTILE_CONT(0.5) WITHIN GROUP (ORDER BY Closest_Hospital_Above_PTile_15) OVER () AS [Median Closest Travel Time Above 1.5 FTE Statewide]\r\n",
                ",PERCENTILE_CONT(0.5) WITHIN GROUP (ORDER BY Closest_Hospital_Above_PTile_20) OVER () AS [Median Closest Travel Time Above 2 FTE Statewide]\r\n",
                "\r\n",
                ",PERCENTILE_CONT(0.5) WITHIN GROUP (ORDER BY case when HRSA_RURAL_DESC='00: Urban' then NurseFTE_30Min End) OVER () AS [Median Nurse FTE W_in 30 Min Urban]\r\n",
                ",PERCENTILE_CONT(0.5) WITHIN GROUP (ORDER BY case when HRSA_RURAL_DESC='00: Urban' then Closest_Hospital_As_Is End) OVER () AS [Median Closest Travel Time As Is Urban]\r\n",
                ",PERCENTILE_CONT(0.5) WITHIN GROUP (ORDER BY case when HRSA_RURAL_DESC='00: Urban' then Closest_Hospital_Above_PTile_10 End) OVER () AS [Median Closest Travel Time Above 1 FTE Urban]\r\n",
                ",PERCENTILE_CONT(0.5) WITHIN GROUP (ORDER BY case when HRSA_RURAL_DESC='00: Urban' then Closest_Hospital_Above_PTile_15 End) OVER () AS [Median Closest Travel Time Above 1.5 FTE Urban]\r\n",
                ",PERCENTILE_CONT(0.5) WITHIN GROUP (ORDER BY case when HRSA_RURAL_DESC='00: Urban' then Closest_Hospital_Above_PTile_20 End) OVER () AS [Median Closest Travel Time Above 2 FTE Urban]\r\n",
                "\r\n",
                "\r\n",
                ",PERCENTILE_CONT(0.5) WITHIN GROUP (ORDER BY case when HRSA_RURAL_DESC<>'00: Urban' then NurseFTE_30Min End) OVER () AS [Median Nurse FTE W_in 30 Min Rural]\r\n",
                ",PERCENTILE_CONT(0.5) WITHIN GROUP (ORDER BY case when HRSA_RURAL_DESC<>'00: Urban' then Closest_Hospital_As_Is End) OVER () AS [Median Closest Travel Time As Is Rural]\r\n",
                ",PERCENTILE_CONT(0.5) WITHIN GROUP (ORDER BY case when HRSA_RURAL_DESC<>'00: Urban' then Closest_Hospital_Above_PTile_10 End) OVER () AS [Median Closest Travel Time Above 1 FTE Rural]\r\n",
                ",PERCENTILE_CONT(0.5) WITHIN GROUP (ORDER BY case when HRSA_RURAL_DESC<>'00: Urban' then Closest_Hospital_Above_PTile_15 End) OVER () AS [Median Closest Travel Time Above 1.5 FTE Rural]\r\n",
                ",PERCENTILE_CONT(0.5) WITHIN GROUP (ORDER BY case when HRSA_RURAL_DESC<>'00: Urban' then Closest_Hospital_Above_PTile_20 End) OVER () AS [Median Closest Travel Time Above 2 FTE Rural]\r\n",
                "from\r\n",
                "HCAN361_25.dbo.TravelMap_Group2\r\n",
                ") Z\r\n",
                "order by State_Name;\r\n",
                "\r\n",
                "--First 2 columns of table is straightforward. The point of changing the Nurse to Bed FTE standards is to understand areas most impacted if Ideal Service is Defined as a Hospital Having a Minimum Threshold \r\n",
                ""
            ],
            "metadata": {
                "azdata_cell_guid": "e15b8ebd-34db-4bfe-a05f-5c990eefcc6b"
            },
            "outputs": [
{
    "output_type": "display_data",
    "data": {
        "text/html": "(53 rows affected)"
    },
    "metadata": {}
}, {
    "output_type": "display_data",
    "data": {
        "text/html": "Total execution time: 00:00:17.080"
    },
    "metadata": {}
}, {
    "output_type": "execute_result",
    "metadata": {},
    "execution_count": 6,
    "data": {
        "application/vnd.dataresource+json": {
            "schema": {
                "fields": [
                    {
                        "name": "State_Name"
                    },
                    {
                        "name": "Median Nurse FTE W_in 30 Min Statewide"
                    },
                    {
                        "name": "Median Closest Travel Time As Is Statewide"
                    },
                    {
                        "name": "Median Closest Travel Time Above 1 FTE Statewide"
                    },
                    {
                        "name": "Median Closest Travel Time Above 1.5 FTE Statewide"
                    },
                    {
                        "name": "Median Closest Travel Time Above 2 FTE Statewide"
                    },
                    {
                        "name": "Median Nurse FTE W_in 30 Min Urban"
                    },
                    {
                        "name": "Median Closest Travel Time As Is Urban"
                    },
                    {
                        "name": "Median Closest Travel Time Above 1 FTE Urban"
                    },
                    {
                        "name": "Median Closest Travel Time Above 1.5 FTE Urban"
                    },
                    {
                        "name": "Median Closest Travel Time Above 2 FTE Urban"
                    },
                    {
                        "name": "Median Nurse FTE W_in 30 Min Rural"
                    },
                    {
                        "name": "Median Closest Travel Time As Is Rural"
                    },
                    {
                        "name": "Median Closest Travel Time Above 1 FTE Rural"
                    },
                    {
                        "name": "Median Closest Travel Time Above 1.5 FTE Rural"
                    },
                    {
                        "name": "Median Closest Travel Time Above 2 FTE Rural"
                    }
                ]
            },
            "data": [
                {
                    "0": "Alabama",
                    "1": "973.5",
                    "2": "11.601299666024637",
                    "3": "12.695146486348929",
                    "4": "15.71076673685974",
                    "5": "22.19305385257254",
                    "6": "2253",
                    "7": "10.326237108115452",
                    "8": "11.161877699350457",
                    "9": "12.752160704678502",
                    "10": "15.226566479950762",
                    "11": "158.5",
                    "12": "14.916436449722534",
                    "13": "16.34386863853664",
                    "14": "25.360394793653796",
                    "15": "44.917420453141744"
                },
                {
                    "0": "Alaska",
                    "1": "157",
                    "2": "16.648284081887677",
                    "3": "17.66732048417082",
                    "4": "19.501023958137928",
                    "5": "23.24094938680561",
                    "6": "1872",
                    "7": "7.474293725853453",
                    "8": "9.921465435284967",
                    "9": "9.921465435284967",
                    "10": "12.2461553745307",
                    "11": "0",
                    "12": "79.93941475465067",
                    "13": "104.36259743592818",
                    "14": "128.23016399845713",
                    "15": "272.4036308539643"
                },
                {
                    "0": "Arizona",
                    "1": "5496.5",
                    "2": "8.037048681338483",
                    "3": "8.479878908754515",
                    "4": "10.594907028237309",
                    "5": "12.612827133709036",
                    "6": "7134.5",
                    "7": "7.328467667792145",
                    "8": "7.869807309147876",
                    "9": "9.772788605993757",
                    "10": "11.865798333427989",
                    "11": "31",
                    "12": "29.524403768769826",
                    "13": "29.524403768769826",
                    "14": "36.16733113058223",
                    "15": "46.982961191603366"
                },
                {
                    "0": "Arkansas",
                    "1": "465",
                    "2": "12.82617281719356",
                    "3": "14.863397458402755",
                    "4": "19.662625290774336",
                    "5": "36.315046298569186",
                    "6": "1217.5",
                    "7": "10.195383834820447",
                    "8": "11.118568717221812",
                    "9": "11.967673814468592",
                    "10": "20.843322907576272",
                    "11": "71.75",
                    "12": "16.91061910809983",
                    "13": "20.79046764044171",
                    "14": "33.421002553679934",
                    "15": "48.466315802722136"
                },
                {
                    "0": "California",
                    "1": "7135",
                    "2": "7.612213342171019",
                    "3": "8.075908911378981",
                    "4": "8.80722425639523",
                    "5": "10.265522264503339",
                    "6": "7889",
                    "7": "7.347234541828171",
                    "8": "7.827608058842813",
                    "9": "8.512382740212935",
                    "10": "9.937200942864944",
                    "11": "91",
                    "12": "21.05377176247847",
                    "13": "21.67266323331256",
                    "14": "24.151278175144448",
                    "15": "29.03608706179638"
                },
                {
                    "0": "Colorado",
                    "1": "2343.5",
                    "2": "9.295610261031488",
                    "3": "9.892381846678708",
                    "4": "10.31316329483245",
                    "5": "11.570915232308682",
                    "6": "4948.5",
                    "7": "8.624605267503092",
                    "8": "9.16395632633345",
                    "9": "9.688874187234589",
                    "10": "10.8805987599135",
                    "11": "38.5",
                    "12": "26.2013803952933",
                    "13": "29.611239298725465",
                    "14": "31.191473798507182",
                    "15": "32.61548328651295"
                },
                {
                    "0": "Connecticut",
                    "1": "4007",
                    "2": "9.811690961128711",
                    "3": "10.192832014988843",
                    "4": "10.42442364351125",
                    "5": "15.868590666833523",
                    "6": "4813",
                    "7": "9.507222716330482",
                    "8": "10.041106635647983",
                    "9": "10.207250606208087",
                    "10": "15.786989838069882",
                    "11": "512.5",
                    "12": "15.497581781395528",
                    "13": "15.497581781395528",
                    "14": "15.497581781395528",
                    "15": "18.187976468861276"
                },
                {
                    "0": "Delaware",
                    "1": "4732",
                    "2": "10.456387967789286",
                    "3": "12.121046684861575",
                    "4": "12.212268597161735",
                    "5": "13.477114884216455",
                    "6": "4819",
                    "7": "9.114570870965466",
                    "8": "10.49564787127344",
                    "9": "10.516505617477819",
                    "10": "12.015666081252482",
                    "11": "628",
                    "12": "21.131438293939368",
                    "13": "22.4832626961746",
                    "14": "22.4832626961746",
                    "15": "22.4832626961746"
                },
                {
                    "0": "District of Columbia",
                    "1": "11831.5",
                    "2": "5.839016873359694",
                    "3": "6.783119098385216",
                    "4": "8.456008792058801",
                    "5": "9.002115502579013",
                    "6": "11831.5",
                    "7": "5.839016873359694",
                    "8": "6.783119098385216",
                    "9": "8.456008792058801",
                    "10": "9.002115502579013",
                    "11": "NULL",
                    "12": "NULL",
                    "13": "NULL",
                    "14": "NULL",
                    "15": "NULL"
                },
                {
                    "0": "Florida",
                    "1": "3402",
                    "2": "9.673219595604284",
                    "3": "10.212234551498097",
                    "4": "12.66134468232706",
                    "5": "19.179492271277496",
                    "6": "3972.75",
                    "7": "9.471406123964389",
                    "8": "9.933241876681553",
                    "9": "12.354463529526987",
                    "10": "18.54789937049756",
                    "11": "113",
                    "12": "20.010742496342694",
                    "13": "21.551302758933446",
                    "14": "28.081888649020662",
                    "15": "42.022883109596386"
                },
                {
                    "0": "Georgia",
                    "1": "1635",
                    "2": "11.037669217700714",
                    "3": "12.372293193349499",
                    "4": "13.308529266948732",
                    "5": "16.004734007445208",
                    "6": "2274.5",
                    "7": "10.602925301316727",
                    "8": "11.59832624094522",
                    "9": "12.303487958216653",
                    "10": "14.270649675942305",
                    "11": "243",
                    "12": "13.440875992043281",
                    "13": "16.51217511673454",
                    "14": "22.475415827255052",
                    "15": "31.236213347491713"
                },
                {
                    "0": "Hawaii",
                    "1": "3431",
                    "2": "9.868852370279733",
                    "3": "14.432723252028289",
                    "4": "15.426482979317594",
                    "5": "18.923382749034133",
                    "6": "4489",
                    "7": "8.118432415804754",
                    "8": "10.37421785698163",
                    "9": "10.37421785698163",
                    "10": "12.869361519992616",
                    "11": "50.5",
                    "12": "24.20841304187082",
                    "13": "27.292723289835752",
                    "14": "56.91301488484682",
                    "15": "63.45137192135244"
                },
                {
                    "0": "Idaho",
                    "1": "542.5",
                    "2": "12.880784408105947",
                    "3": "13.115734797896215",
                    "4": "13.335924700669928",
                    "5": "14.296803114971688",
                    "6": "1113",
                    "7": "8.848585998547355",
                    "8": "9.713927371163411",
                    "9": "9.824444948812614",
                    "10": "10.576553769609411",
                    "11": "32",
                    "12": "26.481446762510735",
                    "13": "26.484697021451467",
                    "14": "28.47863559496565",
                    "15": "35.633171244486554"
                },
                {
                    "0": "Illinois",
                    "1": "5599",
                    "2": "8.050079476796105",
                    "3": "8.815082069959",
                    "4": "10.296768501117764",
                    "5": "12.90382459178891",
                    "6": "7464.75",
                    "7": "7.687829697505574",
                    "8": "8.41638095107599",
                    "9": "9.977248735640341",
                    "10": "12.383810954862195",
                    "11": "206.5",
                    "12": "12.6674295932248",
                    "13": "13.230443144723623",
                    "14": "14.618750204824796",
                    "15": "18.838861467894578"
                },
                {
                    "0": "Indiana",
                    "1": "1403.5",
                    "2": "9.13640134632784",
                    "3": "10.081239910643303",
                    "4": "11.716151851473697",
                    "5": "15.618132831932357",
                    "6": "2664",
                    "7": "8.526991152660901",
                    "8": "9.51500304757032",
                    "9": "11.198120509716839",
                    "10": "14.69211065406364",
                    "11": "281",
                    "12": "11.286677814833471",
                    "13": "12.007002864820565",
                    "14": "13.799508095325788",
                    "15": "20.182066660294318"
                },
                {
                    "0": "Iowa",
                    "1": "331.5",
                    "2": "10.314878649922761",
                    "3": "11.97760874463959",
                    "4": "13.59208552130301",
                    "5": "20.360168483223696",
                    "6": "1318.5",
                    "7": "8.681832987643071",
                    "8": "9.768155689677734",
                    "9": "11.191461562561656",
                    "10": "15.801249795246227",
                    "11": "124.5",
                    "12": "13.175176881191561",
                    "13": "14.814166027573728",
                    "14": "18.03294961603269",
                    "15": "24.819149543606557"
                },
                {
                    "0": "Kansas",
                    "1": "1477",
                    "2": "8.529965743643546",
                    "3": "9.794845842220035",
                    "4": "11.21866747703875",
                    "5": "13.880451601158907",
                    "6": "3193.5",
                    "7": "8.026265366149648",
                    "8": "8.797395407782437",
                    "9": "9.54245146493167",
                    "10": "11.010826128631571",
                    "11": "111.5",
                    "12": "9.55471783869234",
                    "13": "12.90707712049906",
                    "14": "18.92559668292023",
                    "15": "29.86312687402318"
                },
                {
                    "0": "Kentucky",
                    "1": "775",
                    "2": "11.252759970600392",
                    "3": "12.325413840594447",
                    "4": "14.45567387192443",
                    "5": "22.12601786046635",
                    "6": "5900",
                    "7": "9.545828562686339",
                    "8": "10.996486736345132",
                    "9": "11.219557563769737",
                    "10": "14.057446830730191",
                    "11": "313.5",
                    "12": "13.588217562396565",
                    "13": "14.054681094704907",
                    "14": "21.894146966598342",
                    "15": "36.45122598062072"
                },
                {
                    "0": "Louisiana",
                    "1": "1755.5",
                    "2": "7.745820457920488",
                    "3": "9.245067316489466",
                    "4": "11.274368779104492",
                    "5": "14.420560441529453",
                    "6": "3322.5",
                    "7": "7.259849080666922",
                    "8": "8.361210270836356",
                    "9": "9.918539915939926",
                    "10": "12.375787971313551",
                    "11": "133",
                    "12": "12.039134808871545",
                    "13": "14.735518710452432",
                    "14": "22.858289318803372",
                    "15": "34.422497788969274"
                },
                {
                    "0": "Maine",
                    "1": "346.5",
                    "2": "16.58422103995163",
                    "3": "16.794225619899244",
                    "4": "17.454519981534055",
                    "5": "18.099408093052155",
                    "6": "1527",
                    "7": "13.449668985971737",
                    "8": "14.073172924198008",
                    "9": "14.313676043077473",
                    "10": "14.313676043077473",
                    "11": "132.25",
                    "12": "19.244875619596417",
                    "13": "19.48166178775934",
                    "14": "20.804656207056908",
                    "15": "22.12212113226766"
                },
                {
                    "0": "Maryland",
                    "1": "6235.5",
                    "2": "10.187747431556556",
                    "3": "10.644460481943002",
                    "4": "11.255329661724005",
                    "5": "12.206984704535568",
                    "6": "7166.25",
                    "7": "9.90969879737309",
                    "8": "10.515113521356563",
                    "9": "11.070423504952707",
                    "10": "11.953380661241164",
                    "11": "137.5",
                    "12": "17.97636317009101",
                    "13": "17.97636317009101",
                    "14": "22.992169217405184",
                    "15": "24.823771972543195"
                },
                {
                    "0": "Massachusetts",
                    "1": "3630.5",
                    "2": "8.95658054501492",
                    "3": "9.98160439628536",
                    "4": "11.007918933057478",
                    "5": "13.846869662780382",
                    "6": "3697",
                    "7": "8.819939339720017",
                    "8": "9.861754376112513",
                    "9": "10.891249605883736",
                    "10": "13.451076808246611",
                    "11": "97",
                    "12": "14.329906152743142",
                    "13": "14.745243040578172",
                    "14": "19.147869839262565",
                    "15": "31.12999285945439"
                },
                {
                    "0": "Michigan",
                    "1": "3677",
                    "2": "9.233533197320146",
                    "3": "9.977496043609586",
                    "4": "11.090122395499677",
                    "5": "12.959614751270294",
                    "6": "7067",
                    "7": "8.55531462423753",
                    "8": "9.200554659267967",
                    "9": "10.067862578186926",
                    "10": "11.272894655541684",
                    "11": "153.25",
                    "12": "15.639771253146751",
                    "13": "17.16520954035701",
                    "14": "21.919028023254896",
                    "15": "31.965457903170794"
                },
                {
                    "0": "Minnesota",
                    "1": "2552",
                    "2": "10.289446353883509",
                    "3": "11.044790881109723",
                    "4": "11.339645686508241",
                    "5": "13.00103076868211",
                    "6": "10941",
                    "7": "9.278452504516093",
                    "8": "9.718869990838154",
                    "9": "10.11447648290911",
                    "10": "10.54664512942453",
                    "11": "124",
                    "12": "13.769863511321319",
                    "13": "16.20167458552641",
                    "14": "19.364285386880052",
                    "15": "25.702939592328256"
                },
                {
                    "0": "Mississippi",
                    "1": "413.5",
                    "2": "11.154917010340867",
                    "3": "14.18348351629535",
                    "4": "18.326865193509235",
                    "5": "34.058879329644874",
                    "6": "2323",
                    "7": "9.594606326957217",
                    "8": "11.0087730025323",
                    "9": "11.665645886525974",
                    "10": "16.044679650436745",
                    "11": "219.5",
                    "12": "12.441737739275291",
                    "13": "16.975655321997266",
                    "14": "26.910887643307298",
                    "15": "47.70286594725401"
                },
                {
                    "0": "Missouri",
                    "1": "3899.5",
                    "2": "9.924295082376908",
                    "3": "10.81387044865585",
                    "4": "11.471192902251445",
                    "5": "13.747981022610725",
                    "6": "10574",
                    "7": "8.685110417193544",
                    "8": "9.421793144552773",
                    "9": "10.220696713118866",
                    "10": "11.490706007829717",
                    "11": "112",
                    "12": "16.11973104119007",
                    "13": "18.459413541808566",
                    "14": "22.880679154403364",
                    "15": "33.79881129634831"
                },
                {
                    "0": "Montana",
                    "1": "88.5",
                    "2": "14.732957697143005",
                    "3": "19.498948087012998",
                    "4": "21.935883245909974",
                    "5": "25.204551864130213",
                    "6": "795.5",
                    "7": "7.597544421537457",
                    "8": "7.597544421537457",
                    "9": "7.597544421537457",
                    "10": "8.73758570048097",
                    "11": "34.5",
                    "12": "23.63957551738207",
                    "13": "29.872288734948132",
                    "14": "32.68217510260726",
                    "15": "36.38595651946434"
                },
                {
                    "0": "Nebraska",
                    "1": "2665",
                    "2": "8.20617235857399",
                    "3": "8.551459745376855",
                    "4": "9.797150546563799",
                    "5": "12.029008336051639",
                    "6": "6541",
                    "7": "7.418620361591908",
                    "8": "7.621870576880191",
                    "9": "8.304760061664814",
                    "10": "9.734009251813942",
                    "11": "87.5",
                    "12": "12.243625634591655",
                    "13": "14.611646914702398",
                    "14": "20.917414028598877",
                    "15": "28.651240814081266"
                },
                {
                    "0": "Nevada",
                    "1": "7256.5",
                    "2": "7.570367362163552",
                    "3": "8.100251618638382",
                    "4": "8.403321991187319",
                    "5": "11.928780825954238",
                    "6": "7717",
                    "7": "7.165431578378341",
                    "8": "7.790196206526725",
                    "9": "8.050308604903746",
                    "10": "11.235448458064367",
                    "11": "20.75",
                    "12": "23.319805457032928",
                    "13": "28.99349582358746",
                    "14": "48.308794752386945",
                    "15": "48.308794752386945"
                },
                {
                    "0": "New Hampshire",
                    "1": "1406",
                    "2": "12.24211286177611",
                    "3": "13.464650016140155",
                    "4": "14.048154444465888",
                    "5": "15.40701343067471",
                    "6": "1944.75",
                    "7": "10.198198767963444",
                    "8": "10.919597774394386",
                    "9": "11.354458609952488",
                    "10": "13.430666847005073",
                    "11": "241",
                    "12": "15.976693218168663",
                    "13": "17.39609040550289",
                    "14": "18.269569332157026",
                    "15": "18.55918927576645"
                },
                {
                    "0": "New Jersey",
                    "1": "7263",
                    "2": "8.611892476612649",
                    "3": "9.008973348124075",
                    "4": "10.849552921550112",
                    "5": "14.604564612313483",
                    "6": "7468.5",
                    "7": "8.51937735640981",
                    "8": "8.941041399447553",
                    "9": "10.78290826516454",
                    "10": "14.493769139426117",
                    "11": "778.5",
                    "12": "16.105318011328535",
                    "13": "17.013011445648022",
                    "14": "17.013011445648022",
                    "15": "35.37953378453466"
                },
                {
                    "0": "New Mexico",
                    "1": "426.5",
                    "2": "10.908980758743226",
                    "3": "11.660443428646605",
                    "4": "13.040431347721974",
                    "5": "14.684290175846217",
                    "6": "4921",
                    "7": "9.905457477549213",
                    "8": "10.367119914970583",
                    "9": "11.797721582497928",
                    "10": "12.13317591087216",
                    "11": "88.5",
                    "12": "18.39315258669624",
                    "13": "22.8993451780911",
                    "14": "24.45742658249551",
                    "15": "34.640654768701836"
                },
                {
                    "0": "New York",
                    "1": "7741.25",
                    "2": "8.572846195783812",
                    "3": "9.2369489317447",
                    "4": "10.093292046115494",
                    "5": "12.846644074686925",
                    "6": "10238.5",
                    "7": "8.207502064892221",
                    "8": "8.859310801991148",
                    "9": "9.626035765215008",
                    "10": "12.197188071287336",
                    "11": "250.5",
                    "12": "15.99668980742737",
                    "13": "17.734771988104985",
                    "14": "21.583765283687406",
                    "15": "26.992027394042342"
                },
                {
                    "0": "North Carolina",
                    "1": "1658",
                    "2": "12.646551288823954",
                    "3": "13.44110074149687",
                    "4": "13.976778906805883",
                    "5": "16.610170394719358",
                    "6": "2815",
                    "7": "11.74704803514327",
                    "8": "12.301200318078271",
                    "9": "12.326777092224603",
                    "10": "14.749793852450104",
                    "11": "250",
                    "12": "15.869673334949383",
                    "13": "17.105786332476043",
                    "14": "19.80312537359286",
                    "15": "25.65911682958108"
                },
                {
                    "0": "North Dakota",
                    "1": "58.5",
                    "2": "10.051141207426506",
                    "3": "19.566990794031742",
                    "4": "20.434666955968325",
                    "5": "48.841701089883074",
                    "6": "1287",
                    "7": "5.278010931283896",
                    "8": "6.0294915350913",
                    "9": "6.568005765317052",
                    "10": "9.000113136612232",
                    "11": "35",
                    "12": "19.725047095195674",
                    "13": "30.08366077537184",
                    "14": "35.38530009116005",
                    "15": "64.96859039898746"
                },
                {
                    "0": "Ohio",
                    "1": "4851.5",
                    "2": "8.846354404968412",
                    "3": "9.383509102059769",
                    "4": "10.395816764454356",
                    "5": "12.184961030870593",
                    "6": "7607.75",
                    "7": "8.48550618624613",
                    "8": "8.997913485259339",
                    "9": "9.947377862240005",
                    "10": "11.253928811037003",
                    "11": "520",
                    "12": "10.711561477760036",
                    "13": "11.072099270822601",
                    "14": "13.498597883633447",
                    "15": "19.441909452257494"
                },
                {
                    "0": "Oklahoma",
                    "1": "2110.75",
                    "2": "7.968245354964643",
                    "3": "9.651927392614631",
                    "4": "11.27068562885576",
                    "5": "15.79392477132163",
                    "6": "5320",
                    "7": "6.769720863627342",
                    "8": "7.643815679156988",
                    "9": "9.039423070511939",
                    "10": "10.964586711262125",
                    "11": "127",
                    "12": "12.588307102715646",
                    "13": "19.465851676291585",
                    "14": "27.004334827572276",
                    "15": "35.70910203022187"
                },
                {
                    "0": "Oregon",
                    "1": "1590",
                    "2": "10.067107196616607",
                    "3": "10.365395440414199",
                    "4": "10.459197098031684",
                    "5": "10.770799702916296",
                    "6": "2393.25",
                    "7": "8.950849146697863",
                    "8": "9.350496422166078",
                    "9": "9.496239375368381",
                    "10": "9.726341545900691",
                    "11": "106",
                    "12": "18.403389641065964",
                    "13": "18.403389641065964",
                    "14": "19.92624465768921",
                    "15": "20.220317126582046"
                },
                {
                    "0": "Pennsylvania",
                    "1": "2571",
                    "2": "8.990413835395751",
                    "3": "9.893998288712343",
                    "4": "11.5963274444155",
                    "5": "14.995948736595999",
                    "6": "3385",
                    "7": "8.309991609139853",
                    "8": "9.187675173145678",
                    "9": "10.68995576878406",
                    "10": "13.32656710243402",
                    "11": "265.5",
                    "12": "16.208761161747695",
                    "13": "16.56291864925705",
                    "14": "21.635360582115084",
                    "15": "32.93527550842584"
                },
                {
                    "0": "Puerto Rico",
                    "1": "996",
                    "2": "10.777996167381389",
                    "3": "11.859146108212622",
                    "4": "33.48831806751831",
                    "5": "42.30903573410191",
                    "6": "1166",
                    "7": "10.104381527462053",
                    "8": "10.982223594573318",
                    "9": "31.44539464490681",
                    "10": "37.533108874142975",
                    "11": "165.5",
                    "12": "23.99636940860751",
                    "13": "24.58572866173335",
                    "14": "68.56604982445776",
                    "15": "78.15305068918936"
                },
                {
                    "0": "Rhode Island",
                    "1": "4845.5",
                    "2": "8.758502149996827",
                    "3": "9.370571631826834",
                    "4": "10.236991848720276",
                    "5": "14.43455237200549",
                    "6": "4845.5",
                    "7": "8.674064039616955",
                    "8": "9.36649460085877",
                    "9": "10.170199760352329",
                    "10": "14.344652958149773",
                    "11": "0",
                    "12": "104.55070641809355",
                    "13": "104.55070641809355",
                    "14": "104.55070641809355",
                    "15": "104.55070641809355"
                },
                {
                    "0": "South Carolina",
                    "1": "1290",
                    "2": "12.400228612748238",
                    "3": "13.551971774382011",
                    "4": "15.054750142513036",
                    "5": "20.97769868076564",
                    "6": "2081.5",
                    "7": "11.378523358994443",
                    "8": "12.400228612748238",
                    "9": "12.877212700457008",
                    "10": "18.09967318700032",
                    "11": "197.5",
                    "12": "17.344779158128837",
                    "13": "19.0371461234666",
                    "14": "28.20420577613222",
                    "15": "32.168701169813986"
                },
                {
                    "0": "South Dakota",
                    "1": "148",
                    "2": "11.554394501149606",
                    "3": "14.684525537407048",
                    "4": "16.52310537438551",
                    "5": "25.8379062927001",
                    "6": "3955",
                    "7": "8.800633072949672",
                    "8": "8.800633072949672",
                    "9": "8.800633072949672",
                    "10": "9.042667371355513",
                    "11": "49.75",
                    "12": "15.317603999849315",
                    "13": "21.461679672430137",
                    "14": "27.801220863820667",
                    "15": "37.37432551833906"
                },
                {
                    "0": "Tennessee",
                    "1": "1185.5",
                    "2": "11.323258886648173",
                    "3": "12.087990826828747",
                    "4": "14.242748190505278",
                    "5": "19.166649431369663",
                    "6": "3785",
                    "7": "10.389405024634847",
                    "8": "11.050268795162363",
                    "9": "12.267115536078162",
                    "10": "15.002973045316168",
                    "11": "153.5",
                    "12": "14.915285347625229",
                    "13": "17.048261601576016",
                    "14": "27.8684237863377",
                    "15": "47.52025599726502"
                },
                {
                    "0": "Texas",
                    "1": "3939",
                    "2": "9.09864340551736",
                    "3": "10.162748652599959",
                    "4": "11.284369335940621",
                    "5": "13.150049643789547",
                    "6": "6514.5",
                    "7": "8.547313942402152",
                    "8": "9.440610974829157",
                    "9": "10.249105628391288",
                    "10": "11.71003124738348",
                    "11": "79",
                    "12": "15.381962142379106",
                    "13": "20.957555844129658",
                    "14": "29.98718303151135",
                    "15": "38.7450849372528"
                },
                {
                    "0": "United States",
                    "1": "3136.5",
                    "2": "9.296179128318187",
                    "3": "10.047497330072792",
                    "4": "11.283693592752194",
                    "5": "13.958763832885431",
                    "6": "5047.5",
                    "7": "8.612166458230485",
                    "8": "9.27556904593108",
                    "9": "10.309402246880293",
                    "10": "12.442392499184024",
                    "11": "149.5",
                    "12": "15.149622261364303",
                    "13": "17.307242107736393",
                    "14": "22.31930891002172",
                    "15": "30.325748181287693"
                },
                {
                    "0": "Utah",
                    "1": "1989.5",
                    "2": "8.017816313791679",
                    "3": "8.264753076351292",
                    "4": "9.101963668035912",
                    "5": "10.1504151070152",
                    "6": "2713.25",
                    "7": "7.325280380276266",
                    "8": "7.648345035875143",
                    "9": "8.197481153247255",
                    "10": "8.663034326242059",
                    "11": "35",
                    "12": "25.13909011103879",
                    "13": "26.31466638723174",
                    "14": "30.880629063185594",
                    "15": "42.11021053642564"
                },
                {
                    "0": "Vermont",
                    "1": "209",
                    "2": "17.43412146107467",
                    "3": "17.737935572606382",
                    "4": "18.73440124996772",
                    "5": "19.740008734163478",
                    "6": "1659.5",
                    "7": "16.05948807253474",
                    "8": "16.05948807253474",
                    "9": "16.05948807253474",
                    "10": "16.05948807253474",
                    "11": "157.5",
                    "12": "18.188399628015688",
                    "13": "18.22883964224186",
                    "14": "19.298096992656028",
                    "15": "21.39279405829995"
                },
                {
                    "0": "Virginia",
                    "1": "2888.5",
                    "2": "11.007368911651962",
                    "3": "11.27234646412003",
                    "4": "12.155249181641661",
                    "5": "14.369399954323882",
                    "6": "4302.5",
                    "7": "10.192544470995568",
                    "8": "10.442426005615118",
                    "9": "11.407333994965375",
                    "10": "13.321121089231339",
                    "11": "127",
                    "12": "21.392036198685602",
                    "13": "24.062882011161904",
                    "14": "25.66156352904381",
                    "15": "35.0429821378512"
                },
                {
                    "0": "Washington",
                    "1": "2214",
                    "2": "10.942505877983821",
                    "3": "11.357357902722596",
                    "4": "11.88044608729479",
                    "5": "14.231501248937283",
                    "6": "2969",
                    "7": "10.319395602940313",
                    "8": "10.838314067420287",
                    "9": "11.26165357171856",
                    "10": "13.411500889683625",
                    "11": "81",
                    "12": "20.321748281249235",
                    "13": "23.379303296948517",
                    "14": "23.997711003720077",
                    "15": "26.91511017270869"
                },
                {
                    "0": "West Virginia",
                    "1": "771.5",
                    "2": "13.907151988779194",
                    "3": "15.27221941554853",
                    "4": "15.785553713595833",
                    "5": "21.0964507309292",
                    "6": "1359",
                    "7": "10.162118613053632",
                    "8": "11.236447846001184",
                    "9": "11.726154031634833",
                    "10": "15.231638065869285",
                    "11": "92",
                    "12": "18.138785044527122",
                    "13": "19.05122987643341",
                    "14": "23.04894867537045",
                    "15": "32.05965063355989"
                },
                {
                    "0": "Wisconsin",
                    "1": "1485.5",
                    "2": "8.920115565835406",
                    "3": "9.40281974704951",
                    "4": "9.81979371814753",
                    "5": "11.787424881433022",
                    "6": "3832",
                    "7": "7.407587352764414",
                    "8": "7.808257679184729",
                    "9": "7.887318046976288",
                    "10": "9.57049895933413",
                    "11": "157",
                    "12": "13.559505442211165",
                    "13": "13.942902348416927",
                    "14": "16.298436489779",
                    "15": "19.511372607660462"
                },
                {
                    "0": "Wyoming",
                    "1": "103",
                    "2": "10.359256709335135",
                    "3": "11.837281844944275",
                    "4": "31.2354626561626",
                    "5": "52.83088903692547",
                    "6": "509",
                    "7": "6.7454304886443355",
                    "8": "7.267124270154021",
                    "9": "7.802123970808122",
                    "10": "13.296074290703427",
                    "11": "42.5",
                    "12": "18.36820818004947",
                    "13": "25.023263511037594",
                    "14": "52.58482807967937",
                    "15": "60.73796648135267"
                }
            ]
        },
        "text/html": [
            "<table>",
            "<tr><th>State_Name</th><th>Median Nurse FTE W_in 30 Min Statewide</th><th>Median Closest Travel Time As Is Statewide</th><th>Median Closest Travel Time Above 1 FTE Statewide</th><th>Median Closest Travel Time Above 1.5 FTE Statewide</th><th>Median Closest Travel Time Above 2 FTE Statewide</th><th>Median Nurse FTE W_in 30 Min Urban</th><th>Median Closest Travel Time As Is Urban</th><th>Median Closest Travel Time Above 1 FTE Urban</th><th>Median Closest Travel Time Above 1.5 FTE Urban</th><th>Median Closest Travel Time Above 2 FTE Urban</th><th>Median Nurse FTE W_in 30 Min Rural</th><th>Median Closest Travel Time As Is Rural</th><th>Median Closest Travel Time Above 1 FTE Rural</th><th>Median Closest Travel Time Above 1.5 FTE Rural</th><th>Median Closest Travel Time Above 2 FTE Rural</th></tr>",
            "<tr><td>Alabama</td><td>973.5</td><td>11.601299666024637</td><td>12.695146486348929</td><td>15.71076673685974</td><td>22.19305385257254</td><td>2253</td><td>10.326237108115452</td><td>11.161877699350457</td><td>12.752160704678502</td><td>15.226566479950762</td><td>158.5</td><td>14.916436449722534</td><td>16.34386863853664</td><td>25.360394793653796</td><td>44.917420453141744</td></tr>",
            "<tr><td>Alaska</td><td>157</td><td>16.648284081887677</td><td>17.66732048417082</td><td>19.501023958137928</td><td>23.24094938680561</td><td>1872</td><td>7.474293725853453</td><td>9.921465435284967</td><td>9.921465435284967</td><td>12.2461553745307</td><td>0</td><td>79.93941475465067</td><td>104.36259743592818</td><td>128.23016399845713</td><td>272.4036308539643</td></tr>",
            "<tr><td>Arizona</td><td>5496.5</td><td>8.037048681338483</td><td>8.479878908754515</td><td>10.594907028237309</td><td>12.612827133709036</td><td>7134.5</td><td>7.328467667792145</td><td>7.869807309147876</td><td>9.772788605993757</td><td>11.865798333427989</td><td>31</td><td>29.524403768769826</td><td>29.524403768769826</td><td>36.16733113058223</td><td>46.982961191603366</td></tr>",
            "<tr><td>Arkansas</td><td>465</td><td>12.82617281719356</td><td>14.863397458402755</td><td>19.662625290774336</td><td>36.315046298569186</td><td>1217.5</td><td>10.195383834820447</td><td>11.118568717221812</td><td>11.967673814468592</td><td>20.843322907576272</td><td>71.75</td><td>16.91061910809983</td><td>20.79046764044171</td><td>33.421002553679934</td><td>48.466315802722136</td></tr>",
            "<tr><td>California</td><td>7135</td><td>7.612213342171019</td><td>8.075908911378981</td><td>8.80722425639523</td><td>10.265522264503339</td><td>7889</td><td>7.347234541828171</td><td>7.827608058842813</td><td>8.512382740212935</td><td>9.937200942864944</td><td>91</td><td>21.05377176247847</td><td>21.67266323331256</td><td>24.151278175144448</td><td>29.03608706179638</td></tr>",
            "<tr><td>Colorado</td><td>2343.5</td><td>9.295610261031488</td><td>9.892381846678708</td><td>10.31316329483245</td><td>11.570915232308682</td><td>4948.5</td><td>8.624605267503092</td><td>9.16395632633345</td><td>9.688874187234589</td><td>10.8805987599135</td><td>38.5</td><td>26.2013803952933</td><td>29.611239298725465</td><td>31.191473798507182</td><td>32.61548328651295</td></tr>",
            "<tr><td>Connecticut</td><td>4007</td><td>9.811690961128711</td><td>10.192832014988843</td><td>10.42442364351125</td><td>15.868590666833523</td><td>4813</td><td>9.507222716330482</td><td>10.041106635647983</td><td>10.207250606208087</td><td>15.786989838069882</td><td>512.5</td><td>15.497581781395528</td><td>15.497581781395528</td><td>15.497581781395528</td><td>18.187976468861276</td></tr>",
            "<tr><td>Delaware</td><td>4732</td><td>10.456387967789286</td><td>12.121046684861575</td><td>12.212268597161735</td><td>13.477114884216455</td><td>4819</td><td>9.114570870965466</td><td>10.49564787127344</td><td>10.516505617477819</td><td>12.015666081252482</td><td>628</td><td>21.131438293939368</td><td>22.4832626961746</td><td>22.4832626961746</td><td>22.4832626961746</td></tr>",
            "<tr><td>District of Columbia</td><td>11831.5</td><td>5.839016873359694</td><td>6.783119098385216</td><td>8.456008792058801</td><td>9.002115502579013</td><td>11831.5</td><td>5.839016873359694</td><td>6.783119098385216</td><td>8.456008792058801</td><td>9.002115502579013</td><td>NULL</td><td>NULL</td><td>NULL</td><td>NULL</td><td>NULL</td></tr>",
            "<tr><td>Florida</td><td>3402</td><td>9.673219595604284</td><td>10.212234551498097</td><td>12.66134468232706</td><td>19.179492271277496</td><td>3972.75</td><td>9.471406123964389</td><td>9.933241876681553</td><td>12.354463529526987</td><td>18.54789937049756</td><td>113</td><td>20.010742496342694</td><td>21.551302758933446</td><td>28.081888649020662</td><td>42.022883109596386</td></tr>",
            "<tr><td>Georgia</td><td>1635</td><td>11.037669217700714</td><td>12.372293193349499</td><td>13.308529266948732</td><td>16.004734007445208</td><td>2274.5</td><td>10.602925301316727</td><td>11.59832624094522</td><td>12.303487958216653</td><td>14.270649675942305</td><td>243</td><td>13.440875992043281</td><td>16.51217511673454</td><td>22.475415827255052</td><td>31.236213347491713</td></tr>",
            "<tr><td>Hawaii</td><td>3431</td><td>9.868852370279733</td><td>14.432723252028289</td><td>15.426482979317594</td><td>18.923382749034133</td><td>4489</td><td>8.118432415804754</td><td>10.37421785698163</td><td>10.37421785698163</td><td>12.869361519992616</td><td>50.5</td><td>24.20841304187082</td><td>27.292723289835752</td><td>56.91301488484682</td><td>63.45137192135244</td></tr>",
            "<tr><td>Idaho</td><td>542.5</td><td>12.880784408105947</td><td>13.115734797896215</td><td>13.335924700669928</td><td>14.296803114971688</td><td>1113</td><td>8.848585998547355</td><td>9.713927371163411</td><td>9.824444948812614</td><td>10.576553769609411</td><td>32</td><td>26.481446762510735</td><td>26.484697021451467</td><td>28.47863559496565</td><td>35.633171244486554</td></tr>",
            "<tr><td>Illinois</td><td>5599</td><td>8.050079476796105</td><td>8.815082069959</td><td>10.296768501117764</td><td>12.90382459178891</td><td>7464.75</td><td>7.687829697505574</td><td>8.41638095107599</td><td>9.977248735640341</td><td>12.383810954862195</td><td>206.5</td><td>12.6674295932248</td><td>13.230443144723623</td><td>14.618750204824796</td><td>18.838861467894578</td></tr>",
            "<tr><td>Indiana</td><td>1403.5</td><td>9.13640134632784</td><td>10.081239910643303</td><td>11.716151851473697</td><td>15.618132831932357</td><td>2664</td><td>8.526991152660901</td><td>9.51500304757032</td><td>11.198120509716839</td><td>14.69211065406364</td><td>281</td><td>11.286677814833471</td><td>12.007002864820565</td><td>13.799508095325788</td><td>20.182066660294318</td></tr>",
            "<tr><td>Iowa</td><td>331.5</td><td>10.314878649922761</td><td>11.97760874463959</td><td>13.59208552130301</td><td>20.360168483223696</td><td>1318.5</td><td>8.681832987643071</td><td>9.768155689677734</td><td>11.191461562561656</td><td>15.801249795246227</td><td>124.5</td><td>13.175176881191561</td><td>14.814166027573728</td><td>18.03294961603269</td><td>24.819149543606557</td></tr>",
            "<tr><td>Kansas</td><td>1477</td><td>8.529965743643546</td><td>9.794845842220035</td><td>11.21866747703875</td><td>13.880451601158907</td><td>3193.5</td><td>8.026265366149648</td><td>8.797395407782437</td><td>9.54245146493167</td><td>11.010826128631571</td><td>111.5</td><td>9.55471783869234</td><td>12.90707712049906</td><td>18.92559668292023</td><td>29.86312687402318</td></tr>",
            "<tr><td>Kentucky</td><td>775</td><td>11.252759970600392</td><td>12.325413840594447</td><td>14.45567387192443</td><td>22.12601786046635</td><td>5900</td><td>9.545828562686339</td><td>10.996486736345132</td><td>11.219557563769737</td><td>14.057446830730191</td><td>313.5</td><td>13.588217562396565</td><td>14.054681094704907</td><td>21.894146966598342</td><td>36.45122598062072</td></tr>",
            "<tr><td>Louisiana</td><td>1755.5</td><td>7.745820457920488</td><td>9.245067316489466</td><td>11.274368779104492</td><td>14.420560441529453</td><td>3322.5</td><td>7.259849080666922</td><td>8.361210270836356</td><td>9.918539915939926</td><td>12.375787971313551</td><td>133</td><td>12.039134808871545</td><td>14.735518710452432</td><td>22.858289318803372</td><td>34.422497788969274</td></tr>",
            "<tr><td>Maine</td><td>346.5</td><td>16.58422103995163</td><td>16.794225619899244</td><td>17.454519981534055</td><td>18.099408093052155</td><td>1527</td><td>13.449668985971737</td><td>14.073172924198008</td><td>14.313676043077473</td><td>14.313676043077473</td><td>132.25</td><td>19.244875619596417</td><td>19.48166178775934</td><td>20.804656207056908</td><td>22.12212113226766</td></tr>",
            "<tr><td>Maryland</td><td>6235.5</td><td>10.187747431556556</td><td>10.644460481943002</td><td>11.255329661724005</td><td>12.206984704535568</td><td>7166.25</td><td>9.90969879737309</td><td>10.515113521356563</td><td>11.070423504952707</td><td>11.953380661241164</td><td>137.5</td><td>17.97636317009101</td><td>17.97636317009101</td><td>22.992169217405184</td><td>24.823771972543195</td></tr>",
            "<tr><td>Massachusetts</td><td>3630.5</td><td>8.95658054501492</td><td>9.98160439628536</td><td>11.007918933057478</td><td>13.846869662780382</td><td>3697</td><td>8.819939339720017</td><td>9.861754376112513</td><td>10.891249605883736</td><td>13.451076808246611</td><td>97</td><td>14.329906152743142</td><td>14.745243040578172</td><td>19.147869839262565</td><td>31.12999285945439</td></tr>",
            "<tr><td>Michigan</td><td>3677</td><td>9.233533197320146</td><td>9.977496043609586</td><td>11.090122395499677</td><td>12.959614751270294</td><td>7067</td><td>8.55531462423753</td><td>9.200554659267967</td><td>10.067862578186926</td><td>11.272894655541684</td><td>153.25</td><td>15.639771253146751</td><td>17.16520954035701</td><td>21.919028023254896</td><td>31.965457903170794</td></tr>",
            "<tr><td>Minnesota</td><td>2552</td><td>10.289446353883509</td><td>11.044790881109723</td><td>11.339645686508241</td><td>13.00103076868211</td><td>10941</td><td>9.278452504516093</td><td>9.718869990838154</td><td>10.11447648290911</td><td>10.54664512942453</td><td>124</td><td>13.769863511321319</td><td>16.20167458552641</td><td>19.364285386880052</td><td>25.702939592328256</td></tr>",
            "<tr><td>Mississippi</td><td>413.5</td><td>11.154917010340867</td><td>14.18348351629535</td><td>18.326865193509235</td><td>34.058879329644874</td><td>2323</td><td>9.594606326957217</td><td>11.0087730025323</td><td>11.665645886525974</td><td>16.044679650436745</td><td>219.5</td><td>12.441737739275291</td><td>16.975655321997266</td><td>26.910887643307298</td><td>47.70286594725401</td></tr>",
            "<tr><td>Missouri</td><td>3899.5</td><td>9.924295082376908</td><td>10.81387044865585</td><td>11.471192902251445</td><td>13.747981022610725</td><td>10574</td><td>8.685110417193544</td><td>9.421793144552773</td><td>10.220696713118866</td><td>11.490706007829717</td><td>112</td><td>16.11973104119007</td><td>18.459413541808566</td><td>22.880679154403364</td><td>33.79881129634831</td></tr>",
            "<tr><td>Montana</td><td>88.5</td><td>14.732957697143005</td><td>19.498948087012998</td><td>21.935883245909974</td><td>25.204551864130213</td><td>795.5</td><td>7.597544421537457</td><td>7.597544421537457</td><td>7.597544421537457</td><td>8.73758570048097</td><td>34.5</td><td>23.63957551738207</td><td>29.872288734948132</td><td>32.68217510260726</td><td>36.38595651946434</td></tr>",
            "<tr><td>Nebraska</td><td>2665</td><td>8.20617235857399</td><td>8.551459745376855</td><td>9.797150546563799</td><td>12.029008336051639</td><td>6541</td><td>7.418620361591908</td><td>7.621870576880191</td><td>8.304760061664814</td><td>9.734009251813942</td><td>87.5</td><td>12.243625634591655</td><td>14.611646914702398</td><td>20.917414028598877</td><td>28.651240814081266</td></tr>",
            "<tr><td>Nevada</td><td>7256.5</td><td>7.570367362163552</td><td>8.100251618638382</td><td>8.403321991187319</td><td>11.928780825954238</td><td>7717</td><td>7.165431578378341</td><td>7.790196206526725</td><td>8.050308604903746</td><td>11.235448458064367</td><td>20.75</td><td>23.319805457032928</td><td>28.99349582358746</td><td>48.308794752386945</td><td>48.308794752386945</td></tr>",
            "<tr><td>New Hampshire</td><td>1406</td><td>12.24211286177611</td><td>13.464650016140155</td><td>14.048154444465888</td><td>15.40701343067471</td><td>1944.75</td><td>10.198198767963444</td><td>10.919597774394386</td><td>11.354458609952488</td><td>13.430666847005073</td><td>241</td><td>15.976693218168663</td><td>17.39609040550289</td><td>18.269569332157026</td><td>18.55918927576645</td></tr>",
            "<tr><td>New Jersey</td><td>7263</td><td>8.611892476612649</td><td>9.008973348124075</td><td>10.849552921550112</td><td>14.604564612313483</td><td>7468.5</td><td>8.51937735640981</td><td>8.941041399447553</td><td>10.78290826516454</td><td>14.493769139426117</td><td>778.5</td><td>16.105318011328535</td><td>17.013011445648022</td><td>17.013011445648022</td><td>35.37953378453466</td></tr>",
            "<tr><td>New Mexico</td><td>426.5</td><td>10.908980758743226</td><td>11.660443428646605</td><td>13.040431347721974</td><td>14.684290175846217</td><td>4921</td><td>9.905457477549213</td><td>10.367119914970583</td><td>11.797721582497928</td><td>12.13317591087216</td><td>88.5</td><td>18.39315258669624</td><td>22.8993451780911</td><td>24.45742658249551</td><td>34.640654768701836</td></tr>",
            "<tr><td>New York</td><td>7741.25</td><td>8.572846195783812</td><td>9.2369489317447</td><td>10.093292046115494</td><td>12.846644074686925</td><td>10238.5</td><td>8.207502064892221</td><td>8.859310801991148</td><td>9.626035765215008</td><td>12.197188071287336</td><td>250.5</td><td>15.99668980742737</td><td>17.734771988104985</td><td>21.583765283687406</td><td>26.992027394042342</td></tr>",
            "<tr><td>North Carolina</td><td>1658</td><td>12.646551288823954</td><td>13.44110074149687</td><td>13.976778906805883</td><td>16.610170394719358</td><td>2815</td><td>11.74704803514327</td><td>12.301200318078271</td><td>12.326777092224603</td><td>14.749793852450104</td><td>250</td><td>15.869673334949383</td><td>17.105786332476043</td><td>19.80312537359286</td><td>25.65911682958108</td></tr>",
            "<tr><td>North Dakota</td><td>58.5</td><td>10.051141207426506</td><td>19.566990794031742</td><td>20.434666955968325</td><td>48.841701089883074</td><td>1287</td><td>5.278010931283896</td><td>6.0294915350913</td><td>6.568005765317052</td><td>9.000113136612232</td><td>35</td><td>19.725047095195674</td><td>30.08366077537184</td><td>35.38530009116005</td><td>64.96859039898746</td></tr>",
            "<tr><td>Ohio</td><td>4851.5</td><td>8.846354404968412</td><td>9.383509102059769</td><td>10.395816764454356</td><td>12.184961030870593</td><td>7607.75</td><td>8.48550618624613</td><td>8.997913485259339</td><td>9.947377862240005</td><td>11.253928811037003</td><td>520</td><td>10.711561477760036</td><td>11.072099270822601</td><td>13.498597883633447</td><td>19.441909452257494</td></tr>",
            "<tr><td>Oklahoma</td><td>2110.75</td><td>7.968245354964643</td><td>9.651927392614631</td><td>11.27068562885576</td><td>15.79392477132163</td><td>5320</td><td>6.769720863627342</td><td>7.643815679156988</td><td>9.039423070511939</td><td>10.964586711262125</td><td>127</td><td>12.588307102715646</td><td>19.465851676291585</td><td>27.004334827572276</td><td>35.70910203022187</td></tr>",
            "<tr><td>Oregon</td><td>1590</td><td>10.067107196616607</td><td>10.365395440414199</td><td>10.459197098031684</td><td>10.770799702916296</td><td>2393.25</td><td>8.950849146697863</td><td>9.350496422166078</td><td>9.496239375368381</td><td>9.726341545900691</td><td>106</td><td>18.403389641065964</td><td>18.403389641065964</td><td>19.92624465768921</td><td>20.220317126582046</td></tr>",
            "<tr><td>Pennsylvania</td><td>2571</td><td>8.990413835395751</td><td>9.893998288712343</td><td>11.5963274444155</td><td>14.995948736595999</td><td>3385</td><td>8.309991609139853</td><td>9.187675173145678</td><td>10.68995576878406</td><td>13.32656710243402</td><td>265.5</td><td>16.208761161747695</td><td>16.56291864925705</td><td>21.635360582115084</td><td>32.93527550842584</td></tr>",
            "<tr><td>Puerto Rico</td><td>996</td><td>10.777996167381389</td><td>11.859146108212622</td><td>33.48831806751831</td><td>42.30903573410191</td><td>1166</td><td>10.104381527462053</td><td>10.982223594573318</td><td>31.44539464490681</td><td>37.533108874142975</td><td>165.5</td><td>23.99636940860751</td><td>24.58572866173335</td><td>68.56604982445776</td><td>78.15305068918936</td></tr>",
            "<tr><td>Rhode Island</td><td>4845.5</td><td>8.758502149996827</td><td>9.370571631826834</td><td>10.236991848720276</td><td>14.43455237200549</td><td>4845.5</td><td>8.674064039616955</td><td>9.36649460085877</td><td>10.170199760352329</td><td>14.344652958149773</td><td>0</td><td>104.55070641809355</td><td>104.55070641809355</td><td>104.55070641809355</td><td>104.55070641809355</td></tr>",
            "<tr><td>South Carolina</td><td>1290</td><td>12.400228612748238</td><td>13.551971774382011</td><td>15.054750142513036</td><td>20.97769868076564</td><td>2081.5</td><td>11.378523358994443</td><td>12.400228612748238</td><td>12.877212700457008</td><td>18.09967318700032</td><td>197.5</td><td>17.344779158128837</td><td>19.0371461234666</td><td>28.20420577613222</td><td>32.168701169813986</td></tr>",
            "<tr><td>South Dakota</td><td>148</td><td>11.554394501149606</td><td>14.684525537407048</td><td>16.52310537438551</td><td>25.8379062927001</td><td>3955</td><td>8.800633072949672</td><td>8.800633072949672</td><td>8.800633072949672</td><td>9.042667371355513</td><td>49.75</td><td>15.317603999849315</td><td>21.461679672430137</td><td>27.801220863820667</td><td>37.37432551833906</td></tr>",
            "<tr><td>Tennessee</td><td>1185.5</td><td>11.323258886648173</td><td>12.087990826828747</td><td>14.242748190505278</td><td>19.166649431369663</td><td>3785</td><td>10.389405024634847</td><td>11.050268795162363</td><td>12.267115536078162</td><td>15.002973045316168</td><td>153.5</td><td>14.915285347625229</td><td>17.048261601576016</td><td>27.8684237863377</td><td>47.52025599726502</td></tr>",
            "<tr><td>Texas</td><td>3939</td><td>9.09864340551736</td><td>10.162748652599959</td><td>11.284369335940621</td><td>13.150049643789547</td><td>6514.5</td><td>8.547313942402152</td><td>9.440610974829157</td><td>10.249105628391288</td><td>11.71003124738348</td><td>79</td><td>15.381962142379106</td><td>20.957555844129658</td><td>29.98718303151135</td><td>38.7450849372528</td></tr>",
            "<tr><td>United States</td><td>3136.5</td><td>9.296179128318187</td><td>10.047497330072792</td><td>11.283693592752194</td><td>13.958763832885431</td><td>5047.5</td><td>8.612166458230485</td><td>9.27556904593108</td><td>10.309402246880293</td><td>12.442392499184024</td><td>149.5</td><td>15.149622261364303</td><td>17.307242107736393</td><td>22.31930891002172</td><td>30.325748181287693</td></tr>",
            "<tr><td>Utah</td><td>1989.5</td><td>8.017816313791679</td><td>8.264753076351292</td><td>9.101963668035912</td><td>10.1504151070152</td><td>2713.25</td><td>7.325280380276266</td><td>7.648345035875143</td><td>8.197481153247255</td><td>8.663034326242059</td><td>35</td><td>25.13909011103879</td><td>26.31466638723174</td><td>30.880629063185594</td><td>42.11021053642564</td></tr>",
            "<tr><td>Vermont</td><td>209</td><td>17.43412146107467</td><td>17.737935572606382</td><td>18.73440124996772</td><td>19.740008734163478</td><td>1659.5</td><td>16.05948807253474</td><td>16.05948807253474</td><td>16.05948807253474</td><td>16.05948807253474</td><td>157.5</td><td>18.188399628015688</td><td>18.22883964224186</td><td>19.298096992656028</td><td>21.39279405829995</td></tr>",
            "<tr><td>Virginia</td><td>2888.5</td><td>11.007368911651962</td><td>11.27234646412003</td><td>12.155249181641661</td><td>14.369399954323882</td><td>4302.5</td><td>10.192544470995568</td><td>10.442426005615118</td><td>11.407333994965375</td><td>13.321121089231339</td><td>127</td><td>21.392036198685602</td><td>24.062882011161904</td><td>25.66156352904381</td><td>35.0429821378512</td></tr>",
            "<tr><td>Washington</td><td>2214</td><td>10.942505877983821</td><td>11.357357902722596</td><td>11.88044608729479</td><td>14.231501248937283</td><td>2969</td><td>10.319395602940313</td><td>10.838314067420287</td><td>11.26165357171856</td><td>13.411500889683625</td><td>81</td><td>20.321748281249235</td><td>23.379303296948517</td><td>23.997711003720077</td><td>26.91511017270869</td></tr>",
            "<tr><td>West Virginia</td><td>771.5</td><td>13.907151988779194</td><td>15.27221941554853</td><td>15.785553713595833</td><td>21.0964507309292</td><td>1359</td><td>10.162118613053632</td><td>11.236447846001184</td><td>11.726154031634833</td><td>15.231638065869285</td><td>92</td><td>18.138785044527122</td><td>19.05122987643341</td><td>23.04894867537045</td><td>32.05965063355989</td></tr>",
            "<tr><td>Wisconsin</td><td>1485.5</td><td>8.920115565835406</td><td>9.40281974704951</td><td>9.81979371814753</td><td>11.787424881433022</td><td>3832</td><td>7.407587352764414</td><td>7.808257679184729</td><td>7.887318046976288</td><td>9.57049895933413</td><td>157</td><td>13.559505442211165</td><td>13.942902348416927</td><td>16.298436489779</td><td>19.511372607660462</td></tr>",
            "<tr><td>Wyoming</td><td>103</td><td>10.359256709335135</td><td>11.837281844944275</td><td>31.2354626561626</td><td>52.83088903692547</td><td>509</td><td>6.7454304886443355</td><td>7.267124270154021</td><td>7.802123970808122</td><td>13.296074290703427</td><td>42.5</td><td>18.36820818004947</td><td>25.023263511037594</td><td>52.58482807967937</td><td>60.73796648135267</td></tr>",
            "</table>"
        ]
    }
}
],
            "execution_count": null
        }
    ]
}