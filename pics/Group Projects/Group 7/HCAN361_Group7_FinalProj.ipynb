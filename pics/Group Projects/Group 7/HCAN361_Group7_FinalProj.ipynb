{
    "metadata": {
        "kernelspec": {
            "name": "SQL",
            "display_name": "SQL",
            "language": "sql"
        },
        "language_info": {
            "name": "sql",
            "version": ""
        }
    },
    "nbformat_minor": 2,
    "nbformat": 4,
    "cells": [
        {
            "cell_type": "markdown",
            "source": [
                "# HCAN 361 Final Project: Spring 2021\r\n",
                "\r\n",
                "## Access to Acute Ischemic Stroke Care in Southeastern US Hospitals: Implications of Telestroke"
            ],
            "metadata": {
                "azdata_cell_guid": "85a0c5fe-8471-4329-98c7-42b8bf964c34"
            }
        },
        {
            "cell_type": "markdown",
            "source": [
                "## Rationale of analysis:\n",
                "\n",
                "1. Stroke is a leading cause of death in the US, which is treatable if addressed immediately after it occurs (https://www.cdc.gov/stroke/index.htm)\n",
                "2. Intravenous recombinant tissue-type plasminogen activator (r-tPA) is a FDA approved treatment for bouts of acute ischemic stroke (AIS), which is often performed under the guidance of a neurologist (https://www.mayoclinicproceedings.org/article/S0025-6196(14)00244-4/fulltext)\n",
                "3. Some hospitals do not have well-staffed nuerologists available to provide r-tPA when needed, which was why teleStroke was created\n",
                "4. This analysis will evaluate the impact on Telestroke at the ecological level, and also examine physical access to hospitals in the Southeast with the ability to provide comprehensive stroke care (albeit in-person or through teleStroke)."
            ],
            "metadata": {
                "azdata_cell_guid": "89694ca5-c8f2-46e6-8e36-a5f5dc5d22b5"
            }
        },
        {
            "cell_type": "code",
            "source": [
                "Use [HCAN361_FinalProj]\r\n",
                "\r\n",
                "--Build provider table for analyses\r\n",
                "--drop table #HOSP_STATUS\r\n",
                "SELECT A.ID\r\n",
                "      ,cast(A.LAT as float) as LAT\r\n",
                "\t  ,cast(A.LONG as float) as LONG\r\n",
                "\t  ,A.MNAME\r\n",
                "\t  ,case \r\n",
                "\t   when A.ID in (select ID from dbo.as19svc3 where [STRCHOS]='1')\tthen '01: Reported Telestroke'\r\n",
                "\t   when A.ID in (select ID from dbo.as19svc2 where [NEROHOS]='1')\tand\r\n",
                "\t\t\tA.ID not in (select ID from dbo.as19svc3 where [STRCHOS]='1')\r\n",
                "\t        then '02: Reported Neurology, No Telestroke'\r\n",
                "\t   when A.ID not in (select ID from dbo.as19svc2 where [NEROHOS]='1')\tand\r\n",
                "\t        A.ID not in (select ID from dbo.as19svc3 where [STRCHOS]='1') and\r\n",
                "\t\t\t(\r\n",
                "\t\t\tA.ID in (select ID from dbo.as19svc3 where COFVHOS = '1') or\r\n",
                "\t\t\tA.ID in (select ID from dbo.as19svc3 where EICUHOS = '1') or\r\n",
                "\t\t\tA.ID in (select ID from dbo.as19svc3 where ADTRTHOS = '1') or\r\n",
                "\t\t\tA.ID in (select ID from dbo.as19svc3 where PDISHOS = '1') or\r\n",
                "\t\t\tA.ID in (select ID from dbo.as19svc3 where CHCARHOS = '1') or\r\n",
                "\t\t\tA.ID in (select ID from dbo.as19svc3 where ORPMHOS = '1') or\r\n",
                "\t\t\tA.ID in (select ID from dbo.as19svc3 where OTHTHOS = '1') \r\n",
                "\t\t\t)\r\n",
                "\t\t\tthen '03: Reported Other Telehealth, No Neurology, No Telestroke'\r\n",
                "\t   else '00: No Telehealth, No Neurology' end as [Status]\r\n",
                "\t  ,C.County_Name,C.State_Name,C.HRSA_RURAL_DESC\r\n",
                "\t  ,case when C.[Median_ADI_NatRank]<=25 then '02: Upper Class'\r\n",
                "\t   when (C.[Median_ADI_NatRank]>25 and C.[Median_ADI_NatRank]<=75) then '01: Middle Class'\r\n",
                "\t   when C.[Median_ADI_NatRank]>75 then '00: Lower Class'\r\n",
                "\t   else '99: Not Ranked' end as [ADI]\r\n",
                "INTO #HOSP_STATUS\r\n",
                "FROM \r\n",
                "dbo.AS19DEM as A\r\n",
                "inner join\r\n",
                "[dbo].[Provider_Census_Tract] as B\r\n",
                "\ton A.ID=B.Provider_ID\r\n",
                "inner join \r\n",
                "[dbo].[US_Census_Tract_Charac] as C\r\n",
                "\ton B.GEOID_Data=C.GEOID_Data;\r\n",
                "\r\n",
                "\r\n",
                "--[STRCHOS]='1' --> hospital reported telestroke --> as19svc3\r\n",
                "--[NEROHOS]='1' --> hospital reported neuro --> as19svc2\r\n",
                "--> has capacity to service telestroke, but does not\r\n",
                "--COFVHOS = '1' --EICUHOS = '1' --ADTRTHOS = '1'\r\n",
                "--PDISHOS = '1' --CHCARHOS = '1' --ORPMHOS = '1'\r\n",
                "--OTHTHOS = '1'\t--as19svc3\r\n",
                "\r\n",
                "--[Status]\r\n",
                "--'00: No Telehealth, No Neurology'\r\n",
                "--'02: Reported Neurology, No Telestroke'\r\n",
                "--'03: Reported Other Telehealth, No Neurology, No Telestroke'\r\n",
                "--'01: Reported Telestroke'\r\n",
                "\r\n",
                "select top 10 *\r\n",
                "from #HOSP_STATUS\r\n",
                "order by State_Name\r\n",
                ""
            ],
            "metadata": {
                "azdata_cell_guid": "053f2375-a960-4aaf-bd92-48f4bd9f391e"
            },
            "outputs": [
                {
                    "output_type": "display_data",
                    "data": {
                        "text/html": "(6152 rows affected)"
                    },
                    "metadata": {}
                },
                {
                    "output_type": "display_data",
                    "data": {
                        "text/html": "(10 rows affected)"
                    },
                    "metadata": {}
                },
                {
                    "output_type": "display_data",
                    "data": {
                        "text/html": "Total execution time: 00:00:00.398"
                    },
                    "metadata": {}
                },
                {
                    "output_type": "execute_result",
                    "metadata": {},
                    "execution_count": 1,
                    "data": {
                        "application/vnd.dataresource+json": {
                            "schema": {
                                "fields": [
                                    {
                                        "name": "ID"
                                    },
                                    {
                                        "name": "LAT"
                                    },
                                    {
                                        "name": "LONG"
                                    },
                                    {
                                        "name": "MNAME"
                                    },
                                    {
                                        "name": "Status"
                                    },
                                    {
                                        "name": "County_Name"
                                    },
                                    {
                                        "name": "State_Name"
                                    },
                                    {
                                        "name": "HRSA_RURAL_DESC"
                                    },
                                    {
                                        "name": "ADI"
                                    }
                                ]
                            },
                            "data": [
                                {
                                    "0": "6530005",
                                    "1": "34.7192",
                                    "2": "-86.58",
                                    "3": "Encompass Rehabilitation Hospital of North Alabama",
                                    "4": "00: No Telehealth, No Neurology",
                                    "5": "Madison",
                                    "6": "Alabama",
                                    "7": "00: Urban",
                                    "8": "01: Middle Class"
                                },
                                {
                                    "0": "6530006",
                                    "1": "30.6964",
                                    "2": "-88.0798",
                                    "3": "Mobile Infirmary Medical Center",
                                    "4": "00: No Telehealth, No Neurology",
                                    "5": "Mobile",
                                    "6": "Alabama",
                                    "7": "00: Urban",
                                    "8": "01: Middle Class"
                                },
                                {
                                    "0": "6530012",
                                    "1": "31.2179",
                                    "2": "-85.3657",
                                    "3": "Encompass Health Rehabilitation Hospital of Dothan",
                                    "4": "00: No Telehealth, No Neurology",
                                    "5": "Houston",
                                    "6": "Alabama",
                                    "7": "00: Urban",
                                    "8": "00: Lower Class"
                                },
                                {
                                    "0": "6530014",
                                    "1": "33.4635",
                                    "2": "-86.7767",
                                    "3": "Select Specialty Hospital-Birmingham",
                                    "4": "00: No Telehealth, No Neurology",
                                    "5": "Jefferson",
                                    "6": "Alabama",
                                    "7": "00: Urban",
                                    "8": "02: Upper Class"
                                },
                                {
                                    "0": "6530015",
                                    "1": "31.2037",
                                    "2": "-85.3846",
                                    "3": "Laurel Oaks Behavioral Health Center",
                                    "4": "00: No Telehealth, No Neurology",
                                    "5": "Houston",
                                    "6": "Alabama",
                                    "7": "00: Urban",
                                    "8": "00: Lower Class"
                                },
                                {
                                    "0": "6530017",
                                    "1": "33.2219",
                                    "2": "-87.543",
                                    "3": "Taylor Hardin Secure Medical Facility",
                                    "4": "00: No Telehealth, No Neurology",
                                    "5": "Tuscaloosa",
                                    "6": "Alabama",
                                    "7": "00: Urban",
                                    "8": "99: Not Ranked"
                                },
                                {
                                    "0": "6530020",
                                    "1": "33.2081",
                                    "2": "-87.5377",
                                    "3": "Mary S Harper Geriatric Psychiatry Center",
                                    "4": "00: No Telehealth, No Neurology",
                                    "5": "Tuscaloosa",
                                    "6": "Alabama",
                                    "7": "00: Urban",
                                    "8": "99: Not Ranked"
                                },
                                {
                                    "0": "6530022",
                                    "1": "31.2159",
                                    "2": "-85.363",
                                    "3": "Noland Hospital Dothan",
                                    "4": "00: No Telehealth, No Neurology",
                                    "5": "Houston",
                                    "6": "Alabama",
                                    "7": "00: Urban",
                                    "8": "00: Lower Class"
                                },
                                {
                                    "0": "6530023",
                                    "1": "33.2091",
                                    "2": "-87.5482",
                                    "3": "Noland Hospital Tuscaloosa",
                                    "4": "00: No Telehealth, No Neurology",
                                    "5": "Tuscaloosa",
                                    "6": "Alabama",
                                    "7": "00: Urban",
                                    "8": "99: Not Ranked"
                                },
                                {
                                    "0": "6530050",
                                    "1": "31.2963",
                                    "2": "-86.4948",
                                    "3": "Andalusia Health",
                                    "4": "01: Reported Telestroke",
                                    "5": "Covington",
                                    "6": "Alabama",
                                    "7": "01: Rural",
                                    "8": "01: Middle Class"
                                }
                            ]
                        },
                        "text/html": [
                            "<table>",
                            "<tr><th>ID</th><th>LAT</th><th>LONG</th><th>MNAME</th><th>Status</th><th>County_Name</th><th>State_Name</th><th>HRSA_RURAL_DESC</th><th>ADI</th></tr>",
                            "<tr><td>6530005</td><td>34.7192</td><td>-86.58</td><td>Encompass Rehabilitation Hospital of North Alabama</td><td>00: No Telehealth, No Neurology</td><td>Madison</td><td>Alabama</td><td>00: Urban</td><td>01: Middle Class</td></tr>",
                            "<tr><td>6530006</td><td>30.6964</td><td>-88.0798</td><td>Mobile Infirmary Medical Center</td><td>00: No Telehealth, No Neurology</td><td>Mobile</td><td>Alabama</td><td>00: Urban</td><td>01: Middle Class</td></tr>",
                            "<tr><td>6530012</td><td>31.2179</td><td>-85.3657</td><td>Encompass Health Rehabilitation Hospital of Dothan</td><td>00: No Telehealth, No Neurology</td><td>Houston</td><td>Alabama</td><td>00: Urban</td><td>00: Lower Class</td></tr>",
                            "<tr><td>6530014</td><td>33.4635</td><td>-86.7767</td><td>Select Specialty Hospital-Birmingham</td><td>00: No Telehealth, No Neurology</td><td>Jefferson</td><td>Alabama</td><td>00: Urban</td><td>02: Upper Class</td></tr>",
                            "<tr><td>6530015</td><td>31.2037</td><td>-85.3846</td><td>Laurel Oaks Behavioral Health Center</td><td>00: No Telehealth, No Neurology</td><td>Houston</td><td>Alabama</td><td>00: Urban</td><td>00: Lower Class</td></tr>",
                            "<tr><td>6530017</td><td>33.2219</td><td>-87.543</td><td>Taylor Hardin Secure Medical Facility</td><td>00: No Telehealth, No Neurology</td><td>Tuscaloosa</td><td>Alabama</td><td>00: Urban</td><td>99: Not Ranked</td></tr>",
                            "<tr><td>6530020</td><td>33.2081</td><td>-87.5377</td><td>Mary S Harper Geriatric Psychiatry Center</td><td>00: No Telehealth, No Neurology</td><td>Tuscaloosa</td><td>Alabama</td><td>00: Urban</td><td>99: Not Ranked</td></tr>",
                            "<tr><td>6530022</td><td>31.2159</td><td>-85.363</td><td>Noland Hospital Dothan</td><td>00: No Telehealth, No Neurology</td><td>Houston</td><td>Alabama</td><td>00: Urban</td><td>00: Lower Class</td></tr>",
                            "<tr><td>6530023</td><td>33.2091</td><td>-87.5482</td><td>Noland Hospital Tuscaloosa</td><td>00: No Telehealth, No Neurology</td><td>Tuscaloosa</td><td>Alabama</td><td>00: Urban</td><td>99: Not Ranked</td></tr>",
                            "<tr><td>6530050</td><td>31.2963</td><td>-86.4948</td><td>Andalusia Health</td><td>01: Reported Telestroke</td><td>Covington</td><td>Alabama</td><td>01: Rural</td><td>01: Middle Class</td></tr>",
                            "</table>"
                        ]
                    }
                }
            ],
            "execution_count": 1
        },
        {
            "cell_type": "code",
            "source": [
                "--Build the population-side table for analyses\r\n",
                "select [GEOID_Data], [State_Name],[County_Name], [HRSA_RURAL_DESC],\r\n",
                "case when [Median_ADI_NatRank]<=25 then '02: Upper Class'\r\n",
                "when ([Median_ADI_NatRank]>25 and [Median_ADI_NatRank]<=75) then '01: Middle Class'\r\n",
                "when [Median_ADI_NatRank]>75 then '00: Lower Class'\r\n",
                "else '99: Not Ranked' end as [ADI]\r\n",
                "into #Pop_Character\r\n",
                "from [dbo].[US_Census_Tract_Charac]\r\n",
                "where State_Name in ('Alabama','Georgia','Mississippi','Tennessee','Florida');\r\n",
                "\r\n",
                "select top 10 *\r\n",
                "from #Pop_Character\r\n",
                ""
            ],
            "metadata": {
                "azdata_cell_guid": "79277f19-333e-4960-abf9-d1f723d3be00"
            },
            "outputs": [
                {
                    "output_type": "display_data",
                    "data": {
                        "text/html": "(9556 rows affected)"
                    },
                    "metadata": {}
                },
                {
                    "output_type": "display_data",
                    "data": {
                        "text/html": "(10 rows affected)"
                    },
                    "metadata": {}
                },
                {
                    "output_type": "display_data",
                    "data": {
                        "text/html": "Total execution time: 00:00:00.083"
                    },
                    "metadata": {}
                },
                {
                    "output_type": "execute_result",
                    "metadata": {},
                    "execution_count": 2,
                    "data": {
                        "application/vnd.dataresource+json": {
                            "schema": {
                                "fields": [
                                    {
                                        "name": "GEOID_Data"
                                    },
                                    {
                                        "name": "State_Name"
                                    },
                                    {
                                        "name": "County_Name"
                                    },
                                    {
                                        "name": "HRSA_RURAL_DESC"
                                    },
                                    {
                                        "name": "ADI"
                                    }
                                ]
                            },
                            "data": [
                                {
                                    "0": "14000US12105012410",
                                    "1": "Florida",
                                    "2": "Polk",
                                    "3": "00: Urban",
                                    "4": "01: Middle Class"
                                },
                                {
                                    "0": "14000US12105012411",
                                    "1": "Florida",
                                    "2": "Polk",
                                    "3": "00: Urban",
                                    "4": "01: Middle Class"
                                },
                                {
                                    "0": "14000US12105012502",
                                    "1": "Florida",
                                    "2": "Polk",
                                    "3": "00: Urban",
                                    "4": "00: Lower Class"
                                },
                                {
                                    "0": "14000US12105012503",
                                    "1": "Florida",
                                    "2": "Polk",
                                    "3": "00: Urban",
                                    "4": "01: Middle Class"
                                },
                                {
                                    "0": "14000US12105012504",
                                    "1": "Florida",
                                    "2": "Polk",
                                    "3": "00: Urban",
                                    "4": "01: Middle Class"
                                },
                                {
                                    "0": "14000US12105012506",
                                    "1": "Florida",
                                    "2": "Polk",
                                    "3": "00: Urban",
                                    "4": "01: Middle Class"
                                },
                                {
                                    "0": "14000US12105012507",
                                    "1": "Florida",
                                    "2": "Polk",
                                    "3": "00: Urban",
                                    "4": "01: Middle Class"
                                },
                                {
                                    "0": "14000US12105012601",
                                    "1": "Florida",
                                    "2": "Polk",
                                    "3": "00: Urban",
                                    "4": "01: Middle Class"
                                },
                                {
                                    "0": "14000US12105012602",
                                    "1": "Florida",
                                    "2": "Polk",
                                    "3": "00: Urban",
                                    "4": "00: Lower Class"
                                },
                                {
                                    "0": "14000US12105012700",
                                    "1": "Florida",
                                    "2": "Polk",
                                    "3": "00: Urban",
                                    "4": "01: Middle Class"
                                }
                            ]
                        },
                        "text/html": [
                            "<table>",
                            "<tr><th>GEOID_Data</th><th>State_Name</th><th>County_Name</th><th>HRSA_RURAL_DESC</th><th>ADI</th></tr>",
                            "<tr><td>14000US12105012410</td><td>Florida</td><td>Polk</td><td>00: Urban</td><td>01: Middle Class</td></tr>",
                            "<tr><td>14000US12105012411</td><td>Florida</td><td>Polk</td><td>00: Urban</td><td>01: Middle Class</td></tr>",
                            "<tr><td>14000US12105012502</td><td>Florida</td><td>Polk</td><td>00: Urban</td><td>00: Lower Class</td></tr>",
                            "<tr><td>14000US12105012503</td><td>Florida</td><td>Polk</td><td>00: Urban</td><td>01: Middle Class</td></tr>",
                            "<tr><td>14000US12105012504</td><td>Florida</td><td>Polk</td><td>00: Urban</td><td>01: Middle Class</td></tr>",
                            "<tr><td>14000US12105012506</td><td>Florida</td><td>Polk</td><td>00: Urban</td><td>01: Middle Class</td></tr>",
                            "<tr><td>14000US12105012507</td><td>Florida</td><td>Polk</td><td>00: Urban</td><td>01: Middle Class</td></tr>",
                            "<tr><td>14000US12105012601</td><td>Florida</td><td>Polk</td><td>00: Urban</td><td>01: Middle Class</td></tr>",
                            "<tr><td>14000US12105012602</td><td>Florida</td><td>Polk</td><td>00: Urban</td><td>00: Lower Class</td></tr>",
                            "<tr><td>14000US12105012700</td><td>Florida</td><td>Polk</td><td>00: Urban</td><td>01: Middle Class</td></tr>",
                            "</table>"
                        ]
                    }
                }
            ],
            "execution_count": 2
        },
        {
            "cell_type": "code",
            "source": [
                "--Simple Physical Access with Telestroke and Neuro\r\n",
                "\r\n",
                "Select Distinct A.*,ISNULL(Closest_Provider,361) AS Closest_Provider_With_Telestroke\r\n",
                "into #MapWTeleStroke\r\n",
                "from\r\n",
                "--Pop Characteristics in region\r\n",
                "#Pop_Character A\r\n",
                "left join\r\n",
                "--Find closest telestroke/neuro facility in region\r\n",
                "(\r\n",
                "select GEOID_Data, MIN(TOTAL_TRAVELTIME) AS Closest_Provider\r\n",
                "from \r\n",
                "[dbo].[Travel_Matrix]\r\n",
                "where GEOID_Data in\r\n",
                "(select GEOID_Data from #Pop_Character)\r\n",
                "and Provider_ID in\r\n",
                "(select ID from #HOSP_STATUS where [Status] in ('01: Reported Telestroke','02: Reported Neurology, No Telestroke'))\r\n",
                "Group by GEOID_Data\r\n",
                ") B\r\n",
                "\ton A.GEOID_Data=B.GEOID_Data\r\n",
                "order by GEOID_Data;\r\n",
                "\r\n",
                "select top 10 *\r\n",
                "from #MapWTeleStroke\r\n",
                "order by GEOID_Data;"
            ],
            "metadata": {
                "azdata_cell_guid": "776aca08-2320-4144-b5fc-7ed175ab9aa9"
            },
            "outputs": [
                {
                    "output_type": "display_data",
                    "data": {
                        "text/html": "(9556 rows affected)"
                    },
                    "metadata": {}
                },
                {
                    "output_type": "display_data",
                    "data": {
                        "text/html": "(10 rows affected)"
                    },
                    "metadata": {}
                },
                {
                    "output_type": "display_data",
                    "data": {
                        "text/html": "Total execution time: 00:00:05.403"
                    },
                    "metadata": {}
                },
                {
                    "output_type": "execute_result",
                    "metadata": {},
                    "execution_count": 3,
                    "data": {
                        "application/vnd.dataresource+json": {
                            "schema": {
                                "fields": [
                                    {
                                        "name": "GEOID_Data"
                                    },
                                    {
                                        "name": "State_Name"
                                    },
                                    {
                                        "name": "County_Name"
                                    },
                                    {
                                        "name": "HRSA_RURAL_DESC"
                                    },
                                    {
                                        "name": "ADI"
                                    },
                                    {
                                        "name": "Closest_Provider_With_Telestroke"
                                    }
                                ]
                            },
                            "data": [
                                {
                                    "0": "14000US01001020100",
                                    "1": "Alabama",
                                    "2": "Autauga",
                                    "3": "00: Urban",
                                    "4": "01: Middle Class",
                                    "5": "6.843571203154271"
                                },
                                {
                                    "0": "14000US01001020200",
                                    "1": "Alabama",
                                    "2": "Autauga",
                                    "3": "00: Urban",
                                    "4": "01: Middle Class",
                                    "5": "5.950789972196525"
                                },
                                {
                                    "0": "14000US01001020300",
                                    "1": "Alabama",
                                    "2": "Autauga",
                                    "3": "00: Urban",
                                    "4": "01: Middle Class",
                                    "5": "2.915442250855095"
                                },
                                {
                                    "0": "14000US01001020400",
                                    "1": "Alabama",
                                    "2": "Autauga",
                                    "3": "00: Urban",
                                    "4": "01: Middle Class",
                                    "5": "3.559634007734176"
                                },
                                {
                                    "0": "14000US01001020500",
                                    "1": "Alabama",
                                    "2": "Autauga",
                                    "3": "00: Urban",
                                    "4": "01: Middle Class",
                                    "5": "5.036663439784612"
                                },
                                {
                                    "0": "14000US01001020600",
                                    "1": "Alabama",
                                    "2": "Autauga",
                                    "3": "00: Urban",
                                    "4": "01: Middle Class",
                                    "5": "7.242245256976144"
                                },
                                {
                                    "0": "14000US01001020700",
                                    "1": "Alabama",
                                    "2": "Autauga",
                                    "3": "00: Urban",
                                    "4": "01: Middle Class",
                                    "5": "8.620686006245055"
                                },
                                {
                                    "0": "14000US01001020801",
                                    "1": "Alabama",
                                    "2": "Autauga",
                                    "3": "00: Urban",
                                    "4": "02: Upper Class",
                                    "5": "12.762006628959126"
                                },
                                {
                                    "0": "14000US01001020802",
                                    "1": "Alabama",
                                    "2": "Autauga",
                                    "3": "00: Urban",
                                    "4": "01: Middle Class",
                                    "5": "11.706857204085829"
                                },
                                {
                                    "0": "14000US01001020900",
                                    "1": "Alabama",
                                    "2": "Autauga",
                                    "3": "00: Urban",
                                    "4": "01: Middle Class",
                                    "5": "21.902691464307935"
                                }
                            ]
                        },
                        "text/html": [
                            "<table>",
                            "<tr><th>GEOID_Data</th><th>State_Name</th><th>County_Name</th><th>HRSA_RURAL_DESC</th><th>ADI</th><th>Closest_Provider_With_Telestroke</th></tr>",
                            "<tr><td>14000US01001020100</td><td>Alabama</td><td>Autauga</td><td>00: Urban</td><td>01: Middle Class</td><td>6.843571203154271</td></tr>",
                            "<tr><td>14000US01001020200</td><td>Alabama</td><td>Autauga</td><td>00: Urban</td><td>01: Middle Class</td><td>5.950789972196525</td></tr>",
                            "<tr><td>14000US01001020300</td><td>Alabama</td><td>Autauga</td><td>00: Urban</td><td>01: Middle Class</td><td>2.915442250855095</td></tr>",
                            "<tr><td>14000US01001020400</td><td>Alabama</td><td>Autauga</td><td>00: Urban</td><td>01: Middle Class</td><td>3.559634007734176</td></tr>",
                            "<tr><td>14000US01001020500</td><td>Alabama</td><td>Autauga</td><td>00: Urban</td><td>01: Middle Class</td><td>5.036663439784612</td></tr>",
                            "<tr><td>14000US01001020600</td><td>Alabama</td><td>Autauga</td><td>00: Urban</td><td>01: Middle Class</td><td>7.242245256976144</td></tr>",
                            "<tr><td>14000US01001020700</td><td>Alabama</td><td>Autauga</td><td>00: Urban</td><td>01: Middle Class</td><td>8.620686006245055</td></tr>",
                            "<tr><td>14000US01001020801</td><td>Alabama</td><td>Autauga</td><td>00: Urban</td><td>02: Upper Class</td><td>12.762006628959126</td></tr>",
                            "<tr><td>14000US01001020802</td><td>Alabama</td><td>Autauga</td><td>00: Urban</td><td>01: Middle Class</td><td>11.706857204085829</td></tr>",
                            "<tr><td>14000US01001020900</td><td>Alabama</td><td>Autauga</td><td>00: Urban</td><td>01: Middle Class</td><td>21.902691464307935</td></tr>",
                            "</table>"
                        ]
                    }
                }
            ],
            "execution_count": 3
        },
        {
            "cell_type": "code",
            "source": [
                "drop table #Map_WO_TeleStroke\r\n",
                "Select Distinct A.*,ISNULL(Closest_Provider,361) AS Closest_Provider_WithOut_Telestroke\r\n",
                "into #Map_WO_TeleStroke\r\n",
                "from\r\n",
                "--Pop Characteristics in region\r\n",
                "#Pop_Character A\r\n",
                "left join\r\n",
                "--Find closest neuro facility in region\r\n",
                "(\r\n",
                "select GEOID_Data, MIN(TOTAL_TRAVELTIME) AS Closest_Provider\r\n",
                "from \r\n",
                "[dbo].[Travel_Matrix]\r\n",
                "where GEOID_Data in\r\n",
                "(select GEOID_Data from #Pop_Character)\r\n",
                "and Provider_ID in\r\n",
                "(select ID from #HOSP_STATUS where [Status] in ('02: Reported Neurology, No Telestroke'))\r\n",
                "Group by GEOID_Data\r\n",
                ") B\r\n",
                "\ton A.GEOID_Data=B.GEOID_Data\r\n",
                "order by GEOID_Data;\r\n",
                "\r\n",
                "select top 10 *\r\n",
                "from #Map_WO_TeleStroke\r\n",
                "order by GEOID_Data;\r\n",
                "--Note: Makes underlying assumption that after vetting a hanful of hospitals that hospitals with Telestroke are reporting that they have Neurology Services, but do not have a neurologist on staff at facility"
            ],
            "metadata": {
                "azdata_cell_guid": "a830343b-94ac-476f-ba85-4c9aae865628"
            },
            "outputs": [
                {
                    "output_type": "display_data",
                    "data": {
                        "text/html": "(9556 rows affected)"
                    },
                    "metadata": {}
                },
                {
                    "output_type": "display_data",
                    "data": {
                        "text/html": "(10 rows affected)"
                    },
                    "metadata": {}
                },
                {
                    "output_type": "display_data",
                    "data": {
                        "text/html": "Total execution time: 00:00:06.216"
                    },
                    "metadata": {}
                },
                {
                    "output_type": "execute_result",
                    "metadata": {},
                    "execution_count": 5,
                    "data": {
                        "application/vnd.dataresource+json": {
                            "schema": {
                                "fields": [
                                    {
                                        "name": "GEOID_Data"
                                    },
                                    {
                                        "name": "State_Name"
                                    },
                                    {
                                        "name": "County_Name"
                                    },
                                    {
                                        "name": "HRSA_RURAL_DESC"
                                    },
                                    {
                                        "name": "ADI"
                                    },
                                    {
                                        "name": "Closest_Provider_WithOut_Telestroke"
                                    }
                                ]
                            },
                            "data": [
                                {
                                    "0": "14000US01001020100",
                                    "1": "Alabama",
                                    "2": "Autauga",
                                    "3": "00: Urban",
                                    "4": "01: Middle Class",
                                    "5": "29.09444595675894"
                                },
                                {
                                    "0": "14000US01001020200",
                                    "1": "Alabama",
                                    "2": "Autauga",
                                    "3": "00: Urban",
                                    "4": "01: Middle Class",
                                    "5": "28.570595265809867"
                                },
                                {
                                    "0": "14000US01001020300",
                                    "1": "Alabama",
                                    "2": "Autauga",
                                    "3": "00: Urban",
                                    "4": "01: Middle Class",
                                    "5": "25.86012767735112"
                                },
                                {
                                    "0": "14000US01001020400",
                                    "1": "Alabama",
                                    "2": "Autauga",
                                    "3": "00: Urban",
                                    "4": "01: Middle Class",
                                    "5": "24.453051622092076"
                                },
                                {
                                    "0": "14000US01001020500",
                                    "1": "Alabama",
                                    "2": "Autauga",
                                    "3": "00: Urban",
                                    "4": "01: Middle Class",
                                    "5": "22.444211912783267"
                                },
                                {
                                    "0": "14000US01001020600",
                                    "1": "Alabama",
                                    "2": "Autauga",
                                    "3": "00: Urban",
                                    "4": "01: Middle Class",
                                    "5": "23.73446334413071"
                                },
                                {
                                    "0": "14000US01001020700",
                                    "1": "Alabama",
                                    "2": "Autauga",
                                    "3": "00: Urban",
                                    "4": "01: Middle Class",
                                    "5": "21.051896330181275"
                                },
                                {
                                    "0": "14000US01001020801",
                                    "1": "Alabama",
                                    "2": "Autauga",
                                    "3": "00: Urban",
                                    "4": "02: Upper Class",
                                    "5": "29.213601746700427"
                                },
                                {
                                    "0": "14000US01001020802",
                                    "1": "Alabama",
                                    "2": "Autauga",
                                    "3": "00: Urban",
                                    "4": "01: Middle Class",
                                    "5": "29.717415648753658"
                                },
                                {
                                    "0": "14000US01001020900",
                                    "1": "Alabama",
                                    "2": "Autauga",
                                    "3": "00: Urban",
                                    "4": "01: Middle Class",
                                    "5": "38.01846170555225"
                                }
                            ]
                        },
                        "text/html": [
                            "<table>",
                            "<tr><th>GEOID_Data</th><th>State_Name</th><th>County_Name</th><th>HRSA_RURAL_DESC</th><th>ADI</th><th>Closest_Provider_WithOut_Telestroke</th></tr>",
                            "<tr><td>14000US01001020100</td><td>Alabama</td><td>Autauga</td><td>00: Urban</td><td>01: Middle Class</td><td>29.09444595675894</td></tr>",
                            "<tr><td>14000US01001020200</td><td>Alabama</td><td>Autauga</td><td>00: Urban</td><td>01: Middle Class</td><td>28.570595265809867</td></tr>",
                            "<tr><td>14000US01001020300</td><td>Alabama</td><td>Autauga</td><td>00: Urban</td><td>01: Middle Class</td><td>25.86012767735112</td></tr>",
                            "<tr><td>14000US01001020400</td><td>Alabama</td><td>Autauga</td><td>00: Urban</td><td>01: Middle Class</td><td>24.453051622092076</td></tr>",
                            "<tr><td>14000US01001020500</td><td>Alabama</td><td>Autauga</td><td>00: Urban</td><td>01: Middle Class</td><td>22.444211912783267</td></tr>",
                            "<tr><td>14000US01001020600</td><td>Alabama</td><td>Autauga</td><td>00: Urban</td><td>01: Middle Class</td><td>23.73446334413071</td></tr>",
                            "<tr><td>14000US01001020700</td><td>Alabama</td><td>Autauga</td><td>00: Urban</td><td>01: Middle Class</td><td>21.051896330181275</td></tr>",
                            "<tr><td>14000US01001020801</td><td>Alabama</td><td>Autauga</td><td>00: Urban</td><td>02: Upper Class</td><td>29.213601746700427</td></tr>",
                            "<tr><td>14000US01001020802</td><td>Alabama</td><td>Autauga</td><td>00: Urban</td><td>01: Middle Class</td><td>29.717415648753658</td></tr>",
                            "<tr><td>14000US01001020900</td><td>Alabama</td><td>Autauga</td><td>00: Urban</td><td>01: Middle Class</td><td>38.01846170555225</td></tr>",
                            "</table>"
                        ]
                    }
                }
            ],
            "execution_count": 5
        },
        {
            "cell_type": "code",
            "source": [
                "select distinct \r\n",
                " A.*\r\n",
                ",B.Closest_Provider_WithOut_Telestroke\r\n",
                ",((B.Closest_Provider_WithOut_Telestroke-A.Closest_Provider_With_Telestroke))/A.Closest_Provider_With_Telestroke as [Percent Increase If No Telestroke]\r\n",
                "into #final_Map_Pop\r\n",
                "from \r\n",
                "#MapWTeleStroke as A\r\n",
                "left join\r\n",
                "#Map_WO_TeleStroke as B\r\n",
                "\ton A.GEOID_Data=B.GEOID_Data\r\n",
                "order by GEOID_Data;\r\n",
                "\r\n",
                "select top 10 *\r\n",
                "from #final_Map_Pop"
            ],
            "metadata": {
                "azdata_cell_guid": "2928a61b-e5d3-4312-a0e1-4d8c807cf205"
            },
            "outputs": [
                {
                    "output_type": "display_data",
                    "data": {
                        "text/html": "(9556 rows affected)"
                    },
                    "metadata": {}
                },
                {
                    "output_type": "display_data",
                    "data": {
                        "text/html": "(10 rows affected)"
                    },
                    "metadata": {}
                },
                {
                    "output_type": "display_data",
                    "data": {
                        "text/html": "Total execution time: 00:00:00.160"
                    },
                    "metadata": {}
                },
                {
                    "output_type": "execute_result",
                    "metadata": {},
                    "execution_count": 6,
                    "data": {
                        "application/vnd.dataresource+json": {
                            "schema": {
                                "fields": [
                                    {
                                        "name": "GEOID_Data"
                                    },
                                    {
                                        "name": "State_Name"
                                    },
                                    {
                                        "name": "County_Name"
                                    },
                                    {
                                        "name": "HRSA_RURAL_DESC"
                                    },
                                    {
                                        "name": "ADI"
                                    },
                                    {
                                        "name": "Closest_Provider_With_Telestroke"
                                    },
                                    {
                                        "name": "Closest_Provider_WithOut_Telestroke"
                                    },
                                    {
                                        "name": "Percent Increase If No Telestroke"
                                    }
                                ]
                            },
                            "data": [
                                {
                                    "0": "14000US28075000200",
                                    "1": "Mississippi",
                                    "2": "Lauderdale",
                                    "3": "01: Rural",
                                    "4": "00: Lower Class",
                                    "5": "3.475411118517171",
                                    "6": "3.475411118517171",
                                    "7": "0"
                                },
                                {
                                    "0": "14000US28075000300",
                                    "1": "Mississippi",
                                    "2": "Lauderdale",
                                    "3": "01: Rural",
                                    "4": "00: Lower Class",
                                    "5": "4.466126470062882",
                                    "6": "4.466126470062882",
                                    "7": "0"
                                },
                                {
                                    "0": "14000US28075000400",
                                    "1": "Mississippi",
                                    "2": "Lauderdale",
                                    "3": "01: Rural",
                                    "4": "00: Lower Class",
                                    "5": "5.877454434650961",
                                    "6": "5.877454434650961",
                                    "7": "0"
                                },
                                {
                                    "0": "14000US28075000600",
                                    "1": "Mississippi",
                                    "2": "Lauderdale",
                                    "3": "01: Rural",
                                    "4": "00: Lower Class",
                                    "5": "4.613735494399484",
                                    "6": "4.613735494399484",
                                    "7": "0"
                                },
                                {
                                    "0": "14000US28075000700",
                                    "1": "Mississippi",
                                    "2": "Lauderdale",
                                    "3": "01: Rural",
                                    "4": "00: Lower Class",
                                    "5": "7.912373894125135",
                                    "6": "7.912373894125135",
                                    "7": "0"
                                },
                                {
                                    "0": "14000US28075000800",
                                    "1": "Mississippi",
                                    "2": "Lauderdale",
                                    "3": "01: Rural",
                                    "4": "00: Lower Class",
                                    "5": "6.519901171274567",
                                    "6": "6.519901171274567",
                                    "7": "0"
                                },
                                {
                                    "0": "14000US28075000900",
                                    "1": "Mississippi",
                                    "2": "Lauderdale",
                                    "3": "01: Rural",
                                    "4": "00: Lower Class",
                                    "5": "9.015435128262586",
                                    "6": "9.015435128262586",
                                    "7": "0"
                                },
                                {
                                    "0": "14000US28075001000",
                                    "1": "Mississippi",
                                    "2": "Lauderdale",
                                    "3": "01: Rural",
                                    "4": "01: Middle Class",
                                    "5": "11.310804846203196",
                                    "6": "11.310804846203196",
                                    "7": "0"
                                },
                                {
                                    "0": "14000US28075001101",
                                    "1": "Mississippi",
                                    "2": "Lauderdale",
                                    "3": "01: Rural",
                                    "4": "01: Middle Class",
                                    "5": "6.908675867669704",
                                    "6": "6.908675867669704",
                                    "7": "0"
                                },
                                {
                                    "0": "14000US28075001102",
                                    "1": "Mississippi",
                                    "2": "Lauderdale",
                                    "3": "01: Rural",
                                    "4": "01: Middle Class",
                                    "5": "12.079732402434736",
                                    "6": "12.079732402434736",
                                    "7": "0"
                                }
                            ]
                        },
                        "text/html": [
                            "<table>",
                            "<tr><th>GEOID_Data</th><th>State_Name</th><th>County_Name</th><th>HRSA_RURAL_DESC</th><th>ADI</th><th>Closest_Provider_With_Telestroke</th><th>Closest_Provider_WithOut_Telestroke</th><th>Percent Increase If No Telestroke</th></tr>",
                            "<tr><td>14000US28075000200</td><td>Mississippi</td><td>Lauderdale</td><td>01: Rural</td><td>00: Lower Class</td><td>3.475411118517171</td><td>3.475411118517171</td><td>0</td></tr>",
                            "<tr><td>14000US28075000300</td><td>Mississippi</td><td>Lauderdale</td><td>01: Rural</td><td>00: Lower Class</td><td>4.466126470062882</td><td>4.466126470062882</td><td>0</td></tr>",
                            "<tr><td>14000US28075000400</td><td>Mississippi</td><td>Lauderdale</td><td>01: Rural</td><td>00: Lower Class</td><td>5.877454434650961</td><td>5.877454434650961</td><td>0</td></tr>",
                            "<tr><td>14000US28075000600</td><td>Mississippi</td><td>Lauderdale</td><td>01: Rural</td><td>00: Lower Class</td><td>4.613735494399484</td><td>4.613735494399484</td><td>0</td></tr>",
                            "<tr><td>14000US28075000700</td><td>Mississippi</td><td>Lauderdale</td><td>01: Rural</td><td>00: Lower Class</td><td>7.912373894125135</td><td>7.912373894125135</td><td>0</td></tr>",
                            "<tr><td>14000US28075000800</td><td>Mississippi</td><td>Lauderdale</td><td>01: Rural</td><td>00: Lower Class</td><td>6.519901171274567</td><td>6.519901171274567</td><td>0</td></tr>",
                            "<tr><td>14000US28075000900</td><td>Mississippi</td><td>Lauderdale</td><td>01: Rural</td><td>00: Lower Class</td><td>9.015435128262586</td><td>9.015435128262586</td><td>0</td></tr>",
                            "<tr><td>14000US28075001000</td><td>Mississippi</td><td>Lauderdale</td><td>01: Rural</td><td>01: Middle Class</td><td>11.310804846203196</td><td>11.310804846203196</td><td>0</td></tr>",
                            "<tr><td>14000US28075001101</td><td>Mississippi</td><td>Lauderdale</td><td>01: Rural</td><td>01: Middle Class</td><td>6.908675867669704</td><td>6.908675867669704</td><td>0</td></tr>",
                            "<tr><td>14000US28075001102</td><td>Mississippi</td><td>Lauderdale</td><td>01: Rural</td><td>01: Middle Class</td><td>12.079732402434736</td><td>12.079732402434736</td><td>0</td></tr>",
                            "</table>"
                        ]
                    }
                }
            ],
            "execution_count": 6
        },
        {
            "cell_type": "code",
            "source": [
                "--Create permanent tables for Tableau and ArcGIS\r\n",
                "select distinct *\r\n",
                "into [HCAN361_25].dbo.Prov_Loc_Group7\r\n",
                "from #HOSP_STATUS;\r\n",
                "\r\n",
                "Alter table [HCAN361_25].dbo.Prov_Loc_Group7\r\n",
                "Alter Column ID varchar (30) not null;\r\n",
                "\r\n",
                "Alter table [HCAN361_25].dbo.Prov_Loc_Group7\r\n",
                "Add constraint pk_Grp7_Prov Primary Key(ID);\r\n",
                "\r\n",
                "select distinct *\r\n",
                "into HCAN361_25.dbo.PopMap_Group7\r\n",
                "from #final_Map_Pop;\r\n",
                "\r\n",
                "Alter table HCAN361_25.dbo.PopMap_Group7\r\n",
                "Alter column GEOID_Data varchar(30) not null;\r\n",
                "\r\n",
                "Alter table HCAN361_25.dbo.PopMap_Group7\r\n",
                "Add constraint pk_Grp7_PopMap Primary Key(GEOID_Data);\r\n",
                "\r\n",
                "--#HOSP_STATUS--> Hospital Locations\r\n",
                "--#final_Map_Pop--> Pop Map"
            ],
            "metadata": {
                "azdata_cell_guid": "9e6e9a54-6059-4c35-acb5-935a128652fc"
            },
            "outputs": [
                {
                    "output_type": "display_data",
                    "data": {
                        "text/html": "(6152 rows affected)"
                    },
                    "metadata": {}
                },
                {
                    "output_type": "display_data",
                    "data": {
                        "text/html": "(9556 rows affected)"
                    },
                    "metadata": {}
                },
                {
                    "output_type": "display_data",
                    "data": {
                        "text/html": "Total execution time: 00:00:00.512"
                    },
                    "metadata": {}
                }
            ],
            "execution_count": 7
        },
        {
            "cell_type": "code",
            "source": [
                "--Table 1: Number of Telestroke Hospitals and as a function of percent of all hospitals within each state\r\n",
                "\r\n",
                "select State_Name\r\n",
                "      ,count(distinct id) as [Total Hospitals Statewide]\r\n",
                "\t  ,count(distinct case when [Status]='01: Reported Telestroke' then id end) as [TeleStroke Hospitals Statewide]\r\n",
                "\t  ,((count(distinct case when [Status]='01: Reported Telestroke' then id end))*1.00)/((count(distinct id))*1.00) as [Percent TeleStroke Statewide]\r\n",
                "\t  ,count(distinct case when [HRSA_RURAL_DESC]='00: Urban' then id end) as [Total Hospitals Urban]\r\n",
                "\t  ,count(distinct case when ([Status]='01: Reported Telestroke' and [HRSA_RURAL_DESC]='00: Urban') then id end) as [TeleStroke Hospitals Urban]\r\n",
                "\t  ,((count(distinct case when ([Status]='01: Reported Telestroke' and [HRSA_RURAL_DESC]='00: Urban') then id end))*1.00)/((count(distinct case when [HRSA_RURAL_DESC]='00: Urban' then id end))*1.00) as [Percent TeleStroke Urban]\r\n",
                "\t  ,count(distinct case when [HRSA_RURAL_DESC]<>'00: Urban' then id end) as [Total Hospitals Rural]\r\n",
                "\t  ,count(distinct case when ([Status]='01: Reported Telestroke' and [HRSA_RURAL_DESC]<>'00: Urban') then id end) as [TeleStroke Hospitals Rural]\r\n",
                "\t  ,((count(distinct case when ([Status]='01: Reported Telestroke' and [HRSA_RURAL_DESC]<>'00: Urban') then id end))*1.00)/((count(distinct case when [HRSA_RURAL_DESC]<>'00: Urban' then id end))*1.00) as [Percent TeleStroke Rural]\r\n",
                "from [HCAN361_25].dbo.Prov_Loc_Group7\n",
                "where State_Name in ('Alabama','Georgia','Mississippi','Tennessee','Florida')\r\n",
                "group by State_Name\r\n",
                "order by State_Name;"
            ],
            "metadata": {
                "azdata_cell_guid": "cb18722b-2434-4009-8550-6196371c1b69"
            },
            "outputs": [
{
    "output_type": "display_data",
    "data": {
        "text/html": "Warning: Null value is eliminated by an aggregate or other SET operation."
    },
    "metadata": {}
}, {
    "output_type": "display_data",
    "data": {
        "text/html": "(5 rows affected)"
    },
    "metadata": {}
}, {
    "output_type": "display_data",
    "data": {
        "text/html": "Total execution time: 00:00:00.073"
    },
    "metadata": {}
}, {
    "output_type": "execute_result",
    "metadata": {},
    "execution_count": 11,
    "data": {
        "application/vnd.dataresource+json": {
            "schema": {
                "fields": [
                    {
                        "name": "State_Name"
                    },
                    {
                        "name": "Total Hospitals Statewide"
                    },
                    {
                        "name": "TeleStroke Hospitals Statewide"
                    },
                    {
                        "name": "Percent TeleStroke Statewide"
                    },
                    {
                        "name": "Total Hospitals Urban"
                    },
                    {
                        "name": "TeleStroke Hospitals Urban"
                    },
                    {
                        "name": "Percent TeleStroke Urban"
                    },
                    {
                        "name": "Total Hospitals Rural"
                    },
                    {
                        "name": "TeleStroke Hospitals Rural"
                    },
                    {
                        "name": "Percent TeleStroke Rural"
                    }
                ]
            },
            "data": [
                {
                    "0": "Alabama",
                    "1": "116",
                    "2": "14",
                    "3": "0.12068965517241379",
                    "4": "68",
                    "5": "9",
                    "6": "0.13235294117647058",
                    "7": "48",
                    "8": "5",
                    "9": "0.10416666666666666"
                },
                {
                    "0": "Florida",
                    "1": "253",
                    "2": "68",
                    "3": "0.26877470355731225",
                    "4": "231",
                    "5": "64",
                    "6": "0.27705627705627705",
                    "7": "22",
                    "8": "4",
                    "9": "0.18181818181818181"
                },
                {
                    "0": "Georgia",
                    "1": "172",
                    "2": "27",
                    "3": "0.15697674418604651",
                    "4": "105",
                    "5": "18",
                    "6": "0.17142857142857142",
                    "7": "67",
                    "8": "9",
                    "9": "0.13432835820895522"
                },
                {
                    "0": "Mississippi",
                    "1": "112",
                    "2": "23",
                    "3": "0.20535714285714285",
                    "4": "36",
                    "5": "6",
                    "6": "0.16666666666666666",
                    "7": "76",
                    "8": "17",
                    "9": "0.22368421052631578"
                },
                {
                    "0": "Tennessee",
                    "1": "133",
                    "2": "33",
                    "3": "0.24812030075187969",
                    "4": "79",
                    "5": "22",
                    "6": "0.27848101265822784",
                    "7": "54",
                    "8": "11",
                    "9": "0.20370370370370370"
                }
            ]
        },
        "text/html": [
            "<table>",
            "<tr><th>State_Name</th><th>Total Hospitals Statewide</th><th>TeleStroke Hospitals Statewide</th><th>Percent TeleStroke Statewide</th><th>Total Hospitals Urban</th><th>TeleStroke Hospitals Urban</th><th>Percent TeleStroke Urban</th><th>Total Hospitals Rural</th><th>TeleStroke Hospitals Rural</th><th>Percent TeleStroke Rural</th></tr>",
            "<tr><td>Alabama</td><td>116</td><td>14</td><td>0.12068965517241379</td><td>68</td><td>9</td><td>0.13235294117647058</td><td>48</td><td>5</td><td>0.10416666666666666</td></tr>",
            "<tr><td>Florida</td><td>253</td><td>68</td><td>0.26877470355731225</td><td>231</td><td>64</td><td>0.27705627705627705</td><td>22</td><td>4</td><td>0.18181818181818181</td></tr>",
            "<tr><td>Georgia</td><td>172</td><td>27</td><td>0.15697674418604651</td><td>105</td><td>18</td><td>0.17142857142857142</td><td>67</td><td>9</td><td>0.13432835820895522</td></tr>",
            "<tr><td>Mississippi</td><td>112</td><td>23</td><td>0.20535714285714285</td><td>36</td><td>6</td><td>0.16666666666666666</td><td>76</td><td>17</td><td>0.22368421052631578</td></tr>",
            "<tr><td>Tennessee</td><td>133</td><td>33</td><td>0.24812030075187969</td><td>79</td><td>22</td><td>0.27848101265822784</td><td>54</td><td>11</td><td>0.20370370370370370</td></tr>",
            "</table>"
        ]
    }
}
],
            "execution_count": 8
        },
        {
            "cell_type": "code",
            "source": [
                "--Table 2: Median Travel Time With and Without Telestroke\r\n",
                "Select Distinct\r\n",
                " State_Name\r\n",
                ",PERCENTILE_CONT(0.5) WITHIN GROUP (ORDER BY Closest_Provider_With_Telestroke) OVER (PARTITION BY State_Name) AS [Median Closest Travel Time With TeleStroke Statewide]\r\n",
                ",PERCENTILE_CONT(0.5) WITHIN GROUP (ORDER BY Closest_Provider_WithOut_Telestroke) OVER (PARTITION BY State_Name) AS [Median Closest Travel Time Without TeleStroke Statewide]\r\n",
                ",PERCENTILE_CONT(0.5) WITHIN GROUP (ORDER BY case when HRSA_RURAL_DESC='00: Urban' then Closest_Provider_With_Telestroke end) OVER (PARTITION BY State_Name) AS [Median Closest Travel Time With TeleStroke Urban]\r\n",
                ",PERCENTILE_CONT(0.5) WITHIN GROUP (ORDER BY case when HRSA_RURAL_DESC='00: Urban' then  Closest_Provider_WithOut_Telestroke end) OVER (PARTITION BY State_Name) AS [Median Closest Travel Time Without TeleStroke Urban]\r\n",
                ",PERCENTILE_CONT(0.5) WITHIN GROUP (ORDER BY case when HRSA_RURAL_DESC<>'00: Urban' then Closest_Provider_With_Telestroke end) OVER (PARTITION BY State_Name) AS [Median Closest Travel Time With TeleStroke Rural]\r\n",
                ",PERCENTILE_CONT(0.5) WITHIN GROUP (ORDER BY case when HRSA_RURAL_DESC<>'00: Urban' then  Closest_Provider_WithOut_Telestroke end) OVER (PARTITION BY State_Name) AS [Median Closest Travel Time Without TeleStroke Rural]\r\n",
                "from\r\n",
                "HCAN361_25.dbo.PopMap_Group7\r\n",
                "order by State_Name;"
            ],
            "metadata": {
                "azdata_cell_guid": "95946d4f-aa42-4ac2-8bf6-d081396f8379"
            },
            "outputs": [
                {
                    "output_type": "display_data",
                    "data": {
                        "text/html": "(5 rows affected)"
                    },
                    "metadata": {}
                },
                {
                    "output_type": "display_data",
                    "data": {
                        "text/html": "Total execution time: 00:00:00.393"
                    },
                    "metadata": {}
                },
                {
                    "output_type": "execute_result",
                    "metadata": {},
                    "execution_count": 9,
                    "data": {
                        "application/vnd.dataresource+json": {
                            "schema": {
                                "fields": [
                                    {
                                        "name": "State_Name"
                                    },
                                    {
                                        "name": "Median Closest Travel Time With TeleStroke Statewide"
                                    },
                                    {
                                        "name": "Median Closest Travel Time Without TeleStroke Statewide"
                                    },
                                    {
                                        "name": "Median Closest Travel Time With TeleStroke Urban"
                                    },
                                    {
                                        "name": "Median Closest Travel Time Without TeleStroke Urban"
                                    },
                                    {
                                        "name": "Median Closest Travel Time With TeleStroke Rural"
                                    },
                                    {
                                        "name": "Median Closest Travel Time Without TeleStroke Rural"
                                    }
                                ]
                            },
                            "data": [
                                {
                                    "0": "Alabama",
                                    "1": "20.32661269613938",
                                    "2": "30.382947530426335",
                                    "3": "14.666570685806073",
                                    "4": "19.619856187098314",
                                    "5": "35.18803783363203",
                                    "6": "53.56790285204495"
                                },
                                {
                                    "0": "Florida",
                                    "1": "12.048842228287782",
                                    "2": "16.312954229655663",
                                    "3": "11.629565985133901",
                                    "4": "15.702851482282234",
                                    "5": "36.83027069657001",
                                    "6": "51.131747522235045"
                                },
                                {
                                    "0": "Georgia",
                                    "1": "15.687213289682166",
                                    "2": "20.617557036696414",
                                    "3": "13.689732570367738",
                                    "4": "16.942679494269036",
                                    "5": "33.730134097957766",
                                    "6": "47.02333457929168"
                                },
                                {
                                    "0": "Mississippi",
                                    "1": "17.071605106736495",
                                    "2": "31.275658796091733",
                                    "3": "13.224976426128444",
                                    "4": "16.888722330647425",
                                    "5": "20.702715235180474",
                                    "6": "42.0978792258205"
                                },
                                {
                                    "0": "Tennessee",
                                    "1": "16.99732670953837",
                                    "2": "35.73774458496513",
                                    "3": "14.035655093245932",
                                    "4": "29.44543804798561",
                                    "5": "36.80444361213521",
                                    "6": "58.18957332446782"
                                }
                            ]
                        },
                        "text/html": [
                            "<table>",
                            "<tr><th>State_Name</th><th>Median Closest Travel Time With TeleStroke Statewide</th><th>Median Closest Travel Time Without TeleStroke Statewide</th><th>Median Closest Travel Time With TeleStroke Urban</th><th>Median Closest Travel Time Without TeleStroke Urban</th><th>Median Closest Travel Time With TeleStroke Rural</th><th>Median Closest Travel Time Without TeleStroke Rural</th></tr>",
                            "<tr><td>Alabama</td><td>20.32661269613938</td><td>30.382947530426335</td><td>14.666570685806073</td><td>19.619856187098314</td><td>35.18803783363203</td><td>53.56790285204495</td></tr>",
                            "<tr><td>Florida</td><td>12.048842228287782</td><td>16.312954229655663</td><td>11.629565985133901</td><td>15.702851482282234</td><td>36.83027069657001</td><td>51.131747522235045</td></tr>",
                            "<tr><td>Georgia</td><td>15.687213289682166</td><td>20.617557036696414</td><td>13.689732570367738</td><td>16.942679494269036</td><td>33.730134097957766</td><td>47.02333457929168</td></tr>",
                            "<tr><td>Mississippi</td><td>17.071605106736495</td><td>31.275658796091733</td><td>13.224976426128444</td><td>16.888722330647425</td><td>20.702715235180474</td><td>42.0978792258205</td></tr>",
                            "<tr><td>Tennessee</td><td>16.99732670953837</td><td>35.73774458496513</td><td>14.035655093245932</td><td>29.44543804798561</td><td>36.80444361213521</td><td>58.18957332446782</td></tr>",
                            "</table>"
                        ]
                    }
                }
            ],
            "execution_count": 9
        }
    ]
}