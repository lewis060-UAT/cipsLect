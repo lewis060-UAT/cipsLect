{
    "metadata": {
        "kernelspec": {
            "name": "SQL",
            "display_name": "SQL",
            "language": "sql"
        },
        "language_info": {
            "name": "sql",
            "version": ""
        }
    },
    "nbformat_minor": 2,
    "nbformat": 4,
    "cells": [
        {
            "cell_type": "markdown",
            "source": [
                "# HCAN 361 Final Project: Spring 2021\r\n",
                "\r\n",
                "## Potential Implications of Hospital Closure in rural Areas of the US Deep South"
            ],
            "metadata": {
                "azdata_cell_guid": "9004cc92-630e-498c-9ada-e5b6e3acb9f3"
            }
        },
        {
            "cell_type": "markdown",
            "source": [
                "- According to the CHQR website (https://www.chqpr.org/downloads/Rural\\_Hospitals\\_at\\_Risk\\_of\\_Closing.pdf), some rural hospitals are at immediate risk of closing. Most hospitals before they close tend to see decreasing margins in consecutive years, and minimal assets to get out of the hole\n",
                "- Using data from the CHQR website (https://ruralhospitals.chqpr.org/Data.html) we matched hospitals with -8% or less margins the past three years with hospitals listred in the AHA database\n",
                "- Next we compared what access would look like if at risk hospitals closed to see areas most likely to be impacted"
            ],
            "metadata": {
                "azdata_cell_guid": "0a772505-837e-4385-be21-52b4282142fb"
            }
        },
        {
            "cell_type": "code",
            "source": [
                "use [HCAN361_FinalProj]\r\n",
                "\r\n",
                "--Find the American Hospital IDs to match the hospitals listed\r\n",
                "--on the CHQR website with 3-year margins < 8%\r\n",
                "--in the following states: Alabama, Tennessee, Mississppi, Georgia\r\n",
                "\r\n",
                "select count(*) as [Rows in Base Table]\r\n",
                "from \r\n",
                "dbo.CHQR_RuralHospital_BadMargins\r\n",
                "\r\n",
                "\r\n",
                "\r\n",
                "--Step 1: see if these rural Hospitals only have 1 hospital in their city\r\n",
                "select A.*,B.ID, B.MSTATE, B.MLOCCITY, B.MNAME\r\n",
                "into #step1\r\n",
                "from \r\n",
                "dbo.CHQR_RuralHospital_BadMargins A\r\n",
                "left join\r\n",
                "[dbo].[AS19DEM] B\r\n",
                "\ton A.[State]=B.MSTATE and A.City=B.MLOCCITY;\r\n",
                "--50 rows (Not Bad!!)\r\n",
                "\r\n",
                "select *\r\n",
                "from #step1"
            ],
            "metadata": {
                "azdata_cell_guid": "8fb9bf87-8ad4-4d13-9aee-6ac75409e978"
            },
            "outputs": [
                {
                    "output_type": "display_data",
                    "data": {
                        "text/html": "(1 row affected)"
                    },
                    "metadata": {}
                },
                {
                    "output_type": "display_data",
                    "data": {
                        "text/html": "(50 rows affected)"
                    },
                    "metadata": {}
                },
                {
                    "output_type": "display_data",
                    "data": {
                        "text/html": "(50 rows affected)"
                    },
                    "metadata": {}
                },
                {
                    "output_type": "display_data",
                    "data": {
                        "text/html": "Total execution time: 00:00:00.094"
                    },
                    "metadata": {}
                },
                {
                    "output_type": "execute_result",
                    "metadata": {},
                    "execution_count": 1,
                    "data": {
                        "application/vnd.dataresource+json": {
                            "schema": {
                                "fields": [
                                    {
                                        "name": "Rows in Base Table"
                                    }
                                ]
                            },
                            "data": [
                                {
                                    "0": "47"
                                }
                            ]
                        },
                        "text/html": [
                            "<table>",
                            "<tr><th>Rows in Base Table</th></tr>",
                            "<tr><td>47</td></tr>",
                            "</table>"
                        ]
                    }
                },
                {
                    "output_type": "execute_result",
                    "metadata": {},
                    "execution_count": 1,
                    "data": {
                        "application/vnd.dataresource+json": {
                            "schema": {
                                "fields": [
                                    {
                                        "name": "Hospital"
                                    },
                                    {
                                        "name": "City"
                                    },
                                    {
                                        "name": "State"
                                    },
                                    {
                                        "name": "Closed_Open"
                                    },
                                    {
                                        "name": "Inpatient_Beds"
                                    },
                                    {
                                        "name": "Total_Expenses"
                                    },
                                    {
                                        "name": "Patient_Services_Margin"
                                    },
                                    {
                                        "name": "Total_Margin"
                                    },
                                    {
                                        "name": "ID"
                                    },
                                    {
                                        "name": "MSTATE"
                                    },
                                    {
                                        "name": "MLOCCITY"
                                    },
                                    {
                                        "name": "MNAME"
                                    }
                                ]
                            },
                            "data": [
                                {
                                    "0": "Memorial Hospital And Manor",
                                    "1": "Bainbridge",
                                    "2": "GA",
                                    "3": "Open",
                                    "4": "80",
                                    "5": "47252395.0000",
                                    "6": "-15.60%",
                                    "7": "-18.10%",
                                    "8": "6380298",
                                    "9": "GA",
                                    "10": "Bainbridge",
                                    "11": "Memorial Hospital and Manor"
                                },
                                {
                                    "0": "Mountain Lakes Medical Center",
                                    "1": "Clayton",
                                    "2": "GA",
                                    "3": "Open",
                                    "4": "25",
                                    "5": "15066945.0000",
                                    "6": "-15.90%",
                                    "7": "-11.60%",
                                    "8": "6380425",
                                    "9": "GA",
                                    "10": "Clayton",
                                    "11": "Mountain Lakes Medical Center"
                                },
                                {
                                    "0": "Navicent Health Baldwin",
                                    "1": "Milledgeville",
                                    "2": "GA",
                                    "3": "Open",
                                    "4": "140",
                                    "5": "55802495.0000",
                                    "6": "-11.00%",
                                    "7": "-9.60%",
                                    "8": "6380805",
                                    "9": "GA",
                                    "10": "Milledgeville",
                                    "11": "Navicent Health Baldwin"
                                },
                                {
                                    "0": "Navicent Health Baldwin",
                                    "1": "Milledgeville",
                                    "2": "GA",
                                    "3": "Open",
                                    "4": "140",
                                    "5": "55802495.0000",
                                    "6": "-11.00%",
                                    "7": "-9.60%",
                                    "8": "6380810",
                                    "9": "GA",
                                    "10": "Milledgeville",
                                    "11": "Central State Hospital"
                                },
                                {
                                    "0": "Jenkins County Medical Center",
                                    "1": "Millen",
                                    "2": "GA",
                                    "3": "Open",
                                    "4": "25",
                                    "5": "6115617.0000",
                                    "6": "-15.50%",
                                    "7": "-9.30%",
                                    "8": "6380850",
                                    "9": "GA",
                                    "10": "Millen",
                                    "11": "Jenkins County Medical Center"
                                },
                                {
                                    "0": "Sgmc Berrien Campus",
                                    "1": "Nashville",
                                    "2": "GA",
                                    "3": "Open",
                                    "4": "63",
                                    "5": "9212512.0000",
                                    "6": "-29.50%",
                                    "7": "-17.80%",
                                    "8": "6380901",
                                    "9": "GA",
                                    "10": "Nashville",
                                    "11": "South Georgia Medical Center Berrien Campus"
                                },
                                {
                                    "0": "St Mary's Sacred Heart Hospital, Inc",
                                    "1": "Lavonia",
                                    "2": "GA",
                                    "3": "Open",
                                    "4": "56",
                                    "5": "35329289.0000",
                                    "6": "-1.80%",
                                    "7": "-11.00%",
                                    "8": "6389226",
                                    "9": "GA",
                                    "10": "Lavonia",
                                    "11": "St. Mary's Sacred Heart Hospital"
                                },
                                {
                                    "0": "Saint Thomas River Park Hospital",
                                    "1": "Mc Minnville",
                                    "2": "TN",
                                    "3": "Open",
                                    "4": "152",
                                    "5": "46321651.0000",
                                    "6": "-9.60%",
                                    "7": "-8.20%",
                                    "8": "6520005",
                                    "9": "TN",
                                    "10": "Mc Minnville",
                                    "11": "Saint Thomas River Park Hospital"
                                },
                                {
                                    "0": "Bolivar General Hospital",
                                    "1": "Bolivar",
                                    "2": "TN",
                                    "3": "Open",
                                    "4": "25",
                                    "5": "7231050.0000",
                                    "6": "-11.40%",
                                    "7": "-11.20%",
                                    "8": "6520030",
                                    "9": "TN",
                                    "10": "Bolivar",
                                    "11": "Western Mental Health Institute"
                                },
                                {
                                    "0": "Bolivar General Hospital",
                                    "1": "Bolivar",
                                    "2": "TN",
                                    "3": "Open",
                                    "4": "25",
                                    "5": "7231050.0000",
                                    "6": "-11.40%",
                                    "7": "-11.20%",
                                    "8": "6520035",
                                    "9": "TN",
                                    "10": "Bolivar",
                                    "11": "West Tennessee Healthcare Bolivar Hospital"
                                },
                                {
                                    "0": "Unicoi County  Hospital",
                                    "1": "Erwin",
                                    "2": "TN",
                                    "3": "Open",
                                    "4": "48",
                                    "5": "12067671.0000",
                                    "6": "-22.50%",
                                    "7": "-24.00%",
                                    "8": "6520270",
                                    "9": "TN",
                                    "10": "Erwin",
                                    "11": "Unicoi County Memorial Hospital"
                                },
                                {
                                    "0": "Jellico Medical Center, Inc",
                                    "1": "Jellico",
                                    "2": "TN",
                                    "3": "Open",
                                    "4": "54",
                                    "5": "19123076.0000",
                                    "6": "-12.10%",
                                    "7": "-13.20%",
                                    "8": "6520445",
                                    "9": "TN",
                                    "10": "Jellico",
                                    "11": "Jellico Community Hospital"
                                },
                                {
                                    "0": "Henderson County Community Hospital",
                                    "1": "Lexington",
                                    "2": "TN",
                                    "3": "Open",
                                    "4": "45",
                                    "5": "15284911.0000",
                                    "6": "-10.30%",
                                    "7": "-16.60%",
                                    "8": "6520647",
                                    "9": "TN",
                                    "10": "Lexington",
                                    "11": "Henderson County Community Hospital"
                                },
                                {
                                    "0": "Newport Medical Center",
                                    "1": "Newport",
                                    "2": "TN",
                                    "3": "Open",
                                    "4": "74",
                                    "5": "36399195.0000",
                                    "6": "-2.00%",
                                    "7": "-8.10%",
                                    "8": "6521072",
                                    "9": "TN",
                                    "10": "Newport",
                                    "11": "Tennova Newport Medical Center"
                                },
                                {
                                    "0": "Hawkins County Memorial Hospital",
                                    "1": "Rogersville",
                                    "2": "TN",
                                    "3": "Open",
                                    "4": "50",
                                    "5": "16546050.0000",
                                    "6": "-4.00%",
                                    "7": "-14.00%",
                                    "8": "6521158",
                                    "9": "TN",
                                    "10": "Rogersville",
                                    "11": "Hawkins County Memorial Hospital"
                                },
                                {
                                    "0": "Tennova Healthcare-Shelbyville",
                                    "1": "Shelbyville",
                                    "2": "TN",
                                    "3": "Open",
                                    "4": "104",
                                    "5": "37489350.0000",
                                    "6": "-2.90%",
                                    "7": "-19.40%",
                                    "8": "6521195",
                                    "9": "TN",
                                    "10": "Shelbyville",
                                    "11": "Tennova Healthcare-Shelbyville"
                                },
                                {
                                    "0": "Saint Thomas Highlands Hospital",
                                    "1": "Sparta",
                                    "2": "TN",
                                    "3": "Open",
                                    "4": "60",
                                    "5": "21942836.0000",
                                    "6": "-19.00%",
                                    "7": "-13.60%",
                                    "8": "6521207",
                                    "9": "TN",
                                    "10": "Sparta",
                                    "11": "Saint Thomas Highlands Hospital"
                                },
                                {
                                    "0": "Claiborne Medical Center",
                                    "1": "Tazewell",
                                    "2": "TN",
                                    "3": "Open",
                                    "4": "85",
                                    "5": "30558422.0000",
                                    "6": "-10.20%",
                                    "7": "-13.00%",
                                    "8": "6521222",
                                    "9": "TN",
                                    "10": "Tazewell",
                                    "11": "Claiborne Medical Center"
                                },
                                {
                                    "0": "Houston County Community Hospital",
                                    "1": "Erin",
                                    "2": "TN",
                                    "3": "Open",
                                    "4": "25",
                                    "5": "7842867.0000",
                                    "6": "-7.50%",
                                    "7": "-10.80%",
                                    "8": "6529061",
                                    "9": "TN",
                                    "10": "Erin",
                                    "11": "Houston County Community Hospital"
                                },
                                {
                                    "0": "Baptist Memorial Hospital - Carroll County",
                                    "1": "Huntingdon",
                                    "2": "TN",
                                    "3": "Open",
                                    "4": "70",
                                    "5": "22663342.0000",
                                    "6": "-20.70%",
                                    "7": "-21.20%",
                                    "8": "6529075",
                                    "9": "TN",
                                    "10": "Huntingdon",
                                    "11": "Baptist Memorial Hospital-Carroll County"
                                },
                                {
                                    "0": "Saint Thomas Dekalb Hospital",
                                    "1": "Smithville",
                                    "2": "TN",
                                    "3": "Open",
                                    "4": "71",
                                    "5": "13432145.0000",
                                    "6": "-29.80%",
                                    "7": "-26.40%",
                                    "8": "6529160",
                                    "9": "TN",
                                    "10": "Smithville",
                                    "11": "Saint Thomas DeKalb Hospital"
                                },
                                {
                                    "0": "Big South Fork Medical Center",
                                    "1": "Oneida",
                                    "2": "TN",
                                    "3": "Open",
                                    "4": "25",
                                    "5": "9045435.0000",
                                    "6": "-33.90%",
                                    "7": "-32.90%",
                                    "8": "6529209",
                                    "9": "TN",
                                    "10": "Oneida",
                                    "11": "Big South Fork Medical Center"
                                },
                                {
                                    "0": "North Baldwin Infirmary",
                                    "1": "Bay Minette",
                                    "2": "AL",
                                    "3": "Open",
                                    "4": "78",
                                    "5": "40244529.0000",
                                    "6": "-8.30%",
                                    "7": "-14.20%",
                                    "8": "6530116",
                                    "9": "AL",
                                    "10": "Bay Minette",
                                    "11": "North Baldwin Infirmary"
                                },
                                {
                                    "0": "Crenshaw Community Hospital",
                                    "1": "Luverne",
                                    "2": "AL",
                                    "3": "Open",
                                    "4": "65",
                                    "5": "12510622.0000",
                                    "6": "-16.60%",
                                    "7": "-11.70%",
                                    "8": "6530210",
                                    "9": "AL",
                                    "10": "Luverne",
                                    "11": "Beacon Children's Hospital"
                                },
                                {
                                    "0": "Floyd Cherokee Medical Center",
                                    "1": "Centre",
                                    "2": "AL",
                                    "3": "Open",
                                    "4": "60",
                                    "5": "12372049.0000",
                                    "6": "-19.50%",
                                    "7": "-22.50%",
                                    "8": "6530313",
                                    "9": "AL",
                                    "10": "Centre",
                                    "11": "Floyd Cherokee Medical Center"
                                },
                                {
                                    "0": "Whitfield Regional Hospital",
                                    "1": "Demopolis",
                                    "2": "AL",
                                    "3": "Open",
                                    "4": "99",
                                    "5": "28402773.0000",
                                    "6": "-10.90%",
                                    "7": "-11.90%",
                                    "8": "6530345",
                                    "9": "AL",
                                    "10": "Demopolis",
                                    "11": "Bryan W. Whitfield Memorial Hospital"
                                },
                                {
                                    "0": "St Vincent's Chilton",
                                    "1": "Clanton",
                                    "2": "AL",
                                    "3": "Open",
                                    "4": "30",
                                    "5": "23482944.0000",
                                    "6": "-24.00%",
                                    "7": "-11.60%",
                                    "8": "6530431",
                                    "9": "AL",
                                    "10": "Clanton",
                                    "11": "St. Vincent's Chilton Hospital"
                                },
                                {
                                    "0": "Marion Regional Medical Center",
                                    "1": "Hamilton",
                                    "2": "AL",
                                    "3": "Open",
                                    "4": "57",
                                    "5": "20759633.0000",
                                    "6": "-17.30%",
                                    "7": "-12.80%",
                                    "8": "6530516",
                                    "9": "AL",
                                    "10": "Hamilton",
                                    "11": "North Mississippi Medical Center-Hamilton"
                                },
                                {
                                    "0": "Jackson Medical Center",
                                    "1": "Jackson",
                                    "2": "AL",
                                    "3": "Open",
                                    "4": "35",
                                    "5": "14102912.0000",
                                    "6": "-2.30%",
                                    "7": "-10.30%",
                                    "8": "6530530",
                                    "9": "AL",
                                    "10": "Jackson",
                                    "11": "Jackson Medical Center"
                                },
                                {
                                    "0": "Crenshaw Community Hospital",
                                    "1": "Luverne",
                                    "2": "AL",
                                    "3": "Open",
                                    "4": "65",
                                    "5": "12510622.0000",
                                    "6": "-16.60%",
                                    "7": "-11.70%",
                                    "8": "6530585",
                                    "9": "AL",
                                    "10": "Luverne",
                                    "11": "Crenshaw Community Hospital"
                                },
                                {
                                    "0": "Citizens Baptist Medical Center",
                                    "1": "Talladega",
                                    "2": "AL",
                                    "3": "Open",
                                    "4": "122",
                                    "5": "32585237.0000",
                                    "6": "-16.90%",
                                    "7": "-10.00%",
                                    "8": "6530910",
                                    "9": "AL",
                                    "10": "Talladega",
                                    "11": "Citizens Baptist Medical Center"
                                },
                                {
                                    "0": "Northwest Medical Center",
                                    "1": "Winfield",
                                    "2": "AL",
                                    "3": "Open",
                                    "4": "71",
                                    "5": "25210308.0000",
                                    "6": "16.10%",
                                    "7": "-14.30%",
                                    "8": "6531027",
                                    "9": "AL",
                                    "10": "Winfield",
                                    "11": "Northwest Medical Center"
                                },
                                {
                                    "0": "Lakeland Community Hospital",
                                    "1": "Haleyville",
                                    "2": "AL",
                                    "3": "Open",
                                    "4": "49",
                                    "5": "17346114.0000",
                                    "6": "-7.80%",
                                    "7": "-12.70%",
                                    "8": "6534001",
                                    "9": "AL",
                                    "10": "Haleyville",
                                    "11": "Lakeland Community Hospital"
                                },
                                {
                                    "0": "Lawrence Medical Center",
                                    "1": "Moulton",
                                    "2": "AL",
                                    "3": "Open",
                                    "4": "98",
                                    "5": "13037854.0000",
                                    "6": "-8.00%",
                                    "7": "-8.50%",
                                    "8": "6539110",
                                    "9": "AL",
                                    "10": "Moulton",
                                    "11": "Lawrence Medical Center"
                                },
                                {
                                    "0": "Tanner Medical Center-East Alabama",
                                    "1": "Wedowee",
                                    "2": "AL",
                                    "3": "Open",
                                    "4": "15",
                                    "5": "13693653.0000",
                                    "6": "-46.30%",
                                    "7": "-24.40%",
                                    "8": "6539160",
                                    "9": "AL",
                                    "10": "Wedowee",
                                    "11": "Tanner Medical Center/East Alabama"
                                },
                                {
                                    "0": "Monroe Regional Hospital",
                                    "1": "Aberdeen",
                                    "2": "MS",
                                    "3": "Open",
                                    "4": "33",
                                    "5": "28195025.0000",
                                    "6": "-26.20%",
                                    "7": "-11.90%",
                                    "8": "6540010",
                                    "9": "MS",
                                    "10": "Aberdeen",
                                    "11": "Monroe Regional Hospital"
                                },
                                {
                                    "0": "Bmh-Calhoun",
                                    "1": "Calhoun City",
                                    "2": "MS",
                                    "3": "Open",
                                    "4": "30",
                                    "5": "19501793.0000",
                                    "6": "-6.40%",
                                    "7": "-10.20%",
                                    "8": "6540116",
                                    "9": "MS",
                                    "10": "Calhoun City",
                                    "11": "Baptist Memorial Hospital - Calhoun"
                                },
                                {
                                    "0": "Baptist Medical Center-Leake",
                                    "1": "Carthage",
                                    "2": "MS",
                                    "3": "Open",
                                    "4": "25",
                                    "5": "20869601.0000",
                                    "6": "-16.20%",
                                    "7": "-9.50%",
                                    "8": "6540123",
                                    "9": "MS",
                                    "10": "Carthage",
                                    "11": "Baptist Medical Center Leake"
                                },
                                {
                                    "0": "Marion General Hospital",
                                    "1": "Columbia",
                                    "2": "MS",
                                    "3": "Open",
                                    "4": "79",
                                    "5": "16248540.0000",
                                    "6": "-19.00%",
                                    "7": "-19.70%",
                                    "8": "6540170",
                                    "9": "MS",
                                    "10": "Columbia",
                                    "11": "Marion General Hospital"
                                },
                                {
                                    "0": "Greenwood Leflore Hospital",
                                    "1": "Greenwood",
                                    "2": "MS",
                                    "3": "Open",
                                    "4": "244",
                                    "5": "116094344.0000",
                                    "6": "5.40%",
                                    "7": "-10.50%",
                                    "8": "6540280",
                                    "9": "MS",
                                    "10": "Greenwood",
                                    "11": "Greenwood Leflore Hospital"
                                },
                                {
                                    "0": "Tishomingo Health Services Inc",
                                    "1": "Iuka",
                                    "2": "MS",
                                    "3": "Open",
                                    "4": "48",
                                    "5": "15110486.0000",
                                    "6": "-16.90%",
                                    "7": "-13.60%",
                                    "8": "6540359",
                                    "9": "MS",
                                    "10": "Iuka",
                                    "11": "North Mississippi Medical Center-Iuka"
                                },
                                {
                                    "0": "Holmes County Hospital And Clinics",
                                    "1": "Lexington",
                                    "2": "MS",
                                    "3": "Open",
                                    "4": "25",
                                    "5": "13550282.0000",
                                    "6": "-27.40%",
                                    "7": "-12.80%",
                                    "8": "6540450",
                                    "9": "MS",
                                    "10": "Lexington",
                                    "11": "University of Mississippi Medical Center Holmes County"
                                },
                                {
                                    "0": "Winston Medical Center & Swingbed",
                                    "1": "Louisville",
                                    "2": "MS",
                                    "3": "Open",
                                    "4": "41",
                                    "5": "28190972.0000",
                                    "6": "-16.30%",
                                    "7": "-9.10%",
                                    "8": "6540455",
                                    "9": "MS",
                                    "10": "Louisville",
                                    "11": "Winston Medical Center"
                                },
                                {
                                    "0": "Highland Community  Hospital",
                                    "1": "Picayune",
                                    "2": "MS",
                                    "3": "Open",
                                    "4": "60",
                                    "5": "47519183.0000",
                                    "6": "-20.40%",
                                    "7": "-28.30%",
                                    "8": "6540730",
                                    "9": "MS",
                                    "10": "Picayune",
                                    "11": "Highland Community Hospital"
                                },
                                {
                                    "0": "Jefferson Davis Community Hospital Cah",
                                    "1": "Prentiss",
                                    "2": "MS",
                                    "3": "Open",
                                    "4": "29",
                                    "5": "14157799.0000",
                                    "6": "-15.50%",
                                    "7": "-15.50%",
                                    "8": "6540752",
                                    "9": "MS",
                                    "10": "Prentiss",
                                    "11": "Jefferson Davis Community Hospital"
                                },
                                {
                                    "0": "Baptist Medical Center-Yazoo",
                                    "1": "Yazoo City",
                                    "2": "MS",
                                    "3": "Open",
                                    "4": "35",
                                    "5": "17474180.0000",
                                    "6": "-22.90%",
                                    "7": "-19.20%",
                                    "8": "6540930",
                                    "9": "MS",
                                    "10": "Yazoo City",
                                    "11": "Baptist Medical Center Yazoo"
                                },
                                {
                                    "0": "Jefferson County Hospital",
                                    "1": "Fayette",
                                    "2": "MS",
                                    "3": "Open",
                                    "4": "48",
                                    "5": "9603314.0000",
                                    "6": "-4.90%",
                                    "7": "-17.30%",
                                    "8": "6549030",
                                    "9": "MS",
                                    "10": "Fayette",
                                    "11": "Jefferson County Hospital"
                                },
                                {
                                    "0": "Webster General Hospital/ Swing Bed",
                                    "1": "Eupora",
                                    "2": "MS",
                                    "3": "Open",
                                    "4": "43",
                                    "5": "23958871.0000",
                                    "6": "-6.90%",
                                    "7": "-8.20%",
                                    "8": "6549040",
                                    "9": "MS",
                                    "10": "Eupora",
                                    "11": "North Mississippi Medical Center-Eupora"
                                },
                                {
                                    "0": "J Paul Jones Hospital",
                                    "1": "Camden",
                                    "2": "AL",
                                    "3": "Open",
                                    "4": "30",
                                    "5": "4921564.0000",
                                    "6": "-34.00%",
                                    "7": "-13.80%",
                                    "8": "NULL",
                                    "9": "NULL",
                                    "10": "NULL",
                                    "11": "NULL"
                                },
                                {
                                    "0": "Lauderdale Community Hospital",
                                    "1": "Ripley",
                                    "2": "TN",
                                    "3": "Open",
                                    "4": "25",
                                    "5": "11543455.0000",
                                    "6": "-9.50%",
                                    "7": "-9.20%",
                                    "8": "NULL",
                                    "9": "NULL",
                                    "10": "NULL",
                                    "11": "NULL"
                                }
                            ]
                        },
                        "text/html": [
                            "<table>",
                            "<tr><th>Hospital</th><th>City</th><th>State</th><th>Closed_Open</th><th>Inpatient_Beds</th><th>Total_Expenses</th><th>Patient_Services_Margin</th><th>Total_Margin</th><th>ID</th><th>MSTATE</th><th>MLOCCITY</th><th>MNAME</th></tr>",
                            "<tr><td>Memorial Hospital And Manor</td><td>Bainbridge</td><td>GA</td><td>Open</td><td>80</td><td>47252395.0000</td><td>-15.60%</td><td>-18.10%</td><td>6380298</td><td>GA</td><td>Bainbridge</td><td>Memorial Hospital and Manor</td></tr>",
                            "<tr><td>Mountain Lakes Medical Center</td><td>Clayton</td><td>GA</td><td>Open</td><td>25</td><td>15066945.0000</td><td>-15.90%</td><td>-11.60%</td><td>6380425</td><td>GA</td><td>Clayton</td><td>Mountain Lakes Medical Center</td></tr>",
                            "<tr><td>Navicent Health Baldwin</td><td>Milledgeville</td><td>GA</td><td>Open</td><td>140</td><td>55802495.0000</td><td>-11.00%</td><td>-9.60%</td><td>6380805</td><td>GA</td><td>Milledgeville</td><td>Navicent Health Baldwin</td></tr>",
                            "<tr><td>Navicent Health Baldwin</td><td>Milledgeville</td><td>GA</td><td>Open</td><td>140</td><td>55802495.0000</td><td>-11.00%</td><td>-9.60%</td><td>6380810</td><td>GA</td><td>Milledgeville</td><td>Central State Hospital</td></tr>",
                            "<tr><td>Jenkins County Medical Center</td><td>Millen</td><td>GA</td><td>Open</td><td>25</td><td>6115617.0000</td><td>-15.50%</td><td>-9.30%</td><td>6380850</td><td>GA</td><td>Millen</td><td>Jenkins County Medical Center</td></tr>",
                            "<tr><td>Sgmc Berrien Campus</td><td>Nashville</td><td>GA</td><td>Open</td><td>63</td><td>9212512.0000</td><td>-29.50%</td><td>-17.80%</td><td>6380901</td><td>GA</td><td>Nashville</td><td>South Georgia Medical Center Berrien Campus</td></tr>",
                            "<tr><td>St Mary's Sacred Heart Hospital, Inc</td><td>Lavonia</td><td>GA</td><td>Open</td><td>56</td><td>35329289.0000</td><td>-1.80%</td><td>-11.00%</td><td>6389226</td><td>GA</td><td>Lavonia</td><td>St. Mary's Sacred Heart Hospital</td></tr>",
                            "<tr><td>Saint Thomas River Park Hospital</td><td>Mc Minnville</td><td>TN</td><td>Open</td><td>152</td><td>46321651.0000</td><td>-9.60%</td><td>-8.20%</td><td>6520005</td><td>TN</td><td>Mc Minnville</td><td>Saint Thomas River Park Hospital</td></tr>",
                            "<tr><td>Bolivar General Hospital</td><td>Bolivar</td><td>TN</td><td>Open</td><td>25</td><td>7231050.0000</td><td>-11.40%</td><td>-11.20%</td><td>6520030</td><td>TN</td><td>Bolivar</td><td>Western Mental Health Institute</td></tr>",
                            "<tr><td>Bolivar General Hospital</td><td>Bolivar</td><td>TN</td><td>Open</td><td>25</td><td>7231050.0000</td><td>-11.40%</td><td>-11.20%</td><td>6520035</td><td>TN</td><td>Bolivar</td><td>West Tennessee Healthcare Bolivar Hospital</td></tr>",
                            "<tr><td>Unicoi County  Hospital</td><td>Erwin</td><td>TN</td><td>Open</td><td>48</td><td>12067671.0000</td><td>-22.50%</td><td>-24.00%</td><td>6520270</td><td>TN</td><td>Erwin</td><td>Unicoi County Memorial Hospital</td></tr>",
                            "<tr><td>Jellico Medical Center, Inc</td><td>Jellico</td><td>TN</td><td>Open</td><td>54</td><td>19123076.0000</td><td>-12.10%</td><td>-13.20%</td><td>6520445</td><td>TN</td><td>Jellico</td><td>Jellico Community Hospital</td></tr>",
                            "<tr><td>Henderson County Community Hospital</td><td>Lexington</td><td>TN</td><td>Open</td><td>45</td><td>15284911.0000</td><td>-10.30%</td><td>-16.60%</td><td>6520647</td><td>TN</td><td>Lexington</td><td>Henderson County Community Hospital</td></tr>",
                            "<tr><td>Newport Medical Center</td><td>Newport</td><td>TN</td><td>Open</td><td>74</td><td>36399195.0000</td><td>-2.00%</td><td>-8.10%</td><td>6521072</td><td>TN</td><td>Newport</td><td>Tennova Newport Medical Center</td></tr>",
                            "<tr><td>Hawkins County Memorial Hospital</td><td>Rogersville</td><td>TN</td><td>Open</td><td>50</td><td>16546050.0000</td><td>-4.00%</td><td>-14.00%</td><td>6521158</td><td>TN</td><td>Rogersville</td><td>Hawkins County Memorial Hospital</td></tr>",
                            "<tr><td>Tennova Healthcare-Shelbyville</td><td>Shelbyville</td><td>TN</td><td>Open</td><td>104</td><td>37489350.0000</td><td>-2.90%</td><td>-19.40%</td><td>6521195</td><td>TN</td><td>Shelbyville</td><td>Tennova Healthcare-Shelbyville</td></tr>",
                            "<tr><td>Saint Thomas Highlands Hospital</td><td>Sparta</td><td>TN</td><td>Open</td><td>60</td><td>21942836.0000</td><td>-19.00%</td><td>-13.60%</td><td>6521207</td><td>TN</td><td>Sparta</td><td>Saint Thomas Highlands Hospital</td></tr>",
                            "<tr><td>Claiborne Medical Center</td><td>Tazewell</td><td>TN</td><td>Open</td><td>85</td><td>30558422.0000</td><td>-10.20%</td><td>-13.00%</td><td>6521222</td><td>TN</td><td>Tazewell</td><td>Claiborne Medical Center</td></tr>",
                            "<tr><td>Houston County Community Hospital</td><td>Erin</td><td>TN</td><td>Open</td><td>25</td><td>7842867.0000</td><td>-7.50%</td><td>-10.80%</td><td>6529061</td><td>TN</td><td>Erin</td><td>Houston County Community Hospital</td></tr>",
                            "<tr><td>Baptist Memorial Hospital - Carroll County</td><td>Huntingdon</td><td>TN</td><td>Open</td><td>70</td><td>22663342.0000</td><td>-20.70%</td><td>-21.20%</td><td>6529075</td><td>TN</td><td>Huntingdon</td><td>Baptist Memorial Hospital-Carroll County</td></tr>",
                            "<tr><td>Saint Thomas Dekalb Hospital</td><td>Smithville</td><td>TN</td><td>Open</td><td>71</td><td>13432145.0000</td><td>-29.80%</td><td>-26.40%</td><td>6529160</td><td>TN</td><td>Smithville</td><td>Saint Thomas DeKalb Hospital</td></tr>",
                            "<tr><td>Big South Fork Medical Center</td><td>Oneida</td><td>TN</td><td>Open</td><td>25</td><td>9045435.0000</td><td>-33.90%</td><td>-32.90%</td><td>6529209</td><td>TN</td><td>Oneida</td><td>Big South Fork Medical Center</td></tr>",
                            "<tr><td>North Baldwin Infirmary</td><td>Bay Minette</td><td>AL</td><td>Open</td><td>78</td><td>40244529.0000</td><td>-8.30%</td><td>-14.20%</td><td>6530116</td><td>AL</td><td>Bay Minette</td><td>North Baldwin Infirmary</td></tr>",
                            "<tr><td>Crenshaw Community Hospital</td><td>Luverne</td><td>AL</td><td>Open</td><td>65</td><td>12510622.0000</td><td>-16.60%</td><td>-11.70%</td><td>6530210</td><td>AL</td><td>Luverne</td><td>Beacon Children's Hospital</td></tr>",
                            "<tr><td>Floyd Cherokee Medical Center</td><td>Centre</td><td>AL</td><td>Open</td><td>60</td><td>12372049.0000</td><td>-19.50%</td><td>-22.50%</td><td>6530313</td><td>AL</td><td>Centre</td><td>Floyd Cherokee Medical Center</td></tr>",
                            "<tr><td>Whitfield Regional Hospital</td><td>Demopolis</td><td>AL</td><td>Open</td><td>99</td><td>28402773.0000</td><td>-10.90%</td><td>-11.90%</td><td>6530345</td><td>AL</td><td>Demopolis</td><td>Bryan W. Whitfield Memorial Hospital</td></tr>",
                            "<tr><td>St Vincent's Chilton</td><td>Clanton</td><td>AL</td><td>Open</td><td>30</td><td>23482944.0000</td><td>-24.00%</td><td>-11.60%</td><td>6530431</td><td>AL</td><td>Clanton</td><td>St. Vincent's Chilton Hospital</td></tr>",
                            "<tr><td>Marion Regional Medical Center</td><td>Hamilton</td><td>AL</td><td>Open</td><td>57</td><td>20759633.0000</td><td>-17.30%</td><td>-12.80%</td><td>6530516</td><td>AL</td><td>Hamilton</td><td>North Mississippi Medical Center-Hamilton</td></tr>",
                            "<tr><td>Jackson Medical Center</td><td>Jackson</td><td>AL</td><td>Open</td><td>35</td><td>14102912.0000</td><td>-2.30%</td><td>-10.30%</td><td>6530530</td><td>AL</td><td>Jackson</td><td>Jackson Medical Center</td></tr>",
                            "<tr><td>Crenshaw Community Hospital</td><td>Luverne</td><td>AL</td><td>Open</td><td>65</td><td>12510622.0000</td><td>-16.60%</td><td>-11.70%</td><td>6530585</td><td>AL</td><td>Luverne</td><td>Crenshaw Community Hospital</td></tr>",
                            "<tr><td>Citizens Baptist Medical Center</td><td>Talladega</td><td>AL</td><td>Open</td><td>122</td><td>32585237.0000</td><td>-16.90%</td><td>-10.00%</td><td>6530910</td><td>AL</td><td>Talladega</td><td>Citizens Baptist Medical Center</td></tr>",
                            "<tr><td>Northwest Medical Center</td><td>Winfield</td><td>AL</td><td>Open</td><td>71</td><td>25210308.0000</td><td>16.10%</td><td>-14.30%</td><td>6531027</td><td>AL</td><td>Winfield</td><td>Northwest Medical Center</td></tr>",
                            "<tr><td>Lakeland Community Hospital</td><td>Haleyville</td><td>AL</td><td>Open</td><td>49</td><td>17346114.0000</td><td>-7.80%</td><td>-12.70%</td><td>6534001</td><td>AL</td><td>Haleyville</td><td>Lakeland Community Hospital</td></tr>",
                            "<tr><td>Lawrence Medical Center</td><td>Moulton</td><td>AL</td><td>Open</td><td>98</td><td>13037854.0000</td><td>-8.00%</td><td>-8.50%</td><td>6539110</td><td>AL</td><td>Moulton</td><td>Lawrence Medical Center</td></tr>",
                            "<tr><td>Tanner Medical Center-East Alabama</td><td>Wedowee</td><td>AL</td><td>Open</td><td>15</td><td>13693653.0000</td><td>-46.30%</td><td>-24.40%</td><td>6539160</td><td>AL</td><td>Wedowee</td><td>Tanner Medical Center/East Alabama</td></tr>",
                            "<tr><td>Monroe Regional Hospital</td><td>Aberdeen</td><td>MS</td><td>Open</td><td>33</td><td>28195025.0000</td><td>-26.20%</td><td>-11.90%</td><td>6540010</td><td>MS</td><td>Aberdeen</td><td>Monroe Regional Hospital</td></tr>",
                            "<tr><td>Bmh-Calhoun</td><td>Calhoun City</td><td>MS</td><td>Open</td><td>30</td><td>19501793.0000</td><td>-6.40%</td><td>-10.20%</td><td>6540116</td><td>MS</td><td>Calhoun City</td><td>Baptist Memorial Hospital - Calhoun</td></tr>",
                            "<tr><td>Baptist Medical Center-Leake</td><td>Carthage</td><td>MS</td><td>Open</td><td>25</td><td>20869601.0000</td><td>-16.20%</td><td>-9.50%</td><td>6540123</td><td>MS</td><td>Carthage</td><td>Baptist Medical Center Leake</td></tr>",
                            "<tr><td>Marion General Hospital</td><td>Columbia</td><td>MS</td><td>Open</td><td>79</td><td>16248540.0000</td><td>-19.00%</td><td>-19.70%</td><td>6540170</td><td>MS</td><td>Columbia</td><td>Marion General Hospital</td></tr>",
                            "<tr><td>Greenwood Leflore Hospital</td><td>Greenwood</td><td>MS</td><td>Open</td><td>244</td><td>116094344.0000</td><td>5.40%</td><td>-10.50%</td><td>6540280</td><td>MS</td><td>Greenwood</td><td>Greenwood Leflore Hospital</td></tr>",
                            "<tr><td>Tishomingo Health Services Inc</td><td>Iuka</td><td>MS</td><td>Open</td><td>48</td><td>15110486.0000</td><td>-16.90%</td><td>-13.60%</td><td>6540359</td><td>MS</td><td>Iuka</td><td>North Mississippi Medical Center-Iuka</td></tr>",
                            "<tr><td>Holmes County Hospital And Clinics</td><td>Lexington</td><td>MS</td><td>Open</td><td>25</td><td>13550282.0000</td><td>-27.40%</td><td>-12.80%</td><td>6540450</td><td>MS</td><td>Lexington</td><td>University of Mississippi Medical Center Holmes County</td></tr>",
                            "<tr><td>Winston Medical Center &amp; Swingbed</td><td>Louisville</td><td>MS</td><td>Open</td><td>41</td><td>28190972.0000</td><td>-16.30%</td><td>-9.10%</td><td>6540455</td><td>MS</td><td>Louisville</td><td>Winston Medical Center</td></tr>",
                            "<tr><td>Highland Community  Hospital</td><td>Picayune</td><td>MS</td><td>Open</td><td>60</td><td>47519183.0000</td><td>-20.40%</td><td>-28.30%</td><td>6540730</td><td>MS</td><td>Picayune</td><td>Highland Community Hospital</td></tr>",
                            "<tr><td>Jefferson Davis Community Hospital Cah</td><td>Prentiss</td><td>MS</td><td>Open</td><td>29</td><td>14157799.0000</td><td>-15.50%</td><td>-15.50%</td><td>6540752</td><td>MS</td><td>Prentiss</td><td>Jefferson Davis Community Hospital</td></tr>",
                            "<tr><td>Baptist Medical Center-Yazoo</td><td>Yazoo City</td><td>MS</td><td>Open</td><td>35</td><td>17474180.0000</td><td>-22.90%</td><td>-19.20%</td><td>6540930</td><td>MS</td><td>Yazoo City</td><td>Baptist Medical Center Yazoo</td></tr>",
                            "<tr><td>Jefferson County Hospital</td><td>Fayette</td><td>MS</td><td>Open</td><td>48</td><td>9603314.0000</td><td>-4.90%</td><td>-17.30%</td><td>6549030</td><td>MS</td><td>Fayette</td><td>Jefferson County Hospital</td></tr>",
                            "<tr><td>Webster General Hospital/ Swing Bed</td><td>Eupora</td><td>MS</td><td>Open</td><td>43</td><td>23958871.0000</td><td>-6.90%</td><td>-8.20%</td><td>6549040</td><td>MS</td><td>Eupora</td><td>North Mississippi Medical Center-Eupora</td></tr>",
                            "<tr><td>J Paul Jones Hospital</td><td>Camden</td><td>AL</td><td>Open</td><td>30</td><td>4921564.0000</td><td>-34.00%</td><td>-13.80%</td><td>NULL</td><td>NULL</td><td>NULL</td><td>NULL</td></tr>",
                            "<tr><td>Lauderdale Community Hospital</td><td>Ripley</td><td>TN</td><td>Open</td><td>25</td><td>11543455.0000</td><td>-9.50%</td><td>-9.20%</td><td>NULL</td><td>NULL</td><td>NULL</td><td>NULL</td></tr>",
                            "</table>"
                        ]
                    }
                }
            ],
            "execution_count": 1
        },
        {
            "cell_type": "code",
            "source": [
                "\r\n",
                "--Step 2: Eyeball non-duplicate rows (in [Hospital] column) to make sure the matches\r\n",
                "--are reasonable, given that there are only 47 rows to look at\r\n",
                "select *\r\n",
                "into #Step2\r\n",
                "from #step1\r\n",
                "where Hospital in\r\n",
                "(\r\n",
                "select Hospital\r\n",
                "from\r\n",
                "(\r\n",
                "Select Hospital, count(Hospital) as rowz\r\n",
                " From #step1\r\n",
                " Group by Hospital\r\n",
                " )A\r\n",
                "Where  rowz=1\r\n",
                " )\r\n",
                "and MNAME is not null;\r\n",
                "--got two null rows. I'm thinking this is because the two databases has the hospitals in different cities\r\n",
                "\r\n",
                "select *\r\n",
                "from #Step2\r\n",
                ""
            ],
            "metadata": {
                "azdata_cell_guid": "b915def6-8ecf-4aa8-be92-eb935fe28c49"
            },
            "outputs": [
                {
                    "output_type": "display_data",
                    "data": {
                        "text/html": "(42 rows affected)"
                    },
                    "metadata": {}
                },
                {
                    "output_type": "display_data",
                    "data": {
                        "text/html": "(42 rows affected)"
                    },
                    "metadata": {}
                },
                {
                    "output_type": "display_data",
                    "data": {
                        "text/html": "Total execution time: 00:00:00.060"
                    },
                    "metadata": {}
                },
                {
                    "output_type": "execute_result",
                    "metadata": {},
                    "execution_count": 2,
                    "data": {
                        "application/vnd.dataresource+json": {
                            "schema": {
                                "fields": [
                                    {
                                        "name": "Hospital"
                                    },
                                    {
                                        "name": "City"
                                    },
                                    {
                                        "name": "State"
                                    },
                                    {
                                        "name": "Closed_Open"
                                    },
                                    {
                                        "name": "Inpatient_Beds"
                                    },
                                    {
                                        "name": "Total_Expenses"
                                    },
                                    {
                                        "name": "Patient_Services_Margin"
                                    },
                                    {
                                        "name": "Total_Margin"
                                    },
                                    {
                                        "name": "ID"
                                    },
                                    {
                                        "name": "MSTATE"
                                    },
                                    {
                                        "name": "MLOCCITY"
                                    },
                                    {
                                        "name": "MNAME"
                                    }
                                ]
                            },
                            "data": [
                                {
                                    "0": "Memorial Hospital And Manor",
                                    "1": "Bainbridge",
                                    "2": "GA",
                                    "3": "Open",
                                    "4": "80",
                                    "5": "47252395.0000",
                                    "6": "-15.60%",
                                    "7": "-18.10%",
                                    "8": "6380298",
                                    "9": "GA",
                                    "10": "Bainbridge",
                                    "11": "Memorial Hospital and Manor"
                                },
                                {
                                    "0": "Mountain Lakes Medical Center",
                                    "1": "Clayton",
                                    "2": "GA",
                                    "3": "Open",
                                    "4": "25",
                                    "5": "15066945.0000",
                                    "6": "-15.90%",
                                    "7": "-11.60%",
                                    "8": "6380425",
                                    "9": "GA",
                                    "10": "Clayton",
                                    "11": "Mountain Lakes Medical Center"
                                },
                                {
                                    "0": "Jenkins County Medical Center",
                                    "1": "Millen",
                                    "2": "GA",
                                    "3": "Open",
                                    "4": "25",
                                    "5": "6115617.0000",
                                    "6": "-15.50%",
                                    "7": "-9.30%",
                                    "8": "6380850",
                                    "9": "GA",
                                    "10": "Millen",
                                    "11": "Jenkins County Medical Center"
                                },
                                {
                                    "0": "Sgmc Berrien Campus",
                                    "1": "Nashville",
                                    "2": "GA",
                                    "3": "Open",
                                    "4": "63",
                                    "5": "9212512.0000",
                                    "6": "-29.50%",
                                    "7": "-17.80%",
                                    "8": "6380901",
                                    "9": "GA",
                                    "10": "Nashville",
                                    "11": "South Georgia Medical Center Berrien Campus"
                                },
                                {
                                    "0": "St Mary's Sacred Heart Hospital, Inc",
                                    "1": "Lavonia",
                                    "2": "GA",
                                    "3": "Open",
                                    "4": "56",
                                    "5": "35329289.0000",
                                    "6": "-1.80%",
                                    "7": "-11.00%",
                                    "8": "6389226",
                                    "9": "GA",
                                    "10": "Lavonia",
                                    "11": "St. Mary's Sacred Heart Hospital"
                                },
                                {
                                    "0": "Saint Thomas River Park Hospital",
                                    "1": "Mc Minnville",
                                    "2": "TN",
                                    "3": "Open",
                                    "4": "152",
                                    "5": "46321651.0000",
                                    "6": "-9.60%",
                                    "7": "-8.20%",
                                    "8": "6520005",
                                    "9": "TN",
                                    "10": "Mc Minnville",
                                    "11": "Saint Thomas River Park Hospital"
                                },
                                {
                                    "0": "Unicoi County  Hospital",
                                    "1": "Erwin",
                                    "2": "TN",
                                    "3": "Open",
                                    "4": "48",
                                    "5": "12067671.0000",
                                    "6": "-22.50%",
                                    "7": "-24.00%",
                                    "8": "6520270",
                                    "9": "TN",
                                    "10": "Erwin",
                                    "11": "Unicoi County Memorial Hospital"
                                },
                                {
                                    "0": "Jellico Medical Center, Inc",
                                    "1": "Jellico",
                                    "2": "TN",
                                    "3": "Open",
                                    "4": "54",
                                    "5": "19123076.0000",
                                    "6": "-12.10%",
                                    "7": "-13.20%",
                                    "8": "6520445",
                                    "9": "TN",
                                    "10": "Jellico",
                                    "11": "Jellico Community Hospital"
                                },
                                {
                                    "0": "Henderson County Community Hospital",
                                    "1": "Lexington",
                                    "2": "TN",
                                    "3": "Open",
                                    "4": "45",
                                    "5": "15284911.0000",
                                    "6": "-10.30%",
                                    "7": "-16.60%",
                                    "8": "6520647",
                                    "9": "TN",
                                    "10": "Lexington",
                                    "11": "Henderson County Community Hospital"
                                },
                                {
                                    "0": "Newport Medical Center",
                                    "1": "Newport",
                                    "2": "TN",
                                    "3": "Open",
                                    "4": "74",
                                    "5": "36399195.0000",
                                    "6": "-2.00%",
                                    "7": "-8.10%",
                                    "8": "6521072",
                                    "9": "TN",
                                    "10": "Newport",
                                    "11": "Tennova Newport Medical Center"
                                },
                                {
                                    "0": "Hawkins County Memorial Hospital",
                                    "1": "Rogersville",
                                    "2": "TN",
                                    "3": "Open",
                                    "4": "50",
                                    "5": "16546050.0000",
                                    "6": "-4.00%",
                                    "7": "-14.00%",
                                    "8": "6521158",
                                    "9": "TN",
                                    "10": "Rogersville",
                                    "11": "Hawkins County Memorial Hospital"
                                },
                                {
                                    "0": "Tennova Healthcare-Shelbyville",
                                    "1": "Shelbyville",
                                    "2": "TN",
                                    "3": "Open",
                                    "4": "104",
                                    "5": "37489350.0000",
                                    "6": "-2.90%",
                                    "7": "-19.40%",
                                    "8": "6521195",
                                    "9": "TN",
                                    "10": "Shelbyville",
                                    "11": "Tennova Healthcare-Shelbyville"
                                },
                                {
                                    "0": "Saint Thomas Highlands Hospital",
                                    "1": "Sparta",
                                    "2": "TN",
                                    "3": "Open",
                                    "4": "60",
                                    "5": "21942836.0000",
                                    "6": "-19.00%",
                                    "7": "-13.60%",
                                    "8": "6521207",
                                    "9": "TN",
                                    "10": "Sparta",
                                    "11": "Saint Thomas Highlands Hospital"
                                },
                                {
                                    "0": "Claiborne Medical Center",
                                    "1": "Tazewell",
                                    "2": "TN",
                                    "3": "Open",
                                    "4": "85",
                                    "5": "30558422.0000",
                                    "6": "-10.20%",
                                    "7": "-13.00%",
                                    "8": "6521222",
                                    "9": "TN",
                                    "10": "Tazewell",
                                    "11": "Claiborne Medical Center"
                                },
                                {
                                    "0": "Houston County Community Hospital",
                                    "1": "Erin",
                                    "2": "TN",
                                    "3": "Open",
                                    "4": "25",
                                    "5": "7842867.0000",
                                    "6": "-7.50%",
                                    "7": "-10.80%",
                                    "8": "6529061",
                                    "9": "TN",
                                    "10": "Erin",
                                    "11": "Houston County Community Hospital"
                                },
                                {
                                    "0": "Baptist Memorial Hospital - Carroll County",
                                    "1": "Huntingdon",
                                    "2": "TN",
                                    "3": "Open",
                                    "4": "70",
                                    "5": "22663342.0000",
                                    "6": "-20.70%",
                                    "7": "-21.20%",
                                    "8": "6529075",
                                    "9": "TN",
                                    "10": "Huntingdon",
                                    "11": "Baptist Memorial Hospital-Carroll County"
                                },
                                {
                                    "0": "Saint Thomas Dekalb Hospital",
                                    "1": "Smithville",
                                    "2": "TN",
                                    "3": "Open",
                                    "4": "71",
                                    "5": "13432145.0000",
                                    "6": "-29.80%",
                                    "7": "-26.40%",
                                    "8": "6529160",
                                    "9": "TN",
                                    "10": "Smithville",
                                    "11": "Saint Thomas DeKalb Hospital"
                                },
                                {
                                    "0": "Big South Fork Medical Center",
                                    "1": "Oneida",
                                    "2": "TN",
                                    "3": "Open",
                                    "4": "25",
                                    "5": "9045435.0000",
                                    "6": "-33.90%",
                                    "7": "-32.90%",
                                    "8": "6529209",
                                    "9": "TN",
                                    "10": "Oneida",
                                    "11": "Big South Fork Medical Center"
                                },
                                {
                                    "0": "North Baldwin Infirmary",
                                    "1": "Bay Minette",
                                    "2": "AL",
                                    "3": "Open",
                                    "4": "78",
                                    "5": "40244529.0000",
                                    "6": "-8.30%",
                                    "7": "-14.20%",
                                    "8": "6530116",
                                    "9": "AL",
                                    "10": "Bay Minette",
                                    "11": "North Baldwin Infirmary"
                                },
                                {
                                    "0": "Floyd Cherokee Medical Center",
                                    "1": "Centre",
                                    "2": "AL",
                                    "3": "Open",
                                    "4": "60",
                                    "5": "12372049.0000",
                                    "6": "-19.50%",
                                    "7": "-22.50%",
                                    "8": "6530313",
                                    "9": "AL",
                                    "10": "Centre",
                                    "11": "Floyd Cherokee Medical Center"
                                },
                                {
                                    "0": "Whitfield Regional Hospital",
                                    "1": "Demopolis",
                                    "2": "AL",
                                    "3": "Open",
                                    "4": "99",
                                    "5": "28402773.0000",
                                    "6": "-10.90%",
                                    "7": "-11.90%",
                                    "8": "6530345",
                                    "9": "AL",
                                    "10": "Demopolis",
                                    "11": "Bryan W. Whitfield Memorial Hospital"
                                },
                                {
                                    "0": "St Vincent's Chilton",
                                    "1": "Clanton",
                                    "2": "AL",
                                    "3": "Open",
                                    "4": "30",
                                    "5": "23482944.0000",
                                    "6": "-24.00%",
                                    "7": "-11.60%",
                                    "8": "6530431",
                                    "9": "AL",
                                    "10": "Clanton",
                                    "11": "St. Vincent's Chilton Hospital"
                                },
                                {
                                    "0": "Marion Regional Medical Center",
                                    "1": "Hamilton",
                                    "2": "AL",
                                    "3": "Open",
                                    "4": "57",
                                    "5": "20759633.0000",
                                    "6": "-17.30%",
                                    "7": "-12.80%",
                                    "8": "6530516",
                                    "9": "AL",
                                    "10": "Hamilton",
                                    "11": "North Mississippi Medical Center-Hamilton"
                                },
                                {
                                    "0": "Jackson Medical Center",
                                    "1": "Jackson",
                                    "2": "AL",
                                    "3": "Open",
                                    "4": "35",
                                    "5": "14102912.0000",
                                    "6": "-2.30%",
                                    "7": "-10.30%",
                                    "8": "6530530",
                                    "9": "AL",
                                    "10": "Jackson",
                                    "11": "Jackson Medical Center"
                                },
                                {
                                    "0": "Citizens Baptist Medical Center",
                                    "1": "Talladega",
                                    "2": "AL",
                                    "3": "Open",
                                    "4": "122",
                                    "5": "32585237.0000",
                                    "6": "-16.90%",
                                    "7": "-10.00%",
                                    "8": "6530910",
                                    "9": "AL",
                                    "10": "Talladega",
                                    "11": "Citizens Baptist Medical Center"
                                },
                                {
                                    "0": "Northwest Medical Center",
                                    "1": "Winfield",
                                    "2": "AL",
                                    "3": "Open",
                                    "4": "71",
                                    "5": "25210308.0000",
                                    "6": "16.10%",
                                    "7": "-14.30%",
                                    "8": "6531027",
                                    "9": "AL",
                                    "10": "Winfield",
                                    "11": "Northwest Medical Center"
                                },
                                {
                                    "0": "Lakeland Community Hospital",
                                    "1": "Haleyville",
                                    "2": "AL",
                                    "3": "Open",
                                    "4": "49",
                                    "5": "17346114.0000",
                                    "6": "-7.80%",
                                    "7": "-12.70%",
                                    "8": "6534001",
                                    "9": "AL",
                                    "10": "Haleyville",
                                    "11": "Lakeland Community Hospital"
                                },
                                {
                                    "0": "Lawrence Medical Center",
                                    "1": "Moulton",
                                    "2": "AL",
                                    "3": "Open",
                                    "4": "98",
                                    "5": "13037854.0000",
                                    "6": "-8.00%",
                                    "7": "-8.50%",
                                    "8": "6539110",
                                    "9": "AL",
                                    "10": "Moulton",
                                    "11": "Lawrence Medical Center"
                                },
                                {
                                    "0": "Tanner Medical Center-East Alabama",
                                    "1": "Wedowee",
                                    "2": "AL",
                                    "3": "Open",
                                    "4": "15",
                                    "5": "13693653.0000",
                                    "6": "-46.30%",
                                    "7": "-24.40%",
                                    "8": "6539160",
                                    "9": "AL",
                                    "10": "Wedowee",
                                    "11": "Tanner Medical Center/East Alabama"
                                },
                                {
                                    "0": "Monroe Regional Hospital",
                                    "1": "Aberdeen",
                                    "2": "MS",
                                    "3": "Open",
                                    "4": "33",
                                    "5": "28195025.0000",
                                    "6": "-26.20%",
                                    "7": "-11.90%",
                                    "8": "6540010",
                                    "9": "MS",
                                    "10": "Aberdeen",
                                    "11": "Monroe Regional Hospital"
                                },
                                {
                                    "0": "Bmh-Calhoun",
                                    "1": "Calhoun City",
                                    "2": "MS",
                                    "3": "Open",
                                    "4": "30",
                                    "5": "19501793.0000",
                                    "6": "-6.40%",
                                    "7": "-10.20%",
                                    "8": "6540116",
                                    "9": "MS",
                                    "10": "Calhoun City",
                                    "11": "Baptist Memorial Hospital - Calhoun"
                                },
                                {
                                    "0": "Baptist Medical Center-Leake",
                                    "1": "Carthage",
                                    "2": "MS",
                                    "3": "Open",
                                    "4": "25",
                                    "5": "20869601.0000",
                                    "6": "-16.20%",
                                    "7": "-9.50%",
                                    "8": "6540123",
                                    "9": "MS",
                                    "10": "Carthage",
                                    "11": "Baptist Medical Center Leake"
                                },
                                {
                                    "0": "Marion General Hospital",
                                    "1": "Columbia",
                                    "2": "MS",
                                    "3": "Open",
                                    "4": "79",
                                    "5": "16248540.0000",
                                    "6": "-19.00%",
                                    "7": "-19.70%",
                                    "8": "6540170",
                                    "9": "MS",
                                    "10": "Columbia",
                                    "11": "Marion General Hospital"
                                },
                                {
                                    "0": "Greenwood Leflore Hospital",
                                    "1": "Greenwood",
                                    "2": "MS",
                                    "3": "Open",
                                    "4": "244",
                                    "5": "116094344.0000",
                                    "6": "5.40%",
                                    "7": "-10.50%",
                                    "8": "6540280",
                                    "9": "MS",
                                    "10": "Greenwood",
                                    "11": "Greenwood Leflore Hospital"
                                },
                                {
                                    "0": "Tishomingo Health Services Inc",
                                    "1": "Iuka",
                                    "2": "MS",
                                    "3": "Open",
                                    "4": "48",
                                    "5": "15110486.0000",
                                    "6": "-16.90%",
                                    "7": "-13.60%",
                                    "8": "6540359",
                                    "9": "MS",
                                    "10": "Iuka",
                                    "11": "North Mississippi Medical Center-Iuka"
                                },
                                {
                                    "0": "Holmes County Hospital And Clinics",
                                    "1": "Lexington",
                                    "2": "MS",
                                    "3": "Open",
                                    "4": "25",
                                    "5": "13550282.0000",
                                    "6": "-27.40%",
                                    "7": "-12.80%",
                                    "8": "6540450",
                                    "9": "MS",
                                    "10": "Lexington",
                                    "11": "University of Mississippi Medical Center Holmes County"
                                },
                                {
                                    "0": "Winston Medical Center & Swingbed",
                                    "1": "Louisville",
                                    "2": "MS",
                                    "3": "Open",
                                    "4": "41",
                                    "5": "28190972.0000",
                                    "6": "-16.30%",
                                    "7": "-9.10%",
                                    "8": "6540455",
                                    "9": "MS",
                                    "10": "Louisville",
                                    "11": "Winston Medical Center"
                                },
                                {
                                    "0": "Highland Community  Hospital",
                                    "1": "Picayune",
                                    "2": "MS",
                                    "3": "Open",
                                    "4": "60",
                                    "5": "47519183.0000",
                                    "6": "-20.40%",
                                    "7": "-28.30%",
                                    "8": "6540730",
                                    "9": "MS",
                                    "10": "Picayune",
                                    "11": "Highland Community Hospital"
                                },
                                {
                                    "0": "Jefferson Davis Community Hospital Cah",
                                    "1": "Prentiss",
                                    "2": "MS",
                                    "3": "Open",
                                    "4": "29",
                                    "5": "14157799.0000",
                                    "6": "-15.50%",
                                    "7": "-15.50%",
                                    "8": "6540752",
                                    "9": "MS",
                                    "10": "Prentiss",
                                    "11": "Jefferson Davis Community Hospital"
                                },
                                {
                                    "0": "Baptist Medical Center-Yazoo",
                                    "1": "Yazoo City",
                                    "2": "MS",
                                    "3": "Open",
                                    "4": "35",
                                    "5": "17474180.0000",
                                    "6": "-22.90%",
                                    "7": "-19.20%",
                                    "8": "6540930",
                                    "9": "MS",
                                    "10": "Yazoo City",
                                    "11": "Baptist Medical Center Yazoo"
                                },
                                {
                                    "0": "Jefferson County Hospital",
                                    "1": "Fayette",
                                    "2": "MS",
                                    "3": "Open",
                                    "4": "48",
                                    "5": "9603314.0000",
                                    "6": "-4.90%",
                                    "7": "-17.30%",
                                    "8": "6549030",
                                    "9": "MS",
                                    "10": "Fayette",
                                    "11": "Jefferson County Hospital"
                                },
                                {
                                    "0": "Webster General Hospital/ Swing Bed",
                                    "1": "Eupora",
                                    "2": "MS",
                                    "3": "Open",
                                    "4": "43",
                                    "5": "23958871.0000",
                                    "6": "-6.90%",
                                    "7": "-8.20%",
                                    "8": "6549040",
                                    "9": "MS",
                                    "10": "Eupora",
                                    "11": "North Mississippi Medical Center-Eupora"
                                }
                            ]
                        },
                        "text/html": [
                            "<table>",
                            "<tr><th>Hospital</th><th>City</th><th>State</th><th>Closed_Open</th><th>Inpatient_Beds</th><th>Total_Expenses</th><th>Patient_Services_Margin</th><th>Total_Margin</th><th>ID</th><th>MSTATE</th><th>MLOCCITY</th><th>MNAME</th></tr>",
                            "<tr><td>Memorial Hospital And Manor</td><td>Bainbridge</td><td>GA</td><td>Open</td><td>80</td><td>47252395.0000</td><td>-15.60%</td><td>-18.10%</td><td>6380298</td><td>GA</td><td>Bainbridge</td><td>Memorial Hospital and Manor</td></tr>",
                            "<tr><td>Mountain Lakes Medical Center</td><td>Clayton</td><td>GA</td><td>Open</td><td>25</td><td>15066945.0000</td><td>-15.90%</td><td>-11.60%</td><td>6380425</td><td>GA</td><td>Clayton</td><td>Mountain Lakes Medical Center</td></tr>",
                            "<tr><td>Jenkins County Medical Center</td><td>Millen</td><td>GA</td><td>Open</td><td>25</td><td>6115617.0000</td><td>-15.50%</td><td>-9.30%</td><td>6380850</td><td>GA</td><td>Millen</td><td>Jenkins County Medical Center</td></tr>",
                            "<tr><td>Sgmc Berrien Campus</td><td>Nashville</td><td>GA</td><td>Open</td><td>63</td><td>9212512.0000</td><td>-29.50%</td><td>-17.80%</td><td>6380901</td><td>GA</td><td>Nashville</td><td>South Georgia Medical Center Berrien Campus</td></tr>",
                            "<tr><td>St Mary's Sacred Heart Hospital, Inc</td><td>Lavonia</td><td>GA</td><td>Open</td><td>56</td><td>35329289.0000</td><td>-1.80%</td><td>-11.00%</td><td>6389226</td><td>GA</td><td>Lavonia</td><td>St. Mary's Sacred Heart Hospital</td></tr>",
                            "<tr><td>Saint Thomas River Park Hospital</td><td>Mc Minnville</td><td>TN</td><td>Open</td><td>152</td><td>46321651.0000</td><td>-9.60%</td><td>-8.20%</td><td>6520005</td><td>TN</td><td>Mc Minnville</td><td>Saint Thomas River Park Hospital</td></tr>",
                            "<tr><td>Unicoi County  Hospital</td><td>Erwin</td><td>TN</td><td>Open</td><td>48</td><td>12067671.0000</td><td>-22.50%</td><td>-24.00%</td><td>6520270</td><td>TN</td><td>Erwin</td><td>Unicoi County Memorial Hospital</td></tr>",
                            "<tr><td>Jellico Medical Center, Inc</td><td>Jellico</td><td>TN</td><td>Open</td><td>54</td><td>19123076.0000</td><td>-12.10%</td><td>-13.20%</td><td>6520445</td><td>TN</td><td>Jellico</td><td>Jellico Community Hospital</td></tr>",
                            "<tr><td>Henderson County Community Hospital</td><td>Lexington</td><td>TN</td><td>Open</td><td>45</td><td>15284911.0000</td><td>-10.30%</td><td>-16.60%</td><td>6520647</td><td>TN</td><td>Lexington</td><td>Henderson County Community Hospital</td></tr>",
                            "<tr><td>Newport Medical Center</td><td>Newport</td><td>TN</td><td>Open</td><td>74</td><td>36399195.0000</td><td>-2.00%</td><td>-8.10%</td><td>6521072</td><td>TN</td><td>Newport</td><td>Tennova Newport Medical Center</td></tr>",
                            "<tr><td>Hawkins County Memorial Hospital</td><td>Rogersville</td><td>TN</td><td>Open</td><td>50</td><td>16546050.0000</td><td>-4.00%</td><td>-14.00%</td><td>6521158</td><td>TN</td><td>Rogersville</td><td>Hawkins County Memorial Hospital</td></tr>",
                            "<tr><td>Tennova Healthcare-Shelbyville</td><td>Shelbyville</td><td>TN</td><td>Open</td><td>104</td><td>37489350.0000</td><td>-2.90%</td><td>-19.40%</td><td>6521195</td><td>TN</td><td>Shelbyville</td><td>Tennova Healthcare-Shelbyville</td></tr>",
                            "<tr><td>Saint Thomas Highlands Hospital</td><td>Sparta</td><td>TN</td><td>Open</td><td>60</td><td>21942836.0000</td><td>-19.00%</td><td>-13.60%</td><td>6521207</td><td>TN</td><td>Sparta</td><td>Saint Thomas Highlands Hospital</td></tr>",
                            "<tr><td>Claiborne Medical Center</td><td>Tazewell</td><td>TN</td><td>Open</td><td>85</td><td>30558422.0000</td><td>-10.20%</td><td>-13.00%</td><td>6521222</td><td>TN</td><td>Tazewell</td><td>Claiborne Medical Center</td></tr>",
                            "<tr><td>Houston County Community Hospital</td><td>Erin</td><td>TN</td><td>Open</td><td>25</td><td>7842867.0000</td><td>-7.50%</td><td>-10.80%</td><td>6529061</td><td>TN</td><td>Erin</td><td>Houston County Community Hospital</td></tr>",
                            "<tr><td>Baptist Memorial Hospital - Carroll County</td><td>Huntingdon</td><td>TN</td><td>Open</td><td>70</td><td>22663342.0000</td><td>-20.70%</td><td>-21.20%</td><td>6529075</td><td>TN</td><td>Huntingdon</td><td>Baptist Memorial Hospital-Carroll County</td></tr>",
                            "<tr><td>Saint Thomas Dekalb Hospital</td><td>Smithville</td><td>TN</td><td>Open</td><td>71</td><td>13432145.0000</td><td>-29.80%</td><td>-26.40%</td><td>6529160</td><td>TN</td><td>Smithville</td><td>Saint Thomas DeKalb Hospital</td></tr>",
                            "<tr><td>Big South Fork Medical Center</td><td>Oneida</td><td>TN</td><td>Open</td><td>25</td><td>9045435.0000</td><td>-33.90%</td><td>-32.90%</td><td>6529209</td><td>TN</td><td>Oneida</td><td>Big South Fork Medical Center</td></tr>",
                            "<tr><td>North Baldwin Infirmary</td><td>Bay Minette</td><td>AL</td><td>Open</td><td>78</td><td>40244529.0000</td><td>-8.30%</td><td>-14.20%</td><td>6530116</td><td>AL</td><td>Bay Minette</td><td>North Baldwin Infirmary</td></tr>",
                            "<tr><td>Floyd Cherokee Medical Center</td><td>Centre</td><td>AL</td><td>Open</td><td>60</td><td>12372049.0000</td><td>-19.50%</td><td>-22.50%</td><td>6530313</td><td>AL</td><td>Centre</td><td>Floyd Cherokee Medical Center</td></tr>",
                            "<tr><td>Whitfield Regional Hospital</td><td>Demopolis</td><td>AL</td><td>Open</td><td>99</td><td>28402773.0000</td><td>-10.90%</td><td>-11.90%</td><td>6530345</td><td>AL</td><td>Demopolis</td><td>Bryan W. Whitfield Memorial Hospital</td></tr>",
                            "<tr><td>St Vincent's Chilton</td><td>Clanton</td><td>AL</td><td>Open</td><td>30</td><td>23482944.0000</td><td>-24.00%</td><td>-11.60%</td><td>6530431</td><td>AL</td><td>Clanton</td><td>St. Vincent's Chilton Hospital</td></tr>",
                            "<tr><td>Marion Regional Medical Center</td><td>Hamilton</td><td>AL</td><td>Open</td><td>57</td><td>20759633.0000</td><td>-17.30%</td><td>-12.80%</td><td>6530516</td><td>AL</td><td>Hamilton</td><td>North Mississippi Medical Center-Hamilton</td></tr>",
                            "<tr><td>Jackson Medical Center</td><td>Jackson</td><td>AL</td><td>Open</td><td>35</td><td>14102912.0000</td><td>-2.30%</td><td>-10.30%</td><td>6530530</td><td>AL</td><td>Jackson</td><td>Jackson Medical Center</td></tr>",
                            "<tr><td>Citizens Baptist Medical Center</td><td>Talladega</td><td>AL</td><td>Open</td><td>122</td><td>32585237.0000</td><td>-16.90%</td><td>-10.00%</td><td>6530910</td><td>AL</td><td>Talladega</td><td>Citizens Baptist Medical Center</td></tr>",
                            "<tr><td>Northwest Medical Center</td><td>Winfield</td><td>AL</td><td>Open</td><td>71</td><td>25210308.0000</td><td>16.10%</td><td>-14.30%</td><td>6531027</td><td>AL</td><td>Winfield</td><td>Northwest Medical Center</td></tr>",
                            "<tr><td>Lakeland Community Hospital</td><td>Haleyville</td><td>AL</td><td>Open</td><td>49</td><td>17346114.0000</td><td>-7.80%</td><td>-12.70%</td><td>6534001</td><td>AL</td><td>Haleyville</td><td>Lakeland Community Hospital</td></tr>",
                            "<tr><td>Lawrence Medical Center</td><td>Moulton</td><td>AL</td><td>Open</td><td>98</td><td>13037854.0000</td><td>-8.00%</td><td>-8.50%</td><td>6539110</td><td>AL</td><td>Moulton</td><td>Lawrence Medical Center</td></tr>",
                            "<tr><td>Tanner Medical Center-East Alabama</td><td>Wedowee</td><td>AL</td><td>Open</td><td>15</td><td>13693653.0000</td><td>-46.30%</td><td>-24.40%</td><td>6539160</td><td>AL</td><td>Wedowee</td><td>Tanner Medical Center/East Alabama</td></tr>",
                            "<tr><td>Monroe Regional Hospital</td><td>Aberdeen</td><td>MS</td><td>Open</td><td>33</td><td>28195025.0000</td><td>-26.20%</td><td>-11.90%</td><td>6540010</td><td>MS</td><td>Aberdeen</td><td>Monroe Regional Hospital</td></tr>",
                            "<tr><td>Bmh-Calhoun</td><td>Calhoun City</td><td>MS</td><td>Open</td><td>30</td><td>19501793.0000</td><td>-6.40%</td><td>-10.20%</td><td>6540116</td><td>MS</td><td>Calhoun City</td><td>Baptist Memorial Hospital - Calhoun</td></tr>",
                            "<tr><td>Baptist Medical Center-Leake</td><td>Carthage</td><td>MS</td><td>Open</td><td>25</td><td>20869601.0000</td><td>-16.20%</td><td>-9.50%</td><td>6540123</td><td>MS</td><td>Carthage</td><td>Baptist Medical Center Leake</td></tr>",
                            "<tr><td>Marion General Hospital</td><td>Columbia</td><td>MS</td><td>Open</td><td>79</td><td>16248540.0000</td><td>-19.00%</td><td>-19.70%</td><td>6540170</td><td>MS</td><td>Columbia</td><td>Marion General Hospital</td></tr>",
                            "<tr><td>Greenwood Leflore Hospital</td><td>Greenwood</td><td>MS</td><td>Open</td><td>244</td><td>116094344.0000</td><td>5.40%</td><td>-10.50%</td><td>6540280</td><td>MS</td><td>Greenwood</td><td>Greenwood Leflore Hospital</td></tr>",
                            "<tr><td>Tishomingo Health Services Inc</td><td>Iuka</td><td>MS</td><td>Open</td><td>48</td><td>15110486.0000</td><td>-16.90%</td><td>-13.60%</td><td>6540359</td><td>MS</td><td>Iuka</td><td>North Mississippi Medical Center-Iuka</td></tr>",
                            "<tr><td>Holmes County Hospital And Clinics</td><td>Lexington</td><td>MS</td><td>Open</td><td>25</td><td>13550282.0000</td><td>-27.40%</td><td>-12.80%</td><td>6540450</td><td>MS</td><td>Lexington</td><td>University of Mississippi Medical Center Holmes County</td></tr>",
                            "<tr><td>Winston Medical Center &amp; Swingbed</td><td>Louisville</td><td>MS</td><td>Open</td><td>41</td><td>28190972.0000</td><td>-16.30%</td><td>-9.10%</td><td>6540455</td><td>MS</td><td>Louisville</td><td>Winston Medical Center</td></tr>",
                            "<tr><td>Highland Community  Hospital</td><td>Picayune</td><td>MS</td><td>Open</td><td>60</td><td>47519183.0000</td><td>-20.40%</td><td>-28.30%</td><td>6540730</td><td>MS</td><td>Picayune</td><td>Highland Community Hospital</td></tr>",
                            "<tr><td>Jefferson Davis Community Hospital Cah</td><td>Prentiss</td><td>MS</td><td>Open</td><td>29</td><td>14157799.0000</td><td>-15.50%</td><td>-15.50%</td><td>6540752</td><td>MS</td><td>Prentiss</td><td>Jefferson Davis Community Hospital</td></tr>",
                            "<tr><td>Baptist Medical Center-Yazoo</td><td>Yazoo City</td><td>MS</td><td>Open</td><td>35</td><td>17474180.0000</td><td>-22.90%</td><td>-19.20%</td><td>6540930</td><td>MS</td><td>Yazoo City</td><td>Baptist Medical Center Yazoo</td></tr>",
                            "<tr><td>Jefferson County Hospital</td><td>Fayette</td><td>MS</td><td>Open</td><td>48</td><td>9603314.0000</td><td>-4.90%</td><td>-17.30%</td><td>6549030</td><td>MS</td><td>Fayette</td><td>Jefferson County Hospital</td></tr>",
                            "<tr><td>Webster General Hospital/ Swing Bed</td><td>Eupora</td><td>MS</td><td>Open</td><td>43</td><td>23958871.0000</td><td>-6.90%</td><td>-8.20%</td><td>6549040</td><td>MS</td><td>Eupora</td><td>North Mississippi Medical Center-Eupora</td></tr>",
                            "</table>"
                        ]
                    }
                }
            ],
            "execution_count": 2
        },
        {
            "cell_type": "code",
            "source": [
                "\r\n",
                "--Step 3: Set aside and look for two nulls\r\n",
                "select *\r\n",
                "into #Step3\r\n",
                "from #step1\r\n",
                "where Hospital in\r\n",
                "(\r\n",
                "select Hospital\r\n",
                "from\r\n",
                "(\r\n",
                "Select Hospital, count(Hospital) as rowz\r\n",
                " From #step1\r\n",
                " Group by Hospital\r\n",
                " )A\r\n",
                "Where  rowz=1\r\n",
                " )\r\n",
                "and MNAME is null;\r\n",
                "--J Paul Jones Hospital-->Camden,AL--> County=Wilcox -->jpauljones.com/--> Part of UAB\r\n",
                "--Lauderdale Community Hospital-->Ripley,TN--> County=Lauderdale --> ahd.com/free_profile/441314/Lauderdale_Community_Hospital/Ripley/Tennessee/ --> It's open, but oddly they do not have a website\r\n",
                "\r\n",
                "select *\r\n",
                "from #Step3"
            ],
            "metadata": {
                "azdata_cell_guid": "98132ef0-b6b8-4bca-93b7-51e4fa8751ee"
            },
            "outputs": [
                {
                    "output_type": "display_data",
                    "data": {
                        "text/html": "(2 rows affected)"
                    },
                    "metadata": {}
                },
                {
                    "output_type": "display_data",
                    "data": {
                        "text/html": "(2 rows affected)"
                    },
                    "metadata": {}
                },
                {
                    "output_type": "display_data",
                    "data": {
                        "text/html": "Total execution time: 00:00:00.054"
                    },
                    "metadata": {}
                },
                {
                    "output_type": "execute_result",
                    "metadata": {},
                    "execution_count": 3,
                    "data": {
                        "application/vnd.dataresource+json": {
                            "schema": {
                                "fields": [
                                    {
                                        "name": "Hospital"
                                    },
                                    {
                                        "name": "City"
                                    },
                                    {
                                        "name": "State"
                                    },
                                    {
                                        "name": "Closed_Open"
                                    },
                                    {
                                        "name": "Inpatient_Beds"
                                    },
                                    {
                                        "name": "Total_Expenses"
                                    },
                                    {
                                        "name": "Patient_Services_Margin"
                                    },
                                    {
                                        "name": "Total_Margin"
                                    },
                                    {
                                        "name": "ID"
                                    },
                                    {
                                        "name": "MSTATE"
                                    },
                                    {
                                        "name": "MLOCCITY"
                                    },
                                    {
                                        "name": "MNAME"
                                    }
                                ]
                            },
                            "data": [
                                {
                                    "0": "J Paul Jones Hospital",
                                    "1": "Camden",
                                    "2": "AL",
                                    "3": "Open",
                                    "4": "30",
                                    "5": "4921564.0000",
                                    "6": "-34.00%",
                                    "7": "-13.80%",
                                    "8": "NULL",
                                    "9": "NULL",
                                    "10": "NULL",
                                    "11": "NULL"
                                },
                                {
                                    "0": "Lauderdale Community Hospital",
                                    "1": "Ripley",
                                    "2": "TN",
                                    "3": "Open",
                                    "4": "25",
                                    "5": "11543455.0000",
                                    "6": "-9.50%",
                                    "7": "-9.20%",
                                    "8": "NULL",
                                    "9": "NULL",
                                    "10": "NULL",
                                    "11": "NULL"
                                }
                            ]
                        },
                        "text/html": [
                            "<table>",
                            "<tr><th>Hospital</th><th>City</th><th>State</th><th>Closed_Open</th><th>Inpatient_Beds</th><th>Total_Expenses</th><th>Patient_Services_Margin</th><th>Total_Margin</th><th>ID</th><th>MSTATE</th><th>MLOCCITY</th><th>MNAME</th></tr>",
                            "<tr><td>J Paul Jones Hospital</td><td>Camden</td><td>AL</td><td>Open</td><td>30</td><td>4921564.0000</td><td>-34.00%</td><td>-13.80%</td><td>NULL</td><td>NULL</td><td>NULL</td><td>NULL</td></tr>",
                            "<tr><td>Lauderdale Community Hospital</td><td>Ripley</td><td>TN</td><td>Open</td><td>25</td><td>11543455.0000</td><td>-9.50%</td><td>-9.20%</td><td>NULL</td><td>NULL</td><td>NULL</td><td>NULL</td></tr>",
                            "</table>"
                        ]
                    }
                }
            ],
            "execution_count": 3
        },
        {
            "cell_type": "code",
            "source": [
                "--Step 4: Look at hospitals in the AHA Database in the state and counties of our null rows\r\n",
                "select *\r\n",
                "from dbo.AS19DEM\r\n",
                "where \r\n",
                "(MSTATE='AL' and MLOCZIP like '367%')\r\n",
                "ORDER BY MNAME\r\n",
                "--J Paul Jones Hospital not in AHA Database? Perhaps this hospital was closed at one point and never re-entered?\r\n",
                "\r\n",
                "select *\r\n",
                "from dbo.AS19DEM\r\n",
                "where \r\n",
                "(MSTATE='TN' and MLOCZIP like '380%')\r\n",
                "ORDER BY MNAME\r\n",
                "--Lauderdale Community Hospital not in AHA Database either\r\n",
                "\r\n",
                "--Probably a good idea to mention this in paper. My thoughts are that these are low activity hospitals that either didn't respond, or at some point was closed and never added back to database.\r\n",
                ""
            ],
            "metadata": {
                "azdata_cell_guid": "a945e8f4-00e1-410a-b259-193eadd6675f"
            },
            "outputs": [
                {
                    "output_type": "display_data",
                    "data": {
                        "text/html": "(3 rows affected)"
                    },
                    "metadata": {}
                },
                {
                    "output_type": "display_data",
                    "data": {
                        "text/html": "(5 rows affected)"
                    },
                    "metadata": {}
                },
                {
                    "output_type": "display_data",
                    "data": {
                        "text/html": "Total execution time: 00:00:00.484"
                    },
                    "metadata": {}
                },
                {
                    "output_type": "execute_result",
                    "metadata": {},
                    "execution_count": 4,
                    "data": {
                        "application/vnd.dataresource+json": {
                            "schema": {
                                "fields": [
                                    {
                                        "name": "ID"
                                    },
                                    {
                                        "name": "STCD"
                                    },
                                    {
                                        "name": "DTBEG"
                                    },
                                    {
                                        "name": "DTEND"
                                    },
                                    {
                                        "name": "DCOV"
                                    },
                                    {
                                        "name": "FYR"
                                    },
                                    {
                                        "name": "FISYR"
                                    },
                                    {
                                        "name": "CNTRL"
                                    },
                                    {
                                        "name": "SERV"
                                    },
                                    {
                                        "name": "SERVOTH"
                                    },
                                    {
                                        "name": "RADMCHI"
                                    },
                                    {
                                        "name": "HSACODE"
                                    },
                                    {
                                        "name": "HSANAME"
                                    },
                                    {
                                        "name": "HRRCODE"
                                    },
                                    {
                                        "name": "HRRNAME"
                                    },
                                    {
                                        "name": "LOS"
                                    },
                                    {
                                        "name": "MNAME"
                                    },
                                    {
                                        "name": "MADMIN"
                                    },
                                    {
                                        "name": "MLOCADDR"
                                    },
                                    {
                                        "name": "MLOCCITY"
                                    },
                                    {
                                        "name": "MLOCSTCD"
                                    },
                                    {
                                        "name": "MLOCZIP"
                                    },
                                    {
                                        "name": "MSTATE"
                                    },
                                    {
                                        "name": "AREA"
                                    },
                                    {
                                        "name": "TELNO"
                                    },
                                    {
                                        "name": "RESP"
                                    },
                                    {
                                        "name": "CHC"
                                    },
                                    {
                                        "name": "BSC"
                                    },
                                    {
                                        "name": "MHSMEMB"
                                    },
                                    {
                                        "name": "SUBS"
                                    },
                                    {
                                        "name": "MNGT"
                                    },
                                    {
                                        "name": "MNGTNAME"
                                    },
                                    {
                                        "name": "MNGTCITY"
                                    },
                                    {
                                        "name": "MNGTSTCD"
                                    },
                                    {
                                        "name": "GROUP"
                                    },
                                    {
                                        "name": "GPONAME"
                                    },
                                    {
                                        "name": "GPOCITY"
                                    },
                                    {
                                        "name": "GPOST"
                                    },
                                    {
                                        "name": "SUPLY"
                                    },
                                    {
                                        "name": "SUPNM"
                                    },
                                    {
                                        "name": "PHYGP"
                                    },
                                    {
                                        "name": "LTCHF"
                                    },
                                    {
                                        "name": "LTCHC"
                                    },
                                    {
                                        "name": "LTNM"
                                    },
                                    {
                                        "name": "LTCT"
                                    },
                                    {
                                        "name": "LTST"
                                    },
                                    {
                                        "name": "COHSP"
                                    },
                                    {
                                        "name": "COTYCAN"
                                    },
                                    {
                                        "name": "COTYCAR"
                                    },
                                    {
                                        "name": "COTYORT"
                                    },
                                    {
                                        "name": "COTYPED"
                                    },
                                    {
                                        "name": "COTYPSY"
                                    },
                                    {
                                        "name": "COTYSUR"
                                    },
                                    {
                                        "name": "COTYOTH"
                                    },
                                    {
                                        "name": "COTYDESC"
                                    },
                                    {
                                        "name": "CLUSTER"
                                    },
                                    {
                                        "name": "SYSID"
                                    },
                                    {
                                        "name": "SYSNAME"
                                    },
                                    {
                                        "name": "SYSADDR"
                                    },
                                    {
                                        "name": "SYSCITY"
                                    },
                                    {
                                        "name": "SYSST"
                                    },
                                    {
                                        "name": "SYSZIP"
                                    },
                                    {
                                        "name": "SYSAREA"
                                    },
                                    {
                                        "name": "SYSTELN"
                                    },
                                    {
                                        "name": "SYSTEM_PRIMARY_CONTACT"
                                    },
                                    {
                                        "name": "SYSTITLE"
                                    },
                                    {
                                        "name": "COMMTY"
                                    },
                                    {
                                        "name": "MCRNUM"
                                    },
                                    {
                                        "name": "LAT"
                                    },
                                    {
                                        "name": "LONG"
                                    },
                                    {
                                        "name": "CNTYNAME"
                                    },
                                    {
                                        "name": "CBSANAME"
                                    },
                                    {
                                        "name": "CBSATYPE"
                                    },
                                    {
                                        "name": "CBSACODE"
                                    },
                                    {
                                        "name": "DIVNAME"
                                    },
                                    {
                                        "name": "DIVCODE"
                                    },
                                    {
                                        "name": "CSANAME"
                                    },
                                    {
                                        "name": "CSACODE"
                                    },
                                    {
                                        "name": "MCNTYCD"
                                    },
                                    {
                                        "name": "FCOUNTY"
                                    },
                                    {
                                        "name": "FSTCD"
                                    },
                                    {
                                        "name": "FCNTYCD"
                                    },
                                    {
                                        "name": "CITYRK"
                                    },
                                    {
                                        "name": "MAPP1"
                                    },
                                    {
                                        "name": "MAPP2"
                                    },
                                    {
                                        "name": "MAPP3"
                                    },
                                    {
                                        "name": "MAPP5"
                                    },
                                    {
                                        "name": "MAPP7"
                                    },
                                    {
                                        "name": "MAPP8"
                                    },
                                    {
                                        "name": "MAPP10"
                                    },
                                    {
                                        "name": "MAPP11"
                                    },
                                    {
                                        "name": "MAPP16"
                                    },
                                    {
                                        "name": "MAPP18"
                                    },
                                    {
                                        "name": "MAPP19"
                                    },
                                    {
                                        "name": "MAPP20"
                                    },
                                    {
                                        "name": "MAPP21"
                                    },
                                    {
                                        "name": "MAPP22"
                                    },
                                    {
                                        "name": "AHAMBR"
                                    },
                                    {
                                        "name": "SUNITS"
                                    },
                                    {
                                        "name": "HHPLAN"
                                    },
                                    {
                                        "name": "SPLAN"
                                    },
                                    {
                                        "name": "IINSPT"
                                    },
                                    {
                                        "name": "MEDADHOS"
                                    },
                                    {
                                        "name": "MEDADSYS"
                                    },
                                    {
                                        "name": "MEDADVEN"
                                    },
                                    {
                                        "name": "MEDNP"
                                    },
                                    {
                                        "name": "MEDADN"
                                    },
                                    {
                                        "name": "MEDADDK"
                                    },
                                    {
                                        "name": "MMCHOS"
                                    },
                                    {
                                        "name": "MMCSYS"
                                    },
                                    {
                                        "name": "MMCVEN"
                                    },
                                    {
                                        "name": "MMCNP"
                                    },
                                    {
                                        "name": "MMCN"
                                    },
                                    {
                                        "name": "MMCDK"
                                    },
                                    {
                                        "name": "HLINHOS"
                                    },
                                    {
                                        "name": "HLINSYS"
                                    },
                                    {
                                        "name": "HLINVEN"
                                    },
                                    {
                                        "name": "HLINNP"
                                    },
                                    {
                                        "name": "HLINN"
                                    },
                                    {
                                        "name": "HLINDK"
                                    },
                                    {
                                        "name": "OTHIMHOS"
                                    },
                                    {
                                        "name": "OTHIMSYS"
                                    },
                                    {
                                        "name": "OTHIMVEN"
                                    },
                                    {
                                        "name": "OTHINP"
                                    },
                                    {
                                        "name": "OTHIMN"
                                    },
                                    {
                                        "name": "OTHIMDK"
                                    },
                                    {
                                        "name": "SMGRPHOS"
                                    },
                                    {
                                        "name": "SMGRPSYS"
                                    },
                                    {
                                        "name": "SMGRPVEN"
                                    },
                                    {
                                        "name": "SMGPNP"
                                    },
                                    {
                                        "name": "SMGRPN"
                                    },
                                    {
                                        "name": "SMGPDK"
                                    },
                                    {
                                        "name": "LGRPHOS"
                                    },
                                    {
                                        "name": "LGRPSYS"
                                    },
                                    {
                                        "name": "LGRPVEN"
                                    },
                                    {
                                        "name": "LGRPNP"
                                    },
                                    {
                                        "name": "LGRPN"
                                    },
                                    {
                                        "name": "LGRPDK"
                                    },
                                    {
                                        "name": "OSMGHOS"
                                    },
                                    {
                                        "name": "OSMGSYS"
                                    },
                                    {
                                        "name": "OSMGVEN"
                                    },
                                    {
                                        "name": "OSMGNP"
                                    },
                                    {
                                        "name": "OSMGN"
                                    },
                                    {
                                        "name": "OSMGDK"
                                    },
                                    {
                                        "name": "OSMGOTH"
                                    },
                                    {
                                        "name": "SLFPLN"
                                    },
                                    {
                                        "name": "CPPCT"
                                    },
                                    {
                                        "name": "BDPY"
                                    },
                                    {
                                        "name": "PAYTYPTM"
                                    },
                                    {
                                        "name": "PAYTYAD"
                                    },
                                    {
                                        "name": "PAYTYPCI"
                                    },
                                    {
                                        "name": "PAYTYPMD"
                                    },
                                    {
                                        "name": "CNDTYPCV"
                                    },
                                    {
                                        "name": "CNDTYPOR"
                                    },
                                    {
                                        "name": "CNDTYPON"
                                    },
                                    {
                                        "name": "CNDTYPNG"
                                    },
                                    {
                                        "name": "CNDTYPHM"
                                    },
                                    {
                                        "name": "CNDTYPGI"
                                    },
                                    {
                                        "name": "CNDTYPPM"
                                    },
                                    {
                                        "name": "CNDTYPID"
                                    },
                                    {
                                        "name": "CNDTYPOS"
                                    },
                                    {
                                        "name": "CNDOTH"
                                    },
                                    {
                                        "name": "BNDPCT"
                                    },
                                    {
                                        "name": "BNDPAY"
                                    },
                                    {
                                        "name": "BNDRSK"
                                    },
                                    {
                                        "name": "CAPRSK"
                                    },
                                    {
                                        "name": "CAPCON94"
                                    },
                                    {
                                        "name": "CMRPAY"
                                    },
                                    {
                                        "name": "ACOORG"
                                    },
                                    {
                                        "name": "ACOTYPT"
                                    },
                                    {
                                        "name": "ACOTYPAD"
                                    },
                                    {
                                        "name": "ACOTYPCI"
                                    },
                                    {
                                        "name": "ACOTYPMD"
                                    },
                                    {
                                        "name": "MSSPT1"
                                    },
                                    {
                                        "name": "MSSPT2"
                                    },
                                    {
                                        "name": "MSSPT3"
                                    },
                                    {
                                        "name": "MSSP1P"
                                    },
                                    {
                                        "name": "MSSPNG"
                                    },
                                    {
                                        "name": "MSSPCE"
                                    },
                                    {
                                        "name": "ACOPCT"
                                    },
                                    {
                                        "name": "ACOCN"
                                    },
                                    {
                                        "name": "ACOEND"
                                    },
                                    {
                                        "name": "MEDHME"
                                    },
                                    {
                                        "name": "MEDHSE"
                                    },
                                    {
                                        "name": "CINHSP"
                                    },
                                    {
                                        "name": "CINSYS"
                                    },
                                    {
                                        "name": "HCOCA"
                                    },
                                    {
                                        "name": "LORGA"
                                    },
                                    {
                                        "name": "LORGCA"
                                    },
                                    {
                                        "name": "OTLSGDC"
                                    },
                                    {
                                        "name": "NPOEA"
                                    },
                                    {
                                        "name": "FBOFA"
                                    },
                                    {
                                        "name": "HICGA"
                                    },
                                    {
                                        "name": "SCHHA"
                                    },
                                    {
                                        "name": "LBCCIA"
                                    },
                                    {
                                        "name": "NATBUS"
                                    },
                                    {
                                        "name": "OTHINTA"
                                    },
                                    {
                                        "name": "OTHPART"
                                    },
                                    {
                                        "name": "FAMADV"
                                    }
                                ]
                            },
                            "data": [
                                {
                                    "0": "6530345",
                                    "1": "53",
                                    "2": "NULL",
                                    "3": "NULL",
                                    "4": "0",
                                    "5": "NULL",
                                    "6": "NULL",
                                    "7": "16",
                                    "8": "10",
                                    "9": "NULL",
                                    "10": "NULL",
                                    "11": "1025",
                                    "12": "Demopolis, AL",
                                    "13": "1",
                                    "14": "Birmingham, AL",
                                    "15": "1",
                                    "16": "Bryan W. Whitfield Memorial Hospital",
                                    "17": "Douglas L. Brewer, Chief Executive Officer",
                                    "18": "105 U S Highway 80 East",
                                    "19": "Demopolis",
                                    "20": "53",
                                    "21": "36732-3616",
                                    "22": "AL",
                                    "23": "334",
                                    "24": "2894000",
                                    "25": "2",
                                    "26": "1",
                                    "27": "2",
                                    "28": "1",
                                    "29": "NULL",
                                    "30": "NULL",
                                    "31": "NULL",
                                    "32": "NULL",
                                    "33": "NULL",
                                    "34": "NULL",
                                    "35": "NULL",
                                    "36": "NULL",
                                    "37": "NULL",
                                    "38": "NULL",
                                    "39": "NULL",
                                    "40": "NULL",
                                    "41": "NULL",
                                    "42": "NULL",
                                    "43": "NULL",
                                    "44": "NULL",
                                    "45": "NULL",
                                    "46": "NULL",
                                    "47": "NULL",
                                    "48": "NULL",
                                    "49": "NULL",
                                    "50": "NULL",
                                    "51": "NULL",
                                    "52": "NULL",
                                    "53": "NULL",
                                    "54": "NULL",
                                    "55": "2",
                                    "56": "9105",
                                    "57": "UAB Health System",
                                    "58": "500 22nd Street South, Suite 408",
                                    "59": "Birmingham",
                                    "60": "AL",
                                    "61": "35233-3110",
                                    "62": "205",
                                    "63": "9755362",
                                    "64": "Dr. William Ferniany",
                                    "65": "Chief Executive Officer",
                                    "66": "Y",
                                    "67": "010112",
                                    "68": "32.4976",
                                    "69": "-87.8479",
                                    "70": "Marengo, AL",
                                    "71": "NULL",
                                    "72": "Rural",
                                    "73": "00000",
                                    "74": "NULL",
                                    "75": "NULL",
                                    "76": "NULL",
                                    "77": "NULL",
                                    "78": "091",
                                    "79": "01091",
                                    "80": "01",
                                    "81": "091",
                                    "82": "000",
                                    "83": "2",
                                    "84": "2",
                                    "85": "1",
                                    "86": "2",
                                    "87": "2",
                                    "88": "2",
                                    "89": "1",
                                    "90": "2",
                                    "91": "2",
                                    "92": "2",
                                    "93": "2",
                                    "94": "1",
                                    "95": "2",
                                    "96": "2",
                                    "97": "0",
                                    "98": "0",
                                    "99": "NULL",
                                    "100": "NULL",
                                    "101": "NULL",
                                    "102": "NULL",
                                    "103": "NULL",
                                    "104": "NULL",
                                    "105": "NULL",
                                    "106": "NULL",
                                    "107": "NULL",
                                    "108": "NULL",
                                    "109": "NULL",
                                    "110": "NULL",
                                    "111": "NULL",
                                    "112": "NULL",
                                    "113": "NULL",
                                    "114": "NULL",
                                    "115": "NULL",
                                    "116": "NULL",
                                    "117": "NULL",
                                    "118": "NULL",
                                    "119": "NULL",
                                    "120": "NULL",
                                    "121": "NULL",
                                    "122": "NULL",
                                    "123": "NULL",
                                    "124": "NULL",
                                    "125": "NULL",
                                    "126": "NULL",
                                    "127": "NULL",
                                    "128": "NULL",
                                    "129": "NULL",
                                    "130": "NULL",
                                    "131": "NULL",
                                    "132": "NULL",
                                    "133": "NULL",
                                    "134": "NULL",
                                    "135": "NULL",
                                    "136": "NULL",
                                    "137": "NULL",
                                    "138": "NULL",
                                    "139": "NULL",
                                    "140": "NULL",
                                    "141": "NULL",
                                    "142": "NULL",
                                    "143": "NULL",
                                    "144": "NULL",
                                    "145": "NULL",
                                    "146": "NULL",
                                    "147": "NULL",
                                    "148": "NULL",
                                    "149": "NULL",
                                    "150": "NULL",
                                    "151": "NULL",
                                    "152": "NULL",
                                    "153": "NULL",
                                    "154": "NULL",
                                    "155": "NULL",
                                    "156": "NULL",
                                    "157": "NULL",
                                    "158": "NULL",
                                    "159": "NULL",
                                    "160": "NULL",
                                    "161": "NULL",
                                    "162": "NULL",
                                    "163": "NULL",
                                    "164": "NULL",
                                    "165": "NULL",
                                    "166": "NULL",
                                    "167": "NULL",
                                    "168": "NULL",
                                    "169": "NULL",
                                    "170": "NULL",
                                    "171": "NULL",
                                    "172": "NULL",
                                    "173": "NULL",
                                    "174": "NULL",
                                    "175": "NULL",
                                    "176": "NULL",
                                    "177": "NULL",
                                    "178": "NULL",
                                    "179": "NULL",
                                    "180": "NULL",
                                    "181": "NULL",
                                    "182": "NULL",
                                    "183": "NULL",
                                    "184": "NULL",
                                    "185": "NULL",
                                    "186": "NULL",
                                    "187": "NULL",
                                    "188": "NULL",
                                    "189": "NULL",
                                    "190": "NULL",
                                    "191": "NULL",
                                    "192": "NULL",
                                    "193": "NULL",
                                    "194": "NULL",
                                    "195": "NULL",
                                    "196": "NULL",
                                    "197": "NULL",
                                    "198": "NULL"
                                },
                                {
                                    "0": "6530480",
                                    "1": "53",
                                    "2": "NULL",
                                    "3": "NULL",
                                    "4": "0",
                                    "5": "NULL",
                                    "6": "NULL",
                                    "7": "16",
                                    "8": "10",
                                    "9": "NULL",
                                    "10": "NULL",
                                    "11": "1082",
                                    "12": "Tuscaloosa, AL",
                                    "13": "9",
                                    "14": "Tuscaloosa, AL",
                                    "15": "1",
                                    "16": "Hale County Hospital",
                                    "17": "Shay Fondren, Administrator",
                                    "18": "508 Green Street",
                                    "19": "Greensboro",
                                    "20": "53",
                                    "21": "36744-2316",
                                    "22": "AL",
                                    "23": "334",
                                    "24": "6243024",
                                    "25": "2",
                                    "26": "1",
                                    "27": "1",
                                    "28": "NULL",
                                    "29": "NULL",
                                    "30": "NULL",
                                    "31": "NULL",
                                    "32": "NULL",
                                    "33": "NULL",
                                    "34": "NULL",
                                    "35": "NULL",
                                    "36": "NULL",
                                    "37": "NULL",
                                    "38": "NULL",
                                    "39": "NULL",
                                    "40": "NULL",
                                    "41": "NULL",
                                    "42": "NULL",
                                    "43": "NULL",
                                    "44": "NULL",
                                    "45": "NULL",
                                    "46": "NULL",
                                    "47": "NULL",
                                    "48": "NULL",
                                    "49": "NULL",
                                    "50": "NULL",
                                    "51": "NULL",
                                    "52": "NULL",
                                    "53": "NULL",
                                    "54": "NULL",
                                    "55": "NULL",
                                    "56": "NULL",
                                    "57": "NULL",
                                    "58": "NULL",
                                    "59": "NULL",
                                    "60": "NULL",
                                    "61": "NULL",
                                    "62": "NULL",
                                    "63": "NULL",
                                    "64": "NULL",
                                    "65": "NULL",
                                    "66": "Y",
                                    "67": "010095",
                                    "68": "32.6955",
                                    "69": "-87.587",
                                    "70": "Hale, AL",
                                    "71": "Tuscaloosa, AL",
                                    "72": "Metro",
                                    "73": "46220",
                                    "74": "NULL",
                                    "75": "NULL",
                                    "76": "NULL",
                                    "77": "NULL",
                                    "78": "065",
                                    "79": "01065",
                                    "80": "01",
                                    "81": "065",
                                    "82": "000",
                                    "83": "2",
                                    "84": "2",
                                    "85": "2",
                                    "86": "2",
                                    "87": "2",
                                    "88": "2",
                                    "89": "1",
                                    "90": "2",
                                    "91": "2",
                                    "92": "2",
                                    "93": "2",
                                    "94": "2",
                                    "95": "2",
                                    "96": "2",
                                    "97": "0",
                                    "98": "0",
                                    "99": "NULL",
                                    "100": "NULL",
                                    "101": "NULL",
                                    "102": "NULL",
                                    "103": "NULL",
                                    "104": "NULL",
                                    "105": "NULL",
                                    "106": "NULL",
                                    "107": "NULL",
                                    "108": "NULL",
                                    "109": "NULL",
                                    "110": "NULL",
                                    "111": "NULL",
                                    "112": "NULL",
                                    "113": "NULL",
                                    "114": "NULL",
                                    "115": "NULL",
                                    "116": "NULL",
                                    "117": "NULL",
                                    "118": "NULL",
                                    "119": "NULL",
                                    "120": "NULL",
                                    "121": "NULL",
                                    "122": "NULL",
                                    "123": "NULL",
                                    "124": "NULL",
                                    "125": "NULL",
                                    "126": "NULL",
                                    "127": "NULL",
                                    "128": "NULL",
                                    "129": "NULL",
                                    "130": "NULL",
                                    "131": "NULL",
                                    "132": "NULL",
                                    "133": "NULL",
                                    "134": "NULL",
                                    "135": "NULL",
                                    "136": "NULL",
                                    "137": "NULL",
                                    "138": "NULL",
                                    "139": "NULL",
                                    "140": "NULL",
                                    "141": "NULL",
                                    "142": "NULL",
                                    "143": "NULL",
                                    "144": "NULL",
                                    "145": "NULL",
                                    "146": "NULL",
                                    "147": "NULL",
                                    "148": "NULL",
                                    "149": "NULL",
                                    "150": "NULL",
                                    "151": "NULL",
                                    "152": "NULL",
                                    "153": "NULL",
                                    "154": "NULL",
                                    "155": "NULL",
                                    "156": "NULL",
                                    "157": "NULL",
                                    "158": "NULL",
                                    "159": "NULL",
                                    "160": "NULL",
                                    "161": "NULL",
                                    "162": "NULL",
                                    "163": "NULL",
                                    "164": "NULL",
                                    "165": "NULL",
                                    "166": "NULL",
                                    "167": "NULL",
                                    "168": "NULL",
                                    "169": "NULL",
                                    "170": "NULL",
                                    "171": "NULL",
                                    "172": "NULL",
                                    "173": "NULL",
                                    "174": "NULL",
                                    "175": "NULL",
                                    "176": "NULL",
                                    "177": "NULL",
                                    "178": "NULL",
                                    "179": "NULL",
                                    "180": "NULL",
                                    "181": "NULL",
                                    "182": "NULL",
                                    "183": "NULL",
                                    "184": "NULL",
                                    "185": "NULL",
                                    "186": "NULL",
                                    "187": "NULL",
                                    "188": "NULL",
                                    "189": "NULL",
                                    "190": "NULL",
                                    "191": "NULL",
                                    "192": "NULL",
                                    "193": "NULL",
                                    "194": "NULL",
                                    "195": "NULL",
                                    "196": "NULL",
                                    "197": "NULL",
                                    "198": "NULL"
                                },
                                {
                                    "0": "6530860",
                                    "1": "53",
                                    "2": "2019-01-01 00:00:00.000",
                                    "3": "2019-12-31 00:00:00.000",
                                    "4": "365",
                                    "5": "1",
                                    "6": "2020-01-01 00:00:00.000",
                                    "7": "33",
                                    "8": "10",
                                    "9": "NULL",
                                    "10": "0",
                                    "11": "1075",
                                    "12": "Selma, AL",
                                    "13": "1",
                                    "14": "Birmingham, AL",
                                    "15": "1",
                                    "16": "Vaughan Regional Medical Center",
                                    "17": "J. David McCormack, Chief Executive Officer",
                                    "18": "1015 Medical Center Parkway",
                                    "19": "Selma",
                                    "20": "53",
                                    "21": "36701-6352",
                                    "22": "AL",
                                    "23": "334",
                                    "24": "4184100",
                                    "25": "1",
                                    "26": "1",
                                    "27": "4",
                                    "28": "1",
                                    "29": "0",
                                    "30": "0",
                                    "31": "NULL",
                                    "32": "NULL",
                                    "33": "NULL",
                                    "34": "NULL",
                                    "35": "NULL",
                                    "36": "NULL",
                                    "37": "NULL",
                                    "38": "NULL",
                                    "39": "NULL",
                                    "40": "0",
                                    "41": "0",
                                    "42": "0",
                                    "43": "NULL",
                                    "44": "NULL",
                                    "45": "NULL",
                                    "46": "0",
                                    "47": "NULL",
                                    "48": "NULL",
                                    "49": "NULL",
                                    "50": "NULL",
                                    "51": "NULL",
                                    "52": "NULL",
                                    "53": "NULL",
                                    "54": "NULL",
                                    "55": "3",
                                    "56": "0180",
                                    "57": "LifePoint Health",
                                    "58": "330 Seven Springs Way",
                                    "59": "Brentwood",
                                    "60": "TN",
                                    "61": "37027-4536",
                                    "62": "615",
                                    "63": "9207000",
                                    "64": "Mr. David M Dill",
                                    "65": "President and Chief Executive Officer",
                                    "66": "Y",
                                    "67": "010118",
                                    "68": "32.4294",
                                    "69": "-87.056",
                                    "70": "Dallas, AL",
                                    "71": "Selma, AL",
                                    "72": "Micro",
                                    "73": "42820",
                                    "74": "NULL",
                                    "75": "NULL",
                                    "76": "Montgomery-Selma-Alexander City, AL",
                                    "77": "388",
                                    "78": "047",
                                    "79": "01047",
                                    "80": "01",
                                    "81": "047",
                                    "82": "000",
                                    "83": "1",
                                    "84": "2",
                                    "85": "1",
                                    "86": "1",
                                    "87": "2",
                                    "88": "2",
                                    "89": "1",
                                    "90": "2",
                                    "91": "2",
                                    "92": "2",
                                    "93": "2",
                                    "94": "2",
                                    "95": "2",
                                    "96": "2",
                                    "97": "1",
                                    "98": "0",
                                    "99": "NULL",
                                    "100": "NULL",
                                    "101": "NULL",
                                    "102": "NULL",
                                    "103": "NULL",
                                    "104": "NULL",
                                    "105": "NULL",
                                    "106": "NULL",
                                    "107": "NULL",
                                    "108": "NULL",
                                    "109": "NULL",
                                    "110": "NULL",
                                    "111": "NULL",
                                    "112": "NULL",
                                    "113": "NULL",
                                    "114": "NULL",
                                    "115": "NULL",
                                    "116": "NULL",
                                    "117": "NULL",
                                    "118": "NULL",
                                    "119": "NULL",
                                    "120": "NULL",
                                    "121": "NULL",
                                    "122": "NULL",
                                    "123": "NULL",
                                    "124": "NULL",
                                    "125": "NULL",
                                    "126": "NULL",
                                    "127": "NULL",
                                    "128": "NULL",
                                    "129": "NULL",
                                    "130": "NULL",
                                    "131": "NULL",
                                    "132": "NULL",
                                    "133": "NULL",
                                    "134": "NULL",
                                    "135": "NULL",
                                    "136": "NULL",
                                    "137": "NULL",
                                    "138": "NULL",
                                    "139": "NULL",
                                    "140": "NULL",
                                    "141": "NULL",
                                    "142": "NULL",
                                    "143": "NULL",
                                    "144": "NULL",
                                    "145": "NULL",
                                    "146": "NULL",
                                    "147": "NULL",
                                    "148": "NULL",
                                    "149": "NULL",
                                    "150": "NULL",
                                    "151": "NULL",
                                    "152": "NULL",
                                    "153": "NULL",
                                    "154": "NULL",
                                    "155": "NULL",
                                    "156": "NULL",
                                    "157": "NULL",
                                    "158": "NULL",
                                    "159": "NULL",
                                    "160": "NULL",
                                    "161": "NULL",
                                    "162": "NULL",
                                    "163": "NULL",
                                    "164": "NULL",
                                    "165": "NULL",
                                    "166": "NULL",
                                    "167": "NULL",
                                    "168": "NULL",
                                    "169": "NULL",
                                    "170": "NULL",
                                    "171": "NULL",
                                    "172": "NULL",
                                    "173": "NULL",
                                    "174": "NULL",
                                    "175": "NULL",
                                    "176": "NULL",
                                    "177": "NULL",
                                    "178": "NULL",
                                    "179": "NULL",
                                    "180": "NULL",
                                    "181": "NULL",
                                    "182": "NULL",
                                    "183": "NULL",
                                    "184": "NULL",
                                    "185": "NULL",
                                    "186": "NULL",
                                    "187": "NULL",
                                    "188": "NULL",
                                    "189": "NULL",
                                    "190": "NULL",
                                    "191": "NULL",
                                    "192": "NULL",
                                    "193": "NULL",
                                    "194": "NULL",
                                    "195": "NULL",
                                    "196": "NULL",
                                    "197": "NULL",
                                    "198": "NULL"
                                }
                            ]
                        },
                        "text/html": [
                            "<table>",
                            "<tr><th>ID</th><th>STCD</th><th>DTBEG</th><th>DTEND</th><th>DCOV</th><th>FYR</th><th>FISYR</th><th>CNTRL</th><th>SERV</th><th>SERVOTH</th><th>RADMCHI</th><th>HSACODE</th><th>HSANAME</th><th>HRRCODE</th><th>HRRNAME</th><th>LOS</th><th>MNAME</th><th>MADMIN</th><th>MLOCADDR</th><th>MLOCCITY</th><th>MLOCSTCD</th><th>MLOCZIP</th><th>MSTATE</th><th>AREA</th><th>TELNO</th><th>RESP</th><th>CHC</th><th>BSC</th><th>MHSMEMB</th><th>SUBS</th><th>MNGT</th><th>MNGTNAME</th><th>MNGTCITY</th><th>MNGTSTCD</th><th>GROUP</th><th>GPONAME</th><th>GPOCITY</th><th>GPOST</th><th>SUPLY</th><th>SUPNM</th><th>PHYGP</th><th>LTCHF</th><th>LTCHC</th><th>LTNM</th><th>LTCT</th><th>LTST</th><th>COHSP</th><th>COTYCAN</th><th>COTYCAR</th><th>COTYORT</th><th>COTYPED</th><th>COTYPSY</th><th>COTYSUR</th><th>COTYOTH</th><th>COTYDESC</th><th>CLUSTER</th><th>SYSID</th><th>SYSNAME</th><th>SYSADDR</th><th>SYSCITY</th><th>SYSST</th><th>SYSZIP</th><th>SYSAREA</th><th>SYSTELN</th><th>SYSTEM_PRIMARY_CONTACT</th><th>SYSTITLE</th><th>COMMTY</th><th>MCRNUM</th><th>LAT</th><th>LONG</th><th>CNTYNAME</th><th>CBSANAME</th><th>CBSATYPE</th><th>CBSACODE</th><th>DIVNAME</th><th>DIVCODE</th><th>CSANAME</th><th>CSACODE</th><th>MCNTYCD</th><th>FCOUNTY</th><th>FSTCD</th><th>FCNTYCD</th><th>CITYRK</th><th>MAPP1</th><th>MAPP2</th><th>MAPP3</th><th>MAPP5</th><th>MAPP7</th><th>MAPP8</th><th>MAPP10</th><th>MAPP11</th><th>MAPP16</th><th>MAPP18</th><th>MAPP19</th><th>MAPP20</th><th>MAPP21</th><th>MAPP22</th><th>AHAMBR</th><th>SUNITS</th><th>HHPLAN</th><th>SPLAN</th><th>IINSPT</th><th>MEDADHOS</th><th>MEDADSYS</th><th>MEDADVEN</th><th>MEDNP</th><th>MEDADN</th><th>MEDADDK</th><th>MMCHOS</th><th>MMCSYS</th><th>MMCVEN</th><th>MMCNP</th><th>MMCN</th><th>MMCDK</th><th>HLINHOS</th><th>HLINSYS</th><th>HLINVEN</th><th>HLINNP</th><th>HLINN</th><th>HLINDK</th><th>OTHIMHOS</th><th>OTHIMSYS</th><th>OTHIMVEN</th><th>OTHINP</th><th>OTHIMN</th><th>OTHIMDK</th><th>SMGRPHOS</th><th>SMGRPSYS</th><th>SMGRPVEN</th><th>SMGPNP</th><th>SMGRPN</th><th>SMGPDK</th><th>LGRPHOS</th><th>LGRPSYS</th><th>LGRPVEN</th><th>LGRPNP</th><th>LGRPN</th><th>LGRPDK</th><th>OSMGHOS</th><th>OSMGSYS</th><th>OSMGVEN</th><th>OSMGNP</th><th>OSMGN</th><th>OSMGDK</th><th>OSMGOTH</th><th>SLFPLN</th><th>CPPCT</th><th>BDPY</th><th>PAYTYPTM</th><th>PAYTYAD</th><th>PAYTYPCI</th><th>PAYTYPMD</th><th>CNDTYPCV</th><th>CNDTYPOR</th><th>CNDTYPON</th><th>CNDTYPNG</th><th>CNDTYPHM</th><th>CNDTYPGI</th><th>CNDTYPPM</th><th>CNDTYPID</th><th>CNDTYPOS</th><th>CNDOTH</th><th>BNDPCT</th><th>BNDPAY</th><th>BNDRSK</th><th>CAPRSK</th><th>CAPCON94</th><th>CMRPAY</th><th>ACOORG</th><th>ACOTYPT</th><th>ACOTYPAD</th><th>ACOTYPCI</th><th>ACOTYPMD</th><th>MSSPT1</th><th>MSSPT2</th><th>MSSPT3</th><th>MSSP1P</th><th>MSSPNG</th><th>MSSPCE</th><th>ACOPCT</th><th>ACOCN</th><th>ACOEND</th><th>MEDHME</th><th>MEDHSE</th><th>CINHSP</th><th>CINSYS</th><th>HCOCA</th><th>LORGA</th><th>LORGCA</th><th>OTLSGDC</th><th>NPOEA</th><th>FBOFA</th><th>HICGA</th><th>SCHHA</th><th>LBCCIA</th><th>NATBUS</th><th>OTHINTA</th><th>OTHPART</th><th>FAMADV</th></tr>",
                            "<tr><td>6530345</td><td>53</td><td>NULL</td><td>NULL</td><td>0</td><td>NULL</td><td>NULL</td><td>16</td><td>10</td><td>NULL</td><td>NULL</td><td>1025</td><td>Demopolis, AL</td><td>1</td><td>Birmingham, AL</td><td>1</td><td>Bryan W. Whitfield Memorial Hospital</td><td>Douglas L. Brewer, Chief Executive Officer</td><td>105 U S Highway 80 East</td><td>Demopolis</td><td>53</td><td>36732-3616</td><td>AL</td><td>334</td><td>2894000</td><td>2</td><td>1</td><td>2</td><td>1</td><td>NULL</td><td>NULL</td><td>NULL</td><td>NULL</td><td>NULL</td><td>NULL</td><td>NULL</td><td>NULL</td><td>NULL</td><td>NULL</td><td>NULL</td><td>NULL</td><td>NULL</td><td>NULL</td><td>NULL</td><td>NULL</td><td>NULL</td><td>NULL</td><td>NULL</td><td>NULL</td><td>NULL</td><td>NULL</td><td>NULL</td><td>NULL</td><td>NULL</td><td>NULL</td><td>2</td><td>9105</td><td>UAB Health System</td><td>500 22nd Street South, Suite 408</td><td>Birmingham</td><td>AL</td><td>35233-3110</td><td>205</td><td>9755362</td><td>Dr. William Ferniany</td><td>Chief Executive Officer</td><td>Y</td><td>010112</td><td>32.4976</td><td>-87.8479</td><td>Marengo, AL</td><td>NULL</td><td>Rural</td><td>00000</td><td>NULL</td><td>NULL</td><td>NULL</td><td>NULL</td><td>091</td><td>01091</td><td>01</td><td>091</td><td>000</td><td>2</td><td>2</td><td>1</td><td>2</td><td>2</td><td>2</td><td>1</td><td>2</td><td>2</td><td>2</td><td>2</td><td>1</td><td>2</td><td>2</td><td>0</td><td>0</td><td>NULL</td><td>NULL</td><td>NULL</td><td>NULL</td><td>NULL</td><td>NULL</td><td>NULL</td><td>NULL</td><td>NULL</td><td>NULL</td><td>NULL</td><td>NULL</td><td>NULL</td><td>NULL</td><td>NULL</td><td>NULL</td><td>NULL</td><td>NULL</td><td>NULL</td><td>NULL</td><td>NULL</td><td>NULL</td><td>NULL</td><td>NULL</td><td>NULL</td><td>NULL</td><td>NULL</td><td>NULL</td><td>NULL</td><td>NULL</td><td>NULL</td><td>NULL</td><td>NULL</td><td>NULL</td><td>NULL</td><td>NULL</td><td>NULL</td><td>NULL</td><td>NULL</td><td>NULL</td><td>NULL</td><td>NULL</td><td>NULL</td><td>NULL</td><td>NULL</td><td>NULL</td><td>NULL</td><td>NULL</td><td>NULL</td><td>NULL</td><td>NULL</td><td>NULL</td><td>NULL</td><td>NULL</td><td>NULL</td><td>NULL</td><td>NULL</td><td>NULL</td><td>NULL</td><td>NULL</td><td>NULL</td><td>NULL</td><td>NULL</td><td>NULL</td><td>NULL</td><td>NULL</td><td>NULL</td><td>NULL</td><td>NULL</td><td>NULL</td><td>NULL</td><td>NULL</td><td>NULL</td><td>NULL</td><td>NULL</td><td>NULL</td><td>NULL</td><td>NULL</td><td>NULL</td><td>NULL</td><td>NULL</td><td>NULL</td><td>NULL</td><td>NULL</td><td>NULL</td><td>NULL</td><td>NULL</td><td>NULL</td><td>NULL</td><td>NULL</td><td>NULL</td><td>NULL</td><td>NULL</td><td>NULL</td><td>NULL</td><td>NULL</td><td>NULL</td><td>NULL</td><td>NULL</td><td>NULL</td></tr>",
                            "<tr><td>6530480</td><td>53</td><td>NULL</td><td>NULL</td><td>0</td><td>NULL</td><td>NULL</td><td>16</td><td>10</td><td>NULL</td><td>NULL</td><td>1082</td><td>Tuscaloosa, AL</td><td>9</td><td>Tuscaloosa, AL</td><td>1</td><td>Hale County Hospital</td><td>Shay Fondren, Administrator</td><td>508 Green Street</td><td>Greensboro</td><td>53</td><td>36744-2316</td><td>AL</td><td>334</td><td>6243024</td><td>2</td><td>1</td><td>1</td><td>NULL</td><td>NULL</td><td>NULL</td><td>NULL</td><td>NULL</td><td>NULL</td><td>NULL</td><td>NULL</td><td>NULL</td><td>NULL</td><td>NULL</td><td>NULL</td><td>NULL</td><td>NULL</td><td>NULL</td><td>NULL</td><td>NULL</td><td>NULL</td><td>NULL</td><td>NULL</td><td>NULL</td><td>NULL</td><td>NULL</td><td>NULL</td><td>NULL</td><td>NULL</td><td>NULL</td><td>NULL</td><td>NULL</td><td>NULL</td><td>NULL</td><td>NULL</td><td>NULL</td><td>NULL</td><td>NULL</td><td>NULL</td><td>NULL</td><td>NULL</td><td>Y</td><td>010095</td><td>32.6955</td><td>-87.587</td><td>Hale, AL</td><td>Tuscaloosa, AL</td><td>Metro</td><td>46220</td><td>NULL</td><td>NULL</td><td>NULL</td><td>NULL</td><td>065</td><td>01065</td><td>01</td><td>065</td><td>000</td><td>2</td><td>2</td><td>2</td><td>2</td><td>2</td><td>2</td><td>1</td><td>2</td><td>2</td><td>2</td><td>2</td><td>2</td><td>2</td><td>2</td><td>0</td><td>0</td><td>NULL</td><td>NULL</td><td>NULL</td><td>NULL</td><td>NULL</td><td>NULL</td><td>NULL</td><td>NULL</td><td>NULL</td><td>NULL</td><td>NULL</td><td>NULL</td><td>NULL</td><td>NULL</td><td>NULL</td><td>NULL</td><td>NULL</td><td>NULL</td><td>NULL</td><td>NULL</td><td>NULL</td><td>NULL</td><td>NULL</td><td>NULL</td><td>NULL</td><td>NULL</td><td>NULL</td><td>NULL</td><td>NULL</td><td>NULL</td><td>NULL</td><td>NULL</td><td>NULL</td><td>NULL</td><td>NULL</td><td>NULL</td><td>NULL</td><td>NULL</td><td>NULL</td><td>NULL</td><td>NULL</td><td>NULL</td><td>NULL</td><td>NULL</td><td>NULL</td><td>NULL</td><td>NULL</td><td>NULL</td><td>NULL</td><td>NULL</td><td>NULL</td><td>NULL</td><td>NULL</td><td>NULL</td><td>NULL</td><td>NULL</td><td>NULL</td><td>NULL</td><td>NULL</td><td>NULL</td><td>NULL</td><td>NULL</td><td>NULL</td><td>NULL</td><td>NULL</td><td>NULL</td><td>NULL</td><td>NULL</td><td>NULL</td><td>NULL</td><td>NULL</td><td>NULL</td><td>NULL</td><td>NULL</td><td>NULL</td><td>NULL</td><td>NULL</td><td>NULL</td><td>NULL</td><td>NULL</td><td>NULL</td><td>NULL</td><td>NULL</td><td>NULL</td><td>NULL</td><td>NULL</td><td>NULL</td><td>NULL</td><td>NULL</td><td>NULL</td><td>NULL</td><td>NULL</td><td>NULL</td><td>NULL</td><td>NULL</td><td>NULL</td><td>NULL</td><td>NULL</td><td>NULL</td><td>NULL</td></tr>",
                            "<tr><td>6530860</td><td>53</td><td>2019-01-01 00:00:00.000</td><td>2019-12-31 00:00:00.000</td><td>365</td><td>1</td><td>2020-01-01 00:00:00.000</td><td>33</td><td>10</td><td>NULL</td><td>0</td><td>1075</td><td>Selma, AL</td><td>1</td><td>Birmingham, AL</td><td>1</td><td>Vaughan Regional Medical Center</td><td>J. David McCormack, Chief Executive Officer</td><td>1015 Medical Center Parkway</td><td>Selma</td><td>53</td><td>36701-6352</td><td>AL</td><td>334</td><td>4184100</td><td>1</td><td>1</td><td>4</td><td>1</td><td>0</td><td>0</td><td>NULL</td><td>NULL</td><td>NULL</td><td>NULL</td><td>NULL</td><td>NULL</td><td>NULL</td><td>NULL</td><td>NULL</td><td>0</td><td>0</td><td>0</td><td>NULL</td><td>NULL</td><td>NULL</td><td>0</td><td>NULL</td><td>NULL</td><td>NULL</td><td>NULL</td><td>NULL</td><td>NULL</td><td>NULL</td><td>NULL</td><td>3</td><td>0180</td><td>LifePoint Health</td><td>330 Seven Springs Way</td><td>Brentwood</td><td>TN</td><td>37027-4536</td><td>615</td><td>9207000</td><td>Mr. David M Dill</td><td>President and Chief Executive Officer</td><td>Y</td><td>010118</td><td>32.4294</td><td>-87.056</td><td>Dallas, AL</td><td>Selma, AL</td><td>Micro</td><td>42820</td><td>NULL</td><td>NULL</td><td>Montgomery-Selma-Alexander City, AL</td><td>388</td><td>047</td><td>01047</td><td>01</td><td>047</td><td>000</td><td>1</td><td>2</td><td>1</td><td>1</td><td>2</td><td>2</td><td>1</td><td>2</td><td>2</td><td>2</td><td>2</td><td>2</td><td>2</td><td>2</td><td>1</td><td>0</td><td>NULL</td><td>NULL</td><td>NULL</td><td>NULL</td><td>NULL</td><td>NULL</td><td>NULL</td><td>NULL</td><td>NULL</td><td>NULL</td><td>NULL</td><td>NULL</td><td>NULL</td><td>NULL</td><td>NULL</td><td>NULL</td><td>NULL</td><td>NULL</td><td>NULL</td><td>NULL</td><td>NULL</td><td>NULL</td><td>NULL</td><td>NULL</td><td>NULL</td><td>NULL</td><td>NULL</td><td>NULL</td><td>NULL</td><td>NULL</td><td>NULL</td><td>NULL</td><td>NULL</td><td>NULL</td><td>NULL</td><td>NULL</td><td>NULL</td><td>NULL</td><td>NULL</td><td>NULL</td><td>NULL</td><td>NULL</td><td>NULL</td><td>NULL</td><td>NULL</td><td>NULL</td><td>NULL</td><td>NULL</td><td>NULL</td><td>NULL</td><td>NULL</td><td>NULL</td><td>NULL</td><td>NULL</td><td>NULL</td><td>NULL</td><td>NULL</td><td>NULL</td><td>NULL</td><td>NULL</td><td>NULL</td><td>NULL</td><td>NULL</td><td>NULL</td><td>NULL</td><td>NULL</td><td>NULL</td><td>NULL</td><td>NULL</td><td>NULL</td><td>NULL</td><td>NULL</td><td>NULL</td><td>NULL</td><td>NULL</td><td>NULL</td><td>NULL</td><td>NULL</td><td>NULL</td><td>NULL</td><td>NULL</td><td>NULL</td><td>NULL</td><td>NULL</td><td>NULL</td><td>NULL</td><td>NULL</td><td>NULL</td><td>NULL</td><td>NULL</td><td>NULL</td><td>NULL</td><td>NULL</td><td>NULL</td><td>NULL</td><td>NULL</td><td>NULL</td><td>NULL</td><td>NULL</td><td>NULL</td></tr>",
                            "</table>"
                        ]
                    }
                },
                {
                    "output_type": "execute_result",
                    "metadata": {},
                    "execution_count": 4,
                    "data": {
                        "application/vnd.dataresource+json": {
                            "schema": {
                                "fields": [
                                    {
                                        "name": "ID"
                                    },
                                    {
                                        "name": "STCD"
                                    },
                                    {
                                        "name": "DTBEG"
                                    },
                                    {
                                        "name": "DTEND"
                                    },
                                    {
                                        "name": "DCOV"
                                    },
                                    {
                                        "name": "FYR"
                                    },
                                    {
                                        "name": "FISYR"
                                    },
                                    {
                                        "name": "CNTRL"
                                    },
                                    {
                                        "name": "SERV"
                                    },
                                    {
                                        "name": "SERVOTH"
                                    },
                                    {
                                        "name": "RADMCHI"
                                    },
                                    {
                                        "name": "HSACODE"
                                    },
                                    {
                                        "name": "HSANAME"
                                    },
                                    {
                                        "name": "HRRCODE"
                                    },
                                    {
                                        "name": "HRRNAME"
                                    },
                                    {
                                        "name": "LOS"
                                    },
                                    {
                                        "name": "MNAME"
                                    },
                                    {
                                        "name": "MADMIN"
                                    },
                                    {
                                        "name": "MLOCADDR"
                                    },
                                    {
                                        "name": "MLOCCITY"
                                    },
                                    {
                                        "name": "MLOCSTCD"
                                    },
                                    {
                                        "name": "MLOCZIP"
                                    },
                                    {
                                        "name": "MSTATE"
                                    },
                                    {
                                        "name": "AREA"
                                    },
                                    {
                                        "name": "TELNO"
                                    },
                                    {
                                        "name": "RESP"
                                    },
                                    {
                                        "name": "CHC"
                                    },
                                    {
                                        "name": "BSC"
                                    },
                                    {
                                        "name": "MHSMEMB"
                                    },
                                    {
                                        "name": "SUBS"
                                    },
                                    {
                                        "name": "MNGT"
                                    },
                                    {
                                        "name": "MNGTNAME"
                                    },
                                    {
                                        "name": "MNGTCITY"
                                    },
                                    {
                                        "name": "MNGTSTCD"
                                    },
                                    {
                                        "name": "GROUP"
                                    },
                                    {
                                        "name": "GPONAME"
                                    },
                                    {
                                        "name": "GPOCITY"
                                    },
                                    {
                                        "name": "GPOST"
                                    },
                                    {
                                        "name": "SUPLY"
                                    },
                                    {
                                        "name": "SUPNM"
                                    },
                                    {
                                        "name": "PHYGP"
                                    },
                                    {
                                        "name": "LTCHF"
                                    },
                                    {
                                        "name": "LTCHC"
                                    },
                                    {
                                        "name": "LTNM"
                                    },
                                    {
                                        "name": "LTCT"
                                    },
                                    {
                                        "name": "LTST"
                                    },
                                    {
                                        "name": "COHSP"
                                    },
                                    {
                                        "name": "COTYCAN"
                                    },
                                    {
                                        "name": "COTYCAR"
                                    },
                                    {
                                        "name": "COTYORT"
                                    },
                                    {
                                        "name": "COTYPED"
                                    },
                                    {
                                        "name": "COTYPSY"
                                    },
                                    {
                                        "name": "COTYSUR"
                                    },
                                    {
                                        "name": "COTYOTH"
                                    },
                                    {
                                        "name": "COTYDESC"
                                    },
                                    {
                                        "name": "CLUSTER"
                                    },
                                    {
                                        "name": "SYSID"
                                    },
                                    {
                                        "name": "SYSNAME"
                                    },
                                    {
                                        "name": "SYSADDR"
                                    },
                                    {
                                        "name": "SYSCITY"
                                    },
                                    {
                                        "name": "SYSST"
                                    },
                                    {
                                        "name": "SYSZIP"
                                    },
                                    {
                                        "name": "SYSAREA"
                                    },
                                    {
                                        "name": "SYSTELN"
                                    },
                                    {
                                        "name": "SYSTEM_PRIMARY_CONTACT"
                                    },
                                    {
                                        "name": "SYSTITLE"
                                    },
                                    {
                                        "name": "COMMTY"
                                    },
                                    {
                                        "name": "MCRNUM"
                                    },
                                    {
                                        "name": "LAT"
                                    },
                                    {
                                        "name": "LONG"
                                    },
                                    {
                                        "name": "CNTYNAME"
                                    },
                                    {
                                        "name": "CBSANAME"
                                    },
                                    {
                                        "name": "CBSATYPE"
                                    },
                                    {
                                        "name": "CBSACODE"
                                    },
                                    {
                                        "name": "DIVNAME"
                                    },
                                    {
                                        "name": "DIVCODE"
                                    },
                                    {
                                        "name": "CSANAME"
                                    },
                                    {
                                        "name": "CSACODE"
                                    },
                                    {
                                        "name": "MCNTYCD"
                                    },
                                    {
                                        "name": "FCOUNTY"
                                    },
                                    {
                                        "name": "FSTCD"
                                    },
                                    {
                                        "name": "FCNTYCD"
                                    },
                                    {
                                        "name": "CITYRK"
                                    },
                                    {
                                        "name": "MAPP1"
                                    },
                                    {
                                        "name": "MAPP2"
                                    },
                                    {
                                        "name": "MAPP3"
                                    },
                                    {
                                        "name": "MAPP5"
                                    },
                                    {
                                        "name": "MAPP7"
                                    },
                                    {
                                        "name": "MAPP8"
                                    },
                                    {
                                        "name": "MAPP10"
                                    },
                                    {
                                        "name": "MAPP11"
                                    },
                                    {
                                        "name": "MAPP16"
                                    },
                                    {
                                        "name": "MAPP18"
                                    },
                                    {
                                        "name": "MAPP19"
                                    },
                                    {
                                        "name": "MAPP20"
                                    },
                                    {
                                        "name": "MAPP21"
                                    },
                                    {
                                        "name": "MAPP22"
                                    },
                                    {
                                        "name": "AHAMBR"
                                    },
                                    {
                                        "name": "SUNITS"
                                    },
                                    {
                                        "name": "HHPLAN"
                                    },
                                    {
                                        "name": "SPLAN"
                                    },
                                    {
                                        "name": "IINSPT"
                                    },
                                    {
                                        "name": "MEDADHOS"
                                    },
                                    {
                                        "name": "MEDADSYS"
                                    },
                                    {
                                        "name": "MEDADVEN"
                                    },
                                    {
                                        "name": "MEDNP"
                                    },
                                    {
                                        "name": "MEDADN"
                                    },
                                    {
                                        "name": "MEDADDK"
                                    },
                                    {
                                        "name": "MMCHOS"
                                    },
                                    {
                                        "name": "MMCSYS"
                                    },
                                    {
                                        "name": "MMCVEN"
                                    },
                                    {
                                        "name": "MMCNP"
                                    },
                                    {
                                        "name": "MMCN"
                                    },
                                    {
                                        "name": "MMCDK"
                                    },
                                    {
                                        "name": "HLINHOS"
                                    },
                                    {
                                        "name": "HLINSYS"
                                    },
                                    {
                                        "name": "HLINVEN"
                                    },
                                    {
                                        "name": "HLINNP"
                                    },
                                    {
                                        "name": "HLINN"
                                    },
                                    {
                                        "name": "HLINDK"
                                    },
                                    {
                                        "name": "OTHIMHOS"
                                    },
                                    {
                                        "name": "OTHIMSYS"
                                    },
                                    {
                                        "name": "OTHIMVEN"
                                    },
                                    {
                                        "name": "OTHINP"
                                    },
                                    {
                                        "name": "OTHIMN"
                                    },
                                    {
                                        "name": "OTHIMDK"
                                    },
                                    {
                                        "name": "SMGRPHOS"
                                    },
                                    {
                                        "name": "SMGRPSYS"
                                    },
                                    {
                                        "name": "SMGRPVEN"
                                    },
                                    {
                                        "name": "SMGPNP"
                                    },
                                    {
                                        "name": "SMGRPN"
                                    },
                                    {
                                        "name": "SMGPDK"
                                    },
                                    {
                                        "name": "LGRPHOS"
                                    },
                                    {
                                        "name": "LGRPSYS"
                                    },
                                    {
                                        "name": "LGRPVEN"
                                    },
                                    {
                                        "name": "LGRPNP"
                                    },
                                    {
                                        "name": "LGRPN"
                                    },
                                    {
                                        "name": "LGRPDK"
                                    },
                                    {
                                        "name": "OSMGHOS"
                                    },
                                    {
                                        "name": "OSMGSYS"
                                    },
                                    {
                                        "name": "OSMGVEN"
                                    },
                                    {
                                        "name": "OSMGNP"
                                    },
                                    {
                                        "name": "OSMGN"
                                    },
                                    {
                                        "name": "OSMGDK"
                                    },
                                    {
                                        "name": "OSMGOTH"
                                    },
                                    {
                                        "name": "SLFPLN"
                                    },
                                    {
                                        "name": "CPPCT"
                                    },
                                    {
                                        "name": "BDPY"
                                    },
                                    {
                                        "name": "PAYTYPTM"
                                    },
                                    {
                                        "name": "PAYTYAD"
                                    },
                                    {
                                        "name": "PAYTYPCI"
                                    },
                                    {
                                        "name": "PAYTYPMD"
                                    },
                                    {
                                        "name": "CNDTYPCV"
                                    },
                                    {
                                        "name": "CNDTYPOR"
                                    },
                                    {
                                        "name": "CNDTYPON"
                                    },
                                    {
                                        "name": "CNDTYPNG"
                                    },
                                    {
                                        "name": "CNDTYPHM"
                                    },
                                    {
                                        "name": "CNDTYPGI"
                                    },
                                    {
                                        "name": "CNDTYPPM"
                                    },
                                    {
                                        "name": "CNDTYPID"
                                    },
                                    {
                                        "name": "CNDTYPOS"
                                    },
                                    {
                                        "name": "CNDOTH"
                                    },
                                    {
                                        "name": "BNDPCT"
                                    },
                                    {
                                        "name": "BNDPAY"
                                    },
                                    {
                                        "name": "BNDRSK"
                                    },
                                    {
                                        "name": "CAPRSK"
                                    },
                                    {
                                        "name": "CAPCON94"
                                    },
                                    {
                                        "name": "CMRPAY"
                                    },
                                    {
                                        "name": "ACOORG"
                                    },
                                    {
                                        "name": "ACOTYPT"
                                    },
                                    {
                                        "name": "ACOTYPAD"
                                    },
                                    {
                                        "name": "ACOTYPCI"
                                    },
                                    {
                                        "name": "ACOTYPMD"
                                    },
                                    {
                                        "name": "MSSPT1"
                                    },
                                    {
                                        "name": "MSSPT2"
                                    },
                                    {
                                        "name": "MSSPT3"
                                    },
                                    {
                                        "name": "MSSP1P"
                                    },
                                    {
                                        "name": "MSSPNG"
                                    },
                                    {
                                        "name": "MSSPCE"
                                    },
                                    {
                                        "name": "ACOPCT"
                                    },
                                    {
                                        "name": "ACOCN"
                                    },
                                    {
                                        "name": "ACOEND"
                                    },
                                    {
                                        "name": "MEDHME"
                                    },
                                    {
                                        "name": "MEDHSE"
                                    },
                                    {
                                        "name": "CINHSP"
                                    },
                                    {
                                        "name": "CINSYS"
                                    },
                                    {
                                        "name": "HCOCA"
                                    },
                                    {
                                        "name": "LORGA"
                                    },
                                    {
                                        "name": "LORGCA"
                                    },
                                    {
                                        "name": "OTLSGDC"
                                    },
                                    {
                                        "name": "NPOEA"
                                    },
                                    {
                                        "name": "FBOFA"
                                    },
                                    {
                                        "name": "HICGA"
                                    },
                                    {
                                        "name": "SCHHA"
                                    },
                                    {
                                        "name": "LBCCIA"
                                    },
                                    {
                                        "name": "NATBUS"
                                    },
                                    {
                                        "name": "OTHINTA"
                                    },
                                    {
                                        "name": "OTHPART"
                                    },
                                    {
                                        "name": "FAMADV"
                                    }
                                ]
                            },
                            "data": [
                                {
                                    "0": "6520018",
                                    "1": "52",
                                    "2": "2018-10-01 00:00:00.000",
                                    "3": "2019-09-30 00:00:00.000",
                                    "4": "365",
                                    "5": "1",
                                    "6": "2019-10-01 00:00:00.000",
                                    "7": "23",
                                    "8": "10",
                                    "9": "NULL",
                                    "10": "0",
                                    "11": "44059",
                                    "12": "Memphis, TN",
                                    "13": "379",
                                    "14": "Memphis, TN",
                                    "15": "1",
                                    "16": "Baptist Memorial Hospital-Collierville",
                                    "17": "Lindsay Stencel, Chief Administrative Officer",
                                    "18": "1500 West Poplar Avenue",
                                    "19": "Collierville",
                                    "20": "52",
                                    "21": "38017-0601",
                                    "22": "TN",
                                    "23": "901",
                                    "24": "8619400",
                                    "25": "1",
                                    "26": "1",
                                    "27": "3",
                                    "28": "1",
                                    "29": "0",
                                    "30": "0",
                                    "31": "NULL",
                                    "32": "NULL",
                                    "33": "NULL",
                                    "34": "1",
                                    "35": "Vizient, Inc.",
                                    "36": "Irving",
                                    "37": "TX",
                                    "38": "1",
                                    "39": "Cardinal Health, Inc.",
                                    "40": "0",
                                    "41": "0",
                                    "42": "0",
                                    "43": "NULL",
                                    "44": "NULL",
                                    "45": "NULL",
                                    "46": "0",
                                    "47": "NULL",
                                    "48": "NULL",
                                    "49": "NULL",
                                    "50": "NULL",
                                    "51": "NULL",
                                    "52": "NULL",
                                    "53": "NULL",
                                    "54": "NULL",
                                    "55": "3",
                                    "56": "1625",
                                    "57": "Baptist Memorial Health Care Corporation",
                                    "58": "350 North Humphreys Boulevard",
                                    "59": "Memphis",
                                    "60": "TN",
                                    "61": "38120-2177",
                                    "62": "901",
                                    "63": "2275117",
                                    "64": "Mr. Jason Little",
                                    "65": "President and Chief Executive Officer",
                                    "66": "Y",
                                    "67": "440217",
                                    "68": "35.0494",
                                    "69": "-89.7143",
                                    "70": "Shelby, TN",
                                    "71": "Memphis, TN-MS-AR",
                                    "72": "Metro",
                                    "73": "32820",
                                    "74": "NULL",
                                    "75": "NULL",
                                    "76": "Memphis-Forrest City, TN-MS-AR",
                                    "77": "368",
                                    "78": "157",
                                    "79": "47157",
                                    "80": "47",
                                    "81": "157",
                                    "82": "000",
                                    "83": "2",
                                    "84": "2",
                                    "85": "2",
                                    "86": "1",
                                    "87": "2",
                                    "88": "2",
                                    "89": "1",
                                    "90": "2",
                                    "91": "2",
                                    "92": "2",
                                    "93": "2",
                                    "94": "2",
                                    "95": "2",
                                    "96": "2",
                                    "97": "1",
                                    "98": "0",
                                    "99": "0",
                                    "100": "0",
                                    "101": "0",
                                    "102": "NULL",
                                    "103": "NULL",
                                    "104": "NULL",
                                    "105": "NULL",
                                    "106": "NULL",
                                    "107": "NULL",
                                    "108": "NULL",
                                    "109": "NULL",
                                    "110": "NULL",
                                    "111": "NULL",
                                    "112": "NULL",
                                    "113": "NULL",
                                    "114": "NULL",
                                    "115": "NULL",
                                    "116": "NULL",
                                    "117": "NULL",
                                    "118": "NULL",
                                    "119": "NULL",
                                    "120": "NULL",
                                    "121": "NULL",
                                    "122": "NULL",
                                    "123": "NULL",
                                    "124": "NULL",
                                    "125": "NULL",
                                    "126": "NULL",
                                    "127": "NULL",
                                    "128": "NULL",
                                    "129": "NULL",
                                    "130": "NULL",
                                    "131": "NULL",
                                    "132": "NULL",
                                    "133": "NULL",
                                    "134": "NULL",
                                    "135": "NULL",
                                    "136": "NULL",
                                    "137": "NULL",
                                    "138": "NULL",
                                    "139": "NULL",
                                    "140": "NULL",
                                    "141": "NULL",
                                    "142": "NULL",
                                    "143": "NULL",
                                    "144": "NULL",
                                    "145": "1",
                                    "146": "0",
                                    "147": "1",
                                    "148": "1",
                                    "149": "0",
                                    "150": "0",
                                    "151": "0",
                                    "152": "0",
                                    "153": "1",
                                    "154": "0",
                                    "155": "0",
                                    "156": "0",
                                    "157": "0",
                                    "158": "0",
                                    "159": "0",
                                    "160": "0",
                                    "161": "NULL",
                                    "162": "1",
                                    "163": "1",
                                    "164": "1",
                                    "165": "0",
                                    "166": "0",
                                    "167": "1",
                                    "168": "2",
                                    "169": "NULL",
                                    "170": "NULL",
                                    "171": "NULL",
                                    "172": "NULL",
                                    "173": "NULL",
                                    "174": "NULL",
                                    "175": "NULL",
                                    "176": "NULL",
                                    "177": "NULL",
                                    "178": "NULL",
                                    "179": "NULL",
                                    "180": "NULL",
                                    "181": "NULL",
                                    "182": "0",
                                    "183": "0",
                                    "184": "0",
                                    "185": "1",
                                    "186": "1",
                                    "187": "1",
                                    "188": "1",
                                    "189": "1",
                                    "190": "1",
                                    "191": "1",
                                    "192": "1",
                                    "193": "1",
                                    "194": "1",
                                    "195": "1",
                                    "196": "1",
                                    "197": "NULL",
                                    "198": "1"
                                },
                                {
                                    "0": "6520214",
                                    "1": "52",
                                    "2": "2018-10-01 00:00:00.000",
                                    "3": "2019-09-30 00:00:00.000",
                                    "4": "365",
                                    "5": "1",
                                    "6": "2019-10-01 00:00:00.000",
                                    "7": "23",
                                    "8": "10",
                                    "9": "NULL",
                                    "10": "0",
                                    "11": "44015",
                                    "12": "Covington, TN",
                                    "13": "379",
                                    "14": "Memphis, TN",
                                    "15": "1",
                                    "16": "Baptist Memorial Hospital-Tipton",
                                    "17": "Parker Harris, Chief Executive Officer and Administrator",
                                    "18": "1995 Highway 51 South",
                                    "19": "Covington",
                                    "20": "52",
                                    "21": "38019-3635",
                                    "22": "TN",
                                    "23": "901",
                                    "24": "4762621",
                                    "25": "1",
                                    "26": "1",
                                    "27": "3",
                                    "28": "1",
                                    "29": "0",
                                    "30": "0",
                                    "31": "NULL",
                                    "32": "NULL",
                                    "33": "NULL",
                                    "34": "1",
                                    "35": "Vizient, Inc.",
                                    "36": "Irving",
                                    "37": "TX",
                                    "38": "1",
                                    "39": "Cardinal Health, Inc.",
                                    "40": "0",
                                    "41": "0",
                                    "42": "0",
                                    "43": "NULL",
                                    "44": "NULL",
                                    "45": "NULL",
                                    "46": "0",
                                    "47": "NULL",
                                    "48": "NULL",
                                    "49": "NULL",
                                    "50": "NULL",
                                    "51": "NULL",
                                    "52": "NULL",
                                    "53": "NULL",
                                    "54": "NULL",
                                    "55": "3",
                                    "56": "1625",
                                    "57": "Baptist Memorial Health Care Corporation",
                                    "58": "350 North Humphreys Boulevard",
                                    "59": "Memphis",
                                    "60": "TN",
                                    "61": "38120-2177",
                                    "62": "901",
                                    "63": "2275117",
                                    "64": "Mr. Jason Little",
                                    "65": "President and Chief Executive Officer",
                                    "66": "Y",
                                    "67": "440131",
                                    "68": "35.5359",
                                    "69": "-89.6782",
                                    "70": "Tipton, TN",
                                    "71": "Memphis, TN-MS-AR",
                                    "72": "Metro",
                                    "73": "32820",
                                    "74": "NULL",
                                    "75": "NULL",
                                    "76": "Memphis-Forrest City, TN-MS-AR",
                                    "77": "368",
                                    "78": "167",
                                    "79": "47167",
                                    "80": "47",
                                    "81": "167",
                                    "82": "000",
                                    "83": "1",
                                    "84": "1",
                                    "85": "2",
                                    "86": "2",
                                    "87": "2",
                                    "88": "2",
                                    "89": "1",
                                    "90": "2",
                                    "91": "2",
                                    "92": "2",
                                    "93": "2",
                                    "94": "2",
                                    "95": "2",
                                    "96": "2",
                                    "97": "1",
                                    "98": "0",
                                    "99": "0",
                                    "100": "0",
                                    "101": "0",
                                    "102": "NULL",
                                    "103": "NULL",
                                    "104": "NULL",
                                    "105": "NULL",
                                    "106": "NULL",
                                    "107": "NULL",
                                    "108": "NULL",
                                    "109": "NULL",
                                    "110": "NULL",
                                    "111": "NULL",
                                    "112": "NULL",
                                    "113": "NULL",
                                    "114": "NULL",
                                    "115": "NULL",
                                    "116": "NULL",
                                    "117": "NULL",
                                    "118": "NULL",
                                    "119": "NULL",
                                    "120": "NULL",
                                    "121": "NULL",
                                    "122": "NULL",
                                    "123": "NULL",
                                    "124": "NULL",
                                    "125": "NULL",
                                    "126": "NULL",
                                    "127": "NULL",
                                    "128": "NULL",
                                    "129": "NULL",
                                    "130": "NULL",
                                    "131": "NULL",
                                    "132": "NULL",
                                    "133": "NULL",
                                    "134": "NULL",
                                    "135": "NULL",
                                    "136": "NULL",
                                    "137": "NULL",
                                    "138": "NULL",
                                    "139": "NULL",
                                    "140": "NULL",
                                    "141": "NULL",
                                    "142": "NULL",
                                    "143": "NULL",
                                    "144": "NULL",
                                    "145": "0",
                                    "146": "0",
                                    "147": "0",
                                    "148": "NULL",
                                    "149": "NULL",
                                    "150": "NULL",
                                    "151": "NULL",
                                    "152": "NULL",
                                    "153": "NULL",
                                    "154": "NULL",
                                    "155": "NULL",
                                    "156": "NULL",
                                    "157": "NULL",
                                    "158": "NULL",
                                    "159": "NULL",
                                    "160": "NULL",
                                    "161": "NULL",
                                    "162": "NULL",
                                    "163": "0",
                                    "164": "NULL",
                                    "165": "0",
                                    "166": "0",
                                    "167": "1",
                                    "168": "2",
                                    "169": "NULL",
                                    "170": "NULL",
                                    "171": "NULL",
                                    "172": "NULL",
                                    "173": "NULL",
                                    "174": "NULL",
                                    "175": "NULL",
                                    "176": "NULL",
                                    "177": "NULL",
                                    "178": "NULL",
                                    "179": "NULL",
                                    "180": "NULL",
                                    "181": "NULL",
                                    "182": "0",
                                    "183": "1",
                                    "184": "0",
                                    "185": "1",
                                    "186": "2",
                                    "187": "2",
                                    "188": "2",
                                    "189": "2",
                                    "190": "2",
                                    "191": "2",
                                    "192": "3",
                                    "193": "2",
                                    "194": "2",
                                    "195": "1",
                                    "196": "1",
                                    "197": "NULL",
                                    "198": "0"
                                },
                                {
                                    "0": "6520035",
                                    "1": "52",
                                    "2": "2018-07-01 00:00:00.000",
                                    "3": "2019-06-30 00:00:00.000",
                                    "4": "365",
                                    "5": "1",
                                    "6": "2019-07-01 00:00:00.000",
                                    "7": "16",
                                    "8": "10",
                                    "9": "NULL",
                                    "10": "0",
                                    "11": "44037",
                                    "12": "Jackson, TN",
                                    "13": "374",
                                    "14": "Jackson, TN",
                                    "15": "1",
                                    "16": "West Tennessee Healthcare Bolivar Hospital",
                                    "17": "Ruby Kirby, Chief Executive Officer",
                                    "18": "650 Nuckolls Road",
                                    "19": "Bolivar",
                                    "20": "52",
                                    "21": "38008-1532",
                                    "22": "TN",
                                    "23": "731",
                                    "24": "6583100",
                                    "25": "1",
                                    "26": "1",
                                    "27": "1",
                                    "28": "1",
                                    "29": "0",
                                    "30": "0",
                                    "31": "NULL",
                                    "32": "NULL",
                                    "33": "NULL",
                                    "34": "1",
                                    "35": "Vizient, Inc.",
                                    "36": "Irving",
                                    "37": "TX",
                                    "38": "1",
                                    "39": "Cardinal Health, Inc.",
                                    "40": "0",
                                    "41": "0",
                                    "42": "0",
                                    "43": "NULL",
                                    "44": "NULL",
                                    "45": "NULL",
                                    "46": "0",
                                    "47": "NULL",
                                    "48": "NULL",
                                    "49": "NULL",
                                    "50": "NULL",
                                    "51": "NULL",
                                    "52": "NULL",
                                    "53": "NULL",
                                    "54": "NULL",
                                    "55": "1",
                                    "56": "0004",
                                    "57": "West Tennessee Healthcare",
                                    "58": "620 Skyline Drive",
                                    "59": "Jackson",
                                    "60": "TN",
                                    "61": "38301-3923",
                                    "62": "731",
                                    "63": "5415000",
                                    "64": "Mr. James E. Ross",
                                    "65": "President and Chief Executive Officer",
                                    "66": "Y",
                                    "67": "441320",
                                    "68": "35.2668",
                                    "69": "-88.9997",
                                    "70": "Hardeman, TN",
                                    "71": "NULL",
                                    "72": "Rural",
                                    "73": "00000",
                                    "74": "NULL",
                                    "75": "NULL",
                                    "76": "NULL",
                                    "77": "NULL",
                                    "78": "069",
                                    "79": "47069",
                                    "80": "47",
                                    "81": "069",
                                    "82": "000",
                                    "83": "1",
                                    "84": "2",
                                    "85": "2",
                                    "86": "2",
                                    "87": "2",
                                    "88": "2",
                                    "89": "1",
                                    "90": "2",
                                    "91": "2",
                                    "92": "1",
                                    "93": "2",
                                    "94": "2",
                                    "95": "2",
                                    "96": "2",
                                    "97": "1",
                                    "98": "0",
                                    "99": "0",
                                    "100": "0",
                                    "101": "0",
                                    "102": "NULL",
                                    "103": "NULL",
                                    "104": "NULL",
                                    "105": "NULL",
                                    "106": "NULL",
                                    "107": "NULL",
                                    "108": "NULL",
                                    "109": "NULL",
                                    "110": "NULL",
                                    "111": "NULL",
                                    "112": "NULL",
                                    "113": "NULL",
                                    "114": "NULL",
                                    "115": "NULL",
                                    "116": "NULL",
                                    "117": "NULL",
                                    "118": "NULL",
                                    "119": "NULL",
                                    "120": "NULL",
                                    "121": "NULL",
                                    "122": "NULL",
                                    "123": "NULL",
                                    "124": "NULL",
                                    "125": "NULL",
                                    "126": "NULL",
                                    "127": "NULL",
                                    "128": "NULL",
                                    "129": "NULL",
                                    "130": "NULL",
                                    "131": "NULL",
                                    "132": "NULL",
                                    "133": "NULL",
                                    "134": "NULL",
                                    "135": "NULL",
                                    "136": "NULL",
                                    "137": "NULL",
                                    "138": "NULL",
                                    "139": "NULL",
                                    "140": "NULL",
                                    "141": "NULL",
                                    "142": "NULL",
                                    "143": "NULL",
                                    "144": "NULL",
                                    "145": "0",
                                    "146": "0",
                                    "147": "0",
                                    "148": "NULL",
                                    "149": "NULL",
                                    "150": "NULL",
                                    "151": "NULL",
                                    "152": "NULL",
                                    "153": "NULL",
                                    "154": "NULL",
                                    "155": "NULL",
                                    "156": "NULL",
                                    "157": "NULL",
                                    "158": "NULL",
                                    "159": "NULL",
                                    "160": "NULL",
                                    "161": "NULL",
                                    "162": "NULL",
                                    "163": "0",
                                    "164": "NULL",
                                    "165": "0",
                                    "166": "0",
                                    "167": "1",
                                    "168": "2",
                                    "169": "NULL",
                                    "170": "NULL",
                                    "171": "NULL",
                                    "172": "NULL",
                                    "173": "NULL",
                                    "174": "NULL",
                                    "175": "NULL",
                                    "176": "NULL",
                                    "177": "NULL",
                                    "178": "NULL",
                                    "179": "NULL",
                                    "180": "NULL",
                                    "181": "NULL",
                                    "182": "0",
                                    "183": "1",
                                    "184": "1",
                                    "185": "1",
                                    "186": "3",
                                    "187": "3",
                                    "188": "3",
                                    "189": "3",
                                    "190": "2",
                                    "191": "2",
                                    "192": "3",
                                    "193": "3",
                                    "194": "2",
                                    "195": "1",
                                    "196": "1",
                                    "197": "NULL",
                                    "198": "0"
                                },
                                {
                                    "0": "6520254",
                                    "1": "52",
                                    "2": "2018-07-01 00:00:00.000",
                                    "3": "2019-06-30 00:00:00.000",
                                    "4": "365",
                                    "5": "1",
                                    "6": "2019-07-01 00:00:00.000",
                                    "7": "16",
                                    "8": "10",
                                    "9": "NULL",
                                    "10": "0",
                                    "11": "44020",
                                    "12": "Dyersburg, TN",
                                    "13": "379",
                                    "14": "Memphis, TN",
                                    "15": "1",
                                    "16": "West Tennessee Healthcare Dyersburg Hospital",
                                    "17": "Scott Barber, Interim Chief Executive Officer",
                                    "18": "400 East Tickle Street",
                                    "19": "Dyersburg",
                                    "20": "52",
                                    "21": "38024-3120",
                                    "22": "TN",
                                    "23": "731",
                                    "24": "2852410",
                                    "25": "1",
                                    "26": "1",
                                    "27": "4",
                                    "28": "1",
                                    "29": "0",
                                    "30": "0",
                                    "31": "NULL",
                                    "32": "NULL",
                                    "33": "NULL",
                                    "34": "1",
                                    "35": "Vizient, Inc.",
                                    "36": "Irving",
                                    "37": "TX",
                                    "38": "1",
                                    "39": "Cardinal Health, Inc.",
                                    "40": "0",
                                    "41": "0",
                                    "42": "0",
                                    "43": "NULL",
                                    "44": "NULL",
                                    "45": "NULL",
                                    "46": "0",
                                    "47": "NULL",
                                    "48": "NULL",
                                    "49": "NULL",
                                    "50": "NULL",
                                    "51": "NULL",
                                    "52": "NULL",
                                    "53": "NULL",
                                    "54": "NULL",
                                    "55": "1",
                                    "56": "0004",
                                    "57": "West Tennessee Healthcare",
                                    "58": "620 Skyline Drive",
                                    "59": "Jackson",
                                    "60": "TN",
                                    "61": "38301-3923",
                                    "62": "731",
                                    "63": "5415000",
                                    "64": "Mr. James E. Ross",
                                    "65": "President and Chief Executive Officer",
                                    "66": "Y",
                                    "67": "440072",
                                    "68": "36.048",
                                    "69": "-89.3799",
                                    "70": "Dyer, TN",
                                    "71": "Dyersburg, TN",
                                    "72": "Micro",
                                    "73": "20540",
                                    "74": "NULL",
                                    "75": "NULL",
                                    "76": "NULL",
                                    "77": "NULL",
                                    "78": "045",
                                    "79": "47045",
                                    "80": "47",
                                    "81": "045",
                                    "82": "000",
                                    "83": "1",
                                    "84": "2",
                                    "85": "2",
                                    "86": "2",
                                    "87": "2",
                                    "88": "2",
                                    "89": "1",
                                    "90": "2",
                                    "91": "2",
                                    "92": "2",
                                    "93": "2",
                                    "94": "1",
                                    "95": "2",
                                    "96": "2",
                                    "97": "1",
                                    "98": "0",
                                    "99": "0",
                                    "100": "0",
                                    "101": "0",
                                    "102": "NULL",
                                    "103": "NULL",
                                    "104": "NULL",
                                    "105": "NULL",
                                    "106": "NULL",
                                    "107": "NULL",
                                    "108": "NULL",
                                    "109": "NULL",
                                    "110": "NULL",
                                    "111": "NULL",
                                    "112": "NULL",
                                    "113": "NULL",
                                    "114": "NULL",
                                    "115": "NULL",
                                    "116": "NULL",
                                    "117": "NULL",
                                    "118": "NULL",
                                    "119": "NULL",
                                    "120": "NULL",
                                    "121": "NULL",
                                    "122": "NULL",
                                    "123": "NULL",
                                    "124": "NULL",
                                    "125": "NULL",
                                    "126": "NULL",
                                    "127": "NULL",
                                    "128": "NULL",
                                    "129": "NULL",
                                    "130": "NULL",
                                    "131": "NULL",
                                    "132": "NULL",
                                    "133": "NULL",
                                    "134": "NULL",
                                    "135": "NULL",
                                    "136": "NULL",
                                    "137": "NULL",
                                    "138": "NULL",
                                    "139": "NULL",
                                    "140": "NULL",
                                    "141": "NULL",
                                    "142": "NULL",
                                    "143": "NULL",
                                    "144": "NULL",
                                    "145": "0",
                                    "146": "0",
                                    "147": "0",
                                    "148": "NULL",
                                    "149": "NULL",
                                    "150": "NULL",
                                    "151": "NULL",
                                    "152": "NULL",
                                    "153": "NULL",
                                    "154": "NULL",
                                    "155": "NULL",
                                    "156": "NULL",
                                    "157": "NULL",
                                    "158": "NULL",
                                    "159": "NULL",
                                    "160": "NULL",
                                    "161": "NULL",
                                    "162": "NULL",
                                    "163": "0",
                                    "164": "NULL",
                                    "165": "0",
                                    "166": "0",
                                    "167": "1",
                                    "168": "2",
                                    "169": "NULL",
                                    "170": "NULL",
                                    "171": "NULL",
                                    "172": "NULL",
                                    "173": "NULL",
                                    "174": "NULL",
                                    "175": "NULL",
                                    "176": "NULL",
                                    "177": "NULL",
                                    "178": "NULL",
                                    "179": "NULL",
                                    "180": "NULL",
                                    "181": "NULL",
                                    "182": "0",
                                    "183": "1",
                                    "184": "1",
                                    "185": "1",
                                    "186": "3",
                                    "187": "3",
                                    "188": "3",
                                    "189": "3",
                                    "190": "2",
                                    "191": "2",
                                    "192": "3",
                                    "193": "3",
                                    "194": "2",
                                    "195": "1",
                                    "196": "1",
                                    "197": "NULL",
                                    "198": "0"
                                },
                                {
                                    "0": "6520030",
                                    "1": "52",
                                    "2": "NULL",
                                    "3": "NULL",
                                    "4": "0",
                                    "5": "NULL",
                                    "6": "NULL",
                                    "7": "12",
                                    "8": "22",
                                    "9": "NULL",
                                    "10": "NULL",
                                    "11": "44037",
                                    "12": "Jackson, TN",
                                    "13": "374",
                                    "14": "Jackson, TN",
                                    "15": "2",
                                    "16": "Western Mental Health Institute",
                                    "17": "Josh Carter, Chief Executive Officer",
                                    "18": "11100 Old Highway 64, West",
                                    "19": "Bolivar",
                                    "20": "52",
                                    "21": "38008-1554",
                                    "22": "TN",
                                    "23": "731",
                                    "24": "2282000",
                                    "25": "2",
                                    "26": "2",
                                    "27": "4",
                                    "28": "NULL",
                                    "29": "NULL",
                                    "30": "NULL",
                                    "31": "NULL",
                                    "32": "NULL",
                                    "33": "NULL",
                                    "34": "NULL",
                                    "35": "NULL",
                                    "36": "NULL",
                                    "37": "NULL",
                                    "38": "NULL",
                                    "39": "NULL",
                                    "40": "NULL",
                                    "41": "NULL",
                                    "42": "NULL",
                                    "43": "NULL",
                                    "44": "NULL",
                                    "45": "NULL",
                                    "46": "NULL",
                                    "47": "NULL",
                                    "48": "NULL",
                                    "49": "NULL",
                                    "50": "NULL",
                                    "51": "NULL",
                                    "52": "NULL",
                                    "53": "NULL",
                                    "54": "NULL",
                                    "55": "NULL",
                                    "56": "NULL",
                                    "57": "NULL",
                                    "58": "NULL",
                                    "59": "NULL",
                                    "60": "NULL",
                                    "61": "NULL",
                                    "62": "NULL",
                                    "63": "NULL",
                                    "64": "NULL",
                                    "65": "NULL",
                                    "66": "N",
                                    "67": "444008",
                                    "68": "35.2764",
                                    "69": "-89.0279",
                                    "70": "Hardeman, TN",
                                    "71": "NULL",
                                    "72": "Rural",
                                    "73": "00000",
                                    "74": "NULL",
                                    "75": "NULL",
                                    "76": "NULL",
                                    "77": "NULL",
                                    "78": "069",
                                    "79": "47069",
                                    "80": "47",
                                    "81": "069",
                                    "82": "000",
                                    "83": "1",
                                    "84": "2",
                                    "85": "2",
                                    "86": "2",
                                    "87": "2",
                                    "88": "2",
                                    "89": "1",
                                    "90": "2",
                                    "91": "2",
                                    "92": "2",
                                    "93": "2",
                                    "94": "2",
                                    "95": "2",
                                    "96": "2",
                                    "97": "0",
                                    "98": "0",
                                    "99": "NULL",
                                    "100": "NULL",
                                    "101": "NULL",
                                    "102": "NULL",
                                    "103": "NULL",
                                    "104": "NULL",
                                    "105": "NULL",
                                    "106": "NULL",
                                    "107": "NULL",
                                    "108": "NULL",
                                    "109": "NULL",
                                    "110": "NULL",
                                    "111": "NULL",
                                    "112": "NULL",
                                    "113": "NULL",
                                    "114": "NULL",
                                    "115": "NULL",
                                    "116": "NULL",
                                    "117": "NULL",
                                    "118": "NULL",
                                    "119": "NULL",
                                    "120": "NULL",
                                    "121": "NULL",
                                    "122": "NULL",
                                    "123": "NULL",
                                    "124": "NULL",
                                    "125": "NULL",
                                    "126": "NULL",
                                    "127": "NULL",
                                    "128": "NULL",
                                    "129": "NULL",
                                    "130": "NULL",
                                    "131": "NULL",
                                    "132": "NULL",
                                    "133": "NULL",
                                    "134": "NULL",
                                    "135": "NULL",
                                    "136": "NULL",
                                    "137": "NULL",
                                    "138": "NULL",
                                    "139": "NULL",
                                    "140": "NULL",
                                    "141": "NULL",
                                    "142": "NULL",
                                    "143": "NULL",
                                    "144": "NULL",
                                    "145": "NULL",
                                    "146": "NULL",
                                    "147": "NULL",
                                    "148": "NULL",
                                    "149": "NULL",
                                    "150": "NULL",
                                    "151": "NULL",
                                    "152": "NULL",
                                    "153": "NULL",
                                    "154": "NULL",
                                    "155": "NULL",
                                    "156": "NULL",
                                    "157": "NULL",
                                    "158": "NULL",
                                    "159": "NULL",
                                    "160": "NULL",
                                    "161": "NULL",
                                    "162": "NULL",
                                    "163": "NULL",
                                    "164": "NULL",
                                    "165": "NULL",
                                    "166": "NULL",
                                    "167": "NULL",
                                    "168": "NULL",
                                    "169": "NULL",
                                    "170": "NULL",
                                    "171": "NULL",
                                    "172": "NULL",
                                    "173": "NULL",
                                    "174": "NULL",
                                    "175": "NULL",
                                    "176": "NULL",
                                    "177": "NULL",
                                    "178": "NULL",
                                    "179": "NULL",
                                    "180": "NULL",
                                    "181": "NULL",
                                    "182": "NULL",
                                    "183": "NULL",
                                    "184": "NULL",
                                    "185": "NULL",
                                    "186": "NULL",
                                    "187": "NULL",
                                    "188": "NULL",
                                    "189": "NULL",
                                    "190": "NULL",
                                    "191": "NULL",
                                    "192": "NULL",
                                    "193": "NULL",
                                    "194": "NULL",
                                    "195": "NULL",
                                    "196": "NULL",
                                    "197": "NULL",
                                    "198": "NULL"
                                }
                            ]
                        },
                        "text/html": [
                            "<table>",
                            "<tr><th>ID</th><th>STCD</th><th>DTBEG</th><th>DTEND</th><th>DCOV</th><th>FYR</th><th>FISYR</th><th>CNTRL</th><th>SERV</th><th>SERVOTH</th><th>RADMCHI</th><th>HSACODE</th><th>HSANAME</th><th>HRRCODE</th><th>HRRNAME</th><th>LOS</th><th>MNAME</th><th>MADMIN</th><th>MLOCADDR</th><th>MLOCCITY</th><th>MLOCSTCD</th><th>MLOCZIP</th><th>MSTATE</th><th>AREA</th><th>TELNO</th><th>RESP</th><th>CHC</th><th>BSC</th><th>MHSMEMB</th><th>SUBS</th><th>MNGT</th><th>MNGTNAME</th><th>MNGTCITY</th><th>MNGTSTCD</th><th>GROUP</th><th>GPONAME</th><th>GPOCITY</th><th>GPOST</th><th>SUPLY</th><th>SUPNM</th><th>PHYGP</th><th>LTCHF</th><th>LTCHC</th><th>LTNM</th><th>LTCT</th><th>LTST</th><th>COHSP</th><th>COTYCAN</th><th>COTYCAR</th><th>COTYORT</th><th>COTYPED</th><th>COTYPSY</th><th>COTYSUR</th><th>COTYOTH</th><th>COTYDESC</th><th>CLUSTER</th><th>SYSID</th><th>SYSNAME</th><th>SYSADDR</th><th>SYSCITY</th><th>SYSST</th><th>SYSZIP</th><th>SYSAREA</th><th>SYSTELN</th><th>SYSTEM_PRIMARY_CONTACT</th><th>SYSTITLE</th><th>COMMTY</th><th>MCRNUM</th><th>LAT</th><th>LONG</th><th>CNTYNAME</th><th>CBSANAME</th><th>CBSATYPE</th><th>CBSACODE</th><th>DIVNAME</th><th>DIVCODE</th><th>CSANAME</th><th>CSACODE</th><th>MCNTYCD</th><th>FCOUNTY</th><th>FSTCD</th><th>FCNTYCD</th><th>CITYRK</th><th>MAPP1</th><th>MAPP2</th><th>MAPP3</th><th>MAPP5</th><th>MAPP7</th><th>MAPP8</th><th>MAPP10</th><th>MAPP11</th><th>MAPP16</th><th>MAPP18</th><th>MAPP19</th><th>MAPP20</th><th>MAPP21</th><th>MAPP22</th><th>AHAMBR</th><th>SUNITS</th><th>HHPLAN</th><th>SPLAN</th><th>IINSPT</th><th>MEDADHOS</th><th>MEDADSYS</th><th>MEDADVEN</th><th>MEDNP</th><th>MEDADN</th><th>MEDADDK</th><th>MMCHOS</th><th>MMCSYS</th><th>MMCVEN</th><th>MMCNP</th><th>MMCN</th><th>MMCDK</th><th>HLINHOS</th><th>HLINSYS</th><th>HLINVEN</th><th>HLINNP</th><th>HLINN</th><th>HLINDK</th><th>OTHIMHOS</th><th>OTHIMSYS</th><th>OTHIMVEN</th><th>OTHINP</th><th>OTHIMN</th><th>OTHIMDK</th><th>SMGRPHOS</th><th>SMGRPSYS</th><th>SMGRPVEN</th><th>SMGPNP</th><th>SMGRPN</th><th>SMGPDK</th><th>LGRPHOS</th><th>LGRPSYS</th><th>LGRPVEN</th><th>LGRPNP</th><th>LGRPN</th><th>LGRPDK</th><th>OSMGHOS</th><th>OSMGSYS</th><th>OSMGVEN</th><th>OSMGNP</th><th>OSMGN</th><th>OSMGDK</th><th>OSMGOTH</th><th>SLFPLN</th><th>CPPCT</th><th>BDPY</th><th>PAYTYPTM</th><th>PAYTYAD</th><th>PAYTYPCI</th><th>PAYTYPMD</th><th>CNDTYPCV</th><th>CNDTYPOR</th><th>CNDTYPON</th><th>CNDTYPNG</th><th>CNDTYPHM</th><th>CNDTYPGI</th><th>CNDTYPPM</th><th>CNDTYPID</th><th>CNDTYPOS</th><th>CNDOTH</th><th>BNDPCT</th><th>BNDPAY</th><th>BNDRSK</th><th>CAPRSK</th><th>CAPCON94</th><th>CMRPAY</th><th>ACOORG</th><th>ACOTYPT</th><th>ACOTYPAD</th><th>ACOTYPCI</th><th>ACOTYPMD</th><th>MSSPT1</th><th>MSSPT2</th><th>MSSPT3</th><th>MSSP1P</th><th>MSSPNG</th><th>MSSPCE</th><th>ACOPCT</th><th>ACOCN</th><th>ACOEND</th><th>MEDHME</th><th>MEDHSE</th><th>CINHSP</th><th>CINSYS</th><th>HCOCA</th><th>LORGA</th><th>LORGCA</th><th>OTLSGDC</th><th>NPOEA</th><th>FBOFA</th><th>HICGA</th><th>SCHHA</th><th>LBCCIA</th><th>NATBUS</th><th>OTHINTA</th><th>OTHPART</th><th>FAMADV</th></tr>",
                            "<tr><td>6520018</td><td>52</td><td>2018-10-01 00:00:00.000</td><td>2019-09-30 00:00:00.000</td><td>365</td><td>1</td><td>2019-10-01 00:00:00.000</td><td>23</td><td>10</td><td>NULL</td><td>0</td><td>44059</td><td>Memphis, TN</td><td>379</td><td>Memphis, TN</td><td>1</td><td>Baptist Memorial Hospital-Collierville</td><td>Lindsay Stencel, Chief Administrative Officer</td><td>1500 West Poplar Avenue</td><td>Collierville</td><td>52</td><td>38017-0601</td><td>TN</td><td>901</td><td>8619400</td><td>1</td><td>1</td><td>3</td><td>1</td><td>0</td><td>0</td><td>NULL</td><td>NULL</td><td>NULL</td><td>1</td><td>Vizient, Inc.</td><td>Irving</td><td>TX</td><td>1</td><td>Cardinal Health, Inc.</td><td>0</td><td>0</td><td>0</td><td>NULL</td><td>NULL</td><td>NULL</td><td>0</td><td>NULL</td><td>NULL</td><td>NULL</td><td>NULL</td><td>NULL</td><td>NULL</td><td>NULL</td><td>NULL</td><td>3</td><td>1625</td><td>Baptist Memorial Health Care Corporation</td><td>350 North Humphreys Boulevard</td><td>Memphis</td><td>TN</td><td>38120-2177</td><td>901</td><td>2275117</td><td>Mr. Jason Little</td><td>President and Chief Executive Officer</td><td>Y</td><td>440217</td><td>35.0494</td><td>-89.7143</td><td>Shelby, TN</td><td>Memphis, TN-MS-AR</td><td>Metro</td><td>32820</td><td>NULL</td><td>NULL</td><td>Memphis-Forrest City, TN-MS-AR</td><td>368</td><td>157</td><td>47157</td><td>47</td><td>157</td><td>000</td><td>2</td><td>2</td><td>2</td><td>1</td><td>2</td><td>2</td><td>1</td><td>2</td><td>2</td><td>2</td><td>2</td><td>2</td><td>2</td><td>2</td><td>1</td><td>0</td><td>0</td><td>0</td><td>0</td><td>NULL</td><td>NULL</td><td>NULL</td><td>NULL</td><td>NULL</td><td>NULL</td><td>NULL</td><td>NULL</td><td>NULL</td><td>NULL</td><td>NULL</td><td>NULL</td><td>NULL</td><td>NULL</td><td>NULL</td><td>NULL</td><td>NULL</td><td>NULL</td><td>NULL</td><td>NULL</td><td>NULL</td><td>NULL</td><td>NULL</td><td>NULL</td><td>NULL</td><td>NULL</td><td>NULL</td><td>NULL</td><td>NULL</td><td>NULL</td><td>NULL</td><td>NULL</td><td>NULL</td><td>NULL</td><td>NULL</td><td>NULL</td><td>NULL</td><td>NULL</td><td>NULL</td><td>NULL</td><td>NULL</td><td>NULL</td><td>NULL</td><td>1</td><td>0</td><td>1</td><td>1</td><td>0</td><td>0</td><td>0</td><td>0</td><td>1</td><td>0</td><td>0</td><td>0</td><td>0</td><td>0</td><td>0</td><td>0</td><td>NULL</td><td>1</td><td>1</td><td>1</td><td>0</td><td>0</td><td>1</td><td>2</td><td>NULL</td><td>NULL</td><td>NULL</td><td>NULL</td><td>NULL</td><td>NULL</td><td>NULL</td><td>NULL</td><td>NULL</td><td>NULL</td><td>NULL</td><td>NULL</td><td>NULL</td><td>0</td><td>0</td><td>0</td><td>1</td><td>1</td><td>1</td><td>1</td><td>1</td><td>1</td><td>1</td><td>1</td><td>1</td><td>1</td><td>1</td><td>1</td><td>NULL</td><td>1</td></tr>",
                            "<tr><td>6520214</td><td>52</td><td>2018-10-01 00:00:00.000</td><td>2019-09-30 00:00:00.000</td><td>365</td><td>1</td><td>2019-10-01 00:00:00.000</td><td>23</td><td>10</td><td>NULL</td><td>0</td><td>44015</td><td>Covington, TN</td><td>379</td><td>Memphis, TN</td><td>1</td><td>Baptist Memorial Hospital-Tipton</td><td>Parker Harris, Chief Executive Officer and Administrator</td><td>1995 Highway 51 South</td><td>Covington</td><td>52</td><td>38019-3635</td><td>TN</td><td>901</td><td>4762621</td><td>1</td><td>1</td><td>3</td><td>1</td><td>0</td><td>0</td><td>NULL</td><td>NULL</td><td>NULL</td><td>1</td><td>Vizient, Inc.</td><td>Irving</td><td>TX</td><td>1</td><td>Cardinal Health, Inc.</td><td>0</td><td>0</td><td>0</td><td>NULL</td><td>NULL</td><td>NULL</td><td>0</td><td>NULL</td><td>NULL</td><td>NULL</td><td>NULL</td><td>NULL</td><td>NULL</td><td>NULL</td><td>NULL</td><td>3</td><td>1625</td><td>Baptist Memorial Health Care Corporation</td><td>350 North Humphreys Boulevard</td><td>Memphis</td><td>TN</td><td>38120-2177</td><td>901</td><td>2275117</td><td>Mr. Jason Little</td><td>President and Chief Executive Officer</td><td>Y</td><td>440131</td><td>35.5359</td><td>-89.6782</td><td>Tipton, TN</td><td>Memphis, TN-MS-AR</td><td>Metro</td><td>32820</td><td>NULL</td><td>NULL</td><td>Memphis-Forrest City, TN-MS-AR</td><td>368</td><td>167</td><td>47167</td><td>47</td><td>167</td><td>000</td><td>1</td><td>1</td><td>2</td><td>2</td><td>2</td><td>2</td><td>1</td><td>2</td><td>2</td><td>2</td><td>2</td><td>2</td><td>2</td><td>2</td><td>1</td><td>0</td><td>0</td><td>0</td><td>0</td><td>NULL</td><td>NULL</td><td>NULL</td><td>NULL</td><td>NULL</td><td>NULL</td><td>NULL</td><td>NULL</td><td>NULL</td><td>NULL</td><td>NULL</td><td>NULL</td><td>NULL</td><td>NULL</td><td>NULL</td><td>NULL</td><td>NULL</td><td>NULL</td><td>NULL</td><td>NULL</td><td>NULL</td><td>NULL</td><td>NULL</td><td>NULL</td><td>NULL</td><td>NULL</td><td>NULL</td><td>NULL</td><td>NULL</td><td>NULL</td><td>NULL</td><td>NULL</td><td>NULL</td><td>NULL</td><td>NULL</td><td>NULL</td><td>NULL</td><td>NULL</td><td>NULL</td><td>NULL</td><td>NULL</td><td>NULL</td><td>NULL</td><td>0</td><td>0</td><td>0</td><td>NULL</td><td>NULL</td><td>NULL</td><td>NULL</td><td>NULL</td><td>NULL</td><td>NULL</td><td>NULL</td><td>NULL</td><td>NULL</td><td>NULL</td><td>NULL</td><td>NULL</td><td>NULL</td><td>NULL</td><td>0</td><td>NULL</td><td>0</td><td>0</td><td>1</td><td>2</td><td>NULL</td><td>NULL</td><td>NULL</td><td>NULL</td><td>NULL</td><td>NULL</td><td>NULL</td><td>NULL</td><td>NULL</td><td>NULL</td><td>NULL</td><td>NULL</td><td>NULL</td><td>0</td><td>1</td><td>0</td><td>1</td><td>2</td><td>2</td><td>2</td><td>2</td><td>2</td><td>2</td><td>3</td><td>2</td><td>2</td><td>1</td><td>1</td><td>NULL</td><td>0</td></tr>",
                            "<tr><td>6520035</td><td>52</td><td>2018-07-01 00:00:00.000</td><td>2019-06-30 00:00:00.000</td><td>365</td><td>1</td><td>2019-07-01 00:00:00.000</td><td>16</td><td>10</td><td>NULL</td><td>0</td><td>44037</td><td>Jackson, TN</td><td>374</td><td>Jackson, TN</td><td>1</td><td>West Tennessee Healthcare Bolivar Hospital</td><td>Ruby Kirby, Chief Executive Officer</td><td>650 Nuckolls Road</td><td>Bolivar</td><td>52</td><td>38008-1532</td><td>TN</td><td>731</td><td>6583100</td><td>1</td><td>1</td><td>1</td><td>1</td><td>0</td><td>0</td><td>NULL</td><td>NULL</td><td>NULL</td><td>1</td><td>Vizient, Inc.</td><td>Irving</td><td>TX</td><td>1</td><td>Cardinal Health, Inc.</td><td>0</td><td>0</td><td>0</td><td>NULL</td><td>NULL</td><td>NULL</td><td>0</td><td>NULL</td><td>NULL</td><td>NULL</td><td>NULL</td><td>NULL</td><td>NULL</td><td>NULL</td><td>NULL</td><td>1</td><td>0004</td><td>West Tennessee Healthcare</td><td>620 Skyline Drive</td><td>Jackson</td><td>TN</td><td>38301-3923</td><td>731</td><td>5415000</td><td>Mr. James E. Ross</td><td>President and Chief Executive Officer</td><td>Y</td><td>441320</td><td>35.2668</td><td>-88.9997</td><td>Hardeman, TN</td><td>NULL</td><td>Rural</td><td>00000</td><td>NULL</td><td>NULL</td><td>NULL</td><td>NULL</td><td>069</td><td>47069</td><td>47</td><td>069</td><td>000</td><td>1</td><td>2</td><td>2</td><td>2</td><td>2</td><td>2</td><td>1</td><td>2</td><td>2</td><td>1</td><td>2</td><td>2</td><td>2</td><td>2</td><td>1</td><td>0</td><td>0</td><td>0</td><td>0</td><td>NULL</td><td>NULL</td><td>NULL</td><td>NULL</td><td>NULL</td><td>NULL</td><td>NULL</td><td>NULL</td><td>NULL</td><td>NULL</td><td>NULL</td><td>NULL</td><td>NULL</td><td>NULL</td><td>NULL</td><td>NULL</td><td>NULL</td><td>NULL</td><td>NULL</td><td>NULL</td><td>NULL</td><td>NULL</td><td>NULL</td><td>NULL</td><td>NULL</td><td>NULL</td><td>NULL</td><td>NULL</td><td>NULL</td><td>NULL</td><td>NULL</td><td>NULL</td><td>NULL</td><td>NULL</td><td>NULL</td><td>NULL</td><td>NULL</td><td>NULL</td><td>NULL</td><td>NULL</td><td>NULL</td><td>NULL</td><td>NULL</td><td>0</td><td>0</td><td>0</td><td>NULL</td><td>NULL</td><td>NULL</td><td>NULL</td><td>NULL</td><td>NULL</td><td>NULL</td><td>NULL</td><td>NULL</td><td>NULL</td><td>NULL</td><td>NULL</td><td>NULL</td><td>NULL</td><td>NULL</td><td>0</td><td>NULL</td><td>0</td><td>0</td><td>1</td><td>2</td><td>NULL</td><td>NULL</td><td>NULL</td><td>NULL</td><td>NULL</td><td>NULL</td><td>NULL</td><td>NULL</td><td>NULL</td><td>NULL</td><td>NULL</td><td>NULL</td><td>NULL</td><td>0</td><td>1</td><td>1</td><td>1</td><td>3</td><td>3</td><td>3</td><td>3</td><td>2</td><td>2</td><td>3</td><td>3</td><td>2</td><td>1</td><td>1</td><td>NULL</td><td>0</td></tr>",
                            "<tr><td>6520254</td><td>52</td><td>2018-07-01 00:00:00.000</td><td>2019-06-30 00:00:00.000</td><td>365</td><td>1</td><td>2019-07-01 00:00:00.000</td><td>16</td><td>10</td><td>NULL</td><td>0</td><td>44020</td><td>Dyersburg, TN</td><td>379</td><td>Memphis, TN</td><td>1</td><td>West Tennessee Healthcare Dyersburg Hospital</td><td>Scott Barber, Interim Chief Executive Officer</td><td>400 East Tickle Street</td><td>Dyersburg</td><td>52</td><td>38024-3120</td><td>TN</td><td>731</td><td>2852410</td><td>1</td><td>1</td><td>4</td><td>1</td><td>0</td><td>0</td><td>NULL</td><td>NULL</td><td>NULL</td><td>1</td><td>Vizient, Inc.</td><td>Irving</td><td>TX</td><td>1</td><td>Cardinal Health, Inc.</td><td>0</td><td>0</td><td>0</td><td>NULL</td><td>NULL</td><td>NULL</td><td>0</td><td>NULL</td><td>NULL</td><td>NULL</td><td>NULL</td><td>NULL</td><td>NULL</td><td>NULL</td><td>NULL</td><td>1</td><td>0004</td><td>West Tennessee Healthcare</td><td>620 Skyline Drive</td><td>Jackson</td><td>TN</td><td>38301-3923</td><td>731</td><td>5415000</td><td>Mr. James E. Ross</td><td>President and Chief Executive Officer</td><td>Y</td><td>440072</td><td>36.048</td><td>-89.3799</td><td>Dyer, TN</td><td>Dyersburg, TN</td><td>Micro</td><td>20540</td><td>NULL</td><td>NULL</td><td>NULL</td><td>NULL</td><td>045</td><td>47045</td><td>47</td><td>045</td><td>000</td><td>1</td><td>2</td><td>2</td><td>2</td><td>2</td><td>2</td><td>1</td><td>2</td><td>2</td><td>2</td><td>2</td><td>1</td><td>2</td><td>2</td><td>1</td><td>0</td><td>0</td><td>0</td><td>0</td><td>NULL</td><td>NULL</td><td>NULL</td><td>NULL</td><td>NULL</td><td>NULL</td><td>NULL</td><td>NULL</td><td>NULL</td><td>NULL</td><td>NULL</td><td>NULL</td><td>NULL</td><td>NULL</td><td>NULL</td><td>NULL</td><td>NULL</td><td>NULL</td><td>NULL</td><td>NULL</td><td>NULL</td><td>NULL</td><td>NULL</td><td>NULL</td><td>NULL</td><td>NULL</td><td>NULL</td><td>NULL</td><td>NULL</td><td>NULL</td><td>NULL</td><td>NULL</td><td>NULL</td><td>NULL</td><td>NULL</td><td>NULL</td><td>NULL</td><td>NULL</td><td>NULL</td><td>NULL</td><td>NULL</td><td>NULL</td><td>NULL</td><td>0</td><td>0</td><td>0</td><td>NULL</td><td>NULL</td><td>NULL</td><td>NULL</td><td>NULL</td><td>NULL</td><td>NULL</td><td>NULL</td><td>NULL</td><td>NULL</td><td>NULL</td><td>NULL</td><td>NULL</td><td>NULL</td><td>NULL</td><td>0</td><td>NULL</td><td>0</td><td>0</td><td>1</td><td>2</td><td>NULL</td><td>NULL</td><td>NULL</td><td>NULL</td><td>NULL</td><td>NULL</td><td>NULL</td><td>NULL</td><td>NULL</td><td>NULL</td><td>NULL</td><td>NULL</td><td>NULL</td><td>0</td><td>1</td><td>1</td><td>1</td><td>3</td><td>3</td><td>3</td><td>3</td><td>2</td><td>2</td><td>3</td><td>3</td><td>2</td><td>1</td><td>1</td><td>NULL</td><td>0</td></tr>",
                            "<tr><td>6520030</td><td>52</td><td>NULL</td><td>NULL</td><td>0</td><td>NULL</td><td>NULL</td><td>12</td><td>22</td><td>NULL</td><td>NULL</td><td>44037</td><td>Jackson, TN</td><td>374</td><td>Jackson, TN</td><td>2</td><td>Western Mental Health Institute</td><td>Josh Carter, Chief Executive Officer</td><td>11100 Old Highway 64, West</td><td>Bolivar</td><td>52</td><td>38008-1554</td><td>TN</td><td>731</td><td>2282000</td><td>2</td><td>2</td><td>4</td><td>NULL</td><td>NULL</td><td>NULL</td><td>NULL</td><td>NULL</td><td>NULL</td><td>NULL</td><td>NULL</td><td>NULL</td><td>NULL</td><td>NULL</td><td>NULL</td><td>NULL</td><td>NULL</td><td>NULL</td><td>NULL</td><td>NULL</td><td>NULL</td><td>NULL</td><td>NULL</td><td>NULL</td><td>NULL</td><td>NULL</td><td>NULL</td><td>NULL</td><td>NULL</td><td>NULL</td><td>NULL</td><td>NULL</td><td>NULL</td><td>NULL</td><td>NULL</td><td>NULL</td><td>NULL</td><td>NULL</td><td>NULL</td><td>NULL</td><td>NULL</td><td>N</td><td>444008</td><td>35.2764</td><td>-89.0279</td><td>Hardeman, TN</td><td>NULL</td><td>Rural</td><td>00000</td><td>NULL</td><td>NULL</td><td>NULL</td><td>NULL</td><td>069</td><td>47069</td><td>47</td><td>069</td><td>000</td><td>1</td><td>2</td><td>2</td><td>2</td><td>2</td><td>2</td><td>1</td><td>2</td><td>2</td><td>2</td><td>2</td><td>2</td><td>2</td><td>2</td><td>0</td><td>0</td><td>NULL</td><td>NULL</td><td>NULL</td><td>NULL</td><td>NULL</td><td>NULL</td><td>NULL</td><td>NULL</td><td>NULL</td><td>NULL</td><td>NULL</td><td>NULL</td><td>NULL</td><td>NULL</td><td>NULL</td><td>NULL</td><td>NULL</td><td>NULL</td><td>NULL</td><td>NULL</td><td>NULL</td><td>NULL</td><td>NULL</td><td>NULL</td><td>NULL</td><td>NULL</td><td>NULL</td><td>NULL</td><td>NULL</td><td>NULL</td><td>NULL</td><td>NULL</td><td>NULL</td><td>NULL</td><td>NULL</td><td>NULL</td><td>NULL</td><td>NULL</td><td>NULL</td><td>NULL</td><td>NULL</td><td>NULL</td><td>NULL</td><td>NULL</td><td>NULL</td><td>NULL</td><td>NULL</td><td>NULL</td><td>NULL</td><td>NULL</td><td>NULL</td><td>NULL</td><td>NULL</td><td>NULL</td><td>NULL</td><td>NULL</td><td>NULL</td><td>NULL</td><td>NULL</td><td>NULL</td><td>NULL</td><td>NULL</td><td>NULL</td><td>NULL</td><td>NULL</td><td>NULL</td><td>NULL</td><td>NULL</td><td>NULL</td><td>NULL</td><td>NULL</td><td>NULL</td><td>NULL</td><td>NULL</td><td>NULL</td><td>NULL</td><td>NULL</td><td>NULL</td><td>NULL</td><td>NULL</td><td>NULL</td><td>NULL</td><td>NULL</td><td>NULL</td><td>NULL</td><td>NULL</td><td>NULL</td><td>NULL</td><td>NULL</td><td>NULL</td><td>NULL</td><td>NULL</td><td>NULL</td><td>NULL</td><td>NULL</td><td>NULL</td><td>NULL</td><td>NULL</td><td>NULL</td><td>NULL</td></tr>",
                            "</table>"
                        ]
                    }
                }
            ],
            "execution_count": 4
        },
        {
            "cell_type": "code",
            "source": [
                "--Step 5: Let's take a look at our duplicates\r\n",
                "select *\r\n",
                "into #Step5\r\n",
                "from #step1\r\n",
                "where Hospital in\r\n",
                "(\r\n",
                "select Hospital\r\n",
                "from\r\n",
                "(\r\n",
                "Select Hospital, count(Hospital) as rowz\r\n",
                " From #step1\r\n",
                " Group by Hospital\r\n",
                " )A\r\n",
                "Where  rowz>1\r\n",
                " );\r\n",
                "\r\n",
                " select * from #Step5\r\n",
                "\r\n",
                " DELETE FROM #Step5 WHERE MNAME in\r\n",
                " ('Central State Hospital','Western Mental Health Institute','Beacon Children''s Hospital');\r\n",
                "\r\n",
                " select * from #Step5"
            ],
            "metadata": {
                "azdata_cell_guid": "d69181b8-cc11-437d-b9f3-a7ca153f4d94"
            },
            "outputs": [
                {
                    "output_type": "display_data",
                    "data": {
                        "text/html": "(6 rows affected)"
                    },
                    "metadata": {}
                },
                {
                    "output_type": "display_data",
                    "data": {
                        "text/html": "(6 rows affected)"
                    },
                    "metadata": {}
                },
                {
                    "output_type": "display_data",
                    "data": {
                        "text/html": "(3 rows affected)"
                    },
                    "metadata": {}
                },
                {
                    "output_type": "display_data",
                    "data": {
                        "text/html": "(3 rows affected)"
                    },
                    "metadata": {}
                },
                {
                    "output_type": "display_data",
                    "data": {
                        "text/html": "Total execution time: 00:00:00.068"
                    },
                    "metadata": {}
                },
                {
                    "output_type": "execute_result",
                    "metadata": {},
                    "execution_count": 5,
                    "data": {
                        "application/vnd.dataresource+json": {
                            "schema": {
                                "fields": [
                                    {
                                        "name": "Hospital"
                                    },
                                    {
                                        "name": "City"
                                    },
                                    {
                                        "name": "State"
                                    },
                                    {
                                        "name": "Closed_Open"
                                    },
                                    {
                                        "name": "Inpatient_Beds"
                                    },
                                    {
                                        "name": "Total_Expenses"
                                    },
                                    {
                                        "name": "Patient_Services_Margin"
                                    },
                                    {
                                        "name": "Total_Margin"
                                    },
                                    {
                                        "name": "ID"
                                    },
                                    {
                                        "name": "MSTATE"
                                    },
                                    {
                                        "name": "MLOCCITY"
                                    },
                                    {
                                        "name": "MNAME"
                                    }
                                ]
                            },
                            "data": [
                                {
                                    "0": "Navicent Health Baldwin",
                                    "1": "Milledgeville",
                                    "2": "GA",
                                    "3": "Open",
                                    "4": "140",
                                    "5": "55802495.0000",
                                    "6": "-11.00%",
                                    "7": "-9.60%",
                                    "8": "6380805",
                                    "9": "GA",
                                    "10": "Milledgeville",
                                    "11": "Navicent Health Baldwin"
                                },
                                {
                                    "0": "Navicent Health Baldwin",
                                    "1": "Milledgeville",
                                    "2": "GA",
                                    "3": "Open",
                                    "4": "140",
                                    "5": "55802495.0000",
                                    "6": "-11.00%",
                                    "7": "-9.60%",
                                    "8": "6380810",
                                    "9": "GA",
                                    "10": "Milledgeville",
                                    "11": "Central State Hospital"
                                },
                                {
                                    "0": "Bolivar General Hospital",
                                    "1": "Bolivar",
                                    "2": "TN",
                                    "3": "Open",
                                    "4": "25",
                                    "5": "7231050.0000",
                                    "6": "-11.40%",
                                    "7": "-11.20%",
                                    "8": "6520030",
                                    "9": "TN",
                                    "10": "Bolivar",
                                    "11": "Western Mental Health Institute"
                                },
                                {
                                    "0": "Bolivar General Hospital",
                                    "1": "Bolivar",
                                    "2": "TN",
                                    "3": "Open",
                                    "4": "25",
                                    "5": "7231050.0000",
                                    "6": "-11.40%",
                                    "7": "-11.20%",
                                    "8": "6520035",
                                    "9": "TN",
                                    "10": "Bolivar",
                                    "11": "West Tennessee Healthcare Bolivar Hospital"
                                },
                                {
                                    "0": "Crenshaw Community Hospital",
                                    "1": "Luverne",
                                    "2": "AL",
                                    "3": "Open",
                                    "4": "65",
                                    "5": "12510622.0000",
                                    "6": "-16.60%",
                                    "7": "-11.70%",
                                    "8": "6530210",
                                    "9": "AL",
                                    "10": "Luverne",
                                    "11": "Beacon Children's Hospital"
                                },
                                {
                                    "0": "Crenshaw Community Hospital",
                                    "1": "Luverne",
                                    "2": "AL",
                                    "3": "Open",
                                    "4": "65",
                                    "5": "12510622.0000",
                                    "6": "-16.60%",
                                    "7": "-11.70%",
                                    "8": "6530585",
                                    "9": "AL",
                                    "10": "Luverne",
                                    "11": "Crenshaw Community Hospital"
                                }
                            ]
                        },
                        "text/html": [
                            "<table>",
                            "<tr><th>Hospital</th><th>City</th><th>State</th><th>Closed_Open</th><th>Inpatient_Beds</th><th>Total_Expenses</th><th>Patient_Services_Margin</th><th>Total_Margin</th><th>ID</th><th>MSTATE</th><th>MLOCCITY</th><th>MNAME</th></tr>",
                            "<tr><td>Navicent Health Baldwin</td><td>Milledgeville</td><td>GA</td><td>Open</td><td>140</td><td>55802495.0000</td><td>-11.00%</td><td>-9.60%</td><td>6380805</td><td>GA</td><td>Milledgeville</td><td>Navicent Health Baldwin</td></tr>",
                            "<tr><td>Navicent Health Baldwin</td><td>Milledgeville</td><td>GA</td><td>Open</td><td>140</td><td>55802495.0000</td><td>-11.00%</td><td>-9.60%</td><td>6380810</td><td>GA</td><td>Milledgeville</td><td>Central State Hospital</td></tr>",
                            "<tr><td>Bolivar General Hospital</td><td>Bolivar</td><td>TN</td><td>Open</td><td>25</td><td>7231050.0000</td><td>-11.40%</td><td>-11.20%</td><td>6520030</td><td>TN</td><td>Bolivar</td><td>Western Mental Health Institute</td></tr>",
                            "<tr><td>Bolivar General Hospital</td><td>Bolivar</td><td>TN</td><td>Open</td><td>25</td><td>7231050.0000</td><td>-11.40%</td><td>-11.20%</td><td>6520035</td><td>TN</td><td>Bolivar</td><td>West Tennessee Healthcare Bolivar Hospital</td></tr>",
                            "<tr><td>Crenshaw Community Hospital</td><td>Luverne</td><td>AL</td><td>Open</td><td>65</td><td>12510622.0000</td><td>-16.60%</td><td>-11.70%</td><td>6530210</td><td>AL</td><td>Luverne</td><td>Beacon Children's Hospital</td></tr>",
                            "<tr><td>Crenshaw Community Hospital</td><td>Luverne</td><td>AL</td><td>Open</td><td>65</td><td>12510622.0000</td><td>-16.60%</td><td>-11.70%</td><td>6530585</td><td>AL</td><td>Luverne</td><td>Crenshaw Community Hospital</td></tr>",
                            "</table>"
                        ]
                    }
                },
                {
                    "output_type": "execute_result",
                    "metadata": {},
                    "execution_count": 5,
                    "data": {
                        "application/vnd.dataresource+json": {
                            "schema": {
                                "fields": [
                                    {
                                        "name": "Hospital"
                                    },
                                    {
                                        "name": "City"
                                    },
                                    {
                                        "name": "State"
                                    },
                                    {
                                        "name": "Closed_Open"
                                    },
                                    {
                                        "name": "Inpatient_Beds"
                                    },
                                    {
                                        "name": "Total_Expenses"
                                    },
                                    {
                                        "name": "Patient_Services_Margin"
                                    },
                                    {
                                        "name": "Total_Margin"
                                    },
                                    {
                                        "name": "ID"
                                    },
                                    {
                                        "name": "MSTATE"
                                    },
                                    {
                                        "name": "MLOCCITY"
                                    },
                                    {
                                        "name": "MNAME"
                                    }
                                ]
                            },
                            "data": [
                                {
                                    "0": "Navicent Health Baldwin",
                                    "1": "Milledgeville",
                                    "2": "GA",
                                    "3": "Open",
                                    "4": "140",
                                    "5": "55802495.0000",
                                    "6": "-11.00%",
                                    "7": "-9.60%",
                                    "8": "6380805",
                                    "9": "GA",
                                    "10": "Milledgeville",
                                    "11": "Navicent Health Baldwin"
                                },
                                {
                                    "0": "Bolivar General Hospital",
                                    "1": "Bolivar",
                                    "2": "TN",
                                    "3": "Open",
                                    "4": "25",
                                    "5": "7231050.0000",
                                    "6": "-11.40%",
                                    "7": "-11.20%",
                                    "8": "6520035",
                                    "9": "TN",
                                    "10": "Bolivar",
                                    "11": "West Tennessee Healthcare Bolivar Hospital"
                                },
                                {
                                    "0": "Crenshaw Community Hospital",
                                    "1": "Luverne",
                                    "2": "AL",
                                    "3": "Open",
                                    "4": "65",
                                    "5": "12510622.0000",
                                    "6": "-16.60%",
                                    "7": "-11.70%",
                                    "8": "6530585",
                                    "9": "AL",
                                    "10": "Luverne",
                                    "11": "Crenshaw Community Hospital"
                                }
                            ]
                        },
                        "text/html": [
                            "<table>",
                            "<tr><th>Hospital</th><th>City</th><th>State</th><th>Closed_Open</th><th>Inpatient_Beds</th><th>Total_Expenses</th><th>Patient_Services_Margin</th><th>Total_Margin</th><th>ID</th><th>MSTATE</th><th>MLOCCITY</th><th>MNAME</th></tr>",
                            "<tr><td>Navicent Health Baldwin</td><td>Milledgeville</td><td>GA</td><td>Open</td><td>140</td><td>55802495.0000</td><td>-11.00%</td><td>-9.60%</td><td>6380805</td><td>GA</td><td>Milledgeville</td><td>Navicent Health Baldwin</td></tr>",
                            "<tr><td>Bolivar General Hospital</td><td>Bolivar</td><td>TN</td><td>Open</td><td>25</td><td>7231050.0000</td><td>-11.40%</td><td>-11.20%</td><td>6520035</td><td>TN</td><td>Bolivar</td><td>West Tennessee Healthcare Bolivar Hospital</td></tr>",
                            "<tr><td>Crenshaw Community Hospital</td><td>Luverne</td><td>AL</td><td>Open</td><td>65</td><td>12510622.0000</td><td>-16.60%</td><td>-11.70%</td><td>6530585</td><td>AL</td><td>Luverne</td><td>Crenshaw Community Hospital</td></tr>",
                            "</table>"
                        ]
                    }
                }
            ],
            "execution_count": 5
        },
        {
            "cell_type": "code",
            "source": [
                "-- Step 6: concatenate-->#Step2,#Step5\r\n",
                "  select distinct *\r\n",
                " into #at_risk\r\n",
                " from\r\n",
                " (\r\n",
                " select * from #Step2\r\n",
                " union all\r\n",
                " select * from #Step5\r\n",
                " )A;\r\n",
                " --45 at risk hospitals in analyses\r\n",
                "\r\n",
                " select * from #at_risk\r\n",
                ""
            ],
            "metadata": {
                "azdata_cell_guid": "9e1373b3-a907-4ec6-a25b-28f9eb103c0b"
            },
            "outputs": [
                {
                    "output_type": "display_data",
                    "data": {
                        "text/html": "(45 rows affected)"
                    },
                    "metadata": {}
                },
                {
                    "output_type": "display_data",
                    "data": {
                        "text/html": "(45 rows affected)"
                    },
                    "metadata": {}
                },
                {
                    "output_type": "display_data",
                    "data": {
                        "text/html": "Total execution time: 00:00:00.112"
                    },
                    "metadata": {}
                },
                {
                    "output_type": "execute_result",
                    "metadata": {},
                    "execution_count": 6,
                    "data": {
                        "application/vnd.dataresource+json": {
                            "schema": {
                                "fields": [
                                    {
                                        "name": "Hospital"
                                    },
                                    {
                                        "name": "City"
                                    },
                                    {
                                        "name": "State"
                                    },
                                    {
                                        "name": "Closed_Open"
                                    },
                                    {
                                        "name": "Inpatient_Beds"
                                    },
                                    {
                                        "name": "Total_Expenses"
                                    },
                                    {
                                        "name": "Patient_Services_Margin"
                                    },
                                    {
                                        "name": "Total_Margin"
                                    },
                                    {
                                        "name": "ID"
                                    },
                                    {
                                        "name": "MSTATE"
                                    },
                                    {
                                        "name": "MLOCCITY"
                                    },
                                    {
                                        "name": "MNAME"
                                    }
                                ]
                            },
                            "data": [
                                {
                                    "0": "Baptist Medical Center-Leake",
                                    "1": "Carthage",
                                    "2": "MS",
                                    "3": "Open",
                                    "4": "25",
                                    "5": "20869601.0000",
                                    "6": "-16.20%",
                                    "7": "-9.50%",
                                    "8": "6540123",
                                    "9": "MS",
                                    "10": "Carthage",
                                    "11": "Baptist Medical Center Leake"
                                },
                                {
                                    "0": "Baptist Medical Center-Yazoo",
                                    "1": "Yazoo City",
                                    "2": "MS",
                                    "3": "Open",
                                    "4": "35",
                                    "5": "17474180.0000",
                                    "6": "-22.90%",
                                    "7": "-19.20%",
                                    "8": "6540930",
                                    "9": "MS",
                                    "10": "Yazoo City",
                                    "11": "Baptist Medical Center Yazoo"
                                },
                                {
                                    "0": "Baptist Memorial Hospital - Carroll County",
                                    "1": "Huntingdon",
                                    "2": "TN",
                                    "3": "Open",
                                    "4": "70",
                                    "5": "22663342.0000",
                                    "6": "-20.70%",
                                    "7": "-21.20%",
                                    "8": "6529075",
                                    "9": "TN",
                                    "10": "Huntingdon",
                                    "11": "Baptist Memorial Hospital-Carroll County"
                                },
                                {
                                    "0": "Big South Fork Medical Center",
                                    "1": "Oneida",
                                    "2": "TN",
                                    "3": "Open",
                                    "4": "25",
                                    "5": "9045435.0000",
                                    "6": "-33.90%",
                                    "7": "-32.90%",
                                    "8": "6529209",
                                    "9": "TN",
                                    "10": "Oneida",
                                    "11": "Big South Fork Medical Center"
                                },
                                {
                                    "0": "Bmh-Calhoun",
                                    "1": "Calhoun City",
                                    "2": "MS",
                                    "3": "Open",
                                    "4": "30",
                                    "5": "19501793.0000",
                                    "6": "-6.40%",
                                    "7": "-10.20%",
                                    "8": "6540116",
                                    "9": "MS",
                                    "10": "Calhoun City",
                                    "11": "Baptist Memorial Hospital - Calhoun"
                                },
                                {
                                    "0": "Bolivar General Hospital",
                                    "1": "Bolivar",
                                    "2": "TN",
                                    "3": "Open",
                                    "4": "25",
                                    "5": "7231050.0000",
                                    "6": "-11.40%",
                                    "7": "-11.20%",
                                    "8": "6520035",
                                    "9": "TN",
                                    "10": "Bolivar",
                                    "11": "West Tennessee Healthcare Bolivar Hospital"
                                },
                                {
                                    "0": "Citizens Baptist Medical Center",
                                    "1": "Talladega",
                                    "2": "AL",
                                    "3": "Open",
                                    "4": "122",
                                    "5": "32585237.0000",
                                    "6": "-16.90%",
                                    "7": "-10.00%",
                                    "8": "6530910",
                                    "9": "AL",
                                    "10": "Talladega",
                                    "11": "Citizens Baptist Medical Center"
                                },
                                {
                                    "0": "Claiborne Medical Center",
                                    "1": "Tazewell",
                                    "2": "TN",
                                    "3": "Open",
                                    "4": "85",
                                    "5": "30558422.0000",
                                    "6": "-10.20%",
                                    "7": "-13.00%",
                                    "8": "6521222",
                                    "9": "TN",
                                    "10": "Tazewell",
                                    "11": "Claiborne Medical Center"
                                },
                                {
                                    "0": "Crenshaw Community Hospital",
                                    "1": "Luverne",
                                    "2": "AL",
                                    "3": "Open",
                                    "4": "65",
                                    "5": "12510622.0000",
                                    "6": "-16.60%",
                                    "7": "-11.70%",
                                    "8": "6530585",
                                    "9": "AL",
                                    "10": "Luverne",
                                    "11": "Crenshaw Community Hospital"
                                },
                                {
                                    "0": "Floyd Cherokee Medical Center",
                                    "1": "Centre",
                                    "2": "AL",
                                    "3": "Open",
                                    "4": "60",
                                    "5": "12372049.0000",
                                    "6": "-19.50%",
                                    "7": "-22.50%",
                                    "8": "6530313",
                                    "9": "AL",
                                    "10": "Centre",
                                    "11": "Floyd Cherokee Medical Center"
                                },
                                {
                                    "0": "Greenwood Leflore Hospital",
                                    "1": "Greenwood",
                                    "2": "MS",
                                    "3": "Open",
                                    "4": "244",
                                    "5": "116094344.0000",
                                    "6": "5.40%",
                                    "7": "-10.50%",
                                    "8": "6540280",
                                    "9": "MS",
                                    "10": "Greenwood",
                                    "11": "Greenwood Leflore Hospital"
                                },
                                {
                                    "0": "Hawkins County Memorial Hospital",
                                    "1": "Rogersville",
                                    "2": "TN",
                                    "3": "Open",
                                    "4": "50",
                                    "5": "16546050.0000",
                                    "6": "-4.00%",
                                    "7": "-14.00%",
                                    "8": "6521158",
                                    "9": "TN",
                                    "10": "Rogersville",
                                    "11": "Hawkins County Memorial Hospital"
                                },
                                {
                                    "0": "Henderson County Community Hospital",
                                    "1": "Lexington",
                                    "2": "TN",
                                    "3": "Open",
                                    "4": "45",
                                    "5": "15284911.0000",
                                    "6": "-10.30%",
                                    "7": "-16.60%",
                                    "8": "6520647",
                                    "9": "TN",
                                    "10": "Lexington",
                                    "11": "Henderson County Community Hospital"
                                },
                                {
                                    "0": "Highland Community  Hospital",
                                    "1": "Picayune",
                                    "2": "MS",
                                    "3": "Open",
                                    "4": "60",
                                    "5": "47519183.0000",
                                    "6": "-20.40%",
                                    "7": "-28.30%",
                                    "8": "6540730",
                                    "9": "MS",
                                    "10": "Picayune",
                                    "11": "Highland Community Hospital"
                                },
                                {
                                    "0": "Holmes County Hospital And Clinics",
                                    "1": "Lexington",
                                    "2": "MS",
                                    "3": "Open",
                                    "4": "25",
                                    "5": "13550282.0000",
                                    "6": "-27.40%",
                                    "7": "-12.80%",
                                    "8": "6540450",
                                    "9": "MS",
                                    "10": "Lexington",
                                    "11": "University of Mississippi Medical Center Holmes County"
                                },
                                {
                                    "0": "Houston County Community Hospital",
                                    "1": "Erin",
                                    "2": "TN",
                                    "3": "Open",
                                    "4": "25",
                                    "5": "7842867.0000",
                                    "6": "-7.50%",
                                    "7": "-10.80%",
                                    "8": "6529061",
                                    "9": "TN",
                                    "10": "Erin",
                                    "11": "Houston County Community Hospital"
                                },
                                {
                                    "0": "Jackson Medical Center",
                                    "1": "Jackson",
                                    "2": "AL",
                                    "3": "Open",
                                    "4": "35",
                                    "5": "14102912.0000",
                                    "6": "-2.30%",
                                    "7": "-10.30%",
                                    "8": "6530530",
                                    "9": "AL",
                                    "10": "Jackson",
                                    "11": "Jackson Medical Center"
                                },
                                {
                                    "0": "Jefferson County Hospital",
                                    "1": "Fayette",
                                    "2": "MS",
                                    "3": "Open",
                                    "4": "48",
                                    "5": "9603314.0000",
                                    "6": "-4.90%",
                                    "7": "-17.30%",
                                    "8": "6549030",
                                    "9": "MS",
                                    "10": "Fayette",
                                    "11": "Jefferson County Hospital"
                                },
                                {
                                    "0": "Jefferson Davis Community Hospital Cah",
                                    "1": "Prentiss",
                                    "2": "MS",
                                    "3": "Open",
                                    "4": "29",
                                    "5": "14157799.0000",
                                    "6": "-15.50%",
                                    "7": "-15.50%",
                                    "8": "6540752",
                                    "9": "MS",
                                    "10": "Prentiss",
                                    "11": "Jefferson Davis Community Hospital"
                                },
                                {
                                    "0": "Jellico Medical Center, Inc",
                                    "1": "Jellico",
                                    "2": "TN",
                                    "3": "Open",
                                    "4": "54",
                                    "5": "19123076.0000",
                                    "6": "-12.10%",
                                    "7": "-13.20%",
                                    "8": "6520445",
                                    "9": "TN",
                                    "10": "Jellico",
                                    "11": "Jellico Community Hospital"
                                },
                                {
                                    "0": "Jenkins County Medical Center",
                                    "1": "Millen",
                                    "2": "GA",
                                    "3": "Open",
                                    "4": "25",
                                    "5": "6115617.0000",
                                    "6": "-15.50%",
                                    "7": "-9.30%",
                                    "8": "6380850",
                                    "9": "GA",
                                    "10": "Millen",
                                    "11": "Jenkins County Medical Center"
                                },
                                {
                                    "0": "Lakeland Community Hospital",
                                    "1": "Haleyville",
                                    "2": "AL",
                                    "3": "Open",
                                    "4": "49",
                                    "5": "17346114.0000",
                                    "6": "-7.80%",
                                    "7": "-12.70%",
                                    "8": "6534001",
                                    "9": "AL",
                                    "10": "Haleyville",
                                    "11": "Lakeland Community Hospital"
                                },
                                {
                                    "0": "Lawrence Medical Center",
                                    "1": "Moulton",
                                    "2": "AL",
                                    "3": "Open",
                                    "4": "98",
                                    "5": "13037854.0000",
                                    "6": "-8.00%",
                                    "7": "-8.50%",
                                    "8": "6539110",
                                    "9": "AL",
                                    "10": "Moulton",
                                    "11": "Lawrence Medical Center"
                                },
                                {
                                    "0": "Marion General Hospital",
                                    "1": "Columbia",
                                    "2": "MS",
                                    "3": "Open",
                                    "4": "79",
                                    "5": "16248540.0000",
                                    "6": "-19.00%",
                                    "7": "-19.70%",
                                    "8": "6540170",
                                    "9": "MS",
                                    "10": "Columbia",
                                    "11": "Marion General Hospital"
                                },
                                {
                                    "0": "Marion Regional Medical Center",
                                    "1": "Hamilton",
                                    "2": "AL",
                                    "3": "Open",
                                    "4": "57",
                                    "5": "20759633.0000",
                                    "6": "-17.30%",
                                    "7": "-12.80%",
                                    "8": "6530516",
                                    "9": "AL",
                                    "10": "Hamilton",
                                    "11": "North Mississippi Medical Center-Hamilton"
                                },
                                {
                                    "0": "Memorial Hospital And Manor",
                                    "1": "Bainbridge",
                                    "2": "GA",
                                    "3": "Open",
                                    "4": "80",
                                    "5": "47252395.0000",
                                    "6": "-15.60%",
                                    "7": "-18.10%",
                                    "8": "6380298",
                                    "9": "GA",
                                    "10": "Bainbridge",
                                    "11": "Memorial Hospital and Manor"
                                },
                                {
                                    "0": "Monroe Regional Hospital",
                                    "1": "Aberdeen",
                                    "2": "MS",
                                    "3": "Open",
                                    "4": "33",
                                    "5": "28195025.0000",
                                    "6": "-26.20%",
                                    "7": "-11.90%",
                                    "8": "6540010",
                                    "9": "MS",
                                    "10": "Aberdeen",
                                    "11": "Monroe Regional Hospital"
                                },
                                {
                                    "0": "Mountain Lakes Medical Center",
                                    "1": "Clayton",
                                    "2": "GA",
                                    "3": "Open",
                                    "4": "25",
                                    "5": "15066945.0000",
                                    "6": "-15.90%",
                                    "7": "-11.60%",
                                    "8": "6380425",
                                    "9": "GA",
                                    "10": "Clayton",
                                    "11": "Mountain Lakes Medical Center"
                                },
                                {
                                    "0": "Navicent Health Baldwin",
                                    "1": "Milledgeville",
                                    "2": "GA",
                                    "3": "Open",
                                    "4": "140",
                                    "5": "55802495.0000",
                                    "6": "-11.00%",
                                    "7": "-9.60%",
                                    "8": "6380805",
                                    "9": "GA",
                                    "10": "Milledgeville",
                                    "11": "Navicent Health Baldwin"
                                },
                                {
                                    "0": "Newport Medical Center",
                                    "1": "Newport",
                                    "2": "TN",
                                    "3": "Open",
                                    "4": "74",
                                    "5": "36399195.0000",
                                    "6": "-2.00%",
                                    "7": "-8.10%",
                                    "8": "6521072",
                                    "9": "TN",
                                    "10": "Newport",
                                    "11": "Tennova Newport Medical Center"
                                },
                                {
                                    "0": "North Baldwin Infirmary",
                                    "1": "Bay Minette",
                                    "2": "AL",
                                    "3": "Open",
                                    "4": "78",
                                    "5": "40244529.0000",
                                    "6": "-8.30%",
                                    "7": "-14.20%",
                                    "8": "6530116",
                                    "9": "AL",
                                    "10": "Bay Minette",
                                    "11": "North Baldwin Infirmary"
                                },
                                {
                                    "0": "Northwest Medical Center",
                                    "1": "Winfield",
                                    "2": "AL",
                                    "3": "Open",
                                    "4": "71",
                                    "5": "25210308.0000",
                                    "6": "16.10%",
                                    "7": "-14.30%",
                                    "8": "6531027",
                                    "9": "AL",
                                    "10": "Winfield",
                                    "11": "Northwest Medical Center"
                                },
                                {
                                    "0": "Saint Thomas Dekalb Hospital",
                                    "1": "Smithville",
                                    "2": "TN",
                                    "3": "Open",
                                    "4": "71",
                                    "5": "13432145.0000",
                                    "6": "-29.80%",
                                    "7": "-26.40%",
                                    "8": "6529160",
                                    "9": "TN",
                                    "10": "Smithville",
                                    "11": "Saint Thomas DeKalb Hospital"
                                },
                                {
                                    "0": "Saint Thomas Highlands Hospital",
                                    "1": "Sparta",
                                    "2": "TN",
                                    "3": "Open",
                                    "4": "60",
                                    "5": "21942836.0000",
                                    "6": "-19.00%",
                                    "7": "-13.60%",
                                    "8": "6521207",
                                    "9": "TN",
                                    "10": "Sparta",
                                    "11": "Saint Thomas Highlands Hospital"
                                },
                                {
                                    "0": "Saint Thomas River Park Hospital",
                                    "1": "Mc Minnville",
                                    "2": "TN",
                                    "3": "Open",
                                    "4": "152",
                                    "5": "46321651.0000",
                                    "6": "-9.60%",
                                    "7": "-8.20%",
                                    "8": "6520005",
                                    "9": "TN",
                                    "10": "Mc Minnville",
                                    "11": "Saint Thomas River Park Hospital"
                                },
                                {
                                    "0": "Sgmc Berrien Campus",
                                    "1": "Nashville",
                                    "2": "GA",
                                    "3": "Open",
                                    "4": "63",
                                    "5": "9212512.0000",
                                    "6": "-29.50%",
                                    "7": "-17.80%",
                                    "8": "6380901",
                                    "9": "GA",
                                    "10": "Nashville",
                                    "11": "South Georgia Medical Center Berrien Campus"
                                },
                                {
                                    "0": "St Mary's Sacred Heart Hospital, Inc",
                                    "1": "Lavonia",
                                    "2": "GA",
                                    "3": "Open",
                                    "4": "56",
                                    "5": "35329289.0000",
                                    "6": "-1.80%",
                                    "7": "-11.00%",
                                    "8": "6389226",
                                    "9": "GA",
                                    "10": "Lavonia",
                                    "11": "St. Mary's Sacred Heart Hospital"
                                },
                                {
                                    "0": "St Vincent's Chilton",
                                    "1": "Clanton",
                                    "2": "AL",
                                    "3": "Open",
                                    "4": "30",
                                    "5": "23482944.0000",
                                    "6": "-24.00%",
                                    "7": "-11.60%",
                                    "8": "6530431",
                                    "9": "AL",
                                    "10": "Clanton",
                                    "11": "St. Vincent's Chilton Hospital"
                                },
                                {
                                    "0": "Tanner Medical Center-East Alabama",
                                    "1": "Wedowee",
                                    "2": "AL",
                                    "3": "Open",
                                    "4": "15",
                                    "5": "13693653.0000",
                                    "6": "-46.30%",
                                    "7": "-24.40%",
                                    "8": "6539160",
                                    "9": "AL",
                                    "10": "Wedowee",
                                    "11": "Tanner Medical Center/East Alabama"
                                },
                                {
                                    "0": "Tennova Healthcare-Shelbyville",
                                    "1": "Shelbyville",
                                    "2": "TN",
                                    "3": "Open",
                                    "4": "104",
                                    "5": "37489350.0000",
                                    "6": "-2.90%",
                                    "7": "-19.40%",
                                    "8": "6521195",
                                    "9": "TN",
                                    "10": "Shelbyville",
                                    "11": "Tennova Healthcare-Shelbyville"
                                },
                                {
                                    "0": "Tishomingo Health Services Inc",
                                    "1": "Iuka",
                                    "2": "MS",
                                    "3": "Open",
                                    "4": "48",
                                    "5": "15110486.0000",
                                    "6": "-16.90%",
                                    "7": "-13.60%",
                                    "8": "6540359",
                                    "9": "MS",
                                    "10": "Iuka",
                                    "11": "North Mississippi Medical Center-Iuka"
                                },
                                {
                                    "0": "Unicoi County  Hospital",
                                    "1": "Erwin",
                                    "2": "TN",
                                    "3": "Open",
                                    "4": "48",
                                    "5": "12067671.0000",
                                    "6": "-22.50%",
                                    "7": "-24.00%",
                                    "8": "6520270",
                                    "9": "TN",
                                    "10": "Erwin",
                                    "11": "Unicoi County Memorial Hospital"
                                },
                                {
                                    "0": "Webster General Hospital/ Swing Bed",
                                    "1": "Eupora",
                                    "2": "MS",
                                    "3": "Open",
                                    "4": "43",
                                    "5": "23958871.0000",
                                    "6": "-6.90%",
                                    "7": "-8.20%",
                                    "8": "6549040",
                                    "9": "MS",
                                    "10": "Eupora",
                                    "11": "North Mississippi Medical Center-Eupora"
                                },
                                {
                                    "0": "Whitfield Regional Hospital",
                                    "1": "Demopolis",
                                    "2": "AL",
                                    "3": "Open",
                                    "4": "99",
                                    "5": "28402773.0000",
                                    "6": "-10.90%",
                                    "7": "-11.90%",
                                    "8": "6530345",
                                    "9": "AL",
                                    "10": "Demopolis",
                                    "11": "Bryan W. Whitfield Memorial Hospital"
                                },
                                {
                                    "0": "Winston Medical Center & Swingbed",
                                    "1": "Louisville",
                                    "2": "MS",
                                    "3": "Open",
                                    "4": "41",
                                    "5": "28190972.0000",
                                    "6": "-16.30%",
                                    "7": "-9.10%",
                                    "8": "6540455",
                                    "9": "MS",
                                    "10": "Louisville",
                                    "11": "Winston Medical Center"
                                }
                            ]
                        },
                        "text/html": [
                            "<table>",
                            "<tr><th>Hospital</th><th>City</th><th>State</th><th>Closed_Open</th><th>Inpatient_Beds</th><th>Total_Expenses</th><th>Patient_Services_Margin</th><th>Total_Margin</th><th>ID</th><th>MSTATE</th><th>MLOCCITY</th><th>MNAME</th></tr>",
                            "<tr><td>Baptist Medical Center-Leake</td><td>Carthage</td><td>MS</td><td>Open</td><td>25</td><td>20869601.0000</td><td>-16.20%</td><td>-9.50%</td><td>6540123</td><td>MS</td><td>Carthage</td><td>Baptist Medical Center Leake</td></tr>",
                            "<tr><td>Baptist Medical Center-Yazoo</td><td>Yazoo City</td><td>MS</td><td>Open</td><td>35</td><td>17474180.0000</td><td>-22.90%</td><td>-19.20%</td><td>6540930</td><td>MS</td><td>Yazoo City</td><td>Baptist Medical Center Yazoo</td></tr>",
                            "<tr><td>Baptist Memorial Hospital - Carroll County</td><td>Huntingdon</td><td>TN</td><td>Open</td><td>70</td><td>22663342.0000</td><td>-20.70%</td><td>-21.20%</td><td>6529075</td><td>TN</td><td>Huntingdon</td><td>Baptist Memorial Hospital-Carroll County</td></tr>",
                            "<tr><td>Big South Fork Medical Center</td><td>Oneida</td><td>TN</td><td>Open</td><td>25</td><td>9045435.0000</td><td>-33.90%</td><td>-32.90%</td><td>6529209</td><td>TN</td><td>Oneida</td><td>Big South Fork Medical Center</td></tr>",
                            "<tr><td>Bmh-Calhoun</td><td>Calhoun City</td><td>MS</td><td>Open</td><td>30</td><td>19501793.0000</td><td>-6.40%</td><td>-10.20%</td><td>6540116</td><td>MS</td><td>Calhoun City</td><td>Baptist Memorial Hospital - Calhoun</td></tr>",
                            "<tr><td>Bolivar General Hospital</td><td>Bolivar</td><td>TN</td><td>Open</td><td>25</td><td>7231050.0000</td><td>-11.40%</td><td>-11.20%</td><td>6520035</td><td>TN</td><td>Bolivar</td><td>West Tennessee Healthcare Bolivar Hospital</td></tr>",
                            "<tr><td>Citizens Baptist Medical Center</td><td>Talladega</td><td>AL</td><td>Open</td><td>122</td><td>32585237.0000</td><td>-16.90%</td><td>-10.00%</td><td>6530910</td><td>AL</td><td>Talladega</td><td>Citizens Baptist Medical Center</td></tr>",
                            "<tr><td>Claiborne Medical Center</td><td>Tazewell</td><td>TN</td><td>Open</td><td>85</td><td>30558422.0000</td><td>-10.20%</td><td>-13.00%</td><td>6521222</td><td>TN</td><td>Tazewell</td><td>Claiborne Medical Center</td></tr>",
                            "<tr><td>Crenshaw Community Hospital</td><td>Luverne</td><td>AL</td><td>Open</td><td>65</td><td>12510622.0000</td><td>-16.60%</td><td>-11.70%</td><td>6530585</td><td>AL</td><td>Luverne</td><td>Crenshaw Community Hospital</td></tr>",
                            "<tr><td>Floyd Cherokee Medical Center</td><td>Centre</td><td>AL</td><td>Open</td><td>60</td><td>12372049.0000</td><td>-19.50%</td><td>-22.50%</td><td>6530313</td><td>AL</td><td>Centre</td><td>Floyd Cherokee Medical Center</td></tr>",
                            "<tr><td>Greenwood Leflore Hospital</td><td>Greenwood</td><td>MS</td><td>Open</td><td>244</td><td>116094344.0000</td><td>5.40%</td><td>-10.50%</td><td>6540280</td><td>MS</td><td>Greenwood</td><td>Greenwood Leflore Hospital</td></tr>",
                            "<tr><td>Hawkins County Memorial Hospital</td><td>Rogersville</td><td>TN</td><td>Open</td><td>50</td><td>16546050.0000</td><td>-4.00%</td><td>-14.00%</td><td>6521158</td><td>TN</td><td>Rogersville</td><td>Hawkins County Memorial Hospital</td></tr>",
                            "<tr><td>Henderson County Community Hospital</td><td>Lexington</td><td>TN</td><td>Open</td><td>45</td><td>15284911.0000</td><td>-10.30%</td><td>-16.60%</td><td>6520647</td><td>TN</td><td>Lexington</td><td>Henderson County Community Hospital</td></tr>",
                            "<tr><td>Highland Community  Hospital</td><td>Picayune</td><td>MS</td><td>Open</td><td>60</td><td>47519183.0000</td><td>-20.40%</td><td>-28.30%</td><td>6540730</td><td>MS</td><td>Picayune</td><td>Highland Community Hospital</td></tr>",
                            "<tr><td>Holmes County Hospital And Clinics</td><td>Lexington</td><td>MS</td><td>Open</td><td>25</td><td>13550282.0000</td><td>-27.40%</td><td>-12.80%</td><td>6540450</td><td>MS</td><td>Lexington</td><td>University of Mississippi Medical Center Holmes County</td></tr>",
                            "<tr><td>Houston County Community Hospital</td><td>Erin</td><td>TN</td><td>Open</td><td>25</td><td>7842867.0000</td><td>-7.50%</td><td>-10.80%</td><td>6529061</td><td>TN</td><td>Erin</td><td>Houston County Community Hospital</td></tr>",
                            "<tr><td>Jackson Medical Center</td><td>Jackson</td><td>AL</td><td>Open</td><td>35</td><td>14102912.0000</td><td>-2.30%</td><td>-10.30%</td><td>6530530</td><td>AL</td><td>Jackson</td><td>Jackson Medical Center</td></tr>",
                            "<tr><td>Jefferson County Hospital</td><td>Fayette</td><td>MS</td><td>Open</td><td>48</td><td>9603314.0000</td><td>-4.90%</td><td>-17.30%</td><td>6549030</td><td>MS</td><td>Fayette</td><td>Jefferson County Hospital</td></tr>",
                            "<tr><td>Jefferson Davis Community Hospital Cah</td><td>Prentiss</td><td>MS</td><td>Open</td><td>29</td><td>14157799.0000</td><td>-15.50%</td><td>-15.50%</td><td>6540752</td><td>MS</td><td>Prentiss</td><td>Jefferson Davis Community Hospital</td></tr>",
                            "<tr><td>Jellico Medical Center, Inc</td><td>Jellico</td><td>TN</td><td>Open</td><td>54</td><td>19123076.0000</td><td>-12.10%</td><td>-13.20%</td><td>6520445</td><td>TN</td><td>Jellico</td><td>Jellico Community Hospital</td></tr>",
                            "<tr><td>Jenkins County Medical Center</td><td>Millen</td><td>GA</td><td>Open</td><td>25</td><td>6115617.0000</td><td>-15.50%</td><td>-9.30%</td><td>6380850</td><td>GA</td><td>Millen</td><td>Jenkins County Medical Center</td></tr>",
                            "<tr><td>Lakeland Community Hospital</td><td>Haleyville</td><td>AL</td><td>Open</td><td>49</td><td>17346114.0000</td><td>-7.80%</td><td>-12.70%</td><td>6534001</td><td>AL</td><td>Haleyville</td><td>Lakeland Community Hospital</td></tr>",
                            "<tr><td>Lawrence Medical Center</td><td>Moulton</td><td>AL</td><td>Open</td><td>98</td><td>13037854.0000</td><td>-8.00%</td><td>-8.50%</td><td>6539110</td><td>AL</td><td>Moulton</td><td>Lawrence Medical Center</td></tr>",
                            "<tr><td>Marion General Hospital</td><td>Columbia</td><td>MS</td><td>Open</td><td>79</td><td>16248540.0000</td><td>-19.00%</td><td>-19.70%</td><td>6540170</td><td>MS</td><td>Columbia</td><td>Marion General Hospital</td></tr>",
                            "<tr><td>Marion Regional Medical Center</td><td>Hamilton</td><td>AL</td><td>Open</td><td>57</td><td>20759633.0000</td><td>-17.30%</td><td>-12.80%</td><td>6530516</td><td>AL</td><td>Hamilton</td><td>North Mississippi Medical Center-Hamilton</td></tr>",
                            "<tr><td>Memorial Hospital And Manor</td><td>Bainbridge</td><td>GA</td><td>Open</td><td>80</td><td>47252395.0000</td><td>-15.60%</td><td>-18.10%</td><td>6380298</td><td>GA</td><td>Bainbridge</td><td>Memorial Hospital and Manor</td></tr>",
                            "<tr><td>Monroe Regional Hospital</td><td>Aberdeen</td><td>MS</td><td>Open</td><td>33</td><td>28195025.0000</td><td>-26.20%</td><td>-11.90%</td><td>6540010</td><td>MS</td><td>Aberdeen</td><td>Monroe Regional Hospital</td></tr>",
                            "<tr><td>Mountain Lakes Medical Center</td><td>Clayton</td><td>GA</td><td>Open</td><td>25</td><td>15066945.0000</td><td>-15.90%</td><td>-11.60%</td><td>6380425</td><td>GA</td><td>Clayton</td><td>Mountain Lakes Medical Center</td></tr>",
                            "<tr><td>Navicent Health Baldwin</td><td>Milledgeville</td><td>GA</td><td>Open</td><td>140</td><td>55802495.0000</td><td>-11.00%</td><td>-9.60%</td><td>6380805</td><td>GA</td><td>Milledgeville</td><td>Navicent Health Baldwin</td></tr>",
                            "<tr><td>Newport Medical Center</td><td>Newport</td><td>TN</td><td>Open</td><td>74</td><td>36399195.0000</td><td>-2.00%</td><td>-8.10%</td><td>6521072</td><td>TN</td><td>Newport</td><td>Tennova Newport Medical Center</td></tr>",
                            "<tr><td>North Baldwin Infirmary</td><td>Bay Minette</td><td>AL</td><td>Open</td><td>78</td><td>40244529.0000</td><td>-8.30%</td><td>-14.20%</td><td>6530116</td><td>AL</td><td>Bay Minette</td><td>North Baldwin Infirmary</td></tr>",
                            "<tr><td>Northwest Medical Center</td><td>Winfield</td><td>AL</td><td>Open</td><td>71</td><td>25210308.0000</td><td>16.10%</td><td>-14.30%</td><td>6531027</td><td>AL</td><td>Winfield</td><td>Northwest Medical Center</td></tr>",
                            "<tr><td>Saint Thomas Dekalb Hospital</td><td>Smithville</td><td>TN</td><td>Open</td><td>71</td><td>13432145.0000</td><td>-29.80%</td><td>-26.40%</td><td>6529160</td><td>TN</td><td>Smithville</td><td>Saint Thomas DeKalb Hospital</td></tr>",
                            "<tr><td>Saint Thomas Highlands Hospital</td><td>Sparta</td><td>TN</td><td>Open</td><td>60</td><td>21942836.0000</td><td>-19.00%</td><td>-13.60%</td><td>6521207</td><td>TN</td><td>Sparta</td><td>Saint Thomas Highlands Hospital</td></tr>",
                            "<tr><td>Saint Thomas River Park Hospital</td><td>Mc Minnville</td><td>TN</td><td>Open</td><td>152</td><td>46321651.0000</td><td>-9.60%</td><td>-8.20%</td><td>6520005</td><td>TN</td><td>Mc Minnville</td><td>Saint Thomas River Park Hospital</td></tr>",
                            "<tr><td>Sgmc Berrien Campus</td><td>Nashville</td><td>GA</td><td>Open</td><td>63</td><td>9212512.0000</td><td>-29.50%</td><td>-17.80%</td><td>6380901</td><td>GA</td><td>Nashville</td><td>South Georgia Medical Center Berrien Campus</td></tr>",
                            "<tr><td>St Mary's Sacred Heart Hospital, Inc</td><td>Lavonia</td><td>GA</td><td>Open</td><td>56</td><td>35329289.0000</td><td>-1.80%</td><td>-11.00%</td><td>6389226</td><td>GA</td><td>Lavonia</td><td>St. Mary's Sacred Heart Hospital</td></tr>",
                            "<tr><td>St Vincent's Chilton</td><td>Clanton</td><td>AL</td><td>Open</td><td>30</td><td>23482944.0000</td><td>-24.00%</td><td>-11.60%</td><td>6530431</td><td>AL</td><td>Clanton</td><td>St. Vincent's Chilton Hospital</td></tr>",
                            "<tr><td>Tanner Medical Center-East Alabama</td><td>Wedowee</td><td>AL</td><td>Open</td><td>15</td><td>13693653.0000</td><td>-46.30%</td><td>-24.40%</td><td>6539160</td><td>AL</td><td>Wedowee</td><td>Tanner Medical Center/East Alabama</td></tr>",
                            "<tr><td>Tennova Healthcare-Shelbyville</td><td>Shelbyville</td><td>TN</td><td>Open</td><td>104</td><td>37489350.0000</td><td>-2.90%</td><td>-19.40%</td><td>6521195</td><td>TN</td><td>Shelbyville</td><td>Tennova Healthcare-Shelbyville</td></tr>",
                            "<tr><td>Tishomingo Health Services Inc</td><td>Iuka</td><td>MS</td><td>Open</td><td>48</td><td>15110486.0000</td><td>-16.90%</td><td>-13.60%</td><td>6540359</td><td>MS</td><td>Iuka</td><td>North Mississippi Medical Center-Iuka</td></tr>",
                            "<tr><td>Unicoi County  Hospital</td><td>Erwin</td><td>TN</td><td>Open</td><td>48</td><td>12067671.0000</td><td>-22.50%</td><td>-24.00%</td><td>6520270</td><td>TN</td><td>Erwin</td><td>Unicoi County Memorial Hospital</td></tr>",
                            "<tr><td>Webster General Hospital/ Swing Bed</td><td>Eupora</td><td>MS</td><td>Open</td><td>43</td><td>23958871.0000</td><td>-6.90%</td><td>-8.20%</td><td>6549040</td><td>MS</td><td>Eupora</td><td>North Mississippi Medical Center-Eupora</td></tr>",
                            "<tr><td>Whitfield Regional Hospital</td><td>Demopolis</td><td>AL</td><td>Open</td><td>99</td><td>28402773.0000</td><td>-10.90%</td><td>-11.90%</td><td>6530345</td><td>AL</td><td>Demopolis</td><td>Bryan W. Whitfield Memorial Hospital</td></tr>",
                            "<tr><td>Winston Medical Center &amp; Swingbed</td><td>Louisville</td><td>MS</td><td>Open</td><td>41</td><td>28190972.0000</td><td>-16.30%</td><td>-9.10%</td><td>6540455</td><td>MS</td><td>Louisville</td><td>Winston Medical Center</td></tr>",
                            "</table>"
                        ]
                    }
                }
            ],
            "execution_count": 6
        },
        {
            "cell_type": "code",
            "source": [
                "-- Step 7: Identify Hospitals with staffed beds >0 and flag hospital as \"at-risk\" or \"not at-risk\"\r\n",
                "SELECT A.ID\r\n",
                "      ,cast(A.LAT as float) as LAT\r\n",
                "\t  ,cast(A.LONG as float) as LONG\r\n",
                "\t  ,A.MNAME\r\n",
                "      ,C.County_Name,C.State_Name,C.HRSA_RURAL_DESC\r\n",
                "\t  ,case when C.[Median_ADI_NatRank]<=25 then '02: Upper Class'\r\n",
                "\t   when (C.[Median_ADI_NatRank]>25 and C.[Median_ADI_NatRank]<=75) then '01: Middle Class'\r\n",
                "\t   when C.[Median_ADI_NatRank]>75 then '00: Lower Class'\r\n",
                "\t   else '99: Not Ranked' end as [ADI]\r\n",
                "\t  ,isnull(HOSPBD,0)-ISNULL(SNBD88,0) as BEDS_Non_Nursing\r\n",
                "\t  ,isnull(HOSPBD,0) as BEDS\r\n",
                "\t  ,case when A.ID in (select ID from #at_risk) then '01: At Risk Closing'\r\n",
                "\t        else '00: Not At Risk Closing' end as [at_risk]\r\n",
                "INTO #Hospitals\r\n",
                "FROM \r\n",
                "dbo.AS19DEM as A\r\n",
                "left join\r\n",
                "[dbo].[Provider_Census_Tract] as B\r\n",
                "\ton A.ID=B.Provider_ID\r\n",
                "left join \r\n",
                "[dbo].[US_Census_Tract_Charac] as C\r\n",
                "\ton B.GEOID_Data=C.GEOID_Data\r\n",
                "left join\r\n",
                "dbo.as19svc1 as D\r\n",
                "\ton D.ID=A.ID\r\n",
                "--where C.State_Name in ('Alabama','Tennessee','Mississppi','Georgia')\r\n",
                "order by C.State_Name,[at_risk] desc;\r\n",
                "\r\n",
                "--[HOSPBD] -->Total hospital beds (calculated)-->as19svc1\r\n",
                "--[SNBD88] -->Skilled nursing care beds -->as19svc1\r\n",
                "\r\n",
                "select top 10 * from #Hospitals \r\n",
                "order by [at_risk] desc;\r\n",
                "\r\n",
                "select distinct *\r\n",
                "into HCAN361_25.dbo.Hospital_Locs_Group8\r\n",
                "from #Hospitals;\r\n",
                "\r\n",
                "alter table HCAN361_25.dbo.Hospital_Locs_Group8\r\n",
                "alter column ID varchar(30) not null;\r\n",
                "\r\n",
                "alter table HCAN361_25.dbo.Hospital_Locs_Group8\r\n",
                "add constraint pk_prv_Grp8 primary key(ID);"
            ],
            "metadata": {
                "azdata_cell_guid": "c0a34a1c-bd4c-441a-b87d-c4d04d09ae34"
            },
            "outputs": [
                {
                    "output_type": "display_data",
                    "data": {
                        "text/html": "(6162 rows affected)"
                    },
                    "metadata": {}
                },
                {
                    "output_type": "display_data",
                    "data": {
                        "text/html": "(10 rows affected)"
                    },
                    "metadata": {}
                },
                {
                    "output_type": "display_data",
                    "data": {
                        "text/html": "(6162 rows affected)"
                    },
                    "metadata": {}
                },
                {
                    "output_type": "display_data",
                    "data": {
                        "text/html": "Total execution time: 00:00:00.392"
                    },
                    "metadata": {}
                },
                {
                    "output_type": "execute_result",
                    "metadata": {},
                    "execution_count": 7,
                    "data": {
                        "application/vnd.dataresource+json": {
                            "schema": {
                                "fields": [
                                    {
                                        "name": "ID"
                                    },
                                    {
                                        "name": "LAT"
                                    },
                                    {
                                        "name": "LONG"
                                    },
                                    {
                                        "name": "MNAME"
                                    },
                                    {
                                        "name": "County_Name"
                                    },
                                    {
                                        "name": "State_Name"
                                    },
                                    {
                                        "name": "HRSA_RURAL_DESC"
                                    },
                                    {
                                        "name": "ADI"
                                    },
                                    {
                                        "name": "BEDS_Non_Nursing"
                                    },
                                    {
                                        "name": "BEDS"
                                    },
                                    {
                                        "name": "at_risk"
                                    }
                                ]
                            },
                            "data": [
                                {
                                    "0": "6520035",
                                    "1": "35.2668",
                                    "2": "-88.9997",
                                    "3": "West Tennessee Healthcare Bolivar Hospital",
                                    "4": "Hardeman",
                                    "5": "Tennessee",
                                    "6": "01: Rural",
                                    "7": "01: Middle Class",
                                    "8": "12",
                                    "9": "12",
                                    "10": "01: At Risk Closing"
                                },
                                {
                                    "0": "6520647",
                                    "1": "35.6553",
                                    "2": "-88.3986",
                                    "3": "Henderson County Community Hospital",
                                    "4": "Henderson",
                                    "5": "Tennessee",
                                    "6": "01: Rural",
                                    "7": "01: Middle Class",
                                    "8": "45",
                                    "9": "45",
                                    "10": "01: At Risk Closing"
                                },
                                {
                                    "0": "6521195",
                                    "1": "35.5636",
                                    "2": "-86.4488",
                                    "3": "Tennova Healthcare-Shelbyville",
                                    "4": "Bedford",
                                    "5": "Tennessee",
                                    "6": "01: Rural",
                                    "7": "01: Middle Class",
                                    "8": "49",
                                    "9": "49",
                                    "10": "01: At Risk Closing"
                                },
                                {
                                    "0": "6529160",
                                    "1": "35.9615",
                                    "2": "-85.8295",
                                    "3": "Saint Thomas DeKalb Hospital",
                                    "4": "DeKalb",
                                    "5": "Tennessee",
                                    "6": "01: Rural",
                                    "7": "01: Middle Class",
                                    "8": "56",
                                    "9": "56",
                                    "10": "01: At Risk Closing"
                                },
                                {
                                    "0": "6530516",
                                    "1": "34.1268",
                                    "2": "-87.9915",
                                    "3": "North Mississippi Medical Center-Hamilton",
                                    "4": "Marion",
                                    "5": "Alabama",
                                    "6": "01: Rural",
                                    "7": "00: Lower Class",
                                    "8": "15",
                                    "9": "15",
                                    "10": "01: At Risk Closing"
                                },
                                {
                                    "0": "6530530",
                                    "1": "31.5312",
                                    "2": "-87.8951",
                                    "3": "Jackson Medical Center",
                                    "4": "Clarke",
                                    "5": "Alabama",
                                    "6": "01: Rural",
                                    "7": "00: Lower Class",
                                    "8": "26",
                                    "9": "26",
                                    "10": "01: At Risk Closing"
                                },
                                {
                                    "0": "6534001",
                                    "1": "34.2277",
                                    "2": "-87.6214",
                                    "3": "Lakeland Community Hospital",
                                    "4": "Winston",
                                    "5": "Alabama",
                                    "6": "01: Rural",
                                    "7": "01: Middle Class",
                                    "8": "59",
                                    "9": "59",
                                    "10": "01: At Risk Closing"
                                },
                                {
                                    "0": "6540010",
                                    "1": "33.8201",
                                    "2": "-88.5399",
                                    "3": "Monroe Regional Hospital",
                                    "4": "Monroe",
                                    "5": "Mississippi",
                                    "6": "01: Rural",
                                    "7": "00: Lower Class",
                                    "8": "35",
                                    "9": "35",
                                    "10": "01: At Risk Closing"
                                },
                                {
                                    "0": "6540280",
                                    "1": "33.5183",
                                    "2": "-90.1983",
                                    "3": "Greenwood Leflore Hospital",
                                    "4": "Leflore",
                                    "5": "Mississippi",
                                    "6": "01: Rural",
                                    "7": "00: Lower Class",
                                    "8": "208",
                                    "9": "208",
                                    "10": "01: At Risk Closing"
                                },
                                {
                                    "0": "6540359",
                                    "1": "34.802",
                                    "2": "-88.2085",
                                    "3": "North Mississippi Medical Center-Iuka",
                                    "4": "Tishomingo",
                                    "5": "Mississippi",
                                    "6": "01: Rural",
                                    "7": "00: Lower Class",
                                    "8": "48",
                                    "9": "48",
                                    "10": "01: At Risk Closing"
                                }
                            ]
                        },
                        "text/html": [
                            "<table>",
                            "<tr><th>ID</th><th>LAT</th><th>LONG</th><th>MNAME</th><th>County_Name</th><th>State_Name</th><th>HRSA_RURAL_DESC</th><th>ADI</th><th>BEDS_Non_Nursing</th><th>BEDS</th><th>at_risk</th></tr>",
                            "<tr><td>6520035</td><td>35.2668</td><td>-88.9997</td><td>West Tennessee Healthcare Bolivar Hospital</td><td>Hardeman</td><td>Tennessee</td><td>01: Rural</td><td>01: Middle Class</td><td>12</td><td>12</td><td>01: At Risk Closing</td></tr>",
                            "<tr><td>6520647</td><td>35.6553</td><td>-88.3986</td><td>Henderson County Community Hospital</td><td>Henderson</td><td>Tennessee</td><td>01: Rural</td><td>01: Middle Class</td><td>45</td><td>45</td><td>01: At Risk Closing</td></tr>",
                            "<tr><td>6521195</td><td>35.5636</td><td>-86.4488</td><td>Tennova Healthcare-Shelbyville</td><td>Bedford</td><td>Tennessee</td><td>01: Rural</td><td>01: Middle Class</td><td>49</td><td>49</td><td>01: At Risk Closing</td></tr>",
                            "<tr><td>6529160</td><td>35.9615</td><td>-85.8295</td><td>Saint Thomas DeKalb Hospital</td><td>DeKalb</td><td>Tennessee</td><td>01: Rural</td><td>01: Middle Class</td><td>56</td><td>56</td><td>01: At Risk Closing</td></tr>",
                            "<tr><td>6530516</td><td>34.1268</td><td>-87.9915</td><td>North Mississippi Medical Center-Hamilton</td><td>Marion</td><td>Alabama</td><td>01: Rural</td><td>00: Lower Class</td><td>15</td><td>15</td><td>01: At Risk Closing</td></tr>",
                            "<tr><td>6530530</td><td>31.5312</td><td>-87.8951</td><td>Jackson Medical Center</td><td>Clarke</td><td>Alabama</td><td>01: Rural</td><td>00: Lower Class</td><td>26</td><td>26</td><td>01: At Risk Closing</td></tr>",
                            "<tr><td>6534001</td><td>34.2277</td><td>-87.6214</td><td>Lakeland Community Hospital</td><td>Winston</td><td>Alabama</td><td>01: Rural</td><td>01: Middle Class</td><td>59</td><td>59</td><td>01: At Risk Closing</td></tr>",
                            "<tr><td>6540010</td><td>33.8201</td><td>-88.5399</td><td>Monroe Regional Hospital</td><td>Monroe</td><td>Mississippi</td><td>01: Rural</td><td>00: Lower Class</td><td>35</td><td>35</td><td>01: At Risk Closing</td></tr>",
                            "<tr><td>6540280</td><td>33.5183</td><td>-90.1983</td><td>Greenwood Leflore Hospital</td><td>Leflore</td><td>Mississippi</td><td>01: Rural</td><td>00: Lower Class</td><td>208</td><td>208</td><td>01: At Risk Closing</td></tr>",
                            "<tr><td>6540359</td><td>34.802</td><td>-88.2085</td><td>North Mississippi Medical Center-Iuka</td><td>Tishomingo</td><td>Mississippi</td><td>01: Rural</td><td>00: Lower Class</td><td>48</td><td>48</td><td>01: At Risk Closing</td></tr>",
                            "</table>"
                        ]
                    }
                }
            ],
            "execution_count": 7
        },
        {
            "cell_type": "code",
            "source": [
                " -- Step 8: Build Pop Tables\r\n",
                "select A.[GEOID_Data], A.STATEFP+A.COUNTYFP as GEOID_County,\r\n",
                "[State_Name],[County_Name], [HRSA_RURAL_DESC],\r\n",
                "case when [Median_ADI_NatRank]<=25 then '02: Upper Class'\r\n",
                "when ([Median_ADI_NatRank]>25 and [Median_ADI_NatRank]<=75) then '01: Middle Class'\r\n",
                "when [Median_ADI_NatRank]>75 then '00: Lower Class'\r\n",
                "else '99: Not Ranked' end as [ADI],B.B01001e1 as [Total_Pop]\r\n",
                "into #Pop\r\n",
                "from [dbo].[US_Census_Tract_Charac] A\r\n",
                "left join\r\n",
                "[dbo].[Census_ACS5Yr_2018] B\r\n",
                "\ton A.GEOID_Data=B.GEOID_Data\r\n",
                "where State_Name in ('Alabama','Georgia','Mississippi','Tennessee','Florida');\r\n",
                "\r\n",
                "select top 10 *\r\n",
                "from #Pop\r\n",
                ""
            ],
            "metadata": {
                "azdata_cell_guid": "51fdedaf-9c20-490b-855f-eadd1d880db5"
            },
            "outputs": [
                {
                    "output_type": "display_data",
                    "data": {
                        "text/html": "(9556 rows affected)"
                    },
                    "metadata": {}
                },
                {
                    "output_type": "display_data",
                    "data": {
                        "text/html": "(10 rows affected)"
                    },
                    "metadata": {}
                },
                {
                    "output_type": "display_data",
                    "data": {
                        "text/html": "Total execution time: 00:00:00.141"
                    },
                    "metadata": {}
                },
                {
                    "output_type": "execute_result",
                    "metadata": {},
                    "execution_count": 8,
                    "data": {
                        "application/vnd.dataresource+json": {
                            "schema": {
                                "fields": [
                                    {
                                        "name": "GEOID_Data"
                                    },
                                    {
                                        "name": "GEOID_County"
                                    },
                                    {
                                        "name": "State_Name"
                                    },
                                    {
                                        "name": "County_Name"
                                    },
                                    {
                                        "name": "HRSA_RURAL_DESC"
                                    },
                                    {
                                        "name": "ADI"
                                    },
                                    {
                                        "name": "Total_Pop"
                                    }
                                ]
                            },
                            "data": [
                                {
                                    "0": "14000US13121011419",
                                    "1": "13121",
                                    "2": "Georgia",
                                    "3": "Fulton",
                                    "4": "00: Urban",
                                    "5": "02: Upper Class",
                                    "6": "5505.00000000"
                                },
                                {
                                    "0": "14000US13121011422",
                                    "1": "13121",
                                    "2": "Georgia",
                                    "3": "Fulton",
                                    "4": "00: Urban",
                                    "5": "02: Upper Class",
                                    "6": "4026.00000000"
                                },
                                {
                                    "0": "14000US13121011423",
                                    "1": "13121",
                                    "2": "Georgia",
                                    "3": "Fulton",
                                    "4": "00: Urban",
                                    "5": "02: Upper Class",
                                    "6": "5002.00000000"
                                },
                                {
                                    "0": "14000US13121011424",
                                    "1": "13121",
                                    "2": "Georgia",
                                    "3": "Fulton",
                                    "4": "00: Urban",
                                    "5": "02: Upper Class",
                                    "6": "5787.00000000"
                                },
                                {
                                    "0": "14000US13121011425",
                                    "1": "13121",
                                    "2": "Georgia",
                                    "3": "Fulton",
                                    "4": "00: Urban",
                                    "5": "02: Upper Class",
                                    "6": "7031.00000000"
                                },
                                {
                                    "0": "14000US13121011503",
                                    "1": "13121",
                                    "2": "Georgia",
                                    "3": "Fulton",
                                    "4": "00: Urban",
                                    "5": "02: Upper Class",
                                    "6": "11245.00000000"
                                },
                                {
                                    "0": "14000US13121011616",
                                    "1": "13121",
                                    "2": "Georgia",
                                    "3": "Fulton",
                                    "4": "00: Urban",
                                    "5": "01: Middle Class",
                                    "6": "5844.00000000"
                                },
                                {
                                    "0": "14000US13121011620",
                                    "1": "13121",
                                    "2": "Georgia",
                                    "3": "Fulton",
                                    "4": "00: Urban",
                                    "5": "02: Upper Class",
                                    "6": "10583.00000000"
                                },
                                {
                                    "0": "14000US13121011621",
                                    "1": "13121",
                                    "2": "Georgia",
                                    "3": "Fulton",
                                    "4": "00: Urban",
                                    "5": "02: Upper Class",
                                    "6": "7146.00000000"
                                },
                                {
                                    "0": "14000US13123080300",
                                    "1": "13123",
                                    "2": "Georgia",
                                    "3": "Gilmer",
                                    "4": "01: Rural",
                                    "5": "01: Middle Class",
                                    "6": "7146.00000000"
                                }
                            ]
                        },
                        "text/html": [
                            "<table>",
                            "<tr><th>GEOID_Data</th><th>GEOID_County</th><th>State_Name</th><th>County_Name</th><th>HRSA_RURAL_DESC</th><th>ADI</th><th>Total_Pop</th></tr>",
                            "<tr><td>14000US13121011419</td><td>13121</td><td>Georgia</td><td>Fulton</td><td>00: Urban</td><td>02: Upper Class</td><td>5505.00000000</td></tr>",
                            "<tr><td>14000US13121011422</td><td>13121</td><td>Georgia</td><td>Fulton</td><td>00: Urban</td><td>02: Upper Class</td><td>4026.00000000</td></tr>",
                            "<tr><td>14000US13121011423</td><td>13121</td><td>Georgia</td><td>Fulton</td><td>00: Urban</td><td>02: Upper Class</td><td>5002.00000000</td></tr>",
                            "<tr><td>14000US13121011424</td><td>13121</td><td>Georgia</td><td>Fulton</td><td>00: Urban</td><td>02: Upper Class</td><td>5787.00000000</td></tr>",
                            "<tr><td>14000US13121011425</td><td>13121</td><td>Georgia</td><td>Fulton</td><td>00: Urban</td><td>02: Upper Class</td><td>7031.00000000</td></tr>",
                            "<tr><td>14000US13121011503</td><td>13121</td><td>Georgia</td><td>Fulton</td><td>00: Urban</td><td>02: Upper Class</td><td>11245.00000000</td></tr>",
                            "<tr><td>14000US13121011616</td><td>13121</td><td>Georgia</td><td>Fulton</td><td>00: Urban</td><td>01: Middle Class</td><td>5844.00000000</td></tr>",
                            "<tr><td>14000US13121011620</td><td>13121</td><td>Georgia</td><td>Fulton</td><td>00: Urban</td><td>02: Upper Class</td><td>10583.00000000</td></tr>",
                            "<tr><td>14000US13121011621</td><td>13121</td><td>Georgia</td><td>Fulton</td><td>00: Urban</td><td>02: Upper Class</td><td>7146.00000000</td></tr>",
                            "<tr><td>14000US13123080300</td><td>13123</td><td>Georgia</td><td>Gilmer</td><td>01: Rural</td><td>01: Middle Class</td><td>7146.00000000</td></tr>",
                            "</table>"
                        ]
                    }
                }
            ],
            "execution_count": 8
        },
        {
            "cell_type": "code",
            "source": [
                " -- Step 9: Minimum Travel Time to All Hospitals and Hospitals if at risk locations close\r\n",
                "Select Distinct A.*\r\n",
                "                ,ISNULL(B.Closest_Hospital,361) AS Closest_Hospital_All_Open\r\n",
                "\t\t\t\t,ISNULL(C.Closest_Hospital,361) AS Closest_Hospital_atRisk_Closed\r\n",
                "into #FinalTravelMap\r\n",
                "from\r\n",
                "--Population of interest\r\n",
                "#Pop A\r\n",
                "left join\r\n",
                "--Find closest hospital is all are open\r\n",
                "(\r\n",
                "select GEOID_Data, MIN(TOTAL_TRAVELTIME) AS Closest_Hospital\r\n",
                "from \r\n",
                "[dbo].[Travel_Matrix]\r\n",
                "where GEOID_Data in\r\n",
                "(select GEOID_Data from #Pop)\r\n",
                "and Provider_ID in\r\n",
                "(select ID from #Hospitals)\r\n",
                "Group by GEOID_Data\r\n",
                ") B\r\n",
                "\ton A.GEOID_Data=B.GEOID_Data\r\n",
                "left join\r\n",
                "--Find closest hospital if at risk hospitals close\r\n",
                "(\r\n",
                "select GEOID_Data, MIN(TOTAL_TRAVELTIME) AS Closest_Hospital\r\n",
                "from \r\n",
                "[dbo].[Travel_Matrix]\r\n",
                "where GEOID_Data in\r\n",
                "(select GEOID_Data from #Pop)\r\n",
                "and Provider_ID in\r\n",
                "(select ID from #Hospitals where at_risk<>'01: At Risk Closing')\r\n",
                "Group by GEOID_Data\r\n",
                ") C\r\n",
                "\ton A.GEOID_Data=C.GEOID_Data\r\n",
                "order by GEOID_Data;\r\n",
                "\r\n",
                "select top 10 * from #FinalTravelMap\r\n",
                "\r\n",
                "select distinct *\r\n",
                "into HCAN361_25.dbo.FinalTravelMap_Group8\r\n",
                "from #FinalTravelMap;\r\n",
                "\r\n",
                "alter table HCAN361_25.dbo.FinalTravelMap_Group8\r\n",
                "alter column GEOID_Data varchar(30) not null;\r\n",
                "\r\n",
                "alter table HCAN361_25.dbo.FinalTravelMap_Group8\r\n",
                "add constraint pk_trvl_Grp8 primary key(GEOID_Data);\r\n",
                ""
            ],
            "metadata": {
                "azdata_cell_guid": "d0930a38-e24e-4481-9eb3-9f596378f661"
            },
            "outputs": [
                {
                    "output_type": "display_data",
                    "data": {
                        "text/html": "(9556 rows affected)"
                    },
                    "metadata": {}
                },
                {
                    "output_type": "display_data",
                    "data": {
                        "text/html": "(10 rows affected)"
                    },
                    "metadata": {}
                },
                {
                    "output_type": "display_data",
                    "data": {
                        "text/html": "(9556 rows affected)"
                    },
                    "metadata": {}
                },
                {
                    "output_type": "display_data",
                    "data": {
                        "text/html": "Total execution time: 00:00:14.069"
                    },
                    "metadata": {}
                },
                {
                    "output_type": "execute_result",
                    "metadata": {},
                    "execution_count": 9,
                    "data": {
                        "application/vnd.dataresource+json": {
                            "schema": {
                                "fields": [
                                    {
                                        "name": "GEOID_Data"
                                    },
                                    {
                                        "name": "GEOID_County"
                                    },
                                    {
                                        "name": "State_Name"
                                    },
                                    {
                                        "name": "County_Name"
                                    },
                                    {
                                        "name": "HRSA_RURAL_DESC"
                                    },
                                    {
                                        "name": "ADI"
                                    },
                                    {
                                        "name": "Total_Pop"
                                    },
                                    {
                                        "name": "Closest_Hospital_All_Open"
                                    },
                                    {
                                        "name": "Closest_Hospital_atRisk_Closed"
                                    }
                                ]
                            },
                            "data": [
                                {
                                    "0": "14000US28047001501",
                                    "1": "28047",
                                    "2": "Mississippi",
                                    "3": "Harrison",
                                    "4": "00: Urban",
                                    "5": "01: Middle Class",
                                    "6": "3423.00000000",
                                    "7": "4.233652220250733",
                                    "8": "4.233652220250733"
                                },
                                {
                                    "0": "14000US28047001700",
                                    "1": "28047",
                                    "2": "Mississippi",
                                    "3": "Harrison",
                                    "4": "00: Urban",
                                    "5": "00: Lower Class",
                                    "6": "5233.00000000",
                                    "7": "6.892799051814385",
                                    "8": "6.892799051814385"
                                },
                                {
                                    "0": "14000US28047002900",
                                    "1": "28047",
                                    "2": "Mississippi",
                                    "3": "Harrison",
                                    "4": "00: Urban",
                                    "5": "01: Middle Class",
                                    "6": "1443.00000000",
                                    "7": "11.12951585316454",
                                    "8": "11.12951585316454"
                                },
                                {
                                    "0": "14000US28047003204",
                                    "1": "28047",
                                    "2": "Mississippi",
                                    "3": "Harrison",
                                    "4": "00: Urban",
                                    "5": "01: Middle Class",
                                    "6": "3729.00000000",
                                    "7": "1.439834468331536",
                                    "8": "1.439834468331536"
                                },
                                {
                                    "0": "14000US28047003207",
                                    "1": "28047",
                                    "2": "Mississippi",
                                    "3": "Harrison",
                                    "4": "00: Urban",
                                    "5": "00: Lower Class",
                                    "6": "6966.00000000",
                                    "7": "11.129080894360088",
                                    "8": "11.129080894360088"
                                },
                                {
                                    "0": "14000US28047003304",
                                    "1": "28047",
                                    "2": "Mississippi",
                                    "3": "Harrison",
                                    "4": "00: Urban",
                                    "5": "01: Middle Class",
                                    "6": "4192.00000000",
                                    "7": "9.251888586909516",
                                    "8": "9.251888586909516"
                                },
                                {
                                    "0": "14000US28047003504",
                                    "1": "28047",
                                    "2": "Mississippi",
                                    "3": "Harrison",
                                    "4": "00: Urban",
                                    "5": "01: Middle Class",
                                    "6": "7158.00000000",
                                    "7": "15.94245464766016",
                                    "8": "15.94245464766016"
                                },
                                {
                                    "0": "14000US28047003505",
                                    "1": "28047",
                                    "2": "Mississippi",
                                    "3": "Harrison",
                                    "4": "00: Urban",
                                    "5": "01: Middle Class",
                                    "6": "8907.00000000",
                                    "7": "11.379217993612277",
                                    "8": "11.379217993612277"
                                },
                                {
                                    "0": "14000US28047003700",
                                    "1": "28047",
                                    "2": "Mississippi",
                                    "3": "Harrison",
                                    "4": "00: Urban",
                                    "5": "01: Middle Class",
                                    "6": "2952.00000000",
                                    "7": "4.301846785246403",
                                    "8": "4.301846785246403"
                                },
                                {
                                    "0": "14000US28047980000",
                                    "1": "28047",
                                    "2": "Mississippi",
                                    "3": "Harrison",
                                    "4": "00: Urban",
                                    "5": "99: Not Ranked",
                                    "6": "93.00000000",
                                    "7": "13.934064027334696",
                                    "8": "13.934064027334696"
                                }
                            ]
                        },
                        "text/html": [
                            "<table>",
                            "<tr><th>GEOID_Data</th><th>GEOID_County</th><th>State_Name</th><th>County_Name</th><th>HRSA_RURAL_DESC</th><th>ADI</th><th>Total_Pop</th><th>Closest_Hospital_All_Open</th><th>Closest_Hospital_atRisk_Closed</th></tr>",
                            "<tr><td>14000US28047001501</td><td>28047</td><td>Mississippi</td><td>Harrison</td><td>00: Urban</td><td>01: Middle Class</td><td>3423.00000000</td><td>4.233652220250733</td><td>4.233652220250733</td></tr>",
                            "<tr><td>14000US28047001700</td><td>28047</td><td>Mississippi</td><td>Harrison</td><td>00: Urban</td><td>00: Lower Class</td><td>5233.00000000</td><td>6.892799051814385</td><td>6.892799051814385</td></tr>",
                            "<tr><td>14000US28047002900</td><td>28047</td><td>Mississippi</td><td>Harrison</td><td>00: Urban</td><td>01: Middle Class</td><td>1443.00000000</td><td>11.12951585316454</td><td>11.12951585316454</td></tr>",
                            "<tr><td>14000US28047003204</td><td>28047</td><td>Mississippi</td><td>Harrison</td><td>00: Urban</td><td>01: Middle Class</td><td>3729.00000000</td><td>1.439834468331536</td><td>1.439834468331536</td></tr>",
                            "<tr><td>14000US28047003207</td><td>28047</td><td>Mississippi</td><td>Harrison</td><td>00: Urban</td><td>00: Lower Class</td><td>6966.00000000</td><td>11.129080894360088</td><td>11.129080894360088</td></tr>",
                            "<tr><td>14000US28047003304</td><td>28047</td><td>Mississippi</td><td>Harrison</td><td>00: Urban</td><td>01: Middle Class</td><td>4192.00000000</td><td>9.251888586909516</td><td>9.251888586909516</td></tr>",
                            "<tr><td>14000US28047003504</td><td>28047</td><td>Mississippi</td><td>Harrison</td><td>00: Urban</td><td>01: Middle Class</td><td>7158.00000000</td><td>15.94245464766016</td><td>15.94245464766016</td></tr>",
                            "<tr><td>14000US28047003505</td><td>28047</td><td>Mississippi</td><td>Harrison</td><td>00: Urban</td><td>01: Middle Class</td><td>8907.00000000</td><td>11.379217993612277</td><td>11.379217993612277</td></tr>",
                            "<tr><td>14000US28047003700</td><td>28047</td><td>Mississippi</td><td>Harrison</td><td>00: Urban</td><td>01: Middle Class</td><td>2952.00000000</td><td>4.301846785246403</td><td>4.301846785246403</td></tr>",
                            "<tr><td>14000US28047980000</td><td>28047</td><td>Mississippi</td><td>Harrison</td><td>00: Urban</td><td>99: Not Ranked</td><td>93.00000000</td><td>13.934064027334696</td><td>13.934064027334696</td></tr>",
                            "</table>"
                        ]
                    }
                }
            ],
            "execution_count": 9
        },
        {
            "cell_type": "code",
            "source": [
                "-- Step 10: Standardized rate of population per bed at County Level\r\n",
                "select A.State_Name\r\n",
                "      ,A.County_Name\r\n",
                "\t  ,A.GEOID_County\r\n",
                "\t  ,isnull(sum(B.BEDS_Non_Nursing),0) as BEDS_Non_Nursing \r\n",
                "\t  ,isnull(sum(A.Total_Pop),0) as Total_Pop\r\n",
                "into #all_county\r\n",
                "from \r\n",
                "#Pop as A\r\n",
                "left join\r\n",
                "#Hospitals as B\r\n",
                "\ton A.State_Name=B.State_Name and \r\n",
                "\t   A.County_Name=B.County_Name\r\n",
                "group by A.State_Name, A.County_Name, A.GEOID_County\r\n",
                "\r\n",
                "select A.State_Name\r\n",
                "      ,A.County_Name\r\n",
                "\t  ,A.GEOID_County\r\n",
                "\t  ,isnull(sum(B.BEDS_Non_Nursing),0) as BEDS_Non_Nursing \r\n",
                "\t  ,isnull(sum(A.Total_Pop),0) as Total_Pop\r\n",
                "into #no_risk_county\r\n",
                "from \r\n",
                "#Pop as A\r\n",
                "left join\r\n",
                "#Hospitals as B\r\n",
                "\ton A.State_Name=B.State_Name and \r\n",
                "\t   A.County_Name=B.County_Name\r\n",
                "where B.at_risk<>'01: At Risk Closing'\r\n",
                "group by A.State_Name, A.County_Name, A.GEOID_County\r\n",
                "\r\n",
                "\r\n",
                "select distinct\r\n",
                " A.State_Name\r\n",
                ",A.County_Name\r\n",
                ",A.GEOID_County\r\n",
                ",((A.BEDS_Non_Nursing*1.00)/(A.Total_Pop*1.00))*1000 as Beds_per_1K_ppl_all\r\n",
                ",isnull((((B.BEDS_Non_Nursing*1.00)/(A.Total_Pop*1.00))*1000),0) as Beds_per_1K_ppl_noRisk\r\n",
                "into #County_Rate\r\n",
                "from\r\n",
                "#all_county as A\r\n",
                "left join\r\n",
                "#no_risk_county as B\r\n",
                "\ton A.GEOID_County=B.GEOID_County\r\n",
                "order by A.GEOID_County;\r\n",
                "\r\n",
                "select *,\r\n",
                "case when Beds_per_1K_ppl_all>0 then ((Beds_per_1K_ppl_all-Beds_per_1K_ppl_noRisk)*1.00)/(Beds_per_1K_ppl_all*1.00) else 0 end as [Percent Beds Lost]\r\n",
                "into #County_Rate2\r\n",
                "from #County_Rate\r\n",
                "order by GEOID_County;\r\n",
                "\r\n",
                "select top 10 *\r\n",
                "from #County_Rate2;\r\n",
                "\r\n",
                "select distinct *\r\n",
                "into HCAN361_25.dbo.County_Rate\r\n",
                "from #County_Rate2;\r\n",
                "\r\n",
                "alter table HCAN361_25.dbo.County_Rate\r\n",
                "alter column GEOID_County varchar(30) not null;\r\n",
                "\r\n",
                "alter table HCAN361_25.dbo.County_Rate\r\n",
                "add constraint pk_cnty_Grp8 primary key(GEOID_County);\r\n",
                ""
            ],
            "metadata": {
                "azdata_cell_guid": "1afcbcdd-bcf9-4360-86d3-9fcd87f68887"
            },
            "outputs": [
                {
                    "output_type": "display_data",
                    "data": {
                        "text/html": "Warning: Null value is eliminated by an aggregate or other SET operation."
                    },
                    "metadata": {}
                },
                {
                    "output_type": "display_data",
                    "data": {
                        "text/html": "(470 rows affected)"
                    },
                    "metadata": {}
                },
                {
                    "output_type": "display_data",
                    "data": {
                        "text/html": "(327 rows affected)"
                    },
                    "metadata": {}
                },
                {
                    "output_type": "display_data",
                    "data": {
                        "text/html": "(470 rows affected)"
                    },
                    "metadata": {}
                },
                {
                    "output_type": "display_data",
                    "data": {
                        "text/html": "(470 rows affected)"
                    },
                    "metadata": {}
                },
                {
                    "output_type": "display_data",
                    "data": {
                        "text/html": "(10 rows affected)"
                    },
                    "metadata": {}
                },
                {
                    "output_type": "display_data",
                    "data": {
                        "text/html": "(470 rows affected)"
                    },
                    "metadata": {}
                },
                {
                    "output_type": "display_data",
                    "data": {
                        "text/html": "Total execution time: 00:00:00.606"
                    },
                    "metadata": {}
                },
                {
                    "output_type": "execute_result",
                    "metadata": {},
                    "execution_count": 10,
                    "data": {
                        "application/vnd.dataresource+json": {
                            "schema": {
                                "fields": [
                                    {
                                        "name": "State_Name"
                                    },
                                    {
                                        "name": "County_Name"
                                    },
                                    {
                                        "name": "GEOID_County"
                                    },
                                    {
                                        "name": "Beds_per_1K_ppl_all"
                                    },
                                    {
                                        "name": "Beds_per_1K_ppl_noRisk"
                                    },
                                    {
                                        "name": "Percent Beds Lost"
                                    }
                                ]
                            },
                            "data": [
                                {
                                    "0": "Alabama",
                                    "1": "Autauga",
                                    "2": "01001",
                                    "3": "11.956521739130435",
                                    "4": "11.956521739130435",
                                    "5": "0"
                                },
                                {
                                    "0": "Alabama",
                                    "1": "Baldwin",
                                    "2": "01003",
                                    "3": "13.377733569750177",
                                    "4": "11.455645413176875",
                                    "5": "0.1436781609195403"
                                },
                                {
                                    "0": "Alabama",
                                    "1": "Barbour",
                                    "2": "01005",
                                    "3": "16.40679543867815",
                                    "4": "16.40679543867815",
                                    "5": "0"
                                },
                                {
                                    "0": "Alabama",
                                    "1": "Bibb",
                                    "2": "01007",
                                    "3": "6.214764504816443",
                                    "4": "6.214764504816443",
                                    "5": "0"
                                },
                                {
                                    "0": "Alabama",
                                    "1": "Blount",
                                    "2": "01009",
                                    "3": "3.9032006245121",
                                    "4": "3.9032006245121",
                                    "5": "0"
                                },
                                {
                                    "0": "Alabama",
                                    "1": "Bullock",
                                    "2": "01011",
                                    "3": "15.649149922720248",
                                    "4": "15.649149922720248",
                                    "5": "0"
                                },
                                {
                                    "0": "Alabama",
                                    "1": "Butler",
                                    "2": "01013",
                                    "3": "27.415730337078653",
                                    "4": "27.415730337078653",
                                    "5": "0"
                                },
                                {
                                    "0": "Alabama",
                                    "1": "Calhoun",
                                    "2": "01015",
                                    "3": "21.905969984998293",
                                    "4": "21.905969984998293",
                                    "5": "0"
                                },
                                {
                                    "0": "Alabama",
                                    "1": "Chambers",
                                    "2": "01017",
                                    "3": "0",
                                    "4": "0",
                                    "5": "0"
                                },
                                {
                                    "0": "Alabama",
                                    "1": "Cherokee",
                                    "2": "01019",
                                    "3": "10.443662244226974",
                                    "4": "0",
                                    "5": "1"
                                }
                            ]
                        },
                        "text/html": [
                            "<table>",
                            "<tr><th>State_Name</th><th>County_Name</th><th>GEOID_County</th><th>Beds_per_1K_ppl_all</th><th>Beds_per_1K_ppl_noRisk</th><th>Percent Beds Lost</th></tr>",
                            "<tr><td>Alabama</td><td>Autauga</td><td>01001</td><td>11.956521739130435</td><td>11.956521739130435</td><td>0</td></tr>",
                            "<tr><td>Alabama</td><td>Baldwin</td><td>01003</td><td>13.377733569750177</td><td>11.455645413176875</td><td>0.1436781609195403</td></tr>",
                            "<tr><td>Alabama</td><td>Barbour</td><td>01005</td><td>16.40679543867815</td><td>16.40679543867815</td><td>0</td></tr>",
                            "<tr><td>Alabama</td><td>Bibb</td><td>01007</td><td>6.214764504816443</td><td>6.214764504816443</td><td>0</td></tr>",
                            "<tr><td>Alabama</td><td>Blount</td><td>01009</td><td>3.9032006245121</td><td>3.9032006245121</td><td>0</td></tr>",
                            "<tr><td>Alabama</td><td>Bullock</td><td>01011</td><td>15.649149922720248</td><td>15.649149922720248</td><td>0</td></tr>",
                            "<tr><td>Alabama</td><td>Butler</td><td>01013</td><td>27.415730337078653</td><td>27.415730337078653</td><td>0</td></tr>",
                            "<tr><td>Alabama</td><td>Calhoun</td><td>01015</td><td>21.905969984998293</td><td>21.905969984998293</td><td>0</td></tr>",
                            "<tr><td>Alabama</td><td>Chambers</td><td>01017</td><td>0</td><td>0</td><td>0</td></tr>",
                            "<tr><td>Alabama</td><td>Cherokee</td><td>01019</td><td>10.443662244226974</td><td>0</td><td>1</td></tr>",
                            "</table>"
                        ]
                    }
                }
            ],
            "execution_count": 10
        },
        {
            "cell_type": "code",
            "source": [
                "--Table 1: Implications of travel time to closest hospital if at risk hospitals closed\r\n",
                "\r\n",
                "Select Distinct\r\n",
                " State_Name\r\n",
                ",PERCENTILE_CONT(0.5) WITHIN GROUP (ORDER BY Closest_Hospital_All_Open) OVER (PARTITION BY State_Name) AS [Median Closest Travel Time All Open Statewide]\r\n",
                ",PERCENTILE_CONT(0.5) WITHIN GROUP (ORDER BY Closest_Hospital_atRisk_Closed) OVER (PARTITION BY State_Name) AS [Median Closest Travel Time at Risk Closed Statewide]\r\n",
                ",PERCENTILE_CONT(0.5) WITHIN GROUP (ORDER BY case when HRSA_RURAL_DESC='00: Urban' then Closest_Hospital_All_Open end) OVER (PARTITION BY State_Name) AS [Median Closest Travel Time All Open Urban]\r\n",
                ",PERCENTILE_CONT(0.5) WITHIN GROUP (ORDER BY case when HRSA_RURAL_DESC='00: Urban' then  Closest_Hospital_atRisk_Closed end) OVER (PARTITION BY State_Name) AS [Median Closest Travel Time at Risk Closed Urban]\r\n",
                ",PERCENTILE_CONT(0.5) WITHIN GROUP (ORDER BY case when HRSA_RURAL_DESC<>'00: Urban' then Closest_Hospital_All_Open end) OVER (PARTITION BY State_Name) AS [Median Closest Travel Time All Open Rural]\r\n",
                ",PERCENTILE_CONT(0.5) WITHIN GROUP (ORDER BY case when HRSA_RURAL_DESC<>'00: Urban' then  Closest_Hospital_atRisk_Closed end) OVER (PARTITION BY State_Name) AS [Median Closest Travel Time at Risk Closed Rural]\r\n",
                "from\r\n",
                "HCAN361_25.dbo.FinalTravelMap_Group8\r\n",
                "order by State_Name;\r\n",
                "\r\n",
                "--Based upon these findings...The impact of closing hospitals are likely at the local level and not a statewide issue. So if an at risk hospital closes, it adversely affect some rural areas, not most rural areas.\r\n",
                ""
            ],
            "metadata": {
                "azdata_cell_guid": "34d67297-0a18-4c7c-9239-5b29825f3b2e"
            },
            "outputs": [
                {
                    "output_type": "display_data",
                    "data": {
                        "text/html": "(5 rows affected)"
                    },
                    "metadata": {}
                },
                {
                    "output_type": "display_data",
                    "data": {
                        "text/html": "Total execution time: 00:00:00.363"
                    },
                    "metadata": {}
                },
                {
                    "output_type": "execute_result",
                    "metadata": {},
                    "execution_count": 12,
                    "data": {
                        "application/vnd.dataresource+json": {
                            "schema": {
                                "fields": [
                                    {
                                        "name": "State_Name"
                                    },
                                    {
                                        "name": "Median Closest Travel Time All Open Statewide"
                                    },
                                    {
                                        "name": "Median Closest Travel Time at Risk Closed Statewide"
                                    },
                                    {
                                        "name": "Median Closest Travel Time All Open Urban"
                                    },
                                    {
                                        "name": "Median Closest Travel Time at Risk Closed Urban"
                                    },
                                    {
                                        "name": "Median Closest Travel Time All Open Rural"
                                    },
                                    {
                                        "name": "Median Closest Travel Time at Risk Closed Rural"
                                    }
                                ]
                            },
                            "data": [
                                {
                                    "0": "Alabama",
                                    "1": "11.601299666024637",
                                    "2": "12.14878531845257",
                                    "3": "10.326237108115452",
                                    "4": "10.326237108115452",
                                    "5": "14.916436449722534",
                                    "6": "17.049042797153774"
                                },
                                {
                                    "0": "Florida",
                                    "1": "9.673219595604284",
                                    "2": "9.673219595604284",
                                    "3": "9.471406123964389",
                                    "4": "9.471406123964389",
                                    "5": "20.010742496342694",
                                    "6": "20.010742496342694"
                                },
                                {
                                    "0": "Georgia",
                                    "1": "11.037669217700714",
                                    "2": "11.103200139874804",
                                    "3": "10.602925301316727",
                                    "4": "10.602925301316727",
                                    "5": "13.440875992043281",
                                    "6": "14.00195634394825"
                                },
                                {
                                    "0": "Mississippi",
                                    "1": "11.154917010340867",
                                    "2": "11.761915013383652",
                                    "3": "9.594606326957217",
                                    "4": "9.594606326957217",
                                    "5": "12.441737739275291",
                                    "6": "14.286244088369173"
                                },
                                {
                                    "0": "Tennessee",
                                    "1": "11.323258886648173",
                                    "2": "11.594403356315015",
                                    "3": "10.389405024634847",
                                    "4": "10.389405024634847",
                                    "5": "14.915285347625229",
                                    "6": "17.116097701653775"
                                }
                            ]
                        },
                        "text/html": [
                            "<table>",
                            "<tr><th>State_Name</th><th>Median Closest Travel Time All Open Statewide</th><th>Median Closest Travel Time at Risk Closed Statewide</th><th>Median Closest Travel Time All Open Urban</th><th>Median Closest Travel Time at Risk Closed Urban</th><th>Median Closest Travel Time All Open Rural</th><th>Median Closest Travel Time at Risk Closed Rural</th></tr>",
                            "<tr><td>Alabama</td><td>11.601299666024637</td><td>12.14878531845257</td><td>10.326237108115452</td><td>10.326237108115452</td><td>14.916436449722534</td><td>17.049042797153774</td></tr>",
                            "<tr><td>Florida</td><td>9.673219595604284</td><td>9.673219595604284</td><td>9.471406123964389</td><td>9.471406123964389</td><td>20.010742496342694</td><td>20.010742496342694</td></tr>",
                            "<tr><td>Georgia</td><td>11.037669217700714</td><td>11.103200139874804</td><td>10.602925301316727</td><td>10.602925301316727</td><td>13.440875992043281</td><td>14.00195634394825</td></tr>",
                            "<tr><td>Mississippi</td><td>11.154917010340867</td><td>11.761915013383652</td><td>9.594606326957217</td><td>9.594606326957217</td><td>12.441737739275291</td><td>14.286244088369173</td></tr>",
                            "<tr><td>Tennessee</td><td>11.323258886648173</td><td>11.594403356315015</td><td>10.389405024634847</td><td>10.389405024634847</td><td>14.915285347625229</td><td>17.116097701653775</td></tr>",
                            "</table>"
                        ]
                    }
                }
            ],
            "execution_count": 12
        }
    ]
}