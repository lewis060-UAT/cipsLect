{
    "metadata": {
        "kernelspec": {
            "name": "SQL",
            "display_name": "SQL",
            "language": "sql"
        },
        "language_info": {
            "name": "sql",
            "version": ""
        }
    },
    "nbformat_minor": 2,
    "nbformat": 4,
    "cells": [
        {
            "cell_type": "markdown",
            "source": [
                "# HCAN 361 Final Project: Spring 2021\n",
                "\n",
                "## Emergent Care in  Hospitals within the Deep South US"
            ],
            "metadata": {
                "azdata_cell_guid": "f7276cd3-9989-4f4f-b276-bac310fb4743"
            }
        },
        {
            "cell_type": "code",
            "source": [
                "USE HCAN361_FinalProj\r\n",
                "\r\n",
                "--The query below restricts analyses to census tracts in Alabama, Mississppi, and Georgia\r\n",
                "--It also categorizes rurality and socioeconomic deprivation\r\n",
                "select [GEOID_Data], [State_Name],[County_Name], [HRSA_RURAL_DESC],\r\n",
                "case when [Median_ADI_NatRank]<=25 then '02: Upper Class'\r\n",
                "when ([Median_ADI_NatRank]>25 and [Median_ADI_NatRank]<=75) then '01: Middle Class'\r\n",
                "when [Median_ADI_NatRank]>75 then '00: Lower Class'\r\n",
                "else '99: Not Ranked' end as [ADI]\r\n",
                "into #ADI_RANK\r\n",
                "from [dbo].[US_Census_Tract_Charac]\r\n",
                "where ([State_Name] = 'Alabama' or [State_Name] = 'Mississippi' or [State_Name]= 'Georgia')\r\n",
                "\r\n",
                "--Preview of Table\r\n",
                "select top 10 *\r\n",
                "from #ADI_RANK"
            ],
            "metadata": {
                "azdata_cell_guid": "8591ea75-7a4f-4d09-9f82-22b2c323a039"
            },
            "outputs": [
{
    "output_type": "display_data",
    "data": {
        "text/html": "(3814 rows affected)"
    },
    "metadata": {}
}, {
    "output_type": "display_data",
    "data": {
        "text/html": "(10 rows affected)"
    },
    "metadata": {}
}, {
    "output_type": "display_data",
    "data": {
        "text/html": "Total execution time: 00:00:00.159"
    },
    "metadata": {}
}, {
    "output_type": "execute_result",
    "metadata": {},
    "execution_count": 1,
    "data": {
        "application/vnd.dataresource+json": {
            "schema": {
                "fields": [
                    {
                        "name": "GEOID_Data"
                    },
                    {
                        "name": "State_Name"
                    },
                    {
                        "name": "County_Name"
                    },
                    {
                        "name": "HRSA_RURAL_DESC"
                    },
                    {
                        "name": "ADI"
                    }
                ]
            },
            "data": [
                {
                    "0": "14000US01001020100",
                    "1": "Alabama",
                    "2": "Autauga",
                    "3": "00: Urban",
                    "4": "01: Middle Class"
                },
                {
                    "0": "14000US01001020200",
                    "1": "Alabama",
                    "2": "Autauga",
                    "3": "00: Urban",
                    "4": "01: Middle Class"
                },
                {
                    "0": "14000US01001020300",
                    "1": "Alabama",
                    "2": "Autauga",
                    "3": "00: Urban",
                    "4": "01: Middle Class"
                },
                {
                    "0": "14000US01001020400",
                    "1": "Alabama",
                    "2": "Autauga",
                    "3": "00: Urban",
                    "4": "01: Middle Class"
                },
                {
                    "0": "14000US01001020500",
                    "1": "Alabama",
                    "2": "Autauga",
                    "3": "00: Urban",
                    "4": "01: Middle Class"
                },
                {
                    "0": "14000US01001020600",
                    "1": "Alabama",
                    "2": "Autauga",
                    "3": "00: Urban",
                    "4": "01: Middle Class"
                },
                {
                    "0": "14000US01001020700",
                    "1": "Alabama",
                    "2": "Autauga",
                    "3": "00: Urban",
                    "4": "01: Middle Class"
                },
                {
                    "0": "14000US01001020801",
                    "1": "Alabama",
                    "2": "Autauga",
                    "3": "00: Urban",
                    "4": "02: Upper Class"
                },
                {
                    "0": "14000US01001020802",
                    "1": "Alabama",
                    "2": "Autauga",
                    "3": "00: Urban",
                    "4": "01: Middle Class"
                },
                {
                    "0": "14000US01001020900",
                    "1": "Alabama",
                    "2": "Autauga",
                    "3": "00: Urban",
                    "4": "01: Middle Class"
                }
            ]
        },
        "text/html": [
            "<table>",
            "<tr><th>GEOID_Data</th><th>State_Name</th><th>County_Name</th><th>HRSA_RURAL_DESC</th><th>ADI</th></tr>",
            "<tr><td>14000US01001020100</td><td>Alabama</td><td>Autauga</td><td>00: Urban</td><td>01: Middle Class</td></tr>",
            "<tr><td>14000US01001020200</td><td>Alabama</td><td>Autauga</td><td>00: Urban</td><td>01: Middle Class</td></tr>",
            "<tr><td>14000US01001020300</td><td>Alabama</td><td>Autauga</td><td>00: Urban</td><td>01: Middle Class</td></tr>",
            "<tr><td>14000US01001020400</td><td>Alabama</td><td>Autauga</td><td>00: Urban</td><td>01: Middle Class</td></tr>",
            "<tr><td>14000US01001020500</td><td>Alabama</td><td>Autauga</td><td>00: Urban</td><td>01: Middle Class</td></tr>",
            "<tr><td>14000US01001020600</td><td>Alabama</td><td>Autauga</td><td>00: Urban</td><td>01: Middle Class</td></tr>",
            "<tr><td>14000US01001020700</td><td>Alabama</td><td>Autauga</td><td>00: Urban</td><td>01: Middle Class</td></tr>",
            "<tr><td>14000US01001020801</td><td>Alabama</td><td>Autauga</td><td>00: Urban</td><td>02: Upper Class</td></tr>",
            "<tr><td>14000US01001020802</td><td>Alabama</td><td>Autauga</td><td>00: Urban</td><td>01: Middle Class</td></tr>",
            "<tr><td>14000US01001020900</td><td>Alabama</td><td>Autauga</td><td>00: Urban</td><td>01: Middle Class</td></tr>",
            "</table>"
        ]
    }
}
],
            "execution_count": null
        },
        {
            "cell_type": "code",
            "source": [
                "--The query below focuses on estimating travel time and provider ID for the cloest hospital with emergent care services\r\n",
                "SELECT\r\n",
                "#ADI_RANK.GEOID_Data, STATE_NAME, COUNTY_NAME, HRSA_RURAL_DESC, ADI AS 'ADI_RANK', ISNULL(MIN(TOTAL_TRAVELTIME),361) AS Closest_Provider\r\n",
                "INTO #CLOSEST_PROVIDERS\r\n",
                "FROM #ADI_RANK\r\n",
                "LEFT JOIN Travel_Matrix \r\n",
                "ON Travel_Matrix.GEOID_Data = #ADI_RANK.GEOID_Data\r\n",
                "WHERE Travel_Matrix.Provider_ID IN\r\n",
                "(SELECT ID FROM AS19SVC3 WHERE URGCCHOS='1')\r\n",
                "GROUP BY #ADI_RANK.GEOID_Data, State_Name, County_Name, HRSA_RURAL_DESC, ADI\r\n",
                "ORDER BY #ADI_RANK.GEOID_Data\r\n",
                "\r\n",
                "SELECT DISTINCT A.*, B.Provider_ID\r\n",
                "INTO #CLOSEST_PROVIDERS_V2\r\n",
                "FROM #CLOSEST_PROVIDERS A\r\n",
                "LEFT JOIN\r\n",
                "Travel_Matrix B\r\n",
                "\tON A.GEOID_Data=b.GEOID_Data AND a.Closest_Provider=B.Total_TravelTime\r\n",
                "AND B.Provider_ID IN (SELECT ID FROM AS19SVC3 WHERE URGCCHOS='1') \r\n",
                "\r\n",
                "--Preview of Table\r\n",
                "select top 10 *\r\n",
                "from #CLOSEST_PROVIDERS_V2"
            ],
            "metadata": {
                "azdata_cell_guid": "624889f5-ab35-4a72-8b56-fa8893033c5c"
            },
            "outputs": [
{
    "output_type": "display_data",
    "data": {
        "text/html": "(3809 rows affected)"
    },
    "metadata": {}
}, {
    "output_type": "display_data",
    "data": {
        "text/html": "(3809 rows affected)"
    },
    "metadata": {}
}, {
    "output_type": "display_data",
    "data": {
        "text/html": "(10 rows affected)"
    },
    "metadata": {}
}, {
    "output_type": "display_data",
    "data": {
        "text/html": "Total execution time: 00:00:10.105"
    },
    "metadata": {}
}, {
    "output_type": "execute_result",
    "metadata": {},
    "execution_count": 2,
    "data": {
        "application/vnd.dataresource+json": {
            "schema": {
                "fields": [
                    {
                        "name": "GEOID_Data"
                    },
                    {
                        "name": "STATE_NAME"
                    },
                    {
                        "name": "COUNTY_NAME"
                    },
                    {
                        "name": "HRSA_RURAL_DESC"
                    },
                    {
                        "name": "ADI_RANK"
                    },
                    {
                        "name": "Closest_Provider"
                    },
                    {
                        "name": "Provider_ID"
                    }
                ]
            },
            "data": [
                {
                    "0": "14000US01001020300",
                    "1": "Alabama",
                    "2": "Autauga",
                    "3": "00: Urban",
                    "4": "01: Middle Class",
                    "5": "21.55145796874138",
                    "6": "6530695"
                },
                {
                    "0": "14000US01001020802",
                    "1": "Alabama",
                    "2": "Autauga",
                    "3": "00: Urban",
                    "4": "01: Middle Class",
                    "5": "24.944714472723007",
                    "6": "6530695"
                },
                {
                    "0": "14000US01003010906",
                    "1": "Alabama",
                    "2": "Baldwin",
                    "3": "00: Urban",
                    "4": "01: Middle Class",
                    "5": "14.612707383294344",
                    "6": "6530446"
                },
                {
                    "0": "14000US01003011102",
                    "1": "Alabama",
                    "2": "Baldwin",
                    "3": "00: Urban",
                    "4": "01: Middle Class",
                    "5": "15.166547070071065",
                    "6": "6530446"
                },
                {
                    "0": "14000US01003011201",
                    "1": "Alabama",
                    "2": "Baldwin",
                    "3": "00: Urban",
                    "4": "01: Middle Class",
                    "5": "25.94520730719363",
                    "6": "6530446"
                },
                {
                    "0": "14000US01003011202",
                    "1": "Alabama",
                    "2": "Baldwin",
                    "3": "00: Urban",
                    "4": "01: Middle Class",
                    "5": "24.239091846571522",
                    "6": "6530446"
                },
                {
                    "0": "14000US01003011601",
                    "1": "Alabama",
                    "2": "Baldwin",
                    "3": "01: Rural",
                    "4": "01: Middle Class",
                    "5": "13.702793681395502",
                    "6": "6530446"
                },
                {
                    "0": "14000US01005950200",
                    "1": "Alabama",
                    "2": "Barbour",
                    "3": "01: Rural",
                    "4": "00: Lower Class",
                    "5": "88.29021003210619",
                    "6": "6530695"
                },
                {
                    "0": "14000US01005950800",
                    "1": "Alabama",
                    "2": "Barbour",
                    "3": "01: Rural",
                    "4": "01: Middle Class",
                    "5": "88.47903372973727",
                    "6": "6380486"
                },
                {
                    "0": "14000US01005950900",
                    "1": "Alabama",
                    "2": "Barbour",
                    "3": "01: Rural",
                    "4": "01: Middle Class",
                    "5": "89.8892561373778",
                    "6": "6380486"
                }
            ]
        },
        "text/html": [
            "<table>",
            "<tr><th>GEOID_Data</th><th>STATE_NAME</th><th>COUNTY_NAME</th><th>HRSA_RURAL_DESC</th><th>ADI_RANK</th><th>Closest_Provider</th><th>Provider_ID</th></tr>",
            "<tr><td>14000US01001020300</td><td>Alabama</td><td>Autauga</td><td>00: Urban</td><td>01: Middle Class</td><td>21.55145796874138</td><td>6530695</td></tr>",
            "<tr><td>14000US01001020802</td><td>Alabama</td><td>Autauga</td><td>00: Urban</td><td>01: Middle Class</td><td>24.944714472723007</td><td>6530695</td></tr>",
            "<tr><td>14000US01003010906</td><td>Alabama</td><td>Baldwin</td><td>00: Urban</td><td>01: Middle Class</td><td>14.612707383294344</td><td>6530446</td></tr>",
            "<tr><td>14000US01003011102</td><td>Alabama</td><td>Baldwin</td><td>00: Urban</td><td>01: Middle Class</td><td>15.166547070071065</td><td>6530446</td></tr>",
            "<tr><td>14000US01003011201</td><td>Alabama</td><td>Baldwin</td><td>00: Urban</td><td>01: Middle Class</td><td>25.94520730719363</td><td>6530446</td></tr>",
            "<tr><td>14000US01003011202</td><td>Alabama</td><td>Baldwin</td><td>00: Urban</td><td>01: Middle Class</td><td>24.239091846571522</td><td>6530446</td></tr>",
            "<tr><td>14000US01003011601</td><td>Alabama</td><td>Baldwin</td><td>01: Rural</td><td>01: Middle Class</td><td>13.702793681395502</td><td>6530446</td></tr>",
            "<tr><td>14000US01005950200</td><td>Alabama</td><td>Barbour</td><td>01: Rural</td><td>00: Lower Class</td><td>88.29021003210619</td><td>6530695</td></tr>",
            "<tr><td>14000US01005950800</td><td>Alabama</td><td>Barbour</td><td>01: Rural</td><td>01: Middle Class</td><td>88.47903372973727</td><td>6380486</td></tr>",
            "<tr><td>14000US01005950900</td><td>Alabama</td><td>Barbour</td><td>01: Rural</td><td>01: Middle Class</td><td>89.8892561373778</td><td>6380486</td></tr>",
            "</table>"
        ]
    }
}
],
            "execution_count": null
        },
        {
            "cell_type": "code",
            "source": [
                "--The query below focuses on estimating travel time and provider ID regardless of whether hospital has emergent care services\r\n",
                "select A.*\r\n",
                "INTO #ADDURG\r\n",
                "from\r\n",
                "(\r\n",
                "SELECT\r\n",
                "GEOID_Data,Total_TravelTime, Provider_ID,\r\n",
                "  ROW_NUMBER() OVER(PARTITION BY GEOID_Data ORDER BY Total_TravelTime ASC) \r\n",
                "    AS [Rank]\r\n",
                "FROM HCAN361_FinalProj.dbo.Travel_Matrix\r\n",
                ") as A\r\n",
                "where [Rank]=1\r\n",
                "order by GEOID_Data,[Rank]\r\n",
                "\r\n",
                "\r\n",
                "--This query restricts the above table to Alabama, Mississippi, and Georgia\r\n",
                "SELECT #ADI_RANK.GEOID_Data, State_Name, County_Name, Provider_ID as 'Closest_Provider_ID', ISNULL(Total_TravelTime,361) AS 'Closest_Provider_Minutes', HRSA_RURAL_DESC, ADI AS 'ADI_RANK'\r\n",
                "INTO #NEWADDURG\r\n",
                "FROM #ADI_RANK\r\n",
                "LEFT JOIN #ADDURG\r\n",
                "ON #ADDURG.GEOID_Data = #ADI_RANK.GEOID_Data\r\n",
                "ORDER BY State_Name, #ADDURG.GEOID_Data\r\n",
                "\r\n",
                "--JOIN [dbo].[AS19SVC3].URGCCHOS ONTO ABOVE TABLE\r\n",
                "--to ID whether closest hospital has emergent care services\r\n",
                "SELECT \r\n",
                "GEOID_Data, State_Name, County_Name, \r\n",
                "Closest_Provider_ID, isnull(cast(URGCCHOS as int),-1) as URGCCHOS, Closest_Provider_Minutes, \r\n",
                "HRSA_RURAL_DESC, ADI_RANK\r\n",
                "INTO #REALFINALFILTER\r\n",
                "FROM #NEWADDURG\r\n",
                "LEFT JOIN AS19SVC3\r\n",
                "ON #NEWADDURG.Closest_Provider_ID = AS19SVC3.ID\r\n",
                "ORDER BY State_Name, GEOID_Data\r\n",
                "\r\n",
                "--Preview of Table\r\n",
                "select top 10 *\r\n",
                "from #REALFINALFILTER"
            ],
            "metadata": {
                "azdata_cell_guid": "3c1d2962-1e9b-4c29-ac7e-1622dbc7b7db"
            },
            "outputs": [
{
    "output_type": "display_data",
    "data": {
        "text/html": "(73908 rows affected)"
    },
    "metadata": {}
}, {
    "output_type": "display_data",
    "data": {
        "text/html": "(3814 rows affected)"
    },
    "metadata": {}
}, {
    "output_type": "display_data",
    "data": {
        "text/html": "(3814 rows affected)"
    },
    "metadata": {}
}, {
    "output_type": "display_data",
    "data": {
        "text/html": "(10 rows affected)"
    },
    "metadata": {}
}, {
    "output_type": "display_data",
    "data": {
        "text/html": "Total execution time: 00:00:42.410"
    },
    "metadata": {}
}, {
    "output_type": "execute_result",
    "metadata": {},
    "execution_count": 3,
    "data": {
        "application/vnd.dataresource+json": {
            "schema": {
                "fields": [
                    {
                        "name": "GEOID_Data"
                    },
                    {
                        "name": "State_Name"
                    },
                    {
                        "name": "County_Name"
                    },
                    {
                        "name": "Closest_Provider_ID"
                    },
                    {
                        "name": "URGCCHOS"
                    },
                    {
                        "name": "Closest_Provider_Minutes"
                    },
                    {
                        "name": "HRSA_RURAL_DESC"
                    },
                    {
                        "name": "ADI_RANK"
                    }
                ]
            },
            "data": [
                {
                    "0": "14000US28067950700",
                    "1": "Mississippi",
                    "2": "Jones",
                    "3": "6540215",
                    "4": "1",
                    "5": "6.358445324785784",
                    "6": "01: Rural",
                    "7": "00: Lower Class"
                },
                {
                    "0": "14000US28123020500",
                    "1": "Mississippi",
                    "2": "Scott",
                    "3": "6540235",
                    "4": "0",
                    "5": "3.43769867670021",
                    "6": "01: Rural",
                    "7": "01: Middle Class"
                },
                {
                    "0": "14000US28123020600",
                    "1": "Mississippi",
                    "2": "Scott",
                    "3": "6540235",
                    "4": "0",
                    "5": "13.336179541601274",
                    "6": "01: Rural",
                    "7": "00: Lower Class"
                },
                {
                    "0": "14000US28123020100",
                    "1": "Mississippi",
                    "2": "Scott",
                    "3": "6540235",
                    "4": "0",
                    "5": "14.715777999206649",
                    "6": "01: Rural",
                    "7": "00: Lower Class"
                },
                {
                    "0": "14000US28083950200",
                    "1": "Mississippi",
                    "2": "Leflore",
                    "3": "6540280",
                    "4": "0",
                    "5": "19.11947353746259",
                    "6": "01: Rural",
                    "7": "00: Lower Class"
                },
                {
                    "0": "14000US28083950300",
                    "1": "Mississippi",
                    "2": "Leflore",
                    "3": "6540280",
                    "4": "0",
                    "5": "20.98816418341398",
                    "6": "01: Rural",
                    "7": "00: Lower Class"
                },
                {
                    "0": "14000US28083950600",
                    "1": "Mississippi",
                    "2": "Leflore",
                    "3": "6540280",
                    "4": "0",
                    "5": "3.315992097420708",
                    "6": "01: Rural",
                    "7": "01: Middle Class"
                },
                {
                    "0": "14000US28083950400",
                    "1": "Mississippi",
                    "2": "Leflore",
                    "3": "6540280",
                    "4": "0",
                    "5": "10.68491158826764",
                    "6": "01: Rural",
                    "7": "00: Lower Class"
                },
                {
                    "0": "14000US28083950700",
                    "1": "Mississippi",
                    "2": "Leflore",
                    "3": "6540280",
                    "4": "0",
                    "5": "3.487723271236971",
                    "6": "01: Rural",
                    "7": "00: Lower Class"
                },
                {
                    "0": "14000US28083950900",
                    "1": "Mississippi",
                    "2": "Leflore",
                    "3": "6540280",
                    "4": "0",
                    "5": "5.444767519530529",
                    "6": "01: Rural",
                    "7": "00: Lower Class"
                }
            ]
        },
        "text/html": [
            "<table>",
            "<tr><th>GEOID_Data</th><th>State_Name</th><th>County_Name</th><th>Closest_Provider_ID</th><th>URGCCHOS</th><th>Closest_Provider_Minutes</th><th>HRSA_RURAL_DESC</th><th>ADI_RANK</th></tr>",
            "<tr><td>14000US28067950700</td><td>Mississippi</td><td>Jones</td><td>6540215</td><td>1</td><td>6.358445324785784</td><td>01: Rural</td><td>00: Lower Class</td></tr>",
            "<tr><td>14000US28123020500</td><td>Mississippi</td><td>Scott</td><td>6540235</td><td>0</td><td>3.43769867670021</td><td>01: Rural</td><td>01: Middle Class</td></tr>",
            "<tr><td>14000US28123020600</td><td>Mississippi</td><td>Scott</td><td>6540235</td><td>0</td><td>13.336179541601274</td><td>01: Rural</td><td>00: Lower Class</td></tr>",
            "<tr><td>14000US28123020100</td><td>Mississippi</td><td>Scott</td><td>6540235</td><td>0</td><td>14.715777999206649</td><td>01: Rural</td><td>00: Lower Class</td></tr>",
            "<tr><td>14000US28083950200</td><td>Mississippi</td><td>Leflore</td><td>6540280</td><td>0</td><td>19.11947353746259</td><td>01: Rural</td><td>00: Lower Class</td></tr>",
            "<tr><td>14000US28083950300</td><td>Mississippi</td><td>Leflore</td><td>6540280</td><td>0</td><td>20.98816418341398</td><td>01: Rural</td><td>00: Lower Class</td></tr>",
            "<tr><td>14000US28083950600</td><td>Mississippi</td><td>Leflore</td><td>6540280</td><td>0</td><td>3.315992097420708</td><td>01: Rural</td><td>01: Middle Class</td></tr>",
            "<tr><td>14000US28083950400</td><td>Mississippi</td><td>Leflore</td><td>6540280</td><td>0</td><td>10.68491158826764</td><td>01: Rural</td><td>00: Lower Class</td></tr>",
            "<tr><td>14000US28083950700</td><td>Mississippi</td><td>Leflore</td><td>6540280</td><td>0</td><td>3.487723271236971</td><td>01: Rural</td><td>00: Lower Class</td></tr>",
            "<tr><td>14000US28083950900</td><td>Mississippi</td><td>Leflore</td><td>6540280</td><td>0</td><td>5.444767519530529</td><td>01: Rural</td><td>00: Lower Class</td></tr>",
            "</table>"
        ]
    }
}
],
            "execution_count": null
        },
        {
            "cell_type": "code",
            "source": [
                "--This is the final table used for mapping\r\n",
                "select A.GEOID_Data, A.GEOID, A.STATEFP, A.State_Name, A.COUNTYFP, A.County_Name\r\n",
                "      ,A.ADI_RANK, A.HRSA_RURAL_DESC\r\n",
                "\t  ,case when A.URGCCHOS=1 then '01: Closest Hospital Has Emergent Care'\r\n",
                "\t        when A.URGCCHOS=0 then '00: Closest Hospital No Emergent Care'\r\n",
                "\t\t\twhen A.URGCCHOS=-1 then '99: Closest Hospital Did Not Respond to Survey Question'\r\n",
                "\t\t\tend as [Emergent Care]\r\n",
                "\t  ,A.[CLOSEST HOSPITAL ID],A.[CLOSEST HOSPITAL TIME], B.Provider_ID as [CLOSEST EMERGENT ID], ISNULL(B.Closest_Provider,361)  as [CLOSEST EMERGENT TIME]\r\n",
                "into #Final_Map_Table\r\n",
                "from\r\n",
                "(\r\n",
                "SELECT #REALFINALFILTER.GEOID_Data, #REALFINALFILTER.State_Name, #REALFINALFILTER.County_Name, Closest_Provider_ID AS [CLOSEST HOSPITAL ID], URGCCHOS, Closest_Provider_Minutes AS [CLOSEST HOSPITAL TIME], \r\n",
                "#REALFINALFILTER.HRSA_RURAL_DESC, ADI_RANK, STATEFP, COUNTYFP, TRACTCE, GEOID\r\n",
                "FROM #REALFINALFILTER\r\n",
                "INNER JOIN US_Census_Tract_Charac\r\n",
                "ON #REALFINALFILTER.GEOID_Data = US_Census_Tract_Charac.GEOID_DATA\r\n",
                ") as A\r\n",
                "LEFT JOIN\r\n",
                "(\r\n",
                "select *\r\n",
                "from #CLOSEST_PROVIDERS_V2\r\n",
                ") B\r\n",
                "\tON A.GEOID_Data=B.GEOID_Data\r\n",
                "ORDER BY A.GEOID_Data;\r\n",
                "\r\n",
                "--Preview of Table\r\n",
                "select top 10 *\r\n",
                "from #Final_Map_Table"
            ],
            "metadata": {
                "azdata_cell_guid": "5862941f-835a-489d-9240-23422b157dba"
            },
            "outputs": [
{
    "output_type": "display_data",
    "data": {
        "text/html": "(3814 rows affected)"
    },
    "metadata": {}
}, {
    "output_type": "display_data",
    "data": {
        "text/html": "(10 rows affected)"
    },
    "metadata": {}
}, {
    "output_type": "display_data",
    "data": {
        "text/html": "Total execution time: 00:00:00.088"
    },
    "metadata": {}
}, {
    "output_type": "execute_result",
    "metadata": {},
    "execution_count": 4,
    "data": {
        "application/vnd.dataresource+json": {
            "schema": {
                "fields": [
                    {
                        "name": "GEOID_Data"
                    },
                    {
                        "name": "GEOID"
                    },
                    {
                        "name": "STATEFP"
                    },
                    {
                        "name": "State_Name"
                    },
                    {
                        "name": "COUNTYFP"
                    },
                    {
                        "name": "County_Name"
                    },
                    {
                        "name": "ADI_RANK"
                    },
                    {
                        "name": "HRSA_RURAL_DESC"
                    },
                    {
                        "name": "Emergent Care"
                    },
                    {
                        "name": "CLOSEST HOSPITAL ID"
                    },
                    {
                        "name": "CLOSEST HOSPITAL TIME"
                    },
                    {
                        "name": "CLOSEST EMERGENT ID"
                    },
                    {
                        "name": "CLOSEST EMERGENT TIME"
                    }
                ]
            },
            "data": [
                {
                    "0": "14000US13121010121",
                    "1": "13121010121",
                    "2": "13",
                    "3": "Georgia",
                    "4": "121",
                    "5": "Fulton",
                    "6": "01: Middle Class",
                    "7": "00: Urban",
                    "8": "99: Closest Hospital Did Not Respond to Survey Question",
                    "9": "6380511",
                    "10": "5.476301888766582",
                    "11": "6380171",
                    "12": "8.064314309433087"
                },
                {
                    "0": "14000US13121010122",
                    "1": "13121010122",
                    "2": "13",
                    "3": "Georgia",
                    "4": "121",
                    "5": "Fulton",
                    "6": "02: Upper Class",
                    "7": "00: Urban",
                    "8": "99: Closest Hospital Did Not Respond to Survey Question",
                    "9": "6380511",
                    "10": "2.340156568033269",
                    "11": "6380171",
                    "12": "9.394262724821559"
                },
                {
                    "0": "14000US13121010123",
                    "1": "13121010123",
                    "2": "13",
                    "3": "Georgia",
                    "4": "121",
                    "5": "Fulton",
                    "6": "01: Middle Class",
                    "7": "00: Urban",
                    "8": "99: Closest Hospital Did Not Respond to Survey Question",
                    "9": "6380511",
                    "10": "4.927888700085125",
                    "11": "6380171",
                    "12": "9.127878067454445"
                },
                {
                    "0": "14000US13121010204",
                    "1": "13121010204",
                    "2": "13",
                    "3": "Georgia",
                    "4": "121",
                    "5": "Fulton",
                    "6": "02: Upper Class",
                    "7": "00: Urban",
                    "8": "00: Closest Hospital No Emergent Care",
                    "9": "6380200",
                    "10": "11.75685233379663",
                    "11": "6380171",
                    "12": "11.846503691558375"
                },
                {
                    "0": "14000US13121010205",
                    "1": "13121010205",
                    "2": "13",
                    "3": "Georgia",
                    "4": "121",
                    "5": "Fulton",
                    "6": "02: Upper Class",
                    "7": "00: Urban",
                    "8": "99: Closest Hospital Did Not Respond to Survey Question",
                    "9": "6380511",
                    "10": "7.936644387259558",
                    "11": "6380171",
                    "12": "9.957089643160238"
                },
                {
                    "0": "14000US13121010206",
                    "1": "13121010206",
                    "2": "13",
                    "3": "Georgia",
                    "4": "121",
                    "5": "Fulton",
                    "6": "02: Upper Class",
                    "7": "00: Urban",
                    "8": "00: Closest Hospital No Emergent Care",
                    "9": "6380200",
                    "10": "11.939407916164601",
                    "11": "6380171",
                    "12": "12.029059273926347"
                },
                {
                    "0": "14000US13121010208",
                    "1": "13121010208",
                    "2": "13",
                    "3": "Georgia",
                    "4": "121",
                    "5": "Fulton",
                    "6": "02: Upper Class",
                    "7": "00: Urban",
                    "8": "99: Closest Hospital Did Not Respond to Survey Question",
                    "9": "6380511",
                    "10": "11.54953774010351",
                    "11": "6380171",
                    "12": "15.7246107516822"
                },
                {
                    "0": "14000US13121010209",
                    "1": "13121010209",
                    "2": "13",
                    "3": "Georgia",
                    "4": "121",
                    "5": "Fulton",
                    "6": "01: Middle Class",
                    "7": "00: Urban",
                    "8": "99: Closest Hospital Did Not Respond to Survey Question",
                    "9": "6380511",
                    "10": "8.933029251926168",
                    "11": "6380171",
                    "12": "15.410913916464768"
                },
                {
                    "0": "14000US13121010210",
                    "1": "13121010210",
                    "2": "13",
                    "3": "Georgia",
                    "4": "121",
                    "5": "Fulton",
                    "6": "02: Upper Class",
                    "7": "00: Urban",
                    "8": "99: Closest Hospital Did Not Respond to Survey Question",
                    "9": "6380511",
                    "10": "7.146663936926637",
                    "11": "6380171",
                    "12": "13.161362351338422"
                },
                {
                    "0": "14000US13121010211",
                    "1": "13121010211",
                    "2": "13",
                    "3": "Georgia",
                    "4": "121",
                    "5": "Fulton",
                    "6": "02: Upper Class",
                    "7": "00: Urban",
                    "8": "00: Closest Hospital No Emergent Care",
                    "9": "6380200",
                    "10": "11.467687641622648",
                    "11": "6380171",
                    "12": "11.557338999384392"
                }
            ]
        },
        "text/html": [
            "<table>",
            "<tr><th>GEOID_Data</th><th>GEOID</th><th>STATEFP</th><th>State_Name</th><th>COUNTYFP</th><th>County_Name</th><th>ADI_RANK</th><th>HRSA_RURAL_DESC</th><th>Emergent Care</th><th>CLOSEST HOSPITAL ID</th><th>CLOSEST HOSPITAL TIME</th><th>CLOSEST EMERGENT ID</th><th>CLOSEST EMERGENT TIME</th></tr>",
            "<tr><td>14000US13121010121</td><td>13121010121</td><td>13</td><td>Georgia</td><td>121</td><td>Fulton</td><td>01: Middle Class</td><td>00: Urban</td><td>99: Closest Hospital Did Not Respond to Survey Question</td><td>6380511</td><td>5.476301888766582</td><td>6380171</td><td>8.064314309433087</td></tr>",
            "<tr><td>14000US13121010122</td><td>13121010122</td><td>13</td><td>Georgia</td><td>121</td><td>Fulton</td><td>02: Upper Class</td><td>00: Urban</td><td>99: Closest Hospital Did Not Respond to Survey Question</td><td>6380511</td><td>2.340156568033269</td><td>6380171</td><td>9.394262724821559</td></tr>",
            "<tr><td>14000US13121010123</td><td>13121010123</td><td>13</td><td>Georgia</td><td>121</td><td>Fulton</td><td>01: Middle Class</td><td>00: Urban</td><td>99: Closest Hospital Did Not Respond to Survey Question</td><td>6380511</td><td>4.927888700085125</td><td>6380171</td><td>9.127878067454445</td></tr>",
            "<tr><td>14000US13121010204</td><td>13121010204</td><td>13</td><td>Georgia</td><td>121</td><td>Fulton</td><td>02: Upper Class</td><td>00: Urban</td><td>00: Closest Hospital No Emergent Care</td><td>6380200</td><td>11.75685233379663</td><td>6380171</td><td>11.846503691558375</td></tr>",
            "<tr><td>14000US13121010205</td><td>13121010205</td><td>13</td><td>Georgia</td><td>121</td><td>Fulton</td><td>02: Upper Class</td><td>00: Urban</td><td>99: Closest Hospital Did Not Respond to Survey Question</td><td>6380511</td><td>7.936644387259558</td><td>6380171</td><td>9.957089643160238</td></tr>",
            "<tr><td>14000US13121010206</td><td>13121010206</td><td>13</td><td>Georgia</td><td>121</td><td>Fulton</td><td>02: Upper Class</td><td>00: Urban</td><td>00: Closest Hospital No Emergent Care</td><td>6380200</td><td>11.939407916164601</td><td>6380171</td><td>12.029059273926347</td></tr>",
            "<tr><td>14000US13121010208</td><td>13121010208</td><td>13</td><td>Georgia</td><td>121</td><td>Fulton</td><td>02: Upper Class</td><td>00: Urban</td><td>99: Closest Hospital Did Not Respond to Survey Question</td><td>6380511</td><td>11.54953774010351</td><td>6380171</td><td>15.7246107516822</td></tr>",
            "<tr><td>14000US13121010209</td><td>13121010209</td><td>13</td><td>Georgia</td><td>121</td><td>Fulton</td><td>01: Middle Class</td><td>00: Urban</td><td>99: Closest Hospital Did Not Respond to Survey Question</td><td>6380511</td><td>8.933029251926168</td><td>6380171</td><td>15.410913916464768</td></tr>",
            "<tr><td>14000US13121010210</td><td>13121010210</td><td>13</td><td>Georgia</td><td>121</td><td>Fulton</td><td>02: Upper Class</td><td>00: Urban</td><td>99: Closest Hospital Did Not Respond to Survey Question</td><td>6380511</td><td>7.146663936926637</td><td>6380171</td><td>13.161362351338422</td></tr>",
            "<tr><td>14000US13121010211</td><td>13121010211</td><td>13</td><td>Georgia</td><td>121</td><td>Fulton</td><td>02: Upper Class</td><td>00: Urban</td><td>00: Closest Hospital No Emergent Care</td><td>6380200</td><td>11.467687641622648</td><td>6380171</td><td>11.557338999384392</td></tr>",
            "</table>"
        ]
    }
}
],
            "execution_count": null
        },
        {
            "cell_type": "code",
            "source": [
                "--The query below are for showing provider locations.\r\n",
                "--Will clip the extent later...including border states for areas near state borders\r\n",
                "SELECT ID, LAT, LONG, MNAME\r\n",
                "INTO #PROV_LOCS\r\n",
                "FROM dbo.AS19DEM\r\n",
                "WHERE ID IN\r\n",
                "(SELECT ID FROM AS19SVC3 WHERE URGCCHOS='1')\r\n",
                "and MSTATE in\r\n",
                "('AL','MS','GA','TN','FL','SC','LA','AR')\r\n",
                ""
            ],
            "metadata": {
                "azdata_cell_guid": "626b1e59-22a8-47c1-bcc7-e046066ba9e4"
            },
            "outputs": [
{
    "output_type": "display_data",
    "data": {
        "text/html": "(103 rows affected)"
    },
    "metadata": {}
}, {
    "output_type": "display_data",
    "data": {
        "text/html": "Total execution time: 00:00:00.057"
    },
    "metadata": {}
}
],
            "execution_count": null
        },
        {
            "cell_type": "code",
            "source": [
                "--Queries to build a few tables\r\n",
                "--By Rurality using Average\r\n",
                "select \r\n",
                " State_Name\r\n",
                ",avg(case when HRSA_RURAL_DESC='00: Urban' then [Closest Hospital Time] end) as [Avg Closest Hospital Time Urban]\r\n",
                ",avg(case when HRSA_RURAL_DESC<>'00: Urban' then [Closest Hospital Time] end) as [Avg Closest Hospital Time Rural]\r\n",
                ",avg([Closest Hospital Time]) as [Avg Closest Hospital Time Statewide]\r\n",
                ",avg(case when HRSA_RURAL_DESC='00: Urban' then [CLOSEST EMERGENT TIME] end) as [Avg Closest Emergent Hospital Time Urban]\r\n",
                ",avg(case when HRSA_RURAL_DESC<>'00: Urban' then [CLOSEST EMERGENT TIME] end) as [Avg Closest Emergent Hospital Time Rural]\r\n",
                ",avg([CLOSEST EMERGENT TIME]) as [Avg Closest Emergent Hospital Time Statewide]\r\n",
                "from #Final_Map_Table\r\n",
                "group by State_Name\r\n",
                "order by State_Name;"
            ],
            "metadata": {
                "azdata_cell_guid": "2561bf46-2d10-42a5-b5c3-0f2d74220c3a"
            },
            "outputs": [
{
    "output_type": "display_data",
    "data": {
        "text/html": "Warning: Null value is eliminated by an aggregate or other SET operation."
    },
    "metadata": {}
}, {
    "output_type": "display_data",
    "data": {
        "text/html": "(3 rows affected)"
    },
    "metadata": {}
}, {
    "output_type": "display_data",
    "data": {
        "text/html": "Total execution time: 00:00:00.042"
    },
    "metadata": {}
}, {
    "output_type": "execute_result",
    "metadata": {},
    "execution_count": 6,
    "data": {
        "application/vnd.dataresource+json": {
            "schema": {
                "fields": [
                    {
                        "name": "State_Name"
                    },
                    {
                        "name": "Avg Closest Hospital Time Urban"
                    },
                    {
                        "name": "Avg Closest Hospital Time Rural"
                    },
                    {
                        "name": "Avg Closest Hospital Time Statewide"
                    },
                    {
                        "name": "Avg Closest Emergent Hospital Time Urban"
                    },
                    {
                        "name": "Avg Closest Emergent Hospital Time Rural"
                    },
                    {
                        "name": "Avg Closest Emergent Hospital Time Statewide"
                    }
                ]
            },
            "data": [
                {
                    "0": "Alabama",
                    "1": "12.001998694230155",
                    "2": "15.845634438984353",
                    "3": "13.215949695748643",
                    "4": "39.26094251409543",
                    "5": "52.979408564157964",
                    "6": "43.5937010548857"
                },
                {
                    "0": "Georgia",
                    "1": "12.031660785919737",
                    "2": "16.122799793641185",
                    "3": "12.993670618614036",
                    "4": "31.983194735237216",
                    "5": "53.3475155096493",
                    "6": "37.006902464314315"
                },
                {
                    "0": "Mississippi",
                    "1": "11.072901073470044",
                    "2": "12.720873058815185",
                    "3": "12.038354540788223",
                    "4": "40.91162996002498",
                    "5": "70.6290469698773",
                    "6": "58.32138179260404"
                }
            ]
        },
        "text/html": [
            "<table>",
            "<tr><th>State_Name</th><th>Avg Closest Hospital Time Urban</th><th>Avg Closest Hospital Time Rural</th><th>Avg Closest Hospital Time Statewide</th><th>Avg Closest Emergent Hospital Time Urban</th><th>Avg Closest Emergent Hospital Time Rural</th><th>Avg Closest Emergent Hospital Time Statewide</th></tr>",
            "<tr><td>Alabama</td><td>12.001998694230155</td><td>15.845634438984353</td><td>13.215949695748643</td><td>39.26094251409543</td><td>52.979408564157964</td><td>43.5937010548857</td></tr>",
            "<tr><td>Georgia</td><td>12.031660785919737</td><td>16.122799793641185</td><td>12.993670618614036</td><td>31.983194735237216</td><td>53.3475155096493</td><td>37.006902464314315</td></tr>",
            "<tr><td>Mississippi</td><td>11.072901073470044</td><td>12.720873058815185</td><td>12.038354540788223</td><td>40.91162996002498</td><td>70.6290469698773</td><td>58.32138179260404</td></tr>",
            "</table>"
        ]
    }
}
],
            "execution_count": null
        },
        {
            "cell_type": "code",
            "source": [
                "--By Rurality using Median\r\n",
                "select distinct\r\n",
                " State_Name\r\n",
                ",PERCENTILE_CONT(0.5) WITHIN GROUP (ORDER BY case when HRSA_RURAL_DESC='00: Urban' then [Closest Hospital Time] end) OVER (PARTITION BY State_Name) AS [Median Closest Hospital Time Urban]\r\n",
                ",PERCENTILE_CONT(0.5) WITHIN GROUP (ORDER BY case when HRSA_RURAL_DESC<>'00: Urban' then [Closest Hospital Time] end) OVER (PARTITION BY State_Name) AS [Median Closest Hospital Time Rural]\r\n",
                ",PERCENTILE_CONT(0.5) WITHIN GROUP (ORDER BY [Closest Hospital Time]) OVER (PARTITION BY State_Name) AS [Median Closest Hospital Time Statewide]\r\n",
                ",PERCENTILE_CONT(0.5) WITHIN GROUP (ORDER BY case when HRSA_RURAL_DESC='00: Urban' then [CLOSEST EMERGENT TIME] end) OVER (PARTITION BY State_Name) AS [Median Closest Emergent Hospital Time Urban]\r\n",
                ",PERCENTILE_CONT(0.5) WITHIN GROUP (ORDER BY case when HRSA_RURAL_DESC<>'00: Urban' then [CLOSEST EMERGENT TIME] end) OVER (PARTITION BY State_Name) AS [Median Closest Emergent Hospital Time Rural]\r\n",
                ",PERCENTILE_CONT(0.5) WITHIN GROUP (ORDER BY [CLOSEST EMERGENT TIME]) OVER (PARTITION BY State_Name) AS [Median Closest Emergent Hospital Time Statewide]\r\n",
                "from #Final_Map_Table\r\n",
                "order by State_Name;"
            ],
            "metadata": {
                "azdata_cell_guid": "105ff7d7-db6b-440b-9a86-8f2e0405fd96"
            },
            "outputs": [
{
    "output_type": "display_data",
    "data": {
        "text/html": "(3 rows affected)"
    },
    "metadata": {}
}, {
    "output_type": "display_data",
    "data": {
        "text/html": "Total execution time: 00:00:00.196"
    },
    "metadata": {}
}, {
    "output_type": "execute_result",
    "metadata": {},
    "execution_count": 7,
    "data": {
        "application/vnd.dataresource+json": {
            "schema": {
                "fields": [
                    {
                        "name": "State_Name"
                    },
                    {
                        "name": "Median Closest Hospital Time Urban"
                    },
                    {
                        "name": "Median Closest Hospital Time Rural"
                    },
                    {
                        "name": "Median Closest Hospital Time Statewide"
                    },
                    {
                        "name": "Median Closest Emergent Hospital Time Urban"
                    },
                    {
                        "name": "Median Closest Emergent Hospital Time Rural"
                    },
                    {
                        "name": "Median Closest Emergent Hospital Time Statewide"
                    }
                ]
            },
            "data": [
                {
                    "0": "Alabama",
                    "1": "10.326237108115452",
                    "2": "14.916436449722534",
                    "3": "11.601299666024637",
                    "4": "37.62589378604012",
                    "5": "51.688992143382556",
                    "6": "41.907697256618754"
                },
                {
                    "0": "Georgia",
                    "1": "10.602925301316727",
                    "2": "13.440875992043281",
                    "3": "11.037669217700714",
                    "4": "22.96642044877656",
                    "5": "48.09893676064021",
                    "6": "27.26978209230606"
                },
                {
                    "0": "Mississippi",
                    "1": "9.594606326957217",
                    "2": "12.441737739275291",
                    "3": "11.154917010340867",
                    "4": "30.082025102384506",
                    "5": "70.02629485510955",
                    "6": "59.19426063772927"
                }
            ]
        },
        "text/html": [
            "<table>",
            "<tr><th>State_Name</th><th>Median Closest Hospital Time Urban</th><th>Median Closest Hospital Time Rural</th><th>Median Closest Hospital Time Statewide</th><th>Median Closest Emergent Hospital Time Urban</th><th>Median Closest Emergent Hospital Time Rural</th><th>Median Closest Emergent Hospital Time Statewide</th></tr>",
            "<tr><td>Alabama</td><td>10.326237108115452</td><td>14.916436449722534</td><td>11.601299666024637</td><td>37.62589378604012</td><td>51.688992143382556</td><td>41.907697256618754</td></tr>",
            "<tr><td>Georgia</td><td>10.602925301316727</td><td>13.440875992043281</td><td>11.037669217700714</td><td>22.96642044877656</td><td>48.09893676064021</td><td>27.26978209230606</td></tr>",
            "<tr><td>Mississippi</td><td>9.594606326957217</td><td>12.441737739275291</td><td>11.154917010340867</td><td>30.082025102384506</td><td>70.02629485510955</td><td>59.19426063772927</td></tr>",
            "</table>"
        ]
    }
}
],
            "execution_count": null
        },
        {
            "cell_type": "code",
            "source": [
                "--Avg by ADI_Rank (Note that non ranked tracts are included in statewide findings)\r\n",
                "select \r\n",
                " State_Name\r\n",
                ",avg(case when ADI_Rank='00: Lower Class' then [Closest Hospital Time] end) as [Avg Closest Hospital Time Low Class]\r\n",
                ",avg(case when ADI_Rank='01: Middle Class' then [Closest Hospital Time] end) as [Avg Closest Hospital Time Middle Class]\r\n",
                ",avg(case when ADI_Rank='02: Upper Class' then [Closest Hospital Time] end) as [Avg Closest Hospital Time Upper Class]\r\n",
                ",avg([Closest Hospital Time]) as [Avg Closest Hospital Time Statewide]\r\n",
                ",avg(case when ADI_Rank='00: Lower Class' then [CLOSEST EMERGENT TIME] end) as [Avg Closest Emergent Hospital Time Low Class]\r\n",
                ",avg(case when ADI_Rank='01: Middle Class' then [CLOSEST EMERGENT TIME] end) as [Avg Closest Emergent Hospital Time Middle Class]\r\n",
                ",avg(case when ADI_Rank='02: Upper Class' then [CLOSEST EMERGENT TIME] end) as [Avg Closest Emergent Hospital Time Upper Class]\r\n",
                ",avg([CLOSEST EMERGENT TIME]) as [Avg Closest Emergent Hospital Time Statewide]\r\n",
                "from #Final_Map_Table\r\n",
                "group by State_Name\r\n",
                "Order by State_Name;"
            ],
            "metadata": {
                "azdata_cell_guid": "9688c85f-7231-4a17-921f-31d5bb435956"
            },
            "outputs": [
{
    "output_type": "display_data",
    "data": {
        "text/html": "Warning: Null value is eliminated by an aggregate or other SET operation."
    },
    "metadata": {}
}, {
    "output_type": "display_data",
    "data": {
        "text/html": "(3 rows affected)"
    },
    "metadata": {}
}, {
    "output_type": "display_data",
    "data": {
        "text/html": "Total execution time: 00:00:00.045"
    },
    "metadata": {}
}, {
    "output_type": "execute_result",
    "metadata": {},
    "execution_count": 8,
    "data": {
        "application/vnd.dataresource+json": {
            "schema": {
                "fields": [
                    {
                        "name": "State_Name"
                    },
                    {
                        "name": "Avg Closest Hospital Time Low Class"
                    },
                    {
                        "name": "Avg Closest Hospital Time Middle Class"
                    },
                    {
                        "name": "Avg Closest Hospital Time Upper Class"
                    },
                    {
                        "name": "Avg Closest Hospital Time Statewide"
                    },
                    {
                        "name": "Avg Closest Emergent Hospital Time Low Class"
                    },
                    {
                        "name": "Avg Closest Emergent Hospital Time Middle Class"
                    },
                    {
                        "name": "Avg Closest Emergent Hospital Time Upper Class"
                    },
                    {
                        "name": "Avg Closest Emergent Hospital Time Statewide"
                    }
                ]
            },
            "data": [
                {
                    "0": "Alabama",
                    "1": "13.6417262189878",
                    "2": "13.134454586164713",
                    "3": "10.42881494316986",
                    "4": "13.215949695748643",
                    "5": "47.37143685403422",
                    "6": "42.78797344593328",
                    "7": "27.127365304062305",
                    "8": "43.5937010548857"
                },
                {
                    "0": "Georgia",
                    "1": "11.626011191787278",
                    "2": "13.156205545065365",
                    "3": "11.286542788071479",
                    "4": "12.993670618614036",
                    "5": "42.34190244142426",
                    "6": "35.80711017892099",
                    "7": "26.533818176802615",
                    "8": "37.006902464314315"
                },
                {
                    "0": "Mississippi",
                    "1": "12.16366833145322",
                    "2": "11.8953525110849",
                    "3": "12.085109239156566",
                    "4": "12.038354540788223",
                    "5": "62.812383755044245",
                    "6": "54.99078890959644",
                    "7": "22.48010126278035",
                    "8": "58.32138179260404"
                }
            ]
        },
        "text/html": [
            "<table>",
            "<tr><th>State_Name</th><th>Avg Closest Hospital Time Low Class</th><th>Avg Closest Hospital Time Middle Class</th><th>Avg Closest Hospital Time Upper Class</th><th>Avg Closest Hospital Time Statewide</th><th>Avg Closest Emergent Hospital Time Low Class</th><th>Avg Closest Emergent Hospital Time Middle Class</th><th>Avg Closest Emergent Hospital Time Upper Class</th><th>Avg Closest Emergent Hospital Time Statewide</th></tr>",
            "<tr><td>Alabama</td><td>13.6417262189878</td><td>13.134454586164713</td><td>10.42881494316986</td><td>13.215949695748643</td><td>47.37143685403422</td><td>42.78797344593328</td><td>27.127365304062305</td><td>43.5937010548857</td></tr>",
            "<tr><td>Georgia</td><td>11.626011191787278</td><td>13.156205545065365</td><td>11.286542788071479</td><td>12.993670618614036</td><td>42.34190244142426</td><td>35.80711017892099</td><td>26.533818176802615</td><td>37.006902464314315</td></tr>",
            "<tr><td>Mississippi</td><td>12.16366833145322</td><td>11.8953525110849</td><td>12.085109239156566</td><td>12.038354540788223</td><td>62.812383755044245</td><td>54.99078890959644</td><td>22.48010126278035</td><td>58.32138179260404</td></tr>",
            "</table>"
        ]
    }
}
],
            "execution_count": null
        },
        {
            "cell_type": "code",
            "source": [
                "--Median by ADI_Rank (Note that non ranked tracts are included in statewide findings)\r\n",
                "select distinct\r\n",
                " State_Name\r\n",
                ",PERCENTILE_CONT(0.5) WITHIN GROUP (ORDER BY case when ADI_Rank='00: Lower Class' then [Closest Hospital Time] end) OVER (PARTITION BY State_Name) AS [Median Closest Hospital Time Low Class]\r\n",
                ",PERCENTILE_CONT(0.5) WITHIN GROUP (ORDER BY case when ADI_Rank='01: Middle Class' then [Closest Hospital Time] end) OVER (PARTITION BY State_Name) AS [Median Closest Hospital Time Middle Class]\r\n",
                ",PERCENTILE_CONT(0.5) WITHIN GROUP (ORDER BY case when ADI_Rank='02: Upper Class' then [Closest Hospital Time] end) OVER (PARTITION BY State_Name) AS [Median Closest Hospital Time Upper Class]\r\n",
                ",PERCENTILE_CONT(0.5) WITHIN GROUP (ORDER BY [Closest Hospital Time]) OVER (PARTITION BY State_Name) AS [Median Closest Hospital Time Statewide]\r\n",
                ",PERCENTILE_CONT(0.5) WITHIN GROUP (ORDER BY case when ADI_Rank='00: Lower Class' then [CLOSEST EMERGENT TIME] end) OVER (PARTITION BY State_Name) AS [Median Closest Emergent Hospital Time Low Class]\r\n",
                ",PERCENTILE_CONT(0.5) WITHIN GROUP (ORDER BY case when ADI_Rank='01: Middle Class' then [CLOSEST EMERGENT TIME] end) OVER (PARTITION BY State_Name) AS [Median Closest Emergent Hospital Time Middle Class]\r\n",
                ",PERCENTILE_CONT(0.5) WITHIN GROUP (ORDER BY case when ADI_Rank='02: Upper Class' then [CLOSEST EMERGENT TIME] end) OVER (PARTITION BY State_Name) AS [Median Closest Emergent Hospital Time Upper Class]\r\n",
                ",PERCENTILE_CONT(0.5) WITHIN GROUP (ORDER BY [CLOSEST EMERGENT TIME]) OVER (PARTITION BY State_Name) AS [Median Closest Emergent Hospital Time Statewide]\r\n",
                "from #Final_Map_Table\r\n",
                "order by State_Name;\r\n",
                ""
            ],
            "metadata": {
                "azdata_cell_guid": "6aaffd3e-8145-4cde-8bb7-c88852e25f23"
            },
            "outputs": [
{
    "output_type": "display_data",
    "data": {
        "text/html": "(3 rows affected)"
    },
    "metadata": {}
}, {
    "output_type": "display_data",
    "data": {
        "text/html": "Total execution time: 00:00:00.261"
    },
    "metadata": {}
}, {
    "output_type": "execute_result",
    "metadata": {},
    "execution_count": 9,
    "data": {
        "application/vnd.dataresource+json": {
            "schema": {
                "fields": [
                    {
                        "name": "State_Name"
                    },
                    {
                        "name": "Median Closest Hospital Time Low Class"
                    },
                    {
                        "name": "Median Closest Hospital Time Middle Class"
                    },
                    {
                        "name": "Median Closest Hospital Time Upper Class"
                    },
                    {
                        "name": "Median Closest Hospital Time Statewide"
                    },
                    {
                        "name": "Median Closest Emergent Hospital Time Low Class"
                    },
                    {
                        "name": "Median Closest Emergent Hospital Time Middle Class"
                    },
                    {
                        "name": "Median Closest Emergent Hospital Time Upper Class"
                    },
                    {
                        "name": "Median Closest Emergent Hospital Time Statewide"
                    }
                ]
            },
            "data": [
                {
                    "0": "Alabama",
                    "1": "10.98792144101149",
                    "2": "11.991010362358974",
                    "3": "9.454124783310458",
                    "4": "11.601299666024637",
                    "5": "47.96709138930709",
                    "6": "40.05400982921607",
                    "7": "23.34772102008428",
                    "8": "41.907697256618754"
                },
                {
                    "0": "Georgia",
                    "1": "9.906141672374396",
                    "2": "11.627035407272253",
                    "3": "10.875066129301777",
                    "4": "11.037669217700714",
                    "5": "36.26513089970807",
                    "6": "28.05995481130229",
                    "7": "18.5186046811815",
                    "8": "27.26978209230606"
                },
                {
                    "0": "Mississippi",
                    "1": "11.02537597176023",
                    "2": "11.344380906109901",
                    "3": "11.198731303556237",
                    "4": "11.154917010340867",
                    "5": "62.1542398844082",
                    "6": "58.962487160542594",
                    "7": "18.218497794508757",
                    "8": "59.19426063772927"
                }
            ]
        },
        "text/html": [
            "<table>",
            "<tr><th>State_Name</th><th>Median Closest Hospital Time Low Class</th><th>Median Closest Hospital Time Middle Class</th><th>Median Closest Hospital Time Upper Class</th><th>Median Closest Hospital Time Statewide</th><th>Median Closest Emergent Hospital Time Low Class</th><th>Median Closest Emergent Hospital Time Middle Class</th><th>Median Closest Emergent Hospital Time Upper Class</th><th>Median Closest Emergent Hospital Time Statewide</th></tr>",
            "<tr><td>Alabama</td><td>10.98792144101149</td><td>11.991010362358974</td><td>9.454124783310458</td><td>11.601299666024637</td><td>47.96709138930709</td><td>40.05400982921607</td><td>23.34772102008428</td><td>41.907697256618754</td></tr>",
            "<tr><td>Georgia</td><td>9.906141672374396</td><td>11.627035407272253</td><td>10.875066129301777</td><td>11.037669217700714</td><td>36.26513089970807</td><td>28.05995481130229</td><td>18.5186046811815</td><td>27.26978209230606</td></tr>",
            "<tr><td>Mississippi</td><td>11.02537597176023</td><td>11.344380906109901</td><td>11.198731303556237</td><td>11.154917010340867</td><td>62.1542398844082</td><td>58.962487160542594</td><td>18.218497794508757</td><td>59.19426063772927</td></tr>",
            "</table>"
        ]
    }
}
],
            "execution_count": null
        },
        {
            "cell_type": "code",
            "source": [
                "--Export tables to disk so that it can connect to Tableau and ArcGIS\r\n",
                "select distinct *\r\n",
                "into [HCAN361_25].[dbo].[Final_Map_Table_Group1]\r\n",
                "from #Final_Map_Table;\r\n",
                "\r\n",
                "alter table [HCAN361_25].[dbo].[Final_Map_Table_Group1]\r\n",
                "alter column GEOID_Data varchar(25) not null;\r\n",
                "\r\n",
                "alter table [HCAN361_25].[dbo].[Final_Map_Table_Group1]\r\n",
                "add constraint pk_G1_Map Primary Key(GEOID_Data);\r\n",
                "\r\n",
                "select distinct *\r\n",
                "into [HCAN361_25].[dbo].[PROV_LOCS_Group1]\r\n",
                "from #PROV_LOCS;\r\n",
                "\r\n",
                "alter table [HCAN361_25].[dbo].[PROV_LOCS_Group1]\r\n",
                "alter column ID varchar(20) not null;\r\n",
                "\r\n",
                "alter table [HCAN361_25].[dbo].[PROV_LOCS_Group1]\r\n",
                "add constraint pk_G1_Prov Primary Key (ID);"
            ],
            "metadata": {
                "azdata_cell_guid": "d9d4b01f-679f-434b-bb0d-ec636c1af159"
            },
            "outputs": [
{
    "output_type": "display_data",
    "data": {
        "text/html": "(3814 rows affected)"
    },
    "metadata": {}
}, {
    "output_type": "display_data",
    "data": {
        "text/html": "(103 rows affected)"
    },
    "metadata": {}
}, {
    "output_type": "display_data",
    "data": {
        "text/html": "Total execution time: 00:00:00.267"
    },
    "metadata": {}
}
],
            "execution_count": null
        }
    ]
}