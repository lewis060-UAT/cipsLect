{
    "metadata": {
        "kernelspec": {
            "name": "SQL",
            "display_name": "SQL",
            "language": "sql"
        },
        "language_info": {
            "name": "sql",
            "version": ""
        }
    },
    "nbformat_minor": 2,
    "nbformat": 4,
    "cells": [
        {
            "cell_type": "markdown",
            "source": [
                "# Group 5\n",
                "\n",
                "## <span style=\"font-size: 19.5pt; font-family: Roboto, sans-serif; color: rgb(23, 43, 77); background-color: rgb(255, 255, 255); font-weight: 700; font-variant-numeric: normal; font-variant-east-asian: normal; vertical-align: baseline; white-space: pre-wrap;\">Disparities in access to hospital beds: Rural vs Urban</span>  \n",
                "\n",
                "## <span style=\"font-size: 16pt; font-family: Arial; color: rgb(0, 0, 0); background-color: transparent; font-variant-numeric: normal; font-variant-east-asian: normal; vertical-align: baseline; white-space: pre-wrap;\">Introduction:</span>\n",
                "\n",
                "<span style=\"font-size: 11pt; font-family: Arial; color: rgb(0, 0, 0); background-color: transparent; font-variant-numeric: normal; font-variant-east-asian: normal; vertical-align: baseline; white-space: pre-wrap;\">The Critical Access Hospital designation is designed to improve access to healthcare in rural communities by reducing the financial burden of these hospitals.</span>\n",
                "\n",
                "[<span style=\"font-size: 11pt; font-family: Arial; color: rgb(17, 85, 204); background-color: transparent; font-variant-numeric: normal; font-variant-east-asian: normal; text-decoration-line: underline; text-decoration-skip-ink: none; vertical-align: baseline; white-space: pre-wrap;\">https://www.ruralhealthinfo.org/topics/critical-access-hospitals</span>](https://www.ruralhealthinfo.org/topics/critical-access-hospitals) \n",
                "\n",
                "<span style=\"font-size: 11pt; font-family: Arial; color: rgb(0, 0, 0); background-color: transparent; font-variant-numeric: normal; font-variant-east-asian: normal; vertical-align: baseline; white-space: pre-wrap;\">55 out of 67 of Alabama's counties are considered rural.</span>\n",
                "\n",
                "[<span style=\"font-size: 11pt; font-family: Arial; color: rgb(17, 85, 204); background-color: transparent; font-variant-numeric: normal; font-variant-east-asian: normal; text-decoration-line: underline; text-decoration-skip-ink: none; vertical-align: baseline; white-space: pre-wrap;\">https://www.alabamapublichealth.gov/ruralhealth/at-a-glance.html</span>](https://www.alabamapublichealth.gov/ruralhealth/at-a-glance.html)\n",
                "\n",
                "<span style=\"font-size: 11pt; font-family: Arial; color: rgb(0, 0, 0); background-color: transparent; font-variant-numeric: normal; font-variant-east-asian: normal; vertical-align: baseline; white-space: pre-wrap;\">There are only four critical access hospitals in the state of Alabama.</span>\n",
                "\n",
                "[<span style=\"font-size: 11pt; font-family: Arial; color: rgb(17, 85, 204); background-color: transparent; font-variant-numeric: normal; font-variant-east-asian: normal; text-decoration-line: underline; text-decoration-skip-ink: none; vertical-align: baseline; white-space: pre-wrap;\">https://www.birminghammedicalnews.com/news.php?viewStory=346</span>](https://www.birminghammedicalnews.com/news.php?viewStory=346)\n",
                "\n",
                "<span style=\"font-size: 11pt; font-family: Arial; color: rgb(0, 0, 0); background-color: transparent; font-variant-numeric: normal; font-variant-east-asian: normal; vertical-align: baseline; white-space: pre-wrap;\">Alabama ranks 29th in equality of hospital bed distribution across the area of the state.</span>\n",
                "\n",
                "[<span style=\"font-size: 11pt; font-family: Arial; color: rgb(17, 85, 204); background-color: transparent; font-variant-numeric: normal; font-variant-east-asian: normal; text-decoration-line: underline; text-decoration-skip-ink: none; vertical-align: baseline; white-space: pre-wrap;\">https://www.sciencedirect.com/science/article/pii/S0168851003002203</span>](https://www.sciencedirect.com/science/article/pii/S0168851003002203) \n",
                "\n",
                "<span style=\"font-size: 11pt; font-family: Arial; color: rgb(0, 0, 0); background-color: transparent; font-variant-numeric: normal; font-variant-east-asian: normal; vertical-align: baseline; white-space: pre-wrap;\"><br></span>\n",
                "\n",
                "<span style=\"font-size: 11pt; font-family: Arial; color: rgb(0, 0, 0); background-color: transparent; font-variant-numeric: normal; font-variant-east-asian: normal; vertical-align: baseline; white-space: pre-wrap;\">Are critical access hospitals increasing access to hospital beds in rural communities?</span>\n",
                "\n",
                "<span style=\"font-size: 14.6667px; white-space: pre-wrap;\">Does Alabama need another critical access hospital? Where?</span>\n",
                "\n",
                "<span style=\"font-size: 11pt; font-family: Arial; color: rgb(0, 0, 0); background-color: transparent; font-variant-numeric: normal; font-variant-east-asian: normal; vertical-align: baseline; white-space: pre-wrap;\"><br></span>"
            ],
            "metadata": {
                "azdata_cell_guid": "f9aab7c4-3db7-42e3-b80f-b51e5a090a00"
            }
        },
        {
            "cell_type": "markdown",
            "source": [
                "## Methods:\n",
                "\n",
                "- Data on the location and attributes of hospitals in the US comes from the American Hospital Association Database.\n",
                "    \n",
                "    - [https://www.ahadata.com/](https://www.ahadata.com/) \n",
                "    - Identification of critical access hospitals occurs through the column \\[MAPP18\\], which comes from the table \\[dbo\\].\\[AS19DEM\\]\n",
                "    - Identification of alabama hospitals occurs through the column \\[MSTATE\\], which comes from the table \\[dbo\\].\\[AS19DEM\\]\n",
                "- Census Tract aggregated population level data comes from the 2014-2018 American Community Survey 5-Year Estimates\n",
                "    \n",
                "    - [https://www.census.gov/geographies/mapping-files/time-series/geo/tiger-data.html](https://www.census.gov/geographies/mapping-files/time-series/geo/tiger-data.html)\n",
                "- Rural and Urban areas were determined using HRSA's Rural Health Area\n",
                "    \n",
                "    - [https://data.hrsa.gov/topics/rural-health](https://data.hrsa.gov/topics/rural-health)\n",
                "    - This data source categorizes a census tract as rural and non-rural.\n",
                "\n",
                "In this analysis, we determined:\n",
                "\n",
                "1. The # of hospital beds at every hospital in Alabama\n",
                "2. \\# and location of critical access hospitals in Alabama \n",
                "3. Whether hospitals reside in rural or urban areas\n",
                "4. Which counties have the lowest access to hospital beds"
            ],
            "metadata": {
                "azdata_cell_guid": "4de145b7-65b6-49d7-8e88-161be4c65a29"
            }
        },
        {
            "cell_type": "code",
            "source": [
                "use [HCAN361_FinalProj]\n",
                "--select everything from the DEM and SVC tables for hospitals in AL\n",
                "drop table #AL_Hosp\n",
                "select Dem.ID\n",
                "--      ,Dem.MNAME\n",
                "	  ,cast(Dem.LAT as FLOAT) as LAT\n",
                "	  ,cast(Dem.LONG as FLOAT) as LONG\n",
                "	  ,isnull(Svc.HOSPBD,0) as [Beds]\n",
                "	  ,case when Dem.MAPP18='1' then '01: Critical Access Hospital'\n",
                "			else '00: Non-Critical Access Hospital' end as [Critical_Desc]\n",
                "	  ,case when Dem.MAPP18='1' then 1\n",
                "			else 0 end as [Critical]\n",
                "      ,Census.County_Name\n",
                "	  ,Census.State_Name\n",
                "--The column below clusters the state into regions, which comes from Alabama Medicaid's ACHN (medicaid.alabama.gov/content/10.0_Contact/10.4_ACHN_Recipient_Map.aspx). These regions are pertinent to this analysis because ACHN was created to promote care among underserved populations, which aligns well with the mission of critical access hospitals. This will not be the focus of this report, but the data is available should it progress in this direction\n",
                "      ,case when Census.County_Name in \n",
                "	        ('Autauga', 'Butler', 'Chilton', 'Crenshaw', 'Dallas', 'Elmore', 'Lowndes', 'Marengo', 'Montgomery', 'Perry', 'Wilcox') then 'Central'\n",
                "			when Census.County_Name in \n",
                "	        ('Blount', 'Calhoun', 'Cherokee', 'Clay', 'Cleburne', 'Coosa', 'DeKalb', 'Etowah', 'Randolph', 'St. Clair', 'Talladega','Tallapoosa') then 'East'\n",
                "			when Census.County_Name in \n",
                "	        ('Jefferson', 'Shelby') then 'Jefferson and Shelby'\n",
                "			when Census.County_Name in \n",
                "	        ('Cullman', 'Jackson', 'Limestone', 'Madison', 'Marshall', 'Morgan') then 'Northeast'\n",
                "			when Census.County_Name in \n",
                "	        ('Bibb', 'Colbert', 'Fayette', 'Franklin', 'Greene', 'Hale', 'Lamar', 'Lauderdale', 'Lawrence', 'Marion', 'Pickens', 'Sumter', 'Tuscaloosa', 'Walker', 'Winston') then 'Northwest'\n",
                "			when Census.County_Name in \n",
                "	        ('Barbour', 'Bullock', 'Chambers', 'Coffee', 'Covington', 'Dale', 'Geneva', 'Henry', 'Houston', 'Lee', 'Macon', 'Pike', 'Russell') then 'Southeast'\n",
                "			when Census.County_Name in \n",
                "	        ('Baldwin', 'Choctaw', 'Conecuh', 'Clarke', 'Escambia', 'Mobile', 'Monroe', 'Washington') then 'Southwest'\n",
                "			else 'Error' end as [ACHN_Medicaid] \n",
                "	  ,Census.HRSA_RURAL_DESC\n",
                "	  ,Census.HRSA_RURAL\n",
                "	  ,('Z'+Census.STATEFP+Census.COUNTYFP) as [County_GEOID_Z]\n",
                "	  ,Census.GEOID_Data\n",
                "	  ,case when Census.[Median_ADI_NatRank]<=25 then '02: Upper Class'\n",
                "		    when (Census.[Median_ADI_NatRank]>25 and Census.[Median_ADI_NatRank]<=75) then '01: Middle Class'\n",
                "		    when Census.[Median_ADI_NatRank]>75 then '00: Lower Class'\n",
                "		    else '99: Not Ranked' end as [ADI_Desc]\n",
                "	  ,case when Census.[Median_ADI_NatRank]<=25 then 2\n",
                "		    when (Census.[Median_ADI_NatRank]>25 and Census.[Median_ADI_NatRank]<=75) then 1\n",
                "		    when Census.[Median_ADI_NatRank]>75 then 0\n",
                "		    else 99 end as [ADI]\n",
                "into #AL_Hosp\n",
                "from [dbo].[AS19DEM] as Dem\n",
                "left join\n",
                "[dbo].[Provider_Census_Tract] as B\n",
                "	on Dem.ID=B.Provider_ID\n",
                "left join \n",
                "[dbo].[US_Census_Tract_Charac] as Census\n",
                "	on B.GEOID_Data=Census.GEOID_Data\n",
                "left join\n",
                "[dbo].[as19svc1] as Svc\n",
                "	on Dem.ID=Svc.ID\n",
                "where MSTATE = 'AL'\n",
                "order by [Critical] desc;\n",
                "--For the purposes of the conclusion of this report, we will propose a new critical access hospital in Cleburne County near the Cleburne County Nursing Home.\n",
                "Insert into #AL_Hosp\n",
                "(ID,MNAME,LAT,LONG,Beds,Critical_Desc,Critical,County_Name,State_Name,ACHN_Medicaid,HRSA_RURAL_DESC,HRSA_RURAL,County_GEOID_Z,GEOID_Data,ADI_Desc,ADI)\n",
                "Values\n",
                "('NEW_CRITICAL','New Critical Access Hospital',33.63544,-85.589442,25,'02: Proposed Hospital',2,'Cleburne','Alabama','East','01: Rural',1,'Z01029','14000US01029959700','01: Middle Class',1);\n",
                "--preview \n",
                "select top 10 * from #AL_Hosp order by [Critical] desc;\n",
                "--To promote economic opportunities for the state of Alabama, this analysis makes an underlying assumption that the state government prefers that residents go to facilities within the Alabama state border. As such, nearby hospitals in bordering states are not considered in analyses.\n",
                "select distinct *\n",
                "into HCAN361_10.dbo.Locs_Group5\n",
                "from #AL_Hosp;\n",
                "alter table HCAN361_10.dbo.Locs_Group5\n",
                "alter column ID varchar(30) not null;\n",
                "alter table HCAN361_10.dbo.Locs_Group5\n",
                "add constraint pk_prov_Grp5 primary key(ID);\n",
                ""
            ],
            "metadata": {
                "azdata_cell_guid": "73cac377-4ce3-43d1-be35-ec1a92b6647f",
                "tags": []
            },
            "outputs": [
{
    "output_type": "display_data",
    "data": {
        "text/html": "(116 rows affected)"
    },
    "metadata": {}
}, {
    "output_type": "display_data",
    "data": {
        "text/html": "(1 row affected)"
    },
    "metadata": {}
}, {
    "output_type": "display_data",
    "data": {
        "text/html": "(10 rows affected)"
    },
    "metadata": {}
}, {
    "output_type": "display_data",
    "data": {
        "text/html": "(117 rows affected)"
    },
    "metadata": {}
}, {
    "output_type": "display_data",
    "data": {
        "text/html": "Total execution time: 00:00:00.500"
    },
    "metadata": {}
}, {
    "output_type": "execute_result",
    "metadata": {},
    "execution_count": 1,
    "data": {
        "application/vnd.dataresource+json": {
            "schema": {
                "fields": [
                    {
                        "name": "ID"
                    },
                    {
                        "name": "MNAME"
                    },
                    {
                        "name": "LAT"
                    },
                    {
                        "name": "LONG"
                    },
                    {
                        "name": "Beds"
                    },
                    {
                        "name": "Critical_Desc"
                    },
                    {
                        "name": "Critical"
                    },
                    {
                        "name": "County_Name"
                    },
                    {
                        "name": "State_Name"
                    },
                    {
                        "name": "ACHN_Medicaid"
                    },
                    {
                        "name": "HRSA_RURAL_DESC"
                    },
                    {
                        "name": "HRSA_RURAL"
                    },
                    {
                        "name": "County_GEOID_Z"
                    },
                    {
                        "name": "GEOID_Data"
                    },
                    {
                        "name": "ADI_Desc"
                    },
                    {
                        "name": "ADI"
                    }
                ]
            },
            "data": [
                {
                    "0": "NEW_CRITICAL",
                    "1": "New Critical Access Hospital",
                    "2": "33.63544",
                    "3": "-85.589442",
                    "4": "25",
                    "5": "02: Proposed Hospital",
                    "6": "2",
                    "7": "Cleburne",
                    "8": "Alabama",
                    "9": "East",
                    "10": "01: Rural",
                    "11": "1",
                    "12": "Z01029",
                    "13": "14000US01029959700",
                    "14": "01: Middle Class",
                    "15": "1"
                },
                {
                    "0": "6530755",
                    "1": "St. Vincent's Blount",
                    "2": "33.9333",
                    "3": "-86.495",
                    "4": "25",
                    "5": "01: Critical Access Hospital",
                    "6": "1",
                    "7": "Blount",
                    "8": "Alabama",
                    "9": "East",
                    "10": "01: Rural",
                    "11": "1",
                    "12": "Z01009",
                    "13": "14000US01009050101",
                    "14": "00: Lower Class",
                    "15": "0"
                },
                {
                    "0": "6530394",
                    "1": "Choctaw General Hospital",
                    "2": "32.0917",
                    "3": "-88.2083",
                    "4": "25",
                    "5": "01: Critical Access Hospital",
                    "6": "1",
                    "7": "Choctaw",
                    "8": "Alabama",
                    "9": "Southwest",
                    "10": "01: Rural",
                    "11": "1",
                    "12": "Z01023",
                    "13": "14000US01023956800",
                    "14": "00: Lower Class",
                    "15": "0"
                },
                {
                    "0": "6539120",
                    "1": "Red Bay Hospital",
                    "2": "34.4575",
                    "3": "-88.1478",
                    "4": "22",
                    "5": "01: Critical Access Hospital",
                    "6": "1",
                    "7": "Franklin",
                    "8": "Alabama",
                    "9": "Northwest",
                    "10": "01: Rural",
                    "11": "1",
                    "12": "Z01059",
                    "13": "14000US01059973400",
                    "14": "00: Lower Class",
                    "15": "0"
                },
                {
                    "0": "6539160",
                    "1": "Tanner Medical Center/East Alabama",
                    "2": "33.3107",
                    "3": "-85.485",
                    "4": "15",
                    "5": "01: Critical Access Hospital",
                    "6": "1",
                    "7": "Randolph",
                    "8": "Alabama",
                    "9": "East",
                    "10": "01: Rural",
                    "11": "1",
                    "12": "Z01111",
                    "13": "14000US01111000300",
                    "14": "01: Middle Class",
                    "15": "1"
                },
                {
                    "0": "6530317",
                    "1": "Washington County Hospital",
                    "2": "31.4594",
                    "3": "-88.2351",
                    "4": "20",
                    "5": "01: Critical Access Hospital",
                    "6": "1",
                    "7": "Washington",
                    "8": "Alabama",
                    "9": "Southwest",
                    "10": "01: Rural",
                    "11": "1",
                    "12": "Z01129",
                    "13": "14000US01129044000",
                    "14": "01: Middle Class",
                    "15": "1"
                },
                {
                    "0": "6530073",
                    "1": "RMC-Stringfellow Memorial Hospital",
                    "2": "33.6677",
                    "3": "-85.825",
                    "4": "88",
                    "5": "00: Non-Critical Access Hospital",
                    "6": "0",
                    "7": "Calhoun",
                    "8": "Alabama",
                    "9": "East",
                    "10": "00: Urban",
                    "11": "0",
                    "12": "Z01015",
                    "13": "14000US01015000200",
                    "14": "00: Lower Class",
                    "15": "0"
                },
                {
                    "0": "6530500",
                    "1": "Regional Medical Center of Central Alabama",
                    "2": "31.8291",
                    "3": "-86.6463",
                    "4": "61",
                    "5": "00: Non-Critical Access Hospital",
                    "6": "0",
                    "7": "Butler",
                    "8": "Alabama",
                    "9": "Central",
                    "10": "01: Rural",
                    "11": "1",
                    "12": "Z01013",
                    "13": "14000US01013952900",
                    "14": "01: Middle Class",
                    "15": "1"
                },
                {
                    "0": "6531013",
                    "1": "Bullock County Hospital",
                    "2": "32.1461",
                    "3": "-85.713",
                    "4": "54",
                    "5": "00: Non-Critical Access Hospital",
                    "6": "0",
                    "7": "Bullock",
                    "8": "Alabama",
                    "9": "Southeast",
                    "10": "01: Rural",
                    "11": "1",
                    "12": "Z01011",
                    "13": "14000US01011952200",
                    "14": "00: Lower Class",
                    "15": "0"
                },
                {
                    "0": "6530314",
                    "1": "Bibb Medical Center",
                    "2": "32.9512",
                    "3": "-87.148",
                    "4": "166",
                    "5": "00: Non-Critical Access Hospital",
                    "6": "0",
                    "7": "Bibb",
                    "8": "Alabama",
                    "9": "Northwest",
                    "10": "00: Urban",
                    "11": "0",
                    "12": "Z01007",
                    "13": "14000US01007010004",
                    "14": "00: Lower Class",
                    "15": "0"
                }
            ]
        },
        "text/html": [
            "<table>",
            "<tr><th>ID</th><th>MNAME</th><th>LAT</th><th>LONG</th><th>Beds</th><th>Critical_Desc</th><th>Critical</th><th>County_Name</th><th>State_Name</th><th>ACHN_Medicaid</th><th>HRSA_RURAL_DESC</th><th>HRSA_RURAL</th><th>County_GEOID_Z</th><th>GEOID_Data</th><th>ADI_Desc</th><th>ADI</th></tr>",
            "<tr><td>NEW_CRITICAL</td><td>New Critical Access Hospital</td><td>33.63544</td><td>-85.589442</td><td>25</td><td>02: Proposed Hospital</td><td>2</td><td>Cleburne</td><td>Alabama</td><td>East</td><td>01: Rural</td><td>1</td><td>Z01029</td><td>14000US01029959700</td><td>01: Middle Class</td><td>1</td></tr>",
            "<tr><td>6530755</td><td>St. Vincent's Blount</td><td>33.9333</td><td>-86.495</td><td>25</td><td>01: Critical Access Hospital</td><td>1</td><td>Blount</td><td>Alabama</td><td>East</td><td>01: Rural</td><td>1</td><td>Z01009</td><td>14000US01009050101</td><td>00: Lower Class</td><td>0</td></tr>",
            "<tr><td>6530394</td><td>Choctaw General Hospital</td><td>32.0917</td><td>-88.2083</td><td>25</td><td>01: Critical Access Hospital</td><td>1</td><td>Choctaw</td><td>Alabama</td><td>Southwest</td><td>01: Rural</td><td>1</td><td>Z01023</td><td>14000US01023956800</td><td>00: Lower Class</td><td>0</td></tr>",
            "<tr><td>6539120</td><td>Red Bay Hospital</td><td>34.4575</td><td>-88.1478</td><td>22</td><td>01: Critical Access Hospital</td><td>1</td><td>Franklin</td><td>Alabama</td><td>Northwest</td><td>01: Rural</td><td>1</td><td>Z01059</td><td>14000US01059973400</td><td>00: Lower Class</td><td>0</td></tr>",
            "<tr><td>6539160</td><td>Tanner Medical Center/East Alabama</td><td>33.3107</td><td>-85.485</td><td>15</td><td>01: Critical Access Hospital</td><td>1</td><td>Randolph</td><td>Alabama</td><td>East</td><td>01: Rural</td><td>1</td><td>Z01111</td><td>14000US01111000300</td><td>01: Middle Class</td><td>1</td></tr>",
            "<tr><td>6530317</td><td>Washington County Hospital</td><td>31.4594</td><td>-88.2351</td><td>20</td><td>01: Critical Access Hospital</td><td>1</td><td>Washington</td><td>Alabama</td><td>Southwest</td><td>01: Rural</td><td>1</td><td>Z01129</td><td>14000US01129044000</td><td>01: Middle Class</td><td>1</td></tr>",
            "<tr><td>6530073</td><td>RMC-Stringfellow Memorial Hospital</td><td>33.6677</td><td>-85.825</td><td>88</td><td>00: Non-Critical Access Hospital</td><td>0</td><td>Calhoun</td><td>Alabama</td><td>East</td><td>00: Urban</td><td>0</td><td>Z01015</td><td>14000US01015000200</td><td>00: Lower Class</td><td>0</td></tr>",
            "<tr><td>6530500</td><td>Regional Medical Center of Central Alabama</td><td>31.8291</td><td>-86.6463</td><td>61</td><td>00: Non-Critical Access Hospital</td><td>0</td><td>Butler</td><td>Alabama</td><td>Central</td><td>01: Rural</td><td>1</td><td>Z01013</td><td>14000US01013952900</td><td>01: Middle Class</td><td>1</td></tr>",
            "<tr><td>6531013</td><td>Bullock County Hospital</td><td>32.1461</td><td>-85.713</td><td>54</td><td>00: Non-Critical Access Hospital</td><td>0</td><td>Bullock</td><td>Alabama</td><td>Southeast</td><td>01: Rural</td><td>1</td><td>Z01011</td><td>14000US01011952200</td><td>00: Lower Class</td><td>0</td></tr>",
            "<tr><td>6530314</td><td>Bibb Medical Center</td><td>32.9512</td><td>-87.148</td><td>166</td><td>00: Non-Critical Access Hospital</td><td>0</td><td>Bibb</td><td>Alabama</td><td>Northwest</td><td>00: Urban</td><td>0</td><td>Z01007</td><td>14000US01007010004</td><td>00: Lower Class</td><td>0</td></tr>",
            "</table>"
        ]
    }
}, {
    "output_type": "error",
    "evalue": "Msg 3701, Level 11, State 5, Line 5\r\nCannot drop the table '#AL_Hosp', because it does not exist or you do not have permission.",
    "ename": "",
    "traceback": []
}
],
            "execution_count": 1
        },
        {
            "cell_type": "code",
            "source": [
                "\n",
                "--select population counts and characteristics\n",
                "select \n",
                "  Census.[GEOID_Data]\n",
                " ,Census.County_Name\n",
                " ,Census.State_Name\n",
                "--The column below clusters the state into regions, which comes from Alabama Medicaid's ACHN (medicaid.alabama.gov/content/10.0_Contact/10.4_ACHN_Recipient_Map.aspx). These regions are pertinent to this analysis because ACHN was created to promote care among underserved populations, which aligns well with the mission of critical access hospitals. This will not be the focus of this report, but the data is available should it progress in this direction\n",
                ",case when Census.County_Name in \n",
                "	('Autauga', 'Butler', 'Chilton', 'Crenshaw', 'Dallas', 'Elmore', 'Lowndes', 'Marengo', 'Montgomery', 'Perry', 'Wilcox') then 'Central'\n",
                "	when Census.County_Name in \n",
                "	('Blount', 'Calhoun', 'Cherokee', 'Clay', 'Cleburne', 'Coosa', 'DeKalb', 'Etowah', 'Randolph', 'St. Clair', 'Talladega','Tallapoosa') then 'East'\n",
                "	when Census.County_Name in \n",
                "	('Jefferson', 'Shelby') then 'Jefferson and Shelby'\n",
                "	when Census.County_Name in \n",
                "	('Cullman', 'Jackson', 'Limestone', 'Madison', 'Marshall', 'Morgan') then 'Northeast'\n",
                "	when Census.County_Name in \n",
                "	('Bibb', 'Colbert', 'Fayette', 'Franklin', 'Greene', 'Hale', 'Lamar', 'Lauderdale', 'Lawrence', 'Marion', 'Pickens', 'Sumter', 'Tuscaloosa', 'Walker', 'Winston') then 'Northwest'\n",
                "	when Census.County_Name in \n",
                "	('Barbour', 'Bullock', 'Chambers', 'Coffee', 'Covington', 'Dale', 'Geneva', 'Henry', 'Houston', 'Lee', 'Macon', 'Pike', 'Russell') then 'Southeast'\n",
                "	when Census.County_Name in \n",
                "	('Baldwin', 'Choctaw', 'Conecuh', 'Clarke', 'Escambia', 'Mobile', 'Monroe', 'Washington') then 'Southwest'\n",
                "	else 'Error' end as [ACHN_Medicaid] \n",
                ",Census.HRSA_RURAL_DESC\n",
                ",Census.HRSA_RURAL\n",
                ",('Z'+Census.STATEFP+Census.COUNTYFP) as [County_GEOID_Z]\n",
                ",case when Census.[Median_ADI_NatRank]<=25 then '02: Upper Class'\n",
                "	when (Census.[Median_ADI_NatRank]>25 and Census.[Median_ADI_NatRank]<=75) then '01: Middle Class'\n",
                "	when Census.[Median_ADI_NatRank]>75 then '00: Lower Class'\n",
                "	else '99: Not Ranked' end as [ADI_Desc]\n",
                ",case when Census.[Median_ADI_NatRank]<=25 then 2\n",
                "	when (Census.[Median_ADI_NatRank]>25 and Census.[Median_ADI_NatRank]<=75) then 1\n",
                "	when Census.[Median_ADI_NatRank]>75 then 0\n",
                "	else 99 end as [ADI]\n",
                ",Pop.B01001e1 as [Total_Pop]\n",
                "into #Population\n",
                "from [dbo].[US_Census_Tract_Charac] Census\n",
                "left join\n",
                "[dbo].[Census_ACS5Yr_2018] Pop\n",
                "	on Census.GEOID_Data=Pop.GEOID_Data\n",
                "where Census.State_Name='Alabama';\n",
                "select top 10 * from #Population order by GEOID_Data\n",
                ""
            ],
            "metadata": {
                "azdata_cell_guid": "ef8c7562-3cfc-469f-916b-a92e4dafb160"
            },
            "outputs": [
{
    "output_type": "display_data",
    "data": {
        "text/html": "(1181 rows affected)"
    },
    "metadata": {}
}, {
    "output_type": "display_data",
    "data": {
        "text/html": "(10 rows affected)"
    },
    "metadata": {}
}, {
    "output_type": "display_data",
    "data": {
        "text/html": "Total execution time: 00:00:00.583"
    },
    "metadata": {}
}, {
    "output_type": "execute_result",
    "metadata": {},
    "execution_count": 2,
    "data": {
        "application/vnd.dataresource+json": {
            "schema": {
                "fields": [
                    {
                        "name": "GEOID_Data"
                    },
                    {
                        "name": "County_Name"
                    },
                    {
                        "name": "State_Name"
                    },
                    {
                        "name": "ACHN_Medicaid"
                    },
                    {
                        "name": "HRSA_RURAL_DESC"
                    },
                    {
                        "name": "HRSA_RURAL"
                    },
                    {
                        "name": "County_GEOID_Z"
                    },
                    {
                        "name": "ADI_Desc"
                    },
                    {
                        "name": "ADI"
                    },
                    {
                        "name": "Total_Pop"
                    }
                ]
            },
            "data": [
                {
                    "0": "14000US01001020100",
                    "1": "Autauga",
                    "2": "Alabama",
                    "3": "Central",
                    "4": "00: Urban",
                    "5": "0",
                    "6": "Z01001",
                    "7": "01: Middle Class",
                    "8": "1",
                    "9": "1923.00000000"
                },
                {
                    "0": "14000US01001020200",
                    "1": "Autauga",
                    "2": "Alabama",
                    "3": "Central",
                    "4": "00: Urban",
                    "5": "0",
                    "6": "Z01001",
                    "7": "01: Middle Class",
                    "8": "1",
                    "9": "2028.00000000"
                },
                {
                    "0": "14000US01001020300",
                    "1": "Autauga",
                    "2": "Alabama",
                    "3": "Central",
                    "4": "00: Urban",
                    "5": "0",
                    "6": "Z01001",
                    "7": "01: Middle Class",
                    "8": "1",
                    "9": "3476.00000000"
                },
                {
                    "0": "14000US01001020400",
                    "1": "Autauga",
                    "2": "Alabama",
                    "3": "Central",
                    "4": "00: Urban",
                    "5": "0",
                    "6": "Z01001",
                    "7": "01: Middle Class",
                    "8": "1",
                    "9": "3831.00000000"
                },
                {
                    "0": "14000US01001020500",
                    "1": "Autauga",
                    "2": "Alabama",
                    "3": "Central",
                    "4": "00: Urban",
                    "5": "0",
                    "6": "Z01001",
                    "7": "01: Middle Class",
                    "8": "1",
                    "9": "9883.00000000"
                },
                {
                    "0": "14000US01001020600",
                    "1": "Autauga",
                    "2": "Alabama",
                    "3": "Central",
                    "4": "00: Urban",
                    "5": "0",
                    "6": "Z01001",
                    "7": "01: Middle Class",
                    "8": "1",
                    "9": "3705.00000000"
                },
                {
                    "0": "14000US01001020700",
                    "1": "Autauga",
                    "2": "Alabama",
                    "3": "Central",
                    "4": "00: Urban",
                    "5": "0",
                    "6": "Z01001",
                    "7": "01: Middle Class",
                    "8": "1",
                    "9": "4029.00000000"
                },
                {
                    "0": "14000US01001020801",
                    "1": "Autauga",
                    "2": "Alabama",
                    "3": "Central",
                    "4": "00: Urban",
                    "5": "0",
                    "6": "Z01001",
                    "7": "02: Upper Class",
                    "8": "2",
                    "9": "2826.00000000"
                },
                {
                    "0": "14000US01001020802",
                    "1": "Autauga",
                    "2": "Alabama",
                    "3": "Central",
                    "4": "00: Urban",
                    "5": "0",
                    "6": "Z01001",
                    "7": "01: Middle Class",
                    "8": "1",
                    "9": "11603.00000000"
                },
                {
                    "0": "14000US01001020900",
                    "1": "Autauga",
                    "2": "Alabama",
                    "3": "Central",
                    "4": "00: Urban",
                    "5": "0",
                    "6": "Z01001",
                    "7": "01: Middle Class",
                    "8": "1",
                    "9": "6401.00000000"
                }
            ]
        },
        "text/html": [
            "<table>",
            "<tr><th>GEOID_Data</th><th>County_Name</th><th>State_Name</th><th>ACHN_Medicaid</th><th>HRSA_RURAL_DESC</th><th>HRSA_RURAL</th><th>County_GEOID_Z</th><th>ADI_Desc</th><th>ADI</th><th>Total_Pop</th></tr>",
            "<tr><td>14000US01001020100</td><td>Autauga</td><td>Alabama</td><td>Central</td><td>00: Urban</td><td>0</td><td>Z01001</td><td>01: Middle Class</td><td>1</td><td>1923.00000000</td></tr>",
            "<tr><td>14000US01001020200</td><td>Autauga</td><td>Alabama</td><td>Central</td><td>00: Urban</td><td>0</td><td>Z01001</td><td>01: Middle Class</td><td>1</td><td>2028.00000000</td></tr>",
            "<tr><td>14000US01001020300</td><td>Autauga</td><td>Alabama</td><td>Central</td><td>00: Urban</td><td>0</td><td>Z01001</td><td>01: Middle Class</td><td>1</td><td>3476.00000000</td></tr>",
            "<tr><td>14000US01001020400</td><td>Autauga</td><td>Alabama</td><td>Central</td><td>00: Urban</td><td>0</td><td>Z01001</td><td>01: Middle Class</td><td>1</td><td>3831.00000000</td></tr>",
            "<tr><td>14000US01001020500</td><td>Autauga</td><td>Alabama</td><td>Central</td><td>00: Urban</td><td>0</td><td>Z01001</td><td>01: Middle Class</td><td>1</td><td>9883.00000000</td></tr>",
            "<tr><td>14000US01001020600</td><td>Autauga</td><td>Alabama</td><td>Central</td><td>00: Urban</td><td>0</td><td>Z01001</td><td>01: Middle Class</td><td>1</td><td>3705.00000000</td></tr>",
            "<tr><td>14000US01001020700</td><td>Autauga</td><td>Alabama</td><td>Central</td><td>00: Urban</td><td>0</td><td>Z01001</td><td>01: Middle Class</td><td>1</td><td>4029.00000000</td></tr>",
            "<tr><td>14000US01001020801</td><td>Autauga</td><td>Alabama</td><td>Central</td><td>00: Urban</td><td>0</td><td>Z01001</td><td>02: Upper Class</td><td>2</td><td>2826.00000000</td></tr>",
            "<tr><td>14000US01001020802</td><td>Autauga</td><td>Alabama</td><td>Central</td><td>00: Urban</td><td>0</td><td>Z01001</td><td>01: Middle Class</td><td>1</td><td>11603.00000000</td></tr>",
            "<tr><td>14000US01001020900</td><td>Autauga</td><td>Alabama</td><td>Central</td><td>00: Urban</td><td>0</td><td>Z01001</td><td>01: Middle Class</td><td>1</td><td>6401.00000000</td></tr>",
            "</table>"
        ]
    }
}
],
            "execution_count": 2
        },
        {
            "cell_type": "code",
            "source": [
                "\n",
                "--Compare access statistics with and without critical access hospitals\n",
                "select distinct\n",
                " A.*\n",
                ",isnull(B.Closest_Hospital,361) as [Closest Hospital As Is]\n",
                ",isnull(C.Closest_Hospital,361) as [Closest Hospital No Critical]\n",
                ",isnull(H.Closest_Hospital,361) as [Closest Hospital With New Critical]\n",
                ",isnull(D.Hospitals,0) as [Hospitals 30 Min As Is]\n",
                ",isnull(E.Hospitals,0) as [Hospitals 30 Min No Critical]\n",
                ",isnull(I.Hospitals,0) as [Hospitals 30 Min With New Critical]\n",
                ",isnull(F.Beds,0) as [Hospitals Beds 30 Min As Is]\n",
                ",isnull(G.Beds,0) as [Hospitals Beds 30 Min No Critical]\n",
                ",isnull(J.Beds,0) as [Hospitals Beds 30 Min With New Critical]\n",
                "into #final_key_Map\n",
                "from\n",
                "--Alabama Population\n",
                "#Population as A\n",
                "left join\n",
                "(\n",
                "--closest facility with all hospitals\n",
                "select GEOID_Data, MIN(TOTAL_TRAVELTIME) AS Closest_Hospital\n",
                "from \n",
                "[dbo].[Travel_Matrix]\n",
                "where Provider_ID in\n",
                "(select ID from #AL_Hosp where [Critical]<=1)\n",
                "Group by GEOID_Data\n",
                ") as B\n",
                "	on A.GEOID_Data=B.GEOID_Data\n",
                "left join\n",
                "(\n",
                "--closest facility when critical access hospitals are removed\n",
                "select GEOID_Data, MIN(TOTAL_TRAVELTIME) AS Closest_Hospital\n",
                "from \n",
                "[dbo].[Travel_Matrix]\n",
                "where Provider_ID in\n",
                "(select ID from #AL_Hosp where [Critical]=0)\n",
                "Group by GEOID_Data\n",
                ") as C\n",
                "	on A.GEOID_Data=C.GEOID_Data\n",
                "left join\n",
                "(\n",
                "--closest facility when new critical access hospital is added\n",
                "select GEOID_Data, MIN(TOTAL_TRAVELTIME) AS Closest_Hospital\n",
                "from \n",
                "(\n",
                "select * from [dbo].[Travel_Matrix]\n",
                "union all\n",
                "select * from HCAN361_10.dbo.newHospMatrix\n",
                ")ZZ\n",
                "where Provider_ID in\n",
                "(select ID from #AL_Hosp)\n",
                "Group by GEOID_Data\n",
                ") as H\n",
                "	on A.GEOID_Data=H.GEOID_Data\n",
                "left join\n",
                "(\n",
                "--Count of facilities within 30 minutes when all hospitals are accounted\n",
                "select GEOID_Data, COUNT(DISTINCT Provider_ID) AS Hospitals\n",
                "from \n",
                "[dbo].[Travel_Matrix]\n",
                "where Provider_ID in\n",
                "(select ID from #AL_Hosp where [Critical]<=1)\n",
                "and TOTAL_TRAVELTIME<=30\n",
                "Group by GEOID_Data\n",
                ") as D\n",
                "	on A.GEOID_Data=D.GEOID_Data\n",
                "left join\n",
                "(\n",
                "--Count of facilities within 30 minutes when critical access hospitals are removed\n",
                "select GEOID_Data, COUNT(DISTINCT Provider_ID) AS Hospitals\n",
                "from \n",
                "[dbo].[Travel_Matrix]\n",
                "where Provider_ID in\n",
                "(select ID from #AL_Hosp where [Critical]=0)\n",
                "and TOTAL_TRAVELTIME<=30\n",
                "Group by GEOID_Data\n",
                ") as E\n",
                "	on A.GEOID_Data=E.GEOID_Data\n",
                "left join\n",
                "(\n",
                "--Count of facilities within 30 minutes when new critical access hospital is added\n",
                "select GEOID_Data, COUNT(DISTINCT Provider_ID) AS Hospitals\n",
                "from \n",
                "(\n",
                "select * from [dbo].[Travel_Matrix]\n",
                "union all\n",
                "select * from HCAN361_10.dbo.newHospMatrix\n",
                ")ZZ\n",
                "where Provider_ID in\n",
                "(select ID from #AL_Hosp)\n",
                "and TOTAL_TRAVELTIME<=30\n",
                "Group by GEOID_Data\n",
                ") as I\n",
                "	on A.GEOID_Data=I.GEOID_Data\n",
                "left join\n",
                "(\n",
                "--Count of beds within 30 minutes when all hospitals are accounted\n",
                "select A.GEOID_Data, SUM(B.Beds) AS Beds\n",
                "from \n",
                "[dbo].[Travel_Matrix] as A \n",
                "inner join \n",
                "#AL_Hosp as B\n",
                "	on A.Provider_ID=B.ID\n",
                "where A.TOTAL_TRAVELTIME<=30 and B.[Critical]<=1\n",
                "Group by A.GEOID_Data\n",
                ") as F\n",
                "	on A.GEOID_Data=F.GEOID_Data\n",
                "left join\n",
                "(\n",
                "--Count of beds within 30 minutes when critical access hospitals are removed\n",
                "select A.GEOID_Data, SUM(B.Beds) AS Beds\n",
                "from \n",
                "[dbo].[Travel_Matrix] as A \n",
                "inner join \n",
                "#AL_Hosp as B\n",
                "	on A.Provider_ID=B.ID\n",
                "where A.TOTAL_TRAVELTIME<=30 and B.[Critical]=0\n",
                "Group by A.GEOID_Data\n",
                ") as G\n",
                "	on A.GEOID_Data=G.GEOID_Data\n",
                "left join\n",
                "(\n",
                "--Count of beds within 30 minutes when new critical access hospitals is added\n",
                "select ZZ.GEOID_Data, SUM(B.Beds) AS Beds\n",
                "from \n",
                "(\n",
                "select * from [dbo].[Travel_Matrix]\n",
                "union all\n",
                "select * from HCAN361_10.dbo.newHospMatrix\n",
                ")ZZ\n",
                "inner join \n",
                "#AL_Hosp as B\n",
                "	on ZZ.Provider_ID=B.ID\n",
                "where TOTAL_TRAVELTIME<=30\n",
                "Group by ZZ.GEOID_Data\n",
                ") as J\n",
                "	on A.GEOID_Data=J.GEOID_Data\n",
                "order by A.GEOID_Data;\n",
                "select top 10 * from #final_key_Map order by GEOID_Data;\n",
                "select distinct *\n",
                "into HCAN361_10.dbo.ClosestMap_Group5\n",
                "from #final_key_Map;\n",
                "alter table HCAN361_10.dbo.ClosestMap_Group5\n",
                "alter column GEOID_Data varchar(50) not null;\n",
                "alter table HCAN361_10.dbo.ClosestMap_Group5\n",
                "add constraint pk_geo_Grp5 primary key(GEOID_Data);\n",
                ""
            ],
            "metadata": {
                "azdata_cell_guid": "1b99bff6-d60b-477e-b777-0694f68ea3d0"
            },
            "outputs": [
{
    "output_type": "display_data",
    "data": {
        "text/html": "(1181 rows affected)"
    },
    "metadata": {}
}, {
    "output_type": "display_data",
    "data": {
        "text/html": "(10 rows affected)"
    },
    "metadata": {}
}, {
    "output_type": "display_data",
    "data": {
        "text/html": "(1181 rows affected)"
    },
    "metadata": {}
}, {
    "output_type": "display_data",
    "data": {
        "text/html": "Total execution time: 00:00:06.372"
    },
    "metadata": {}
}, {
    "output_type": "execute_result",
    "metadata": {},
    "execution_count": 3,
    "data": {
        "application/vnd.dataresource+json": {
            "schema": {
                "fields": [
                    {
                        "name": "GEOID_Data"
                    },
                    {
                        "name": "County_Name"
                    },
                    {
                        "name": "State_Name"
                    },
                    {
                        "name": "ACHN_Medicaid"
                    },
                    {
                        "name": "HRSA_RURAL_DESC"
                    },
                    {
                        "name": "HRSA_RURAL"
                    },
                    {
                        "name": "County_GEOID_Z"
                    },
                    {
                        "name": "ADI_Desc"
                    },
                    {
                        "name": "ADI"
                    },
                    {
                        "name": "Total_Pop"
                    },
                    {
                        "name": "Closest Hospital As Is"
                    },
                    {
                        "name": "Closest Hospital No Critical"
                    },
                    {
                        "name": "Closest Hospital With New Critical"
                    },
                    {
                        "name": "Hospitals 30 Min As Is"
                    },
                    {
                        "name": "Hospitals 30 Min No Critical"
                    },
                    {
                        "name": "Hospitals 30 Min With New Critical"
                    },
                    {
                        "name": "Hospitals Beds 30 Min As Is"
                    },
                    {
                        "name": "Hospitals Beds 30 Min No Critical"
                    },
                    {
                        "name": "Hospitals Beds 30 Min With New Critical"
                    }
                ]
            },
            "data": [
                {
                    "0": "14000US01001020100",
                    "1": "Autauga",
                    "2": "Alabama",
                    "3": "Central",
                    "4": "00: Urban",
                    "5": "0",
                    "6": "Z01001",
                    "7": "01: Middle Class",
                    "8": "1",
                    "9": "1923.00000000",
                    "10": "6.843571203154271",
                    "11": "6.843571203154271",
                    "12": "6.843571203154271",
                    "13": "5",
                    "14": "5",
                    "15": "5",
                    "16": "823",
                    "17": "823",
                    "18": "823"
                },
                {
                    "0": "14000US01001020200",
                    "1": "Autauga",
                    "2": "Alabama",
                    "3": "Central",
                    "4": "00: Urban",
                    "5": "0",
                    "6": "Z01001",
                    "7": "01: Middle Class",
                    "8": "1",
                    "9": "2028.00000000",
                    "10": "5.950789972196525",
                    "11": "5.950789972196525",
                    "12": "5.950789972196525",
                    "13": "6",
                    "14": "6",
                    "15": "6",
                    "16": "1136",
                    "17": "1136",
                    "18": "1136"
                },
                {
                    "0": "14000US01001020300",
                    "1": "Autauga",
                    "2": "Alabama",
                    "3": "Central",
                    "4": "00: Urban",
                    "5": "0",
                    "6": "Z01001",
                    "7": "01: Middle Class",
                    "8": "1",
                    "9": "3476.00000000",
                    "10": "2.915442250855095",
                    "11": "2.915442250855095",
                    "12": "2.915442250855095",
                    "13": "8",
                    "14": "8",
                    "15": "8",
                    "16": "1335",
                    "17": "1335",
                    "18": "1335"
                },
                {
                    "0": "14000US01001020400",
                    "1": "Autauga",
                    "2": "Alabama",
                    "3": "Central",
                    "4": "00: Urban",
                    "5": "0",
                    "6": "Z01001",
                    "7": "01: Middle Class",
                    "8": "1",
                    "9": "3831.00000000",
                    "10": "3.559634007734176",
                    "11": "3.559634007734176",
                    "12": "3.559634007734176",
                    "13": "8",
                    "14": "8",
                    "15": "8",
                    "16": "1335",
                    "17": "1335",
                    "18": "1335"
                },
                {
                    "0": "14000US01001020500",
                    "1": "Autauga",
                    "2": "Alabama",
                    "3": "Central",
                    "4": "00: Urban",
                    "5": "0",
                    "6": "Z01001",
                    "7": "01: Middle Class",
                    "8": "1",
                    "9": "9883.00000000",
                    "10": "5.036663439784612",
                    "11": "5.036663439784612",
                    "12": "5.036663439784612",
                    "13": "8",
                    "14": "8",
                    "15": "8",
                    "16": "1335",
                    "17": "1335",
                    "18": "1335"
                },
                {
                    "0": "14000US01001020600",
                    "1": "Autauga",
                    "2": "Alabama",
                    "3": "Central",
                    "4": "00: Urban",
                    "5": "0",
                    "6": "Z01001",
                    "7": "01: Middle Class",
                    "8": "1",
                    "9": "3705.00000000",
                    "10": "7.242245256976144",
                    "11": "7.242245256976144",
                    "12": "7.242245256976144",
                    "13": "7",
                    "14": "7",
                    "15": "7",
                    "16": "1286",
                    "17": "1286",
                    "18": "1286"
                },
                {
                    "0": "14000US01001020700",
                    "1": "Autauga",
                    "2": "Alabama",
                    "3": "Central",
                    "4": "00: Urban",
                    "5": "0",
                    "6": "Z01001",
                    "7": "01: Middle Class",
                    "8": "1",
                    "9": "4029.00000000",
                    "10": "8.620686006245055",
                    "11": "8.620686006245055",
                    "12": "8.620686006245055",
                    "13": "7",
                    "14": "7",
                    "15": "7",
                    "16": "1286",
                    "17": "1286",
                    "18": "1286"
                },
                {
                    "0": "14000US01001020801",
                    "1": "Autauga",
                    "2": "Alabama",
                    "3": "Central",
                    "4": "00: Urban",
                    "5": "0",
                    "6": "Z01001",
                    "7": "02: Upper Class",
                    "8": "2",
                    "9": "2826.00000000",
                    "10": "12.762006628959126",
                    "11": "12.762006628959126",
                    "12": "12.762006628959126",
                    "13": "5",
                    "14": "5",
                    "15": "5",
                    "16": "823",
                    "17": "823",
                    "18": "823"
                },
                {
                    "0": "14000US01001020802",
                    "1": "Autauga",
                    "2": "Alabama",
                    "3": "Central",
                    "4": "00: Urban",
                    "5": "0",
                    "6": "Z01001",
                    "7": "01: Middle Class",
                    "8": "1",
                    "9": "11603.00000000",
                    "10": "11.706857204085829",
                    "11": "11.706857204085829",
                    "12": "11.706857204085829",
                    "13": "7",
                    "14": "7",
                    "15": "7",
                    "16": "1172",
                    "17": "1172",
                    "18": "1172"
                },
                {
                    "0": "14000US01001020900",
                    "1": "Autauga",
                    "2": "Alabama",
                    "3": "Central",
                    "4": "00: Urban",
                    "5": "0",
                    "6": "Z01001",
                    "7": "01: Middle Class",
                    "8": "1",
                    "9": "6401.00000000",
                    "10": "21.902691464307935",
                    "11": "21.902691464307935",
                    "12": "21.902691464307935",
                    "13": "2",
                    "14": "2",
                    "15": "2",
                    "16": "91",
                    "17": "91",
                    "18": "91"
                }
            ]
        },
        "text/html": [
            "<table>",
            "<tr><th>GEOID_Data</th><th>County_Name</th><th>State_Name</th><th>ACHN_Medicaid</th><th>HRSA_RURAL_DESC</th><th>HRSA_RURAL</th><th>County_GEOID_Z</th><th>ADI_Desc</th><th>ADI</th><th>Total_Pop</th><th>Closest Hospital As Is</th><th>Closest Hospital No Critical</th><th>Closest Hospital With New Critical</th><th>Hospitals 30 Min As Is</th><th>Hospitals 30 Min No Critical</th><th>Hospitals 30 Min With New Critical</th><th>Hospitals Beds 30 Min As Is</th><th>Hospitals Beds 30 Min No Critical</th><th>Hospitals Beds 30 Min With New Critical</th></tr>",
            "<tr><td>14000US01001020100</td><td>Autauga</td><td>Alabama</td><td>Central</td><td>00: Urban</td><td>0</td><td>Z01001</td><td>01: Middle Class</td><td>1</td><td>1923.00000000</td><td>6.843571203154271</td><td>6.843571203154271</td><td>6.843571203154271</td><td>5</td><td>5</td><td>5</td><td>823</td><td>823</td><td>823</td></tr>",
            "<tr><td>14000US01001020200</td><td>Autauga</td><td>Alabama</td><td>Central</td><td>00: Urban</td><td>0</td><td>Z01001</td><td>01: Middle Class</td><td>1</td><td>2028.00000000</td><td>5.950789972196525</td><td>5.950789972196525</td><td>5.950789972196525</td><td>6</td><td>6</td><td>6</td><td>1136</td><td>1136</td><td>1136</td></tr>",
            "<tr><td>14000US01001020300</td><td>Autauga</td><td>Alabama</td><td>Central</td><td>00: Urban</td><td>0</td><td>Z01001</td><td>01: Middle Class</td><td>1</td><td>3476.00000000</td><td>2.915442250855095</td><td>2.915442250855095</td><td>2.915442250855095</td><td>8</td><td>8</td><td>8</td><td>1335</td><td>1335</td><td>1335</td></tr>",
            "<tr><td>14000US01001020400</td><td>Autauga</td><td>Alabama</td><td>Central</td><td>00: Urban</td><td>0</td><td>Z01001</td><td>01: Middle Class</td><td>1</td><td>3831.00000000</td><td>3.559634007734176</td><td>3.559634007734176</td><td>3.559634007734176</td><td>8</td><td>8</td><td>8</td><td>1335</td><td>1335</td><td>1335</td></tr>",
            "<tr><td>14000US01001020500</td><td>Autauga</td><td>Alabama</td><td>Central</td><td>00: Urban</td><td>0</td><td>Z01001</td><td>01: Middle Class</td><td>1</td><td>9883.00000000</td><td>5.036663439784612</td><td>5.036663439784612</td><td>5.036663439784612</td><td>8</td><td>8</td><td>8</td><td>1335</td><td>1335</td><td>1335</td></tr>",
            "<tr><td>14000US01001020600</td><td>Autauga</td><td>Alabama</td><td>Central</td><td>00: Urban</td><td>0</td><td>Z01001</td><td>01: Middle Class</td><td>1</td><td>3705.00000000</td><td>7.242245256976144</td><td>7.242245256976144</td><td>7.242245256976144</td><td>7</td><td>7</td><td>7</td><td>1286</td><td>1286</td><td>1286</td></tr>",
            "<tr><td>14000US01001020700</td><td>Autauga</td><td>Alabama</td><td>Central</td><td>00: Urban</td><td>0</td><td>Z01001</td><td>01: Middle Class</td><td>1</td><td>4029.00000000</td><td>8.620686006245055</td><td>8.620686006245055</td><td>8.620686006245055</td><td>7</td><td>7</td><td>7</td><td>1286</td><td>1286</td><td>1286</td></tr>",
            "<tr><td>14000US01001020801</td><td>Autauga</td><td>Alabama</td><td>Central</td><td>00: Urban</td><td>0</td><td>Z01001</td><td>02: Upper Class</td><td>2</td><td>2826.00000000</td><td>12.762006628959126</td><td>12.762006628959126</td><td>12.762006628959126</td><td>5</td><td>5</td><td>5</td><td>823</td><td>823</td><td>823</td></tr>",
            "<tr><td>14000US01001020802</td><td>Autauga</td><td>Alabama</td><td>Central</td><td>00: Urban</td><td>0</td><td>Z01001</td><td>01: Middle Class</td><td>1</td><td>11603.00000000</td><td>11.706857204085829</td><td>11.706857204085829</td><td>11.706857204085829</td><td>7</td><td>7</td><td>7</td><td>1172</td><td>1172</td><td>1172</td></tr>",
            "<tr><td>14000US01001020900</td><td>Autauga</td><td>Alabama</td><td>Central</td><td>00: Urban</td><td>0</td><td>Z01001</td><td>01: Middle Class</td><td>1</td><td>6401.00000000</td><td>21.902691464307935</td><td>21.902691464307935</td><td>21.902691464307935</td><td>2</td><td>2</td><td>2</td><td>91</td><td>91</td><td>91</td></tr>",
            "</table>"
        ]
    }
}
],
            "execution_count": 3
        },
        {
            "cell_type": "code",
            "source": [
                "\n",
                "--County-Level Beds to 1,000 population map\n",
                "select\n",
                " A.County_GEOID_Z, A.State_Name, A.County_Name\n",
                ",cast(A.Total_Pop as int) as Total_Pop\n",
                ",isnull(B.Beds,0) as Beds_w_Critical\n",
                ",(isnull(B.Beds,0)/(A.Total_Pop*1.00))*1000 as Beds_per_1K_People_w_Critical\n",
                ",isnull(C.Beds,0) as Beds_wo_Critical\n",
                ",(isnull(C.Beds,0)/(A.Total_Pop*1.00))*1000 as Beds_per_1K_People_wo_Critical\n",
                ",isnull(D.Beds,0) as Beds_w_new_Critical\n",
                ",(isnull(D.Beds,0)/(A.Total_Pop*1.00))*1000 as Beds_per_1K_People_w_new_Critical\n",
                ",case when D.Critical=2 then '02: Includes Newly Proposed CAH'\n",
                "	  when D.Critical=1 then '01: Includes Existing CAH'\n",
                "	  else '00: Does Not Include CAH' end as [Critical]\n",
                "into #CountyMap\n",
                "from\n",
                "(\n",
                "select County_GEOID_Z, State_Name, County_Name, sum(Total_Pop) as Total_Pop\n",
                "from\n",
                "#Population\n",
                "group by County_GEOID_Z, State_Name, County_Name\n",
                ") as A\n",
                "left join\n",
                "(\n",
                "select County_GEOID_Z,sum(BEDS) as Beds\n",
                "from\n",
                "#AL_Hosp\n",
                "where Critical<=1\n",
                "group by County_GEOID_Z\n",
                ") as B\n",
                "	on A.County_GEOID_Z=B.County_GEOID_Z\n",
                "left join\n",
                "(\n",
                "select County_GEOID_Z,sum(BEDS) as Beds\n",
                "from\n",
                "#AL_Hosp\n",
                "where Critical=0\n",
                "group by County_GEOID_Z\n",
                ") as C\n",
                "	on A.County_GEOID_Z=C.County_GEOID_Z\n",
                "left join\n",
                "(\n",
                "select County_GEOID_Z,sum(BEDS) as Beds, max(Critical) as Critical\n",
                "from\n",
                "#AL_Hosp\n",
                "group by County_GEOID_Z\n",
                ") as D\n",
                "	on A.County_GEOID_Z=D.County_GEOID_Z\n",
                "order by A.County_GEOID_Z\n",
                "select top 10 * from #CountyMap order by Critical desc;\n",
                "select distinct *\n",
                "into HCAN361_10.dbo.CountyMap_Group5\n",
                "from #CountyMap;\n",
                "alter table HCAN361_10.dbo.CountyMap_Group5\n",
                "alter column County_GEOID_Z varchar(20) not null;\n",
                "alter table HCAN361_10.dbo.CountyMap_Group5\n",
                "add constraint pk_geoCNTY_Grp5 primary key(County_GEOID_Z);\n",
                ""
            ],
            "metadata": {
                "azdata_cell_guid": "c963c7dc-aaa5-4b70-a6c4-e2131c334133"
            },
            "outputs": [
{
    "output_type": "display_data",
    "data": {
        "text/html": "(67 rows affected)"
    },
    "metadata": {}
}, {
    "output_type": "display_data",
    "data": {
        "text/html": "(10 rows affected)"
    },
    "metadata": {}
}, {
    "output_type": "display_data",
    "data": {
        "text/html": "(67 rows affected)"
    },
    "metadata": {}
}, {
    "output_type": "display_data",
    "data": {
        "text/html": "Total execution time: 00:00:00.147"
    },
    "metadata": {}
}, {
    "output_type": "execute_result",
    "metadata": {},
    "execution_count": 4,
    "data": {
        "application/vnd.dataresource+json": {
            "schema": {
                "fields": [
                    {
                        "name": "County_GEOID_Z"
                    },
                    {
                        "name": "State_Name"
                    },
                    {
                        "name": "County_Name"
                    },
                    {
                        "name": "Total_Pop"
                    },
                    {
                        "name": "Beds_w_Critical"
                    },
                    {
                        "name": "Beds_per_1K_People_w_Critical"
                    },
                    {
                        "name": "Beds_wo_Critical"
                    },
                    {
                        "name": "Beds_per_1K_People_wo_Critical"
                    },
                    {
                        "name": "Beds_w_new_Critical"
                    },
                    {
                        "name": "Beds_per_1K_People_w_new_Critical"
                    },
                    {
                        "name": "Critical"
                    }
                ]
            },
            "data": [
                {
                    "0": "Z01029",
                    "1": "Alabama",
                    "2": "Cleburne",
                    "3": "14938",
                    "4": "0",
                    "5": "0",
                    "6": "0",
                    "7": "0",
                    "8": "25",
                    "9": "1.6735841478109519",
                    "10": "02: Includes Newly Proposed CAH"
                },
                {
                    "0": "Z01009",
                    "1": "Alabama",
                    "2": "Blount",
                    "3": "57645",
                    "4": "25",
                    "5": "0.43368895827912224",
                    "6": "0",
                    "7": "0",
                    "8": "25",
                    "9": "0.43368895827912224",
                    "10": "01: Includes Existing CAH"
                },
                {
                    "0": "Z01023",
                    "1": "Alabama",
                    "2": "Choctaw",
                    "3": "13075",
                    "4": "25",
                    "5": "1.9120458891013383",
                    "6": "0",
                    "7": "0",
                    "8": "25",
                    "9": "1.9120458891013383",
                    "10": "01: Includes Existing CAH"
                },
                {
                    "0": "Z01059",
                    "1": "Alabama",
                    "2": "Franklin",
                    "3": "31542",
                    "4": "114",
                    "5": "3.6142286475175958",
                    "6": "92",
                    "7": "2.9167459260668314",
                    "8": "114",
                    "9": "3.6142286475175958",
                    "10": "01: Includes Existing CAH"
                },
                {
                    "0": "Z01111",
                    "1": "Alabama",
                    "2": "Randolph",
                    "3": "22574",
                    "4": "15",
                    "5": "0.6644812616284221",
                    "6": "0",
                    "7": "0",
                    "8": "15",
                    "9": "0.6644812616284221",
                    "10": "01: Includes Existing CAH"
                },
                {
                    "0": "Z01129",
                    "1": "Alabama",
                    "2": "Washington",
                    "3": "16643",
                    "4": "20",
                    "5": "1.2017064231208316",
                    "6": "0",
                    "7": "0",
                    "8": "20",
                    "9": "1.2017064231208316",
                    "10": "01: Includes Existing CAH"
                },
                {
                    "0": "Z01021",
                    "1": "Alabama",
                    "2": "Chilton",
                    "3": "43930",
                    "4": "36",
                    "5": "0.8194855451855224",
                    "6": "36",
                    "7": "0.8194855451855224",
                    "8": "36",
                    "9": "0.8194855451855224",
                    "10": "00: Does Not Include CAH"
                },
                {
                    "0": "Z01019",
                    "1": "Alabama",
                    "2": "Cherokee",
                    "3": "25853",
                    "4": "45",
                    "5": "1.7406103740378291",
                    "6": "45",
                    "7": "1.7406103740378291",
                    "8": "45",
                    "9": "1.7406103740378291",
                    "10": "00: Does Not Include CAH"
                },
                {
                    "0": "Z01017",
                    "1": "Alabama",
                    "2": "Chambers",
                    "3": "33826",
                    "4": "0",
                    "5": "0",
                    "6": "0",
                    "7": "0",
                    "8": "0",
                    "9": "0",
                    "10": "00: Does Not Include CAH"
                },
                {
                    "0": "Z01015",
                    "1": "Alabama",
                    "2": "Calhoun",
                    "3": "115098",
                    "4": "244",
                    "5": "2.119932579193383",
                    "6": "244",
                    "7": "2.119932579193383",
                    "8": "244",
                    "9": "2.119932579193383",
                    "10": "00: Does Not Include CAH"
                }
            ]
        },
        "text/html": [
            "<table>",
            "<tr><th>County_GEOID_Z</th><th>State_Name</th><th>County_Name</th><th>Total_Pop</th><th>Beds_w_Critical</th><th>Beds_per_1K_People_w_Critical</th><th>Beds_wo_Critical</th><th>Beds_per_1K_People_wo_Critical</th><th>Beds_w_new_Critical</th><th>Beds_per_1K_People_w_new_Critical</th><th>Critical</th></tr>",
            "<tr><td>Z01029</td><td>Alabama</td><td>Cleburne</td><td>14938</td><td>0</td><td>0</td><td>0</td><td>0</td><td>25</td><td>1.6735841478109519</td><td>02: Includes Newly Proposed CAH</td></tr>",
            "<tr><td>Z01009</td><td>Alabama</td><td>Blount</td><td>57645</td><td>25</td><td>0.43368895827912224</td><td>0</td><td>0</td><td>25</td><td>0.43368895827912224</td><td>01: Includes Existing CAH</td></tr>",
            "<tr><td>Z01023</td><td>Alabama</td><td>Choctaw</td><td>13075</td><td>25</td><td>1.9120458891013383</td><td>0</td><td>0</td><td>25</td><td>1.9120458891013383</td><td>01: Includes Existing CAH</td></tr>",
            "<tr><td>Z01059</td><td>Alabama</td><td>Franklin</td><td>31542</td><td>114</td><td>3.6142286475175958</td><td>92</td><td>2.9167459260668314</td><td>114</td><td>3.6142286475175958</td><td>01: Includes Existing CAH</td></tr>",
            "<tr><td>Z01111</td><td>Alabama</td><td>Randolph</td><td>22574</td><td>15</td><td>0.6644812616284221</td><td>0</td><td>0</td><td>15</td><td>0.6644812616284221</td><td>01: Includes Existing CAH</td></tr>",
            "<tr><td>Z01129</td><td>Alabama</td><td>Washington</td><td>16643</td><td>20</td><td>1.2017064231208316</td><td>0</td><td>0</td><td>20</td><td>1.2017064231208316</td><td>01: Includes Existing CAH</td></tr>",
            "<tr><td>Z01021</td><td>Alabama</td><td>Chilton</td><td>43930</td><td>36</td><td>0.8194855451855224</td><td>36</td><td>0.8194855451855224</td><td>36</td><td>0.8194855451855224</td><td>00: Does Not Include CAH</td></tr>",
            "<tr><td>Z01019</td><td>Alabama</td><td>Cherokee</td><td>25853</td><td>45</td><td>1.7406103740378291</td><td>45</td><td>1.7406103740378291</td><td>45</td><td>1.7406103740378291</td><td>00: Does Not Include CAH</td></tr>",
            "<tr><td>Z01017</td><td>Alabama</td><td>Chambers</td><td>33826</td><td>0</td><td>0</td><td>0</td><td>0</td><td>0</td><td>0</td><td>00: Does Not Include CAH</td></tr>",
            "<tr><td>Z01015</td><td>Alabama</td><td>Calhoun</td><td>115098</td><td>244</td><td>2.119932579193383</td><td>244</td><td>2.119932579193383</td><td>244</td><td>2.119932579193383</td><td>00: Does Not Include CAH</td></tr>",
            "</table>"
        ]
    }
}
],
            "execution_count": 4
        },
        {
            "cell_type": "code",
            "source": [
                "\n",
                "--Table 1: Physical Access Statistics on Counties Most Impacted by Critical Access Hospitals\n",
                "select *\n",
                "from\n",
                "(\n",
                "select distinct\n",
                " County_Name\n",
                ",PERCENTILE_CONT(0.5) WITHIN GROUP (ORDER BY [Closest Hospital As Is])OVER (PARTITION BY County_Name) AS [Median Closest Hospital As Is] \n",
                ",PERCENTILE_CONT(0.5) WITHIN GROUP (ORDER BY [Closest Hospital No Critical])OVER (PARTITION BY County_Name) AS [Median Closest Hospital No Critical] \n",
                ",PERCENTILE_CONT(0.5) WITHIN GROUP (ORDER BY [Hospitals Beds 30 Min As Is])OVER (PARTITION BY County_Name) AS [Median Hospitals Beds 30 Min As Is] \n",
                ",PERCENTILE_CONT(0.5) WITHIN GROUP (ORDER BY [Hospitals Beds 30 Min No Critical])OVER (PARTITION BY County_Name) AS [Median Hospitals Beds 30 Min No Critical] \n",
                "from #final_key_Map\n",
                ") A\n",
                "where [Median Closest Hospital As Is]<[Median Closest Hospital No Critical]\n",
                "order by County_Name"
            ],
            "metadata": {
                "azdata_cell_guid": "2e919b59-f6f4-40b8-96d3-943abc8124f7"
            },
            "outputs": [
{
    "output_type": "display_data",
    "data": {
        "text/html": "(5 rows affected)"
    },
    "metadata": {}
}, {
    "output_type": "display_data",
    "data": {
        "text/html": "Total execution time: 00:00:00.095"
    },
    "metadata": {}
}, {
    "output_type": "execute_result",
    "metadata": {},
    "execution_count": 5,
    "data": {
        "application/vnd.dataresource+json": {
            "schema": {
                "fields": [
                    {
                        "name": "County_Name"
                    },
                    {
                        "name": "Median Closest Hospital As Is"
                    },
                    {
                        "name": "Median Closest Hospital No Critical"
                    },
                    {
                        "name": "Median Hospitals Beds 30 Min As Is"
                    },
                    {
                        "name": "Median Hospitals Beds 30 Min No Critical"
                    }
                ]
            },
            "data": [
                {
                    "0": "Blount",
                    "1": "16.993318518659656",
                    "2": "29.490429090458452",
                    "3": "100",
                    "4": "100"
                },
                {
                    "0": "Choctaw",
                    "1": "20.06897959334419",
                    "2": "45.302140873249144",
                    "3": "25",
                    "4": "0"
                },
                {
                    "0": "Marengo",
                    "1": "22.531054345235923",
                    "2": "29.017954067481128",
                    "3": "36",
                    "4": "23.5"
                },
                {
                    "0": "Randolph",
                    "1": "14.951674957772603",
                    "2": "36.1281992080544",
                    "3": "15",
                    "4": "0"
                },
                {
                    "0": "Washington",
                    "1": "20.288522168117616",
                    "2": "31.158104160855085",
                    "3": "20",
                    "4": "0"
                }
            ]
        },
        "text/html": [
            "<table>",
            "<tr><th>County_Name</th><th>Median Closest Hospital As Is</th><th>Median Closest Hospital No Critical</th><th>Median Hospitals Beds 30 Min As Is</th><th>Median Hospitals Beds 30 Min No Critical</th></tr>",
            "<tr><td>Blount</td><td>16.993318518659656</td><td>29.490429090458452</td><td>100</td><td>100</td></tr>",
            "<tr><td>Choctaw</td><td>20.06897959334419</td><td>45.302140873249144</td><td>25</td><td>0</td></tr>",
            "<tr><td>Marengo</td><td>22.531054345235923</td><td>29.017954067481128</td><td>36</td><td>23.5</td></tr>",
            "<tr><td>Randolph</td><td>14.951674957772603</td><td>36.1281992080544</td><td>15</td><td>0</td></tr>",
            "<tr><td>Washington</td><td>20.288522168117616</td><td>31.158104160855085</td><td>20</td><td>0</td></tr>",
            "</table>"
        ]
    }
}
],
            "execution_count": 5
        },
        {
            "cell_type": "code",
            "source": [
                "\n",
                "--Table 2: Physical Access Statistics on Counties Most Impacted if Newly Proposed CAH is Added\n",
                "select *\n",
                "from\n",
                "(\n",
                "select distinct\n",
                " County_Name\n",
                ",PERCENTILE_CONT(0.5) WITHIN GROUP (ORDER BY [Closest Hospital As Is])OVER (PARTITION BY County_Name) AS [Median Closest Hospital As Is] \n",
                ",PERCENTILE_CONT(0.5) WITHIN GROUP (ORDER BY [Closest Hospital With New Critical])OVER (PARTITION BY County_Name) AS [Median Closest Hospital With New Critical] \n",
                ",PERCENTILE_CONT(0.5) WITHIN GROUP (ORDER BY [Hospitals Beds 30 Min As Is])OVER (PARTITION BY County_Name) AS [Median Hospitals Beds 30 Min As Is]  \n",
                ",PERCENTILE_CONT(0.5) WITHIN GROUP (ORDER BY [Hospitals Beds 30 Min With New Critical])OVER (PARTITION BY County_Name) AS [Median Hospitals Beds 30 Min With New Critical] \n",
                "from #final_key_Map\n",
                ") A\n",
                "where [Median Closest Hospital With New Critical]<[Median Closest Hospital As Is]\n",
                "order by County_Name"
            ],
            "metadata": {
                "azdata_cell_guid": "d1cfd31c-ab5f-471f-bd13-b0e89da170c9"
            },
            "outputs": [
{
    "output_type": "display_data",
    "data": {
        "text/html": "(1 row affected)"
    },
    "metadata": {}
}, {
    "output_type": "display_data",
    "data": {
        "text/html": "Total execution time: 00:00:00.075"
    },
    "metadata": {}
}, {
    "output_type": "execute_result",
    "metadata": {},
    "execution_count": 6,
    "data": {
        "application/vnd.dataresource+json": {
            "schema": {
                "fields": [
                    {
                        "name": "County_Name"
                    },
                    {
                        "name": "Median Closest Hospital As Is"
                    },
                    {
                        "name": "Median Closest Hospital With New Critical"
                    },
                    {
                        "name": "Median Hospitals Beds 30 Min As Is"
                    },
                    {
                        "name": "Median Hospitals Beds 30 Min With New Critical"
                    }
                ]
            },
            "data": [
                {
                    "0": "Cleburne",
                    "1": "33.27421959377564",
                    "2": "14.28835821",
                    "3": "78",
                    "4": "103"
                }
            ]
        },
        "text/html": [
            "<table>",
            "<tr><th>County_Name</th><th>Median Closest Hospital As Is</th><th>Median Closest Hospital With New Critical</th><th>Median Hospitals Beds 30 Min As Is</th><th>Median Hospitals Beds 30 Min With New Critical</th></tr>",
            "<tr><td>Cleburne</td><td>33.27421959377564</td><td>14.28835821</td><td>78</td><td>103</td></tr>",
            "</table>"
        ]
    }
}
],
            "execution_count": 6
        }
    ]
}