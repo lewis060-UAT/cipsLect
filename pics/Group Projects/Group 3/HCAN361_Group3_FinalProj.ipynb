{
    "metadata": {
        "kernelspec": {
            "name": "SQL",
            "display_name": "SQL",
            "language": "sql"
        },
        "language_info": {
            "name": "sql",
            "version": ""
        }
    },
    "nbformat_minor": 2,
    "nbformat": 4,
    "cells": [
        {
            "cell_type": "markdown",
            "source": [
                "# HCAN 361 Final Project: Spring 2021\r\n",
                "\r\n",
                "## Physical Access to Airborne Infection Rooms in US Hospitals: An Exploratory Analysis and Retrospective Assessment of the Implications with COVID Pandemic"
            ],
            "metadata": {
                "azdata_cell_guid": "ba3d6f7a-edc5-40e3-b0b6-e59bfecff927"
            }
        },
        {
            "cell_type": "code",
            "source": [
                "use HCAN361_FinalProj\r\n",
                "\r\n",
                "select *\r\n",
                "from dbo.AS2019_DataDictionary\r\n",
                "where [Item No#] is not null and [Field Description] like '%airborne%' \r\n",
                "order by [Item No#]\r\n",
                "\r\n",
                "--First we identified the provider ids (hospitals) that were either classified as an Airborne Hospitals and the number of rooms that hospital had to offer -- \r\n",
                "\r\n",
                "SELECT A.ID\r\n",
                "      ,cast(A.LAT as float) as LAT\r\n",
                "\t  ,cast(A.LONG as float) as LONG\r\n",
                "\t  ,A.MNAME\r\n",
                "      ,C.County_Name,C.State_Name,C.HRSA_RURAL_DESC,('Z'+C.STATEFP+C.COUNTYFP) as [County_GEOID_Z]\r\n",
                "\t  ,case when C.[Median_ADI_NatRank]<=25 then '02: Upper Class'\r\n",
                "\t   when (C.[Median_ADI_NatRank]>25 and C.[Median_ADI_NatRank]<=75) then '01: Middle Class'\r\n",
                "\t   when C.[Median_ADI_NatRank]>75 then '00: Lower Class'\r\n",
                "\t   else '99: Not Ranked' end as [ADI]\r\n",
                "\t  ,D.AIRBROOM\r\n",
                "into #hospitals_With\r\n",
                "FROM \r\n",
                "dbo.AS19DEM as A\r\n",
                "left join\r\n",
                "[dbo].[Provider_Census_Tract] as B\r\n",
                "\ton A.ID=B.Provider_ID\r\n",
                "left join \r\n",
                "[dbo].[US_Census_Tract_Charac] as C\r\n",
                "\ton B.GEOID_Data=C.GEOID_Data\r\n",
                "inner join\r\n",
                "dbo.AS19SVC1 as D\r\n",
                "\ton A.ID=D.ID\r\n",
                "where ((D.AIRBHOS is not null) and (D.AIRBROOM is not null))\r\n",
                "and LAT is not null\r\n",
                "order by C.State_Name;\r\n",
                "--note two facilities (ID='6740273' and '6740909')are clipped from analyses due to geocoding problems\r\n",
                "\r\n",
                "select top 10 * from #hospitals_With;\r\n",
                "\r\n",
                "select distinct *\r\n",
                "into [HCAN361_03].dbo.AirRooms_Group3\r\n",
                "from #hospitals_With;\r\n",
                "\r\n",
                "alter table [HCAN361_03].dbo.AirRooms_Group3\r\n",
                "alter column ID varchar(30) not null;\r\n",
                "\r\n",
                "alter table [HCAN361_03].dbo.AirRooms_Group3\r\n",
                "add constraint pk_air_Grp3 primary key(ID);\r\n",
                "\r\n",
                ""
            ],
            "metadata": {
                "azdata_cell_guid": "c2fa066b-608e-4860-92e6-0c2b89e49aec"
            },
            "outputs": [
                {
                    "output_type": "display_data",
                    "data": {
                        "text/html": "(4 rows affected)"
                    },
                    "metadata": {}
                },
                {
                    "output_type": "display_data",
                    "data": {
                        "text/html": "(3415 rows affected)"
                    },
                    "metadata": {}
                },
                {
                    "output_type": "display_data",
                    "data": {
                        "text/html": "(10 rows affected)"
                    },
                    "metadata": {}
                },
                {
                    "output_type": "display_data",
                    "data": {
                        "text/html": "(3415 rows affected)"
                    },
                    "metadata": {}
                },
                {
                    "output_type": "display_data",
                    "data": {
                        "text/html": "Total execution time: 00:00:00.612"
                    },
                    "metadata": {}
                },
                {
                    "output_type": "execute_result",
                    "metadata": {},
                    "execution_count": 1,
                    "data": {
                        "application/vnd.dataresource+json": {
                            "schema": {
                                "fields": [
                                    {
                                        "name": "Item No#"
                                    },
                                    {
                                        "name": "FieldName"
                                    },
                                    {
                                        "name": "Estimated"
                                    },
                                    {
                                        "name": "Length"
                                    },
                                    {
                                        "name": "Start"
                                    },
                                    {
                                        "name": "End"
                                    },
                                    {
                                        "name": "Field Description"
                                    },
                                    {
                                        "name": "Survey Question"
                                    },
                                    {
                                        "name": "Access Table"
                                    },
                                    {
                                        "name": "Notes"
                                    }
                                ]
                            },
                            "data": [
                                {
                                    "0": "283",
                                    "1": "AIRBHOS",
                                    "2": "N",
                                    "3": "1",
                                    "4": "2729",
                                    "5": "2729",
                                    "6": "Airborne infection isolation room - hospital",
                                    "7": "C.21.",
                                    "8": "as19svc1",
                                    "9": "1=yes, 0=no"
                                },
                                {
                                    "0": "284",
                                    "1": "AIRBSYS",
                                    "2": "N",
                                    "3": "1",
                                    "4": "2730",
                                    "5": "2730",
                                    "6": "Airborne infection isolation room - health system",
                                    "7": "C.21.",
                                    "8": "as19svc1",
                                    "9": "1=yes, 0=no"
                                },
                                {
                                    "0": "285",
                                    "1": "AIRBVEN",
                                    "2": "N",
                                    "3": "1",
                                    "4": "2731",
                                    "5": "2731",
                                    "6": "Airborne infection isolation room - joint venture",
                                    "7": "C.21.",
                                    "8": "as19svc1",
                                    "9": "1=yes, 0=no"
                                },
                                {
                                    "0": "286",
                                    "1": "AIRBROOM",
                                    "2": "N",
                                    "3": "4",
                                    "4": "2732",
                                    "5": "2735",
                                    "6": "Number of airborne infection isolation rooms",
                                    "7": "C.21.",
                                    "8": "as19svc1",
                                    "9": "Number of rooms"
                                }
                            ]
                        },
                        "text/html": [
                            "<table>",
                            "<tr><th>Item No#</th><th>FieldName</th><th>Estimated</th><th>Length</th><th>Start</th><th>End</th><th>Field Description</th><th>Survey Question</th><th>Access Table</th><th>Notes</th></tr>",
                            "<tr><td>283</td><td>AIRBHOS</td><td>N</td><td>1</td><td>2729</td><td>2729</td><td>Airborne infection isolation room - hospital</td><td>C.21.</td><td>as19svc1</td><td>1=yes, 0=no</td></tr>",
                            "<tr><td>284</td><td>AIRBSYS</td><td>N</td><td>1</td><td>2730</td><td>2730</td><td>Airborne infection isolation room - health system</td><td>C.21.</td><td>as19svc1</td><td>1=yes, 0=no</td></tr>",
                            "<tr><td>285</td><td>AIRBVEN</td><td>N</td><td>1</td><td>2731</td><td>2731</td><td>Airborne infection isolation room - joint venture</td><td>C.21.</td><td>as19svc1</td><td>1=yes, 0=no</td></tr>",
                            "<tr><td>286</td><td>AIRBROOM</td><td>N</td><td>4</td><td>2732</td><td>2735</td><td>Number of airborne infection isolation rooms</td><td>C.21.</td><td>as19svc1</td><td>Number of rooms</td></tr>",
                            "</table>"
                        ]
                    }
                },
                {
                    "output_type": "execute_result",
                    "metadata": {},
                    "execution_count": 1,
                    "data": {
                        "application/vnd.dataresource+json": {
                            "schema": {
                                "fields": [
                                    {
                                        "name": "ID"
                                    },
                                    {
                                        "name": "LAT"
                                    },
                                    {
                                        "name": "LONG"
                                    },
                                    {
                                        "name": "MNAME"
                                    },
                                    {
                                        "name": "County_Name"
                                    },
                                    {
                                        "name": "State_Name"
                                    },
                                    {
                                        "name": "HRSA_RURAL_DESC"
                                    },
                                    {
                                        "name": "County_GEOID_Z"
                                    },
                                    {
                                        "name": "ADI"
                                    },
                                    {
                                        "name": "AIRBROOM"
                                    }
                                ]
                            },
                            "data": [
                                {
                                    "0": "6232810",
                                    "1": "40.9613",
                                    "2": "-78.9997",
                                    "3": "Punxsutawney Area Hospital",
                                    "4": "Jefferson",
                                    "5": "Pennsylvania",
                                    "6": "01: Rural",
                                    "7": "Z42065",
                                    "8": "01: Middle Class",
                                    "9": "3"
                                },
                                {
                                    "0": "6232980",
                                    "1": "41.4001",
                                    "2": "-75.6463",
                                    "3": "Geisinger-Community Medical Center",
                                    "4": "Lackawanna",
                                    "5": "Pennsylvania",
                                    "6": "00: Urban",
                                    "7": "Z42069",
                                    "8": "01: Middle Class",
                                    "9": "6"
                                },
                                {
                                    "0": "6233010",
                                    "1": "41.4105",
                                    "2": "-75.6507",
                                    "3": "Moses Taylor Hospital",
                                    "4": "Lackawanna",
                                    "5": "Pennsylvania",
                                    "6": "00: Urban",
                                    "7": "Z42069",
                                    "8": "01: Middle Class",
                                    "9": "12"
                                },
                                {
                                    "0": "6231120",
                                    "1": "40.0472",
                                    "2": "-76.3041",
                                    "3": "Penn Medicine Lancaster General Hospital",
                                    "4": "Lancaster",
                                    "5": "Pennsylvania",
                                    "6": "00: Urban",
                                    "7": "Z42071",
                                    "8": "01: Middle Class",
                                    "9": "57"
                                },
                                {
                                    "0": "6239183",
                                    "1": "40.1317",
                                    "2": "-76.3103",
                                    "3": "UPMC Lititz",
                                    "4": "Lancaster",
                                    "5": "Pennsylvania",
                                    "6": "00: Urban",
                                    "7": "Z42071",
                                    "8": "01: Middle Class",
                                    "9": "12"
                                },
                                {
                                    "0": "6230745",
                                    "1": "40.1872",
                                    "2": "-76.1824",
                                    "3": "WellSpan Ephrata Community Hospital",
                                    "4": "Lancaster",
                                    "5": "Pennsylvania",
                                    "6": "00: Urban",
                                    "7": "Z42071",
                                    "8": "01: Middle Class",
                                    "9": "12"
                                },
                                {
                                    "0": "6231510",
                                    "1": "41.0136",
                                    "2": "-80.3539",
                                    "3": "UPMC Jameson",
                                    "4": "Lawrence",
                                    "5": "Pennsylvania",
                                    "6": "01: Rural",
                                    "7": "Z42073",
                                    "8": "00: Lower Class",
                                    "9": "4"
                                },
                                {
                                    "0": "6230019",
                                    "1": "40.3371",
                                    "2": "-76.4175",
                                    "3": "WellSpan Good Samaritan Hospital",
                                    "4": "Lebanon",
                                    "5": "Pennsylvania",
                                    "6": "00: Urban",
                                    "7": "Z42075",
                                    "8": "01: Middle Class",
                                    "9": "12"
                                },
                                {
                                    "0": "6230040",
                                    "1": "40.6084",
                                    "2": "-75.4684",
                                    "3": "St. Luke's Sacred Heart Campus",
                                    "4": "Lehigh",
                                    "5": "Pennsylvania",
                                    "6": "00: Urban",
                                    "7": "Z42077",
                                    "8": "00: Lower Class",
                                    "9": "6"
                                },
                                {
                                    "0": "6230013",
                                    "1": "40.5669",
                                    "2": "-75.519",
                                    "3": "Lehigh Valley Hospital",
                                    "4": "Lehigh",
                                    "5": "Pennsylvania",
                                    "6": "00: Urban",
                                    "7": "Z42077",
                                    "8": "02: Upper Class",
                                    "9": "128"
                                }
                            ]
                        },
                        "text/html": [
                            "<table>",
                            "<tr><th>ID</th><th>LAT</th><th>LONG</th><th>MNAME</th><th>County_Name</th><th>State_Name</th><th>HRSA_RURAL_DESC</th><th>County_GEOID_Z</th><th>ADI</th><th>AIRBROOM</th></tr>",
                            "<tr><td>6232810</td><td>40.9613</td><td>-78.9997</td><td>Punxsutawney Area Hospital</td><td>Jefferson</td><td>Pennsylvania</td><td>01: Rural</td><td>Z42065</td><td>01: Middle Class</td><td>3</td></tr>",
                            "<tr><td>6232980</td><td>41.4001</td><td>-75.6463</td><td>Geisinger-Community Medical Center</td><td>Lackawanna</td><td>Pennsylvania</td><td>00: Urban</td><td>Z42069</td><td>01: Middle Class</td><td>6</td></tr>",
                            "<tr><td>6233010</td><td>41.4105</td><td>-75.6507</td><td>Moses Taylor Hospital</td><td>Lackawanna</td><td>Pennsylvania</td><td>00: Urban</td><td>Z42069</td><td>01: Middle Class</td><td>12</td></tr>",
                            "<tr><td>6231120</td><td>40.0472</td><td>-76.3041</td><td>Penn Medicine Lancaster General Hospital</td><td>Lancaster</td><td>Pennsylvania</td><td>00: Urban</td><td>Z42071</td><td>01: Middle Class</td><td>57</td></tr>",
                            "<tr><td>6239183</td><td>40.1317</td><td>-76.3103</td><td>UPMC Lititz</td><td>Lancaster</td><td>Pennsylvania</td><td>00: Urban</td><td>Z42071</td><td>01: Middle Class</td><td>12</td></tr>",
                            "<tr><td>6230745</td><td>40.1872</td><td>-76.1824</td><td>WellSpan Ephrata Community Hospital</td><td>Lancaster</td><td>Pennsylvania</td><td>00: Urban</td><td>Z42071</td><td>01: Middle Class</td><td>12</td></tr>",
                            "<tr><td>6231510</td><td>41.0136</td><td>-80.3539</td><td>UPMC Jameson</td><td>Lawrence</td><td>Pennsylvania</td><td>01: Rural</td><td>Z42073</td><td>00: Lower Class</td><td>4</td></tr>",
                            "<tr><td>6230019</td><td>40.3371</td><td>-76.4175</td><td>WellSpan Good Samaritan Hospital</td><td>Lebanon</td><td>Pennsylvania</td><td>00: Urban</td><td>Z42075</td><td>01: Middle Class</td><td>12</td></tr>",
                            "<tr><td>6230040</td><td>40.6084</td><td>-75.4684</td><td>St. Luke's Sacred Heart Campus</td><td>Lehigh</td><td>Pennsylvania</td><td>00: Urban</td><td>Z42077</td><td>00: Lower Class</td><td>6</td></tr>",
                            "<tr><td>6230013</td><td>40.5669</td><td>-75.519</td><td>Lehigh Valley Hospital</td><td>Lehigh</td><td>Pennsylvania</td><td>00: Urban</td><td>Z42077</td><td>02: Upper Class</td><td>128</td></tr>",
                            "</table>"
                        ]
                    }
                }
            ],
            "execution_count": 1
        },
        {
            "cell_type": "code",
            "source": [
                "--Next, we built population tables to help us determine county level rates of air isolation rooms per people\r\n",
                "select A.[GEOID_Data], ('Z'+A.STATEFP+A.COUNTYFP) as GEOID_County_Z,\r\n",
                "[State_Name],[County_Name], [HRSA_RURAL_DESC],\r\n",
                "case when [Median_ADI_NatRank]<=25 then '02: Upper Class'\r\n",
                "when ([Median_ADI_NatRank]>25 and [Median_ADI_NatRank]<=75) then '01: Middle Class'\r\n",
                "when [Median_ADI_NatRank]>75 then '00: Lower Class'\r\n",
                "else '99: Not Ranked' end as [ADI],B.B01001e1 as [Total_Pop]\r\n",
                "into #Population\r\n",
                "from [dbo].[US_Census_Tract_Charac] A\r\n",
                "left join\r\n",
                "[dbo].[Census_ACS5Yr_2018] B\r\n",
                "\ton A.GEOID_Data=B.GEOID_Data;\r\n",
                "\r\n",
                "select top 10 *\r\n",
                "from #Population\r\n",
                ""
            ],
            "metadata": {
                "azdata_cell_guid": "3d24d27c-5a0c-4b1d-9873-b24b5aadfac1"
            },
            "outputs": [
                {
                    "output_type": "display_data",
                    "data": {
                        "text/html": "(74001 rows affected)"
                    },
                    "metadata": {}
                },
                {
                    "output_type": "display_data",
                    "data": {
                        "text/html": "(10 rows affected)"
                    },
                    "metadata": {}
                },
                {
                    "output_type": "display_data",
                    "data": {
                        "text/html": "Total execution time: 00:00:00.324"
                    },
                    "metadata": {}
                },
                {
                    "output_type": "execute_result",
                    "metadata": {},
                    "execution_count": 2,
                    "data": {
                        "application/vnd.dataresource+json": {
                            "schema": {
                                "fields": [
                                    {
                                        "name": "GEOID_Data"
                                    },
                                    {
                                        "name": "GEOID_County_Z"
                                    },
                                    {
                                        "name": "State_Name"
                                    },
                                    {
                                        "name": "County_Name"
                                    },
                                    {
                                        "name": "HRSA_RURAL_DESC"
                                    },
                                    {
                                        "name": "ADI"
                                    },
                                    {
                                        "name": "Total_Pop"
                                    }
                                ]
                            },
                            "data": [
                                {
                                    "0": "14000US01001020500",
                                    "1": "Z01001",
                                    "2": "Alabama",
                                    "3": "Autauga",
                                    "4": "00: Urban",
                                    "5": "01: Middle Class",
                                    "6": "9883.00000000"
                                },
                                {
                                    "0": "14000US01001021000",
                                    "1": "Z01001",
                                    "2": "Alabama",
                                    "3": "Autauga",
                                    "4": "00: Urban",
                                    "5": "01: Middle Class",
                                    "6": "2550.00000000"
                                },
                                {
                                    "0": "14000US01003010701",
                                    "1": "Z01003",
                                    "2": "Alabama",
                                    "3": "Baldwin",
                                    "4": "00: Urban",
                                    "5": "02: Upper Class",
                                    "6": "8324.00000000"
                                },
                                {
                                    "0": "14000US01003010903",
                                    "1": "Z01003",
                                    "2": "Alabama",
                                    "3": "Baldwin",
                                    "4": "00: Urban",
                                    "5": "01: Middle Class",
                                    "6": "5789.00000000"
                                },
                                {
                                    "0": "14000US01003011102",
                                    "1": "Z01003",
                                    "2": "Alabama",
                                    "3": "Baldwin",
                                    "4": "00: Urban",
                                    "5": "01: Middle Class",
                                    "6": "4385.00000000"
                                },
                                {
                                    "0": "14000US01003011405",
                                    "1": "Z01003",
                                    "2": "Alabama",
                                    "3": "Baldwin",
                                    "4": "00: Urban",
                                    "5": "02: Upper Class",
                                    "6": "4647.00000000"
                                },
                                {
                                    "0": "14000US01003011407",
                                    "1": "Z01003",
                                    "2": "Alabama",
                                    "3": "Baldwin",
                                    "4": "01: Rural",
                                    "5": "01: Middle Class",
                                    "6": "4984.00000000"
                                },
                                {
                                    "0": "14000US01005950800",
                                    "1": "Z01005",
                                    "2": "Alabama",
                                    "3": "Barbour",
                                    "4": "01: Rural",
                                    "5": "01: Middle Class",
                                    "6": "2347.00000000"
                                },
                                {
                                    "0": "14000US01005950900",
                                    "1": "Z01005",
                                    "2": "Alabama",
                                    "3": "Barbour",
                                    "4": "01: Rural",
                                    "5": "01: Middle Class",
                                    "6": "3994.00000000"
                                },
                                {
                                    "0": "14000US01009050500",
                                    "1": "Z01009",
                                    "2": "Alabama",
                                    "3": "Blount",
                                    "4": "00: Urban",
                                    "5": "01: Middle Class",
                                    "6": "7455.00000000"
                                }
                            ]
                        },
                        "text/html": [
                            "<table>",
                            "<tr><th>GEOID_Data</th><th>GEOID_County_Z</th><th>State_Name</th><th>County_Name</th><th>HRSA_RURAL_DESC</th><th>ADI</th><th>Total_Pop</th></tr>",
                            "<tr><td>14000US01001020500</td><td>Z01001</td><td>Alabama</td><td>Autauga</td><td>00: Urban</td><td>01: Middle Class</td><td>9883.00000000</td></tr>",
                            "<tr><td>14000US01001021000</td><td>Z01001</td><td>Alabama</td><td>Autauga</td><td>00: Urban</td><td>01: Middle Class</td><td>2550.00000000</td></tr>",
                            "<tr><td>14000US01003010701</td><td>Z01003</td><td>Alabama</td><td>Baldwin</td><td>00: Urban</td><td>02: Upper Class</td><td>8324.00000000</td></tr>",
                            "<tr><td>14000US01003010903</td><td>Z01003</td><td>Alabama</td><td>Baldwin</td><td>00: Urban</td><td>01: Middle Class</td><td>5789.00000000</td></tr>",
                            "<tr><td>14000US01003011102</td><td>Z01003</td><td>Alabama</td><td>Baldwin</td><td>00: Urban</td><td>01: Middle Class</td><td>4385.00000000</td></tr>",
                            "<tr><td>14000US01003011405</td><td>Z01003</td><td>Alabama</td><td>Baldwin</td><td>00: Urban</td><td>02: Upper Class</td><td>4647.00000000</td></tr>",
                            "<tr><td>14000US01003011407</td><td>Z01003</td><td>Alabama</td><td>Baldwin</td><td>01: Rural</td><td>01: Middle Class</td><td>4984.00000000</td></tr>",
                            "<tr><td>14000US01005950800</td><td>Z01005</td><td>Alabama</td><td>Barbour</td><td>01: Rural</td><td>01: Middle Class</td><td>2347.00000000</td></tr>",
                            "<tr><td>14000US01005950900</td><td>Z01005</td><td>Alabama</td><td>Barbour</td><td>01: Rural</td><td>01: Middle Class</td><td>3994.00000000</td></tr>",
                            "<tr><td>14000US01009050500</td><td>Z01009</td><td>Alabama</td><td>Blount</td><td>00: Urban</td><td>01: Middle Class</td><td>7455.00000000</td></tr>",
                            "</table>"
                        ]
                    }
                }
            ],
            "execution_count": 2
        },
        {
            "cell_type": "code",
            "source": [
                "--Next we identified the correlating variables from the Travel_matrix to understand the distances per census tract to the nearst hospital\r\n",
                "\r\n",
                "Select Distinct A.*\r\n",
                "                ,ISNULL(B.Closest_Hospital,361) AS Closest_Hospital\r\n",
                "\t\t\t\t,ISNULL(C.AIRBROOM_60Min,0) AS AIRBROOM_60Min\r\n",
                "into #Air_TravelMap\r\n",
                "from\r\n",
                "--Population of interest\r\n",
                "#Population A\r\n",
                "left join\r\n",
                "--Find closest hospital when all are open\r\n",
                "(\r\n",
                "select GEOID_Data, MIN(TOTAL_TRAVELTIME) AS Closest_Hospital\r\n",
                "from \r\n",
                "[dbo].[Travel_Matrix]\r\n",
                "where Provider_ID in\r\n",
                "(select ID from #hospitals_With)\r\n",
                "Group by GEOID_Data\r\n",
                ") B\r\n",
                "\ton A.GEOID_Data=B.GEOID_Data\r\n",
                "left join\r\n",
                "--Find available Nurse FTE within 30 minutes\r\n",
                "(\r\n",
                "select A.GEOID_Data, SUM(B.AIRBROOM) AS AIRBROOM_60Min\r\n",
                "from \r\n",
                "[dbo].[Travel_Matrix] as A\r\n",
                "left join\r\n",
                "#hospitals_With B\r\n",
                "\ton A.Provider_ID=B.ID\r\n",
                "where A.Provider_ID in\r\n",
                "(select ID from #hospitals_With)\r\n",
                "and A.TOTAL_TRAVELTIME<=60\r\n",
                "Group by GEOID_Data\r\n",
                ") C\r\n",
                "\ton A.GEOID_Data=C.GEOID_Data\r\n",
                "order by A.GEOID_Data;\r\n",
                "\r\n",
                "\r\n",
                "select top 10 * from #Air_TravelMap;\r\n",
                "\r\n",
                "select distinct *\r\n",
                "into [HCAN361_03].dbo.Air_Travel_Group3\r\n",
                "from #Air_TravelMap;\r\n",
                "\r\n",
                "alter table [HCAN361_03].dbo.Air_Travel_Group3\r\n",
                "alter column GEOID_Data varchar(30) not null;\r\n",
                "\r\n",
                "alter table [HCAN361_03].dbo.Air_Travel_Group3\r\n",
                "add constraint pk_trvl_Grp3 primary key(GEOID_Data);"
            ],
            "metadata": {
                "azdata_cell_guid": "9e77659d-948a-4bc3-987f-e65e61dc5ab3"
            },
            "outputs": [
                {
                    "output_type": "display_data",
                    "data": {
                        "text/html": "(74001 rows affected)"
                    },
                    "metadata": {}
                },
                {
                    "output_type": "display_data",
                    "data": {
                        "text/html": "(10 rows affected)"
                    },
                    "metadata": {}
                },
                {
                    "output_type": "display_data",
                    "data": {
                        "text/html": "(74001 rows affected)"
                    },
                    "metadata": {}
                },
                {
                    "output_type": "display_data",
                    "data": {
                        "text/html": "Total execution time: 00:00:21.002"
                    },
                    "metadata": {}
                },
                {
                    "output_type": "execute_result",
                    "metadata": {},
                    "execution_count": 3,
                    "data": {
                        "application/vnd.dataresource+json": {
                            "schema": {
                                "fields": [
                                    {
                                        "name": "GEOID_Data"
                                    },
                                    {
                                        "name": "GEOID_County_Z"
                                    },
                                    {
                                        "name": "State_Name"
                                    },
                                    {
                                        "name": "County_Name"
                                    },
                                    {
                                        "name": "HRSA_RURAL_DESC"
                                    },
                                    {
                                        "name": "ADI"
                                    },
                                    {
                                        "name": "Total_Pop"
                                    },
                                    {
                                        "name": "Closest_Hospital"
                                    },
                                    {
                                        "name": "AIRBROOM_60Min"
                                    }
                                ]
                            },
                            "data": [
                                {
                                    "0": "14000US37049960200",
                                    "1": "Z37049",
                                    "2": "North Carolina",
                                    "3": "Craven",
                                    "4": "00: Urban",
                                    "5": "00: Lower Class",
                                    "6": "8057.00000000",
                                    "7": "27.25552428000185",
                                    "8": "53"
                                },
                                {
                                    "0": "14000US37049960402",
                                    "1": "Z37049",
                                    "2": "North Carolina",
                                    "3": "Craven",
                                    "4": "00: Urban",
                                    "5": "01: Middle Class",
                                    "6": "4215.00000000",
                                    "7": "8.461779627353216",
                                    "8": "66"
                                },
                                {
                                    "0": "14000US37049960403",
                                    "1": "Z37049",
                                    "2": "North Carolina",
                                    "3": "Craven",
                                    "4": "00: Urban",
                                    "5": "01: Middle Class",
                                    "6": "4081.00000000",
                                    "7": "9.959876939914603",
                                    "8": "66"
                                },
                                {
                                    "0": "14000US37049960404",
                                    "1": "Z37049",
                                    "2": "North Carolina",
                                    "3": "Craven",
                                    "4": "00: Urban",
                                    "5": "01: Middle Class",
                                    "6": "2999.00000000",
                                    "7": "14.008071355868058",
                                    "8": "66"
                                },
                                {
                                    "0": "14000US37049960900",
                                    "1": "Z37049",
                                    "2": "North Carolina",
                                    "3": "Craven",
                                    "4": "00: Urban",
                                    "5": "01: Middle Class",
                                    "6": "2100.00000000",
                                    "7": "6.775670073239803",
                                    "8": "66"
                                },
                                {
                                    "0": "14000US37049961201",
                                    "1": "Z37049",
                                    "2": "North Carolina",
                                    "3": "Craven",
                                    "4": "01: Rural",
                                    "5": "00: Lower Class",
                                    "6": "2895.00000000",
                                    "7": "35.552849859547685",
                                    "8": "33"
                                },
                                {
                                    "0": "14000US37049961301",
                                    "1": "Z37049",
                                    "2": "North Carolina",
                                    "3": "Craven",
                                    "4": "01: Rural",
                                    "5": "01: Middle Class",
                                    "6": "3873.00000000",
                                    "7": "22.56762063326011",
                                    "8": "33"
                                },
                                {
                                    "0": "14000US37049961302",
                                    "1": "Z37049",
                                    "2": "North Carolina",
                                    "3": "Craven",
                                    "4": "01: Rural",
                                    "5": "01: Middle Class",
                                    "6": "5513.00000000",
                                    "7": "27.22678442383218",
                                    "8": "33"
                                },
                                {
                                    "0": "14000US37051000800",
                                    "1": "Z37051",
                                    "2": "North Carolina",
                                    "3": "Cumberland",
                                    "4": "00: Urban",
                                    "5": "01: Middle Class",
                                    "6": "2611.00000000",
                                    "7": "3.290643308105689",
                                    "8": "80"
                                },
                                {
                                    "0": "14000US37051000900",
                                    "1": "Z37051",
                                    "2": "North Carolina",
                                    "3": "Cumberland",
                                    "4": "00: Urban",
                                    "5": "01: Middle Class",
                                    "6": "4778.00000000",
                                    "7": "5.782664762832561",
                                    "8": "74"
                                }
                            ]
                        },
                        "text/html": [
                            "<table>",
                            "<tr><th>GEOID_Data</th><th>GEOID_County_Z</th><th>State_Name</th><th>County_Name</th><th>HRSA_RURAL_DESC</th><th>ADI</th><th>Total_Pop</th><th>Closest_Hospital</th><th>AIRBROOM_60Min</th></tr>",
                            "<tr><td>14000US37049960200</td><td>Z37049</td><td>North Carolina</td><td>Craven</td><td>00: Urban</td><td>00: Lower Class</td><td>8057.00000000</td><td>27.25552428000185</td><td>53</td></tr>",
                            "<tr><td>14000US37049960402</td><td>Z37049</td><td>North Carolina</td><td>Craven</td><td>00: Urban</td><td>01: Middle Class</td><td>4215.00000000</td><td>8.461779627353216</td><td>66</td></tr>",
                            "<tr><td>14000US37049960403</td><td>Z37049</td><td>North Carolina</td><td>Craven</td><td>00: Urban</td><td>01: Middle Class</td><td>4081.00000000</td><td>9.959876939914603</td><td>66</td></tr>",
                            "<tr><td>14000US37049960404</td><td>Z37049</td><td>North Carolina</td><td>Craven</td><td>00: Urban</td><td>01: Middle Class</td><td>2999.00000000</td><td>14.008071355868058</td><td>66</td></tr>",
                            "<tr><td>14000US37049960900</td><td>Z37049</td><td>North Carolina</td><td>Craven</td><td>00: Urban</td><td>01: Middle Class</td><td>2100.00000000</td><td>6.775670073239803</td><td>66</td></tr>",
                            "<tr><td>14000US37049961201</td><td>Z37049</td><td>North Carolina</td><td>Craven</td><td>01: Rural</td><td>00: Lower Class</td><td>2895.00000000</td><td>35.552849859547685</td><td>33</td></tr>",
                            "<tr><td>14000US37049961301</td><td>Z37049</td><td>North Carolina</td><td>Craven</td><td>01: Rural</td><td>01: Middle Class</td><td>3873.00000000</td><td>22.56762063326011</td><td>33</td></tr>",
                            "<tr><td>14000US37049961302</td><td>Z37049</td><td>North Carolina</td><td>Craven</td><td>01: Rural</td><td>01: Middle Class</td><td>5513.00000000</td><td>27.22678442383218</td><td>33</td></tr>",
                            "<tr><td>14000US37051000800</td><td>Z37051</td><td>North Carolina</td><td>Cumberland</td><td>00: Urban</td><td>01: Middle Class</td><td>2611.00000000</td><td>3.290643308105689</td><td>80</td></tr>",
                            "<tr><td>14000US37051000900</td><td>Z37051</td><td>North Carolina</td><td>Cumberland</td><td>00: Urban</td><td>01: Middle Class</td><td>4778.00000000</td><td>5.782664762832561</td><td>74</td></tr>",
                            "</table>"
                        ]
                    }
                }
            ],
            "execution_count": 3
        },
        {
            "cell_type": "code",
            "source": [
                "--Air isolation room per 10,000 people within each county\r\n",
                "\r\n",
                "Select Distinct\r\n",
                " A.GEOID_County_Z,A.State_Name,A.County_Name\r\n",
                ",A.Total_Pop,isnull(B.AIRBROOM,0) as AIRBROOM\r\n",
                ",(isnull(B.AIRBROOM,0)/(Total_Pop*1.00))*10000 as [Rooms per 10K people]\r\n",
                "into #CountyMap\r\n",
                "From\r\n",
                "(select GEOID_County_Z,State_Name,County_Name, sum(Total_Pop) as Total_Pop \r\n",
                "from #Air_TravelMap\r\n",
                "Group by GEOID_County_Z,State_Name,County_Name) as A\r\n",
                "left Join\r\n",
                "(select State_Name,County_Name, County_GEOID_Z,sum(AIRBROOM) as AIRBROOM\r\n",
                "from #hospitals_With\r\n",
                "Group by State_Name,County_Name, County_GEOID_Z) as B\r\n",
                "\ton A.GEOID_County_Z=B.County_GEOID_Z\r\n",
                "order by A.GEOID_County_Z\r\n",
                "\r\n",
                "\r\n",
                "select top 10 * from #CountyMap;\r\n",
                "\r\n",
                "select distinct *\r\n",
                "into [HCAN361_03].dbo.CountyMap_Group3\r\n",
                "from #CountyMap;\r\n",
                "\r\n",
                "alter table [HCAN361_03].dbo.CountyMap_Group3\r\n",
                "alter column GEOID_County_Z varchar(30) not null;\r\n",
                "\r\n",
                "alter table [HCAN361_03].dbo.CountyMap_Group3\r\n",
                "add constraint pk_cnty_Grp3 primary key(GEOID_County_Z);"
            ],
            "metadata": {
                "azdata_cell_guid": "901c5d07-7866-4f3a-bc14-2d1e53117bda"
            },
            "outputs": [
                {
                    "output_type": "display_data",
                    "data": {
                        "text/html": "(3220 rows affected)"
                    },
                    "metadata": {}
                },
                {
                    "output_type": "display_data",
                    "data": {
                        "text/html": "(10 rows affected)"
                    },
                    "metadata": {}
                },
                {
                    "output_type": "display_data",
                    "data": {
                        "text/html": "(3220 rows affected)"
                    },
                    "metadata": {}
                },
                {
                    "output_type": "display_data",
                    "data": {
                        "text/html": "Total execution time: 00:00:00.386"
                    },
                    "metadata": {}
                },
                {
                    "output_type": "execute_result",
                    "metadata": {},
                    "execution_count": 4,
                    "data": {
                        "application/vnd.dataresource+json": {
                            "schema": {
                                "fields": [
                                    {
                                        "name": "GEOID_County_Z"
                                    },
                                    {
                                        "name": "State_Name"
                                    },
                                    {
                                        "name": "County_Name"
                                    },
                                    {
                                        "name": "Total_Pop"
                                    },
                                    {
                                        "name": "AIRBROOM"
                                    },
                                    {
                                        "name": "Rooms per 10K people"
                                    }
                                ]
                            },
                            "data": [
                                {
                                    "0": "Z01001",
                                    "1": "Alabama",
                                    "2": "Autauga",
                                    "3": "55200.00000000",
                                    "4": "6",
                                    "5": "1.0869565217391304"
                                },
                                {
                                    "0": "Z01011",
                                    "1": "Alabama",
                                    "2": "Bullock",
                                    "3": "10352.00000000",
                                    "4": "0",
                                    "5": "0"
                                },
                                {
                                    "0": "Z01021",
                                    "1": "Alabama",
                                    "2": "Chilton",
                                    "3": "43930.00000000",
                                    "4": "3",
                                    "5": "0.6829046209879354"
                                },
                                {
                                    "0": "Z01039",
                                    "1": "Alabama",
                                    "2": "Covington",
                                    "3": "37351.00000000",
                                    "4": "1",
                                    "5": "0.2677304489839629"
                                },
                                {
                                    "0": "Z01045",
                                    "1": "Alabama",
                                    "2": "Dale",
                                    "3": "49255.00000000",
                                    "4": "0",
                                    "5": "0"
                                },
                                {
                                    "0": "Z01047",
                                    "1": "Alabama",
                                    "2": "Dallas",
                                    "3": "40029.00000000",
                                    "4": "0",
                                    "5": "0"
                                },
                                {
                                    "0": "Z01057",
                                    "1": "Alabama",
                                    "2": "Fayette",
                                    "3": "16585.00000000",
                                    "4": "3",
                                    "5": "1.808863430810974"
                                },
                                {
                                    "0": "Z01063",
                                    "1": "Alabama",
                                    "2": "Greene",
                                    "3": "8426.00000000",
                                    "4": "0",
                                    "5": "0"
                                },
                                {
                                    "0": "Z01065",
                                    "1": "Alabama",
                                    "2": "Hale",
                                    "3": "14887.00000000",
                                    "4": "0",
                                    "5": "0"
                                },
                                {
                                    "0": "Z01071",
                                    "1": "Alabama",
                                    "2": "Jackson",
                                    "3": "52094.00000000",
                                    "4": "0",
                                    "5": "0"
                                }
                            ]
                        },
                        "text/html": [
                            "<table>",
                            "<tr><th>GEOID_County_Z</th><th>State_Name</th><th>County_Name</th><th>Total_Pop</th><th>AIRBROOM</th><th>Rooms per 10K people</th></tr>",
                            "<tr><td>Z01001</td><td>Alabama</td><td>Autauga</td><td>55200.00000000</td><td>6</td><td>1.0869565217391304</td></tr>",
                            "<tr><td>Z01011</td><td>Alabama</td><td>Bullock</td><td>10352.00000000</td><td>0</td><td>0</td></tr>",
                            "<tr><td>Z01021</td><td>Alabama</td><td>Chilton</td><td>43930.00000000</td><td>3</td><td>0.6829046209879354</td></tr>",
                            "<tr><td>Z01039</td><td>Alabama</td><td>Covington</td><td>37351.00000000</td><td>1</td><td>0.2677304489839629</td></tr>",
                            "<tr><td>Z01045</td><td>Alabama</td><td>Dale</td><td>49255.00000000</td><td>0</td><td>0</td></tr>",
                            "<tr><td>Z01047</td><td>Alabama</td><td>Dallas</td><td>40029.00000000</td><td>0</td><td>0</td></tr>",
                            "<tr><td>Z01057</td><td>Alabama</td><td>Fayette</td><td>16585.00000000</td><td>3</td><td>1.808863430810974</td></tr>",
                            "<tr><td>Z01063</td><td>Alabama</td><td>Greene</td><td>8426.00000000</td><td>0</td><td>0</td></tr>",
                            "<tr><td>Z01065</td><td>Alabama</td><td>Hale</td><td>14887.00000000</td><td>0</td><td>0</td></tr>",
                            "<tr><td>Z01071</td><td>Alabama</td><td>Jackson</td><td>52094.00000000</td><td>0</td><td>0</td></tr>",
                            "</table>"
                        ]
                    }
                }
            ],
            "execution_count": 4
        },
        {
            "cell_type": "code",
            "source": [
                "--Table 1: Airborne Room Stats per Each State: Median Closest Facility\r\n",
                "\r\n",
                "select *\r\n",
                "from\r\n",
                "(\r\n",
                "select distinct \r\n",
                "'United States' as State_Name\r\n",
                ",PERCENTILE_CONT(0.5) WITHIN GROUP (ORDER BY Closest_Hospital)OVER () AS Statewide   \r\n",
                ",PERCENTILE_CONT(0.5) WITHIN GROUP (ORDER BY case when HRSA_RURAL_DESC='00: Urban' then Closest_Hospital end) OVER () AS Urban\r\n",
                ",PERCENTILE_CONT(0.5) WITHIN GROUP (ORDER BY case when HRSA_RURAL_DESC<>'00: Urban' then Closest_Hospital end) OVER () AS Rural\r\n",
                ",PERCENTILE_CONT(0.5) WITHIN GROUP (ORDER BY case when ADI='02: Upper Class' then Closest_Hospital end) OVER () AS [High SES]\r\n",
                ",PERCENTILE_CONT(0.5) WITHIN GROUP (ORDER BY case when ADI='01: Middle Class' then Closest_Hospital end) OVER () AS [Middle SES]\r\n",
                ",PERCENTILE_CONT(0.5) WITHIN GROUP (ORDER BY case when ADI='00: Lower Class' then Closest_Hospital end) OVER () AS [Low SES]\r\n",
                "from #Air_TravelMap\r\n",
                "\r\n",
                "--below code concatenates (or stacks tables on top of each other)\r\n",
                "union all\r\n",
                "\r\n",
                "select distinct\r\n",
                " State_Name\r\n",
                ",PERCENTILE_CONT(0.5) WITHIN GROUP (ORDER BY Closest_Hospital)OVER (PARTITION BY State_Name) AS Statewide   \r\n",
                ",PERCENTILE_CONT(0.5) WITHIN GROUP (ORDER BY case when HRSA_RURAL_DESC='00: Urban' then Closest_Hospital end) OVER (PARTITION BY State_Name) AS Urban\r\n",
                ",PERCENTILE_CONT(0.5) WITHIN GROUP (ORDER BY case when HRSA_RURAL_DESC<>'00: Urban' then Closest_Hospital end) OVER (PARTITION BY State_Name) AS Rural\r\n",
                ",PERCENTILE_CONT(0.5) WITHIN GROUP (ORDER BY case when ADI='02: Upper Class' then Closest_Hospital end) OVER (PARTITION BY State_Name) AS [High SES]\r\n",
                ",PERCENTILE_CONT(0.5) WITHIN GROUP (ORDER BY case when ADI='01: Middle Class' then Closest_Hospital end) OVER (PARTITION BY State_Name) AS [Middle SES]\r\n",
                ",PERCENTILE_CONT(0.5) WITHIN GROUP (ORDER BY case when ADI='00: Lower Class' then Closest_Hospital end) OVER (PARTITION BY State_Name) AS [Low SES]\r\n",
                "from #Air_TravelMap) as A\r\n",
                "order by State_Name;\r\n",
                ""
            ],
            "metadata": {
                "azdata_cell_guid": "14eb098b-ec47-4514-87b2-ca57315dec3f"
            },
            "outputs": [
                {
                    "output_type": "display_data",
                    "data": {
                        "text/html": "(53 rows affected)"
                    },
                    "metadata": {}
                },
                {
                    "output_type": "display_data",
                    "data": {
                        "text/html": "Total execution time: 00:00:07.301"
                    },
                    "metadata": {}
                },
                {
                    "output_type": "execute_result",
                    "metadata": {},
                    "execution_count": 5,
                    "data": {
                        "application/vnd.dataresource+json": {
                            "schema": {
                                "fields": [
                                    {
                                        "name": "State_Name"
                                    },
                                    {
                                        "name": "Statewide"
                                    },
                                    {
                                        "name": "Urban"
                                    },
                                    {
                                        "name": "Rural"
                                    },
                                    {
                                        "name": "High SES"
                                    },
                                    {
                                        "name": "Middle SES"
                                    },
                                    {
                                        "name": "Low SES"
                                    }
                                ]
                            },
                            "data": [
                                {
                                    "0": "Alabama",
                                    "1": "17.788264129772354",
                                    "2": "14.26137613893247",
                                    "3": "30.286509767227024",
                                    "4": "14.740998170861692",
                                    "5": "17.254627898503045",
                                    "6": "23.152902149309572"
                                },
                                {
                                    "0": "Alaska",
                                    "1": "50.10803922478232",
                                    "2": "8.551320410617702",
                                    "3": "361",
                                    "4": "19.214447714497286",
                                    "5": "61.69867227800455",
                                    "6": "58.70888772373145"
                                },
                                {
                                    "0": "Arizona",
                                    "1": "9.718165398166148",
                                    "2": "9.099652006027101",
                                    "3": "52.107900149912965",
                                    "4": "10.381337646676824",
                                    "5": "9.365967190108753",
                                    "6": "9.76278189780125"
                                },
                                {
                                    "0": "Arkansas",
                                    "1": "14.364774159775564",
                                    "2": "10.743243218406999",
                                    "3": "19.65331514567244",
                                    "4": "11.327327037182751",
                                    "5": "14.502583293362964",
                                    "6": "14.86182156650747"
                                },
                                {
                                    "0": "California",
                                    "1": "9.738945263347784",
                                    "2": "9.387325200822556",
                                    "3": "31.955101400781594",
                                    "4": "9.470928830267207",
                                    "5": "10.074012818913639",
                                    "6": "9.818201207939502"
                                },
                                {
                                    "0": "Colorado",
                                    "1": "10.31316329483245",
                                    "2": "9.604124103980642",
                                    "3": "33.85194484286155",
                                    "4": "11.074122946801337",
                                    "5": "10.005633028762002",
                                    "6": "7.5930266378148685"
                                },
                                {
                                    "0": "Connecticut",
                                    "1": "11.780825684366441",
                                    "2": "11.453521121370411",
                                    "3": "16.05074299988178",
                                    "4": "14.224850573638054",
                                    "5": "9.300944783614474",
                                    "6": "4.887659011619254"
                                },
                                {
                                    "0": "Delaware",
                                    "1": "12.529651240864364",
                                    "2": "11.071542070922083",
                                    "3": "24.496023813159827",
                                    "4": "11.929101615215671",
                                    "5": "12.876565987351931",
                                    "6": "9.75320005979638"
                                },
                                {
                                    "0": "District of Columbia",
                                    "1": "8.769429455348696",
                                    "2": "8.769429455348696",
                                    "3": "NULL",
                                    "4": "7.409095564602547",
                                    "5": "12.550334477323743",
                                    "6": "17.749679546408867"
                                },
                                {
                                    "0": "Florida",
                                    "1": "11.928331893194807",
                                    "2": "11.631501588733817",
                                    "3": "24.809443179336508",
                                    "4": "12.329534786462453",
                                    "5": "11.984305960644939",
                                    "6": "11.230832359468701"
                                },
                                {
                                    "0": "Georgia",
                                    "1": "14.225967226308974",
                                    "2": "13.066380176044579",
                                    "3": "24.066086336320176",
                                    "4": "13.28845166288615",
                                    "5": "14.553182358203335",
                                    "6": "13.989292727629909"
                                },
                                {
                                    "0": "Hawaii",
                                    "1": "15.771719838327762",
                                    "2": "11.281276803471021",
                                    "3": "59.26817559853252",
                                    "4": "14.06769340207396",
                                    "5": "41.23933717888226",
                                    "6": "15.033656756697967"
                                },
                                {
                                    "0": "Idaho",
                                    "1": "18.117190073060726",
                                    "2": "12.114686399717469",
                                    "3": "34.88371748483561",
                                    "4": "19.643774958399987",
                                    "5": "18.750711467279437",
                                    "6": "9.532426678648525"
                                },
                                {
                                    "0": "Illinois",
                                    "1": "9.956986259511737",
                                    "2": "9.587177783566087",
                                    "3": "16.096150602182142",
                                    "4": "9.687779605356528",
                                    "5": "10.623734090783968",
                                    "6": "8.195072846258896"
                                },
                                {
                                    "0": "Indiana",
                                    "1": "11.76769014210942",
                                    "2": "11.335681796636937",
                                    "3": "12.494718703466326",
                                    "4": "11.697281402668663",
                                    "5": "13.209382296027776",
                                    "6": "8.45105268819804"
                                },
                                {
                                    "0": "Iowa",
                                    "1": "11.644952094971678",
                                    "2": "8.827368153529555",
                                    "3": "16.71852075681723",
                                    "4": "12.694813636753508",
                                    "5": "12.55225636797523",
                                    "6": "7.09317734593802"
                                },
                                {
                                    "0": "Kansas",
                                    "1": "10.182466615764708",
                                    "2": "9.803223694468613",
                                    "3": "11.446037639638867",
                                    "4": "8.583100865526111",
                                    "5": "10.943503429643535",
                                    "6": "9.880864881445365"
                                },
                                {
                                    "0": "Kentucky",
                                    "1": "17.69806089785292",
                                    "2": "12.055463119757512",
                                    "3": "25.99372353563846",
                                    "4": "15.018092710097594",
                                    "5": "16.34923965529774",
                                    "6": "20.825180971395802"
                                },
                                {
                                    "0": "Louisiana",
                                    "1": "11.79347854339689",
                                    "2": "10.007807425534256",
                                    "3": "27.113483879158146",
                                    "4": "8.025926825310954",
                                    "5": "11.993456653564866",
                                    "6": "13.641818178674018"
                                },
                                {
                                    "0": "Maine",
                                    "1": "20.60173713383341",
                                    "2": "17.83387977601307",
                                    "3": "22.572053082732243",
                                    "4": "20.909599107400762",
                                    "5": "20.841497063394936",
                                    "6": "15.39014285470655"
                                },
                                {
                                    "0": "Maryland",
                                    "1": "11.581397206712268",
                                    "2": "11.19641685068734",
                                    "3": "37.192998420460086",
                                    "4": "13.150453219224783",
                                    "5": "10.324488362321762",
                                    "6": "5.777489418281933"
                                },
                                {
                                    "0": "Massachusetts",
                                    "1": "12.611830337690916",
                                    "2": "12.519608985870365",
                                    "3": "20.763848263070194",
                                    "4": "13.51251280003219",
                                    "5": "11.722758940727907",
                                    "6": "5.462693555872849"
                                },
                                {
                                    "0": "Michigan",
                                    "1": "10.638390052079947",
                                    "2": "9.695684084149933",
                                    "3": "19.029835730235334",
                                    "4": "11.37685413361271",
                                    "5": "11.933337060160515",
                                    "6": "8.498998692102889"
                                },
                                {
                                    "0": "Minnesota",
                                    "1": "12.055844098193717",
                                    "2": "10.229661688222578",
                                    "3": "23.624580439646373",
                                    "4": "12.352941549352273",
                                    "5": "12.108575758800562",
                                    "6": "7.022491636730338"
                                },
                                {
                                    "0": "Mississippi",
                                    "1": "14.21520229847307",
                                    "2": "12.655061445706579",
                                    "3": "15.477007369777997",
                                    "4": "13.906009669983021",
                                    "5": "13.371381459845438",
                                    "6": "15.42256127629204"
                                },
                                {
                                    "0": "Missouri",
                                    "1": "11.029175805506313",
                                    "2": "9.821208384031209",
                                    "3": "18.16335948968819",
                                    "4": "9.062717382686067",
                                    "5": "11.52487300326963",
                                    "6": "10.643680032388465"
                                },
                                {
                                    "0": "Montana",
                                    "1": "20.45965328488623",
                                    "2": "8.73758570048097",
                                    "3": "30.655308539661664",
                                    "4": "17.211591887158846",
                                    "5": "20.968200547806624",
                                    "6": "25.962295897083052"
                                },
                                {
                                    "0": "Nebraska",
                                    "1": "10.883756876139536",
                                    "2": "8.705238223111358",
                                    "3": "31.326837764787896",
                                    "4": "9.995343067433474",
                                    "5": "12.870677029787712",
                                    "6": "8.778376652040462"
                                },
                                {
                                    "0": "Nevada",
                                    "1": "11.996011966916832",
                                    "2": "11.504851184493337",
                                    "3": "41.19807010660682",
                                    "4": "12.968264270405456",
                                    "5": "12.017197813737216",
                                    "6": "10.858977235160806"
                                },
                                {
                                    "0": "New Hampshire",
                                    "1": "15.435388675304566",
                                    "2": "14.844924289184597",
                                    "3": "16.161371693392585",
                                    "4": "18.101204906832578",
                                    "5": "12.6015494389187",
                                    "6": "12.583969376910343"
                                },
                                {
                                    "0": "New Jersey",
                                    "1": "9.978092767600085",
                                    "2": "9.880870734910294",
                                    "3": "21.946873923468683",
                                    "4": "10.750406129977648",
                                    "5": "8.692162309713831",
                                    "6": "6.985387291954211"
                                },
                                {
                                    "0": "New Mexico",
                                    "1": "14.172618421948087",
                                    "2": "12.388071910219244",
                                    "3": "33.48376135431526",
                                    "4": "14.981643015704682",
                                    "5": "12.974917590188868",
                                    "6": "28.8824917500919"
                                },
                                {
                                    "0": "New York",
                                    "1": "10.17960964566916",
                                    "2": "9.748324012547014",
                                    "3": "20.96625923854179",
                                    "4": "10.015459565471811",
                                    "5": "13.296107077579476",
                                    "6": "7.067030400030019"
                                },
                                {
                                    "0": "North Carolina",
                                    "1": "16.18402257556212",
                                    "2": "14.438578857794152",
                                    "3": "24.1128537966461",
                                    "4": "14.143634460480365",
                                    "5": "16.742234761531133",
                                    "6": "15.580675565103647"
                                },
                                {
                                    "0": "North Dakota",
                                    "1": "31.548196894819114",
                                    "2": "7.169543820079422",
                                    "3": "45.47846369925291",
                                    "4": "18.319655130280015",
                                    "5": "34.79273256341184",
                                    "6": "33.46674849298958"
                                },
                                {
                                    "0": "Ohio",
                                    "1": "11.157850962607451",
                                    "2": "10.735714175922173",
                                    "3": "14.50274088515311",
                                    "4": "11.656095128701761",
                                    "5": "12.61991160281032",
                                    "6": "8.393920344619254"
                                },
                                {
                                    "0": "Oklahoma",
                                    "1": "9.777214861779914",
                                    "2": "7.758325194175723",
                                    "3": "18.054517777312164",
                                    "4": "7.638794915058742",
                                    "5": "10.509347964644158",
                                    "6": "9.491204948621052"
                                },
                                {
                                    "0": "Oregon",
                                    "1": "10.57362718312462",
                                    "2": "9.605820002165043",
                                    "3": "18.403389641065964",
                                    "4": "10.581407567777191",
                                    "5": "10.840352048294843",
                                    "6": "6.892116856209515"
                                },
                                {
                                    "0": "Pennsylvania",
                                    "1": "10.720277842139456",
                                    "2": "9.94677153293011",
                                    "3": "18.110170708015605",
                                    "4": "11.30875772206997",
                                    "5": "12.058045075906458",
                                    "6": "7.31361397727787"
                                },
                                {
                                    "0": "Puerto Rico",
                                    "1": "32.82554271439182",
                                    "2": "30.218480121020818",
                                    "3": "68.49195857051876",
                                    "4": "11.52241016536846",
                                    "5": "18.20823376852175",
                                    "6": "41.40501560929677"
                                },
                                {
                                    "0": "Rhode Island",
                                    "1": "11.550508403598508",
                                    "2": "11.521950525278157",
                                    "3": "104.55070641809355",
                                    "4": "14.720704671018932",
                                    "5": "10.749751686008633",
                                    "6": "7.967523849616296"
                                },
                                {
                                    "0": "South Carolina",
                                    "1": "14.094251854875655",
                                    "2": "12.848665097474283",
                                    "3": "20.14237042258694",
                                    "4": "11.686536252353457",
                                    "5": "13.794269632185324",
                                    "6": "16.029051839175985"
                                },
                                {
                                    "0": "South Dakota",
                                    "1": "17.812604413249385",
                                    "2": "9.879546794386268",
                                    "3": "28.98962679805323",
                                    "4": "14.727322124750756",
                                    "5": "16.02319641712862",
                                    "6": "29.98641908360424"
                                },
                                {
                                    "0": "Tennessee",
                                    "1": "14.677218740348518",
                                    "2": "12.870274675269314",
                                    "3": "25.888139056469257",
                                    "4": "14.19348364657683",
                                    "5": "15.724344431677352",
                                    "6": "12.214644580991553"
                                },
                                {
                                    "0": "Texas",
                                    "1": "9.84165134052521",
                                    "2": "9.279160208720498",
                                    "3": "17.86202159935432",
                                    "4": "8.183390907829477",
                                    "5": "10.375669768136374",
                                    "6": "9.892316993667858"
                                },
                                {
                                    "0": "United States",
                                    "1": "11.484546518108797",
                                    "2": "10.49938444074907",
                                    "3": "21.652024269234353",
                                    "4": "10.875710938365774",
                                    "5": "12.186212792130283",
                                    "6": "10.399556912740122"
                                },
                                {
                                    "0": "Utah",
                                    "1": "10.96171387509455",
                                    "2": "10.27316139434042",
                                    "3": "34.178117783966286",
                                    "4": "10.726883484575293",
                                    "5": "11.22024102256722",
                                    "6": "8.35490120660679"
                                },
                                {
                                    "0": "Vermont",
                                    "1": "25.841521348278313",
                                    "2": "16.728005090786723",
                                    "3": "28.87318310721969",
                                    "4": "22.52566574692381",
                                    "5": "27.724257756140098",
                                    "6": "NULL"
                                },
                                {
                                    "0": "Virginia",
                                    "1": "14.053367956190648",
                                    "2": "12.731625238922977",
                                    "3": "31.219785884242626",
                                    "4": "13.605344412598207",
                                    "5": "14.262576456490322",
                                    "6": "17.03150865942547"
                                },
                                {
                                    "0": "Washington",
                                    "1": "12.455800468931594",
                                    "2": "11.480453236194577",
                                    "3": "30.07913975595256",
                                    "4": "13.44851424621812",
                                    "5": "11.707518550501666",
                                    "6": "8.735503048211093"
                                },
                                {
                                    "0": "West Virginia",
                                    "1": "16.655842899246",
                                    "2": "12.510754461706274",
                                    "3": "25.063277788376865",
                                    "4": "12.040589679811898",
                                    "5": "15.957667393298607",
                                    "6": "18.639291392808268"
                                },
                                {
                                    "0": "Wisconsin",
                                    "1": "11.227969531449393",
                                    "2": "9.266621299685607",
                                    "3": "18.512783547805615",
                                    "4": "12.11166032244599",
                                    "5": "12.254925446507887",
                                    "6": "5.801051977314424"
                                },
                                {
                                    "0": "Wyoming",
                                    "1": "19.154243185989383",
                                    "2": "7.267124270154021",
                                    "3": "30.860151079142533",
                                    "4": "21.063791332836075",
                                    "5": "23.942287972766565",
                                    "6": "9.695286059152346"
                                }
                            ]
                        },
                        "text/html": [
                            "<table>",
                            "<tr><th>State_Name</th><th>Statewide</th><th>Urban</th><th>Rural</th><th>High SES</th><th>Middle SES</th><th>Low SES</th></tr>",
                            "<tr><td>Alabama</td><td>17.788264129772354</td><td>14.26137613893247</td><td>30.286509767227024</td><td>14.740998170861692</td><td>17.254627898503045</td><td>23.152902149309572</td></tr>",
                            "<tr><td>Alaska</td><td>50.10803922478232</td><td>8.551320410617702</td><td>361</td><td>19.214447714497286</td><td>61.69867227800455</td><td>58.70888772373145</td></tr>",
                            "<tr><td>Arizona</td><td>9.718165398166148</td><td>9.099652006027101</td><td>52.107900149912965</td><td>10.381337646676824</td><td>9.365967190108753</td><td>9.76278189780125</td></tr>",
                            "<tr><td>Arkansas</td><td>14.364774159775564</td><td>10.743243218406999</td><td>19.65331514567244</td><td>11.327327037182751</td><td>14.502583293362964</td><td>14.86182156650747</td></tr>",
                            "<tr><td>California</td><td>9.738945263347784</td><td>9.387325200822556</td><td>31.955101400781594</td><td>9.470928830267207</td><td>10.074012818913639</td><td>9.818201207939502</td></tr>",
                            "<tr><td>Colorado</td><td>10.31316329483245</td><td>9.604124103980642</td><td>33.85194484286155</td><td>11.074122946801337</td><td>10.005633028762002</td><td>7.5930266378148685</td></tr>",
                            "<tr><td>Connecticut</td><td>11.780825684366441</td><td>11.453521121370411</td><td>16.05074299988178</td><td>14.224850573638054</td><td>9.300944783614474</td><td>4.887659011619254</td></tr>",
                            "<tr><td>Delaware</td><td>12.529651240864364</td><td>11.071542070922083</td><td>24.496023813159827</td><td>11.929101615215671</td><td>12.876565987351931</td><td>9.75320005979638</td></tr>",
                            "<tr><td>District of Columbia</td><td>8.769429455348696</td><td>8.769429455348696</td><td>NULL</td><td>7.409095564602547</td><td>12.550334477323743</td><td>17.749679546408867</td></tr>",
                            "<tr><td>Florida</td><td>11.928331893194807</td><td>11.631501588733817</td><td>24.809443179336508</td><td>12.329534786462453</td><td>11.984305960644939</td><td>11.230832359468701</td></tr>",
                            "<tr><td>Georgia</td><td>14.225967226308974</td><td>13.066380176044579</td><td>24.066086336320176</td><td>13.28845166288615</td><td>14.553182358203335</td><td>13.989292727629909</td></tr>",
                            "<tr><td>Hawaii</td><td>15.771719838327762</td><td>11.281276803471021</td><td>59.26817559853252</td><td>14.06769340207396</td><td>41.23933717888226</td><td>15.033656756697967</td></tr>",
                            "<tr><td>Idaho</td><td>18.117190073060726</td><td>12.114686399717469</td><td>34.88371748483561</td><td>19.643774958399987</td><td>18.750711467279437</td><td>9.532426678648525</td></tr>",
                            "<tr><td>Illinois</td><td>9.956986259511737</td><td>9.587177783566087</td><td>16.096150602182142</td><td>9.687779605356528</td><td>10.623734090783968</td><td>8.195072846258896</td></tr>",
                            "<tr><td>Indiana</td><td>11.76769014210942</td><td>11.335681796636937</td><td>12.494718703466326</td><td>11.697281402668663</td><td>13.209382296027776</td><td>8.45105268819804</td></tr>",
                            "<tr><td>Iowa</td><td>11.644952094971678</td><td>8.827368153529555</td><td>16.71852075681723</td><td>12.694813636753508</td><td>12.55225636797523</td><td>7.09317734593802</td></tr>",
                            "<tr><td>Kansas</td><td>10.182466615764708</td><td>9.803223694468613</td><td>11.446037639638867</td><td>8.583100865526111</td><td>10.943503429643535</td><td>9.880864881445365</td></tr>",
                            "<tr><td>Kentucky</td><td>17.69806089785292</td><td>12.055463119757512</td><td>25.99372353563846</td><td>15.018092710097594</td><td>16.34923965529774</td><td>20.825180971395802</td></tr>",
                            "<tr><td>Louisiana</td><td>11.79347854339689</td><td>10.007807425534256</td><td>27.113483879158146</td><td>8.025926825310954</td><td>11.993456653564866</td><td>13.641818178674018</td></tr>",
                            "<tr><td>Maine</td><td>20.60173713383341</td><td>17.83387977601307</td><td>22.572053082732243</td><td>20.909599107400762</td><td>20.841497063394936</td><td>15.39014285470655</td></tr>",
                            "<tr><td>Maryland</td><td>11.581397206712268</td><td>11.19641685068734</td><td>37.192998420460086</td><td>13.150453219224783</td><td>10.324488362321762</td><td>5.777489418281933</td></tr>",
                            "<tr><td>Massachusetts</td><td>12.611830337690916</td><td>12.519608985870365</td><td>20.763848263070194</td><td>13.51251280003219</td><td>11.722758940727907</td><td>5.462693555872849</td></tr>",
                            "<tr><td>Michigan</td><td>10.638390052079947</td><td>9.695684084149933</td><td>19.029835730235334</td><td>11.37685413361271</td><td>11.933337060160515</td><td>8.498998692102889</td></tr>",
                            "<tr><td>Minnesota</td><td>12.055844098193717</td><td>10.229661688222578</td><td>23.624580439646373</td><td>12.352941549352273</td><td>12.108575758800562</td><td>7.022491636730338</td></tr>",
                            "<tr><td>Mississippi</td><td>14.21520229847307</td><td>12.655061445706579</td><td>15.477007369777997</td><td>13.906009669983021</td><td>13.371381459845438</td><td>15.42256127629204</td></tr>",
                            "<tr><td>Missouri</td><td>11.029175805506313</td><td>9.821208384031209</td><td>18.16335948968819</td><td>9.062717382686067</td><td>11.52487300326963</td><td>10.643680032388465</td></tr>",
                            "<tr><td>Montana</td><td>20.45965328488623</td><td>8.73758570048097</td><td>30.655308539661664</td><td>17.211591887158846</td><td>20.968200547806624</td><td>25.962295897083052</td></tr>",
                            "<tr><td>Nebraska</td><td>10.883756876139536</td><td>8.705238223111358</td><td>31.326837764787896</td><td>9.995343067433474</td><td>12.870677029787712</td><td>8.778376652040462</td></tr>",
                            "<tr><td>Nevada</td><td>11.996011966916832</td><td>11.504851184493337</td><td>41.19807010660682</td><td>12.968264270405456</td><td>12.017197813737216</td><td>10.858977235160806</td></tr>",
                            "<tr><td>New Hampshire</td><td>15.435388675304566</td><td>14.844924289184597</td><td>16.161371693392585</td><td>18.101204906832578</td><td>12.6015494389187</td><td>12.583969376910343</td></tr>",
                            "<tr><td>New Jersey</td><td>9.978092767600085</td><td>9.880870734910294</td><td>21.946873923468683</td><td>10.750406129977648</td><td>8.692162309713831</td><td>6.985387291954211</td></tr>",
                            "<tr><td>New Mexico</td><td>14.172618421948087</td><td>12.388071910219244</td><td>33.48376135431526</td><td>14.981643015704682</td><td>12.974917590188868</td><td>28.8824917500919</td></tr>",
                            "<tr><td>New York</td><td>10.17960964566916</td><td>9.748324012547014</td><td>20.96625923854179</td><td>10.015459565471811</td><td>13.296107077579476</td><td>7.067030400030019</td></tr>",
                            "<tr><td>North Carolina</td><td>16.18402257556212</td><td>14.438578857794152</td><td>24.1128537966461</td><td>14.143634460480365</td><td>16.742234761531133</td><td>15.580675565103647</td></tr>",
                            "<tr><td>North Dakota</td><td>31.548196894819114</td><td>7.169543820079422</td><td>45.47846369925291</td><td>18.319655130280015</td><td>34.79273256341184</td><td>33.46674849298958</td></tr>",
                            "<tr><td>Ohio</td><td>11.157850962607451</td><td>10.735714175922173</td><td>14.50274088515311</td><td>11.656095128701761</td><td>12.61991160281032</td><td>8.393920344619254</td></tr>",
                            "<tr><td>Oklahoma</td><td>9.777214861779914</td><td>7.758325194175723</td><td>18.054517777312164</td><td>7.638794915058742</td><td>10.509347964644158</td><td>9.491204948621052</td></tr>",
                            "<tr><td>Oregon</td><td>10.57362718312462</td><td>9.605820002165043</td><td>18.403389641065964</td><td>10.581407567777191</td><td>10.840352048294843</td><td>6.892116856209515</td></tr>",
                            "<tr><td>Pennsylvania</td><td>10.720277842139456</td><td>9.94677153293011</td><td>18.110170708015605</td><td>11.30875772206997</td><td>12.058045075906458</td><td>7.31361397727787</td></tr>",
                            "<tr><td>Puerto Rico</td><td>32.82554271439182</td><td>30.218480121020818</td><td>68.49195857051876</td><td>11.52241016536846</td><td>18.20823376852175</td><td>41.40501560929677</td></tr>",
                            "<tr><td>Rhode Island</td><td>11.550508403598508</td><td>11.521950525278157</td><td>104.55070641809355</td><td>14.720704671018932</td><td>10.749751686008633</td><td>7.967523849616296</td></tr>",
                            "<tr><td>South Carolina</td><td>14.094251854875655</td><td>12.848665097474283</td><td>20.14237042258694</td><td>11.686536252353457</td><td>13.794269632185324</td><td>16.029051839175985</td></tr>",
                            "<tr><td>South Dakota</td><td>17.812604413249385</td><td>9.879546794386268</td><td>28.98962679805323</td><td>14.727322124750756</td><td>16.02319641712862</td><td>29.98641908360424</td></tr>",
                            "<tr><td>Tennessee</td><td>14.677218740348518</td><td>12.870274675269314</td><td>25.888139056469257</td><td>14.19348364657683</td><td>15.724344431677352</td><td>12.214644580991553</td></tr>",
                            "<tr><td>Texas</td><td>9.84165134052521</td><td>9.279160208720498</td><td>17.86202159935432</td><td>8.183390907829477</td><td>10.375669768136374</td><td>9.892316993667858</td></tr>",
                            "<tr><td>United States</td><td>11.484546518108797</td><td>10.49938444074907</td><td>21.652024269234353</td><td>10.875710938365774</td><td>12.186212792130283</td><td>10.399556912740122</td></tr>",
                            "<tr><td>Utah</td><td>10.96171387509455</td><td>10.27316139434042</td><td>34.178117783966286</td><td>10.726883484575293</td><td>11.22024102256722</td><td>8.35490120660679</td></tr>",
                            "<tr><td>Vermont</td><td>25.841521348278313</td><td>16.728005090786723</td><td>28.87318310721969</td><td>22.52566574692381</td><td>27.724257756140098</td><td>NULL</td></tr>",
                            "<tr><td>Virginia</td><td>14.053367956190648</td><td>12.731625238922977</td><td>31.219785884242626</td><td>13.605344412598207</td><td>14.262576456490322</td><td>17.03150865942547</td></tr>",
                            "<tr><td>Washington</td><td>12.455800468931594</td><td>11.480453236194577</td><td>30.07913975595256</td><td>13.44851424621812</td><td>11.707518550501666</td><td>8.735503048211093</td></tr>",
                            "<tr><td>West Virginia</td><td>16.655842899246</td><td>12.510754461706274</td><td>25.063277788376865</td><td>12.040589679811898</td><td>15.957667393298607</td><td>18.639291392808268</td></tr>",
                            "<tr><td>Wisconsin</td><td>11.227969531449393</td><td>9.266621299685607</td><td>18.512783547805615</td><td>12.11166032244599</td><td>12.254925446507887</td><td>5.801051977314424</td></tr>",
                            "<tr><td>Wyoming</td><td>19.154243185989383</td><td>7.267124270154021</td><td>30.860151079142533</td><td>21.063791332836075</td><td>23.942287972766565</td><td>9.695286059152346</td></tr>",
                            "</table>"
                        ]
                    }
                }
            ],
            "execution_count": 5
        },
        {
            "cell_type": "code",
            "source": [
                "--Table 2: Airborne Room Stats per Each State: Median Rooms Within an Hour\r\n",
                "\r\n",
                "select *\r\n",
                "from\r\n",
                "(\r\n",
                "select distinct \r\n",
                "'United States' as State_Name\r\n",
                ",PERCENTILE_CONT(0.5) WITHIN GROUP (ORDER BY AIRBROOM_60Min)OVER () AS Statewide   \r\n",
                ",PERCENTILE_CONT(0.5) WITHIN GROUP (ORDER BY case when HRSA_RURAL_DESC='00: Urban' then AIRBROOM_60Min end) OVER () AS Urban\r\n",
                ",PERCENTILE_CONT(0.5) WITHIN GROUP (ORDER BY case when HRSA_RURAL_DESC<>'00: Urban' then AIRBROOM_60Min end) OVER () AS Rural\r\n",
                ",PERCENTILE_CONT(0.5) WITHIN GROUP (ORDER BY case when ADI='02: Upper Class' then AIRBROOM_60Min end) OVER () AS [High SES]\r\n",
                ",PERCENTILE_CONT(0.5) WITHIN GROUP (ORDER BY case when ADI='01: Middle Class' then AIRBROOM_60Min end) OVER () AS [Middle SES]\r\n",
                ",PERCENTILE_CONT(0.5) WITHIN GROUP (ORDER BY case when ADI='00: Lower Class' then AIRBROOM_60Min end) OVER () AS [Low SES]\r\n",
                "from #Air_TravelMap\r\n",
                "\r\n",
                "--below code concatenates (or stacks tables on top of each other)\r\n",
                "union all\r\n",
                "\r\n",
                "select distinct\r\n",
                " State_Name\r\n",
                ",PERCENTILE_CONT(0.5) WITHIN GROUP (ORDER BY AIRBROOM_60Min)OVER (PARTITION BY State_Name) AS Statewide   \r\n",
                ",PERCENTILE_CONT(0.5) WITHIN GROUP (ORDER BY case when HRSA_RURAL_DESC='00: Urban' then AIRBROOM_60Min end) OVER (PARTITION BY State_Name) AS Urban\r\n",
                ",PERCENTILE_CONT(0.5) WITHIN GROUP (ORDER BY case when HRSA_RURAL_DESC<>'00: Urban' then AIRBROOM_60Min end) OVER (PARTITION BY State_Name) AS Rural\r\n",
                ",PERCENTILE_CONT(0.5) WITHIN GROUP (ORDER BY case when ADI='02: Upper Class' then AIRBROOM_60Min end) OVER (PARTITION BY State_Name) AS [High SES]\r\n",
                ",PERCENTILE_CONT(0.5) WITHIN GROUP (ORDER BY case when ADI='01: Middle Class' then AIRBROOM_60Min end) OVER (PARTITION BY State_Name) AS [Middle SES]\r\n",
                ",PERCENTILE_CONT(0.5) WITHIN GROUP (ORDER BY case when ADI='00: Lower Class' then AIRBROOM_60Min end) OVER (PARTITION BY State_Name) AS [Low SES]\r\n",
                "from #Air_TravelMap) as A\r\n",
                "order by State_Name;\r\n",
                ""
            ],
            "metadata": {
                "azdata_cell_guid": "72263ee0-7b52-4bd1-95e0-fd53de8c5aa6"
            },
            "outputs": [
                {
                    "output_type": "display_data",
                    "data": {
                        "text/html": "(53 rows affected)"
                    },
                    "metadata": {}
                },
                {
                    "output_type": "display_data",
                    "data": {
                        "text/html": "Total execution time: 00:00:06.566"
                    },
                    "metadata": {}
                },
                {
                    "output_type": "execute_result",
                    "metadata": {},
                    "execution_count": 6,
                    "data": {
                        "application/vnd.dataresource+json": {
                            "schema": {
                                "fields": [
                                    {
                                        "name": "State_Name"
                                    },
                                    {
                                        "name": "Statewide"
                                    },
                                    {
                                        "name": "Urban"
                                    },
                                    {
                                        "name": "Rural"
                                    },
                                    {
                                        "name": "High SES"
                                    },
                                    {
                                        "name": "Middle SES"
                                    },
                                    {
                                        "name": "Low SES"
                                    }
                                ]
                            },
                            "data": [
                                {
                                    "0": "Alabama",
                                    "1": "39",
                                    "2": "49",
                                    "3": "25",
                                    "4": "267",
                                    "5": "45",
                                    "6": "32"
                                },
                                {
                                    "0": "Alaska",
                                    "1": "5",
                                    "2": "61",
                                    "3": "0",
                                    "4": "61",
                                    "5": "0",
                                    "6": "34"
                                },
                                {
                                    "0": "Arizona",
                                    "1": "537",
                                    "2": "553",
                                    "3": "5",
                                    "4": "546",
                                    "5": "496",
                                    "6": "480"
                                },
                                {
                                    "0": "Arkansas",
                                    "1": "108",
                                    "2": "171",
                                    "3": "21",
                                    "4": "171.5",
                                    "5": "115",
                                    "6": "61"
                                },
                                {
                                    "0": "California",
                                    "1": "415",
                                    "2": "424",
                                    "3": "13",
                                    "4": "458",
                                    "5": "250",
                                    "6": "233"
                                },
                                {
                                    "0": "Colorado",
                                    "1": "632",
                                    "2": "632",
                                    "3": "4",
                                    "4": "632",
                                    "5": "409.5",
                                    "6": "141"
                                },
                                {
                                    "0": "Connecticut",
                                    "1": "528",
                                    "2": "541",
                                    "3": "241.5",
                                    "4": "523",
                                    "5": "528",
                                    "6": "544"
                                },
                                {
                                    "0": "Delaware",
                                    "1": "549",
                                    "2": "634",
                                    "3": "75",
                                    "4": "436",
                                    "5": "595",
                                    "6": "905"
                                },
                                {
                                    "0": "District of Columbia",
                                    "1": "1024",
                                    "2": "1024",
                                    "3": "NULL",
                                    "4": "1024",
                                    "5": "1031",
                                    "6": "860"
                                },
                                {
                                    "0": "Florida",
                                    "1": "492",
                                    "2": "515.5",
                                    "3": "57",
                                    "4": "532",
                                    "5": "506",
                                    "6": "470.5"
                                },
                                {
                                    "0": "Georgia",
                                    "1": "212",
                                    "2": "433.5",
                                    "3": "44",
                                    "4": "541",
                                    "5": "240",
                                    "6": "76"
                                },
                                {
                                    "0": "Hawaii",
                                    "1": "88",
                                    "2": "88",
                                    "3": "2",
                                    "4": "88",
                                    "5": "12",
                                    "6": "88"
                                },
                                {
                                    "0": "Idaho",
                                    "1": "27",
                                    "2": "112",
                                    "3": "6",
                                    "4": "58",
                                    "5": "26",
                                    "6": "32"
                                },
                                {
                                    "0": "Illinois",
                                    "1": "811",
                                    "2": "909",
                                    "3": "56",
                                    "4": "972",
                                    "5": "780",
                                    "6": "139"
                                },
                                {
                                    "0": "Indiana",
                                    "1": "187",
                                    "2": "245",
                                    "3": "136",
                                    "4": "435",
                                    "5": "182",
                                    "6": "182.5"
                                },
                                {
                                    "0": "Iowa",
                                    "1": "63",
                                    "2": "95",
                                    "3": "22",
                                    "4": "95.5",
                                    "5": "63",
                                    "6": "37"
                                },
                                {
                                    "0": "Kansas",
                                    "1": "73",
                                    "2": "390",
                                    "3": "19.5",
                                    "4": "426",
                                    "5": "68.5",
                                    "6": "70"
                                },
                                {
                                    "0": "Kentucky",
                                    "1": "202",
                                    "2": "234",
                                    "3": "32",
                                    "4": "224",
                                    "5": "222",
                                    "6": "38"
                                },
                                {
                                    "0": "Louisiana",
                                    "1": "112",
                                    "2": "142",
                                    "3": "32",
                                    "4": "398",
                                    "5": "127",
                                    "6": "56"
                                },
                                {
                                    "0": "Maine",
                                    "1": "51",
                                    "2": "73",
                                    "3": "28",
                                    "4": "69",
                                    "5": "51",
                                    "6": "15"
                                },
                                {
                                    "0": "Maryland",
                                    "1": "871",
                                    "2": "889.5",
                                    "3": "39",
                                    "4": "902",
                                    "5": "827",
                                    "6": "897"
                                },
                                {
                                    "0": "Massachusetts",
                                    "1": "646",
                                    "2": "655",
                                    "3": "36",
                                    "4": "693",
                                    "5": "352",
                                    "6": "641"
                                },
                                {
                                    "0": "Michigan",
                                    "1": "473",
                                    "2": "789",
                                    "3": "25",
                                    "4": "823",
                                    "5": "256",
                                    "6": "793"
                                },
                                {
                                    "0": "Minnesota",
                                    "1": "404.5",
                                    "2": "416",
                                    "3": "12",
                                    "4": "415",
                                    "5": "109",
                                    "6": "37"
                                },
                                {
                                    "0": "Mississippi",
                                    "1": "36",
                                    "2": "306",
                                    "3": "21",
                                    "4": "454.5",
                                    "5": "60",
                                    "6": "26"
                                },
                                {
                                    "0": "Missouri",
                                    "1": "388",
                                    "2": "425",
                                    "3": "35",
                                    "4": "429",
                                    "5": "365",
                                    "6": "159.5"
                                },
                                {
                                    "0": "Montana",
                                    "1": "7",
                                    "2": "19",
                                    "3": "4",
                                    "4": "19",
                                    "5": "7",
                                    "6": "2.5"
                                },
                                {
                                    "0": "Nebraska",
                                    "1": "160",
                                    "2": "182",
                                    "3": "15",
                                    "4": "176",
                                    "5": "141",
                                    "6": "161.5"
                                },
                                {
                                    "0": "Nevada",
                                    "1": "84",
                                    "2": "84",
                                    "3": "6",
                                    "4": "84",
                                    "5": "84",
                                    "6": "84"
                                },
                                {
                                    "0": "New Hampshire",
                                    "1": "136",
                                    "2": "257.5",
                                    "3": "79",
                                    "4": "223",
                                    "5": "120",
                                    "6": "4.5"
                                },
                                {
                                    "0": "New Jersey",
                                    "1": "1078",
                                    "2": "1086",
                                    "3": "372",
                                    "4": "1079",
                                    "5": "1080",
                                    "6": "1048.5"
                                },
                                {
                                    "0": "New Mexico",
                                    "1": "65",
                                    "2": "73",
                                    "3": "3",
                                    "4": "73",
                                    "5": "67",
                                    "6": "6"
                                },
                                {
                                    "0": "New York",
                                    "1": "1505",
                                    "2": "1659",
                                    "3": "57",
                                    "4": "1792",
                                    "5": "147",
                                    "6": "279"
                                },
                                {
                                    "0": "North Carolina",
                                    "1": "188",
                                    "2": "227",
                                    "3": "65",
                                    "4": "239",
                                    "5": "186",
                                    "6": "112"
                                },
                                {
                                    "0": "North Dakota",
                                    "1": "8",
                                    "2": "18",
                                    "3": "2",
                                    "4": "10",
                                    "5": "8",
                                    "6": "2.5"
                                },
                                {
                                    "0": "Ohio",
                                    "1": "455",
                                    "2": "466",
                                    "3": "131",
                                    "4": "472.5",
                                    "5": "435",
                                    "6": "456.5"
                                },
                                {
                                    "0": "Oklahoma",
                                    "1": "159",
                                    "2": "205",
                                    "3": "32",
                                    "4": "207",
                                    "5": "159",
                                    "6": "151"
                                },
                                {
                                    "0": "Oregon",
                                    "1": "118",
                                    "2": "301",
                                    "3": "11.5",
                                    "4": "303",
                                    "5": "69",
                                    "6": "37"
                                },
                                {
                                    "0": "Pennsylvania",
                                    "1": "403",
                                    "2": "426",
                                    "3": "73",
                                    "4": "928",
                                    "5": "321",
                                    "6": "408"
                                },
                                {
                                    "0": "Puerto Rico",
                                    "1": "9",
                                    "2": "9",
                                    "3": "0",
                                    "4": "9",
                                    "5": "9",
                                    "6": "9"
                                },
                                {
                                    "0": "Rhode Island",
                                    "1": "276",
                                    "2": "277",
                                    "3": "0",
                                    "4": "222.5",
                                    "5": "293",
                                    "6": "312"
                                },
                                {
                                    "0": "South Carolina",
                                    "1": "160",
                                    "2": "163",
                                    "3": "93",
                                    "4": "153",
                                    "5": "161",
                                    "6": "153"
                                },
                                {
                                    "0": "South Dakota",
                                    "1": "16",
                                    "2": "53",
                                    "3": "8",
                                    "4": "52",
                                    "5": "18",
                                    "6": "7"
                                },
                                {
                                    "0": "Tennessee",
                                    "1": "153",
                                    "2": "229",
                                    "3": "29",
                                    "4": "247",
                                    "5": "147",
                                    "6": "121"
                                },
                                {
                                    "0": "Texas",
                                    "1": "458",
                                    "2": "825",
                                    "3": "42",
                                    "4": "1105.5",
                                    "5": "442",
                                    "6": "206"
                                },
                                {
                                    "0": "United States",
                                    "1": "264",
                                    "2": "415",
                                    "3": "32",
                                    "4": "541",
                                    "5": "206",
                                    "6": "153"
                                },
                                {
                                    "0": "Utah",
                                    "1": "187",
                                    "2": "193",
                                    "3": "4",
                                    "4": "193",
                                    "5": "182.5",
                                    "6": "174"
                                },
                                {
                                    "0": "Vermont",
                                    "1": "15.5",
                                    "2": "16",
                                    "3": "14",
                                    "4": "16",
                                    "5": "14",
                                    "6": "NULL"
                                },
                                {
                                    "0": "Virginia",
                                    "1": "211",
                                    "2": "270",
                                    "3": "31",
                                    "4": "399",
                                    "5": "140",
                                    "6": "78"
                                },
                                {
                                    "0": "Washington",
                                    "1": "255.5",
                                    "2": "333",
                                    "3": "5",
                                    "4": "399",
                                    "5": "111.5",
                                    "6": "56"
                                },
                                {
                                    "0": "West Virginia",
                                    "1": "94.5",
                                    "2": "118",
                                    "3": "41",
                                    "4": "158",
                                    "5": "100",
                                    "6": "64"
                                },
                                {
                                    "0": "Wisconsin",
                                    "1": "189",
                                    "2": "383",
                                    "3": "70",
                                    "4": "407",
                                    "5": "142",
                                    "6": "434"
                                },
                                {
                                    "0": "Wyoming",
                                    "1": "5",
                                    "2": "50.5",
                                    "3": "3",
                                    "4": "6",
                                    "5": "4",
                                    "6": "32.5"
                                }
                            ]
                        },
                        "text/html": [
                            "<table>",
                            "<tr><th>State_Name</th><th>Statewide</th><th>Urban</th><th>Rural</th><th>High SES</th><th>Middle SES</th><th>Low SES</th></tr>",
                            "<tr><td>Alabama</td><td>39</td><td>49</td><td>25</td><td>267</td><td>45</td><td>32</td></tr>",
                            "<tr><td>Alaska</td><td>5</td><td>61</td><td>0</td><td>61</td><td>0</td><td>34</td></tr>",
                            "<tr><td>Arizona</td><td>537</td><td>553</td><td>5</td><td>546</td><td>496</td><td>480</td></tr>",
                            "<tr><td>Arkansas</td><td>108</td><td>171</td><td>21</td><td>171.5</td><td>115</td><td>61</td></tr>",
                            "<tr><td>California</td><td>415</td><td>424</td><td>13</td><td>458</td><td>250</td><td>233</td></tr>",
                            "<tr><td>Colorado</td><td>632</td><td>632</td><td>4</td><td>632</td><td>409.5</td><td>141</td></tr>",
                            "<tr><td>Connecticut</td><td>528</td><td>541</td><td>241.5</td><td>523</td><td>528</td><td>544</td></tr>",
                            "<tr><td>Delaware</td><td>549</td><td>634</td><td>75</td><td>436</td><td>595</td><td>905</td></tr>",
                            "<tr><td>District of Columbia</td><td>1024</td><td>1024</td><td>NULL</td><td>1024</td><td>1031</td><td>860</td></tr>",
                            "<tr><td>Florida</td><td>492</td><td>515.5</td><td>57</td><td>532</td><td>506</td><td>470.5</td></tr>",
                            "<tr><td>Georgia</td><td>212</td><td>433.5</td><td>44</td><td>541</td><td>240</td><td>76</td></tr>",
                            "<tr><td>Hawaii</td><td>88</td><td>88</td><td>2</td><td>88</td><td>12</td><td>88</td></tr>",
                            "<tr><td>Idaho</td><td>27</td><td>112</td><td>6</td><td>58</td><td>26</td><td>32</td></tr>",
                            "<tr><td>Illinois</td><td>811</td><td>909</td><td>56</td><td>972</td><td>780</td><td>139</td></tr>",
                            "<tr><td>Indiana</td><td>187</td><td>245</td><td>136</td><td>435</td><td>182</td><td>182.5</td></tr>",
                            "<tr><td>Iowa</td><td>63</td><td>95</td><td>22</td><td>95.5</td><td>63</td><td>37</td></tr>",
                            "<tr><td>Kansas</td><td>73</td><td>390</td><td>19.5</td><td>426</td><td>68.5</td><td>70</td></tr>",
                            "<tr><td>Kentucky</td><td>202</td><td>234</td><td>32</td><td>224</td><td>222</td><td>38</td></tr>",
                            "<tr><td>Louisiana</td><td>112</td><td>142</td><td>32</td><td>398</td><td>127</td><td>56</td></tr>",
                            "<tr><td>Maine</td><td>51</td><td>73</td><td>28</td><td>69</td><td>51</td><td>15</td></tr>",
                            "<tr><td>Maryland</td><td>871</td><td>889.5</td><td>39</td><td>902</td><td>827</td><td>897</td></tr>",
                            "<tr><td>Massachusetts</td><td>646</td><td>655</td><td>36</td><td>693</td><td>352</td><td>641</td></tr>",
                            "<tr><td>Michigan</td><td>473</td><td>789</td><td>25</td><td>823</td><td>256</td><td>793</td></tr>",
                            "<tr><td>Minnesota</td><td>404.5</td><td>416</td><td>12</td><td>415</td><td>109</td><td>37</td></tr>",
                            "<tr><td>Mississippi</td><td>36</td><td>306</td><td>21</td><td>454.5</td><td>60</td><td>26</td></tr>",
                            "<tr><td>Missouri</td><td>388</td><td>425</td><td>35</td><td>429</td><td>365</td><td>159.5</td></tr>",
                            "<tr><td>Montana</td><td>7</td><td>19</td><td>4</td><td>19</td><td>7</td><td>2.5</td></tr>",
                            "<tr><td>Nebraska</td><td>160</td><td>182</td><td>15</td><td>176</td><td>141</td><td>161.5</td></tr>",
                            "<tr><td>Nevada</td><td>84</td><td>84</td><td>6</td><td>84</td><td>84</td><td>84</td></tr>",
                            "<tr><td>New Hampshire</td><td>136</td><td>257.5</td><td>79</td><td>223</td><td>120</td><td>4.5</td></tr>",
                            "<tr><td>New Jersey</td><td>1078</td><td>1086</td><td>372</td><td>1079</td><td>1080</td><td>1048.5</td></tr>",
                            "<tr><td>New Mexico</td><td>65</td><td>73</td><td>3</td><td>73</td><td>67</td><td>6</td></tr>",
                            "<tr><td>New York</td><td>1505</td><td>1659</td><td>57</td><td>1792</td><td>147</td><td>279</td></tr>",
                            "<tr><td>North Carolina</td><td>188</td><td>227</td><td>65</td><td>239</td><td>186</td><td>112</td></tr>",
                            "<tr><td>North Dakota</td><td>8</td><td>18</td><td>2</td><td>10</td><td>8</td><td>2.5</td></tr>",
                            "<tr><td>Ohio</td><td>455</td><td>466</td><td>131</td><td>472.5</td><td>435</td><td>456.5</td></tr>",
                            "<tr><td>Oklahoma</td><td>159</td><td>205</td><td>32</td><td>207</td><td>159</td><td>151</td></tr>",
                            "<tr><td>Oregon</td><td>118</td><td>301</td><td>11.5</td><td>303</td><td>69</td><td>37</td></tr>",
                            "<tr><td>Pennsylvania</td><td>403</td><td>426</td><td>73</td><td>928</td><td>321</td><td>408</td></tr>",
                            "<tr><td>Puerto Rico</td><td>9</td><td>9</td><td>0</td><td>9</td><td>9</td><td>9</td></tr>",
                            "<tr><td>Rhode Island</td><td>276</td><td>277</td><td>0</td><td>222.5</td><td>293</td><td>312</td></tr>",
                            "<tr><td>South Carolina</td><td>160</td><td>163</td><td>93</td><td>153</td><td>161</td><td>153</td></tr>",
                            "<tr><td>South Dakota</td><td>16</td><td>53</td><td>8</td><td>52</td><td>18</td><td>7</td></tr>",
                            "<tr><td>Tennessee</td><td>153</td><td>229</td><td>29</td><td>247</td><td>147</td><td>121</td></tr>",
                            "<tr><td>Texas</td><td>458</td><td>825</td><td>42</td><td>1105.5</td><td>442</td><td>206</td></tr>",
                            "<tr><td>United States</td><td>264</td><td>415</td><td>32</td><td>541</td><td>206</td><td>153</td></tr>",
                            "<tr><td>Utah</td><td>187</td><td>193</td><td>4</td><td>193</td><td>182.5</td><td>174</td></tr>",
                            "<tr><td>Vermont</td><td>15.5</td><td>16</td><td>14</td><td>16</td><td>14</td><td>NULL</td></tr>",
                            "<tr><td>Virginia</td><td>211</td><td>270</td><td>31</td><td>399</td><td>140</td><td>78</td></tr>",
                            "<tr><td>Washington</td><td>255.5</td><td>333</td><td>5</td><td>399</td><td>111.5</td><td>56</td></tr>",
                            "<tr><td>West Virginia</td><td>94.5</td><td>118</td><td>41</td><td>158</td><td>100</td><td>64</td></tr>",
                            "<tr><td>Wisconsin</td><td>189</td><td>383</td><td>70</td><td>407</td><td>142</td><td>434</td></tr>",
                            "<tr><td>Wyoming</td><td>5</td><td>50.5</td><td>3</td><td>6</td><td>4</td><td>32.5</td></tr>",
                            "</table>"
                        ]
                    }
                }
            ],
            "execution_count": 6
        }
    ]
}