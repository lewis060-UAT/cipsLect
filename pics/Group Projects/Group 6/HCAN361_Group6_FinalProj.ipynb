{
    "metadata": {
        "kernelspec": {
            "name": "SQL",
            "display_name": "SQL",
            "language": "sql"
        },
        "language_info": {
            "name": "sql",
            "version": ""
        }
    },
    "nbformat_minor": 2,
    "nbformat": 4,
    "cells": [
        {
            "cell_type": "markdown",
            "source": [
                "# HCAN 361 Final Project: Spring 2021\r\n",
                "\r\n",
                "## Physical Access to Imaging Equipment in Hospitals Among Women Aged 40 Years and Older in the Southeastern US : Implications on Breast Cancer Screening"
            ],
            "metadata": {
                "azdata_cell_guid": "0523dbc9-146b-4938-9f96-9376b4c5d252"
            }
        },
        {
            "cell_type": "code",
            "source": [
                "use [HCAN361_FinalProj]\r\n",
                "\r\n",
                "--step 1: select the ID's of major imaging \r\n",
                "--drop table #key_ID\r\n",
                "SELECT A.ID\r\n",
                "      ,cast(A.LAT as float) as LAT\r\n",
                "\t  ,cast(A.LONG as float) as LONG\r\n",
                "\t  ,A.MNAME\r\n",
                "      ,C.County_Name,C.State_Name,C.HRSA_RURAL_DESC,('Z'+C.STATEFP+C.COUNTYFP) as [County_GEOID_Z]\r\n",
                "\t  ,case when C.[Median_ADI_NatRank]<=25 then '02: Upper Class'\r\n",
                "\t   when (C.[Median_ADI_NatRank]>25 and C.[Median_ADI_NatRank]<=75) then '01: Middle Class'\r\n",
                "\t   when C.[Median_ADI_NatRank]>75 then '00: Lower Class'\r\n",
                "\t   else '99: Not Ranked' end as [ADI]\r\n",
                "into #key_ID\r\n",
                "FROM \r\n",
                "dbo.AS19DEM as A\r\n",
                "left join\r\n",
                "[dbo].[Provider_Census_Tract] as B\r\n",
                "\ton A.ID=B.Provider_ID\r\n",
                "left join \r\n",
                "[dbo].[US_Census_Tract_Charac] as C\r\n",
                "\ton B.GEOID_Data=C.GEOID_Data\r\n",
                "where A.ID in\r\n",
                "(\r\n",
                "select ID\r\n",
                "from [dbo].[AS19UTIL2]\r\n",
                "where SMRI=1\r\n",
                "or\r\n",
                "SMRIOC=1\r\n",
                "or\r\n",
                "SMRIOF=1\r\n",
                ") and C.County_Name is not null\r\n",
                "order by C.State_Name;\r\n",
                "--1,642 of these hospitals\r\n",
                "\r\n",
                "\r\n",
                "select top 10 * from #key_ID;\r\n",
                "\r\n",
                "select distinct *\r\n",
                "into HCAN361_25.dbo.Locs_Group6\r\n",
                "from #key_ID;\r\n",
                "\r\n",
                "alter table HCAN361_25.dbo.Locs_Group6\r\n",
                "alter column ID varchar(30) not null;\r\n",
                "\r\n",
                "alter table HCAN361_25.dbo.Locs_Group6\r\n",
                "add constraint pk_imag_Grp6 primary key(ID);\r\n",
                ""
            ],
            "metadata": {
                "azdata_cell_guid": "09a5fd54-dd38-47cb-b16f-ff37eafa7558"
            },
            "outputs": [
                {
                    "output_type": "display_data",
                    "data": {
                        "text/html": "(1642 rows affected)"
                    },
                    "metadata": {}
                },
                {
                    "output_type": "display_data",
                    "data": {
                        "text/html": "(10 rows affected)"
                    },
                    "metadata": {}
                },
                {
                    "output_type": "display_data",
                    "data": {
                        "text/html": "(1642 rows affected)"
                    },
                    "metadata": {}
                },
                {
                    "output_type": "display_data",
                    "data": {
                        "text/html": "Total execution time: 00:00:00.549"
                    },
                    "metadata": {}
                },
                {
                    "output_type": "execute_result",
                    "metadata": {},
                    "execution_count": 1,
                    "data": {
                        "application/vnd.dataresource+json": {
                            "schema": {
                                "fields": [
                                    {
                                        "name": "ID"
                                    },
                                    {
                                        "name": "LAT"
                                    },
                                    {
                                        "name": "LONG"
                                    },
                                    {
                                        "name": "MNAME"
                                    },
                                    {
                                        "name": "County_Name"
                                    },
                                    {
                                        "name": "State_Name"
                                    },
                                    {
                                        "name": "HRSA_RURAL_DESC"
                                    },
                                    {
                                        "name": "County_GEOID_Z"
                                    },
                                    {
                                        "name": "ADI"
                                    }
                                ]
                            },
                            "data": [
                                {
                                    "0": "6110003",
                                    "1": "43.906",
                                    "2": "-69.8904",
                                    "3": "Mid Coast Hospital",
                                    "4": "Cumberland",
                                    "5": "Maine",
                                    "6": "01: Rural",
                                    "7": "Z23005",
                                    "8": "01: Middle Class"
                                },
                                {
                                    "0": "6110008",
                                    "1": "43.6514",
                                    "2": "-70.2649",
                                    "3": "Northern Light Mercy Hospital",
                                    "4": "Cumberland",
                                    "5": "Maine",
                                    "6": "00: Urban",
                                    "7": "Z23005",
                                    "8": "01: Middle Class"
                                },
                                {
                                    "0": "6110050",
                                    "1": "44.8074",
                                    "2": "-68.7526",
                                    "3": "Northern Light Eastern Maine Medical Center",
                                    "4": "Penobscot",
                                    "5": "Maine",
                                    "6": "00: Urban",
                                    "7": "Z23019",
                                    "8": "01: Middle Class"
                                },
                                {
                                    "0": "6110090",
                                    "1": "44.385",
                                    "2": "-68.2022",
                                    "3": "Mount Desert Island Hospital",
                                    "4": "Hancock",
                                    "5": "Maine",
                                    "6": "01: Rural",
                                    "7": "Z23009",
                                    "8": "02: Upper Class"
                                },
                                {
                                    "0": "6110120",
                                    "1": "44.4122",
                                    "2": "-68.9939",
                                    "3": "Waldo County General Hospital",
                                    "4": "Waldo",
                                    "5": "Maine",
                                    "6": "01: Rural",
                                    "7": "Z23027",
                                    "8": "01: Middle Class"
                                },
                                {
                                    "0": "6110290",
                                    "1": "47.2656",
                                    "2": "-68.592",
                                    "3": "Northern Maine Medical Center",
                                    "4": "Aroostook",
                                    "5": "Maine",
                                    "6": "01: Rural",
                                    "7": "Z23003",
                                    "8": "01: Middle Class"
                                },
                                {
                                    "0": "6110310",
                                    "1": "45.4588",
                                    "2": "-69.6111",
                                    "3": "Northern Light CA Dean Hospital",
                                    "4": "Piscataquis",
                                    "5": "Maine",
                                    "6": "01: Rural",
                                    "7": "Z23021",
                                    "8": "01: Middle Class"
                                },
                                {
                                    "0": "6110367",
                                    "1": "44.0259",
                                    "2": "-69.53",
                                    "3": "LincolnHealth",
                                    "4": "Lincoln",
                                    "5": "Maine",
                                    "6": "01: Rural",
                                    "7": "Z23015",
                                    "8": "01: Middle Class"
                                },
                                {
                                    "0": "6110378",
                                    "1": "43.4776",
                                    "2": "-70.4904",
                                    "3": "Southern Maine Health Care - Biddeford Medical Center",
                                    "4": "York",
                                    "5": "Maine",
                                    "6": "00: Urban",
                                    "7": "Z23031",
                                    "8": "01: Middle Class"
                                },
                                {
                                    "0": "6110386",
                                    "1": "44.7136",
                                    "2": "-67.4771",
                                    "3": "Down East Community Hospital",
                                    "4": "Washington",
                                    "5": "Maine",
                                    "6": "01: Rural",
                                    "7": "Z23029",
                                    "8": "01: Middle Class"
                                }
                            ]
                        },
                        "text/html": [
                            "<table>",
                            "<tr><th>ID</th><th>LAT</th><th>LONG</th><th>MNAME</th><th>County_Name</th><th>State_Name</th><th>HRSA_RURAL_DESC</th><th>County_GEOID_Z</th><th>ADI</th></tr>",
                            "<tr><td>6110003</td><td>43.906</td><td>-69.8904</td><td>Mid Coast Hospital</td><td>Cumberland</td><td>Maine</td><td>01: Rural</td><td>Z23005</td><td>01: Middle Class</td></tr>",
                            "<tr><td>6110008</td><td>43.6514</td><td>-70.2649</td><td>Northern Light Mercy Hospital</td><td>Cumberland</td><td>Maine</td><td>00: Urban</td><td>Z23005</td><td>01: Middle Class</td></tr>",
                            "<tr><td>6110050</td><td>44.8074</td><td>-68.7526</td><td>Northern Light Eastern Maine Medical Center</td><td>Penobscot</td><td>Maine</td><td>00: Urban</td><td>Z23019</td><td>01: Middle Class</td></tr>",
                            "<tr><td>6110090</td><td>44.385</td><td>-68.2022</td><td>Mount Desert Island Hospital</td><td>Hancock</td><td>Maine</td><td>01: Rural</td><td>Z23009</td><td>02: Upper Class</td></tr>",
                            "<tr><td>6110120</td><td>44.4122</td><td>-68.9939</td><td>Waldo County General Hospital</td><td>Waldo</td><td>Maine</td><td>01: Rural</td><td>Z23027</td><td>01: Middle Class</td></tr>",
                            "<tr><td>6110290</td><td>47.2656</td><td>-68.592</td><td>Northern Maine Medical Center</td><td>Aroostook</td><td>Maine</td><td>01: Rural</td><td>Z23003</td><td>01: Middle Class</td></tr>",
                            "<tr><td>6110310</td><td>45.4588</td><td>-69.6111</td><td>Northern Light CA Dean Hospital</td><td>Piscataquis</td><td>Maine</td><td>01: Rural</td><td>Z23021</td><td>01: Middle Class</td></tr>",
                            "<tr><td>6110367</td><td>44.0259</td><td>-69.53</td><td>LincolnHealth</td><td>Lincoln</td><td>Maine</td><td>01: Rural</td><td>Z23015</td><td>01: Middle Class</td></tr>",
                            "<tr><td>6110378</td><td>43.4776</td><td>-70.4904</td><td>Southern Maine Health Care - Biddeford Medical Center</td><td>York</td><td>Maine</td><td>00: Urban</td><td>Z23031</td><td>01: Middle Class</td></tr>",
                            "<tr><td>6110386</td><td>44.7136</td><td>-67.4771</td><td>Down East Community Hospital</td><td>Washington</td><td>Maine</td><td>01: Rural</td><td>Z23029</td><td>01: Middle Class</td></tr>",
                            "</table>"
                        ]
                    }
                }
            ],
            "execution_count": 1
        },
        {
            "cell_type": "code",
            "source": [
                "\r\n",
                "--step 2: find target population of interest for these services\r\n",
                "--women over 40 (B01001e38) to women 85+ (B01001e49) \r\n",
                "--drop table #pop\r\n",
                "select A.GEOID_Data, 'Z'+B.STATEFP+B.COUNTYFP as [County_GEOID_Z],B.State_Name,B.County_Name,\r\n",
                "\tB01001e38+B01001e39+B01001e40+B01001e41+B01001e42+B01001e43+B01001e44+B01001e45+B01001e46+B01001e47+B01001e48+B01001e49 as [womenover40]\r\n",
                "into #pop\r\n",
                "from \r\n",
                "[dbo].[Census_ACS5Yr_2018] as A\r\n",
                "left join \r\n",
                "[dbo].[US_Census_Tract_Charac] as B\r\n",
                "\ton A.GEOID_Data=B.GEOID_Data\r\n",
                "order by GEOID_Data;\r\n",
                "--74,001 rows \r\n",
                "\r\n",
                "select top 10 *\r\n",
                "from #pop;"
            ],
            "metadata": {
                "azdata_cell_guid": "8133bc42-fbd3-41b5-bae4-34c8f1a2cfa3"
            },
            "outputs": [
                {
                    "output_type": "display_data",
                    "data": {
                        "text/html": "(74001 rows affected)"
                    },
                    "metadata": {}
                },
                {
                    "output_type": "display_data",
                    "data": {
                        "text/html": "(10 rows affected)"
                    },
                    "metadata": {}
                },
                {
                    "output_type": "display_data",
                    "data": {
                        "text/html": "Total execution time: 00:00:00.295"
                    },
                    "metadata": {}
                },
                {
                    "output_type": "execute_result",
                    "metadata": {},
                    "execution_count": 2,
                    "data": {
                        "application/vnd.dataresource+json": {
                            "schema": {
                                "fields": [
                                    {
                                        "name": "GEOID_Data"
                                    },
                                    {
                                        "name": "County_GEOID_Z"
                                    },
                                    {
                                        "name": "State_Name"
                                    },
                                    {
                                        "name": "County_Name"
                                    },
                                    {
                                        "name": "womenover40"
                                    }
                                ]
                            },
                            "data": [
                                {
                                    "0": "14000US06037206050",
                                    "1": "Z06037",
                                    "2": "California",
                                    "3": "Los Angeles",
                                    "4": "729.00000000"
                                },
                                {
                                    "0": "14000US06037206200",
                                    "1": "Z06037",
                                    "2": "California",
                                    "3": "Los Angeles",
                                    "4": "1075.00000000"
                                },
                                {
                                    "0": "14000US06037208301",
                                    "1": "Z06037",
                                    "2": "California",
                                    "3": "Los Angeles",
                                    "4": "229.00000000"
                                },
                                {
                                    "0": "14000US06037208302",
                                    "1": "Z06037",
                                    "2": "California",
                                    "3": "Los Angeles",
                                    "4": "1057.00000000"
                                },
                                {
                                    "0": "14000US06037208720",
                                    "1": "Z06037",
                                    "2": "California",
                                    "3": "Los Angeles",
                                    "4": "762.00000000"
                                },
                                {
                                    "0": "14000US06037208802",
                                    "1": "Z06037",
                                    "2": "California",
                                    "3": "Los Angeles",
                                    "4": "718.00000000"
                                },
                                {
                                    "0": "14000US06037208903",
                                    "1": "Z06037",
                                    "2": "California",
                                    "3": "Los Angeles",
                                    "4": "607.00000000"
                                },
                                {
                                    "0": "14000US06037208904",
                                    "1": "Z06037",
                                    "2": "California",
                                    "3": "Los Angeles",
                                    "4": "748.00000000"
                                },
                                {
                                    "0": "14000US06037209401",
                                    "1": "Z06037",
                                    "2": "California",
                                    "3": "Los Angeles",
                                    "4": "911.00000000"
                                },
                                {
                                    "0": "14000US06037211310",
                                    "1": "Z06037",
                                    "2": "California",
                                    "3": "Los Angeles",
                                    "4": "676.00000000"
                                }
                            ]
                        },
                        "text/html": [
                            "<table>",
                            "<tr><th>GEOID_Data</th><th>County_GEOID_Z</th><th>State_Name</th><th>County_Name</th><th>womenover40</th></tr>",
                            "<tr><td>14000US06037206050</td><td>Z06037</td><td>California</td><td>Los Angeles</td><td>729.00000000</td></tr>",
                            "<tr><td>14000US06037206200</td><td>Z06037</td><td>California</td><td>Los Angeles</td><td>1075.00000000</td></tr>",
                            "<tr><td>14000US06037208301</td><td>Z06037</td><td>California</td><td>Los Angeles</td><td>229.00000000</td></tr>",
                            "<tr><td>14000US06037208302</td><td>Z06037</td><td>California</td><td>Los Angeles</td><td>1057.00000000</td></tr>",
                            "<tr><td>14000US06037208720</td><td>Z06037</td><td>California</td><td>Los Angeles</td><td>762.00000000</td></tr>",
                            "<tr><td>14000US06037208802</td><td>Z06037</td><td>California</td><td>Los Angeles</td><td>718.00000000</td></tr>",
                            "<tr><td>14000US06037208903</td><td>Z06037</td><td>California</td><td>Los Angeles</td><td>607.00000000</td></tr>",
                            "<tr><td>14000US06037208904</td><td>Z06037</td><td>California</td><td>Los Angeles</td><td>748.00000000</td></tr>",
                            "<tr><td>14000US06037209401</td><td>Z06037</td><td>California</td><td>Los Angeles</td><td>911.00000000</td></tr>",
                            "<tr><td>14000US06037211310</td><td>Z06037</td><td>California</td><td>Los Angeles</td><td>676.00000000</td></tr>",
                            "</table>"
                        ]
                    }
                }
            ],
            "execution_count": 2
        },
        {
            "cell_type": "code",
            "source": [
                "\r\n",
                "--Step 3: Urban vs Rural Areas in Southern Region\r\n",
                "--drop table #south_charac\r\n",
                "select A.[GEOID_Data],A.County_Name,A.State_Name,A.HRSA_RURAL_DESC\r\n",
                "      ,('Z'+A.STATEFP+A.COUNTYFP) as [County_GEOID_Z]\r\n",
                "\t  ,case when A.[Median_ADI_NatRank]<=25 then '02: Upper Class'\r\n",
                "\t\t    when (A.[Median_ADI_NatRank]>25 and A.[Median_ADI_NatRank]<=75) then '01: Middle Class'\r\n",
                "\t\t    when A.[Median_ADI_NatRank]>75 then '00: Lower Class'\r\n",
                "\t\t    else '99: Not Ranked' end as [ADI]\r\n",
                "\t  ,B.womenover40\r\n",
                "into #south_charac\r\n",
                "from \r\n",
                "[dbo].[US_Census_Tract_Charac] A\r\n",
                "left join\r\n",
                "#pop B\r\n",
                "\ton A.GEOID_Data=B.GEOID_Data\r\n",
                "where \r\n",
                "(A.[State_Name] like '%Tennessee%'\r\n",
                "or A.[State_Name] like '%North Carolina%'\r\n",
                "or A.[State_Name] like '%South Carolina%'\r\n",
                "or A.[State_Name] like '%Georgia%'\r\n",
                "or A.[State_Name] like '%Florida%'\r\n",
                "or A.[State_Name] like '%Alabama%'\r\n",
                "or A.[State_Name] like '%Mississippi%'\r\n",
                "or A.[State_Name] like '%Louisiana%'\r\n",
                "or A.[State_Name] like '%Missouri%'\r\n",
                "or A.[State_Name] like '%Arkansas%') \r\n",
                "--16,081 rows\r\n",
                "\r\n",
                "select top 10 * from #south_charac"
            ],
            "metadata": {
                "azdata_cell_guid": "332cca02-8c16-4299-b9f2-993980f45b85"
            },
            "outputs": [
                {
                    "output_type": "display_data",
                    "data": {
                        "text/html": "(16081 rows affected)"
                    },
                    "metadata": {}
                },
                {
                    "output_type": "display_data",
                    "data": {
                        "text/html": "(10 rows affected)"
                    },
                    "metadata": {}
                },
                {
                    "output_type": "display_data",
                    "data": {
                        "text/html": "Total execution time: 00:00:00.430"
                    },
                    "metadata": {}
                },
                {
                    "output_type": "execute_result",
                    "metadata": {},
                    "execution_count": 3,
                    "data": {
                        "application/vnd.dataresource+json": {
                            "schema": {
                                "fields": [
                                    {
                                        "name": "GEOID_Data"
                                    },
                                    {
                                        "name": "County_Name"
                                    },
                                    {
                                        "name": "State_Name"
                                    },
                                    {
                                        "name": "HRSA_RURAL_DESC"
                                    },
                                    {
                                        "name": "County_GEOID_Z"
                                    },
                                    {
                                        "name": "ADI"
                                    },
                                    {
                                        "name": "womenover40"
                                    }
                                ]
                            },
                            "data": [
                                {
                                    "0": "14000US12086009044",
                                    "1": "Miami-Dade",
                                    "2": "Florida",
                                    "3": "00: Urban",
                                    "4": "Z12086",
                                    "5": "01: Middle Class",
                                    "6": "579.00000000"
                                },
                                {
                                    "0": "14000US12086009047",
                                    "1": "Miami-Dade",
                                    "2": "Florida",
                                    "3": "00: Urban",
                                    "4": "Z12086",
                                    "5": "01: Middle Class",
                                    "6": "677.00000000"
                                },
                                {
                                    "0": "14000US12086009100",
                                    "1": "Miami-Dade",
                                    "2": "Florida",
                                    "3": "00: Urban",
                                    "4": "Z12086",
                                    "5": "01: Middle Class",
                                    "6": "1847.00000000"
                                },
                                {
                                    "0": "14000US12086009901",
                                    "1": "Miami-Dade",
                                    "2": "Florida",
                                    "3": "00: Urban",
                                    "4": "Z12086",
                                    "5": "01: Middle Class",
                                    "6": "2216.00000000"
                                },
                                {
                                    "0": "14000US12086009904",
                                    "1": "Miami-Dade",
                                    "2": "Florida",
                                    "3": "00: Urban",
                                    "4": "Z12086",
                                    "5": "01: Middle Class",
                                    "6": "631.00000000"
                                },
                                {
                                    "0": "14000US13037950200",
                                    "1": "Calhoun",
                                    "2": "Georgia",
                                    "3": "01: Rural",
                                    "4": "Z13037",
                                    "5": "00: Lower Class",
                                    "6": "877.00000000"
                                },
                                {
                                    "0": "14000US13039010403",
                                    "1": "Camden",
                                    "2": "Georgia",
                                    "3": "01: Rural",
                                    "4": "Z13039",
                                    "5": "01: Middle Class",
                                    "6": "1133.00000000"
                                },
                                {
                                    "0": "14000US13039010500",
                                    "1": "Camden",
                                    "2": "Georgia",
                                    "3": "01: Rural",
                                    "4": "Z13039",
                                    "5": "00: Lower Class",
                                    "6": "129.00000000"
                                },
                                {
                                    "0": "14000US13039010601",
                                    "1": "Camden",
                                    "2": "Georgia",
                                    "3": "01: Rural",
                                    "4": "Z13039",
                                    "5": "01: Middle Class",
                                    "6": "1815.00000000"
                                },
                                {
                                    "0": "14000US13039010602",
                                    "1": "Camden",
                                    "2": "Georgia",
                                    "3": "01: Rural",
                                    "4": "Z13039",
                                    "5": "01: Middle Class",
                                    "6": "270.00000000"
                                }
                            ]
                        },
                        "text/html": [
                            "<table>",
                            "<tr><th>GEOID_Data</th><th>County_Name</th><th>State_Name</th><th>HRSA_RURAL_DESC</th><th>County_GEOID_Z</th><th>ADI</th><th>womenover40</th></tr>",
                            "<tr><td>14000US12086009044</td><td>Miami-Dade</td><td>Florida</td><td>00: Urban</td><td>Z12086</td><td>01: Middle Class</td><td>579.00000000</td></tr>",
                            "<tr><td>14000US12086009047</td><td>Miami-Dade</td><td>Florida</td><td>00: Urban</td><td>Z12086</td><td>01: Middle Class</td><td>677.00000000</td></tr>",
                            "<tr><td>14000US12086009100</td><td>Miami-Dade</td><td>Florida</td><td>00: Urban</td><td>Z12086</td><td>01: Middle Class</td><td>1847.00000000</td></tr>",
                            "<tr><td>14000US12086009901</td><td>Miami-Dade</td><td>Florida</td><td>00: Urban</td><td>Z12086</td><td>01: Middle Class</td><td>2216.00000000</td></tr>",
                            "<tr><td>14000US12086009904</td><td>Miami-Dade</td><td>Florida</td><td>00: Urban</td><td>Z12086</td><td>01: Middle Class</td><td>631.00000000</td></tr>",
                            "<tr><td>14000US13037950200</td><td>Calhoun</td><td>Georgia</td><td>01: Rural</td><td>Z13037</td><td>00: Lower Class</td><td>877.00000000</td></tr>",
                            "<tr><td>14000US13039010403</td><td>Camden</td><td>Georgia</td><td>01: Rural</td><td>Z13039</td><td>01: Middle Class</td><td>1133.00000000</td></tr>",
                            "<tr><td>14000US13039010500</td><td>Camden</td><td>Georgia</td><td>01: Rural</td><td>Z13039</td><td>00: Lower Class</td><td>129.00000000</td></tr>",
                            "<tr><td>14000US13039010601</td><td>Camden</td><td>Georgia</td><td>01: Rural</td><td>Z13039</td><td>01: Middle Class</td><td>1815.00000000</td></tr>",
                            "<tr><td>14000US13039010602</td><td>Camden</td><td>Georgia</td><td>01: Rural</td><td>Z13039</td><td>01: Middle Class</td><td>270.00000000</td></tr>",
                            "</table>"
                        ]
                    }
                }
            ],
            "execution_count": 3
        },
        {
            "cell_type": "code",
            "source": [
                "\r\n",
                "--Step 4: Matrix for Map\r\n",
                "--drop table #key_table\r\n",
                "select GEOID_Data, count(distinct Provider_ID) as [hospitals_win_60min], min([Total_TravelTime]) as [closest_majorimaging]\r\n",
                "into #key_table\r\n",
                "from \r\n",
                "(select A.*, B.womenover40, C.[State_Name]\r\n",
                "from [dbo].[Travel_Matrix] as A\r\n",
                "left join #pop as B on A.GEOID_Data=B.GEOID_Data\r\n",
                "left join #south_charac as C on A.GEOID_Data=C.GEOID_Data\r\n",
                "where Provider_ID in (select ID from #key_ID)\r\n",
                "and Total_TravelTime<=60\r\n",
                "and C.[State_Name] is not null ) as A\r\n",
                "group by GEOID_Data\r\n",
                "order by GEOID_Data \r\n",
                "--14,617 rows \r\n",
                "\r\n",
                "select top 10 *\r\n",
                "from #key_table\r\n",
                ""
            ],
            "metadata": {
                "azdata_cell_guid": "9a9b3401-c09c-455b-aac9-b76be3bb5bf5"
            },
            "outputs": [
                {
                    "output_type": "display_data",
                    "data": {
                        "text/html": "(14617 rows affected)"
                    },
                    "metadata": {}
                },
                {
                    "output_type": "display_data",
                    "data": {
                        "text/html": "(10 rows affected)"
                    },
                    "metadata": {}
                },
                {
                    "output_type": "display_data",
                    "data": {
                        "text/html": "Total execution time: 00:00:03.381"
                    },
                    "metadata": {}
                },
                {
                    "output_type": "execute_result",
                    "metadata": {},
                    "execution_count": 4,
                    "data": {
                        "application/vnd.dataresource+json": {
                            "schema": {
                                "fields": [
                                    {
                                        "name": "GEOID_Data"
                                    },
                                    {
                                        "name": "hospitals_win_60min"
                                    },
                                    {
                                        "name": "closest_majorimaging"
                                    }
                                ]
                            },
                            "data": [
                                {
                                    "0": "14000US12073002005",
                                    "1": "1",
                                    "2": "50.60655342846121"
                                },
                                {
                                    "0": "14000US45069960100",
                                    "1": "1",
                                    "2": "28.796205250654857"
                                },
                                {
                                    "0": "14000US37071030901",
                                    "1": "7",
                                    "2": "34.24175098595023"
                                },
                                {
                                    "0": "14000US29510114101",
                                    "1": "20",
                                    "2": "10.382194325306216"
                                },
                                {
                                    "0": "14000US28047003204",
                                    "1": "3",
                                    "2": "31.97364670757619"
                                },
                                {
                                    "0": "14000US12099004300",
                                    "1": "8",
                                    "2": "13.279148879739326"
                                },
                                {
                                    "0": "14000US29183310501",
                                    "1": "22",
                                    "2": "3.565826481055893"
                                },
                                {
                                    "0": "14000US37001020902",
                                    "1": "10",
                                    "2": "12.192948417782109"
                                },
                                {
                                    "0": "14000US28059040102",
                                    "1": "1",
                                    "2": "35.47328252085533"
                                },
                                {
                                    "0": "14000US12086018300",
                                    "1": "12",
                                    "2": "2.789609730085362"
                                }
                            ]
                        },
                        "text/html": [
                            "<table>",
                            "<tr><th>GEOID_Data</th><th>hospitals_win_60min</th><th>closest_majorimaging</th></tr>",
                            "<tr><td>14000US12073002005</td><td>1</td><td>50.60655342846121</td></tr>",
                            "<tr><td>14000US45069960100</td><td>1</td><td>28.796205250654857</td></tr>",
                            "<tr><td>14000US37071030901</td><td>7</td><td>34.24175098595023</td></tr>",
                            "<tr><td>14000US29510114101</td><td>20</td><td>10.382194325306216</td></tr>",
                            "<tr><td>14000US28047003204</td><td>3</td><td>31.97364670757619</td></tr>",
                            "<tr><td>14000US12099004300</td><td>8</td><td>13.279148879739326</td></tr>",
                            "<tr><td>14000US29183310501</td><td>22</td><td>3.565826481055893</td></tr>",
                            "<tr><td>14000US37001020902</td><td>10</td><td>12.192948417782109</td></tr>",
                            "<tr><td>14000US28059040102</td><td>1</td><td>35.47328252085533</td></tr>",
                            "<tr><td>14000US12086018300</td><td>12</td><td>2.789609730085362</td></tr>",
                            "</table>"
                        ]
                    }
                }
            ],
            "execution_count": 4
        },
        {
            "cell_type": "code",
            "source": [
                "\r\n",
                "--Step 5: Final Table for Mapping\r\n",
                "--drop table #final_table\r\n",
                "select a.GEOID_Data,\r\n",
                "\t   a.State_Name,\r\n",
                "\t   a.County_Name,\r\n",
                "\t   a.County_GEOID_Z,\r\n",
                "\t   a.ADI,\r\n",
                "\t   a.HRSA_RURAL_DESC,\r\n",
                "\t   a.womenover40,\r\n",
                "\t   isnull(b.hospitals_win_60min,0) as hospitals_win_60min,\r\n",
                "\t   isnull(b.closest_majorimaging,361) as closest_majorimaging\r\n",
                "into #final_table \r\n",
                "from #south_charac as A \r\n",
                "left join #key_table as B on A.GEOID_Data=B.GEOID_Data\r\n",
                "where [State_Name] is not null \r\n",
                "and \r\n",
                "[ADI] is not null\r\n",
                "and \r\n",
                "[HRSA_RURAL_DESC] is not null\r\n",
                "order by GEOID_Data;\r\n",
                "--16,081 rows\r\n",
                "\r\n",
                "--select count(GEOid_Data) as total\r\n",
                "--from [dbo].[US_Census_Tract_Charac] A\r\n",
                "--where\r\n",
                "--(A.[State_Name] like '%Tennessee%'\r\n",
                "--or A.[State_Name] like '%North Carolina%'\r\n",
                "--or A.[State_Name] like '%South Carolina%'\r\n",
                "--or A.[State_Name] like '%Georgia%'\r\n",
                "--or A.[State_Name] like '%Florida%'\r\n",
                "--or A.[State_Name] like '%Alabama%'\r\n",
                "--or A.[State_Name] like '%Mississippi%'\r\n",
                "--or A.[State_Name] like '%Louisiana%'\r\n",
                "--or A.[State_Name] like '%Missouri%'\r\n",
                "--or A.[State_Name] like '%Arkansas%')\r\n",
                "----16,081 rows...The numbers match up\r\n",
                "\r\n",
                "select top 10 * from #final_table;\r\n",
                "\r\n",
                "select distinct *\r\n",
                "into HCAN361_25.dbo.TravelMap_Group6\r\n",
                "from #final_table;\r\n",
                "\r\n",
                "alter table HCAN361_25.dbo.TravelMap_Group6\r\n",
                "alter column GEOID_Data varchar(30) not null;\r\n",
                "\r\n",
                "alter table HCAN361_25.dbo.TravelMap_Group6\r\n",
                "add constraint pk_trvl_Grp6 primary key(GEOID_Data);"
            ],
            "metadata": {
                "azdata_cell_guid": "d9178abe-26d7-4d3f-83ed-2a1d6c01d3e1"
            },
            "outputs": [
                {
                    "output_type": "display_data",
                    "data": {
                        "text/html": "(16081 rows affected)"
                    },
                    "metadata": {}
                },
                {
                    "output_type": "display_data",
                    "data": {
                        "text/html": "(10 rows affected)"
                    },
                    "metadata": {}
                },
                {
                    "output_type": "display_data",
                    "data": {
                        "text/html": "(16081 rows affected)"
                    },
                    "metadata": {}
                },
                {
                    "output_type": "display_data",
                    "data": {
                        "text/html": "Total execution time: 00:00:00.661"
                    },
                    "metadata": {}
                },
                {
                    "output_type": "execute_result",
                    "metadata": {},
                    "execution_count": 5,
                    "data": {
                        "application/vnd.dataresource+json": {
                            "schema": {
                                "fields": [
                                    {
                                        "name": "GEOID_Data"
                                    },
                                    {
                                        "name": "State_Name"
                                    },
                                    {
                                        "name": "County_Name"
                                    },
                                    {
                                        "name": "County_GEOID_Z"
                                    },
                                    {
                                        "name": "ADI"
                                    },
                                    {
                                        "name": "HRSA_RURAL_DESC"
                                    },
                                    {
                                        "name": "womenover40"
                                    },
                                    {
                                        "name": "hospitals_win_60min"
                                    },
                                    {
                                        "name": "closest_majorimaging"
                                    }
                                ]
                            },
                            "data": [
                                {
                                    "0": "14000US12101032110",
                                    "1": "Florida",
                                    "2": "Pasco",
                                    "3": "Z12101",
                                    "4": "01: Middle Class",
                                    "5": "00: Urban",
                                    "6": "938.00000000",
                                    "7": "5",
                                    "8": "22.3191836671055"
                                },
                                {
                                    "0": "14000US12101032111",
                                    "1": "Florida",
                                    "2": "Pasco",
                                    "3": "Z12101",
                                    "4": "01: Middle Class",
                                    "5": "00: Urban",
                                    "6": "945.00000000",
                                    "7": "5",
                                    "8": "27.593855732419893"
                                },
                                {
                                    "0": "14000US12101032112",
                                    "1": "Florida",
                                    "2": "Pasco",
                                    "3": "Z12101",
                                    "4": "01: Middle Class",
                                    "5": "00: Urban",
                                    "6": "955.00000000",
                                    "7": "5",
                                    "8": "22.713729194525293"
                                },
                                {
                                    "0": "14000US12101032113",
                                    "1": "Florida",
                                    "2": "Pasco",
                                    "3": "Z12101",
                                    "4": "02: Upper Class",
                                    "5": "00: Urban",
                                    "6": "1046.00000000",
                                    "7": "5",
                                    "8": "26.221368698988375"
                                },
                                {
                                    "0": "14000US12101032803",
                                    "1": "Florida",
                                    "2": "Pasco",
                                    "3": "Z12101",
                                    "4": "01: Middle Class",
                                    "5": "00: Urban",
                                    "6": "652.00000000",
                                    "7": "2",
                                    "8": "41.59762583546482"
                                },
                                {
                                    "0": "14000US12101032804",
                                    "1": "Florida",
                                    "2": "Pasco",
                                    "3": "Z12101",
                                    "4": "00: Lower Class",
                                    "5": "00: Urban",
                                    "6": "1121.00000000",
                                    "7": "2",
                                    "8": "38.16925349011617"
                                },
                                {
                                    "0": "14000US12101032901",
                                    "1": "Florida",
                                    "2": "Pasco",
                                    "3": "Z12101",
                                    "4": "01: Middle Class",
                                    "5": "00: Urban",
                                    "6": "1334.00000000",
                                    "7": "2",
                                    "8": "37.52052113488137"
                                },
                                {
                                    "0": "14000US12101032903",
                                    "1": "Florida",
                                    "2": "Pasco",
                                    "3": "Z12101",
                                    "4": "00: Lower Class",
                                    "5": "00: Urban",
                                    "6": "1514.00000000",
                                    "7": "2",
                                    "8": "34.872691768501014"
                                },
                                {
                                    "0": "14000US12101033011",
                                    "1": "Florida",
                                    "2": "Pasco",
                                    "3": "Z12101",
                                    "4": "01: Middle Class",
                                    "5": "00: Urban",
                                    "6": "617.00000000",
                                    "7": "2",
                                    "8": "32.1293152433225"
                                },
                                {
                                    "0": "14000US12101990000",
                                    "1": "Florida",
                                    "2": "Pasco",
                                    "3": "Z12101",
                                    "4": "99: Not Ranked",
                                    "5": "00: Urban",
                                    "6": "0.00000000",
                                    "7": "5",
                                    "8": "30.8050520209651"
                                }
                            ]
                        },
                        "text/html": [
                            "<table>",
                            "<tr><th>GEOID_Data</th><th>State_Name</th><th>County_Name</th><th>County_GEOID_Z</th><th>ADI</th><th>HRSA_RURAL_DESC</th><th>womenover40</th><th>hospitals_win_60min</th><th>closest_majorimaging</th></tr>",
                            "<tr><td>14000US12101032110</td><td>Florida</td><td>Pasco</td><td>Z12101</td><td>01: Middle Class</td><td>00: Urban</td><td>938.00000000</td><td>5</td><td>22.3191836671055</td></tr>",
                            "<tr><td>14000US12101032111</td><td>Florida</td><td>Pasco</td><td>Z12101</td><td>01: Middle Class</td><td>00: Urban</td><td>945.00000000</td><td>5</td><td>27.593855732419893</td></tr>",
                            "<tr><td>14000US12101032112</td><td>Florida</td><td>Pasco</td><td>Z12101</td><td>01: Middle Class</td><td>00: Urban</td><td>955.00000000</td><td>5</td><td>22.713729194525293</td></tr>",
                            "<tr><td>14000US12101032113</td><td>Florida</td><td>Pasco</td><td>Z12101</td><td>02: Upper Class</td><td>00: Urban</td><td>1046.00000000</td><td>5</td><td>26.221368698988375</td></tr>",
                            "<tr><td>14000US12101032803</td><td>Florida</td><td>Pasco</td><td>Z12101</td><td>01: Middle Class</td><td>00: Urban</td><td>652.00000000</td><td>2</td><td>41.59762583546482</td></tr>",
                            "<tr><td>14000US12101032804</td><td>Florida</td><td>Pasco</td><td>Z12101</td><td>00: Lower Class</td><td>00: Urban</td><td>1121.00000000</td><td>2</td><td>38.16925349011617</td></tr>",
                            "<tr><td>14000US12101032901</td><td>Florida</td><td>Pasco</td><td>Z12101</td><td>01: Middle Class</td><td>00: Urban</td><td>1334.00000000</td><td>2</td><td>37.52052113488137</td></tr>",
                            "<tr><td>14000US12101032903</td><td>Florida</td><td>Pasco</td><td>Z12101</td><td>00: Lower Class</td><td>00: Urban</td><td>1514.00000000</td><td>2</td><td>34.872691768501014</td></tr>",
                            "<tr><td>14000US12101033011</td><td>Florida</td><td>Pasco</td><td>Z12101</td><td>01: Middle Class</td><td>00: Urban</td><td>617.00000000</td><td>2</td><td>32.1293152433225</td></tr>",
                            "<tr><td>14000US12101990000</td><td>Florida</td><td>Pasco</td><td>Z12101</td><td>99: Not Ranked</td><td>00: Urban</td><td>0.00000000</td><td>5</td><td>30.8050520209651</td></tr>",
                            "</table>"
                        ]
                    }
                }
            ],
            "execution_count": 5
        },
        {
            "cell_type": "code",
            "source": [
                "--Step 6: County-Level rate of hospital radiologists per 5000 women aged 40 years and older\r\n",
                "--FTRAD-->Full-time radiology technicians-->as19util1\r\n",
                "\r\n",
                "select distinct A.*,(FTRAD/( order by Radiologists_per_5K_Women descwomenover40*1.00))*5000 as Radiologists_per_5K_Women\r\n",
                "into #county\r\n",
                "from\r\n",
                "(\r\n",
                "select \r\n",
                " A.County_GEOID_Z,A.State_Name,A.County_Name,isnull(B.FTRAD,0) as FTRAD\r\n",
                ",isnull(sum(A.womenover40),0) as womenover40\r\n",
                "from \r\n",
                "#south_charac as A\r\n",
                "left join\r\n",
                "(select A.County_GEOID_Z, sum(B.FTRAD) as FTRAD\r\n",
                "from #key_ID as A left join dbo.as19util1 as B on A.ID=B.ID\r\n",
                "where County_GEOID_Z in (select County_GEOID_Z from #south_charac)\r\n",
                "group by A.County_GEOID_Z\r\n",
                ")as B\r\n",
                "\ton A.County_GEOID_Z=B.County_GEOID_Z\r\n",
                "group by A.County_GEOID_Z,A.State_Name,A.County_Name,B.FTRAD\r\n",
                ")A\r\n",
                "\r\n",
                "\r\n",
                "select top 10 * from #county;\r\n",
                "\r\n",
                "select distinct *\r\n",
                "into HCAN361_25.dbo.County_Group6\r\n",
                "from #county;\r\n",
                "\r\n",
                "alter table HCAN361_25.dbo.County_Group6\r\n",
                "alter column County_GEOID_Z varchar(30) not null;\r\n",
                "\r\n",
                "alter table HCAN361_25.dbo.County_Group6\r\n",
                "add constraint pk_county_Grp6 primary key(County_GEOID_Z);"
            ],
            "metadata": {
                "azdata_cell_guid": "81033e74-ffe2-4cf6-844c-746465b0ee1e"
            },
            "outputs": [
{
    "output_type": "display_data",
    "data": {
        "text/html": "(870 rows affected)"
    },
    "metadata": {}
}, {
    "output_type": "display_data",
    "data": {
        "text/html": "(10 rows affected)"
    },
    "metadata": {}
}, {
    "output_type": "display_data",
    "data": {
        "text/html": "(870 rows affected)"
    },
    "metadata": {}
}, {
    "output_type": "display_data",
    "data": {
        "text/html": "Total execution time: 00:00:00.308"
    },
    "metadata": {}
}, {
    "output_type": "execute_result",
    "metadata": {},
    "execution_count": 11,
    "data": {
        "application/vnd.dataresource+json": {
            "schema": {
                "fields": [
                    {
                        "name": "County_GEOID_Z"
                    },
                    {
                        "name": "State_Name"
                    },
                    {
                        "name": "County_Name"
                    },
                    {
                        "name": "FTRAD"
                    },
                    {
                        "name": "womenover40"
                    },
                    {
                        "name": "Radiologists_per_5K_Women"
                    }
                ]
            },
            "data": [
                {
                    "0": "Z12093",
                    "1": "Florida",
                    "2": "Okeechobee",
                    "3": "113",
                    "4": "9952.00000000",
                    "5": "56.77250803858521"
                },
                {
                    "0": "Z37135",
                    "1": "North Carolina",
                    "2": "Orange",
                    "3": "284",
                    "4": "33789.00000000",
                    "5": "42.0255112610613"
                },
                {
                    "0": "Z13277",
                    "1": "Georgia",
                    "2": "Tift",
                    "3": "57",
                    "4": "9866.00000000",
                    "5": "28.887086965335495"
                },
                {
                    "0": "Z37063",
                    "1": "North Carolina",
                    "2": "Durham",
                    "3": "371",
                    "4": "70857.00000000",
                    "5": "26.17948826509731"
                },
                {
                    "0": "Z13059",
                    "1": "Georgia",
                    "2": "Clarke",
                    "3": "108",
                    "4": "22665.00000000",
                    "5": "23.825281270681668"
                },
                {
                    "0": "Z28071",
                    "1": "Mississippi",
                    "2": "Lafayette",
                    "3": "46",
                    "4": "10728.00000000",
                    "5": "21.439224459358687"
                },
                {
                    "0": "Z13227",
                    "1": "Georgia",
                    "2": "Pickens",
                    "3": "37",
                    "4": "9195.00000000",
                    "5": "20.11963023382273"
                },
                {
                    "0": "Z37139",
                    "1": "North Carolina",
                    "2": "Pasquotank",
                    "3": "38",
                    "4": "10273.00000000",
                    "5": "18.49508420130439"
                },
                {
                    "0": "Z13275",
                    "1": "Georgia",
                    "2": "Thomas",
                    "3": "45",
                    "4": "12277.00000000",
                    "5": "18.32695283864136"
                },
                {
                    "0": "Z37165",
                    "1": "North Carolina",
                    "2": "Scotland",
                    "3": "31",
                    "4": "9065.00000000",
                    "5": "17.09873138444567"
                }
            ]
        },
        "text/html": [
            "<table>",
            "<tr><th>County_GEOID_Z</th><th>State_Name</th><th>County_Name</th><th>FTRAD</th><th>womenover40</th><th>Radiologists_per_5K_Women</th></tr>",
            "<tr><td>Z12093</td><td>Florida</td><td>Okeechobee</td><td>113</td><td>9952.00000000</td><td>56.77250803858521</td></tr>",
            "<tr><td>Z37135</td><td>North Carolina</td><td>Orange</td><td>284</td><td>33789.00000000</td><td>42.0255112610613</td></tr>",
            "<tr><td>Z13277</td><td>Georgia</td><td>Tift</td><td>57</td><td>9866.00000000</td><td>28.887086965335495</td></tr>",
            "<tr><td>Z37063</td><td>North Carolina</td><td>Durham</td><td>371</td><td>70857.00000000</td><td>26.17948826509731</td></tr>",
            "<tr><td>Z13059</td><td>Georgia</td><td>Clarke</td><td>108</td><td>22665.00000000</td><td>23.825281270681668</td></tr>",
            "<tr><td>Z28071</td><td>Mississippi</td><td>Lafayette</td><td>46</td><td>10728.00000000</td><td>21.439224459358687</td></tr>",
            "<tr><td>Z13227</td><td>Georgia</td><td>Pickens</td><td>37</td><td>9195.00000000</td><td>20.11963023382273</td></tr>",
            "<tr><td>Z37139</td><td>North Carolina</td><td>Pasquotank</td><td>38</td><td>10273.00000000</td><td>18.49508420130439</td></tr>",
            "<tr><td>Z13275</td><td>Georgia</td><td>Thomas</td><td>45</td><td>12277.00000000</td><td>18.32695283864136</td></tr>",
            "<tr><td>Z37165</td><td>North Carolina</td><td>Scotland</td><td>31</td><td>9065.00000000</td><td>17.09873138444567</td></tr>",
            "</table>"
        ]
    }
}
],
            "execution_count": 9
        },
        {
            "cell_type": "code",
            "source": [
                "\r\n",
                "--Table 1: Median Number of Facilites with Major Imaging Equipment \r\n",
                "select *\r\n",
                "from\r\n",
                "(\r\n",
                "select distinct \r\n",
                "'United States' as State_Name\r\n",
                ",PERCENTILE_CONT(0.5) WITHIN GROUP (ORDER BY hospitals_win_60min)OVER () AS Statewide   \r\n",
                ",PERCENTILE_CONT(0.5) WITHIN GROUP (ORDER BY case when HRSA_RURAL_DESC='00: Urban' then hospitals_win_60min end) OVER () AS Urban\r\n",
                ",PERCENTILE_CONT(0.5) WITHIN GROUP (ORDER BY case when HRSA_RURAL_DESC<>'00: Urban' then hospitals_win_60min end) OVER () AS Rural\r\n",
                ",PERCENTILE_CONT(0.5) WITHIN GROUP (ORDER BY case when ADI='02: Upper Class' then hospitals_win_60min end) OVER () AS [High SES]\r\n",
                ",PERCENTILE_CONT(0.5) WITHIN GROUP (ORDER BY case when ADI='01: Middle Class' then hospitals_win_60min end) OVER () AS [Middle SES]\r\n",
                ",PERCENTILE_CONT(0.5) WITHIN GROUP (ORDER BY case when ADI='00: Lower Class' then hospitals_win_60min end) OVER () AS [Low SES]\r\n",
                "from #final_table\r\n",
                "\r\n",
                "--below code concatenates (or stacks tables on top of each other)\r\n",
                "union all\r\n",
                "\r\n",
                "select distinct\r\n",
                " State_Name\r\n",
                ",PERCENTILE_CONT(0.5) WITHIN GROUP (ORDER BY hospitals_win_60min)OVER (PARTITION BY State_Name) AS Statewide   \r\n",
                ",PERCENTILE_CONT(0.5) WITHIN GROUP (ORDER BY case when HRSA_RURAL_DESC='00: Urban' then hospitals_win_60min end) OVER (PARTITION BY State_Name) AS Urban\r\n",
                ",PERCENTILE_CONT(0.5) WITHIN GROUP (ORDER BY case when HRSA_RURAL_DESC<>'00: Urban' then hospitals_win_60min end) OVER (PARTITION BY State_Name) AS Rural\r\n",
                ",PERCENTILE_CONT(0.5) WITHIN GROUP (ORDER BY case when ADI='02: Upper Class' then hospitals_win_60min end) OVER (PARTITION BY State_Name) AS [High SES]\r\n",
                ",PERCENTILE_CONT(0.5) WITHIN GROUP (ORDER BY case when ADI='01: Middle Class' then hospitals_win_60min end) OVER (PARTITION BY State_Name) AS [Middle SES]\r\n",
                ",PERCENTILE_CONT(0.5) WITHIN GROUP (ORDER BY case when ADI='00: Lower Class' then hospitals_win_60min end) OVER (PARTITION BY State_Name) AS [Low SES]\r\n",
                "from #final_table) as A\r\n",
                "order by State_Name;\r\n",
                "--11 rows\r\n",
                ""
            ],
            "metadata": {
                "azdata_cell_guid": "5d48c5d3-816d-423c-b04e-34080f728e93"
            },
            "outputs": [
                {
                    "output_type": "display_data",
                    "data": {
                        "text/html": "(11 rows affected)"
                    },
                    "metadata": {}
                },
                {
                    "output_type": "display_data",
                    "data": {
                        "text/html": "Total execution time: 00:00:00.991"
                    },
                    "metadata": {}
                },
                {
                    "output_type": "execute_result",
                    "metadata": {},
                    "execution_count": 7,
                    "data": {
                        "application/vnd.dataresource+json": {
                            "schema": {
                                "fields": [
                                    {
                                        "name": "State_Name"
                                    },
                                    {
                                        "name": "Statewide"
                                    },
                                    {
                                        "name": "Urban"
                                    },
                                    {
                                        "name": "Rural"
                                    },
                                    {
                                        "name": "High SES"
                                    },
                                    {
                                        "name": "Middle SES"
                                    },
                                    {
                                        "name": "Low SES"
                                    }
                                ]
                            },
                            "data": [
                                {
                                    "0": "Alabama",
                                    "1": "3",
                                    "2": "3",
                                    "3": "2",
                                    "4": "5",
                                    "5": "3",
                                    "6": "2"
                                },
                                {
                                    "0": "Arkansas",
                                    "1": "4",
                                    "2": "8",
                                    "3": "2",
                                    "4": "8",
                                    "5": "7",
                                    "6": "3"
                                },
                                {
                                    "0": "Florida",
                                    "1": "5",
                                    "2": "5",
                                    "3": "2",
                                    "4": "6",
                                    "5": "5",
                                    "6": "5"
                                },
                                {
                                    "0": "Georgia",
                                    "1": "5",
                                    "2": "12",
                                    "3": "2",
                                    "4": "14",
                                    "5": "5",
                                    "6": "3"
                                },
                                {
                                    "0": "Louisiana",
                                    "1": "5",
                                    "2": "7",
                                    "3": "1",
                                    "4": "10",
                                    "5": "6",
                                    "6": "2"
                                },
                                {
                                    "0": "Mississippi",
                                    "1": "2",
                                    "2": "3",
                                    "3": "2",
                                    "4": "3",
                                    "5": "2",
                                    "6": "2"
                                },
                                {
                                    "0": "Missouri",
                                    "1": "17",
                                    "2": "20",
                                    "3": "2",
                                    "4": "20",
                                    "5": "15",
                                    "6": "4"
                                },
                                {
                                    "0": "North Carolina",
                                    "1": "5",
                                    "2": "6",
                                    "3": "2",
                                    "4": "6",
                                    "5": "5",
                                    "6": "4"
                                },
                                {
                                    "0": "South Carolina",
                                    "1": "0",
                                    "2": "0",
                                    "3": "0",
                                    "4": "0",
                                    "5": "0",
                                    "6": "0"
                                },
                                {
                                    "0": "Tennessee",
                                    "1": "3",
                                    "2": "3",
                                    "3": "1",
                                    "4": "3",
                                    "5": "3",
                                    "6": "3"
                                },
                                {
                                    "0": "United States",
                                    "1": "4",
                                    "2": "5",
                                    "3": "2",
                                    "4": "7",
                                    "5": "4",
                                    "6": "3"
                                }
                            ]
                        },
                        "text/html": [
                            "<table>",
                            "<tr><th>State_Name</th><th>Statewide</th><th>Urban</th><th>Rural</th><th>High SES</th><th>Middle SES</th><th>Low SES</th></tr>",
                            "<tr><td>Alabama</td><td>3</td><td>3</td><td>2</td><td>5</td><td>3</td><td>2</td></tr>",
                            "<tr><td>Arkansas</td><td>4</td><td>8</td><td>2</td><td>8</td><td>7</td><td>3</td></tr>",
                            "<tr><td>Florida</td><td>5</td><td>5</td><td>2</td><td>6</td><td>5</td><td>5</td></tr>",
                            "<tr><td>Georgia</td><td>5</td><td>12</td><td>2</td><td>14</td><td>5</td><td>3</td></tr>",
                            "<tr><td>Louisiana</td><td>5</td><td>7</td><td>1</td><td>10</td><td>6</td><td>2</td></tr>",
                            "<tr><td>Mississippi</td><td>2</td><td>3</td><td>2</td><td>3</td><td>2</td><td>2</td></tr>",
                            "<tr><td>Missouri</td><td>17</td><td>20</td><td>2</td><td>20</td><td>15</td><td>4</td></tr>",
                            "<tr><td>North Carolina</td><td>5</td><td>6</td><td>2</td><td>6</td><td>5</td><td>4</td></tr>",
                            "<tr><td>South Carolina</td><td>0</td><td>0</td><td>0</td><td>0</td><td>0</td><td>0</td></tr>",
                            "<tr><td>Tennessee</td><td>3</td><td>3</td><td>1</td><td>3</td><td>3</td><td>3</td></tr>",
                            "<tr><td>United States</td><td>4</td><td>5</td><td>2</td><td>7</td><td>4</td><td>3</td></tr>",
                            "</table>"
                        ]
                    }
                }
            ],
            "execution_count": 7
        },
        {
            "cell_type": "code",
            "source": [
                "\r\n",
                "--Table 2: Median Number of Closest Facilities with Major Imaging \r\n",
                "select *\r\n",
                "from\r\n",
                "(select distinct \r\n",
                "'United States' as State_Name\r\n",
                ",PERCENTILE_CONT(0.5) WITHIN GROUP (ORDER BY closest_majorimaging)OVER () AS Statewide   \r\n",
                ",PERCENTILE_CONT(0.5) WITHIN GROUP (ORDER BY case when HRSA_RURAL_DESC='00: Urban' then closest_majorimaging end) OVER () AS Urban\r\n",
                ",PERCENTILE_CONT(0.5) WITHIN GROUP (ORDER BY case when HRSA_RURAL_DESC<>'00: Urban' then closest_majorimaging end) OVER () AS Rural\r\n",
                ",PERCENTILE_CONT(0.5) WITHIN GROUP (ORDER BY case when ADI='02: Upper Class' then closest_majorimaging end) OVER () AS [High SES]\r\n",
                ",PERCENTILE_CONT(0.5) WITHIN GROUP (ORDER BY case when ADI='01: Middle Class' then closest_majorimaging end) OVER () AS [Middle SES]\r\n",
                ",PERCENTILE_CONT(0.5) WITHIN GROUP (ORDER BY case when ADI='00: Lower Class' then closest_majorimaging end) OVER () AS [Low SES]\r\n",
                "from #final_table\r\n",
                "\r\n",
                "--below code concatenates (or stacks tables on top of each other)\r\n",
                "union all\r\n",
                "\r\n",
                "select distinct\r\n",
                " State_Name\r\n",
                ",PERCENTILE_CONT(0.5) WITHIN GROUP (ORDER BY closest_majorimaging)OVER (PARTITION BY State_Name) AS Statewide   \r\n",
                ",PERCENTILE_CONT(0.5) WITHIN GROUP (ORDER BY case when HRSA_RURAL_DESC='00: Urban' then closest_majorimaging end) OVER (PARTITION BY State_Name) AS Urban\r\n",
                ",PERCENTILE_CONT(0.5) WITHIN GROUP (ORDER BY case when HRSA_RURAL_DESC<>'00: Urban' then closest_majorimaging end) OVER (PARTITION BY State_Name) AS Rural\r\n",
                ",PERCENTILE_CONT(0.5) WITHIN GROUP (ORDER BY case when ADI='02: Upper Class' then closest_majorimaging end) OVER (PARTITION BY State_Name) AS [High SES]\r\n",
                ",PERCENTILE_CONT(0.5) WITHIN GROUP (ORDER BY case when ADI='01: Middle Class' then closest_majorimaging end) OVER (PARTITION BY State_Name) AS [Middle SES]\r\n",
                ",PERCENTILE_CONT(0.5) WITHIN GROUP (ORDER BY case when ADI='00: Lower Class' then closest_majorimaging end) OVER (PARTITION BY State_Name) AS [Low SES]\r\n",
                "from #final_table) as A\r\n",
                "order by State_Name;\r\n",
                "--11 rows\r\n",
                ""
            ],
            "metadata": {
                "azdata_cell_guid": "f5c1a506-1e67-4a0a-84cc-209dce09459e"
            },
            "outputs": [
                {
                    "output_type": "display_data",
                    "data": {
                        "text/html": "(11 rows affected)"
                    },
                    "metadata": {}
                },
                {
                    "output_type": "display_data",
                    "data": {
                        "text/html": "Total execution time: 00:00:01.007"
                    },
                    "metadata": {}
                },
                {
                    "output_type": "execute_result",
                    "metadata": {},
                    "execution_count": 8,
                    "data": {
                        "application/vnd.dataresource+json": {
                            "schema": {
                                "fields": [
                                    {
                                        "name": "State_Name"
                                    },
                                    {
                                        "name": "Statewide"
                                    },
                                    {
                                        "name": "Urban"
                                    },
                                    {
                                        "name": "Rural"
                                    },
                                    {
                                        "name": "High SES"
                                    },
                                    {
                                        "name": "Middle SES"
                                    },
                                    {
                                        "name": "Low SES"
                                    }
                                ]
                            },
                            "data": [
                                {
                                    "0": "Alabama",
                                    "1": "24.304102779691323",
                                    "2": "19.787232880320644",
                                    "3": "41.96088578943745",
                                    "4": "17.170890159272567",
                                    "5": "24.294236504728765",
                                    "6": "28.42178137996215"
                                },
                                {
                                    "0": "Arkansas",
                                    "1": "20.23434180285927",
                                    "2": "12.754125541734645",
                                    "3": "37.095745775073155",
                                    "4": "11.32962954471392",
                                    "5": "19.21467863500221",
                                    "6": "26.226229523090808"
                                },
                                {
                                    "0": "Florida",
                                    "1": "18.54695987519991",
                                    "2": "18.01853092554183",
                                    "3": "42.57679927887849",
                                    "4": "16.882593084381533",
                                    "5": "18.68690455863151",
                                    "6": "18.76961960347763"
                                },
                                {
                                    "0": "Georgia",
                                    "1": "20.458586608337725",
                                    "2": "17.021337993438316",
                                    "3": "38.64439250763651",
                                    "4": "15.500652595476616",
                                    "5": "21.23179958106383",
                                    "6": "23.56686181867076"
                                },
                                {
                                    "0": "Louisiana",
                                    "1": "14.993817476035444",
                                    "2": "12.149860277812031",
                                    "3": "44.09313939281704",
                                    "4": "11.035403767165407",
                                    "5": "15.430830911564312",
                                    "6": "18.61540956414723"
                                },
                                {
                                    "0": "Mississippi",
                                    "1": "28.980103174837186",
                                    "2": "24.96748687654574",
                                    "3": "31.084784862317495",
                                    "4": "20.398877761215708",
                                    "5": "26.883407483592435",
                                    "6": "30.93330382640211"
                                },
                                {
                                    "0": "Missouri",
                                    "1": "14.35243769416516",
                                    "2": "11.8280221581469",
                                    "3": "32.57334540881746",
                                    "4": "11.672111706076969",
                                    "5": "15.266326279470997",
                                    "6": "14.049971160092745"
                                },
                                {
                                    "0": "North Carolina",
                                    "1": "19.883266148686047",
                                    "2": "16.760644353433893",
                                    "3": "34.885028459403074",
                                    "4": "17.136422041527172",
                                    "5": "20.392470193063517",
                                    "6": "22.445009231939537"
                                },
                                {
                                    "0": "South Carolina",
                                    "1": "361",
                                    "2": "361",
                                    "3": "361",
                                    "4": "361",
                                    "5": "361",
                                    "6": "361"
                                },
                                {
                                    "0": "Tennessee",
                                    "1": "23.45568307172841",
                                    "2": "18.74621706826916",
                                    "3": "41.20515769976943",
                                    "4": "21.825903899861174",
                                    "5": "25.04506095973368",
                                    "6": "18.005515249947514"
                                },
                                {
                                    "0": "United States",
                                    "1": "20.844425917732963",
                                    "2": "17.684101926645035",
                                    "3": "38.69888130746433",
                                    "4": "16.70241655843118",
                                    "5": "21.08008518969593",
                                    "6": "24.078628143162288"
                                }
                            ]
                        },
                        "text/html": [
                            "<table>",
                            "<tr><th>State_Name</th><th>Statewide</th><th>Urban</th><th>Rural</th><th>High SES</th><th>Middle SES</th><th>Low SES</th></tr>",
                            "<tr><td>Alabama</td><td>24.304102779691323</td><td>19.787232880320644</td><td>41.96088578943745</td><td>17.170890159272567</td><td>24.294236504728765</td><td>28.42178137996215</td></tr>",
                            "<tr><td>Arkansas</td><td>20.23434180285927</td><td>12.754125541734645</td><td>37.095745775073155</td><td>11.32962954471392</td><td>19.21467863500221</td><td>26.226229523090808</td></tr>",
                            "<tr><td>Florida</td><td>18.54695987519991</td><td>18.01853092554183</td><td>42.57679927887849</td><td>16.882593084381533</td><td>18.68690455863151</td><td>18.76961960347763</td></tr>",
                            "<tr><td>Georgia</td><td>20.458586608337725</td><td>17.021337993438316</td><td>38.64439250763651</td><td>15.500652595476616</td><td>21.23179958106383</td><td>23.56686181867076</td></tr>",
                            "<tr><td>Louisiana</td><td>14.993817476035444</td><td>12.149860277812031</td><td>44.09313939281704</td><td>11.035403767165407</td><td>15.430830911564312</td><td>18.61540956414723</td></tr>",
                            "<tr><td>Mississippi</td><td>28.980103174837186</td><td>24.96748687654574</td><td>31.084784862317495</td><td>20.398877761215708</td><td>26.883407483592435</td><td>30.93330382640211</td></tr>",
                            "<tr><td>Missouri</td><td>14.35243769416516</td><td>11.8280221581469</td><td>32.57334540881746</td><td>11.672111706076969</td><td>15.266326279470997</td><td>14.049971160092745</td></tr>",
                            "<tr><td>North Carolina</td><td>19.883266148686047</td><td>16.760644353433893</td><td>34.885028459403074</td><td>17.136422041527172</td><td>20.392470193063517</td><td>22.445009231939537</td></tr>",
                            "<tr><td>South Carolina</td><td>361</td><td>361</td><td>361</td><td>361</td><td>361</td><td>361</td></tr>",
                            "<tr><td>Tennessee</td><td>23.45568307172841</td><td>18.74621706826916</td><td>41.20515769976943</td><td>21.825903899861174</td><td>25.04506095973368</td><td>18.005515249947514</td></tr>",
                            "<tr><td>United States</td><td>20.844425917732963</td><td>17.684101926645035</td><td>38.69888130746433</td><td>16.70241655843118</td><td>21.08008518969593</td><td>24.078628143162288</td></tr>",
                            "</table>"
                        ]
                    }
                }
            ],
            "execution_count": 8
        }
    ]
}