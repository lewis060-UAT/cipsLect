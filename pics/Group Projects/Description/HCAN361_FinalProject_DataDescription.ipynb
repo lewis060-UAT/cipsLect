{
    "metadata": {
        "kernelspec": {
            "name": "SQL",
            "display_name": "SQL",
            "language": "sql"
        },
        "language_info": {
            "name": "sql",
            "version": ""
        }
    },
    "nbformat_minor": 2,
    "nbformat": 4,
    "cells": [
        {
            "cell_type": "markdown",
            "source": [
                "<p><img src=\"https://github.com/lewis060-UAT/cipsLect/blob/main/pics/Lect_2021MAR23/Slide1.PNG?raw=true\" alt=\"Drawing\" style=\"width: 800px;float: center;\"/>"
            ],
            "metadata": {
                "azdata_cell_guid": "21504da4-928f-4690-a1f6-3aaf3b4233d4"
            }
        },
        {
            "cell_type": "markdown",
            "source": [
                "<p><img src=\"https://github.com/lewis060-UAT/cipsLect/blob/main/pics/Lect_2021MAR23/Slide2.PNG?raw=true\" alt=\"Drawing\" style=\"width: 800px;float: center;\"/>"
            ],
            "metadata": {
                "azdata_cell_guid": "a3f44f19-b75d-4958-a377-6dc747fa3789"
            }
        },
        {
            "cell_type": "markdown",
            "source": [
                "<p><img src=\"https://github.com/lewis060-UAT/cipsLect/blob/main/pics/Lect_2021MAR23/Slide3.PNG?raw=true\" alt=\"Drawing\" style=\"width: 800px;float: center;\"/>"
            ],
            "metadata": {
                "azdata_cell_guid": "7cae2002-49a1-452b-9fcf-8547e332a4b5"
            }
        },
        {
            "cell_type": "markdown",
            "source": [
                "<p><img src=\"https://github.com/lewis060-UAT/cipsLect/blob/main/pics/Lect_2021MAR23/Slide4.PNG?raw=true\" alt=\"Drawing\" style=\"width: 800px;float: center;\"/>"
            ],
            "metadata": {
                "azdata_cell_guid": "628d7029-2fb7-41f0-b914-357bd9ddf8ec"
            }
        },
        {
            "cell_type": "markdown",
            "source": [
                "<p><img src=\"https://github.com/lewis060-UAT/cipsLect/blob/main/pics/Lect_2021MAR23/Slide5.PNG?raw=true\" alt=\"Drawing\" style=\"width: 800px;float: center;\"/>"
            ],
            "metadata": {
                "azdata_cell_guid": "f36e0d12-ff6e-4277-9e27-ab36c5d12393"
            }
        },
        {
            "cell_type": "markdown",
            "source": [
                "<p><img src=\"https://github.com/lewis060-UAT/cipsLect/blob/main/pics/Lect_2021MAR23/Slide6.PNG?raw=true\" alt=\"Drawing\" style=\"width: 800px;float: center;\"/>"
            ],
            "metadata": {
                "azdata_cell_guid": "643dadc5-843f-4169-8bb3-d76e951781ed"
            }
        },
        {
            "cell_type": "markdown",
            "source": [
                "<p><img src=\"https://github.com/lewis060-UAT/cipsLect/blob/main/pics/Lect_2021MAR23/Slide7.PNG?raw=true\" alt=\"Drawing\" style=\"width: 800px;float: center;\"/>"
            ],
            "metadata": {
                "azdata_cell_guid": "95769485-0a10-4d31-9572-2fa822bff294"
            }
        },
        {
            "cell_type": "markdown",
            "source": [
                "<p><img src=\"https://github.com/lewis060-UAT/cipsLect/blob/main/pics/Lect_2021MAR23/Slide8.PNG?raw=true\" alt=\"Drawing\" style=\"width: 800px;float: center;\"/>"
            ],
            "metadata": {
                "azdata_cell_guid": "546e09de-c5ed-4e5f-8162-0e9605a49650"
            }
        },
        {
            "cell_type": "markdown",
            "source": [
                "Full Details of Process is here: https://github.com/lewis060-UAT/cipsLect/blob/main/pics/Lect\\_2021MAR23/HCAN%20361\\_Working%20through%20a%20problem.docx"
            ],
            "metadata": {
                "azdata_cell_guid": "866afcf7-a646-4044-9528-cf4f469ec75b"
            }
        },
        {
            "cell_type": "markdown",
            "source": [
                "<p><img src=\"https://github.com/lewis060-UAT/cipsLect/blob/main/pics/Lect_2021MAR23/Slide9.PNG?raw=true\" alt=\"Drawing\" style=\"width: 800px;float: center;\"/>"
            ],
            "metadata": {
                "azdata_cell_guid": "5fc034f4-8a84-4155-945f-114524e126f8"
            }
        },
        {
            "cell_type": "markdown",
            "source": [
                "# Entity Relationship Diagram\n",
                "\n",
                "![Drawing](https://github.com/lewis060-UAT/cipsLect/blob/main/pics/Lect_2021MAR23/HCAN_361_Final_Project.png?raw=true)"
            ],
            "metadata": {
                "azdata_cell_guid": "8c408999-63f9-4fda-b28d-eb3cbc41b4c5"
            }
        },
        {
            "cell_type": "code",
            "source": [
                "use [HCAN361_FinalProj]\r\n",
                "\r\n",
                "--Data Dictionary for the American Hospital Association (AHA) Data\r\n",
                "select top 5 *\r\n",
                "from [dbo].[AS2019_DataDictionary]\r\n",
                "where [Item No#] is not NULL\r\n",
                "order by [Item No#];\r\n",
                "--Students used this to navigate the data and to understand where data is located"
            ],
            "metadata": {
                "azdata_cell_guid": "7bf5f5aa-454a-4d39-b31d-99ce8f7c9fef"
            },
            "outputs": [
                {
                    "output_type": "display_data",
                    "data": {
                        "text/html": "(5 rows affected)"
                    },
                    "metadata": {}
                },
                {
                    "output_type": "display_data",
                    "data": {
                        "text/html": "Total execution time: 00:00:00.106"
                    },
                    "metadata": {}
                },
                {
                    "output_type": "execute_result",
                    "metadata": {},
                    "execution_count": 1,
                    "data": {
                        "application/vnd.dataresource+json": {
                            "schema": {
                                "fields": [
                                    {
                                        "name": "Item No#"
                                    },
                                    {
                                        "name": "FieldName"
                                    },
                                    {
                                        "name": "Estimated"
                                    },
                                    {
                                        "name": "Length"
                                    },
                                    {
                                        "name": "Start"
                                    },
                                    {
                                        "name": "End"
                                    },
                                    {
                                        "name": "Field Description"
                                    },
                                    {
                                        "name": "Survey Question"
                                    },
                                    {
                                        "name": "Access Table"
                                    },
                                    {
                                        "name": "Notes"
                                    }
                                ]
                            },
                            "data": [
                                {
                                    "0": "1",
                                    "1": "ID",
                                    "2": "NA",
                                    "3": "7",
                                    "4": "1",
                                    "5": "7",
                                    "6": "AHA Identification Number",
                                    "7": "NULL",
                                    "8": "as19dem",
                                    "9": "NULL"
                                },
                                {
                                    "0": "2",
                                    "1": "DTBEG",
                                    "2": "N",
                                    "3": "10",
                                    "4": "8",
                                    "5": "17",
                                    "6": "Beginning of reporting period",
                                    "7": "A.1.",
                                    "8": "as19dem",
                                    "9": "MM/DD/YYYY"
                                },
                                {
                                    "0": "3",
                                    "1": "DTEND",
                                    "2": "N",
                                    "3": "10",
                                    "4": "18",
                                    "5": "27",
                                    "6": "End of reporting period",
                                    "7": "A.1.",
                                    "8": "as19dem",
                                    "9": "MM/DD/YYYY"
                                },
                                {
                                    "0": "4",
                                    "1": "DCOV",
                                    "2": "NA",
                                    "3": "3",
                                    "4": "28",
                                    "5": "30",
                                    "6": "Days open during reporting period",
                                    "7": "A.2.b.",
                                    "8": "as19dem",
                                    "9": "0 for non-reporters"
                                },
                                {
                                    "0": "5",
                                    "1": "FYR",
                                    "2": "N",
                                    "3": "1",
                                    "4": "31",
                                    "5": "31",
                                    "6": "Was the hospital in operation 12 full months to the end of the reporting period?",
                                    "7": "A.2.a.",
                                    "8": "as19dem",
                                    "9": "1=yes, 2=less than a full year"
                                }
                            ]
                        },
                        "text/html": [
                            "<table>",
                            "<tr><th>Item No#</th><th>FieldName</th><th>Estimated</th><th>Length</th><th>Start</th><th>End</th><th>Field Description</th><th>Survey Question</th><th>Access Table</th><th>Notes</th></tr>",
                            "<tr><td>1</td><td>ID</td><td>NA</td><td>7</td><td>1</td><td>7</td><td>AHA Identification Number</td><td>NULL</td><td>as19dem</td><td>NULL</td></tr>",
                            "<tr><td>2</td><td>DTBEG</td><td>N</td><td>10</td><td>8</td><td>17</td><td>Beginning of reporting period</td><td>A.1.</td><td>as19dem</td><td>MM/DD/YYYY</td></tr>",
                            "<tr><td>3</td><td>DTEND</td><td>N</td><td>10</td><td>18</td><td>27</td><td>End of reporting period</td><td>A.1.</td><td>as19dem</td><td>MM/DD/YYYY</td></tr>",
                            "<tr><td>4</td><td>DCOV</td><td>NA</td><td>3</td><td>28</td><td>30</td><td>Days open during reporting period</td><td>A.2.b.</td><td>as19dem</td><td>0 for non-reporters</td></tr>",
                            "<tr><td>5</td><td>FYR</td><td>N</td><td>1</td><td>31</td><td>31</td><td>Was the hospital in operation 12 full months to the end of the reporting period?</td><td>A.2.a.</td><td>as19dem</td><td>1=yes, 2=less than a full year</td></tr>",
                            "</table>"
                        ]
                    }
                }
            ],
            "execution_count": 1
        },
        {
            "cell_type": "markdown",
            "source": [
                "## Due to its size we cannot preview AHA tables\n",
                "\n",
                "### The table names are\n",
                "\n",
                "1. dbo.AS19DEM\n",
                "2. dbo.AS19SVC1\n",
                "3. dbo.AS19SVC2\n",
                "4. dbo.AS19SVC3\n",
                "5. dbo.AS19UTIL1\n",
                "6. dbo.AS19UTIL2"
            ],
            "metadata": {
                "azdata_cell_guid": "1462d6bb-c4e4-4a95-9347-dab7f9378c61"
            }
        },
        {
            "cell_type": "code",
            "source": [
                "--Table links American Community Survey characteristics to hospital locations\r\n",
                "select top 5 *\r\n",
                "from [dbo].[Provider_Census_Tract]\r\n",
                "where GEOID_Data is not null\r\n",
                "order by GEOID_Data;\r\n",
                "--Roughly ten hospitals out of the 6,000+ could not be geocoded in ArcGIS (GIS Software)"
            ],
            "metadata": {
                "azdata_cell_guid": "170fd544-c027-4c48-86cc-4b78b88e11ed"
            },
            "outputs": [
                {
                    "output_type": "display_data",
                    "data": {
                        "text/html": "(5 rows affected)"
                    },
                    "metadata": {}
                },
                {
                    "output_type": "display_data",
                    "data": {
                        "text/html": "Total execution time: 00:00:00.039"
                    },
                    "metadata": {}
                },
                {
                    "output_type": "execute_result",
                    "metadata": {},
                    "execution_count": 2,
                    "data": {
                        "application/vnd.dataresource+json": {
                            "schema": {
                                "fields": [
                                    {
                                        "name": "Provider_ID"
                                    },
                                    {
                                        "name": "GEOID_Data"
                                    }
                                ]
                            },
                            "data": [
                                {
                                    "0": "6530780",
                                    "1": "14000US01001020300"
                                },
                                {
                                    "0": "6530116",
                                    "1": "14000US01003010500"
                                },
                                {
                                    "0": "6530396",
                                    "1": "14000US01003010705"
                                },
                                {
                                    "0": "6530417",
                                    "1": "14000US01003011202"
                                },
                                {
                                    "0": "6530446",
                                    "1": "14000US01003011501"
                                }
                            ]
                        },
                        "text/html": [
                            "<table>",
                            "<tr><th>Provider_ID</th><th>GEOID_Data</th></tr>",
                            "<tr><td>6530780</td><td>14000US01001020300</td></tr>",
                            "<tr><td>6530116</td><td>14000US01003010500</td></tr>",
                            "<tr><td>6530396</td><td>14000US01003010705</td></tr>",
                            "<tr><td>6530417</td><td>14000US01003011202</td></tr>",
                            "<tr><td>6530446</td><td>14000US01003011501</td></tr>",
                            "</table>"
                        ]
                    }
                }
            ],
            "execution_count": 2
        },
        {
            "cell_type": "code",
            "source": [
                "--Table that provides estimated travel time between population-based census tract centroids and \r\n",
                "--point-based (i.e., latitude and longitude level) hospital locations.\r\n",
                "--Data was generated using ArcGIS Pro and ESRI's StreetMap Premium\r\n",
                "select top 5 *\r\n",
                "from [dbo].[Travel_Matrix]\r\n",
                "order by GEOID_Data,Total_TravelTime desc;\r\n",
                "--GEOID represents population census tract\r\n",
                "--Provider_ID represents the hospital in AHA database\r\n",
                "--Table provides travel time for every combination of tracts and hosptials within 6 hours\r\n",
                ""
            ],
            "metadata": {
                "azdata_cell_guid": "c04afe97-cdd5-43c0-ae0d-649dcbe78574"
            },
            "outputs": [
                {
                    "output_type": "display_data",
                    "data": {
                        "text/html": "(5 rows affected)"
                    },
                    "metadata": {}
                },
                {
                    "output_type": "display_data",
                    "data": {
                        "text/html": "Total execution time: 00:00:06.907"
                    },
                    "metadata": {}
                },
                {
                    "output_type": "execute_result",
                    "metadata": {},
                    "execution_count": 3,
                    "data": {
                        "application/vnd.dataresource+json": {
                            "schema": {
                                "fields": [
                                    {
                                        "name": "GEOID_Data"
                                    },
                                    {
                                        "name": "Provider_ID"
                                    },
                                    {
                                        "name": "Total_TravelTime"
                                    },
                                    {
                                        "name": "Total_Miles"
                                    }
                                ]
                            },
                            "data": [
                                {
                                    "0": "14000US01001020100",
                                    "1": "6720209",
                                    "2": "299.92446514008066",
                                    "3": "333.8629551886232"
                                },
                                {
                                    "0": "14000US01001020100",
                                    "1": "6720055",
                                    "2": "299.2407529240229",
                                    "3": "333.50734350571713"
                                },
                                {
                                    "0": "14000US01001020100",
                                    "1": "6720254",
                                    "2": "299.019291132142",
                                    "3": "333.4001328041444"
                                },
                                {
                                    "0": "14000US01001020100",
                                    "1": "6529160",
                                    "2": "298.5858250754868",
                                    "3": "314.1827243848125"
                                },
                                {
                                    "0": "14000US01001020100",
                                    "1": "6729126",
                                    "2": "298.4786656623567",
                                    "3": "320.52104221258026"
                                }
                            ]
                        },
                        "text/html": [
                            "<table>",
                            "<tr><th>GEOID_Data</th><th>Provider_ID</th><th>Total_TravelTime</th><th>Total_Miles</th></tr>",
                            "<tr><td>14000US01001020100</td><td>6720209</td><td>299.92446514008066</td><td>333.8629551886232</td></tr>",
                            "<tr><td>14000US01001020100</td><td>6720055</td><td>299.2407529240229</td><td>333.50734350571713</td></tr>",
                            "<tr><td>14000US01001020100</td><td>6720254</td><td>299.019291132142</td><td>333.4001328041444</td></tr>",
                            "<tr><td>14000US01001020100</td><td>6529160</td><td>298.5858250754868</td><td>314.1827243848125</td></tr>",
                            "<tr><td>14000US01001020100</td><td>6729126</td><td>298.4786656623567</td><td>320.52104221258026</td></tr>",
                            "</table>"
                        ]
                    }
                }
            ],
            "execution_count": 3
        },
        {
            "cell_type": "code",
            "source": [
                "--This table provides some census tract characteristics such as\r\n",
                "--Rurality: depts.washington.edu/uwruca/ruca-maps.php\r\n",
                "--Area Deprivation: www.hipxchange.org/ADI\r\n",
                "--Additonal Census Information: www.census.gov/programs-surveys/geography/technical-documentation/records-layout/tiger-line-demo-record-layouts.html\r\n",
                "\r\n",
                "select top 5 *\r\n",
                "from [dbo].[US_Census_Tract_Charac]\r\n",
                "order by GEOID_Data;"
            ],
            "metadata": {
                "azdata_cell_guid": "d5b47715-48b3-4795-8e13-0dd7a03e8055"
            },
            "outputs": [
                {
                    "output_type": "display_data",
                    "data": {
                        "text/html": "(5 rows affected)"
                    },
                    "metadata": {}
                },
                {
                    "output_type": "display_data",
                    "data": {
                        "text/html": "Total execution time: 00:00:00.033"
                    },
                    "metadata": {}
                },
                {
                    "output_type": "execute_result",
                    "metadata": {},
                    "execution_count": 4,
                    "data": {
                        "application/vnd.dataresource+json": {
                            "schema": {
                                "fields": [
                                    {
                                        "name": "GEOID_Data"
                                    },
                                    {
                                        "name": "STATEFP"
                                    },
                                    {
                                        "name": "COUNTYFP"
                                    },
                                    {
                                        "name": "TRACTCE"
                                    },
                                    {
                                        "name": "GEOID"
                                    },
                                    {
                                        "name": "State_Name"
                                    },
                                    {
                                        "name": "County_Name"
                                    },
                                    {
                                        "name": "HRSA_RURAL"
                                    },
                                    {
                                        "name": "HRSA_RURAL_DESC"
                                    },
                                    {
                                        "name": "Primary_RUCA"
                                    },
                                    {
                                        "name": "Secondary_RUCA"
                                    },
                                    {
                                        "name": "RUCA_Binary"
                                    },
                                    {
                                        "name": "RUCA_Granular"
                                    },
                                    {
                                        "name": "RUCA_UW_4Category"
                                    },
                                    {
                                        "name": "RUCA_UW_7Category"
                                    },
                                    {
                                        "name": "Median_ADI_NatRank"
                                    },
                                    {
                                        "name": "ADI_Quintile"
                                    },
                                    {
                                        "name": "belowPov"
                                    },
                                    {
                                        "name": "noCar"
                                    },
                                    {
                                        "name": "private_insure"
                                    }
                                ]
                            },
                            "data": [
                                {
                                    "0": "14000US01001020100",
                                    "1": "01",
                                    "2": "001",
                                    "3": "020100",
                                    "4": "01001020100",
                                    "5": "Alabama",
                                    "6": "Autauga",
                                    "7": "0",
                                    "8": "00: Urban",
                                    "9": "1",
                                    "10": "1",
                                    "11": "00: Metropolitan/Micropolitan",
                                    "12": "00: Metropolitan",
                                    "13": "00: Urban",
                                    "14": "00: Urban Core",
                                    "15": "42.0000",
                                    "16": "3",
                                    "17": "0.11336453458138325",
                                    "18": "0.00784313725490196",
                                    "19": "0.5382215288611545"
                                },
                                {
                                    "0": "14000US01001020200",
                                    "1": "01",
                                    "2": "001",
                                    "3": "020200",
                                    "4": "01001020200",
                                    "5": "Alabama",
                                    "6": "Autauga",
                                    "7": "0",
                                    "8": "00: Urban",
                                    "9": "1",
                                    "10": "1",
                                    "11": "00: Metropolitan/Micropolitan",
                                    "12": "00: Metropolitan",
                                    "13": "00: Urban",
                                    "14": "00: Urban Core",
                                    "15": "74.0000",
                                    "16": "4",
                                    "17": "0.17876787678767878",
                                    "18": "0.12378303198887343",
                                    "19": "0.43382756727073035"
                                },
                                {
                                    "0": "14000US01001020300",
                                    "1": "01",
                                    "2": "001",
                                    "3": "020300",
                                    "4": "01001020300",
                                    "5": "Alabama",
                                    "6": "Autauga",
                                    "7": "0",
                                    "8": "00: Urban",
                                    "9": "1",
                                    "10": "1",
                                    "11": "00: Metropolitan/Micropolitan",
                                    "12": "00: Metropolitan",
                                    "13": "00: Urban",
                                    "14": "00: Urban Core",
                                    "15": "60.0000",
                                    "16": "3",
                                    "17": "0.1504602991944764",
                                    "18": "0.0763888888888889",
                                    "19": "0.4840103716508211"
                                },
                                {
                                    "0": "14000US01001020400",
                                    "1": "01",
                                    "2": "001",
                                    "3": "020400",
                                    "4": "01001020400",
                                    "5": "Alabama",
                                    "6": "Autauga",
                                    "7": "0",
                                    "8": "00: Urban",
                                    "9": "1",
                                    "10": "1",
                                    "11": "00: Metropolitan/Micropolitan",
                                    "12": "00: Metropolitan",
                                    "13": "00: Urban",
                                    "14": "00: Urban Core",
                                    "15": "52.0000",
                                    "16": "3",
                                    "17": "0.028452101279039414",
                                    "18": "0.012812690665039659",
                                    "19": "0.4795568451595885"
                                },
                                {
                                    "0": "14000US01001020500",
                                    "1": "01",
                                    "2": "001",
                                    "3": "020500",
                                    "4": "01001020500",
                                    "5": "Alabama",
                                    "6": "Autauga",
                                    "7": "0",
                                    "8": "00: Urban",
                                    "9": "1",
                                    "10": "1",
                                    "11": "00: Metropolitan/Micropolitan",
                                    "12": "00: Metropolitan",
                                    "13": "00: Urban",
                                    "14": "00: Urban Core",
                                    "15": "41.0000",
                                    "16": "3",
                                    "17": "0.15150890925945",
                                    "18": "0.055103018687110684",
                                    "19": "0.5392418579818473"
                                }
                            ]
                        },
                        "text/html": [
                            "<table>",
                            "<tr><th>GEOID_Data</th><th>STATEFP</th><th>COUNTYFP</th><th>TRACTCE</th><th>GEOID</th><th>State_Name</th><th>County_Name</th><th>HRSA_RURAL</th><th>HRSA_RURAL_DESC</th><th>Primary_RUCA</th><th>Secondary_RUCA</th><th>RUCA_Binary</th><th>RUCA_Granular</th><th>RUCA_UW_4Category</th><th>RUCA_UW_7Category</th><th>Median_ADI_NatRank</th><th>ADI_Quintile</th><th>belowPov</th><th>noCar</th><th>private_insure</th></tr>",
                            "<tr><td>14000US01001020100</td><td>01</td><td>001</td><td>020100</td><td>01001020100</td><td>Alabama</td><td>Autauga</td><td>0</td><td>00: Urban</td><td>1</td><td>1</td><td>00: Metropolitan/Micropolitan</td><td>00: Metropolitan</td><td>00: Urban</td><td>00: Urban Core</td><td>42.0000</td><td>3</td><td>0.11336453458138325</td><td>0.00784313725490196</td><td>0.5382215288611545</td></tr>",
                            "<tr><td>14000US01001020200</td><td>01</td><td>001</td><td>020200</td><td>01001020200</td><td>Alabama</td><td>Autauga</td><td>0</td><td>00: Urban</td><td>1</td><td>1</td><td>00: Metropolitan/Micropolitan</td><td>00: Metropolitan</td><td>00: Urban</td><td>00: Urban Core</td><td>74.0000</td><td>4</td><td>0.17876787678767878</td><td>0.12378303198887343</td><td>0.43382756727073035</td></tr>",
                            "<tr><td>14000US01001020300</td><td>01</td><td>001</td><td>020300</td><td>01001020300</td><td>Alabama</td><td>Autauga</td><td>0</td><td>00: Urban</td><td>1</td><td>1</td><td>00: Metropolitan/Micropolitan</td><td>00: Metropolitan</td><td>00: Urban</td><td>00: Urban Core</td><td>60.0000</td><td>3</td><td>0.1504602991944764</td><td>0.0763888888888889</td><td>0.4840103716508211</td></tr>",
                            "<tr><td>14000US01001020400</td><td>01</td><td>001</td><td>020400</td><td>01001020400</td><td>Alabama</td><td>Autauga</td><td>0</td><td>00: Urban</td><td>1</td><td>1</td><td>00: Metropolitan/Micropolitan</td><td>00: Metropolitan</td><td>00: Urban</td><td>00: Urban Core</td><td>52.0000</td><td>3</td><td>0.028452101279039414</td><td>0.012812690665039659</td><td>0.4795568451595885</td></tr>",
                            "<tr><td>14000US01001020500</td><td>01</td><td>001</td><td>020500</td><td>01001020500</td><td>Alabama</td><td>Autauga</td><td>0</td><td>00: Urban</td><td>1</td><td>1</td><td>00: Metropolitan/Micropolitan</td><td>00: Metropolitan</td><td>00: Urban</td><td>00: Urban Core</td><td>41.0000</td><td>3</td><td>0.15150890925945</td><td>0.055103018687110684</td><td>0.5392418579818473</td></tr>",
                            "</table>"
                        ]
                    }
                }
            ],
            "execution_count": 4
        },
        {
            "cell_type": "code",
            "source": [
                "--This table provides population counts for US Census Tracts by Age and Sex\r\n",
                "--This data comes from the American Community Survey (ACS) 5-Year Estimates: www.census.gov/programs-surveys/geography/technical-documentation/records-layout/tiger-line-demo-record-layouts.html\r\n",
                "\r\n",
                "select top 5 [GEOID_Data],[OBJECTID],[B01001e1],[B01001m1]\r\n",
                "from [dbo].[Census_ACS5Yr_2018]\r\n",
                "order by GEOID_Data;\r\n",
                "--There are many more columns, but it is too many for this notebook\r\n",
                "\r\n",
                "\r\n",
                "\r\n",
                "\r\n",
                "\r\n",
                "--Data dictionary of columns in server from ACS is located here:\r\n",
                "select top 5 *\r\n",
                "from [dbo].[ACS_DATADICTIONARY]\r\n",
                "order by Short_Name;"
            ],
            "metadata": {
                "azdata_cell_guid": "c62e46f9-80db-486b-9eeb-534ef58cae64"
            },
            "outputs": [
                {
                    "output_type": "display_data",
                    "data": {
                        "text/html": "(5 rows affected)"
                    },
                    "metadata": {}
                },
                {
                    "output_type": "display_data",
                    "data": {
                        "text/html": "(5 rows affected)"
                    },
                    "metadata": {}
                },
                {
                    "output_type": "display_data",
                    "data": {
                        "text/html": "Total execution time: 00:00:00.044"
                    },
                    "metadata": {}
                },
                {
                    "output_type": "execute_result",
                    "metadata": {},
                    "execution_count": 5,
                    "data": {
                        "application/vnd.dataresource+json": {
                            "schema": {
                                "fields": [
                                    {
                                        "name": "GEOID_Data"
                                    },
                                    {
                                        "name": "OBJECTID"
                                    },
                                    {
                                        "name": "B01001e1"
                                    },
                                    {
                                        "name": "B01001m1"
                                    }
                                ]
                            },
                            "data": [
                                {
                                    "0": "14000US01001020100",
                                    "1": "1",
                                    "2": "1923.00000000",
                                    "3": "253.00000000"
                                },
                                {
                                    "0": "14000US01001020200",
                                    "1": "2",
                                    "2": "2028.00000000",
                                    "3": "192.00000000"
                                },
                                {
                                    "0": "14000US01001020300",
                                    "1": "3",
                                    "2": "3476.00000000",
                                    "3": "433.00000000"
                                },
                                {
                                    "0": "14000US01001020400",
                                    "1": "4",
                                    "2": "3831.00000000",
                                    "3": "337.00000000"
                                },
                                {
                                    "0": "14000US01001020500",
                                    "1": "5",
                                    "2": "9883.00000000",
                                    "3": "726.00000000"
                                }
                            ]
                        },
                        "text/html": [
                            "<table>",
                            "<tr><th>GEOID_Data</th><th>OBJECTID</th><th>B01001e1</th><th>B01001m1</th></tr>",
                            "<tr><td>14000US01001020100</td><td>1</td><td>1923.00000000</td><td>253.00000000</td></tr>",
                            "<tr><td>14000US01001020200</td><td>2</td><td>2028.00000000</td><td>192.00000000</td></tr>",
                            "<tr><td>14000US01001020300</td><td>3</td><td>3476.00000000</td><td>433.00000000</td></tr>",
                            "<tr><td>14000US01001020400</td><td>4</td><td>3831.00000000</td><td>337.00000000</td></tr>",
                            "<tr><td>14000US01001020500</td><td>5</td><td>9883.00000000</td><td>726.00000000</td></tr>",
                            "</table>"
                        ]
                    }
                },
                {
                    "output_type": "execute_result",
                    "metadata": {},
                    "execution_count": 5,
                    "data": {
                        "application/vnd.dataresource+json": {
                            "schema": {
                                "fields": [
                                    {
                                        "name": "OBJECTID"
                                    },
                                    {
                                        "name": "Short_Name"
                                    },
                                    {
                                        "name": "Full_Name"
                                    }
                                ]
                            },
                            "data": [
                                {
                                    "0": "1",
                                    "1": "B00001e1",
                                    "2": "UNWEIGHTED SAMPLE COUNT OF THE POPULATION: Total: Total population -- (Estimate)"
                                },
                                {
                                    "0": "2",
                                    "1": "B00001m1",
                                    "2": "UNWEIGHTED SAMPLE COUNT OF THE POPULATION: Total: Total population -- (Margin of Error)"
                                },
                                {
                                    "0": "3",
                                    "1": "B00002e1",
                                    "2": "UNWEIGHTED SAMPLE HOUSING UNITS: Total: Housing units -- (Estimate)"
                                },
                                {
                                    "0": "4",
                                    "1": "B00002m1",
                                    "2": "UNWEIGHTED SAMPLE HOUSING UNITS: Total: Housing units -- (Margin of Error)"
                                },
                                {
                                    "0": "5",
                                    "1": "B01001e1",
                                    "2": "SEX BY AGE: Total: Total population -- (Estimate)"
                                }
                            ]
                        },
                        "text/html": [
                            "<table>",
                            "<tr><th>OBJECTID</th><th>Short_Name</th><th>Full_Name</th></tr>",
                            "<tr><td>1</td><td>B00001e1</td><td>UNWEIGHTED SAMPLE COUNT OF THE POPULATION: Total: Total population -- (Estimate)</td></tr>",
                            "<tr><td>2</td><td>B00001m1</td><td>UNWEIGHTED SAMPLE COUNT OF THE POPULATION: Total: Total population -- (Margin of Error)</td></tr>",
                            "<tr><td>3</td><td>B00002e1</td><td>UNWEIGHTED SAMPLE HOUSING UNITS: Total: Housing units -- (Estimate)</td></tr>",
                            "<tr><td>4</td><td>B00002m1</td><td>UNWEIGHTED SAMPLE HOUSING UNITS: Total: Housing units -- (Margin of Error)</td></tr>",
                            "<tr><td>5</td><td>B01001e1</td><td>SEX BY AGE: Total: Total population -- (Estimate)</td></tr>",
                            "</table>"
                        ]
                    }
                }
            ],
            "execution_count": 5
        },
        {
            "cell_type": "markdown",
            "source": [
                "<p><img src=\"https://github.com/lewis060-UAT/cipsLect/blob/main/pics/Lect_2021MAR23/Slide10.PNG?raw=true\" alt=\"Drawing\" style=\"width: 800px;float: center;\"/>"
            ],
            "metadata": {
                "azdata_cell_guid": "3a5effd9-55b8-4a30-87ed-335fdee56264"
            }
        },
        {
            "cell_type": "markdown",
            "source": [
                "Evaluations are here: https://github.com/lewis060-UAT/cipsLect/blob/main/pics/Lect\\_2021MAR23/Peer%20Evaluation%20Form%20(1).xls"
            ],
            "metadata": {
                "azdata_cell_guid": "e790980d-57cb-4104-abf8-ead63a28e3fe"
            }
        },
        {
            "cell_type": "markdown",
            "source": [
                " <p><img src=\"https://github.com/lewis060-UAT/cipsLect/blob/main/pics/Slide2.PNG?raw=true\" alt=\"Drawing\" style=\"width: 800px;float: center;\"/>"
            ],
            "metadata": {
                "azdata_cell_guid": "490db00f-59e3-4e4e-902c-9c194f834fb3"
            }
        }
    ]
}