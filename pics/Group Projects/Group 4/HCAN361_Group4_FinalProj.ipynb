{
    "metadata": {
        "kernelspec": {
            "name": "SQL",
            "display_name": "SQL",
            "language": "sql"
        },
        "language_info": {
            "name": "sql",
            "version": ""
        }
    },
    "nbformat_minor": 2,
    "nbformat": 4,
    "cells": [
        {
            "cell_type": "markdown",
            "source": [
                "# HCAN 361 Final Project: Spring 2021\n",
                "\n",
                "## Access to Obstetric Care in Hospitals: Comparing Alabama, California, and New York"
            ],
            "metadata": {
                "azdata_cell_guid": "2f136ff0-634c-4118-884f-3a38cd56f881"
            }
        },
        {
            "cell_type": "code",
            "source": [
                "USE [HCAN361_FinalProj]\r\n",
                "\r\n",
                "--select item no that includes OBGYN/WOMEN care \r\n",
                "--this is the info we will have to consider when looking \r\n",
                "--at what classifies ob care \r\n",
                "SELECT *\r\n",
                "FROM [dbo].[AS2019_DataDictionary]\r\n",
                "WHERE [item No#] is not null \r\n",
                "and [Field Description] like '%Obstetric%'\r\n",
                "or [Field Description] like '%women%'\r\n",
                "or [Field Description] like '%gyn%'\r\n",
                "order by [Item No#]"
            ],
            "metadata": {
                "azdata_cell_guid": "ce4d2d41-2cc9-47c3-ab6f-d5b6f665f4a9"
            },
            "outputs": [
                {
                    "output_type": "display_data",
                    "data": {
                        "text/html": "(16 rows affected)"
                    },
                    "metadata": {}
                },
                {
                    "output_type": "display_data",
                    "data": {
                        "text/html": "Total execution time: 00:00:00.065"
                    },
                    "metadata": {}
                },
                {
                    "output_type": "execute_result",
                    "metadata": {},
                    "execution_count": 1,
                    "data": {
                        "application/vnd.dataresource+json": {
                            "schema": {
                                "fields": [
                                    {
                                        "name": "Item No#"
                                    },
                                    {
                                        "name": "FieldName"
                                    },
                                    {
                                        "name": "Estimated"
                                    },
                                    {
                                        "name": "Length"
                                    },
                                    {
                                        "name": "Start"
                                    },
                                    {
                                        "name": "End"
                                    },
                                    {
                                        "name": "Field Description"
                                    },
                                    {
                                        "name": "Survey Question"
                                    },
                                    {
                                        "name": "Access Table"
                                    },
                                    {
                                        "name": "Notes"
                                    }
                                ]
                            },
                            "data": [
                                {
                                    "0": "201",
                                    "1": "OBLEV",
                                    "2": "N",
                                    "3": "1",
                                    "4": "2296",
                                    "5": "2296",
                                    "6": "Obstetric unit care level",
                                    "7": "C.3.",
                                    "8": "as19svc1",
                                    "9": "1=provides services for uncomplicated maternity and newborn cases; 2=provides service for all uncomplicated and most complicated cases; 3=provides services for all serious illnesses and abnormalities"
                                },
                                {
                                    "0": "202",
                                    "1": "OBBD",
                                    "2": "N",
                                    "3": "4",
                                    "4": "2297",
                                    "5": "2300",
                                    "6": "Obstetric care beds",
                                    "7": "C.3.",
                                    "8": "as19svc1",
                                    "9": "NULL"
                                },
                                {
                                    "0": "229",
                                    "1": "OBHOS",
                                    "2": "N",
                                    "3": "1",
                                    "4": "2675",
                                    "5": "2675",
                                    "6": "Obstetrics care - hospital",
                                    "7": "C.3.",
                                    "8": "as19svc1",
                                    "9": "1=yes, 0=no"
                                },
                                {
                                    "0": "230",
                                    "1": "OBSYS",
                                    "2": "N",
                                    "3": "1",
                                    "4": "2676",
                                    "5": "2676",
                                    "6": "Obstetrics care - health system",
                                    "7": "C.3.",
                                    "8": "as19svc1",
                                    "9": "1=yes, 0=no"
                                },
                                {
                                    "0": "231",
                                    "1": "OBVEN",
                                    "2": "N",
                                    "3": "1",
                                    "4": "2677",
                                    "5": "2677",
                                    "6": "Obstetrics care - joint venture",
                                    "7": "C.3.",
                                    "8": "as19svc1",
                                    "9": "1=yes, 0=no"
                                },
                                {
                                    "0": "735",
                                    "1": "WOMHCHOS",
                                    "2": "N",
                                    "3": "1",
                                    "4": "3193",
                                    "5": "3193",
                                    "6": "Women’s health center/services - hospital",
                                    "7": "C.104.",
                                    "8": "as19svc3",
                                    "9": "1=yes, 0=no"
                                },
                                {
                                    "0": "736",
                                    "1": "WOMHCSYS",
                                    "2": "N",
                                    "3": "1",
                                    "4": "3194",
                                    "5": "3194",
                                    "6": "Women’s health center/services - health system",
                                    "7": "C.104.",
                                    "8": "as19svc3",
                                    "9": "1=yes, 0=no"
                                },
                                {
                                    "0": "737",
                                    "1": "WOMHCVEN",
                                    "2": "N",
                                    "3": "1",
                                    "4": "3195",
                                    "5": "3195",
                                    "6": "Women’s health center/services - joint venture",
                                    "7": "C.104.",
                                    "8": "as19svc3",
                                    "9": "1=yes, 0=no"
                                },
                                {
                                    "0": "1029",
                                    "1": "TEOB",
                                    "2": "N",
                                    "3": "8",
                                    "4": "4828",
                                    "5": "4835",
                                    "6": "Obstetrics/gynecology - total employed",
                                    "7": "E.12.b.1.",
                                    "8": "as19util2",
                                    "9": "Number of physicians with privileges"
                                },
                                {
                                    "0": "1037",
                                    "1": "TCOB",
                                    "2": "N",
                                    "3": "8",
                                    "4": "4892",
                                    "5": "4899",
                                    "6": "Obstetrics/gynecology - total individual contract",
                                    "7": "E.12.b.2.",
                                    "8": "as19util2",
                                    "9": "Number of physicians with privileges"
                                },
                                {
                                    "0": "1045",
                                    "1": "TGOB",
                                    "2": "N",
                                    "3": "8",
                                    "4": "4956",
                                    "5": "4963",
                                    "6": "Obstetrics/gynecology - total group contract",
                                    "7": "E.12.b.3.",
                                    "8": "as19util2",
                                    "9": "Number of physicians with privileges"
                                },
                                {
                                    "0": "1053",
                                    "1": "NEOB",
                                    "2": "N",
                                    "3": "8",
                                    "4": "5020",
                                    "5": "5027",
                                    "6": "Obstetrics/gynecology - not employed or under contract",
                                    "7": "E.12.b.4.",
                                    "8": "as19util2",
                                    "9": "Number of physicians with privileges"
                                },
                                {
                                    "0": "1061",
                                    "1": "TPOB",
                                    "2": "N",
                                    "3": "8",
                                    "4": "5084",
                                    "5": "5091",
                                    "6": "Obstetrics/gynecology - total privileged",
                                    "7": "E.12.b.5.",
                                    "8": "as19util2",
                                    "9": "Number of physicians with privileges"
                                },
                                {
                                    "0": "1142",
                                    "1": "SGYN",
                                    "2": "N",
                                    "3": "1",
                                    "4": "5467",
                                    "5": "5467",
                                    "6": "Gynecology - Outpatient services",
                                    "7": "F.1.a.10.",
                                    "8": "as19util2",
                                    "9": "1=yes"
                                },
                                {
                                    "0": "1143",
                                    "1": "SGYNOC",
                                    "2": "N",
                                    "3": "5",
                                    "4": "5468",
                                    "5": "5472",
                                    "6": "Gynecology - Number of on-campus sites",
                                    "7": "F.1.a.10.",
                                    "8": "as19util2",
                                    "9": "Number of on-campus sites"
                                },
                                {
                                    "0": "1144",
                                    "1": "SGYNOF",
                                    "2": "N",
                                    "3": "5",
                                    "4": "5473",
                                    "5": "5477",
                                    "6": "Gynecology - Number of off-campus sites",
                                    "7": "F.1.a.10.",
                                    "8": "as19util2",
                                    "9": "Number of off-campus sites"
                                }
                            ]
                        },
                        "text/html": [
                            "<table>",
                            "<tr><th>Item No#</th><th>FieldName</th><th>Estimated</th><th>Length</th><th>Start</th><th>End</th><th>Field Description</th><th>Survey Question</th><th>Access Table</th><th>Notes</th></tr>",
                            "<tr><td>201</td><td>OBLEV</td><td>N</td><td>1</td><td>2296</td><td>2296</td><td>Obstetric unit care level</td><td>C.3.</td><td>as19svc1</td><td>1=provides services for uncomplicated maternity and newborn cases; 2=provides service for all uncomplicated and most complicated cases; 3=provides services for all serious illnesses and abnormalities</td></tr>",
                            "<tr><td>202</td><td>OBBD</td><td>N</td><td>4</td><td>2297</td><td>2300</td><td>Obstetric care beds</td><td>C.3.</td><td>as19svc1</td><td>NULL</td></tr>",
                            "<tr><td>229</td><td>OBHOS</td><td>N</td><td>1</td><td>2675</td><td>2675</td><td>Obstetrics care - hospital</td><td>C.3.</td><td>as19svc1</td><td>1=yes, 0=no</td></tr>",
                            "<tr><td>230</td><td>OBSYS</td><td>N</td><td>1</td><td>2676</td><td>2676</td><td>Obstetrics care - health system</td><td>C.3.</td><td>as19svc1</td><td>1=yes, 0=no</td></tr>",
                            "<tr><td>231</td><td>OBVEN</td><td>N</td><td>1</td><td>2677</td><td>2677</td><td>Obstetrics care - joint venture</td><td>C.3.</td><td>as19svc1</td><td>1=yes, 0=no</td></tr>",
                            "<tr><td>735</td><td>WOMHCHOS</td><td>N</td><td>1</td><td>3193</td><td>3193</td><td>Women’s health center/services - hospital</td><td>C.104.</td><td>as19svc3</td><td>1=yes, 0=no</td></tr>",
                            "<tr><td>736</td><td>WOMHCSYS</td><td>N</td><td>1</td><td>3194</td><td>3194</td><td>Women’s health center/services - health system</td><td>C.104.</td><td>as19svc3</td><td>1=yes, 0=no</td></tr>",
                            "<tr><td>737</td><td>WOMHCVEN</td><td>N</td><td>1</td><td>3195</td><td>3195</td><td>Women’s health center/services - joint venture</td><td>C.104.</td><td>as19svc3</td><td>1=yes, 0=no</td></tr>",
                            "<tr><td>1029</td><td>TEOB</td><td>N</td><td>8</td><td>4828</td><td>4835</td><td>Obstetrics/gynecology - total employed</td><td>E.12.b.1.</td><td>as19util2</td><td>Number of physicians with privileges</td></tr>",
                            "<tr><td>1037</td><td>TCOB</td><td>N</td><td>8</td><td>4892</td><td>4899</td><td>Obstetrics/gynecology - total individual contract</td><td>E.12.b.2.</td><td>as19util2</td><td>Number of physicians with privileges</td></tr>",
                            "<tr><td>1045</td><td>TGOB</td><td>N</td><td>8</td><td>4956</td><td>4963</td><td>Obstetrics/gynecology - total group contract</td><td>E.12.b.3.</td><td>as19util2</td><td>Number of physicians with privileges</td></tr>",
                            "<tr><td>1053</td><td>NEOB</td><td>N</td><td>8</td><td>5020</td><td>5027</td><td>Obstetrics/gynecology - not employed or under contract</td><td>E.12.b.4.</td><td>as19util2</td><td>Number of physicians with privileges</td></tr>",
                            "<tr><td>1061</td><td>TPOB</td><td>N</td><td>8</td><td>5084</td><td>5091</td><td>Obstetrics/gynecology - total privileged</td><td>E.12.b.5.</td><td>as19util2</td><td>Number of physicians with privileges</td></tr>",
                            "<tr><td>1142</td><td>SGYN</td><td>N</td><td>1</td><td>5467</td><td>5467</td><td>Gynecology - Outpatient services</td><td>F.1.a.10.</td><td>as19util2</td><td>1=yes</td></tr>",
                            "<tr><td>1143</td><td>SGYNOC</td><td>N</td><td>5</td><td>5468</td><td>5472</td><td>Gynecology - Number of on-campus sites</td><td>F.1.a.10.</td><td>as19util2</td><td>Number of on-campus sites</td></tr>",
                            "<tr><td>1144</td><td>SGYNOF</td><td>N</td><td>5</td><td>5473</td><td>5477</td><td>Gynecology - Number of off-campus sites</td><td>F.1.a.10.</td><td>as19util2</td><td>Number of off-campus sites</td></tr>",
                            "</table>"
                        ]
                    }
                }
            ],
            "execution_count": 1
        },
        {
            "cell_type": "code",
            "source": [
                "--Step 1: Select ID of OBGYN-Obstetric care Hospital Item No# 229\r\n",
                "select ID\r\n",
                "into #key_ID\r\n",
                "from [dbo].AS19SVC1\r\n",
                "where OBHOS=1;\r\n",
                "\r\n",
                "select top 10 *\r\n",
                "from #key_ID"
            ],
            "metadata": {
                "azdata_cell_guid": "37200237-093d-4790-ba53-44505081b954"
            },
            "outputs": [
                {
                    "output_type": "display_data",
                    "data": {
                        "text/html": "(2219 rows affected)"
                    },
                    "metadata": {}
                },
                {
                    "output_type": "display_data",
                    "data": {
                        "text/html": "(10 rows affected)"
                    },
                    "metadata": {}
                },
                {
                    "output_type": "display_data",
                    "data": {
                        "text/html": "Total execution time: 00:00:00.058"
                    },
                    "metadata": {}
                },
                {
                    "output_type": "execute_result",
                    "metadata": {},
                    "execution_count": 2,
                    "data": {
                        "application/vnd.dataresource+json": {
                            "schema": {
                                "fields": [
                                    {
                                        "name": "ID"
                                    }
                                ]
                            },
                            "data": [
                                {
                                    "0": "6040005"
                                },
                                {
                                    "0": "6110003"
                                },
                                {
                                    "0": "6110008"
                                },
                                {
                                    "0": "6110050"
                                },
                                {
                                    "0": "6110090"
                                },
                                {
                                    "0": "6110120"
                                },
                                {
                                    "0": "6110167"
                                },
                                {
                                    "0": "6110200"
                                },
                                {
                                    "0": "6110240"
                                },
                                {
                                    "0": "6110280"
                                }
                            ]
                        },
                        "text/html": [
                            "<table>",
                            "<tr><th>ID</th></tr>",
                            "<tr><td>6040005</td></tr>",
                            "<tr><td>6110003</td></tr>",
                            "<tr><td>6110008</td></tr>",
                            "<tr><td>6110050</td></tr>",
                            "<tr><td>6110090</td></tr>",
                            "<tr><td>6110120</td></tr>",
                            "<tr><td>6110167</td></tr>",
                            "<tr><td>6110200</td></tr>",
                            "<tr><td>6110240</td></tr>",
                            "<tr><td>6110280</td></tr>",
                            "</table>"
                        ]
                    }
                }
            ],
            "execution_count": 2
        },
        {
            "cell_type": "code",
            "source": [
                "--Step 2:Find target population of interest for these services\r\n",
                "--women age 15 to 54 and over (B01001e30-->B01001e40) and put into temp table #pop\r\n",
                "select GEOID_Data,\r\n",
                "\t B01001e30+B01001e31+B01001e32+B01001e33+B01001e34\r\n",
                "\t+B01001e35+B01001e36+B01001e37+B01001e38+B01001e39+B01001e40\r\n",
                "\t AS pop15plus\r\n",
                "into #pop\r\n",
                "from [dbo].[Census_ACS5Yr_2018]\r\n",
                "order by GEOID_Data;\r\n",
                "\r\n",
                "select top 10 *\r\n",
                "from #pop"
            ],
            "metadata": {
                "azdata_cell_guid": "4407391b-6cb8-4ec6-acb0-a437f6d458ff"
            },
            "outputs": [
                {
                    "output_type": "display_data",
                    "data": {
                        "text/html": "(74001 rows affected)"
                    },
                    "metadata": {}
                },
                {
                    "output_type": "display_data",
                    "data": {
                        "text/html": "(10 rows affected)"
                    },
                    "metadata": {}
                },
                {
                    "output_type": "display_data",
                    "data": {
                        "text/html": "Total execution time: 00:00:00.148"
                    },
                    "metadata": {}
                },
                {
                    "output_type": "execute_result",
                    "metadata": {},
                    "execution_count": 3,
                    "data": {
                        "application/vnd.dataresource+json": {
                            "schema": {
                                "fields": [
                                    {
                                        "name": "GEOID_Data"
                                    },
                                    {
                                        "name": "pop15plus"
                                    }
                                ]
                            },
                            "data": [
                                {
                                    "0": "14000US01097001001",
                                    "1": "530.00000000"
                                },
                                {
                                    "0": "14000US01097001002",
                                    "1": "541.00000000"
                                },
                                {
                                    "0": "14000US01097001100",
                                    "1": "458.00000000"
                                },
                                {
                                    "0": "14000US01097001200",
                                    "1": "746.00000000"
                                },
                                {
                                    "0": "14000US01097001302",
                                    "1": "597.00000000"
                                },
                                {
                                    "0": "14000US01097001400",
                                    "1": "342.00000000"
                                },
                                {
                                    "0": "14000US01097001501",
                                    "1": "428.00000000"
                                },
                                {
                                    "0": "14000US01097001502",
                                    "1": "418.00000000"
                                },
                                {
                                    "0": "14000US01097001800",
                                    "1": "790.00000000"
                                },
                                {
                                    "0": "14000US01097001901",
                                    "1": "548.00000000"
                                }
                            ]
                        },
                        "text/html": [
                            "<table>",
                            "<tr><th>GEOID_Data</th><th>pop15plus</th></tr>",
                            "<tr><td>14000US01097001001</td><td>530.00000000</td></tr>",
                            "<tr><td>14000US01097001002</td><td>541.00000000</td></tr>",
                            "<tr><td>14000US01097001100</td><td>458.00000000</td></tr>",
                            "<tr><td>14000US01097001200</td><td>746.00000000</td></tr>",
                            "<tr><td>14000US01097001302</td><td>597.00000000</td></tr>",
                            "<tr><td>14000US01097001400</td><td>342.00000000</td></tr>",
                            "<tr><td>14000US01097001501</td><td>428.00000000</td></tr>",
                            "<tr><td>14000US01097001502</td><td>418.00000000</td></tr>",
                            "<tr><td>14000US01097001800</td><td>790.00000000</td></tr>",
                            "<tr><td>14000US01097001901</td><td>548.00000000</td></tr>",
                            "</table>"
                        ]
                    }
                }
            ],
            "execution_count": 3
        },
        {
            "cell_type": "code",
            "source": [
                "--Step 3: Ranking and Sorting ADI into integrers for our table \r\n",
                "select [GEOID_Data],[State_Name],[HRSA_RURAL],\r\n",
                "case when [Median_ADI_NatRank]<=15 then 2\r\n",
                "     when ([Median_ADI_NatRank]>15 and [Median_ADI_NatRank]<=75) then 1\r\n",
                "\t when [Median_ADI_NatRank]>85 then 0\r\n",
                "\t else 99 end as [ADI]\r\n",
                "into #characteristic\r\n",
                "from [dbo].[US_Census_Tract_Charac]\r\n",
                "\r\n",
                "select top 10 *\r\n",
                "from #characteristic"
            ],
            "metadata": {
                "azdata_cell_guid": "ad6e9185-99dc-41e3-a89c-544ca0c4dc4c"
            },
            "outputs": [
                {
                    "output_type": "display_data",
                    "data": {
                        "text/html": "(74001 rows affected)"
                    },
                    "metadata": {}
                },
                {
                    "output_type": "display_data",
                    "data": {
                        "text/html": "(10 rows affected)"
                    },
                    "metadata": {}
                },
                {
                    "output_type": "display_data",
                    "data": {
                        "text/html": "Total execution time: 00:00:00.129"
                    },
                    "metadata": {}
                },
                {
                    "output_type": "execute_result",
                    "metadata": {},
                    "execution_count": 4,
                    "data": {
                        "application/vnd.dataresource+json": {
                            "schema": {
                                "fields": [
                                    {
                                        "name": "GEOID_Data"
                                    },
                                    {
                                        "name": "State_Name"
                                    },
                                    {
                                        "name": "HRSA_RURAL"
                                    },
                                    {
                                        "name": "ADI"
                                    }
                                ]
                            },
                            "data": [
                                {
                                    "0": "14000US06037462002",
                                    "1": "California",
                                    "2": "0",
                                    "3": "1"
                                },
                                {
                                    "0": "14000US06037462100",
                                    "1": "California",
                                    "2": "0",
                                    "3": "1"
                                },
                                {
                                    "0": "14000US06037462201",
                                    "1": "California",
                                    "2": "0",
                                    "3": "1"
                                },
                                {
                                    "0": "14000US06037462202",
                                    "1": "California",
                                    "2": "0",
                                    "3": "1"
                                },
                                {
                                    "0": "14000US06037462301",
                                    "1": "California",
                                    "2": "0",
                                    "3": "1"
                                },
                                {
                                    "0": "14000US06037462302",
                                    "1": "California",
                                    "2": "0",
                                    "3": "2"
                                },
                                {
                                    "0": "14000US06037462400",
                                    "1": "California",
                                    "2": "0",
                                    "3": "2"
                                },
                                {
                                    "0": "14000US06037462500",
                                    "1": "California",
                                    "2": "0",
                                    "3": "2"
                                },
                                {
                                    "0": "14000US06037462600",
                                    "1": "California",
                                    "2": "0",
                                    "3": "2"
                                },
                                {
                                    "0": "14000US06037462700",
                                    "1": "California",
                                    "2": "0",
                                    "3": "2"
                                }
                            ]
                        },
                        "text/html": [
                            "<table>",
                            "<tr><th>GEOID_Data</th><th>State_Name</th><th>HRSA_RURAL</th><th>ADI</th></tr>",
                            "<tr><td>14000US06037462002</td><td>California</td><td>0</td><td>1</td></tr>",
                            "<tr><td>14000US06037462100</td><td>California</td><td>0</td><td>1</td></tr>",
                            "<tr><td>14000US06037462201</td><td>California</td><td>0</td><td>1</td></tr>",
                            "<tr><td>14000US06037462202</td><td>California</td><td>0</td><td>1</td></tr>",
                            "<tr><td>14000US06037462301</td><td>California</td><td>0</td><td>1</td></tr>",
                            "<tr><td>14000US06037462302</td><td>California</td><td>0</td><td>2</td></tr>",
                            "<tr><td>14000US06037462400</td><td>California</td><td>0</td><td>2</td></tr>",
                            "<tr><td>14000US06037462500</td><td>California</td><td>0</td><td>2</td></tr>",
                            "<tr><td>14000US06037462600</td><td>California</td><td>0</td><td>2</td></tr>",
                            "<tr><td>14000US06037462700</td><td>California</td><td>0</td><td>2</td></tr>",
                            "</table>"
                        ]
                    }
                }
            ],
            "execution_count": 4
        },
        {
            "cell_type": "code",
            "source": [
                "--Step 4: Build Matrix (hospital travel time: having access is a hospital within 30 min of travel time)\r\n",
                "select GEOID_Data, count(distinct Provider_ID) as hospitals_win_30min, min([Total_TravelTime]) \r\n",
                "as closest_ob_hospital\r\n",
                "into #key_table\r\n",
                "from\r\n",
                "(\r\n",
                "select A.*, B.pop15plus\r\n",
                "FROM [HCAN361_FinalProj].[dbo].[Travel_Matrix] as A\r\n",
                "left join #pop as B on A.GEOID_Data=B.GEOID_Data\r\n",
                "where Provider_ID in (select ID from #key_ID)\r\n",
                "and Total_TravelTime<=30\r\n",
                ") as A\r\n",
                "group by GEOID_Data\r\n",
                "order by GEOID_Data;\r\n",
                "\r\n",
                "select top 10 *\r\n",
                "from #key_table"
            ],
            "metadata": {
                "azdata_cell_guid": "484eb1c6-9e17-43ee-ba2c-dad0fa09149a"
            },
            "outputs": [
                {
                    "output_type": "display_data",
                    "data": {
                        "text/html": "(63611 rows affected)"
                    },
                    "metadata": {}
                },
                {
                    "output_type": "display_data",
                    "data": {
                        "text/html": "(10 rows affected)"
                    },
                    "metadata": {}
                },
                {
                    "output_type": "display_data",
                    "data": {
                        "text/html": "Total execution time: 00:00:03.914"
                    },
                    "metadata": {}
                },
                {
                    "output_type": "execute_result",
                    "metadata": {},
                    "execution_count": 5,
                    "data": {
                        "application/vnd.dataresource+json": {
                            "schema": {
                                "fields": [
                                    {
                                        "name": "GEOID_Data"
                                    },
                                    {
                                        "name": "hospitals_win_30min"
                                    },
                                    {
                                        "name": "closest_ob_hospital"
                                    }
                                ]
                            },
                            "data": [
                                {
                                    "0": "14000US17031836100",
                                    "1": "12",
                                    "2": "5.148786175924159"
                                },
                                {
                                    "0": "14000US12057013804",
                                    "1": "1",
                                    "2": "24.866727259596342"
                                },
                                {
                                    "0": "14000US06059063805",
                                    "1": "9",
                                    "2": "9.198925848038602"
                                },
                                {
                                    "0": "14000US13139001606",
                                    "1": "3",
                                    "2": "18.69219221655334"
                                },
                                {
                                    "0": "14000US12086003921",
                                    "1": "3",
                                    "2": "11.904926749992256"
                                },
                                {
                                    "0": "14000US48201253100",
                                    "1": "2",
                                    "2": "9.558551959177986"
                                },
                                {
                                    "0": "14000US24033803610",
                                    "1": "6",
                                    "2": "9.35275904056845"
                                },
                                {
                                    "0": "14000US06067009403",
                                    "1": "5",
                                    "2": "18.997288770500415"
                                },
                                {
                                    "0": "14000US06107001901",
                                    "1": "1",
                                    "2": "6.424790490756051"
                                },
                                {
                                    "0": "14000US53061053509",
                                    "1": "1",
                                    "2": "20.303316236027765"
                                }
                            ]
                        },
                        "text/html": [
                            "<table>",
                            "<tr><th>GEOID_Data</th><th>hospitals_win_30min</th><th>closest_ob_hospital</th></tr>",
                            "<tr><td>14000US17031836100</td><td>12</td><td>5.148786175924159</td></tr>",
                            "<tr><td>14000US12057013804</td><td>1</td><td>24.866727259596342</td></tr>",
                            "<tr><td>14000US06059063805</td><td>9</td><td>9.198925848038602</td></tr>",
                            "<tr><td>14000US13139001606</td><td>3</td><td>18.69219221655334</td></tr>",
                            "<tr><td>14000US12086003921</td><td>3</td><td>11.904926749992256</td></tr>",
                            "<tr><td>14000US48201253100</td><td>2</td><td>9.558551959177986</td></tr>",
                            "<tr><td>14000US24033803610</td><td>6</td><td>9.35275904056845</td></tr>",
                            "<tr><td>14000US06067009403</td><td>5</td><td>18.997288770500415</td></tr>",
                            "<tr><td>14000US06107001901</td><td>1</td><td>6.424790490756051</td></tr>",
                            "<tr><td>14000US53061053509</td><td>1</td><td>20.303316236027765</td></tr>",
                            "</table>"
                        ]
                    }
                }
            ],
            "execution_count": 5
        },
        {
            "cell_type": "code",
            "source": [
                "--Step 5: Final Table which joins our key table with our characteristic table \r\n",
                "select  a.GEOID_Data\r\n",
                "      , c.State_Name\r\n",
                "\t  , c.ADI\r\n",
                "\t  , c.HRSA_RURAL\r\n",
                "\t  , a.pop15plus\r\n",
                "      , isnull(b.hospitals_win_30min,0) as  hospitals_win_30min\r\n",
                "\t  , isnull(b.closest_ob_hospital,361) as closest_ob_hospital \r\n",
                "into [HCAN361_25].[dbo].[finalMap_Group4]\r\n",
                "from #pop as a\r\n",
                "left join #key_table as b on A.GEOID_Data=B.GEOID_Data\r\n",
                "left join #characteristic as c on A.GEOID_Data=C.GEOID_Data;\r\n",
                "\r\n",
                "alter table [HCAN361_25].[dbo].[finalMap_Group4]\r\n",
                "alter column GEOID_Data varchar(30) not null;\r\n",
                "\r\n",
                "alter table [HCAN361_25].[dbo].[finalMap_Group4]\r\n",
                "add constraint pk_Grp4_map primary key (GEOID_Data);\r\n",
                "\r\n",
                "select top 10 *\r\n",
                "from [HCAN361_25].[dbo].[finalMap_Group4]"
            ],
            "metadata": {
                "azdata_cell_guid": "0921c9d2-7875-4a2f-9c23-e62a9a1b77f5"
            },
            "outputs": [
                {
                    "output_type": "display_data",
                    "data": {
                        "text/html": "(74001 rows affected)"
                    },
                    "metadata": {}
                },
                {
                    "output_type": "display_data",
                    "data": {
                        "text/html": "(10 rows affected)"
                    },
                    "metadata": {}
                },
                {
                    "output_type": "display_data",
                    "data": {
                        "text/html": "Total execution time: 00:00:02.209"
                    },
                    "metadata": {}
                },
                {
                    "output_type": "execute_result",
                    "metadata": {},
                    "execution_count": 6,
                    "data": {
                        "application/vnd.dataresource+json": {
                            "schema": {
                                "fields": [
                                    {
                                        "name": "GEOID_Data"
                                    },
                                    {
                                        "name": "State_Name"
                                    },
                                    {
                                        "name": "ADI"
                                    },
                                    {
                                        "name": "HRSA_RURAL"
                                    },
                                    {
                                        "name": "pop15plus"
                                    },
                                    {
                                        "name": "hospitals_win_30min"
                                    },
                                    {
                                        "name": "closest_ob_hospital"
                                    }
                                ]
                            },
                            "data": [
                                {
                                    "0": "14000US01001020100",
                                    "1": "Alabama",
                                    "2": "1",
                                    "3": "0",
                                    "4": "512.00000000",
                                    "5": "1",
                                    "6": "25.957991285000737"
                                },
                                {
                                    "0": "14000US01001020200",
                                    "1": "Alabama",
                                    "2": "1",
                                    "3": "0",
                                    "4": "520.00000000",
                                    "5": "1",
                                    "6": "25.405170626841795"
                                },
                                {
                                    "0": "14000US01001020300",
                                    "1": "Alabama",
                                    "2": "1",
                                    "3": "0",
                                    "4": "928.00000000",
                                    "5": "2",
                                    "6": "21.55145796874138"
                                },
                                {
                                    "0": "14000US01001020400",
                                    "1": "Alabama",
                                    "2": "1",
                                    "3": "0",
                                    "4": "878.00000000",
                                    "5": "2",
                                    "6": "19.68035044606142"
                                },
                                {
                                    "0": "14000US01001020500",
                                    "1": "Alabama",
                                    "2": "1",
                                    "3": "0",
                                    "4": "2637.00000000",
                                    "5": "2",
                                    "6": "17.671510736752616"
                                },
                                {
                                    "0": "14000US01001020600",
                                    "1": "Alabama",
                                    "2": "1",
                                    "3": "0",
                                    "4": "1030.00000000",
                                    "5": "2",
                                    "6": "20.94884137264777"
                                },
                                {
                                    "0": "14000US01001020700",
                                    "1": "Alabama",
                                    "2": "1",
                                    "3": "0",
                                    "4": "1268.00000000",
                                    "5": "2",
                                    "6": "18.26627435869834"
                                },
                                {
                                    "0": "14000US01001020801",
                                    "1": "Alabama",
                                    "2": "1",
                                    "3": "0",
                                    "4": "679.00000000",
                                    "5": "1",
                                    "6": "26.427979775217487"
                                },
                                {
                                    "0": "14000US01001020802",
                                    "1": "Alabama",
                                    "2": "1",
                                    "3": "0",
                                    "4": "3372.00000000",
                                    "5": "1",
                                    "6": "24.944714472723007"
                                },
                                {
                                    "0": "14000US01001020900",
                                    "1": "Alabama",
                                    "2": "1",
                                    "3": "0",
                                    "4": "1624.00000000",
                                    "5": "0",
                                    "6": "361"
                                }
                            ]
                        },
                        "text/html": [
                            "<table>",
                            "<tr><th>GEOID_Data</th><th>State_Name</th><th>ADI</th><th>HRSA_RURAL</th><th>pop15plus</th><th>hospitals_win_30min</th><th>closest_ob_hospital</th></tr>",
                            "<tr><td>14000US01001020100</td><td>Alabama</td><td>1</td><td>0</td><td>512.00000000</td><td>1</td><td>25.957991285000737</td></tr>",
                            "<tr><td>14000US01001020200</td><td>Alabama</td><td>1</td><td>0</td><td>520.00000000</td><td>1</td><td>25.405170626841795</td></tr>",
                            "<tr><td>14000US01001020300</td><td>Alabama</td><td>1</td><td>0</td><td>928.00000000</td><td>2</td><td>21.55145796874138</td></tr>",
                            "<tr><td>14000US01001020400</td><td>Alabama</td><td>1</td><td>0</td><td>878.00000000</td><td>2</td><td>19.68035044606142</td></tr>",
                            "<tr><td>14000US01001020500</td><td>Alabama</td><td>1</td><td>0</td><td>2637.00000000</td><td>2</td><td>17.671510736752616</td></tr>",
                            "<tr><td>14000US01001020600</td><td>Alabama</td><td>1</td><td>0</td><td>1030.00000000</td><td>2</td><td>20.94884137264777</td></tr>",
                            "<tr><td>14000US01001020700</td><td>Alabama</td><td>1</td><td>0</td><td>1268.00000000</td><td>2</td><td>18.26627435869834</td></tr>",
                            "<tr><td>14000US01001020801</td><td>Alabama</td><td>1</td><td>0</td><td>679.00000000</td><td>1</td><td>26.427979775217487</td></tr>",
                            "<tr><td>14000US01001020802</td><td>Alabama</td><td>1</td><td>0</td><td>3372.00000000</td><td>1</td><td>24.944714472723007</td></tr>",
                            "<tr><td>14000US01001020900</td><td>Alabama</td><td>1</td><td>0</td><td>1624.00000000</td><td>0</td><td>361</td></tr>",
                            "</table>"
                        ]
                    }
                }
            ],
            "execution_count": 6
        },
        {
            "cell_type": "code",
            "source": [
                "--Step 6: Build lat/long point level hospital location table\r\n",
                "SELECT ID, cast(LAT as float) as LAT, cast(LONG as float) as LONG, MNAME\r\n",
                "INTO [HCAN361_25].[dbo].[provider_Loc_Group4]\r\n",
                "FROM dbo.AS19DEM\r\n",
                "WHERE ID IN (SELECT ID FROM [dbo].AS19SVC1 where OBHOS='1');\r\n",
                "\r\n",
                "alter table [HCAN361_25].[dbo].[provider_Loc_Group4]\r\n",
                "alter column ID varchar(30) not null;\r\n",
                "\r\n",
                "alter table [HCAN361_25].[dbo].[provider_Loc_Group4]\r\n",
                "add constraint pk_Grp4_provLoc primary key (ID);\r\n",
                "\r\n",
                "select top 10 *\r\n",
                "from [HCAN361_25].[dbo].[provider_Loc_Group4]"
            ],
            "metadata": {
                "azdata_cell_guid": "39e24495-2669-41a2-829a-295a133ebf5d",
                "tags": []
            },
            "outputs": [
                {
                    "output_type": "display_data",
                    "data": {
                        "text/html": "(2219 rows affected)"
                    },
                    "metadata": {}
                },
                {
                    "output_type": "display_data",
                    "data": {
                        "text/html": "(10 rows affected)"
                    },
                    "metadata": {}
                },
                {
                    "output_type": "display_data",
                    "data": {
                        "text/html": "Total execution time: 00:00:00.253"
                    },
                    "metadata": {}
                },
                {
                    "output_type": "execute_result",
                    "metadata": {},
                    "execution_count": 7,
                    "data": {
                        "application/vnd.dataresource+json": {
                            "schema": {
                                "fields": [
                                    {
                                        "name": "ID"
                                    },
                                    {
                                        "name": "LAT"
                                    },
                                    {
                                        "name": "LONG"
                                    },
                                    {
                                        "name": "MNAME"
                                    }
                                ]
                            },
                            "data": [
                                {
                                    "0": "6040005",
                                    "1": "18.4553",
                                    "2": "-67.1319",
                                    "3": "Hospital Buen Samaritano"
                                },
                                {
                                    "0": "6110003",
                                    "1": "43.906",
                                    "2": "-69.8904",
                                    "3": "Mid Coast Hospital"
                                },
                                {
                                    "0": "6110008",
                                    "1": "43.6514",
                                    "2": "-70.2649",
                                    "3": "Northern Light Mercy Hospital"
                                },
                                {
                                    "0": "6110050",
                                    "1": "44.8074",
                                    "2": "-68.7526",
                                    "3": "Northern Light Eastern Maine Medical Center"
                                },
                                {
                                    "0": "6110090",
                                    "1": "44.385",
                                    "2": "-68.2022",
                                    "3": "Mount Desert Island Hospital"
                                },
                                {
                                    "0": "6110120",
                                    "1": "44.4122",
                                    "2": "-68.9939",
                                    "3": "Waldo County General Hospital"
                                },
                                {
                                    "0": "6110167",
                                    "1": "44.0467",
                                    "2": "-70.7141",
                                    "3": "Bridgton Hospital"
                                },
                                {
                                    "0": "6110200",
                                    "1": "46.8797",
                                    "2": "-68.0083",
                                    "3": "Cary Medical Center"
                                },
                                {
                                    "0": "6110240",
                                    "1": "45.1877",
                                    "2": "-69.2379",
                                    "3": "Northern Light Mayo Hospital"
                                },
                                {
                                    "0": "6110280",
                                    "1": "44.6265",
                                    "2": "-70.163",
                                    "3": "Franklin Memorial Hospital"
                                }
                            ]
                        },
                        "text/html": [
                            "<table>",
                            "<tr><th>ID</th><th>LAT</th><th>LONG</th><th>MNAME</th></tr>",
                            "<tr><td>6040005</td><td>18.4553</td><td>-67.1319</td><td>Hospital Buen Samaritano</td></tr>",
                            "<tr><td>6110003</td><td>43.906</td><td>-69.8904</td><td>Mid Coast Hospital</td></tr>",
                            "<tr><td>6110008</td><td>43.6514</td><td>-70.2649</td><td>Northern Light Mercy Hospital</td></tr>",
                            "<tr><td>6110050</td><td>44.8074</td><td>-68.7526</td><td>Northern Light Eastern Maine Medical Center</td></tr>",
                            "<tr><td>6110090</td><td>44.385</td><td>-68.2022</td><td>Mount Desert Island Hospital</td></tr>",
                            "<tr><td>6110120</td><td>44.4122</td><td>-68.9939</td><td>Waldo County General Hospital</td></tr>",
                            "<tr><td>6110167</td><td>44.0467</td><td>-70.7141</td><td>Bridgton Hospital</td></tr>",
                            "<tr><td>6110200</td><td>46.8797</td><td>-68.0083</td><td>Cary Medical Center</td></tr>",
                            "<tr><td>6110240</td><td>45.1877</td><td>-69.2379</td><td>Northern Light Mayo Hospital</td></tr>",
                            "<tr><td>6110280</td><td>44.6265</td><td>-70.163</td><td>Franklin Memorial Hospital</td></tr>",
                            "</table>"
                        ]
                    }
                }
            ],
            "execution_count": 7
        },
        {
            "cell_type": "code",
            "source": [
                "--Step 7: Create Tables  \r\n",
                "--Table 1: Median Number of Facilities by Attributes\r\n",
                "select *\r\n",
                "from\r\n",
                "(\r\n",
                "select distinct \r\n",
                "'United States' as State_Name\r\n",
                ",PERCENTILE_CONT(0.5) WITHIN GROUP (ORDER BY hospitals_win_30min)OVER () AS Statewide   \r\n",
                ",PERCENTILE_CONT(0.5) WITHIN GROUP (ORDER BY case when HRSA_RURAL=0 then hospitals_win_30min end) OVER () AS Urban\r\n",
                ",PERCENTILE_CONT(0.5) WITHIN GROUP (ORDER BY case when HRSA_RURAL=1 then hospitals_win_30min end) OVER () AS Rural\r\n",
                ",PERCENTILE_CONT(0.5) WITHIN GROUP (ORDER BY case when ADI=2 then hospitals_win_30min end) OVER () AS [High Class]\r\n",
                ",PERCENTILE_CONT(0.5) WITHIN GROUP (ORDER BY case when ADI=1 then hospitals_win_30min end) OVER () AS [Middle Class]\r\n",
                ",PERCENTILE_CONT(0.5) WITHIN GROUP (ORDER BY case when ADI=0 then hospitals_win_30min end) OVER () AS [Low Class]\r\n",
                "from [HCAN361_21].[dbo].[finalMap]\r\n",
                "\r\n",
                "--below code concatenates\r\n",
                "union all\r\n",
                "\r\n",
                "select distinct\r\n",
                " State_Name\r\n",
                ",PERCENTILE_CONT(0.5) WITHIN GROUP (ORDER BY hospitals_win_30min)OVER (PARTITION BY State_Name) AS Statewide   \r\n",
                ",PERCENTILE_CONT(0.5) WITHIN GROUP (ORDER BY case when HRSA_RURAL=0 then hospitals_win_30min end) OVER (PARTITION BY State_Name) AS Urban\r\n",
                ",PERCENTILE_CONT(0.5) WITHIN GROUP (ORDER BY case when HRSA_RURAL=1 then hospitals_win_30min end) OVER (PARTITION BY State_Name) AS Rural\r\n",
                ",PERCENTILE_CONT(0.5) WITHIN GROUP (ORDER BY case when ADI=2 then hospitals_win_30min end) OVER (PARTITION BY State_Name) AS [High Class]\r\n",
                ",PERCENTILE_CONT(0.5) WITHIN GROUP (ORDER BY case when ADI=1 then hospitals_win_30min end) OVER (PARTITION BY State_Name) AS [Middle Class]\r\n",
                ",PERCENTILE_CONT(0.5) WITHIN GROUP (ORDER BY case when ADI=0 then hospitals_win_30min end) OVER (PARTITION BY State_Name) AS [Low Class]\r\n",
                "from [HCAN361_21].[dbo].[finalMap]\r\n",
                "where State_Name in ('Alabama','New York','California')\r\n",
                "\r\n",
                ") as A\r\n",
                "order by State_Name;"
            ],
            "metadata": {
                "azdata_cell_guid": "70c1ab9e-51d4-4dc2-a65d-4a02e8c85588"
            },
            "outputs": [
                {
                    "output_type": "display_data",
                    "data": {
                        "text/html": "(4 rows affected)"
                    },
                    "metadata": {}
                },
                {
                    "output_type": "display_data",
                    "data": {
                        "text/html": "Total execution time: 00:00:03.443"
                    },
                    "metadata": {}
                },
                {
                    "output_type": "execute_result",
                    "metadata": {},
                    "execution_count": 8,
                    "data": {
                        "application/vnd.dataresource+json": {
                            "schema": {
                                "fields": [
                                    {
                                        "name": "State_Name"
                                    },
                                    {
                                        "name": "Statewide"
                                    },
                                    {
                                        "name": "Urban"
                                    },
                                    {
                                        "name": "Rural"
                                    },
                                    {
                                        "name": "High Class"
                                    },
                                    {
                                        "name": "Middle Class"
                                    },
                                    {
                                        "name": "Low Class"
                                    }
                                ]
                            },
                            "data": [
                                {
                                    "0": "Alabama",
                                    "1": "1",
                                    "2": "2",
                                    "3": "0",
                                    "4": "3",
                                    "5": "1",
                                    "6": "1"
                                },
                                {
                                    "0": "California",
                                    "1": "6",
                                    "2": "6",
                                    "3": "0",
                                    "4": "6",
                                    "5": "6",
                                    "6": "7"
                                },
                                {
                                    "0": "New York",
                                    "1": "6",
                                    "2": "7",
                                    "3": "1",
                                    "4": "9",
                                    "5": "3",
                                    "6": "11"
                                },
                                {
                                    "0": "United States",
                                    "1": "3",
                                    "2": "4",
                                    "3": "1",
                                    "4": "6",
                                    "5": "3",
                                    "6": "3"
                                }
                            ]
                        },
                        "text/html": [
                            "<table>",
                            "<tr><th>State_Name</th><th>Statewide</th><th>Urban</th><th>Rural</th><th>High Class</th><th>Middle Class</th><th>Low Class</th></tr>",
                            "<tr><td>Alabama</td><td>1</td><td>2</td><td>0</td><td>3</td><td>1</td><td>1</td></tr>",
                            "<tr><td>California</td><td>6</td><td>6</td><td>0</td><td>6</td><td>6</td><td>7</td></tr>",
                            "<tr><td>New York</td><td>6</td><td>7</td><td>1</td><td>9</td><td>3</td><td>11</td></tr>",
                            "<tr><td>United States</td><td>3</td><td>4</td><td>1</td><td>6</td><td>3</td><td>3</td></tr>",
                            "</table>"
                        ]
                    }
                }
            ],
            "execution_count": 8
        },
        {
            "cell_type": "code",
            "source": [
                "--Step 8: Create Tables  \r\n",
                "--Table 2: Median Travel Time to Closest Facility by Attributes\r\n",
                "select *\r\n",
                "from\r\n",
                "(\r\n",
                "select distinct \r\n",
                "'United States' as State_Name\r\n",
                ",PERCENTILE_CONT(0.5) WITHIN GROUP (ORDER BY closest_ob_hospital)OVER () AS Statewide   \r\n",
                ",PERCENTILE_CONT(0.5) WITHIN GROUP (ORDER BY case when HRSA_RURAL=0 then closest_ob_hospital end) OVER () AS Urban\r\n",
                ",PERCENTILE_CONT(0.5) WITHIN GROUP (ORDER BY case when HRSA_RURAL=1 then closest_ob_hospital end) OVER () AS Rural\r\n",
                ",PERCENTILE_CONT(0.5) WITHIN GROUP (ORDER BY case when ADI=2 then closest_ob_hospital end) OVER () AS [High Class]\r\n",
                ",PERCENTILE_CONT(0.5) WITHIN GROUP (ORDER BY case when ADI=1 then closest_ob_hospital end) OVER () AS [Middle Class]\r\n",
                ",PERCENTILE_CONT(0.5) WITHIN GROUP (ORDER BY case when ADI=0 then closest_ob_hospital end) OVER () AS [Low Class]\r\n",
                "from [HCAN361_21].[dbo].[finalMap]\r\n",
                "\r\n",
                "--below code concatenates\r\n",
                "union all\r\n",
                "\r\n",
                "select distinct\r\n",
                " State_Name\r\n",
                ",PERCENTILE_CONT(0.5) WITHIN GROUP (ORDER BY closest_ob_hospital)OVER (PARTITION BY State_Name) AS Statewide   \r\n",
                ",PERCENTILE_CONT(0.5) WITHIN GROUP (ORDER BY case when HRSA_RURAL=0 then closest_ob_hospital end) OVER (PARTITION BY State_Name) AS Urban\r\n",
                ",PERCENTILE_CONT(0.5) WITHIN GROUP (ORDER BY case when HRSA_RURAL=1 then closest_ob_hospital end) OVER (PARTITION BY State_Name) AS Rural\r\n",
                ",PERCENTILE_CONT(0.5) WITHIN GROUP (ORDER BY case when ADI=2 then closest_ob_hospital end) OVER (PARTITION BY State_Name) AS [High Class]\r\n",
                ",PERCENTILE_CONT(0.5) WITHIN GROUP (ORDER BY case when ADI=1 then closest_ob_hospital end) OVER (PARTITION BY State_Name) AS [Middle Class]\r\n",
                ",PERCENTILE_CONT(0.5) WITHIN GROUP (ORDER BY case when ADI=0 then closest_ob_hospital end) OVER (PARTITION BY State_Name) AS [Low Class]\r\n",
                "from [HCAN361_21].[dbo].[finalMap]\r\n",
                "where State_Name in ('Alabama','New York','California')\r\n",
                "\r\n",
                ") as A\r\n",
                "order by State_Name;"
            ],
            "metadata": {
                "azdata_cell_guid": "eaa60689-8c54-476b-9212-a201ffb0f53c"
            },
            "outputs": [
{
    "output_type": "display_data",
    "data": {
        "text/html": "(4 rows affected)"
    },
    "metadata": {}
}, {
    "output_type": "display_data",
    "data": {
        "text/html": "Total execution time: 00:00:03.718"
    },
    "metadata": {}
}, {
    "output_type": "execute_result",
    "metadata": {},
    "execution_count": 9,
    "data": {
        "application/vnd.dataresource+json": {
            "schema": {
                "fields": [
                    {
                        "name": "State_Name"
                    },
                    {
                        "name": "Statewide"
                    },
                    {
                        "name": "Urban"
                    },
                    {
                        "name": "Rural"
                    },
                    {
                        "name": "High Class"
                    },
                    {
                        "name": "Middle Class"
                    },
                    {
                        "name": "Low Class"
                    }
                ]
            },
            "data": [
                {
                    "0": "Alabama",
                    "1": "18.7361998433624",
                    "2": "14.786833410931235",
                    "3": "361",
                    "4": "12.045710895580434",
                    "5": "18.23679001827328",
                    "6": "13.246745839328934"
                },
                {
                    "0": "California",
                    "1": "10.637444469867773",
                    "2": "10.272895188291322",
                    "3": "361",
                    "4": "10.564982038956664",
                    "5": "10.718867517900343",
                    "6": "8.62388496698154"
                },
                {
                    "0": "New York",
                    "1": "10.934336788049656",
                    "2": "10.407003822880869",
                    "3": "24.857320437051918",
                    "4": "10.282233472270603",
                    "5": "13.269632973845264",
                    "6": "7.067581392814598"
                },
                {
                    "0": "United States",
                    "1": "12.825890441898753",
                    "2": "11.657927876395092",
                    "3": "26.407661602629716",
                    "4": "11.344064671908352",
                    "5": "13.453609743744188",
                    "6": "10.350400744253776"
                }
            ]
        },
        "text/html": [
            "<table>",
            "<tr><th>State_Name</th><th>Statewide</th><th>Urban</th><th>Rural</th><th>High Class</th><th>Middle Class</th><th>Low Class</th></tr>",
            "<tr><td>Alabama</td><td>18.7361998433624</td><td>14.786833410931235</td><td>361</td><td>12.045710895580434</td><td>18.23679001827328</td><td>13.246745839328934</td></tr>",
            "<tr><td>California</td><td>10.637444469867773</td><td>10.272895188291322</td><td>361</td><td>10.564982038956664</td><td>10.718867517900343</td><td>8.62388496698154</td></tr>",
            "<tr><td>New York</td><td>10.934336788049656</td><td>10.407003822880869</td><td>24.857320437051918</td><td>10.282233472270603</td><td>13.269632973845264</td><td>7.067581392814598</td></tr>",
            "<tr><td>United States</td><td>12.825890441898753</td><td>11.657927876395092</td><td>26.407661602629716</td><td>11.344064671908352</td><td>13.453609743744188</td><td>10.350400744253776</td></tr>",
            "</table>"
        ]
    }
}
],
            "execution_count": null
        }
    ]
}